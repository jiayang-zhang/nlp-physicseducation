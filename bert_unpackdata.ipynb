{
 "cells": [
  {
   "cell_type": "code",
   "execution_count": null,
   "metadata": {},
   "outputs": [
    {
     "ename": "",
     "evalue": "",
     "output_type": "error",
     "traceback": [
      "\u001b[1;31mFailed to start the Kernel. \n",
      "\u001b[1;31mPython extension is not exporting the jupyter API. \n",
      "\u001b[1;31mView Jupyter <a href='command:jupyter.viewOutput'>log</a> for further details."
     ]
    }
   ],
   "source": [
    "import pandas as pd\n",
    "import numpy as np\n",
    "import matplotlib.pyplot as plt\n",
    "plt.style.use(['science','ieee','no-latex'])"
   ]
  },
  {
   "cell_type": "code",
   "execution_count": null,
   "metadata": {},
   "outputs": [],
   "source": [
    "# Unpack Argument Level data\n",
    "\n",
    "# ****Path****\n",
    "fldr = 'bert_argumentlevel/year1year2' \n",
    "\n",
    "\n",
    "# ****Classifier Parameters****\n",
    "# set epochs\n",
    "epochs = 4\n",
    "# set batch size\n",
    "batch_size = 16\n",
    "# set random seed\n",
    "seed_val = 42\n",
    "# set learnning rate\n",
    "lr = 1e-5   # args.learning rate - default is 5e-5\n",
    "\n",
    "# ****Training Parameters****\n",
    "# set the number of loops \n",
    "run_num = 5\n",
    "ratios = [0.9]\n",
    "avg_list, seom_list = [], []\n",
    "\n",
    "for r in ratios:\n",
    "\n",
    "    # unpack dataframes\n",
    "    df = pd.read_pickle(r'./Pickledfiles/'+fldr+'/'+str(r)+'trainratio_'+str(run_num)+'runs_'+str(epochs)+'epochs_'+str(batch_size)+'batch_size_'+str(lr)+'lr_'+str(seed_val)+'seed_val_.pkl')\n",
    "    print(df)\n",
    "    # df = df.iloc[[3]] # the 3rd row only\n",
    "    df = df[3::4] # start from the 3rd row, get subsequent 4th row\n",
    "    accy_list = (df['Valid. Accur.'].tolist())\n",
    "\n",
    "    # append average and standard error of mean to lists\n",
    "    avg_list.append(np.average(accy_list))\n",
    "    seom_list.append( np.std(accy_list, ddof=1) / np.sqrt(np.size(accy_list)) ) \n",
    "\n",
    "print(avg_list)\n",
    "print(seom_list)"
   ]
  },
  {
   "cell_type": "code",
   "execution_count": null,
   "metadata": {},
   "outputs": [],
   "source": [
    "plt.figure()\n",
    "plt.scatter(ratios, avg_list, c=(0, 0, 0, 1))\n",
    "plt.errorbar(ratios, avg_list, yerr= seom_list, color=(0, 0, 0, 1),fmt='none', capsize = 2)\n",
    "plt.plot(ratios, avg_list, linestyle='dashed', color=(0.3, 0.3, 0.45 ,.4))\n",
    "plt.xlabel('Training size')\n",
    "plt.ylabel('Accuracy score')\n",
    "plt.minorticks_on()\n",
    "plt.grid(b=True, which='minor', color='#999999', linestyle='-', alpha=0.2)\n",
    "plt.savefig('./figures/'+fldr+'/'+str(run_num)+'runs_'+str(epochs)+'epochs_'+str(batch_size)+'batch_size_'+str(lr)+'lr_'+str(seed_val)+'seed_val_.png')\n",
    "plt.show()"
   ]
  },
  {
   "attachments": {},
   "cell_type": "markdown",
   "metadata": {},
   "source": [
    "# Variable: epochs\n",
    "epochs_list = [1,2,3,4,5,6,7,8]\n",
    "****Classifier Parameters****\n",
    "batch_size = 16\n",
    "seed_val = 42\n",
    "lr = 10e-5   # args.learning rate - default is 5e-5\n",
    "****Training Parameters****\n",
    "run_num = 20\n",
    "ratio = 0.9"
   ]
  },
  {
   "cell_type": "code",
   "execution_count": null,
   "metadata": {},
   "outputs": [],
   "source": [
    "fldr = 'bert_argumentlevel/year1year2/' \n",
    "\n",
    "epochs_list = [1,2,3,4,5,6,7,8]\n",
    "\n",
    "avg_list = []\n",
    "seom_list = []\n",
    "\n",
    "for value in epochs_list:\n",
    "    df = pd.read_pickle('./Pickledfiles/'+fldr+'0.9trainratio_20runs_'+str(value)+'epochs_16batch_size_0.0001lr_42seed_val_.pkl')\n",
    "    # print(df.loc[value])\n",
    "    \n",
    "    accy_list = (df.loc[value])['Valid. Accur.'].tolist() # index is named as 'epoch'\n",
    "    # print('epoch==', value, ':',accy_list)\n",
    "\n",
    "    # append average and standard error of mean to lists\n",
    "    avg_list.append(np.average(accy_list))\n",
    "    seom_list.append( np.std(accy_list, ddof=1) / np.sqrt(np.size(accy_list)) ) \n",
    "# print(avg_list, seom_list)\n",
    "\n",
    "\n",
    "plt.figure()\n",
    "plt.scatter(epochs_list, avg_list, c=(0, 0, 0, 1))\n",
    "plt.errorbar(epochs_list, avg_list, yerr= seom_list, color=(0, 0, 0, 1),fmt='none', capsize = 2)\n",
    "plt.plot(epochs_list, avg_list, linestyle='dashed', color=(0.3, 0.3, 0.45 ,.4))\n",
    "plt.xlabel('Epochs')\n",
    "plt.ylabel('Accuracy')\n",
    "plt.minorticks_on()\n",
    "plt.grid(b=True, which='minor', color='#999999', linestyle='-', alpha=0.2)\n",
    "plt.savefig('./figures/'+fldr+'/vary_epochs_0.9trainratio_20runs_1-5epochs_16batch_size_0.0001lr_42seed_val_.png')\n",
    "plt.show()"
   ]
  },
  {
   "attachments": {},
   "cell_type": "markdown",
   "metadata": {},
   "source": [
    "# Variable: run number / number of loops\n",
    "run_num = [1,2,3,4,...,19]\n",
    "\n",
    "****Classifier Parameters****\n",
    "epochs = 1\n",
    "batch_size = 16\n",
    "seed_val = 42\n",
    "lr = 10e-5   # args.learning rate - default is 5e-5\n",
    "\n",
    "****Training Parameters****\n",
    "set training data ratio\n",
    "ratio = 0.9"
   ]
  },
  {
   "cell_type": "code",
   "execution_count": null,
   "metadata": {},
   "outputs": [],
   "source": [
    "# run_num_list = np.arange(1,21,1)    #[1,2,3,4,...,20]\n",
    "run_num_list = [20]\n",
    "avg_list = []\n",
    "seom_list = []\n",
    "for run_num in run_num_list:\n",
    "    df = pd.read_pickle('./Pickledfiles/'+fldr+'0.9trainratio_'+str(run_num)+'runs_1epochs_16batch_size_0.0001lr_42seed_val_.pkl')\n",
    "    # print( df['Run Number'].tolist()[::-1] ) # reverse order\n",
    "    accy_list = df['Valid. Accur.'].tolist() \n",
    "    \n",
    "\n",
    "    # append average and standard error of mean to lists\n",
    "    avg_list.append(np.average(accy_list))\n",
    "    seom_list.append( np.std(accy_list, ddof=1) / np.sqrt(np.size(accy_list)) ) \n",
    "# print(avg_list, seom_list)\n",
    "\n",
    "plt.figure()\n",
    "plt.scatter(run_num_list, avg_list, c=(0, 0, 0, 1))\n",
    "plt.errorbar(run_num_list, avg_list, yerr= seom_list, color=(0, 0, 0, 1),fmt='none', capsize = 2)\n",
    "plt.plot(run_num_list, avg_list, linestyle='dashed', color=(0.3, 0.3, 0.45 ,.4))\n",
    "plt.xlabel('Iterations')\n",
    "plt.ylabel('Accuracy')\n",
    "plt.minorticks_on()\n",
    "plt.grid(b=True, which='minor', color='#999999', linestyle='-', alpha=0.2)\n",
    "plt.savefig('./figures/'+fldr+'/vary_run_num_0.9trainratio_1-20runs_1epochs_16batch_size_0.0001lr_42seed_val_.png')\n",
    "plt.show()"
   ]
  }
 ],
 "metadata": {
  "kernelspec": {
   "display_name": "Python 3",
   "language": "python",
   "name": "python3"
  },
  "language_info": {
   "name": "python",
   "version": "3.8.2 (default, Dec 21 2020, 15:06:03) \n[Clang 12.0.0 (clang-1200.0.32.29)]"
  },
  "orig_nbformat": 4,
  "vscode": {
   "interpreter": {
    "hash": "31f2aee4e71d21fbe5cf8b01ff0e069b9275f58929596ceb00d14d90e3e16cd6"
   }
  }
 },
 "nbformat": 4,
 "nbformat_minor": 2
}
