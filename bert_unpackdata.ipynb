{
 "cells": [
  {
   "cell_type": "code",
   "execution_count": 1,
   "metadata": {},
   "outputs": [],
   "source": [
    "import math\n",
    "import pandas as pd\n",
    "import numpy as np\n",
    "import matplotlib.pyplot as plt\n",
    "plt.style.use(['science','ieee','no-latex'])"
   ]
  },
  {
   "attachments": {},
   "cell_type": "markdown",
   "metadata": {},
   "source": [
    "# Unpack data"
   ]
  },
  {
   "cell_type": "code",
   "execution_count": null,
   "metadata": {},
   "outputs": [],
   "source": [
    "# ****Path****\n",
    "fldr = 'bert_argumentlevel/year2' \n",
    "\n",
    "\n",
    "# ****Classifier Parameters****\n",
    "# set epochs\n",
    "epochs = 4\n",
    "# set batch size\n",
    "batch_size = 16\n",
    "# set random seed\n",
    "seed_val = 42\n",
    "# set learnning rate\n",
    "lr = 1e-4   # args.learning rate - default is 5e-5\n",
    "\n",
    "# ****Training Parameters****\n",
    "# set the number of loops \n",
    "run_num = 3\n",
    "# set training data ratio\n",
    "ratios = [0.5,0.6,0.7,0.8,0.9]\n",
    "\n",
    "avg_list, seom_list = [], []\n",
    "\n",
    "for r in ratios:\n",
    "\n",
    "    # unpack dataframes\n",
    "    df = pd.read_pickle(r'./Pickledfiles/'+fldr+'/'+str(r)+'trainratio_'+str(run_num)+'runs_'+str(epochs)+'epochs_'+str(batch_size)+'batch_size_'+str(lr)+'lr_'+str(seed_val)+'seed_val_.pkl')\n",
    "    # df = df.iloc[[3]] # the 3rd row only\n",
    "    df = df[3::4] # start from the 3rd row, get subsequent 4th row\n",
    "    # print(df)\n",
    "    accy_list = (df['Valid. Accur.'].tolist())\n",
    "\n",
    "    # append average and standard error of mean to lists\n",
    "    avg_list.append(np.average(accy_list))\n",
    "    seom_list.append( np.std(accy_list, ddof=1) / np.sqrt(np.size(accy_list)) ) \n",
    "\n",
    "print(avg_list)\n",
    "print(seom_list)\n"
   ]
  },
  {
   "cell_type": "code",
   "execution_count": null,
   "metadata": {},
   "outputs": [],
   "source": [
    "plt.figure()\n",
    "plt.scatter(ratios, avg_list, c=(0, 0, 0, 1))\n",
    "plt.errorbar(ratios, avg_list, yerr= seom_list, color=(0, 0, 0, 1),fmt='none', capsize = 2)\n",
    "plt.plot(ratios, avg_list, linestyle='dashed', color=(0.3, 0.3, 0.45 ,.4))\n",
    "plt.xlabel('Training size')\n",
    "plt.ylabel('Accuracy score')\n",
    "plt.minorticks_on()\n",
    "plt.grid(b=True, which='minor', color='#999999', linestyle='-', alpha=0.2)\n",
    "plt.savefig('./figures/'+fldr+'/'+str(run_num)+'runs_'+str(epochs)+'epochs_'+str(batch_size)+'batch_size_'+str(lr)+'lr_'+str(seed_val)+'seed_val_.png')\n",
    "plt.show()"
   ]
  },
  {
   "attachments": {},
   "cell_type": "markdown",
   "metadata": {},
   "source": [
    "# Variable: epochs\n",
    "epochs_list = [1,2,3,4,5,6,7,8]\n",
    "****Classifier Parameters****\n",
    "batch_size = 16\n",
    "seed_val = 42\n",
    "lr = 10e-5   # args.learning rate - default is 5e-5\n",
    "****Training Parameters****\n",
    "run_num = 20\n",
    "ratio = 0.9"
   ]
  },
  {
   "cell_type": "code",
   "execution_count": null,
   "metadata": {},
   "outputs": [],
   "source": [
    "fldr = 'bert_argumentlevel/year1year2/' \n",
    "\n",
    "epochs_list = [1,2,3,4,5,6,7,8]\n",
    "\n",
    "avg_list = []\n",
    "seom_list = []\n",
    "\n",
    "for value in epochs_list:\n",
    "    df = pd.read_pickle('./Pickledfiles/'+fldr+'0.9trainratio_20runs_'+str(value)+'epochs_16batch_size_0.0001lr_42seed_val_.pkl')\n",
    "    # print(df.loc[value])\n",
    "    \n",
    "    accy_list = (df.loc[value])['Valid. Accur.'].tolist() # index is named as 'epoch'\n",
    "    # print('epoch==', value, ':',accy_list)\n",
    "\n",
    "    # append average and standard error of mean to lists\n",
    "    avg_list.append(np.average(accy_list))\n",
    "    seom_list.append( np.std(accy_list, ddof=1) / np.sqrt(np.size(accy_list)) ) \n",
    "# print(avg_list, seom_list)\n",
    "\n",
    "\n",
    "plt.figure()\n",
    "plt.scatter(epochs_list, avg_list, c=(0, 0, 0, 1))\n",
    "plt.errorbar(epochs_list, avg_list, yerr= seom_list, color=(0, 0, 0, 1),fmt='none', capsize = 2)\n",
    "plt.plot(epochs_list, avg_list, linestyle='dashed', color=(0.3, 0.3, 0.45 ,.4))\n",
    "plt.xlabel('Epochs')\n",
    "plt.ylabel('Accuracy')\n",
    "plt.minorticks_on()\n",
    "plt.grid(b=True, which='minor', color='#999999', linestyle='-', alpha=0.2)\n",
    "plt.savefig('./figures/'+fldr+'/vary_epochs_0.9trainratio_20runs_1-5epochs_16batch_size_0.0001lr_42seed_val_.png')\n",
    "plt.show()"
   ]
  },
  {
   "attachments": {},
   "cell_type": "markdown",
   "metadata": {},
   "source": [
    "# Variable: run number / iterations\n",
    "run_num = [1,2,3,4,...,20]\n",
    "\n",
    "epochs = 1\n",
    "batch_size = 16\n",
    "seed_val = 42\n",
    "lr = 10e-5   # args.learning rate - default is 5e-5\n",
    "ratio = 0.9"
   ]
  },
  {
   "cell_type": "code",
   "execution_count": null,
   "metadata": {},
   "outputs": [],
   "source": [
    "fldr = 'bert_argumentlevel/year2/'\n",
    "run_num_list = np.arange(1,21,1)    #[1,2,3,4,...,20]\n",
    "\n",
    "avg_list = []\n",
    "seom_list = []\n",
    "for run_num in run_num_list:\n",
    "    df = pd.read_pickle('./Pickledfiles/'+fldr+'0.9trainratio_'+str(run_num)+'runs_1epochs_16batch_size_0.0001lr_42seed_val_.pkl')\n",
    "    accy_list = df['Valid. Accur.'].tolist() \n",
    "    \n",
    "\n",
    "    # append average and standard error of mean to lists\n",
    "    avg_list.append(np.average(accy_list))\n",
    "    seom_list.append( np.std(accy_list, ddof=1) / np.sqrt(np.size(accy_list)) ) \n",
    "seom_list = [0 if math.isnan(x) else x for x in seom_list]\n",
    "print(avg_list, seom_list)\n",
    "\n",
    "\n",
    "plt.figure()\n",
    "plt.scatter(run_num_list, avg_list, c=(0, 0, 0, 1))\n",
    "plt.errorbar(run_num_list, avg_list, yerr= seom_list, color=(0, 0, 0, 1),fmt='none', capsize = 2)\n",
    "plt.plot(run_num_list, avg_list, linestyle='dashed', color=(0.3, 0.3, 0.45 ,.4))\n",
    "plt.xlabel('Iterations')\n",
    "plt.ylabel('Accuracy')\n",
    "plt.minorticks_on()\n",
    "plt.grid(b=True, which='minor', color='#999999', linestyle='-', alpha=0.2)\n",
    "plt.savefig('./figures/'+fldr+'vary_run_num_0.9trainratio_'+str(run_num)+'runs_1epochs_16batch_size_0.0001lr_42seed_val_.png')\n",
    "plt.show()\n"
   ]
  },
  {
   "attachments": {},
   "cell_type": "markdown",
   "metadata": {},
   "source": [
    "# Variable: learning rates\n",
    "epochs = 4\n",
    "batch_size = 16\n",
    "seed_val = 42\n",
    "lr_list = [1e0,1e-1,1e-2,1e-3,1e-4,1e-5,1e-6,1e-7,1e-8,1e-9]\n",
    "run_num = 2\n",
    "ratio = 0.9\n",
    "\n"
   ]
  },
  {
   "cell_type": "code",
   "execution_count": null,
   "metadata": {},
   "outputs": [],
   "source": [
    "fldr = 'bert_argumentlevel/year2/'\n",
    "\n",
    "lr_list = [1e0,1e-1,1e-2,1e-3,1e-4,1e-5,1e-6,1e-7,1e-8,1e-9]\n",
    "\n",
    "avg_list = []\n",
    "seom_list = []\n",
    "for lr in lr_list:\n",
    "    df = pd.read_pickle('./Pickledfiles/'+fldr+'0.9trainratio_2runs_4epochs_16batch_size_'+str(lr)+'lr_42seed_val_.pkl')\n",
    "    accy_list = (df.loc[4])['Valid. Accur.'].tolist() \n",
    "    \n",
    "    # append average and standard error of mean to lists\n",
    "    avg_list.append(np.average(accy_list))\n",
    "    seom_list.append( np.std(accy_list, ddof=1) / np.sqrt(np.size(accy_list)) ) \n",
    "print(avg_list, seom_list)\n",
    "\n",
    "\n",
    "plt.figure()\n",
    "plt.scatter(np.log(lr_list), avg_list, c=(0, 0, 0, 1))\n",
    "plt.errorbar(np.log(lr_list), avg_list, yerr= seom_list, color=(0, 0, 0, 1),fmt='none', capsize = 2)\n",
    "plt.plot(np.log(lr_list), avg_list, linestyle='dashed', color=(0.3, 0.3, 0.45 ,.4))\n",
    "plt.xlabel('Learning Rate (log scale)')\n",
    "plt.ylabel('Accuracy')\n",
    "plt.minorticks_on()\n",
    "plt.grid(b=True, which='minor', color='#999999', linestyle='-', alpha=0.2)\n",
    "plt.savefig('./figures/'+fldr+'vary_lr_0.9trainratio_2runs_4epochs_16batch_size_'+str(lr)+'lr_42seed_val_.png')\n",
    "plt.show()"
   ]
  },
  {
   "attachments": {},
   "cell_type": "markdown",
   "metadata": {},
   "source": [
    "# Variable Batch size"
   ]
  },
  {
   "cell_type": "code",
   "execution_count": null,
   "metadata": {},
   "outputs": [],
   "source": [
    "\n",
    "batch_size_list = [2,4,8,16]\n",
    "fldr = 'bert_argumentlevel/year2/'\n",
    "\n",
    "avg_list = []\n",
    "seom_list = []\n",
    "for batch_size in batch_size_list:\n",
    "    df = pd.read_pickle('./Pickledfiles/'+fldr+'0.9trainratio_2runs_4epochs_'+str(batch_size)+'batch_size_1e-05lr_42seed_val_.pkl')\n",
    "    accy_list = (df.loc[4])['Valid. Accur.'].tolist() \n",
    "    \n",
    "    # append average and standard error of mean to lists\n",
    "    avg_list.append(np.average(accy_list))\n",
    "    seom_list.append( np.std(accy_list, ddof=1) / np.sqrt(np.size(accy_list)) ) \n",
    "print(avg_list, seom_list)\n",
    "\n",
    "\n",
    "plt.figure()\n",
    "plt.scatter(batch_size_list, avg_list, c=(0, 0, 0, 1))\n",
    "plt.errorbar(batch_size_list, avg_list, yerr= seom_list, color=(0, 0, 0, 1),fmt='none', capsize = 2)\n",
    "plt.plot(batch_size_list, avg_list, linestyle='dashed', color=(0.3, 0.3, 0.45 ,.4))\n",
    "plt.xlabel('Batch size')\n",
    "plt.ylabel('Accuracy')\n",
    "plt.minorticks_on()\n",
    "plt.grid(b=True, which='minor', color='#999999', linestyle='-', alpha=0.2)\n",
    "plt.savefig('./figures/'+fldr+'vary_batch_size_0.9trainratio_2runs_4epochs_'+str(batch_size)+'batch_size_1e-05lr_42seed_val_.png')\n",
    "plt.show()"
   ]
  }
 ],
 "metadata": {
  "kernelspec": {
   "display_name": "base",
   "language": "python",
   "name": "python3"
  },
  "language_info": {
   "codemirror_mode": {
    "name": "ipython",
    "version": 3
   },
   "file_extension": ".py",
   "mimetype": "text/x-python",
   "name": "python",
   "nbconvert_exporter": "python",
   "pygments_lexer": "ipython3",
   "version": "3.8.8"
  },
  "orig_nbformat": 4,
  "vscode": {
   "interpreter": {
    "hash": "d71e2f643be86ab2fc160c762752df8c2d7cb942111b0c58fcf5178bc6c93ea7"
   }
  }
 },
 "nbformat": 4,
 "nbformat_minor": 2
}
