{
 "cells": [
  {
   "cell_type": "markdown",
   "id": "7d22825e",
   "metadata": {},
   "source": [
    "# Revised Odden's LDA \n",
    "(adapted for nlp in physics education project)"
   ]
  },
  {
   "cell_type": "markdown",
   "id": "a9450bee",
   "metadata": {},
   "source": [
    "# 10 - Modeling Science Education topics over time using Latent Dirichlet Allocation\n"
   ]
  },
  {
   "cell_type": "code",
   "execution_count": 1,
   "id": "7e0f3442",
   "metadata": {},
   "outputs": [
    {
     "data": {
      "text/html": [
       "<style>.container { width:95% !important; }</style>"
      ],
      "text/plain": [
       "<IPython.core.display.HTML object>"
      ]
     },
     "metadata": {},
     "output_type": "display_data"
    }
   ],
   "source": [
    "# Print out  all expressions\n",
    "from IPython.core.interactiveshell import InteractiveShell\n",
    "InteractiveShell.ast_node_interactivity = \"all\" #default 'last_expr'\n",
    "from IPython.core.display import display, HTML\n",
    "display(HTML(\"<style>.container { width:95% !important; }</style>\")) "
   ]
  },
  {
   "cell_type": "code",
   "execution_count": 4,
   "id": "59d72a37",
   "metadata": {},
   "outputs": [
    {
     "name": "stderr",
     "output_type": "stream",
     "text": [
      "/Users/jiayangzhang/anaconda3/lib/python3.8/site-packages/ipykernel/ipkernel.py:287: DeprecationWarning: `should_run_async` will not call `transform_cell` automatically in the future. Please pass the result to `transformed_cell` argument and any exception that happen during thetransform in `preprocessing_exc_tuple` in IPython 7.17 and above.\n",
      "  and should_run_async(code)\n"
     ]
    }
   ],
   "source": [
    "#Import gensim, our library for text analysis\n",
    "import gensim\n",
    "from gensim.parsing.preprocessing import STOPWORDS\n",
    "from gensim.corpora.dictionary import Dictionary\n",
    "from sklearn.feature_extraction.text import CountVectorizer\n",
    "\n",
    "# Plotting tools\n",
    "import pyLDAvis\n",
    "# import pyLDAvis.gensim  # don't skip this\n",
    "import pyLDAvis.gensim_models\n",
    "\n",
    "# Import usual data analysis tools\n",
    "import pandas as pd\n",
    "import matplotlib.pyplot as plt\n",
    "%matplotlib inline\n",
    "import numpy as np\n",
    "#np.random.seed(2018)\n",
    "\n",
    "import pickle\n",
    "\n",
    "import warnings\n",
    "warnings.filterwarnings(\"ignore\", category=DeprecationWarning);\n",
    "\n",
    "import os"
   ]
  },
  {
   "cell_type": "markdown",
   "id": "bb9d1bc5",
   "metadata": {},
   "source": [
    "## II. Loading in and filtering the data"
   ]
  },
  {
   "cell_type": "code",
   "execution_count": 8,
   "id": "7a9c7838",
   "metadata": {},
   "outputs": [],
   "source": [
    "df = pd.read_csv('./outputs/labels_cleaned_y1y2.csv')"
   ]
  },
  {
   "cell_type": "code",
   "execution_count": 10,
   "id": "2a8a435d",
   "metadata": {},
   "outputs": [
    {
     "name": "stdout",
     "output_type": "stream",
     "text": [
      "0      a michelson interferometer be built and use to...\n",
      "1      in this experiment a series of light spectl 3 ...\n",
      "2      in this experiment we explore the spectral com...\n",
      "3      the purpose of this experiment be to calculate...\n",
      "4      michelson interferometer with a movable mirror...\n",
      "                             ...                        \n",
      "173    the rydberg constant be calculate by use a gra...\n",
      "174    the same set up be use a that in figure 1. bef...\n",
      "175    the purpose of this report be to display the r...\n",
      "176    spectroscopy be commonly use a a non-invasive ...\n",
      "177    the rydberg constant allows one to predict how...\n",
      "Name: Content, Length: 178, dtype: object\n"
     ]
    }
   ],
   "source": [
    "print(df['Content'])"
   ]
  },
  {
   "cell_type": "markdown",
   "id": "397ba522",
   "metadata": {},
   "source": [
    "### A. Plotting top words in all documents"
   ]
  },
  {
   "cell_type": "code",
   "execution_count": 6,
   "id": "9c0c9355",
   "metadata": {},
   "outputs": [],
   "source": [
    "from helpers import plot_freq_dist,get_top_n_words,plot_words_freq"
   ]
  },
  {
   "cell_type": "code",
   "execution_count": null,
   "id": "7de31f67",
   "metadata": {},
   "outputs": [],
   "source": [
    "\n",
    "corpus = [ w for doc in data_words_bigrams for w in doc ]\n",
    "print('Total words: \\033[1m%d\\033[0m, unique words: \\033[1m%d\\033[0m' % (len(corpus), len(set(corpus))))\n",
    "\n",
    "[words, freq, ids] = get_top_n_words(corpus, n_top_words=None)\n",
    "fig = plot_freq_dist(freq, range=[0,8000])\n",
    "fig, ax = plot_words_freq(words, freq, 15)"
   ]
  }
 ],
 "metadata": {
  "kernelspec": {
   "display_name": "Python 3",
   "language": "python",
   "name": "python3"
  },
  "language_info": {
   "codemirror_mode": {
    "name": "ipython",
    "version": 3
   },
   "file_extension": ".py",
   "mimetype": "text/x-python",
   "name": "python",
   "nbconvert_exporter": "python",
   "pygments_lexer": "ipython3",
   "version": "3.8.8"
  }
 },
 "nbformat": 4,
 "nbformat_minor": 5
}
