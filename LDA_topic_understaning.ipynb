{
 "cells": [
  {
   "cell_type": "code",
   "execution_count": 2,
   "metadata": {},
   "outputs": [
    {
     "data": {
      "image/png": "[encoded data removed]",
      "text/plain": [
       "<Figure size 432x288 with 2 Axes>"
      ]
     },
     "metadata": {
      "needs_background": "light"
     },
     "output_type": "display_data"
    }
   ],
   "source": [
    "# importing tool functions\n",
    "import numpy as np\n",
    "import matplotlib.pyplot as plt\n",
    "from tools import utils, ml_tools\n",
    "import pandas as pd\n",
    "import numpy as np\n",
    "from sklearn.preprocessing import LabelBinarizer"
   ]
  },
  {
   "cell_type": "code",
   "execution_count": 3,
   "metadata": {},
   "outputs": [],
   "source": [
    "dir_name_e = r'C:\\Users\\EfiaA\\OneDrive - Imperial College London\\Imperial academic work\\University life\\Y4\\MSci project\\Project_Coding\\nlp-physicseducation\\Pickledfiles'"
   ]
  },
  {
   "cell_type": "code",
   "execution_count": 4,
   "metadata": {},
   "outputs": [],
   "source": [
    "# import the yr1c1c1 labels\n",
    "dir_csv = 'outputs/labels_cleaned_y1c1c2.csv'\n",
    "df = pd.read_csv(dir_csv, encoding='utf-8')"
   ]
  },
  {
   "cell_type": "code",
   "execution_count": 5,
   "metadata": {},
   "outputs": [
    {
     "name": "stderr",
     "output_type": "stream",
     "text": [
      "<ipython-input-5-d71189f87b28>:6: VisibleDeprecationWarning: Creating an ndarray from ragged nested sequences (which is a list-or-tuple of lists-or-tuples-or ndarrays with different lengths or shapes) is deprecated. If you meant to do this, you must specify 'dtype=object' when creating the ndarray.\n",
      "  X_t = np.array(ml_tools.tf_idf(df['Content'].tolist()))\n"
     ]
    }
   ],
   "source": [
    "# -- Bag of Words ---\n",
    "wordvec_names, wordvec_counts= ml_tools.BoW(df['Content'].tolist())\n",
    "y_b = df['ReasoningLevel'].tolist()\n",
    "\n",
    "# -- Feature extraction: TF-IDF ---\n",
    "X_t = np.array(ml_tools.tf_idf(df['Content'].tolist()))\n",
    "X_t = X_t[1]\n",
    "y_t = df['ReasoningLevel'].tolist()"
   ]
  },
  {
   "cell_type": "code",
   "execution_count": 6,
   "metadata": {},
   "outputs": [],
   "source": [
    "# BOW\n",
    "# coding the labels so easily interpretable by the computer\n",
    "lb = LabelBinarizer()\n",
    "lb.fit(y_b)\n",
    "y_b = lb.transform(y_b)\n",
    "\n",
    "# TF-IDF\n",
    "# --- one hot encoding - using labelbinarrizer as it does not require labels to be integers\n",
    "lb = LabelBinarizer()\n",
    "lb.fit(y_t)\n",
    "y_t = lb.transform(y_t)\n"
   ]
  },
  {
   "cell_type": "code",
   "execution_count": 7,
   "metadata": {},
   "outputs": [],
   "source": [
    "# code reference\n",
    "#https://towardsdatascience.com/end-to-end-topic-modeling-in-python-latent-dirichlet-allocation-lda-35ce4ed6b3e0"
   ]
  },
  {
   "cell_type": "code",
   "execution_count": 8,
   "metadata": {},
   "outputs": [
    {
     "name": "stderr",
     "output_type": "stream",
     "text": [
      "[nltk_data] Downloading package stopwords to\n",
      "[nltk_data]     C:\\Users\\EfiaA\\AppData\\Roaming\\nltk_data...\n",
      "[nltk_data]   Package stopwords is already up-to-date!\n"
     ]
    }
   ],
   "source": [
    "# prepare for LDA analysis\n",
    "import gensim\n",
    "from gensim.utils import simple_preprocess\n",
    "import nltk\n",
    "nltk.download('stopwords')\n",
    "from nltk.corpus import stopwords\n",
    "import gensim.corpora as corpora"
   ]
  },
  {
   "cell_type": "code",
   "execution_count": 9,
   "metadata": {},
   "outputs": [
    {
     "name": "stdout",
     "output_type": "stream",
     "text": [
      "['atom', 'atomic', 'number', 'vacuum', 'permittivity', 'electron', 'mass', 'charge', 'electron', 'divide', 'eq', 'eq', 'potential', 'kinetic', 'energy', 'electron', 'respectively', 'since', 'energy', 'photon', 'emit', 'hydrogen', 'atom', 'give', 'difference', 'two', 'hydrogen', 'energy', 'level', 'positive']\n"
     ]
    }
   ],
   "source": [
    "stop_words = stopwords.words('english')\n",
    "stop_words.extend(['from', 'subject', 're', 'edu', 'use'])\n",
    "def sent_to_words(sentences):\n",
    "    for sentence in sentences:\n",
    "        # deacc=True removes punctuations\n",
    "        yield(gensim.utils.simple_preprocess(str(sentence), deacc=True))\n",
    "def remove_stopwords(texts):\n",
    "    return [[word for word in simple_preprocess(str(doc)) \n",
    "             if word not in stop_words] for doc in texts]\n",
    "data = df['Content'].tolist()\n",
    "data_words = list(sent_to_words(data))\n",
    "# remove stop words\n",
    "data_words = remove_stopwords(data_words)\n",
    "print(data_words[:1][0][:30])"
   ]
  },
  {
   "cell_type": "code",
   "execution_count": 10,
   "metadata": {},
   "outputs": [
    {
     "name": "stdout",
     "output_type": "stream",
     "text": [
      "[(0, 2), (1, 3), (2, 1), (3, 1), (4, 2), (5, 1), (6, 1), (7, 4), (8, 1), (9, 4), (10, 2), (11, 1), (12, 1), (13, 1), (14, 1), (15, 2), (16, 1), (17, 1), (18, 2), (19, 1), (20, 2), (21, 1), (22, 1), (23, 2), (24, 2), (25, 1), (26, 7), (27, 8), (28, 1), (29, 1)]\n"
     ]
    }
   ],
   "source": [
    "#create \n",
    "\n",
    "id2word = corpora.Dictionary(data_words)\n",
    "\n",
    "#create corpus\n",
    "texts = data_words\n",
    "\n",
    "#Term Document Frequency\n",
    "corpus = [id2word.doc2bow(text) for text in texts]\n",
    "\n",
    "#View \n",
    "print(corpus[:1][0][:30])"
   ]
  },
  {
   "cell_type": "code",
   "execution_count": 11,
   "metadata": {},
   "outputs": [
    {
     "name": "stdout",
     "output_type": "stream",
     "text": [
      "[(0,\n",
      "  '0.017*\"value\" + 0.017*\"line\" + 0.015*\"light\" + 0.013*\"grate\" + '\n",
      "  '0.012*\"constant\" + 0.011*\"wavelength\" + 0.010*\"slit\" + 0.010*\"hydrogen\" + '\n",
      "  '0.009*\"error\" + 0.009*\"order\"'),\n",
      " (1,\n",
      "  '0.020*\"wavelength\" + 0.019*\"error\" + 0.018*\"value\" + 0.018*\"light\" + '\n",
      "  '0.017*\"rydberg\" + 0.016*\"line\" + 0.016*\"constant\" + 0.014*\"grate\" + '\n",
      "  '0.014*\"energy\" + 0.011*\"hydrogen\"'),\n",
      " (2,\n",
      "  '0.018*\"value\" + 0.018*\"wavelength\" + 0.016*\"line\" + 0.013*\"error\" + '\n",
      "  '0.013*\"constant\" + 0.013*\"grate\" + 0.012*\"light\" + 0.012*\"spectrometer\" + '\n",
      "  '0.010*\"energy\" + 0.010*\"lamp\"'),\n",
      " (3,\n",
      "  '0.020*\"line\" + 0.020*\"grate\" + 0.019*\"value\" + 0.017*\"error\" + '\n",
      "  '0.015*\"light\" + 0.014*\"rydberg\" + 0.014*\"wavelength\" + 0.013*\"hydrogen\" + '\n",
      "  '0.012*\"constant\" + 0.009*\"lamp\"'),\n",
      " (4,\n",
      "  '0.023*\"value\" + 0.017*\"constant\" + 0.017*\"light\" + 0.016*\"wavelength\" + '\n",
      "  '0.014*\"grate\" + 0.011*\"error\" + 0.011*\"line\" + 0.010*\"rydberg\" + '\n",
      "  '0.010*\"hydrogen\" + 0.009*\"calculate\"'),\n",
      " (5,\n",
      "  '0.017*\"grate\" + 0.017*\"value\" + 0.016*\"wavelength\" + 0.013*\"light\" + '\n",
      "  '0.013*\"line\" + 0.012*\"error\" + 0.012*\"constant\" + 0.011*\"lamp\" + '\n",
      "  '0.010*\"spectrometer\" + 0.010*\"order\"'),\n",
      " (6,\n",
      "  '0.022*\"line\" + 0.018*\"wavelength\" + 0.018*\"constant\" + 0.017*\"value\" + '\n",
      "  '0.016*\"error\" + 0.016*\"energy\" + 0.015*\"angle\" + 0.014*\"light\" + '\n",
      "  '0.012*\"grate\" + 0.012*\"rydberg\"'),\n",
      " (7,\n",
      "  '0.020*\"value\" + 0.020*\"line\" + 0.019*\"light\" + 0.018*\"rydberg\" + '\n",
      "  '0.017*\"constant\" + 0.014*\"grate\" + 0.014*\"wavelength\" + 0.013*\"error\" + '\n",
      "  '0.012*\"hydrogen\" + 0.011*\"energy\"'),\n",
      " (8,\n",
      "  '0.024*\"wavelength\" + 0.017*\"value\" + 0.015*\"line\" + 0.015*\"light\" + '\n",
      "  '0.014*\"error\" + 0.014*\"grate\" + 0.012*\"rydberg\" + 0.011*\"constant\" + '\n",
      "  '0.011*\"hydrogen\" + 0.010*\"energy\"'),\n",
      " (9,\n",
      "  '0.020*\"light\" + 0.020*\"value\" + 0.019*\"constant\" + 0.019*\"wavelength\" + '\n",
      "  '0.018*\"line\" + 0.014*\"energy\" + 0.014*\"grate\" + 0.013*\"order\" + '\n",
      "  '0.012*\"error\" + 0.011*\"rydberg\"')]\n"
     ]
    }
   ],
   "source": [
    "#LDA model training \n",
    "from pprint import pprint\n",
    "# number of topics\n",
    "num_topics = 10\n",
    "# Build LDA model\n",
    "lda_model = gensim.models.LdaMulticore(corpus=corpus,\n",
    "                                       id2word=id2word,\n",
    "                                       num_topics=num_topics)\n",
    "# Print the Keyword in the 10 topics\n",
    "pprint(lda_model.print_topics())\n",
    "doc_lda = lda_model[corpus]"
   ]
  },
  {
   "cell_type": "code",
   "execution_count": 12,
   "metadata": {},
   "outputs": [
    {
     "name": "stdout",
     "output_type": "stream",
     "text": [
      "Requirement already satisfied: pyLDAvis==2.1.2 in c:\\users\\efiaa\\anaconda3\\lib\\site-packages (2.1.2)\n",
      "Requirement already satisfied: wheel>=0.23.0 in c:\\users\\efiaa\\anaconda3\\lib\\site-packages (from pyLDAvis==2.1.2) (0.36.2)\n",
      "Requirement already satisfied: numpy>=1.9.2 in c:\\users\\efiaa\\anaconda3\\lib\\site-packages (from pyLDAvis==2.1.2) (1.20.1)\n",
      "Requirement already satisfied: numexpr in c:\\users\\efiaa\\anaconda3\\lib\\site-packages (from pyLDAvis==2.1.2) (2.7.3)\n",
      "Requirement already satisfied: scipy>=0.18.0 in c:\\users\\efiaa\\anaconda3\\lib\\site-packages (from pyLDAvis==2.1.2) (1.6.2)\n",
      "Requirement already satisfied: future in c:\\users\\efiaa\\anaconda3\\lib\\site-packages (from pyLDAvis==2.1.2) (0.18.2)\n",
      "Requirement already satisfied: funcy in c:\\users\\efiaa\\anaconda3\\lib\\site-packages (from pyLDAvis==2.1.2) (1.17)\n",
      "Requirement already satisfied: joblib>=0.8.4 in c:\\users\\efiaa\\anaconda3\\lib\\site-packages (from pyLDAvis==2.1.2) (1.0.1)\n",
      "Requirement already satisfied: pytest in c:\\users\\efiaa\\anaconda3\\lib\\site-packages (from pyLDAvis==2.1.2) (6.2.3)\n",
      "Requirement already satisfied: pandas>=0.17.0 in c:\\users\\efiaa\\anaconda3\\lib\\site-packages (from pyLDAvis==2.1.2) (1.2.4)\n",
      "Requirement already satisfied: jinja2>=2.7.2 in c:\\users\\efiaa\\anaconda3\\lib\\site-packages (from pyLDAvis==2.1.2) (2.11.3)\n",
      "Requirement already satisfied: MarkupSafe>=0.23 in c:\\users\\efiaa\\anaconda3\\lib\\site-packages (from jinja2>=2.7.2->pyLDAvis==2.1.2) (1.1.1)\n",
      "Requirement already satisfied: python-dateutil>=2.7.3 in c:\\users\\efiaa\\anaconda3\\lib\\site-packages (from pandas>=0.17.0->pyLDAvis==2.1.2) (2.8.1)\n",
      "Requirement already satisfied: pytz>=2017.3 in c:\\users\\efiaa\\anaconda3\\lib\\site-packages (from pandas>=0.17.0->pyLDAvis==2.1.2) (2021.1)\n",
      "Requirement already satisfied: six>=1.5 in c:\\users\\efiaa\\anaconda3\\lib\\site-packages (from python-dateutil>=2.7.3->pandas>=0.17.0->pyLDAvis==2.1.2) (1.15.0)\n",
      "Requirement already satisfied: attrs>=19.2.0 in c:\\users\\efiaa\\anaconda3\\lib\\site-packages (from pytest->pyLDAvis==2.1.2) (20.3.0)\n",
      "Requirement already satisfied: iniconfig in c:\\users\\efiaa\\anaconda3\\lib\\site-packages (from pytest->pyLDAvis==2.1.2) (1.1.1)\n",
      "Requirement already satisfied: packaging in c:\\users\\efiaa\\anaconda3\\lib\\site-packages (from pytest->pyLDAvis==2.1.2) (20.9)\n",
      "Requirement already satisfied: pluggy<1.0.0a1,>=0.12 in c:\\users\\efiaa\\anaconda3\\lib\\site-packages (from pytest->pyLDAvis==2.1.2) (0.13.1)\n",
      "Requirement already satisfied: py>=1.8.2 in c:\\users\\efiaa\\anaconda3\\lib\\site-packages (from pytest->pyLDAvis==2.1.2) (1.10.0)\n",
      "Requirement already satisfied: toml in c:\\users\\efiaa\\anaconda3\\lib\\site-packages (from pytest->pyLDAvis==2.1.2) (0.10.2)\n",
      "Requirement already satisfied: atomicwrites>=1.0 in c:\\users\\efiaa\\anaconda3\\lib\\site-packages (from pytest->pyLDAvis==2.1.2) (1.4.0)\n",
      "Requirement already satisfied: colorama in c:\\users\\efiaa\\anaconda3\\lib\\site-packages (from pytest->pyLDAvis==2.1.2) (0.4.4)\n",
      "Requirement already satisfied: pyparsing>=2.0.2 in c:\\users\\efiaa\\anaconda3\\lib\\site-packages (from packaging->pytest->pyLDAvis==2.1.2) (2.4.7)\n",
      "Note: you may need to restart the kernel to use updated packages.\n"
     ]
    },
    {
     "data": {
      "text/html": [
       "\n",
       "<link rel=\"stylesheet\" type=\"text/css\" href=\"https://cdn.rawgit.com/bmabey/pyLDAvis/files/ldavis.v1.0.0.css\">\n",
       "\n",
       "\n",
       "<div id=\"ldavis_el2997214777262510404435817985\"></div>\n",
       "<script type=\"text/javascript\">\n",
       "\n",
       "var ldavis_el2997214777262510404435817985_data = {\"mdsDat\": {\"x\": [-0.010477720562045142, -0.007737203396171562, -0.005494812169640006, -0.0031593901750378876, -0.0008857562129466029, -0.003851634593122841, 0.004470722032208033, 0.00456236483197033, 0.009159732468191148, 0.013413697776594537], \"y\": [0.003243168364601495, -0.003311658450552419, 0.0023737058077174314, -0.002469978844534672, -0.006171806907372347, 0.004714049632874096, 0.00032721696614912416, -0.0004261023242169873, -0.0008646707672741128, 0.0025860765226083833], \"topics\": [1, 2, 3, 4, 5, 6, 7, 8, 9, 10], \"cluster\": [1, 1, 1, 1, 1, 1, 1, 1, 1, 1], \"Freq\": [45.596138082892104, 18.814911927700546, 14.570068385801918, 13.643819646248465, 3.7271038095260436, 3.4276636963030036, 0.18819324204015753, 0.010700589653989397, 0.010700412828562189, 0.010700207005216456]}, \"tinfo\": {\"Term\": [\"value\", \"line\", \"wavelength\", \"constant\", \"light\", \"grate\", \"error\", \"energy\", \"rydberg\", \"hydrogen\", \"spectrometer\", \"order\", \"angle\", \"slit\", \"lamp\", \"calculate\", \"electron\", \"experiment\", \"spectral\", \"diffraction\", \"measure\", \"level\", \"red\", \"spectrum\", \"equation\", \"measurement\", \"result\", \"take\", \"uncertainty\", \"maximum\", \"\\ud835\\udc5f\\ud835\\udc52\\ud835\\udc51\", \"\\ud835\\udc5a\\ud835\\udc4e\\ud835\\udc65\", \"broadening\", \"\\ud835\\udc5a\\ud835\\udc56\\ud835\\udc5b\", \"punch\", \"filter\", \"\\ud835\\udf0b\\ud835\\udf16\", \"broadness\", \"anywhere\", \"\\ud835\\udc4f\\ud835\\udc59\\ud835\\udc62\\ud835\\udc52\", \"\\ud835\\udc4e\\ud835\\udc63\\ud835\\udc52\", \"array\", \"microsoft\", \"\\u03c3\\u03b8\", \"angle\", \"ha\", \"sharper\", \"past\", \"decade\", \"local\", \"refractive\", \"manipulate\", \"distribute\", \"opacity\", \"\\u210e\\ud835\\udc53\", \"evaluation\", \"precis\", \"\\u03b4\\ud835\\udf19\", \"green\", \"scatterplot\", \"spectral\", \"sample\", \"indigo\", \"ambiguity\", \"focus\", \"average\", \"result\", \"black\", \"level\", \"due\", \"energy\", \"straight\", \"maximum\", \"formula\", \"line\", \"constant\", \"slit\", \"fig\", \"calculate\", \"reading\", \"source\", \"mm\", \"wavelength\", \"blue\", \"order\", \"red\", \"transition\", \"colour\", \"electron\", \"difference\", \"error\", \"diffraction\", \"experiment\", \"determine\", \"value\", \"hydrogen\", \"show\", \"spectrum\", \"light\", \"grate\", \"rydberg\", \"spectrometer\", \"equation\", \"measure\", \"uncertainty\", \"lamp\", \"jupyter\", \"notebook\", \"satisfies\", \"nobel\", \"ydirection\", \"considers\", \"judged\", \"concept\", \"prize\", \"incorporation\", \"accidental\", \"calculates\", \"twelve\", \"motivate\", \"dl\", \"eject\", \"ambiguous\", \"stem\", \"proportion\", \"equipement\", \"fulfil\", \"mcintyre\", \"intermediate\", \"connection\", \"powerpoint\", \"resolvable\", \"wavelengths\", \"chromatic\", \"heavily\", \"linregress\", \"display\", \"must\", \"ray\", \"previously\", \"know\", \"path\", \"series\", \"angular\", \"spectrometer\", \"rydberg\", \"photon\", \"error\", \"take\", \"beam\", \"initial\", \"wavelength\", \"part\", \"give\", \"light\", \"determine\", \"uncertainty\", \"measurement\", \"value\", \"emission\", \"atom\", \"energy\", \"grate\", \"scale\", \"constant\", \"hydrogen\", \"visible\", \"diffraction\", \"slit\", \"balmer\", \"observe\", \"electron\", \"line\", \"measure\", \"calculate\", \"red\", \"could\", \"order\", \"experiment\", \"level\", \"angle\", \"run\", \"unacceptably\", \"gassing\", \"nacl\", \"veriner\", \"thicker\", \"statisticised\", \"theta\", \"newly\", \"definitive\", \"imprecisely\", \"tape\", \"cramped\", \"novel\", \"inclined\", \"differentiation\", \"heavy\", \"stark\", \"perplexed\", \"differnece\", \"individually\", \"hypothesise\", \"shorten\", \"conceal\", \"cmos\", \"mitrnr\", \"settle\", \"pronounce\", \"terminal\", \"capacity\", \"aided\", \"alignment\", \"equ\", \"test\", \"lamp\", \"four\", \"millimetre\", \"range\", \"rydberg\", \"data\", \"air\", \"light\", \"record\", \"experiment\", \"violet\", \"value\", \"spectrum\", \"would\", \"telescope\", \"constant\", \"diffraction\", \"line\", \"hydrogen\", \"emit\", \"order\", \"grate\", \"could\", \"small\", \"second\", \"therefore\", \"emission\", \"see\", \"large\", \"collimator\", \"different\", \"error\", \"calculate\", \"wavelength\", \"electron\", \"energy\", \"spectrometer\", \"uncertainty\", \"atom\", \"angle\", \"equation\", \"measure\", \"slit\", \"spectral\", \"measurement\", \"correspondence\", \"oxide\", \"filing\", \"oxygen\", \"iron\", \"orders\", \"araa\", \"magnesium\", \"indivisible\", \"ladle\", \"designation\", \"doublet\", \"warrant\", \"fed\", \"readjustment\", \"saturnian\", \"humphreys\", \"notion\", \"plumpudding\", \"identifiable\", \"disappear\", \"january\", \"pulse\", \"predecessor\", \"collectively\", \"sulfate\", \"irst\", \"\\u03c0d\", \"atomism\", \"hdelta\", \"combat\", \"ep\", \"chlorine\", \"delta\", \"incorrect\", \"common\", \"grate\", \"take\", \"ettor\", \"equation\", \"well\", \"could\", \"figure\", \"lie\", \"lamp\", \"show\", \"balmer\", \"position\", \"point\", \"allow\", \"give\", \"value\", \"hydrogen\", \"line\", \"error\", \"measure\", \"visible\", \"experiment\", \"repeat\", \"light\", \"rydberg\", \"one\", \"nm\", \"spectrometer\", \"electron\", \"telescope\", \"gradient\", \"slit\", \"spectral\", \"wavelength\", \"transition\", \"constant\", \"order\", \"level\", \"spectrum\", \"calculate\", \"energy\", \"measurement\", \"angle\", \"noisy\", \"exp\", \"aluminium\", \"improves\", \"meteorological\", \"mind\", \"coherent\", \"anymore\", \"reversely\", \"apprehend\", \"compound\", \"blowtorch\", \"comfort\", \"really\", \"energise\", \"sole\", \"duality\", \"macroscopic\", \"rid\", \"scoop\", \"ca\", \"mystery\", \"wax\", \"heated\", \"ne\", \"shut\", \"alleviate\", \"decompose\", \"neutron\", \"instruct\", \"\\ud835\\udf0bm\", \"\\ud835\\udc5b\\ud835\\udc5a\", \"unprecise\", \"formation\", \"indeed\", \"peak\", \"licl\", \"candle\", \"ray\", \"copper\", \"lithium\", \"wavelength\", \"visible\", \"atom\", \"burn\", \"measurement\", \"first\", \"different\", \"position\", \"distant\", \"uncertainty\", \"grate\", \"obtain\", \"value\", \"one\", \"light\", \"rotate\", \"diffraction\", \"error\", \"maximum\", \"hydrogen\", \"order\", \"give\", \"make\", \"could\", \"line\", \"rydberg\", \"number\", \"telescope\", \"emit\", \"slit\", \"energy\", \"electron\", \"constant\", \"experiment\", \"lamp\", \"level\", \"spectrum\", \"angle\", \"result\", \"spectrometer\", \"measure\", \"equation\", \"calculate\", \"graphically\", \"isolated\", \"acceptable\", \"pdf\", \"bisect\", \"spent\", \"disparity\", \"socratic\", \"depletes\", \"regardless\", \"escape\", \"challenge\", \"gov\", \"shorten\", \"pcc\", \"undeflected\", \"abstract\", \"proximity\", \"descend\", \"district\", \"seperation\", \"oflimiting\", \"tweak\", \"id\", \"guarantee\", \"inference\", \"org\", \"divergent\", \"inaccurate\", \"compensate\", \"disagrees\", \"beneficial\", \"vapour\", \"anode\", \"allow\", \"produce\", \"equ\", \"intensity\", \"complete\", \"colour\", \"order\", \"would\", \"light\", \"relationship\", \"measure\", \"graph\", \"accurate\", \"second\", \"see\", \"constant\", \"well\", \"value\", \"calculate\", \"diffraction\", \"wavelength\", \"spectrometer\", \"energy\", \"measurement\", \"low\", \"data\", \"photon\", \"spectral\", \"grate\", \"line\", \"hydrogen\", \"lamp\", \"uncertainty\", \"found\", \"rydberg\", \"error\", \"angle\", \"could\", \"take\", \"level\", \"equation\", \"electron\", \"experiment\", \"spectrum\", \"finish\", \"road\", \"measming\", \"fonnula\", \"miitor\", \"\\u03bbred\", \"\\u03bbblue\", \"\\u03bbpurple\", \"isolated\", \"om\", \"avelengths\", \"een\", \"shut\", \"methos\", \"subsituting\", \"oscillatory\", \"utitlised\", \"border\", \"illuminates\", \"tumed\", \"infinty\", \"datapoints\", \"betv\", \"critical\", \"transforms\", \"macroscopic\", \"rapid\", \"reversely\", \"graphically\", \"comprehensive\", \"user\", \"orientate\", \"data\", \"ray\", \"indeed\", \"value\", \"setup\", \"associate\", \"show\", \"constant\", \"light\", \"scale\", \"nm\", \"grate\", \"read\", \"calculate\", \"slit\", \"amount\", \"wavelength\", \"telescope\", \"different\", \"position\", \"spectrometer\", \"also\", \"source\", \"maximum\", \"take\", \"see\", \"set\", \"would\", \"hydrogen\", \"measure\", \"uncertainty\", \"graph\", \"order\", \"error\", \"rydberg\", \"experiment\", \"line\", \"energy\", \"diffraction\", \"level\", \"angle\", \"spectral\", \"result\", \"lamp\", \"electron\", \"improbability\", \"hope\", \"programmed\", \"tainty\", \"unceitainties\", \"illuminates\", \"quadratm\", \"ors\", \"cruried\", \"mn\", \"transforms\", \"testament\", \"ily\", \"blacked\", \"tens\", \"life\", \"involunta\", \"remeasured\", \"tlus\", \"assort\", \"ponent\", \"ensmed\", \"prevalent\", \"calliperlike\", \"smm\", \"unce\", \"depletes\", \"happy\", \"mining\", \"practically\", \"ever\", \"underneath\", \"spectrometer\", \"lamp\", \"position\", \"collimator\", \"image\", \"right\", \"band\", \"camera\", \"slit\", \"value\", \"wavelength\", \"produce\", \"telescope\", \"electron\", \"rotate\", \"minute\", \"grate\", \"cross\", \"low\", \"calibrate\", \"see\", \"line\", \"take\", \"error\", \"measurement\", \"record\", \"constant\", \"data\", \"small\", \"calculate\", \"hydrogen\", \"light\", \"atom\", \"observe\", \"energy\", \"red\", \"series\", \"rydberg\", \"diffraction\", \"angle\", \"measure\", \"order\", \"experiment\", \"equation\", \"uncertainty\", \"emission\", \"spectral\", \"ors\", \"cornell\", \"tens\", \"instrnment\", \"een\", \"esponding\", \"pru\", \"assort\", \"depicts\", \"cmcial\", \"om\", \"equip\", \"visibly\", \"avelengths\", \"\\u03bbpurple\", \"detennining\", \"calliperlike\", \"sect\", \"miitor\", \"con\", \"december\", \"ascend\", \"reversely\", \"roo\", \"lrunp\", \"suppo\", \"meteorological\", \"obltcll\", \"calliper\", \"slim\", \"existent\", \"really\", \"lamp\", \"ray\", \"grate\", \"revise\", \"set\", \"telescope\", \"spectrometer\", \"graph\", \"low\", \"order\", \"value\", \"data\", \"accurate\", \"wavelength\", \"measurement\", \"maximum\", \"run\", \"figure\", \"could\", \"side\", \"one\", \"much\", \"collimator\", \"light\", \"equation\", \"error\", \"rotate\", \"constant\", \"see\", \"calculate\", \"gradient\", \"hydrogen\", \"colour\", \"line\", \"take\", \"rydberg\", \"diffraction\", \"red\", \"experiment\", \"energy\", \"angle\", \"electron\", \"spectrum\", \"slit\", \"level\", \"rm\", \"ecision\", \"ionizing\", \"colliniator\", \"lament\", \"rms\", \"\\u210e\\u03bd\", \"fi\", \"im\", \"loosely\", \"nvalue\", \"superior\", \"translates\", \"bahner\", \"encourage\", \"esponded\", \"sinq\", \"intensit\", \"binding\", \"seventh\", \"triangle\", \"sulting\", \"nanometre\", \"emier\", \"artefact\", \"fri\", \"undetermined\", \"securely\", \"hyd\", \"tional\", \"millinietre\", \"ev\", \"eqn\", \"vaporise\", \"measu\", \"slit\", \"value\", \"compound\", \"light\", \"grate\", \"line\", \"centre\", \"spectral\", \"cyan\", \"lamp\", \"position\", \"see\", \"order\", \"hydrogen\", \"spectrum\", \"however\", \"take\", \"produce\", \"screw\", \"measure\", \"red\", \"constant\", \"point\", \"also\", \"colour\", \"decrease\", \"rotate\", \"image\", \"analysis\", \"degree\", \"wavelength\", \"would\", \"different\", \"electron\", \"energy\", \"error\", \"calculate\", \"experiment\", \"spectrometer\", \"angle\", \"rydberg\", \"diffraction\", \"result\", \"measurement\", \"give\", \"uncertainty\"], \"Freq\": [1578.0, 1753.0, 1568.0, 1429.0, 1406.0, 1256.0, 1408.0, 1187.0, 1259.0, 1015.0, 774.0, 834.0, 952.0, 720.0, 648.0, 772.0, 717.0, 737.0, 686.0, 724.0, 599.0, 639.0, 498.0, 563.0, 548.0, 508.0, 542.0, 485.0, 570.0, 449.0, 3.5663207826047, 2.426963586536794, 8.034989270376286, 2.293595635858993, 2.2748937650799164, 4.282545961907215, 2.213705419986643, 2.753609823958533, 1.2776648968118847, 2.900074753423253, 2.1444829497037596, 4.0840680235032645, 2.110249713084344, 4.886646206809486, 607.2588199897182, 2.63185130198214, 3.5198651029296903, 2.4593832548674412, 1.1937324380769987, 1.155053485299234, 13.515741659100161, 2.555060615089191, 1.1941735345213806, 1.153372371108853, 1.8381427575445215, 1.1637972964556937, 1.2019199272949257, 1.8489107824458304, 39.08616983455262, 2.6074980072541627, 409.16728059851613, 20.92695944711396, 6.300606591742255, 3.718894945681343, 186.1162352150297, 81.81989847454454, 309.0388218257501, 12.38988035027113, 348.10216155089296, 177.537240838367, 627.9064369092717, 37.128526827464036, 238.84801092081995, 121.8528840725716, 878.7854112946744, 708.4716830429155, 366.870443445448, 157.09536349302385, 388.8907507328817, 176.17966687729523, 146.02014521551337, 77.50775966067884, 743.0603590205183, 208.42396156408537, 407.27539254741487, 248.01236082097478, 224.435930658106, 196.66820340599764, 342.16163985585456, 197.04460570520354, 632.312511374548, 342.9220968996082, 347.2415818725183, 215.29037260033013, 669.6078911966756, 442.1664343579601, 197.2657915330043, 263.9303330063254, 557.576053694596, 501.4981802937069, 494.2541418130661, 324.6151481385216, 251.88647724466418, 263.183597588702, 254.4897976835234, 273.4128059914075, 1.4009812060000024, 1.4251809958638195, 0.7990139092249812, 0.7674930427904, 0.7234909943409169, 0.6967493716076526, 0.6855515624182333, 1.0392946488248433, 0.6503747149144016, 0.6133305025285692, 0.9391145211031332, 1.3880107612612338, 0.5752566631114504, 0.573244986385289, 0.5733267732241272, 0.9401649898028607, 0.9014717943320444, 2.1712889069989156, 0.5694937898803332, 0.8191553462165865, 0.5705164899431, 0.5460805755207948, 1.1800708224223133, 1.2810548430696016, 0.5210365461779162, 0.5387124684795549, 0.8235452821345187, 0.5404541149592106, 1.092436649947453, 0.5307532601246321, 2.774598698883364, 17.6940014464236, 45.763199814181306, 5.234617264669759, 40.904067020349174, 34.052658359344456, 108.86663666060811, 27.35407077646113, 183.94208007256563, 289.0448091194584, 84.29284396806193, 314.7116414727905, 117.76778245859448, 58.92419111688734, 32.98629603416287, 341.6947008987171, 24.104292974443627, 105.64932665377441, 301.6724753730697, 100.36344982205871, 127.63303005449531, 114.43298328801745, 304.7622241608808, 106.4865049998732, 90.6017071772433, 230.74515542872132, 240.04056580293414, 87.1662885633095, 261.81043830343026, 191.87428637504397, 62.377408880246975, 140.37584439954173, 137.81698236790643, 93.0236125900281, 73.0482770119799, 135.35488984344008, 269.6824767142948, 113.78950728688275, 135.75072550473712, 96.5951478367351, 92.55881251625176, 128.80919722634235, 106.79043218454143, 101.74029588990109, 105.53713406890763, 16.76091507493319, 0.5541584374204286, 0.7476385802650426, 1.0428624132541193, 0.52484376046936, 0.5131820527028226, 0.5113322606802023, 7.292042772248029, 1.293705636264588, 3.3114092924139604, 0.49844535743429513, 1.0126785053294582, 0.48132184133885947, 0.42642420945386583, 1.5618152787682513, 0.750902772430315, 2.9097981381922975, 0.4353755521844104, 0.43357827257268866, 0.46446502806150003, 1.4167623541682535, 0.6889353043221155, 0.9381409964977447, 0.4336318672286147, 0.4094185169040305, 0.9273344505194425, 0.42860225109873373, 0.40116051680304715, 0.38064131577150034, 0.4004275545946539, 1.2986167700910258, 10.64599652831615, 1.559546328541075, 6.178992345873505, 135.20065899712563, 9.408528578551234, 8.063348074990516, 33.49936161379675, 232.0014846438109, 72.95541190469727, 13.233677138694773, 247.5265233279274, 28.18523211236821, 130.76170020643335, 31.697740976107426, 255.3045095512688, 99.50251277150646, 83.61885685788776, 77.8662250101739, 216.24282859551565, 118.22192620611574, 253.53001016218465, 156.00327703895306, 62.046743403436835, 128.52059247359196, 180.74134906558916, 78.60974353067346, 46.21588749556923, 20.12913112651475, 47.95979642903146, 75.90264179281739, 60.07944403898075, 38.65831336490604, 51.87764840428013, 46.59663296566109, 172.53819224896876, 107.20138782442176, 180.42869882905936, 98.77465988894205, 144.3123987222698, 104.31336934981204, 82.22339242710247, 63.69277372018078, 113.1417061809151, 75.72533279044403, 79.29302071682952, 82.78262137069315, 74.13639983918463, 67.50643203781344, 0.8912884123492645, 0.8730978763379227, 0.8637080925420518, 1.775932329920105, 1.1343604368076574, 0.7460418080571293, 0.7915510189381902, 2.3851425601035308, 0.48210066965707543, 0.4915107664061602, 0.8105932008491407, 3.685830745363782, 0.7799033688763972, 0.4731213749547866, 0.49918183642098113, 0.4651553044589082, 0.46015585045117896, 1.3012595917185563, 0.47778176567622194, 0.7713095355943163, 1.0368826721747149, 0.6527919136494217, 0.459340115737838, 0.471960275974003, 0.7664417412486333, 1.2848299816556807, 0.4474953727482227, 0.44479397028479123, 0.4556274718942318, 0.45145379891943743, 0.7589485968413568, 0.7455313845212711, 1.7615297851493237, 1.5044308953975947, 3.8549353318023716, 2.605615212384241, 242.6586878500853, 98.09651146418902, 2.2124766414945167, 106.31790617627547, 20.773621735157526, 89.83335790282638, 44.97940464593304, 16.96484554061345, 112.46422899371163, 72.59008337345117, 80.54355930958327, 54.195784030579105, 43.01504107819279, 23.40465343110943, 76.02265063188221, 229.56303601254626, 154.35383693568886, 245.30384361387888, 202.42050590803518, 95.21765504148031, 46.94339597109465, 109.45121860167782, 22.681666692761738, 187.30958915014682, 167.66602115321317, 41.796710858451064, 37.82112345835534, 107.20488128062014, 97.01204475176027, 65.08804744458045, 51.6089180705766, 92.61680178458357, 89.18048390017081, 165.68811585166523, 63.82451513171016, 146.052613110602, 99.4750836539753, 80.9878251871473, 73.48463869030626, 87.32024109370654, 105.60755453545492, 64.92582864084176, 72.49559579890717, 0.4491018358977972, 0.31021950255796754, 0.31731155395582394, 0.18378488084316225, 0.2692842052888973, 0.1735338921827775, 0.47425349655056614, 0.16804935494175546, 0.16188287810795274, 0.16545859836120785, 3.18763874044252, 1.153678332513969, 0.1588905890435013, 0.39819364602961843, 0.15550633667661745, 0.15306857866925552, 0.3586214335234968, 0.15216396001078883, 0.1636793204061389, 0.1691511107752387, 0.5482082234414618, 0.15342718825866009, 0.5558259659482249, 0.1710118411215237, 0.14361517827533313, 0.14146468829941244, 0.15346671680199592, 0.14338143747660032, 0.24657775336466106, 0.1510157063810491, 0.22223645192368918, 1.5836308279929174, 0.3134660670420199, 0.44836316730844467, 1.475926091557446, 2.3243305393053904, 0.6729173592414441, 1.1897428080837542, 12.58306178691417, 1.5148788951597727, 1.1412473037638118, 78.45577673715884, 16.97338279466274, 23.73487484707364, 1.3273878402409822, 27.290424662045005, 11.431940532276652, 14.451331925996257, 15.229383077511118, 2.9063154937793105, 25.057421138884948, 47.126870346530104, 16.70541528467089, 55.47499055937829, 12.279521861904172, 49.240449714578226, 10.162868030198005, 28.67109380101224, 47.329626256025676, 18.866993570685775, 35.00501585543314, 30.103665987692903, 18.493184702680114, 14.302334065088218, 19.41495836377997, 50.97418838038304, 39.519527168795356, 14.59976280989294, 18.006097525481806, 15.193604979256511, 24.529391442393816, 33.54536743506346, 24.0349859477935, 36.76141819470817, 23.63369872381631, 21.903841077282163, 21.70791816519246, 20.1498560937974, 25.77564389011461, 19.45954617548819, 21.66887378632896, 19.66528179569018, 18.801811243459106, 19.238479065503597, 0.24057766011129758, 0.27192056801368936, 0.2747780463971077, 0.15267959220454, 0.2488446832748536, 0.2135284307365173, 0.2788675117920399, 0.14332123316042317, 0.11485875105168628, 0.11841427127886127, 0.1401944852381701, 0.2783808008739109, 0.13499617175669817, 0.2744897038298901, 0.17952826143524592, 0.18251970487350405, 0.13304225456988367, 0.11227592206304819, 0.13031402556510605, 0.11280673451633513, 0.10691655606274761, 0.13107509806679182, 0.11907417813551473, 0.12876518053593103, 0.17473143354078316, 0.13188333840013125, 0.12970492845904874, 0.1775705252148899, 1.4177099113984832, 0.12074133571684045, 0.1861788814197602, 0.3978123630612769, 1.0555487245823045, 0.307281032783808, 7.624548279968083, 12.594882683404752, 0.43855403427568873, 7.048052303924663, 1.230868532821059, 19.87159347696655, 39.09141089717721, 23.19817971274562, 60.24122626616095, 5.412229306115173, 27.382900349983295, 12.111949265443865, 10.84328801948221, 5.3699609070571395, 17.141655316308306, 56.749523882750424, 5.071552917176787, 59.9195124746529, 31.94052939934887, 29.334422681747046, 56.34182591262305, 30.743654117290056, 43.391628672899444, 21.031203847389868, 8.752729310564686, 15.463902562554123, 14.563684315449674, 25.94567347245952, 41.4652877863671, 53.252114158500824, 34.16214724387995, 23.42086093889476, 20.99982622502607, 9.83705960027554, 34.88888670044524, 37.44111657393954, 27.37191924484356, 16.62500778019324, 16.829267671126672, 18.797302751187, 17.331896232499474, 18.994856374942835, 18.570499714089284, 16.955890440263772, 0.011623452524626206, 0.01149867828975918, 0.010812313638010886, 0.010464410752354315, 0.0102570659225445, 0.010197849548047115, 0.01011795375464964, 0.009990243984344335, 0.01398891670513217, 0.00983091612706065, 0.009664026379109665, 0.013925280617651936, 0.008424990962259023, 0.009126489119682914, 0.008584224614989306, 0.009611848604179714, 0.008979780418155956, 0.008140611726389916, 0.008303098171183482, 0.014042358036620337, 0.00844406768820865, 0.013249107075267837, 0.013245550397548414, 0.008979724503195226, 0.008059675428505829, 0.0077360925119098626, 0.008117160262534548, 0.007337812069950293, 0.006791121774560711, 0.012235267947211092, 0.01712977187920818, 0.013567371385110102, 1.2977227969221659, 0.6145353304859104, 0.06512234117160777, 3.852605597244622, 0.3109022349337578, 0.33599177375430384, 0.9957146387505064, 2.856616187514922, 2.768554422525282, 0.9614723556973586, 0.5873882378026247, 2.316738823773442, 0.20234039220285355, 1.542386905211881, 1.454924470806529, 0.18737179190187175, 2.6361172999853664, 0.9471648938920378, 0.6451429660535276, 0.6851882690449401, 1.445857650850971, 0.7656109029267454, 0.6483250816064512, 0.933730911292375, 0.9899535501706179, 0.7873283903660268, 0.6730733738527527, 0.9314820990909187, 1.6460449572651366, 1.1068695353541382, 1.036734631888667, 0.5359759581337373, 1.3240454210784152, 1.9001219164604246, 1.700876548612531, 1.1241178712609445, 1.8339598341629735, 1.434811888605288, 1.073070293276785, 0.9621373450320542, 1.1275615326893065, 0.9594512486646734, 0.8409938387411366, 0.8545806879812625, 0.8659132793889742, 0.000589638848191618, 0.0005151477457315175, 0.0005257594591991563, 0.0005212251532716118, 0.0005133467405663631, 0.0004923369143089161, 0.0004985939869394555, 0.000466777473096214, 0.0004795473102219212, 0.00048758178515999356, 0.0004825809167423356, 0.0005085270232170093, 0.0004908855977473805, 0.0004988345771221212, 0.0004582589149523415, 0.00047119787709298203, 0.0004913634605807476, 0.0004987006663266846, 0.0004818078281217648, 0.0004518159568589238, 0.00047121588161541363, 0.0004649189294860526, 0.0004803826025668239, 0.0004563561375826552, 0.00047562266990807794, 0.0018732419355294884, 0.00044124035610902207, 0.000482707397648477, 0.00045803664031072907, 0.0004624615022410742, 0.0012054400299152123, 0.0009638773956924681, 0.1093450573377852, 0.0939758341155784, 0.04701937610756328, 0.047137705837668235, 0.03220433996493965, 0.008871936948879694, 0.007209918679528337, 0.024252421533339535, 0.09075617376753851, 0.1725597177033061, 0.17160534780130152, 0.031017207596939284, 0.056693060453348966, 0.081834507567435, 0.02816217276372677, 0.010541725431013588, 0.12292396337698278, 0.024170863327527596, 0.02574283161508223, 0.007883034303736037, 0.044839890308254325, 0.155453620526348, 0.05609945667065319, 0.12787067778515943, 0.057096361755816886, 0.019745375213024174, 0.1277405774516449, 0.04267454604186546, 0.033143413832900544, 0.07536516099538977, 0.09186155772456099, 0.1159129124922923, 0.04539744800031329, 0.039002436261149596, 0.09825091196588145, 0.05178301583181843, 0.0469018956656412, 0.09289846782183897, 0.06387535349128805, 0.0749447633448655, 0.056230335518335346, 0.06833311234505283, 0.06261542120186167, 0.05179560033640326, 0.04916360317715497, 0.04649304302635291, 0.0465513873551662, 0.0006276375092479251, 0.0006299271905033608, 0.0006150625430243676, 0.0006130401951353489, 0.0009251494123192075, 0.0005891310682537153, 0.0005948366451404302, 0.0005726545415680068, 0.0005998914435943164, 0.0005866891977343577, 0.0005992393519934521, 0.0005729544622359401, 0.0006008069290574907, 0.000592607507842849, 0.0005850607311419289, 0.0008984898204298371, 0.0005675120718692138, 0.0005604832017301459, 0.0005730686732979887, 0.0005844925440671323, 0.0005711812015890533, 0.0005879988409505505, 0.0005226054572115336, 0.000571545778504216, 0.0005818479618715336, 0.0005721515982103502, 0.0008131773708855301, 0.0005703431584829293, 0.0005524008943700527, 0.0005376967989619455, 0.0005895458911247686, 0.0012236887657072308, 0.10299932293202395, 0.03235250817748312, 0.16134020171898264, 0.0016743395605325344, 0.04817256363958596, 0.06296109381719103, 0.09861563517546126, 0.03806114101355933, 0.029342952628203228, 0.0985642983225035, 0.15953420254891298, 0.04935788495276844, 0.03276445921915654, 0.15184763454906608, 0.06304482251697023, 0.0561813117496245, 0.009232235891922203, 0.03226316630637845, 0.05680013624261459, 0.01274521528013152, 0.03309541516221636, 0.014784455209848104, 0.03856328320048595, 0.12022593783465388, 0.057840116670523425, 0.11325766998574702, 0.02590499577392492, 0.11280890821769805, 0.04138322281454556, 0.07128172901167308, 0.038612465904952376, 0.08535887266070352, 0.0428514408852471, 0.11939963832115857, 0.048683202991300786, 0.09069548139834456, 0.06098483729685455, 0.04878782737377621, 0.0595563935654427, 0.07578333317579633, 0.058660864938933265, 0.05234864367655773, 0.04718592824413194, 0.050502600345724125, 0.04785043218572575, 0.0007555824919724917, 0.0007079300610850297, 0.0007235991718250913, 0.0007127614589246134, 0.0007066951539726547, 0.0007321249240851412, 0.0007284484007613279, 0.0007393136896601177, 0.0007038674737848493, 0.0007266373004210667, 0.0007023340685854837, 0.0006933084927169328, 0.0007061554522914069, 0.0007018470999536395, 0.0006849660275434073, 0.0006755939893201252, 0.0006474952219574879, 0.0006743941914988342, 0.0006937974656193311, 0.0006787704816971045, 0.0007845029411494914, 0.0006762543619112794, 0.0006821176826350623, 0.0010398541974579836, 0.000802637581122084, 0.0006821055878989605, 0.0006780260679682378, 0.0007660516264293667, 0.0006776550705774146, 0.0006858613144660458, 0.0010268929944619314, 0.001093562981057412, 0.0020706694111685374, 0.001089736552118715, 0.0010323381828804832, 0.0977244503618463, 0.16394736298529605, 0.006337712488788055, 0.14461139033484466, 0.12749060053152741, 0.15875494763999248, 0.018604790424654412, 0.075454672365334, 0.0076496410922676636, 0.07038966338480267, 0.038810591062039636, 0.0452791622370728, 0.08363192814337886, 0.09652664298855367, 0.06246113398864477, 0.03285481458163072, 0.05513327314302516, 0.028862906984071006, 0.008809543700843034, 0.061941441285901434, 0.053216679611748155, 0.11378657837661625, 0.029811523537610355, 0.03997512699123363, 0.043053124813520395, 0.010713261245178919, 0.02569615066231535, 0.02634535518149151, 0.0120711249652451, 0.023358168231720936, 0.1076637922510925, 0.0456291051112901, 0.03139830647036999, 0.05913854991630783, 0.08071926577827933, 0.08973624291147694, 0.060981408407286504, 0.059134940570603964, 0.06045436873981997, 0.06830629242734398, 0.07973709027148602, 0.05403512971262408, 0.04665779517619842, 0.042685453682463514, 0.04163870804260033, 0.042793331540762015], \"Total\": [1578.0, 1753.0, 1568.0, 1429.0, 1406.0, 1256.0, 1408.0, 1187.0, 1259.0, 1015.0, 774.0, 834.0, 952.0, 720.0, 648.0, 772.0, 717.0, 737.0, 686.0, 724.0, 599.0, 639.0, 498.0, 563.0, 548.0, 508.0, 542.0, 485.0, 570.0, 449.0, 4.885597482869889, 3.4141843222742554, 11.711562558194359, 3.3482990091051827, 3.3366747181469165, 6.281735051723181, 3.2894646350053134, 4.1828596977392545, 1.942437196262172, 4.444948184046894, 3.3013358732006033, 6.302481707915075, 3.2782323183890765, 7.651190566494045, 952.9102926268067, 4.142677961743583, 5.542133986510965, 3.9014372709235006, 1.8952439617680799, 1.8447426218569245, 21.588257143838934, 4.093837201180126, 1.9181326663632328, 1.8563242398843178, 2.958968675027615, 1.8738172874180494, 1.9410770489276636, 2.995668285074541, 63.341500939616914, 4.227500628150923, 686.9750773346135, 34.37899146592127, 10.280376134519638, 6.039099417733952, 321.2226351874322, 138.99891853908136, 542.3128216622661, 20.60057491957908, 639.3310217651651, 320.4867174327129, 1187.1981071032062, 64.41494506246893, 449.35634986116304, 223.58166707050097, 1753.795612364567, 1429.299457381483, 720.6544341918147, 297.109593527495, 772.0921288242257, 338.18856759648423, 277.2323569710604, 141.42774173809232, 1568.7367113243286, 407.5109127629113, 834.8499175460839, 498.12521621570966, 449.2903559032299, 391.45863714898536, 717.3923116432826, 394.39169915061103, 1408.9845803414503, 724.7496563173096, 737.7545559296753, 435.0228802415226, 1578.9808108358848, 1015.484789837598, 396.7877293132319, 563.9362039622359, 1406.7156221896662, 1256.2594347346137, 1259.3390781868934, 774.2022794572424, 548.2470095625737, 599.7897358516792, 570.0901746433988, 648.1458552156132, 2.697122286484641, 2.7720255018496562, 1.584179448074156, 1.6152418092161147, 1.6240367385146925, 1.5835392379082536, 1.6081043804267667, 2.4941603806497223, 1.5632346229619252, 1.563840058406136, 2.5680743799880594, 3.8031160820595336, 1.5836833528389678, 1.581256472294816, 1.5888284741058716, 2.6127345384358236, 2.51460121655962, 6.0770262480597355, 1.5970151149809988, 2.3085059786488946, 1.6084365339486013, 1.5425357759335874, 3.372882034777035, 3.6928996643875984, 1.504416387771758, 1.5607657571958597, 2.414958375386975, 1.5941765288466345, 3.2238057863381764, 1.5818295977187324, 8.527382142694165, 60.07685505436554, 164.45190751387287, 16.935111890079906, 151.46947710154637, 124.91621824875439, 434.0161985029404, 99.51643016212694, 774.2022794572424, 1259.3390781868934, 335.3781297683769, 1408.9845803414503, 485.8325794785054, 229.84570770966891, 123.36208970407185, 1568.7367113243286, 87.90743844874241, 441.4943861515396, 1406.7156221896662, 435.0228802415226, 570.0901746433988, 508.3389142546505, 1578.9808108358848, 485.3593672019921, 409.6527122886928, 1187.1981071032062, 1256.2594347346137, 392.6540089820751, 1429.299457381483, 1015.484789837598, 272.0584922864586, 724.7496563173096, 720.6544341918147, 447.23023611364005, 333.27104897812177, 717.3923116432826, 1753.795612364567, 599.7897358516792, 772.0921288242257, 498.12521621570966, 473.40042573414513, 834.8499175460839, 737.7545559296753, 639.3310217651651, 952.9102926268067, 44.502632927820684, 1.5099739266051708, 2.0456113146448507, 2.900159145721223, 1.498909554943714, 1.4924085619417302, 1.507628382730918, 21.50495578065743, 3.8572342306787313, 9.948216964380505, 1.5313641986071516, 3.139277173811224, 1.5028763745509846, 1.3512846783592483, 4.979823183994727, 2.398408385699892, 9.302233320916251, 1.412518664558171, 1.4177499444657682, 1.533496153919167, 4.74284973894443, 2.3092512793690836, 3.1485847969579916, 1.4651586293350087, 1.4051400207420883, 3.225016038374837, 1.5094678272275786, 1.4174210718322395, 1.34557012766921, 1.429853223137145, 4.75696208782589, 42.1331271877845, 5.78900319488171, 24.40217133840502, 648.1458552156132, 38.48929412522126, 32.83229549982227, 152.85974707994865, 1259.3390781868934, 359.51911756721597, 57.16615681862946, 1406.7156221896662, 132.6194405546332, 737.7545559296753, 154.2630441406354, 1578.9808108358848, 563.9362039622359, 468.92545366237107, 437.9841121635858, 1429.299457381483, 724.7496563173096, 1753.795612364567, 1015.484789837598, 356.76214198153525, 834.8499175460839, 1256.2594347346137, 473.40042573414513, 260.80685696570737, 97.46324301850606, 274.7910420375906, 485.3593672019921, 365.91850389383035, 214.16330280783717, 308.3717301638889, 270.2868872398575, 1408.9845803414503, 772.0921288242257, 1568.7367113243286, 717.3923116432826, 1187.1981071032062, 774.2022794572424, 570.0901746433988, 409.6527122886928, 952.9102926268067, 548.2470095625737, 599.7897358516792, 720.6544341918147, 686.9750773346135, 508.3389142546505, 2.3988307671526603, 2.3569702592017334, 2.3998870423575225, 5.0559584496497445, 3.2555746127516954, 2.152621932046523, 2.3574734822178014, 7.112839539218579, 1.4386509965731789, 1.4742105517946607, 2.4690912942037597, 11.266282260993101, 2.410678448398011, 1.465145188984744, 1.5470683411478483, 1.463636330124594, 1.448194627306863, 4.1041859303177315, 1.5086064728174746, 2.4397173217576484, 3.281869787388799, 2.0761819596482587, 1.4624425613110732, 1.5037579205573361, 2.4475506704203953, 4.108173331243806, 1.433684300641102, 1.439660933291906, 1.479989857992546, 1.4695943862373124, 2.4853061702179042, 2.445702165942619, 5.9354258155328194, 5.058050548568397, 13.747054568269087, 9.103298913922325, 1256.2594347346137, 485.8325794785054, 7.959268275390519, 548.2470095625737, 92.57791227481124, 473.40042573414513, 222.3981581364475, 75.75370000730166, 648.1458552156132, 396.7877293132319, 447.23023611364005, 296.1347311630111, 228.85820186247406, 114.70010929242298, 441.4943861515396, 1578.9808108358848, 1015.484789837598, 1753.795612364567, 1408.9845803414503, 599.7897358516792, 272.0584922864586, 737.7545559296753, 115.93324607079133, 1406.7156221896662, 1259.3390781868934, 241.07459704257408, 216.3327950318571, 774.2022794572424, 717.3923116432826, 437.9841121635858, 335.45537017101884, 720.6544341918147, 686.9750773346135, 1568.7367113243286, 449.2903559032299, 1429.299457381483, 834.8499175460839, 639.3310217651651, 563.9362039622359, 772.0921288242257, 1187.1981071032062, 508.3389142546505, 952.9102926268067, 2.5879645000717098, 1.8747827190510211, 2.0531308606799077, 1.2683247003810407, 1.917787147183789, 1.2716540928711009, 3.4981700066478365, 1.26431847214201, 1.222260268842954, 1.2514712571846356, 24.458767349634087, 8.938619507362915, 1.2428662966712603, 3.1971180887946127, 1.2727822508537185, 1.2705242513960964, 2.9785706155938287, 1.2742745244475548, 1.3789893348382691, 1.4251076952219464, 4.632291625935353, 1.2965676709171918, 4.714376644690324, 1.4781401078547995, 1.2614428510447324, 1.2425783089781115, 1.3522097497474972, 1.2642562414196679, 2.1842458439739185, 1.3459773973980151, 1.9816169310594063, 14.584282710624098, 2.8272953366733797, 4.123045045829606, 14.371513005310009, 23.563694089566823, 6.518181993072711, 12.112347342039085, 164.45190751387287, 16.354159451439234, 12.195405557669108, 1568.7367113243286, 272.0584922864586, 409.6527122886928, 15.054917209931892, 508.3389142546505, 187.96583641618736, 270.2868872398575, 296.1347311630111, 39.40745901469551, 570.0901746433988, 1256.2594347346137, 347.3522266885154, 1578.9808108358848, 241.07459704257408, 1406.7156221896662, 192.75921321106415, 724.7496563173096, 1408.9845803414503, 449.35634986116304, 1015.484789837598, 834.8499175460839, 441.4943861515396, 314.11420586701325, 473.40042573414513, 1753.795612364567, 1259.3390781868934, 324.3264888678789, 437.9841121635858, 356.76214198153525, 720.6544341918147, 1187.1981071032062, 717.3923116432826, 1429.299457381483, 737.7545559296753, 648.1458552156132, 639.3310217651651, 563.9362039622359, 952.9102926268067, 542.3128216622661, 774.2022794572424, 599.7897358516792, 548.2470095625737, 772.0921288242257, 1.1330664612270378, 1.8924242451530766, 2.1352937793505484, 1.5342663385753694, 2.56203395238097, 2.2273000888265764, 2.925061689083047, 1.521318823914824, 1.271034700427588, 1.3350785904283595, 1.5834875029333733, 3.1533182045901675, 1.5410254318301553, 3.1485847969579916, 2.065842794547776, 2.1183769095064937, 1.5524038718166235, 1.3261222515118536, 1.5422332976324058, 1.3405115161410277, 1.2705822184849085, 1.5628393056846803, 1.4391775126300292, 1.5664179114780832, 2.126217169325012, 1.6074578017798113, 1.5936510698780675, 2.204008682406422, 17.599318178022983, 1.4990954740187323, 2.3213907407644117, 5.019721645653661, 13.696236846758966, 3.857066434466597, 114.70010929242298, 205.73518931327607, 5.78900319488171, 116.14816321117306, 18.062663694863303, 391.45863714898536, 834.8499175460839, 468.92545366237107, 1406.7156221896662, 97.01722354395483, 599.7897358516792, 241.3916531219866, 215.94143196731306, 97.46324301850606, 365.91850389383035, 1429.299457381483, 92.57791227481124, 1578.9808108358848, 772.0921288242257, 724.7496563173096, 1568.7367113243286, 774.2022794572424, 1187.1981071032062, 508.3389142546505, 181.00397952808783, 359.51911756721597, 335.3781297683769, 686.9750773346135, 1256.2594347346137, 1753.795612364567, 1015.484789837598, 648.1458552156132, 570.0901746433988, 218.77860263896443, 1259.3390781868934, 1408.9845803414503, 952.9102926268067, 473.40042573414513, 485.8325794785054, 639.3310217651651, 548.2470095625737, 717.3923116432826, 737.7545559296753, 563.9362039622359, 1.2904003975414111, 1.371026149759143, 1.3279822421057816, 1.3201473170619231, 1.326281291261053, 1.3469521202038848, 1.3371197877764458, 1.3383249565823423, 1.8924242451530766, 1.3353754779907991, 1.3547352611044332, 2.010788105868521, 1.2425783089781115, 1.3597948567104858, 1.2852171280121596, 1.4619801964949022, 1.3707504102612875, 1.2449042647999524, 1.2891635000597423, 2.1943675271523277, 1.3424913315861955, 2.1142121915677574, 2.148588929103462, 1.4579336596303438, 1.3207316181179096, 1.2742745244475548, 1.3446436126026728, 1.222260268842954, 1.1330664612270378, 2.063796188634788, 3.02726408935252, 2.3775154652144037, 359.51911756721597, 164.45190751387287, 14.371513005310009, 1578.9808108358848, 90.63542000617386, 101.9425985104737, 396.7877293132319, 1429.299457381483, 1406.7156221896662, 392.6540089820751, 216.3327950318571, 1256.2594347346137, 62.78754280569697, 772.0921288242257, 720.6544341918147, 57.566849922350805, 1568.7367113243286, 437.9841121635858, 270.2868872398575, 296.1347311630111, 774.2022794572424, 342.8845586214561, 277.2323569710604, 449.35634986116304, 485.8325794785054, 365.91850389383035, 305.26536262235055, 468.92545366237107, 1015.484789837598, 599.7897358516792, 570.0901746433988, 241.3916531219866, 834.8499175460839, 1408.9845803414503, 1259.3390781868934, 737.7545559296753, 1753.795612364567, 1187.1981071032062, 724.7496563173096, 639.3310217651651, 952.9102926268067, 686.9750773346135, 542.3128216622661, 648.1458552156132, 717.3923116432826, 1.3925962163344983, 1.2705684863728033, 1.3270005620609058, 1.3453777881170474, 1.343826335243822, 1.2891635000597423, 1.3487041800177595, 1.2733808881690143, 1.3087395140969915, 1.3335512019110485, 1.3207316181179096, 1.396516698664681, 1.356560181358944, 1.3815587387326123, 1.2711114592314925, 1.307874505056355, 1.3680264288683257, 1.3941543306163715, 1.3479579330873084, 1.2696543428942644, 1.331964917786282, 1.3184305577624393, 1.371210788418221, 1.3048174035011713, 1.3623847741961406, 5.375818474214032, 1.271034700427588, 1.3955058108602099, 1.3334772335971643, 1.346831726558728, 3.677720929377482, 3.019111275905174, 774.2022794572424, 648.1458552156132, 296.1347311630111, 308.3717301638889, 201.99873294774363, 43.65048587435468, 34.160952828900456, 146.5649762725311, 720.6544341918147, 1578.9808108358848, 1568.7367113243286, 205.73518931327607, 437.9841121635858, 717.3923116432826, 192.75921321106415, 59.47253889248724, 1256.2594347346137, 166.73600710289372, 181.00397952808783, 41.546643158810795, 365.91850389383035, 1753.795612364567, 485.8325794785054, 1408.9845803414503, 508.3389142546505, 132.6194405546332, 1429.299457381483, 359.51911756721597, 260.80685696570737, 772.0921288242257, 1015.484789837598, 1406.7156221896662, 409.6527122886928, 333.27104897812177, 1187.1981071032062, 498.12521621570966, 434.0161985029404, 1259.3390781868934, 724.7496563173096, 952.9102926268067, 599.7897358516792, 834.8499175460839, 737.7545559296753, 548.2470095625737, 570.0901746433988, 485.3593672019921, 686.9750773346135, 1.2733808881690143, 1.2789006224596673, 1.2711114592314925, 1.3312545280469232, 2.010788105868521, 1.2861209476790394, 1.2994428396317692, 1.2696543428942644, 1.3300702378440203, 1.3066118637322617, 1.3353754779907991, 1.2900736366452672, 1.3591903447046025, 1.3547352611044332, 1.3383249565823423, 2.0585802048031154, 1.3048174035011713, 1.291995859531154, 1.326281291261053, 1.359899895904702, 1.3293513937333175, 1.3719673157146302, 1.222260268842954, 1.3374402935486425, 1.3626629725681083, 1.348834566379337, 1.917787147183789, 1.347817530866207, 1.3117115566078472, 1.2814712454732442, 1.4158352060089514, 3.1971180887946127, 648.1458552156132, 164.45190751387287, 1256.2594347346137, 4.958457333089993, 305.26536262235055, 437.9841121635858, 774.2022794572424, 241.3916531219866, 181.00397952808783, 834.8499175460839, 1578.9808108358848, 359.51911756721597, 215.94143196731306, 1568.7367113243286, 508.3389142546505, 449.35634986116304, 44.502632927820684, 222.3981581364475, 473.40042573414513, 69.78672096685563, 241.07459704257408, 87.34113213053168, 308.3717301638889, 1406.7156221896662, 548.2470095625737, 1408.9845803414503, 192.75921321106415, 1429.299457381483, 365.91850389383035, 772.0921288242257, 335.45537017101884, 1015.484789837598, 391.45863714898536, 1753.795612364567, 485.8325794785054, 1259.3390781868934, 724.7496563173096, 498.12521621570966, 737.7545559296753, 1187.1981071032062, 952.9102926268067, 717.3923116432826, 563.9362039622359, 720.6544341918147, 639.3310217651651, 1.4500201877026737, 1.3907338528524387, 1.4272293490679075, 1.4099757135983657, 1.408039053839767, 1.4601310939902823, 1.4618046032589709, 1.4885455792352835, 1.4177929449126603, 1.4641021336510018, 1.4187552242696357, 1.4032617772198852, 1.4322294210057112, 1.4296383708222216, 1.4085818528242684, 1.3893942964213208, 1.3377072107332457, 1.395455567307543, 1.4426327726100079, 1.4130286412224216, 1.6336213012324392, 1.4138915687670348, 1.4265973934039324, 2.1751435685830747, 1.6820306624613874, 1.4324168383025464, 1.4258864222459633, 1.613424216473688, 1.4368537467697293, 1.457472370366316, 2.219222499537308, 2.422526601294107, 4.904749584416962, 2.4347794426952665, 2.329837665565843, 720.6544341918147, 1578.9808108358848, 24.458767349634087, 1406.7156221896662, 1256.2594347346137, 1753.795612364567, 107.20925148862241, 686.9750773346135, 33.59883692957377, 648.1458552156132, 296.1347311630111, 365.91850389383035, 834.8499175460839, 1015.484789837598, 563.9362039622359, 240.96827282727574, 485.8325794785054, 205.73518931327607, 41.58704674300096, 599.7897358516792, 498.12521621570966, 1429.299457381483, 228.85820186247406, 342.8845586214561, 391.45863714898536, 57.07817223577712, 192.75921321106415, 201.99873294774363, 68.13999215540376, 174.23780322264014, 1568.7367113243286, 468.92545366237107, 270.2868872398575, 717.3923116432826, 1187.1981071032062, 1408.9845803414503, 772.0921288242257, 737.7545559296753, 774.2022794572424, 952.9102926268067, 1259.3390781868934, 724.7496563173096, 542.3128216622661, 508.3389142546505, 441.4943861515396, 570.0901746433988], \"Category\": [\"Default\", \"Default\", \"Default\", \"Default\", \"Default\", \"Default\", \"Default\", \"Default\", \"Default\", \"Default\", \"Default\", \"Default\", \"Default\", \"Default\", \"Default\", \"Default\", \"Default\", \"Default\", \"Default\", \"Default\", \"Default\", \"Default\", \"Default\", \"Default\", \"Default\", \"Default\", \"Default\", \"Default\", \"Default\", \"Default\", \"Topic1\", \"Topic1\", \"Topic1\", \"Topic1\", \"Topic1\", \"Topic1\", \"Topic1\", \"Topic1\", \"Topic1\", \"Topic1\", \"Topic1\", \"Topic1\", \"Topic1\", \"Topic1\", \"Topic1\", \"Topic1\", \"Topic1\", \"Topic1\", \"Topic1\", \"Topic1\", \"Topic1\", \"Topic1\", \"Topic1\", \"Topic1\", \"Topic1\", \"Topic1\", \"Topic1\", \"Topic1\", \"Topic1\", \"Topic1\", \"Topic1\", \"Topic1\", \"Topic1\", \"Topic1\", \"Topic1\", \"Topic1\", \"Topic1\", \"Topic1\", \"Topic1\", \"Topic1\", \"Topic1\", \"Topic1\", \"Topic1\", \"Topic1\", \"Topic1\", \"Topic1\", \"Topic1\", \"Topic1\", \"Topic1\", \"Topic1\", \"Topic1\", \"Topic1\", \"Topic1\", \"Topic1\", \"Topic1\", \"Topic1\", \"Topic1\", \"Topic1\", \"Topic1\", \"Topic1\", \"Topic1\", \"Topic1\", \"Topic1\", \"Topic1\", \"Topic1\", \"Topic1\", \"Topic1\", \"Topic1\", \"Topic1\", \"Topic1\", \"Topic1\", \"Topic1\", \"Topic1\", \"Topic1\", \"Topic1\", \"Topic1\", \"Topic2\", \"Topic2\", \"Topic2\", \"Topic2\", \"Topic2\", \"Topic2\", \"Topic2\", \"Topic2\", \"Topic2\", \"Topic2\", \"Topic2\", \"Topic2\", \"Topic2\", \"Topic2\", \"Topic2\", \"Topic2\", \"Topic2\", \"Topic2\", \"Topic2\", \"Topic2\", \"Topic2\", \"Topic2\", \"Topic2\", \"Topic2\", \"Topic2\", \"Topic2\", \"Topic2\", \"Topic2\", \"Topic2\", \"Topic2\", \"Topic2\", \"Topic2\", \"Topic2\", \"Topic2\", \"Topic2\", \"Topic2\", \"Topic2\", \"Topic2\", \"Topic2\", \"Topic2\", \"Topic2\", \"Topic2\", \"Topic2\", \"Topic2\", \"Topic2\", \"Topic2\", \"Topic2\", \"Topic2\", \"Topic2\", \"Topic2\", \"Topic2\", \"Topic2\", \"Topic2\", \"Topic2\", \"Topic2\", \"Topic2\", \"Topic2\", \"Topic2\", \"Topic2\", \"Topic2\", \"Topic2\", \"Topic2\", \"Topic2\", \"Topic2\", \"Topic2\", \"Topic2\", \"Topic2\", \"Topic2\", \"Topic2\", \"Topic2\", \"Topic2\", \"Topic2\", \"Topic2\", \"Topic2\", \"Topic2\", \"Topic3\", \"Topic3\", \"Topic3\", \"Topic3\", \"Topic3\", \"Topic3\", \"Topic3\", \"Topic3\", \"Topic3\", \"Topic3\", \"Topic3\", \"Topic3\", \"Topic3\", \"Topic3\", \"Topic3\", \"Topic3\", \"Topic3\", \"Topic3\", \"Topic3\", \"Topic3\", \"Topic3\", \"Topic3\", \"Topic3\", \"Topic3\", \"Topic3\", \"Topic3\", \"Topic3\", \"Topic3\", \"Topic3\", \"Topic3\", \"Topic3\", \"Topic3\", \"Topic3\", \"Topic3\", \"Topic3\", \"Topic3\", \"Topic3\", \"Topic3\", \"Topic3\", \"Topic3\", \"Topic3\", \"Topic3\", \"Topic3\", \"Topic3\", \"Topic3\", \"Topic3\", \"Topic3\", \"Topic3\", \"Topic3\", \"Topic3\", \"Topic3\", \"Topic3\", \"Topic3\", \"Topic3\", \"Topic3\", \"Topic3\", \"Topic3\", \"Topic3\", \"Topic3\", \"Topic3\", \"Topic3\", \"Topic3\", \"Topic3\", \"Topic3\", \"Topic3\", \"Topic3\", \"Topic3\", \"Topic3\", \"Topic3\", \"Topic3\", \"Topic3\", \"Topic3\", \"Topic3\", \"Topic3\", \"Topic3\", \"Topic3\", \"Topic3\", \"Topic3\", \"Topic3\", \"Topic4\", \"Topic4\", \"Topic4\", \"Topic4\", \"Topic4\", \"Topic4\", \"Topic4\", \"Topic4\", \"Topic4\", \"Topic4\", \"Topic4\", \"Topic4\", \"Topic4\", \"Topic4\", \"Topic4\", \"Topic4\", \"Topic4\", \"Topic4\", \"Topic4\", \"Topic4\", \"Topic4\", \"Topic4\", \"Topic4\", \"Topic4\", \"Topic4\", \"Topic4\", \"Topic4\", \"Topic4\", \"Topic4\", \"Topic4\", \"Topic4\", \"Topic4\", \"Topic4\", \"Topic4\", \"Topic4\", \"Topic4\", \"Topic4\", \"Topic4\", \"Topic4\", \"Topic4\", \"Topic4\", \"Topic4\", \"Topic4\", \"Topic4\", \"Topic4\", \"Topic4\", \"Topic4\", \"Topic4\", \"Topic4\", \"Topic4\", \"Topic4\", \"Topic4\", \"Topic4\", \"Topic4\", \"Topic4\", \"Topic4\", \"Topic4\", \"Topic4\", \"Topic4\", \"Topic4\", \"Topic4\", \"Topic4\", \"Topic4\", \"Topic4\", \"Topic4\", \"Topic4\", \"Topic4\", \"Topic4\", \"Topic4\", \"Topic4\", \"Topic4\", \"Topic4\", \"Topic4\", \"Topic4\", \"Topic4\", \"Topic4\", \"Topic4\", \"Topic4\", \"Topic4\", \"Topic5\", \"Topic5\", \"Topic5\", \"Topic5\", \"Topic5\", \"Topic5\", \"Topic5\", \"Topic5\", \"Topic5\", \"Topic5\", \"Topic5\", \"Topic5\", \"Topic5\", \"Topic5\", \"Topic5\", \"Topic5\", \"Topic5\", \"Topic5\", \"Topic5\", \"Topic5\", \"Topic5\", \"Topic5\", \"Topic5\", \"Topic5\", \"Topic5\", \"Topic5\", \"Topic5\", \"Topic5\", \"Topic5\", \"Topic5\", \"Topic5\", \"Topic5\", \"Topic5\", \"Topic5\", \"Topic5\", \"Topic5\", \"Topic5\", \"Topic5\", \"Topic5\", \"Topic5\", \"Topic5\", \"Topic5\", \"Topic5\", \"Topic5\", \"Topic5\", \"Topic5\", \"Topic5\", \"Topic5\", \"Topic5\", \"Topic5\", \"Topic5\", \"Topic5\", \"Topic5\", \"Topic5\", \"Topic5\", \"Topic5\", \"Topic5\", \"Topic5\", \"Topic5\", \"Topic5\", \"Topic5\", \"Topic5\", \"Topic5\", \"Topic5\", \"Topic5\", \"Topic5\", \"Topic5\", \"Topic5\", \"Topic5\", \"Topic5\", \"Topic5\", \"Topic5\", \"Topic5\", \"Topic5\", \"Topic5\", \"Topic5\", \"Topic5\", \"Topic5\", \"Topic5\", \"Topic5\", \"Topic5\", \"Topic5\", \"Topic5\", \"Topic5\", \"Topic6\", \"Topic6\", \"Topic6\", \"Topic6\", \"Topic6\", \"Topic6\", \"Topic6\", \"Topic6\", \"Topic6\", \"Topic6\", \"Topic6\", \"Topic6\", \"Topic6\", \"Topic6\", \"Topic6\", \"Topic6\", \"Topic6\", \"Topic6\", \"Topic6\", \"Topic6\", \"Topic6\", \"Topic6\", \"Topic6\", \"Topic6\", \"Topic6\", \"Topic6\", \"Topic6\", \"Topic6\", \"Topic6\", \"Topic6\", \"Topic6\", \"Topic6\", \"Topic6\", \"Topic6\", \"Topic6\", \"Topic6\", \"Topic6\", \"Topic6\", \"Topic6\", \"Topic6\", \"Topic6\", \"Topic6\", \"Topic6\", \"Topic6\", \"Topic6\", \"Topic6\", \"Topic6\", \"Topic6\", \"Topic6\", \"Topic6\", \"Topic6\", \"Topic6\", \"Topic6\", \"Topic6\", \"Topic6\", \"Topic6\", \"Topic6\", \"Topic6\", \"Topic6\", \"Topic6\", \"Topic6\", \"Topic6\", \"Topic6\", \"Topic6\", \"Topic6\", \"Topic6\", \"Topic6\", \"Topic6\", \"Topic6\", \"Topic6\", \"Topic6\", \"Topic6\", \"Topic6\", \"Topic6\", \"Topic6\", \"Topic6\", \"Topic6\", \"Topic6\", \"Topic7\", \"Topic7\", \"Topic7\", \"Topic7\", \"Topic7\", \"Topic7\", \"Topic7\", \"Topic7\", \"Topic7\", \"Topic7\", \"Topic7\", \"Topic7\", \"Topic7\", \"Topic7\", \"Topic7\", \"Topic7\", \"Topic7\", \"Topic7\", \"Topic7\", \"Topic7\", \"Topic7\", \"Topic7\", \"Topic7\", \"Topic7\", \"Topic7\", \"Topic7\", \"Topic7\", \"Topic7\", \"Topic7\", \"Topic7\", \"Topic7\", \"Topic7\", \"Topic7\", \"Topic7\", \"Topic7\", \"Topic7\", \"Topic7\", \"Topic7\", \"Topic7\", \"Topic7\", \"Topic7\", \"Topic7\", \"Topic7\", \"Topic7\", \"Topic7\", \"Topic7\", \"Topic7\", \"Topic7\", \"Topic7\", \"Topic7\", \"Topic7\", \"Topic7\", \"Topic7\", \"Topic7\", \"Topic7\", \"Topic7\", \"Topic7\", \"Topic7\", \"Topic7\", \"Topic7\", \"Topic7\", \"Topic7\", \"Topic7\", \"Topic7\", \"Topic7\", \"Topic7\", \"Topic7\", \"Topic7\", \"Topic7\", \"Topic7\", \"Topic7\", \"Topic7\", \"Topic7\", \"Topic7\", \"Topic7\", \"Topic7\", \"Topic7\", \"Topic8\", \"Topic8\", \"Topic8\", \"Topic8\", \"Topic8\", \"Topic8\", \"Topic8\", \"Topic8\", \"Topic8\", \"Topic8\", \"Topic8\", \"Topic8\", \"Topic8\", \"Topic8\", \"Topic8\", \"Topic8\", \"Topic8\", \"Topic8\", \"Topic8\", \"Topic8\", \"Topic8\", \"Topic8\", \"Topic8\", \"Topic8\", \"Topic8\", \"Topic8\", \"Topic8\", \"Topic8\", \"Topic8\", \"Topic8\", \"Topic8\", \"Topic8\", \"Topic8\", \"Topic8\", \"Topic8\", \"Topic8\", \"Topic8\", \"Topic8\", \"Topic8\", \"Topic8\", \"Topic8\", \"Topic8\", \"Topic8\", \"Topic8\", \"Topic8\", \"Topic8\", \"Topic8\", \"Topic8\", \"Topic8\", \"Topic8\", \"Topic8\", \"Topic8\", \"Topic8\", \"Topic8\", \"Topic8\", \"Topic8\", \"Topic8\", \"Topic8\", \"Topic8\", \"Topic8\", \"Topic8\", \"Topic8\", \"Topic8\", \"Topic8\", \"Topic8\", \"Topic8\", \"Topic8\", \"Topic8\", \"Topic8\", \"Topic8\", \"Topic8\", \"Topic8\", \"Topic8\", \"Topic8\", \"Topic8\", \"Topic8\", \"Topic8\", \"Topic8\", \"Topic8\", \"Topic9\", \"Topic9\", \"Topic9\", \"Topic9\", \"Topic9\", \"Topic9\", \"Topic9\", \"Topic9\", \"Topic9\", \"Topic9\", \"Topic9\", \"Topic9\", \"Topic9\", \"Topic9\", \"Topic9\", \"Topic9\", \"Topic9\", \"Topic9\", \"Topic9\", \"Topic9\", \"Topic9\", \"Topic9\", \"Topic9\", \"Topic9\", \"Topic9\", \"Topic9\", \"Topic9\", \"Topic9\", \"Topic9\", \"Topic9\", \"Topic9\", \"Topic9\", \"Topic9\", \"Topic9\", \"Topic9\", \"Topic9\", \"Topic9\", \"Topic9\", \"Topic9\", \"Topic9\", \"Topic9\", \"Topic9\", \"Topic9\", \"Topic9\", \"Topic9\", \"Topic9\", \"Topic9\", \"Topic9\", \"Topic9\", \"Topic9\", \"Topic9\", \"Topic9\", \"Topic9\", \"Topic9\", \"Topic9\", \"Topic9\", \"Topic9\", \"Topic9\", \"Topic9\", \"Topic9\", \"Topic9\", \"Topic9\", \"Topic9\", \"Topic9\", \"Topic9\", \"Topic9\", \"Topic9\", \"Topic9\", \"Topic9\", \"Topic9\", \"Topic9\", \"Topic9\", \"Topic9\", \"Topic9\", \"Topic9\", \"Topic9\", \"Topic9\", \"Topic10\", \"Topic10\", \"Topic10\", \"Topic10\", \"Topic10\", \"Topic10\", \"Topic10\", \"Topic10\", \"Topic10\", \"Topic10\", \"Topic10\", \"Topic10\", \"Topic10\", \"Topic10\", \"Topic10\", \"Topic10\", \"Topic10\", \"Topic10\", \"Topic10\", \"Topic10\", \"Topic10\", \"Topic10\", \"Topic10\", \"Topic10\", \"Topic10\", \"Topic10\", \"Topic10\", \"Topic10\", \"Topic10\", \"Topic10\", \"Topic10\", \"Topic10\", \"Topic10\", \"Topic10\", \"Topic10\", \"Topic10\", \"Topic10\", \"Topic10\", \"Topic10\", \"Topic10\", \"Topic10\", \"Topic10\", \"Topic10\", \"Topic10\", \"Topic10\", \"Topic10\", \"Topic10\", \"Topic10\", \"Topic10\", \"Topic10\", \"Topic10\", \"Topic10\", \"Topic10\", \"Topic10\", \"Topic10\", \"Topic10\", \"Topic10\", \"Topic10\", \"Topic10\", \"Topic10\", \"Topic10\", \"Topic10\", \"Topic10\", \"Topic10\", \"Topic10\", \"Topic10\", \"Topic10\", \"Topic10\", \"Topic10\", \"Topic10\", \"Topic10\", \"Topic10\", \"Topic10\", \"Topic10\", \"Topic10\", \"Topic10\", \"Topic10\", \"Topic10\", \"Topic10\", \"Topic10\", \"Topic10\"], \"logprob\": [30.0, 29.0, 28.0, 27.0, 26.0, 25.0, 24.0, 23.0, 22.0, 21.0, 20.0, 19.0, 18.0, 17.0, 16.0, 15.0, 14.0, 13.0, 12.0, 11.0, 10.0, 9.0, 8.0, 7.0, 6.0, 5.0, 4.0, 3.0, 2.0, 1.0, -9.336899757385254, -9.721799850463867, -8.524700164794922, -9.778400421142578, -9.786499977111816, -9.153900146484375, -9.813799858093262, -9.595600128173828, -10.36340045928955, -9.543700218200684, -9.845600128173828, -9.201399803161621, -9.861700057983398, -9.022000312805176, -4.19950008392334, -9.640800476074219, -9.350099563598633, -9.708600044250488, -10.431400299072266, -10.464300155639648, -8.004599571228027, -9.67039966583252, -10.430999755859375, -10.465800285339355, -9.999699592590332, -10.45680046081543, -10.424599647521973, -9.993900299072266, -6.942699909210205, -9.650099754333496, -4.594399929046631, -7.567399978637695, -8.767800331115723, -9.295100212097168, -5.3821001052856445, -6.203999996185303, -4.875, -8.09160041809082, -4.75600004196167, -5.429299831390381, -4.166100025177002, -6.994100093841553, -5.132699966430664, -5.805699825286865, -3.829900026321411, -4.045400142669678, -4.703499794006348, -5.551599979400635, -4.645199775695801, -5.436999797821045, -5.62470006942749, -6.2581000328063965, -3.9976999759674072, -5.268899917602539, -4.598999977111816, -5.09499979019165, -5.194900035858154, -5.327000141143799, -4.773200035095215, -5.324999809265137, -4.15910005569458, -4.770999908447266, -4.758500099182129, -5.236499786376953, -4.101799964904785, -4.5167999267578125, -5.32390022277832, -5.032800197601318, -4.284900188446045, -4.390900135040283, -4.405399799346924, -4.825799942016602, -5.079500198364258, -5.035600185394287, -5.069200038909912, -4.997499942779541, -9.386099815368652, -9.369000434875488, -9.947699546813965, -9.987899780273438, -10.04699993133545, -10.084600448608398, -10.100799560546875, -9.684800148010254, -10.153499603271484, -10.212200164794922, -9.786100387573242, -9.395400047302246, -10.276200294494629, -10.27970027923584, -10.279600143432617, -9.78499984741211, -9.82699966430664, -8.947999954223633, -10.286299705505371, -9.922800064086914, -10.284500122070312, -10.328300476074219, -9.557700157165527, -9.475600242614746, -10.375200271606445, -10.341899871826172, -9.917400360107422, -10.338700294494629, -9.634900093078613, -10.356800079345703, -8.702799797058105, -6.850100040435791, -5.899799823760986, -8.067999839782715, -6.0121002197265625, -6.195400238037109, -5.033199787139893, -6.414400100708008, -4.508699893951416, -4.056700229644775, -5.289000034332275, -3.97160005569458, -4.954599857330322, -5.64709997177124, -6.227200031280518, -3.889400005340576, -6.540900230407715, -5.063199996948242, -4.013999938964844, -5.114500045776367, -4.874100208282471, -4.98330020904541, -4.003799915313721, -5.055300235748291, -5.216800212860107, -4.2820000648498535, -4.242499828338623, -5.255499839782715, -4.155700206756592, -4.4664998054504395, -5.590099811553955, -4.7789998054504395, -4.797399997711182, -5.190499782562256, -5.432199954986572, -4.815400123596191, -4.126100063323975, -4.988999843597412, -4.8125, -5.1528000831604, -5.195499897003174, -4.864999771118164, -5.0524001121521, -5.100900173187256, -5.064199924468994, -6.648600101470947, -10.057900428771973, -9.758500099182129, -9.425700187683105, -10.112299919128418, -10.13479995727539, -10.138400077819824, -7.480800151824951, -9.210100173950195, -8.270299911499023, -10.163900375366211, -9.454999923706055, -10.198800086975098, -10.319899559020996, -9.02180004119873, -9.75409984588623, -8.399499893188477, -10.299200057983398, -10.303299903869629, -10.23449993133545, -9.11929988861084, -9.840200424194336, -9.531499862670898, -10.303199768066406, -10.360600471496582, -9.543100357055664, -10.314900398254395, -10.380999565124512, -10.433500289916992, -10.382800102233887, -9.206299781799316, -7.102399826049805, -9.023200035095215, -7.646500110626221, -4.5609002113342285, -7.22599983215332, -7.380300045013428, -5.956099987030029, -4.020899772644043, -5.177800178527832, -6.884900093078613, -3.9560999870300293, -6.128799915313721, -4.594200134277344, -6.01140022277832, -3.9251999855041504, -4.867400169372559, -5.041399955749512, -5.112599849700928, -4.09119987487793, -4.695099830627441, -3.9321000576019287, -4.417699813842773, -5.339700222015381, -4.611499786376953, -4.270599842071533, -5.103099822998047, -5.634300231933594, -6.4654998779296875, -5.597300052642822, -5.138199806213379, -5.372000217437744, -5.812900066375732, -5.518700122833252, -5.626100063323975, -4.316999912261963, -4.792900085449219, -4.272299766540527, -4.874800205230713, -4.49560022354126, -4.820199966430664, -5.058199882507324, -5.313600063323975, -4.738999843597412, -5.140500068664551, -5.0945000648498535, -5.051400184631348, -5.1616997718811035, -5.25540018081665, -9.517000198364258, -9.537699699401855, -9.548500061035156, -8.82759952545166, -9.275899887084961, -9.694899559020996, -9.635700225830078, -8.532699584960938, -10.131500244140625, -10.112199783325195, -9.611900329589844, -8.097399711608887, -9.650500297546387, -10.150300025939941, -10.096699714660645, -10.1673002243042, -10.178099632263184, -9.13860034942627, -10.14050006866455, -9.661600112915039, -9.365699768066406, -9.828399658203125, -10.179900169372559, -10.152799606323242, -9.667900085449219, -9.151300430297852, -10.206000328063965, -10.2121000289917, -10.187999725341797, -10.197199821472168, -9.677800178527832, -9.695599555969238, -8.835800170898438, -8.993499755859375, -8.052599906921387, -8.444299697875977, -3.9103000164031982, -4.815999984741211, -8.607799530029297, -4.735499858856201, -6.368299961090088, -4.9039998054504395, -5.595699787139893, -6.570799827575684, -4.679299831390381, -5.117099761962891, -5.0131001472473145, -5.409299850463867, -5.640399932861328, -6.249000072479248, -5.070899963378906, -3.9658000469207764, -4.36269998550415, -3.899399995803833, -4.091599941253662, -4.845799922943115, -5.552999973297119, -4.706500053405762, -6.280399799346924, -4.1691999435424805, -4.28000020980835, -5.669099807739258, -5.769100189208984, -4.727200031280518, -4.827099800109863, -5.226200103759766, -5.458199977874756, -4.873499870300293, -4.911300182342529, -4.291800022125244, -5.245800018310547, -4.418000221252441, -4.802000045776367, -5.007599830627441, -5.104899883270264, -4.932400226593018, -4.742199897766113, -5.228700160980225, -5.1184000968933105, -8.904800415039062, -9.274800300598145, -9.25220012664795, -9.798299789428711, -9.416299819946289, -9.85569953918457, -8.850299835205078, -9.887800216674805, -9.925200462341309, -9.903300285339355, -6.945000171661377, -7.961299896240234, -9.94379997253418, -9.025099754333496, -9.965399742126465, -9.981200218200684, -9.129799842834473, -9.987099647521973, -9.91409969329834, -9.881199836730957, -8.705400466918945, -9.978799819946289, -8.69159984588623, -9.87030029296875, -10.044899940490723, -10.0600004196167, -9.978599548339844, -10.046500205993652, -9.504400253295898, -9.99470043182373, -9.60830020904541, -7.644599914550781, -9.264399528503418, -8.906399726867676, -7.715000152587891, -7.260900020599365, -8.500399589538574, -7.930600166320801, -5.571899890899658, -7.689000129699707, -7.9721999168396, -3.74180006980896, -5.272600173950195, -4.937300205230713, -7.821100234985352, -4.797800064086914, -5.667900085449219, -5.433499813079834, -5.381100177764893, -7.037399768829346, -4.8831000328063965, -4.251399993896484, -5.288599967956543, -4.088399887084961, -5.596399784088135, -4.207600116729736, -5.7855000495910645, -4.7484002113342285, -4.247200012207031, -5.166900157928467, -4.548799991607666, -4.6996002197265625, -5.1869001388549805, -5.443900108337402, -5.138199806213379, -4.172999858856201, -4.427499771118164, -5.423299789428711, -5.213600158691406, -5.383399963378906, -4.904399871826172, -4.591400146484375, -4.924799919128418, -4.499800205230713, -4.9415998458862305, -5.017600059509277, -5.026599884033203, -5.101099967956543, -4.854899883270264, -5.136000156402588, -5.02839994430542, -5.125400066375732, -5.170300006866455, -5.14739990234375, -9.445199966430664, -9.322799682617188, -9.312299728393555, -9.899900436401367, -9.411499977111816, -9.564499855041504, -9.297599792480469, -9.963199615478516, -10.184599876403809, -10.15410041809082, -9.985300064086914, -9.299300193786621, -10.02299976348877, -9.313400268554688, -9.73799991607666, -9.721400260925293, -10.037599563598633, -10.207300186157227, -10.058300018310547, -10.20259952545166, -10.256199836730957, -10.052499771118164, -10.148500442504883, -10.070300102233887, -9.765000343322754, -10.04640007019043, -10.062999725341797, -9.748900413513184, -7.671500205993652, -10.134599685668945, -9.701600074768066, -8.942299842834473, -7.9664998054504395, -9.200499534606934, -5.989200115203857, -5.487199783325195, -8.844799995422363, -6.067800045013428, -7.81279993057251, -5.031199932098389, -4.354599952697754, -4.876500129699707, -3.9221999645233154, -6.331900119781494, -4.710599899291992, -5.526299953460693, -5.63700008392334, -6.339700222015381, -5.178999900817871, -3.9818999767303467, -6.396900177001953, -3.927500009536743, -4.556700229644775, -4.6417999267578125, -3.9890999794006348, -4.594900131225586, -4.25029993057251, -4.9745001792907715, -5.851200103759766, -5.2820000648498535, -5.3420000076293945, -4.764500141143799, -4.2957000732421875, -4.045499801635742, -4.4893999099731445, -4.8668999671936035, -4.97599983215332, -5.734399795532227, -4.468400001525879, -4.397799968719482, -4.710999965667725, -5.20959997177124, -5.197400093078613, -5.0868000984191895, -5.168000221252441, -5.076399803161621, -5.098999977111816, -5.189899921417236, -9.573100090026855, -9.583900451660156, -9.645400047302246, -9.678099632263184, -9.698200225830078, -9.703900337219238, -9.711799621582031, -9.724499702453613, -9.387900352478027, -9.740599632263184, -9.757699966430664, -9.392399787902832, -9.89490032196045, -9.814900398254395, -9.876199722290039, -9.763099670410156, -9.831199645996094, -9.929300308227539, -9.909500122070312, -9.383999824523926, -9.8927001953125, -9.44219970703125, -9.442500114440918, -9.831199645996094, -9.939299583435059, -9.980199813842773, -9.932100296020508, -10.033100128173828, -10.11050033569336, -9.52180004119873, -9.18529987335205, -9.418499946594238, -4.857800006866455, -5.605299949645996, -7.849899768829346, -3.7695999145507812, -6.286600112915039, -6.209000110626221, -5.122700214385986, -4.068699836730957, -4.099999904632568, -5.157700061798096, -5.650400161743164, -4.278200149536133, -6.71619987487793, -4.684999942779541, -4.7434000968933105, -6.793000221252441, -4.149099826812744, -5.172699928283691, -5.556700229644775, -5.496399879455566, -4.74970006942749, -5.385499954223633, -5.551700115203857, -5.1869001388549805, -5.128499984741211, -5.357500076293945, -5.5142998695373535, -5.189300060272217, -4.619999885559082, -5.0167999267578125, -5.082300186157227, -5.742000102996826, -4.837699890136719, -4.476500034332275, -4.587200164794922, -5.001399993896484, -4.511899948120117, -4.757299900054932, -5.047800064086914, -5.1570000648498535, -4.998300075531006, -5.159800052642822, -5.291500091552734, -5.2754998207092285, -5.26230001449585, -9.687199592590332, -9.82229995727539, -9.801899909973145, -9.810500144958496, -9.825799942016602, -9.867500305175781, -9.854900360107422, -9.920900344848633, -9.893899917602539, -9.877300262451172, -9.88759994506836, -9.835200309753418, -9.870499610900879, -9.854399681091309, -9.939299583435059, -9.911399841308594, -9.869500160217285, -9.854700088500977, -9.889200210571289, -9.953399658203125, -9.911399841308594, -9.924799919128418, -9.89210033416748, -9.943400382995605, -9.902099609375, -8.531299591064453, -9.977100372314453, -9.887299537658691, -9.939800262451172, -9.930100440979004, -8.972100257873535, -9.195699691772461, -4.464399814605713, -4.615900039672852, -5.3084001541137695, -5.3059000968933105, -5.6869001388549805, -6.976099967956543, -7.183499813079834, -5.970399856567383, -4.6508002281188965, -4.008200168609619, -4.013800144195557, -5.724400043487549, -5.121300220489502, -4.754300117492676, -5.821000099182129, -6.803599834442139, -4.347400188446045, -5.973800182342529, -5.910799980163574, -7.094200134277344, -5.355899810791016, -4.112599849700928, -5.131800174713135, -4.3078999519348145, -5.114200115203857, -6.176000118255615, -4.309000015258789, -5.405399799346924, -5.658100128173828, -4.836599826812744, -4.638700008392334, -4.406099796295166, -5.343500137329102, -5.495299816131592, -4.571400165557861, -5.211900234222412, -5.3109002113342285, -4.627399921417236, -5.001999855041504, -4.842199802398682, -5.129499912261963, -4.934599876403809, -5.021900177001953, -5.211599826812744, -5.263800144195557, -5.319699764251709, -5.318399906158447, -9.624699592590332, -9.621100425720215, -9.645000457763672, -9.648300170898438, -9.236700057983398, -9.687999725341797, -9.678400039672852, -9.716400146484375, -9.669899940490723, -9.69219970703125, -9.670999526977539, -9.715900421142578, -9.668399810791016, -9.68220043182373, -9.694999694824219, -9.265999794006348, -9.7253999710083, -9.737899780273438, -9.715700149536133, -9.695899963378906, -9.718999862670898, -9.6899995803833, -9.807900428771973, -9.718299865722656, -9.700499534606934, -9.717300415039062, -9.365699768066406, -9.720499992370605, -9.752400398254395, -9.779399871826172, -9.687299728393555, -8.957099914550781, -4.524199962615967, -5.682199954986572, -4.075399875640869, -8.643500328063965, -5.28410005569458, -5.01639986038208, -4.567699909210205, -5.519700050354004, -5.779900074005127, -4.56820011138916, -4.086699962615967, -5.259799957275391, -5.669600009918213, -4.136099815368652, -5.015100002288818, -5.13040018081665, -6.936200141906738, -5.684999942779541, -5.1194000244140625, -6.613800048828125, -5.6595001220703125, -6.465400218963623, -5.5065999031066895, -4.36959981918335, -5.10129976272583, -4.429299831390381, -5.9045000076293945, -4.433199882507324, -5.436100006103516, -4.892300128936768, -5.50540018081665, -4.712100028991699, -5.401199817657471, -4.376500129699707, -5.273600101470947, -4.651400089263916, -5.048299789428711, -5.271500110626221, -5.072000026702881, -4.831099987030029, -5.087200164794922, -5.201000213623047, -5.304800033569336, -5.2368998527526855, -5.290900230407715, -9.439200401306152, -9.504300117492676, -9.482399940490723, -9.4975004196167, -9.506099700927734, -9.47070026397705, -9.475799560546875, -9.461000442504883, -9.510100364685059, -9.47819995880127, -9.512299537658691, -9.525199890136719, -9.506799697875977, -9.512999534606934, -9.537300109863281, -9.55109977722168, -9.593600273132324, -9.552900314331055, -9.524499893188477, -9.54640007019043, -9.401599884033203, -9.550100326538086, -9.541500091552734, -9.119799613952637, -9.378800392150879, -9.541500091552734, -9.547499656677246, -9.425399780273438, -9.54800033569336, -9.53600025177002, -9.132399559020996, -9.069499969482422, -8.430999755859375, -9.072999954223633, -9.127099990844727, -4.5767998695373535, -4.0594000816345215, -7.312399864196777, -4.184899806976318, -4.3109002113342285, -4.091599941253662, -6.235499858856201, -4.835400104522705, -7.124300003051758, -4.904900074005127, -5.500199794769287, -5.346099853515625, -4.732500076293945, -4.589099884033203, -5.024400234222412, -5.666800022125244, -5.149199962615967, -5.79640007019043, -6.983099937438965, -5.032700061798096, -5.184500217437744, -4.424600124359131, -5.763999938964844, -5.470699787139893, -5.396500110626221, -6.787399768829346, -5.912600040435791, -5.887599945068359, -6.668099880218506, -6.007999897003174, -4.479899883270264, -5.338399887084961, -5.712200164794922, -5.078999996185303, -4.767899990081787, -4.6620001792907715, -5.048399925231934, -5.079100131988525, -5.057000160217285, -4.934899806976318, -4.780200004577637, -5.169300079345703, -5.316100120544434, -5.405099868774414, -5.429900169372559, -5.402500152587891], \"loglift\": [30.0, 29.0, 28.0, 27.0, 26.0, 25.0, 24.0, 23.0, 22.0, 21.0, 20.0, 19.0, 18.0, 17.0, 16.0, 15.0, 14.0, 13.0, 12.0, 11.0, 10.0, 9.0, 8.0, 7.0, 6.0, 5.0, 4.0, 3.0, 2.0, 1.0, 0.4706, 0.444, 0.4086, 0.407, 0.4023, 0.4022, 0.3893, 0.3673, 0.3664, 0.3583, 0.3539, 0.3515, 0.3448, 0.337, 0.3348, 0.3317, 0.3314, 0.3239, 0.3231, 0.3172, 0.3171, 0.3139, 0.3114, 0.3094, 0.3093, 0.3091, 0.306, 0.3028, 0.3026, 0.3021, 0.2672, 0.2889, 0.2958, 0.3005, 0.2396, 0.2554, 0.223, 0.2769, 0.1774, 0.1947, 0.1484, 0.2344, 0.1534, 0.1784, 0.0944, 0.0835, 0.1102, 0.1481, 0.0995, 0.1332, 0.1442, 0.1839, 0.0381, 0.1149, 0.0676, 0.088, 0.0913, 0.097, 0.045, 0.0914, -0.0159, 0.037, 0.0318, 0.0819, -0.0725, -0.0461, 0.0865, 0.0261, -0.1401, -0.1329, -0.1499, -0.0838, 0.0076, -0.0384, -0.0212, -0.0778, 1.0155, 1.0052, 0.9861, 0.9264, 0.8619, 0.8495, 0.8179, 0.7951, 0.7936, 0.7345, 0.6645, 0.6626, 0.6578, 0.6559, 0.6512, 0.6484, 0.6447, 0.6413, 0.6394, 0.6344, 0.634, 0.6321, 0.6203, 0.6118, 0.6102, 0.6068, 0.5947, 0.5888, 0.5884, 0.5785, 0.5477, 0.4481, 0.3914, 0.4964, 0.3614, 0.3708, 0.2876, 0.3791, 0.2333, 0.1988, 0.2896, 0.1716, 0.2534, 0.3094, 0.3515, 0.1464, 0.3766, 0.2405, 0.1308, 0.2039, 0.1739, 0.1794, 0.0255, 0.1536, 0.1617, 0.0325, 0.0154, 0.1654, -0.0268, 0.0042, 0.1977, 0.029, 0.0163, 0.1003, 0.1527, 0.0028, -0.2018, 0.0083, -0.0678, 0.0302, 0.0384, -0.1984, -0.2622, -0.1675, -0.5299, 0.9497, 0.9238, 0.9197, 0.9034, 0.8768, 0.8587, 0.8449, 0.8447, 0.8338, 0.8262, 0.8038, 0.7948, 0.7876, 0.7728, 0.7667, 0.7649, 0.764, 0.7493, 0.7414, 0.7318, 0.7179, 0.7167, 0.7154, 0.7087, 0.693, 0.6798, 0.6672, 0.664, 0.6635, 0.6534, 0.6279, 0.5506, 0.6146, 0.5527, 0.3588, 0.5174, 0.5221, 0.4082, 0.2346, 0.3313, 0.463, 0.1887, 0.3775, 0.196, 0.3438, 0.1041, 0.1914, 0.202, 0.199, 0.0377, 0.1129, -0.0079, 0.053, 0.177, 0.055, -0.0126, 0.1308, 0.1957, 0.3489, 0.1806, 0.0708, 0.1195, 0.2142, 0.1438, 0.1682, -0.1738, -0.0482, -0.2365, -0.0566, -0.1812, -0.0782, -0.0102, 0.065, -0.2047, -0.0534, -0.0972, -0.2377, -0.3002, -0.0927, 1.0018, 0.9988, 0.9699, 0.9456, 0.9376, 0.9322, 0.9005, 0.8992, 0.8986, 0.8935, 0.878, 0.8746, 0.8634, 0.8615, 0.8607, 0.8456, 0.8454, 0.8432, 0.8421, 0.8403, 0.8397, 0.8349, 0.8338, 0.8331, 0.8308, 0.8295, 0.8275, 0.8173, 0.8138, 0.8116, 0.8057, 0.8039, 0.7771, 0.7793, 0.7204, 0.7409, 0.3476, 0.392, 0.7117, 0.3516, 0.4975, 0.3299, 0.3936, 0.4955, 0.2404, 0.2933, 0.2776, 0.2937, 0.3203, 0.4025, 0.2327, 0.0635, 0.108, 0.0248, 0.0516, 0.1515, 0.2348, 0.0838, 0.3604, -0.0244, -0.0245, 0.2396, 0.2479, 0.0148, -0.0089, 0.0854, 0.1201, -0.0598, -0.0498, -0.256, 0.0404, -0.2891, -0.1355, -0.0742, -0.046, -0.1876, -0.4277, -0.066, -0.5841, 1.5382, 1.4906, 1.4223, 1.3579, 1.3264, 1.2978, 1.2913, 1.2715, 1.268, 1.2662, 1.2518, 1.2421, 1.2326, 1.2065, 1.1873, 1.1732, 1.1726, 1.1644, 1.1583, 1.1583, 1.1554, 1.1553, 1.1516, 1.1327, 1.1167, 1.1166, 1.1135, 1.1128, 1.1082, 1.102, 1.1016, 1.0693, 1.0902, 1.0708, 1.0136, 0.9733, 1.0188, 0.9691, 0.7193, 0.9104, 0.9206, 0.294, 0.5152, 0.4412, 0.861, 0.3649, 0.4897, 0.3608, 0.322, 0.6825, 0.1649, 0.0065, 0.2549, -0.0591, 0.3124, -0.0628, 0.3468, 0.0596, -0.1039, 0.1191, -0.0781, -0.0331, 0.1168, 0.2002, 0.0956, -0.2487, -0.172, 0.1888, 0.0981, 0.1333, -0.0907, -0.2769, -0.1066, -0.371, -0.1514, -0.0979, -0.0932, -0.0422, -0.3206, -0.038, -0.2864, -0.1282, -0.0832, -0.4027, 1.8237, 1.4332, 1.3229, 1.0658, 1.0416, 1.0285, 1.023, 1.011, 0.9694, 0.9507, 0.9489, 0.9461, 0.9383, 0.9335, 0.9303, 0.9217, 0.9164, 0.9042, 0.9023, 0.8982, 0.8981, 0.8948, 0.8812, 0.8747, 0.8744, 0.8728, 0.8648, 0.8546, 0.8545, 0.8543, 0.8501, 0.8381, 0.8102, 0.8434, 0.6623, 0.58, 0.7931, 0.5712, 0.6872, 0.3927, 0.3119, 0.3669, 0.2226, 0.4871, 0.2866, 0.3811, 0.3818, 0.4746, 0.3124, 0.147, 0.4689, 0.1018, 0.1881, 0.1662, 0.0467, 0.1471, 0.0642, 0.1882, 0.3441, 0.227, 0.2366, 0.097, -0.0377, -0.1212, -0.0187, 0.0528, 0.072, 0.2714, -0.2129, -0.2546, -0.1767, 0.0243, 0.0105, -0.1534, -0.0809, -0.2582, -0.3087, -0.131, 1.5658, 1.4944, 1.4647, 1.4379, 1.4133, 1.392, 1.3915, 1.3779, 1.3681, 1.364, 1.3325, 1.3029, 1.2817, 1.2715, 1.2667, 1.2509, 1.2473, 1.2455, 1.2303, 1.2239, 1.2066, 1.2029, 1.1866, 1.1856, 1.1764, 1.1712, 1.1656, 1.16, 1.1584, 1.1475, 1.1009, 1.1093, 0.6513, 0.6859, 0.8787, 0.2597, 0.6003, 0.5604, 0.2878, 0.0602, 0.0448, 0.2632, 0.3666, -0.0203, 0.5379, 0.0597, 0.0703, 0.5478, -0.1133, 0.139, 0.2377, 0.2066, -0.0077, 0.171, 0.2172, 0.0991, 0.0795, 0.1339, 0.1584, 0.054, -0.1493, -0.0196, -0.0343, 0.1654, -0.1711, -0.3333, -0.3317, -0.2112, -0.5876, -0.4429, -0.2398, -0.2236, -0.464, -0.2982, -0.1936, -0.3558, -0.4441, 1.3755, 1.3321, 1.309, 1.2866, 1.2725, 1.2723, 1.2398, 1.2313, 1.2309, 1.2287, 1.2281, 1.2247, 1.2184, 1.2162, 1.2147, 1.214, 1.2109, 1.2068, 1.2061, 1.2016, 1.1958, 1.1925, 1.186, 1.1843, 1.1825, 1.1806, 1.1769, 1.1733, 1.1663, 1.1659, 1.1194, 1.0931, 0.2775, 0.3038, 0.3946, 0.3566, 0.3987, 0.6416, 0.6792, 0.4359, 0.1629, 0.0211, 0.022, 0.3428, 0.1903, 0.0639, 0.3114, 0.5047, -0.0895, 0.3036, 0.2845, 0.5728, 0.1356, -0.1883, 0.0761, -0.1647, 0.0485, 0.3303, -0.1801, 0.1037, 0.1719, -0.0919, -0.168, -0.2613, 0.035, 0.0895, -0.257, -0.0289, 0.0098, -0.372, -0.194, -0.3079, -0.1323, -0.268, -0.2317, -0.1245, -0.2158, -0.1107, -0.4569, 1.5274, 1.5267, 1.509, 1.4594, 1.4586, 1.4542, 1.4535, 1.4387, 1.4386, 1.4342, 1.4336, 1.4232, 1.4185, 1.4081, 1.4074, 1.4058, 1.4023, 1.3997, 1.3958, 1.3905, 1.3901, 1.3876, 1.3853, 1.3847, 1.3839, 1.3773, 1.3769, 1.3749, 1.3701, 1.3664, 1.3588, 1.2745, 0.3955, 0.609, 0.1825, 1.1492, 0.3885, 0.2952, 0.1743, 0.3877, 0.4154, 0.0983, -0.0574, 0.2492, 0.3492, -0.1003, 0.1476, 0.1557, 0.662, 0.3043, 0.1145, 0.5346, 0.2492, 0.4586, 0.1559, -0.2248, -0.0142, -0.2861, 0.2279, -0.3044, 0.0554, -0.1476, 0.073, -0.2414, 0.0227, -0.4522, -0.0656, -0.3959, -0.2403, -0.0885, -0.2818, -0.5166, -0.5529, -0.3828, -0.246, -0.4232, -0.3575, 1.5831, 1.5597, 1.5557, 1.5527, 1.5456, 1.5446, 1.5384, 1.5351, 1.5346, 1.5343, 1.5318, 1.5298, 1.5278, 1.5234, 1.5139, 1.5139, 1.5093, 1.5077, 1.5029, 1.5017, 1.5014, 1.4974, 1.4971, 1.4969, 1.4951, 1.493, 1.4915, 1.49, 1.4833, 1.4811, 1.4643, 1.4395, 1.3726, 1.431, 1.4209, 0.2369, -0.0301, 0.8844, -0.0401, -0.0529, -0.1673, 0.4835, 0.0261, 0.7551, 0.0148, 0.2028, 0.1453, -0.0659, -0.1184, 0.0345, 0.2423, 0.0588, 0.2709, 0.683, -0.0355, -0.0016, -0.2957, 0.1967, 0.0858, 0.0275, 0.562, 0.2198, 0.1979, 0.5042, 0.2254, -0.4441, -0.095, 0.0822, -0.2608, -0.4535, -0.5188, -0.3036, -0.2889, -0.315, -0.4006, -0.5247, -0.3613, -0.2181, -0.2424, -0.1262, -0.3545]}, \"token.table\": {\"Topic\": [1, 1, 1, 2, 4, 1, 2, 3, 4, 5, 6, 1, 2, 3, 4, 1, 2, 3, 4, 5, 6, 1, 2, 3, 4, 5, 6, 1, 2, 3, 4, 5, 6, 1, 2, 3, 4, 5, 6, 7, 1, 1, 2, 3, 4, 1, 2, 1, 2, 3, 4, 5, 6, 1, 2, 3, 4, 5, 6, 1, 2, 3, 4, 5, 6, 7, 1, 2, 3, 4, 5, 6, 1, 2, 3, 4, 1, 1, 3, 4, 1, 2, 3, 1, 1, 2, 3, 4, 5, 6, 1, 2, 3, 4, 5, 6, 7, 1, 2, 3, 4, 5, 6, 1, 1, 2, 3, 4, 5, 6, 7, 1, 2, 3, 4, 5, 6, 1, 2, 3, 4, 5, 6, 1, 2, 3, 4, 1, 2, 1, 1, 1, 2, 3, 4, 5, 1, 2, 3, 4, 5, 1, 2, 3, 4, 5, 6, 7, 1, 2, 3, 4, 1, 2, 1, 2, 3, 4, 5, 6, 1, 2, 4, 5, 1, 2, 3, 4, 5, 6, 7, 1, 2, 4, 1, 2, 3, 4, 5, 6, 1, 2, 3, 4, 5, 6, 1, 2, 3, 4, 5, 1, 2, 3, 4, 5, 6, 1, 2, 3, 4, 1, 2, 3, 4, 2, 1, 2, 4, 1, 4, 1, 2, 3, 4, 5, 6, 7, 1, 1, 2, 3, 4, 5, 6, 7, 1, 2, 4, 1, 2, 3, 4, 1, 1, 2, 3, 4, 5, 6, 1, 2, 3, 4, 5, 6, 1, 1, 2, 1, 2, 2, 1, 2, 3, 4, 5, 6, 7, 1, 2, 3, 4, 5, 6, 1, 4, 1, 2, 3, 4, 5, 6, 7, 1, 1, 2, 3, 4, 5, 6, 1, 2, 3, 4, 5, 6, 1, 2, 3, 4, 5, 6, 7, 1, 4, 1, 1, 2, 3, 4, 5, 6, 1, 2, 3, 4, 6, 1, 2, 3, 4, 5, 6, 1, 2, 3, 4, 1, 1, 4, 1, 1, 2, 3, 4, 5, 6, 1, 2, 3, 4, 5, 6, 7, 1, 2, 3, 4, 5, 6, 7, 1, 3, 1, 2, 3, 4, 5, 6, 7, 1, 1, 3, 4, 1, 1, 2, 3, 4, 1, 2, 3, 4, 5, 6, 1, 1, 3, 1, 2, 1, 2, 3, 4, 5, 1, 2, 1, 2, 3, 4, 5, 6, 7, 1, 1, 2, 1, 2, 3, 4, 5, 6, 7, 1, 3, 1, 2, 3, 4, 5, 6, 7, 1, 2, 3, 4, 5, 6, 7, 1, 2, 3, 4, 5, 6, 7, 1, 4, 1, 2, 4, 1, 2, 3, 1, 2, 3, 4, 5, 6, 7, 1, 2, 1, 2, 3, 4, 5, 6, 7, 1, 1, 2, 4, 1, 2, 1, 1, 2, 3, 4, 1, 1, 2, 3, 4, 5, 6, 7, 1, 1, 2, 3, 4, 5, 6, 1, 2, 3, 4, 5, 6, 1, 4, 1, 3, 4, 1, 2, 3, 4, 5, 6, 1, 2, 3, 4, 5, 6, 7, 1, 2, 3, 1, 2, 3, 4, 5, 6, 1, 2, 3, 4, 5, 6, 1, 2, 3, 4, 5, 6, 1, 2, 1, 3, 1, 2, 3, 4, 5, 6, 7, 1, 1, 2, 3, 4, 5, 6, 1, 2, 3, 4, 5, 6, 7, 1, 2, 3, 4, 5, 6, 7, 1, 2, 3, 4, 5, 6, 1, 4, 1, 2, 1, 1, 1, 2, 4, 1, 2, 3, 4, 1, 2, 3, 4, 5, 6, 1, 1, 2, 3, 4, 5, 6, 7, 1, 3, 1, 1, 4, 1, 1, 2, 3, 4, 5, 6, 1, 2, 3, 4, 6, 1, 2, 3, 2, 1, 2, 3, 4, 6, 1, 2, 3, 4, 5, 6, 1, 2, 3, 1, 2, 3, 4, 1, 1, 2, 3, 4, 5, 6, 1, 1, 2, 3, 4, 5, 6, 1, 2, 1, 1, 3, 4, 1, 4, 2, 1, 2, 1, 2, 3, 4, 5, 6, 1, 2, 3, 4, 5, 6, 7, 1, 2, 3, 4, 5, 6, 1, 2, 3, 4, 5, 6, 7, 1, 2, 3, 4, 5, 1, 2, 3, 4, 5, 6, 1, 2, 3, 4, 5, 6, 7, 1, 2, 3, 4, 5, 6, 7, 2, 1, 2, 3, 4, 5, 1, 1, 1, 2, 3, 4, 5, 6, 1, 2, 3, 4, 1, 2, 3, 4, 5, 6, 1, 1, 2, 3, 4, 5, 6, 7, 2, 1, 3, 1, 2, 3, 4, 5, 6, 7, 1, 2, 3, 4, 5, 6, 7, 1, 2, 1, 2, 3, 4, 5, 6, 1, 3, 1, 2, 3, 4, 5, 6, 1, 3, 1, 2, 3, 4, 5, 6, 2, 1, 2, 3, 4, 5, 6, 1, 2, 3, 4, 5, 6, 1, 3, 1, 1, 2, 3, 1, 2, 3, 4, 5, 6, 7, 2, 2, 1, 2, 1, 2, 3, 4, 1, 2, 3, 4, 5, 6, 7, 1, 1, 2, 3, 4, 5, 6, 7, 1, 2, 3, 4, 5, 6, 7, 1, 1, 2, 3, 4, 5, 6, 1, 1, 2, 3, 4, 5, 6, 7, 1, 4, 1, 1, 1, 1, 4, 1, 2, 3, 4, 1, 2, 3, 4, 5, 6, 1, 1, 2, 3, 4, 5, 6, 1, 3, 1, 1, 2, 3, 4, 5, 6, 1, 2, 3, 4, 5, 6, 7, 1, 2, 3, 4, 5, 6, 1, 2, 3, 4, 5, 6, 7, 2, 1, 1, 2, 3, 4, 5, 6, 2, 1, 2, 3, 4, 5, 6, 1, 2, 1, 1, 2, 3, 4, 5, 6, 1, 2, 3, 4, 5, 6, 7, 1, 2, 3, 4, 5, 6, 1, 2, 3, 4, 5, 6, 7, 1, 2, 3, 4, 1, 2, 3, 4, 5, 6, 1, 2, 3, 4, 5, 6, 7, 1, 2, 3, 4, 5, 6, 1, 1, 2, 3, 4, 5, 6, 1, 2, 3, 4, 5, 6, 2, 1, 2, 3, 4, 5, 6, 7, 1, 2, 3, 4, 1, 1, 2, 3, 4, 5, 6, 1, 1, 1, 1, 2, 3, 4, 5, 6, 1, 2, 3, 4, 5, 6, 1, 2, 3, 4, 5, 6, 7, 1, 2, 3, 4, 5, 6, 2, 1, 2, 3, 4, 5, 6, 7, 1, 3, 4, 1, 1, 2, 3, 4, 5, 6, 1, 2, 3, 4, 5, 6, 1, 1, 2, 3, 4, 5, 6, 7, 1, 2, 3, 4, 5, 6, 7, 1, 2, 3, 4, 5, 6, 7, 1, 2, 3, 4, 5, 6, 1, 1, 2, 3, 1, 3, 1, 2, 3, 4, 5, 6, 7, 1, 2, 3, 4, 5, 6, 1, 2, 3, 4, 5, 6, 7, 1, 2, 3, 4, 5, 6, 7, 1, 1, 2, 3, 4, 5, 6, 7, 1, 2, 3, 4, 5, 6, 7, 1, 2, 3, 4, 5, 6, 7, 1, 2, 3, 4, 5, 6, 1, 3, 1, 2, 3, 4, 1, 2, 3, 4, 5, 6, 1, 2, 3, 4, 1, 1, 1, 2, 3, 4, 5, 6, 7, 1, 3, 1, 2, 3, 4, 5, 6, 7, 1, 2, 3, 4, 5, 6, 1, 1, 2, 3, 4, 5, 6, 1, 2, 3, 4, 5, 6, 3, 1, 1, 2, 3, 4, 5, 6, 7, 1, 1, 1, 1, 2, 3, 1, 2, 3, 4, 1, 2, 3, 4, 5, 6, 7, 1, 4, 1, 1, 1, 2, 1, 2, 4, 1, 1, 2, 3, 4, 5, 6, 7, 1, 1, 2, 3, 4, 6, 3, 1, 2, 3, 4, 5, 6, 1, 2, 3, 4, 5, 6, 1, 4, 1, 2, 3, 4, 5, 6, 7, 1, 2, 1, 2, 3, 4, 5, 1, 2, 3, 4, 5, 6, 1, 2, 3, 4, 5, 6, 7, 2, 1, 1, 2, 3, 1, 1, 1, 2, 1, 2, 1, 1, 1, 2, 3, 4, 5, 1, 2, 1], \"Freq\": [0.644162268694808, 0.4683196334249383, 0.3893968211328247, 0.3893968211328247, 0.3893968211328247, 0.4769811844889083, 0.1435574438753025, 0.1481883291616026, 0.1481883291616026, 0.027785311717800486, 0.05093973814930089, 0.4204363968168758, 0.2102181984084379, 0.2102181984084379, 0.2102181984084379, 0.3673502150341592, 0.1749286738257901, 0.22740727597352714, 0.1574358064432111, 0.034985734765158025, 0.034985734765158025, 0.30854581341802323, 0.21360864005863148, 0.2610772267383274, 0.1661400533789356, 0.02373429333984794, 0.04746858667969588, 0.29642517526568757, 0.20052291267972983, 0.1743677501562868, 0.20052291267972983, 0.05231032504688604, 0.06974710006251472, 0.4491307529832969, 0.20415034226513498, 0.13707237266373348, 0.14290523958559448, 0.040830068453026995, 0.023331467687443996, 0.0029164334609304995, 0.48706101454675105, 0.6623504140789452, 0.1655876035197363, 0.1655876035197363, 0.1655876035197363, 0.3976773706361923, 0.3976773706361923, 0.4169066056658035, 0.1910821942634933, 0.15633997712467632, 0.13896886855526785, 0.034742217138816964, 0.05211332570822544, 0.3962430746751825, 0.264162049783455, 0.14675669432414165, 0.11740535545931333, 0.02935133886482833, 0.044027008297242494, 0.636995953025898, 0.11123817301605465, 0.11858409010202053, 0.07555800431279185, 0.02728483489073039, 0.02833425161729694, 0.0010494167265665533, 0.36174931055455556, 0.2713119829159167, 0.16077747135758025, 0.13063169547803397, 0.0301457758795463, 0.0301457758795463, 0.2592643961390031, 0.2592643961390031, 0.2592643961390031, 0.2592643961390031, 0.514817159558259, 0.42418292614653147, 0.42418292614653147, 0.42418292614653147, 0.6346706242679823, 0.15866765606699557, 0.15866765606699557, 0.59451948309709, 0.4119965609439009, 0.19618883854471472, 0.17656995469024325, 0.14714162890853605, 0.039237767708942946, 0.029428325781707208, 0.4223089334218358, 0.22213938116408702, 0.15622989444507218, 0.10740805243098712, 0.05858621041690207, 0.03417528940985954, 0.002441092100704253, 0.5899326474036173, 0.15108031213995077, 0.09352590751520762, 0.10072020809330051, 0.02158290173427868, 0.03597150289046447, 0.6994775884651686, 0.4583768793930785, 0.20794658431003074, 0.09838333021119733, 0.1811147669797042, 0.03130378688538097, 0.022359847775272123, 0.002235984777527212, 0.38055144612365405, 0.17563912898014802, 0.14636594081679002, 0.20491231714350605, 0.029273188163358006, 0.05854637632671601, 0.36981330148382974, 0.25669393867701124, 0.1479253205935319, 0.14357457587019273, 0.047858191956730904, 0.03480595778671339, 0.39842846699113393, 0.19921423349556697, 0.19921423349556697, 0.19921423349556697, 0.4654217409643213, 0.4654217409643213, 0.6931770988335461, 0.3903148898829666, 0.582508014793074, 0.1456270036982685, 0.09708466913217899, 0.09708466913217899, 0.048542334566089494, 0.4474963943487159, 0.22374819717435795, 0.11187409858717898, 0.11187409858717898, 0.11187409858717898, 0.5104157790272817, 0.19631376116433913, 0.11288041266949499, 0.12269610072771195, 0.02944706417465087, 0.026993142160096628, 0.0024539220145542388, 0.6830856224562922, 0.08538570280703653, 0.08538570280703653, 0.08538570280703653, 0.717212676681801, 0.23907089222726702, 0.3985408831103857, 0.26569392207359044, 0.13284696103679522, 0.13284696103679522, 0.06642348051839761, 0.06642348051839761, 0.21587587327213664, 0.21587587327213664, 0.21587587327213664, 0.21587587327213664, 0.5038258848621933, 0.17614478236827322, 0.13858449789268554, 0.11268085342676301, 0.024608462242626403, 0.04144583114547605, 0.002590364446592253, 0.26294227639206363, 0.26294227639206363, 0.26294227639206363, 0.48138666518858336, 0.19255466607543334, 0.09627733303771667, 0.144415999556575, 0.048138666518858335, 0.024069333259429167, 0.4639580459765299, 0.14328116125745777, 0.16374989857995173, 0.16374989857995173, 0.03411456220415661, 0.027291649763325286, 0.3302415202474378, 0.1651207601237189, 0.1651207601237189, 0.24768114018557835, 0.08256038006185945, 0.3731021291967979, 0.2145337242881588, 0.16789595813855906, 0.1585684049086391, 0.03731021291967979, 0.04663776614959974, 0.31712625720561194, 0.31712625720561194, 0.31712625720561194, 0.31712625720561194, 0.3369598175696281, 0.16847990878481406, 0.16847990878481406, 0.3369598175696281, 0.6272831031601542, 0.28586375107545503, 0.28586375107545503, 0.28586375107545503, 0.4085717252293855, 0.4085717252293855, 0.45399751762457224, 0.19457036469624525, 0.16862764940341254, 0.11674221881774716, 0.035671233527644966, 0.02918555470443679, 0.0032428394116040876, 0.7092320742517781, 0.5032460170881955, 0.13539106043489524, 0.14050015705507996, 0.13283651212480288, 0.03576367634129308, 0.051090966201847256, 0.002554548310092363, 0.4023649126144981, 0.4023649126144981, 0.4023649126144981, 0.21970057436444904, 0.21970057436444904, 0.21970057436444904, 0.32955086154667357, 0.6670689207800945, 0.49826538056839526, 0.16608846018946508, 0.11072564012631006, 0.11072564012631006, 0.05536282006315503, 0.05536282006315503, 0.4906216175354203, 0.12265540438385507, 0.12265540438385507, 0.12265540438385507, 0.12265540438385507, 0.040885134794618354, 0.48454397072101635, 0.4009365266797729, 0.4009365266797729, 0.27078991873066016, 0.27078991873066016, 0.6314968243672517, 0.49534756089327564, 0.18330658326841556, 0.15112298467930443, 0.10214794334804836, 0.025886807560806777, 0.03987967651259423, 0.002098930342768117, 0.42802566654588725, 0.18343957137680883, 0.12229304758453922, 0.12229304758453922, 0.12229304758453922, 0.06114652379226961, 0.41686975742226695, 0.41686975742226695, 0.3717782883846392, 0.19645102738506506, 0.16687775444537783, 0.1901138974694178, 0.040135156132432646, 0.03591040285533447, 0.0021123766385490864, 0.6859022654388458, 0.5157854112874907, 0.20391516260203119, 0.13794260999549168, 0.07796756217136487, 0.02998752391206341, 0.02998752391206341, 0.44644402517388826, 0.20834054508114785, 0.20834054508114785, 0.08928880503477765, 0.02976293501159255, 0.02976293501159255, 0.40053502849699685, 0.18357855472779022, 0.2030490075019498, 0.13629316941911698, 0.030596425787965034, 0.041722398801770505, 0.002781493253451367, 0.4729894208293574, 0.4729894208293574, 0.5276365577057934, 0.4379958050641603, 0.1576784898230977, 0.17519832202566413, 0.17519832202566413, 0.01751983220256641, 0.03503966440513282, 0.40208210318713006, 0.10052052579678251, 0.30156157739034756, 0.10052052579678251, 0.10052052579678251, 0.4534033288921476, 0.1836570446145408, 0.1377427834609056, 0.14348206610511, 0.051653543797839596, 0.0344356958652264, 0.39540925516572173, 0.19770462758286086, 0.19770462758286086, 0.39540925516572173, 0.6484103290566819, 0.4050073005998278, 0.4050073005998278, 0.4857716972439463, 0.4942268780911777, 0.22987296655403613, 0.11493648327701807, 0.10804029428039699, 0.022987296655403614, 0.027584755986484338, 0.499503413546159, 0.2079151264506855, 0.10902866387048141, 0.12677751612846677, 0.02535550322569335, 0.027891053548262688, 0.002535550322569335, 0.3625777077118544, 0.225686124187991, 0.17388930880058323, 0.14429112857920737, 0.051796815387407776, 0.03699772527671984, 0.003699772527671984, 0.41694317196451297, 0.41694317196451297, 0.473266868097455, 0.1931701502438592, 0.16281484091982418, 0.08830635439719277, 0.040013816836227976, 0.040013816836227976, 0.001379786787456137, 0.43077625082225907, 0.3047043498930664, 0.3047043498930664, 0.3047043498930664, 0.3418731316786285, 0.35180785260928527, 0.35180785260928527, 0.11726928420309508, 0.11726928420309508, 0.40601450588411214, 0.20300725294205607, 0.15225543970654207, 0.12687953308878505, 0.07612771985327103, 0.05075181323551402, 0.5213403731327894, 0.4537187207938588, 0.4537187207938588, 0.6293945610225544, 0.6293945610225544, 0.2662812745591158, 0.0887604248530386, 0.1775208497060772, 0.3550416994121544, 0.0887604248530386, 0.3357315065033746, 0.3357315065033746, 0.5554052330963501, 0.1965760094666857, 0.09984813179260227, 0.08424686120000816, 0.03432279530370703, 0.03120254118518821, 0.003120254118518821, 0.4973174433852489, 0.38274075888271225, 0.38274075888271225, 0.4767266033512451, 0.18818155395443886, 0.13799980623325517, 0.13521193135985607, 0.03345449848078913, 0.026484811297291393, 0.001393937436699547, 0.45973976818983814, 0.45973976818983814, 0.44297074400651965, 0.21839487844042363, 0.15658500718369997, 0.12155941347155655, 0.02472394850268947, 0.032965264670252625, 0.002060329041890789, 0.4456750907393904, 0.1849972074767281, 0.17378525550844154, 0.1121195196828655, 0.042044819881074565, 0.039241831889002925, 0.002802987992071638, 0.5289765846513487, 0.19457578193385594, 0.12129399393279332, 0.08928585664497285, 0.028638859678576198, 0.03621973429937578, 0.0008423194023110647, 0.4088805308861398, 0.4088805308861398, 0.40776801456984973, 0.20388400728492487, 0.20388400728492487, 0.3454826215622545, 0.17274131078112726, 0.3454826215622545, 0.459646829995592, 0.1404476424986531, 0.13862364714152775, 0.1933435078552887, 0.03465591178538194, 0.031007921071131206, 0.001823995357125365, 0.43318059786237706, 0.43318059786237706, 0.4485499762153838, 0.22356525713266753, 0.12278345867921106, 0.14336565695491696, 0.03335735582614405, 0.02626004607590063, 0.0014194619500486829, 0.6315174563408449, 0.3769190704723175, 0.12563969015743917, 0.25127938031487834, 0.4127921647860555, 0.4127921647860555, 0.5336699616950965, 0.2719075262106055, 0.2719075262106055, 0.2719075262106055, 0.2719075262106055, 0.7062968880529996, 0.4703461296321387, 0.1450346855061638, 0.1775658299187613, 0.1477456142072136, 0.03253114441259749, 0.025753822659973013, 0.0013554643505248954, 0.6717966946727516, 0.5284245390261051, 0.13799621719790006, 0.15145926277818297, 0.11443588743240492, 0.03702337534577806, 0.026926091160565862, 0.4046796104524502, 0.18435404476167178, 0.1393896436002884, 0.2023398052262251, 0.04046796104524502, 0.03147508081296835, 0.4166862782915202, 0.4166862782915202, 0.6367667478912113, 0.15919168697280284, 0.15919168697280284, 0.4734902985398864, 0.1276827771343514, 0.16492358713187052, 0.1330028928482827, 0.058521272853244384, 0.03192069428358785, 0.579037650604758, 0.12452422593650708, 0.14320285982698314, 0.09339316945238031, 0.03113105648412677, 0.028017950835714095, 0.003113105648412677, 0.485078377211272, 0.242539188605636, 0.242539188605636, 0.545661912260142, 0.17443290637824213, 0.1118159656270783, 0.0983980497518289, 0.031308470375581925, 0.03578110900066506, 0.4707955840177568, 0.16912074377336894, 0.1416957582966064, 0.1325540964710189, 0.0411374782151438, 0.04570830912793755, 0.36373750982422104, 0.15588750421038045, 0.23383125631557067, 0.18186875491211052, 0.05196250140346015, 0.025981250701730074, 0.6981208076170256, 0.621721764516918, 0.4888514219885488, 0.4888514219885488, 0.3737306864494649, 0.24009365311298955, 0.14496220565312576, 0.17214261921308685, 0.040770620339941624, 0.02718041355996108, 0.00226503446333009, 0.6489185573091927, 0.4292672373275384, 0.18780441633079806, 0.15799419151638566, 0.15501316903494444, 0.03577226977729487, 0.03279124729585363, 0.4184071764443319, 0.18641903900985082, 0.16570581245320073, 0.1367072952738906, 0.041426453113300184, 0.049711743735960226, 0.0041426453113300185, 0.3988029750445909, 0.19104334133872616, 0.1440785199262893, 0.19343138310546024, 0.03741265434550054, 0.03263657081203239, 0.0015920278444893849, 0.6157100703562184, 0.11051206391009047, 0.14208693931297348, 0.07893718850720748, 0.015787437701441497, 0.03157487540288299, 0.4703188434497778, 0.4703188434497778, 0.7241692517989862, 0.24138975059966208, 0.7165860523243437, 0.6765258548131027, 0.31019238325019255, 0.31019238325019255, 0.31019238325019255, 0.32250319858720833, 0.2150021323914722, 0.32250319858720833, 0.1075010661957361, 0.4938409467926025, 0.1825966525955841, 0.13279756552406116, 0.11204794591092662, 0.0373493153036422, 0.041499239226269115, 0.6959650571591963, 0.4352600889971844, 0.18907225585398055, 0.1536212078813592, 0.15165170521621357, 0.034466296640048535, 0.03348154530747572, 0.001969502665145631, 0.43304079072469437, 0.43304079072469437, 0.638399237312342, 0.4098835512958398, 0.4098835512958398, 0.7053216081997097, 0.5049536623894916, 0.21782314848174145, 0.09405999593529744, 0.11386210034272848, 0.03465368271300432, 0.03465368271300432, 0.4545630642663157, 0.056820383033289464, 0.22728153213315785, 0.11364076606657893, 0.056820383033289464, 0.4016206853343807, 0.20081034266719036, 0.4016206853343807, 0.6394515824202629, 0.4364571312497139, 0.1454857104165713, 0.07274285520828565, 0.2909714208331426, 0.07274285520828565, 0.2783283846677851, 0.2783283846677851, 0.13916419233389254, 0.20874628850083882, 0.06958209616694627, 0.06958209616694627, 0.5836362329052425, 0.09727270548420708, 0.19454541096841416, 0.21084370263489738, 0.21084370263489738, 0.21084370263489738, 0.21084370263489738, 0.6221003119912565, 0.34856737676178234, 0.26750519611950735, 0.1621243612845499, 0.1459119251560949, 0.03242487225690999, 0.04863730838536497, 0.7166118530950051, 0.38743617424396043, 0.18941324074149177, 0.17219385521953798, 0.14636477693660727, 0.03443877104390759, 0.06026784932683829, 0.29648235238861687, 0.29648235238861687, 0.7006582373415164, 0.30716543742635166, 0.30716543742635166, 0.30716543742635166, 0.5284227374285785, 0.4816533518908995, 0.6218501809780625, 0.37076553963126896, 0.37076553963126896, 0.38951742046647403, 0.2706815972733125, 0.11883582319316156, 0.13864179372535518, 0.04621393124178506, 0.033009950886989325, 0.4212014900707548, 0.12497187068033384, 0.20828645113388974, 0.1728006113110789, 0.03394297722181907, 0.035485839822810845, 0.001542862600991776, 0.4809414061587342, 0.14474935525165786, 0.18210402757466634, 0.1307413531305297, 0.032685338282632426, 0.02801600424225636, 0.5443189649067663, 0.15954176557612118, 0.10479704209411882, 0.12669493148691977, 0.034410969045830055, 0.02971856417594414, 0.001564134956628639, 0.4602510336759992, 0.15341701122533305, 0.15341701122533305, 0.15341701122533305, 0.15341701122533305, 0.42242161104890746, 0.1584081041433403, 0.11880607810750522, 0.2244114808697321, 0.039602026035835076, 0.039602026035835076, 0.396668659392172, 0.21468447157067372, 0.17629718195207644, 0.13293376219773506, 0.03483291095020865, 0.04265254402066365, 0.002132627201033183, 0.5011986538242517, 0.15395180492895102, 0.1448287350072354, 0.13969700817627037, 0.029079785375468525, 0.030220169115682975, 0.001140383740214452, 0.6321793456401184, 0.4099904653728993, 0.1639961861491597, 0.1639961861491597, 0.1639961861491597, 0.08199809307457985, 0.5420810405482996, 0.6830124600025821, 0.4364544923596055, 0.19336591433653408, 0.12154428901153572, 0.15469273146922727, 0.044197923276922076, 0.049722663686537334, 0.28118165592973876, 0.14059082796486938, 0.14059082796486938, 0.28118165592973876, 0.5061853205942425, 0.16236132924720986, 0.13689288544372596, 0.11779155259111304, 0.04456977665609683, 0.02865199927891939, 0.7328088178824487, 0.531871865333256, 0.16245458648254266, 0.11794648059691452, 0.11127026471407031, 0.042282700591346714, 0.031155674119939684, 0.0022254052942814063, 0.6482831812408182, 0.4292144533413799, 0.4292144533413799, 0.4384869968248952, 0.19006660698873784, 0.13171282414131832, 0.15838883915728155, 0.03334501876995401, 0.04501577533943791, 0.0016672509384977005, 0.41704460165290314, 0.22425983296429697, 0.1337690231716859, 0.12786744861999388, 0.05311417096522823, 0.041311021861844176, 0.001967191517230675, 0.6100848889754098, 0.3050424444877049, 0.3045781553730878, 0.21320470876116146, 0.24366252429847024, 0.1522890776865439, 0.03045781553730878, 0.03045781553730878, 0.450608264925438, 0.450608264925438, 0.4203620774487917, 0.16814483097951669, 0.18495931407746835, 0.15133034788156502, 0.03362896619590334, 0.03362896619590334, 0.31007597732875897, 0.31007597732875897, 0.5515183869968517, 0.12020272537110871, 0.11313197681986702, 0.14141497102483377, 0.028282994204966754, 0.035353742756208444, 0.6324084786503602, 0.480873088950013, 0.17174038891071894, 0.16029102965000436, 0.12594295186786056, 0.034348077782143785, 0.034348077782143785, 0.3162615616747293, 0.2996162163234278, 0.13316276281041234, 0.18309879886431696, 0.04993603605390463, 0.033290690702603085, 0.3448086638539679, 0.3448086638539679, 0.4578239225034509, 0.25925311769932025, 0.25925311769932025, 0.25925311769932025, 0.42064819615814314, 0.17103278305331093, 0.1571652601030425, 0.17565529070340044, 0.03698006120071588, 0.03698006120071588, 0.004622507650089485, 0.6191023500594659, 0.3864040638781139, 0.3607470419491963, 0.3607470419491963, 0.24365367870226667, 0.24365367870226667, 0.24365367870226667, 0.24365367870226667, 0.5025799791098822, 0.1942487035823471, 0.11099925918991263, 0.12024919745573869, 0.04624969132913026, 0.024666502042202807, 0.003083312755275351, 0.7048432195305517, 0.4500840995938025, 0.2190409284689839, 0.15302859386189285, 0.10802018390251261, 0.03300616730354552, 0.03300616730354552, 0.0030005606639586834, 0.4980535223548056, 0.18137209195579626, 0.14970394891589534, 0.09788335121423926, 0.04894167560711963, 0.025910298850828038, 0.0028789220945364485, 0.6398610505652081, 0.41480936285601205, 0.17421993239952505, 0.1410351833710441, 0.17421993239952505, 0.049777123542721444, 0.041480936285601205, 0.5386989936964449, 0.4875127749863298, 0.15451879108903327, 0.15451879108903327, 0.11858418851018833, 0.03593460257884495, 0.046714983352498435, 0.0011978200859614982, 0.4645497591159857, 0.4645497591159857, 0.6274899310778936, 0.42060714835763235, 0.6840037932097166, 0.4242734909767947, 0.4242734909767947, 0.19778643554107447, 0.19778643554107447, 0.19778643554107447, 0.39557287108214895, 0.3981460570075422, 0.2730144390908861, 0.13650721954544304, 0.11375601628786919, 0.03412680488636076, 0.03412680488636076, 0.5126315921841246, 0.3762521845354429, 0.27218243136606507, 0.1601073125682736, 0.11207511879779151, 0.0400268281420684, 0.032021462513654717, 0.484063938765924, 0.484063938765924, 0.6517773184860081, 0.46681984404433485, 0.12731450292118224, 0.12731450292118224, 0.12731450292118224, 0.08487633528078815, 0.04243816764039408, 0.43234781021690877, 0.2504635590222092, 0.11926836143914724, 0.11330494336718988, 0.038762217467722855, 0.04472563553968022, 0.002981709035978681, 0.45442985723752166, 0.14856360717380515, 0.13545505359964588, 0.187889267896283, 0.04369517858053093, 0.026217107148318555, 0.4221051664865077, 0.1418273359394666, 0.165465225262711, 0.18234943192217132, 0.05065261997838092, 0.033768413318920616, 0.0033768413318920614, 0.6647095897972328, 0.5151779011309437, 0.2952445801629958, 0.2952445801629958, 0.11809783206519832, 0.17714674809779749, 0.05904891603259916, 0.05904891603259916, 0.6396992398398, 0.4180130792746714, 0.20414592243646743, 0.14581851602604817, 0.12151543002170681, 0.04374555480781445, 0.06318802361128754, 0.7055066556244595, 0.6261681499563628, 0.5993991530318354, 0.44485223414922087, 0.14392278163651265, 0.21588417245476896, 0.12429694777698819, 0.026167778479365935, 0.0392516677190489, 0.27971703518318586, 0.27971703518318586, 0.15810093292962676, 0.17634334826766063, 0.07905046646481338, 0.030404025563389763, 0.006080805112677953, 0.4618750583972321, 0.14334053536465824, 0.19112071381954432, 0.12741380921302956, 0.03185345230325739, 0.04778017845488608, 0.5204197210178836, 0.19515739538170634, 0.1034925581569655, 0.1301049302544709, 0.020698511631393097, 0.026612372097505412, 0.002956930233056157, 0.31278169033068876, 0.31278169033068876, 0.31278169033068876, 0.31278169033068876, 0.3166956505347186, 0.21113043368981238, 0.21113043368981238, 0.18096894316269632, 0.04524223579067408, 0.030161490527116055, 0.497866785151076, 0.19473015386957407, 0.1284817510067293, 0.124466696287769, 0.02609785567324189, 0.02810538303272203, 0.002007527359480145, 0.6485007060421946, 0.0926429580060278, 0.0926429580060278, 0.0926429580060278, 0.0463214790030139, 0.0463214790030139, 0.749019576202739, 0.41229792544905713, 0.216456410860755, 0.14430427390717002, 0.10307448136226428, 0.06184468881735857, 0.05153724068113214, 0.4312826708006513, 0.12938480124019539, 0.14663610807222144, 0.1983900285682996, 0.060379573912091186, 0.034502613664052106, 0.6407111351524292, 0.569781844826886, 0.14751633523026175, 0.11985702237458767, 0.09588561789967014, 0.03503512961718717, 0.029503267046052353, 0.001843954190378272, 0.4033512573866694, 0.2016756286933347, 0.2016756286933347, 0.2016756286933347, 0.7251687701538911, 0.412366543910002, 0.206183271955001, 0.11454626219722278, 0.16036476707611189, 0.04581850487888911, 0.022909252439444555, 0.6896455707863909, 0.6848700120940342, 0.7293806906423167, 0.4254011968300216, 0.1400711257854949, 0.171198042626716, 0.17638586210025287, 0.05187819473536849, 0.031126916841221094, 0.2921175477658781, 0.1572940641816267, 0.3819998701553791, 0.11235290298687621, 0.02247058059737524, 0.04494116119475048, 0.39226925341761487, 0.22948545392245082, 0.1842236169896491, 0.13340330885457347, 0.031762692584422256, 0.027792356011369476, 0.0015881346292211129, 0.6108381632083824, 0.17452518948810924, 0.08726259474405462, 0.08726259474405462, 0.029087531581351543, 0.029087531581351543, 0.6312416192595308, 0.45841885192165993, 0.22156911176213562, 0.12733856997823886, 0.12224502717910932, 0.03565479959390688, 0.03056125679477733, 0.0025467713995647773, 0.7096391612630409, 0.2365463870876803, 0.2365463870876803, 0.7017013544679933, 0.3606892331811101, 0.1923675910299254, 0.16832164215118472, 0.16832164215118472, 0.024045948878740675, 0.04809189775748135, 0.4206714113977823, 0.18468500988195322, 0.20520556653550356, 0.10260278326775178, 0.030780834980325536, 0.05130139163387589, 0.6197997958562984, 0.4454543792278232, 0.17216948399602983, 0.163970937139076, 0.1366424476158967, 0.0327941874278152, 0.046458432189404875, 0.0027328489523179337, 0.40781888005684847, 0.2511427001480027, 0.1382436881548639, 0.1382436881548639, 0.029952799100220508, 0.03225686056946824, 0.0023040614692477314, 0.47499656939258517, 0.20637781980505424, 0.11465434433614125, 0.14413689002257757, 0.02948254568643632, 0.02948254568643632, 0.0032758384096040353, 0.41926213832750525, 0.1985978549972393, 0.12136535583164625, 0.18756464083072602, 0.03309964249953989, 0.03309964249953989, 0.7076997385805942, 0.7217436477962506, 0.18043591194906264, 0.18043591194906264, 0.3176030072196725, 0.3176030072196725, 0.4964871276159964, 0.1285322005503341, 0.11593100441794839, 0.18397746353283115, 0.037803588397157084, 0.03528334917067995, 0.0025202392264771388, 0.45853995655130464, 0.15762311006451096, 0.17195248370673924, 0.12896436278005444, 0.04298812092668481, 0.04298812092668481, 0.5092593378844271, 0.1914926120655339, 0.11517309276405299, 0.1290493690006859, 0.034690690591582224, 0.019426786731286047, 0.001387627623663289, 0.4025967768700426, 0.20321551594392626, 0.17637573081925675, 0.14570169067677732, 0.030674040142479434, 0.038342550178099295, 0.0038342550178099293, 0.6573244110834641, 0.5266340538137133, 0.17313996289765915, 0.11542664193177277, 0.11903372449214067, 0.03607082560367899, 0.02885666048294319, 0.003607082560367899, 0.5953636652829886, 0.10917426624993677, 0.10771860936660428, 0.12955346261659165, 0.018923539483322375, 0.03784707896664475, 0.0014556568833324903, 0.41978693246401, 0.2376639863796241, 0.13433181838848318, 0.13820677468815099, 0.028416346197563752, 0.04004121509656711, 0.0012916520998892615, 0.46813805913705586, 0.15781926993635595, 0.17732502240039993, 0.12944726635229195, 0.03546500448007999, 0.03014525380806799, 0.4489740762893054, 0.66329342923924, 0.3291083366043642, 0.3291083366043642, 0.1645541683021821, 0.1645541683021821, 0.5744008624724867, 0.12419478107513225, 0.12419478107513225, 0.09314608580634919, 0.031048695268783063, 0.04657304290317459, 0.24341718797372075, 0.24341718797372075, 0.24341718797372075, 0.24341718797372075, 0.7072678146542996, 0.7126254104784215, 0.36020639082674466, 0.24288202352889068, 0.1276159784643324, 0.201715578862977, 0.030874833499435254, 0.03499147796602662, 0.0020583222332956836, 0.3185446663780742, 0.3185446663780742, 0.42010656297796606, 0.18037183953945282, 0.17808865169718127, 0.14840720974765104, 0.041097381160887986, 0.02968144194953021, 0.0022831878422715545, 0.40979959780307085, 0.12293987934092125, 0.2458797586818425, 0.16391983912122834, 0.040979959780307086, 0.040979959780307086, 0.7160673416624221, 0.43669545815683597, 0.18559556971665528, 0.17467818326273438, 0.13464776626502442, 0.04003041699770996, 0.029113030543789064, 0.3255063656674026, 0.18600363752423005, 0.3255063656674026, 0.04650090938105751, 0.04650090938105751, 0.04650090938105751, 0.6700578015305195, 0.6861193531570438, 0.49856400667599926, 0.16915564512221404, 0.12686673384166053, 0.1424468590502855, 0.03561171476257138, 0.02670878607192853, 0.002225732172660711, 0.6982121616366463, 0.6121369740009991, 0.45571217566171285, 0.6948413182002455, 0.6314393582576744, 0.6622630910245385, 0.37203637168801695, 0.18601818584400848, 0.18601818584400848, 0.18601818584400848, 0.4455435495952572, 0.22452588326060208, 0.1438368939638232, 0.10349239931543376, 0.043852711574336345, 0.03683627772244253, 0.0017541084629734537, 0.47205952609866975, 0.47205952609866975, 0.3312233000422236, 0.7013181305316487, 0.35369492073530906, 0.35369492073530906, 0.33033127288669517, 0.33033127288669517, 0.33033127288669517, 0.7295274125136928, 0.4243243460604906, 0.1931625754454472, 0.16149657947078372, 0.145663581483452, 0.034832595572129824, 0.03799919516959617, 0.002533279677973078, 0.41071481977563196, 0.43807653643342337, 0.14602551214447446, 0.21903826821671168, 0.14602551214447446, 0.07301275607223723, 0.6671516614873746, 0.35653386918683333, 0.22040275549731517, 0.20743788752688486, 0.1490959816599485, 0.032412169926075755, 0.03889460391129091, 0.3344868937382162, 0.22789216936010337, 0.16908128694459282, 0.17275696709556224, 0.062486562566479956, 0.029405441207755272, 0.4148209814811837, 0.4148209814811837, 0.4736295100614806, 0.21800981486006238, 0.11474200782108547, 0.10581762943500105, 0.04972153672247037, 0.0356975135443377, 0.001912366797018091, 0.4140858120752326, 0.4140858120752326, 0.42423424149883027, 0.21211712074941513, 0.21211712074941513, 0.21211712074941513, 0.21211712074941513, 0.28084452717858627, 0.2160342516758356, 0.17282740134066846, 0.22683596425962738, 0.0540085629189589, 0.0540085629189589, 0.4542299811973124, 0.166337739593382, 0.17913295033133447, 0.11942196688755631, 0.029855491721889078, 0.04904830782881777, 0.002132535122992077, 0.6157496171635732, 0.6676306619009501, 0.6534930683723797, 0.13069861367447594, 0.13069861367447594, 0.6840859563382027, 0.6759111770527055, 0.605815365905507, 0.3029076829527535, 0.6749235032181311, 0.22497450107271036, 0.585791454477701, 0.5973182187616185, 0.4114017891074771, 0.20570089455373855, 0.13713392970249239, 0.13713392970249239, 0.13713392970249239, 0.8187330237550244, 0.2046832559387561, 0.6080016725872991], \"Term\": [\"abstract\", \"acceptable\", \"accidental\", \"accidental\", \"accidental\", \"accurate\", \"accurate\", \"accurate\", \"accurate\", \"accurate\", \"accurate\", \"aided\", \"aided\", \"aided\", \"aided\", \"air\", \"air\", \"air\", \"air\", \"air\", \"air\", \"alignment\", \"alignment\", \"alignment\", \"alignment\", \"alignment\", \"alignment\", \"allow\", \"allow\", \"allow\", \"allow\", \"allow\", \"allow\", \"also\", \"also\", \"also\", \"also\", \"also\", \"also\", \"also\", \"aluminium\", \"ambiguity\", \"ambiguity\", \"ambiguity\", \"ambiguity\", \"ambiguous\", \"ambiguous\", \"amount\", \"amount\", \"amount\", \"amount\", \"amount\", \"amount\", \"analysis\", \"analysis\", \"analysis\", \"analysis\", \"analysis\", \"analysis\", \"angle\", \"angle\", \"angle\", \"angle\", \"angle\", \"angle\", \"angle\", \"angular\", \"angular\", \"angular\", \"angular\", \"angular\", \"angular\", \"anode\", \"anode\", \"anode\", \"anode\", \"anywhere\", \"araa\", \"araa\", \"araa\", \"array\", \"array\", \"array\", \"artefact\", \"associate\", \"associate\", \"associate\", \"associate\", \"associate\", \"associate\", \"atom\", \"atom\", \"atom\", \"atom\", \"atom\", \"atom\", \"atom\", \"average\", \"average\", \"average\", \"average\", \"average\", \"average\", \"bahner\", \"balmer\", \"balmer\", \"balmer\", \"balmer\", \"balmer\", \"balmer\", \"balmer\", \"band\", \"band\", \"band\", \"band\", \"band\", \"band\", \"beam\", \"beam\", \"beam\", \"beam\", \"beam\", \"beam\", \"beneficial\", \"beneficial\", \"beneficial\", \"beneficial\", \"betv\", \"betv\", \"binding\", \"bisect\", \"black\", \"black\", \"black\", \"black\", \"black\", \"blowtorch\", \"blowtorch\", \"blowtorch\", \"blowtorch\", \"blowtorch\", \"blue\", \"blue\", \"blue\", \"blue\", \"blue\", \"blue\", \"blue\", \"broadening\", \"broadening\", \"broadening\", \"broadening\", \"broadness\", \"broadness\", \"burn\", \"burn\", \"burn\", \"burn\", \"burn\", \"burn\", \"ca\", \"ca\", \"ca\", \"ca\", \"calculate\", \"calculate\", \"calculate\", \"calculate\", \"calculate\", \"calculate\", \"calculate\", \"calculates\", \"calculates\", \"calculates\", \"calibrate\", \"calibrate\", \"calibrate\", \"calibrate\", \"calibrate\", \"calibrate\", \"camera\", \"camera\", \"camera\", \"camera\", \"camera\", \"camera\", \"candle\", \"candle\", \"candle\", \"candle\", \"candle\", \"centre\", \"centre\", \"centre\", \"centre\", \"centre\", \"centre\", \"challenge\", \"challenge\", \"challenge\", \"challenge\", \"chlorine\", \"chlorine\", \"chlorine\", \"chlorine\", \"chromatic\", \"coherent\", \"coherent\", \"coherent\", \"collectively\", \"collectively\", \"collimator\", \"collimator\", \"collimator\", \"collimator\", \"collimator\", \"collimator\", \"collimator\", \"colliniator\", \"colour\", \"colour\", \"colour\", \"colour\", \"colour\", \"colour\", \"colour\", \"combat\", \"combat\", \"combat\", \"common\", \"common\", \"common\", \"common\", \"compensate\", \"complete\", \"complete\", \"complete\", \"complete\", \"complete\", \"complete\", \"compound\", \"compound\", \"compound\", \"compound\", \"compound\", \"compound\", \"comprehensive\", \"concept\", \"concept\", \"connection\", \"connection\", \"considers\", \"constant\", \"constant\", \"constant\", \"constant\", \"constant\", \"constant\", \"constant\", \"copper\", \"copper\", \"copper\", \"copper\", \"copper\", \"copper\", \"correspondence\", \"correspondence\", \"could\", \"could\", \"could\", \"could\", \"could\", \"could\", \"could\", \"critical\", \"cross\", \"cross\", \"cross\", \"cross\", \"cross\", \"cross\", \"cyan\", \"cyan\", \"cyan\", \"cyan\", \"cyan\", \"cyan\", \"data\", \"data\", \"data\", \"data\", \"data\", \"data\", \"data\", \"datapoints\", \"datapoints\", \"decade\", \"decrease\", \"decrease\", \"decrease\", \"decrease\", \"decrease\", \"decrease\", \"definitive\", \"definitive\", \"definitive\", \"definitive\", \"definitive\", \"degree\", \"degree\", \"degree\", \"degree\", \"degree\", \"degree\", \"delta\", \"delta\", \"delta\", \"delta\", \"descend\", \"designation\", \"designation\", \"detennining\", \"determine\", \"determine\", \"determine\", \"determine\", \"determine\", \"determine\", \"difference\", \"difference\", \"difference\", \"difference\", \"difference\", \"difference\", \"difference\", \"different\", \"different\", \"different\", \"different\", \"different\", \"different\", \"different\", \"differentiation\", \"differentiation\", \"diffraction\", \"diffraction\", \"diffraction\", \"diffraction\", \"diffraction\", \"diffraction\", \"diffraction\", \"disagrees\", \"disappear\", \"disappear\", \"disappear\", \"disparity\", \"display\", \"display\", \"display\", \"display\", \"distant\", \"distant\", \"distant\", \"distant\", \"distant\", \"distant\", \"distribute\", \"divergent\", \"divergent\", \"dl\", \"dl\", \"doublet\", \"doublet\", \"doublet\", \"doublet\", \"doublet\", \"duality\", \"duality\", \"due\", \"due\", \"due\", \"due\", \"due\", \"due\", \"due\", \"een\", \"eject\", \"eject\", \"electron\", \"electron\", \"electron\", \"electron\", \"electron\", \"electron\", \"electron\", \"emier\", \"emier\", \"emission\", \"emission\", \"emission\", \"emission\", \"emission\", \"emission\", \"emission\", \"emit\", \"emit\", \"emit\", \"emit\", \"emit\", \"emit\", \"emit\", \"energy\", \"energy\", \"energy\", \"energy\", \"energy\", \"energy\", \"energy\", \"ep\", \"ep\", \"eqn\", \"eqn\", \"eqn\", \"equ\", \"equ\", \"equ\", \"equation\", \"equation\", \"equation\", \"equation\", \"equation\", \"equation\", \"equation\", \"equipement\", \"equipement\", \"error\", \"error\", \"error\", \"error\", \"error\", \"error\", \"error\", \"escape\", \"ettor\", \"ettor\", \"ettor\", \"ev\", \"ev\", \"evaluation\", \"ever\", \"ever\", \"ever\", \"ever\", \"existent\", \"experiment\", \"experiment\", \"experiment\", \"experiment\", \"experiment\", \"experiment\", \"experiment\", \"fi\", \"fig\", \"fig\", \"fig\", \"fig\", \"fig\", \"fig\", \"figure\", \"figure\", \"figure\", \"figure\", \"figure\", \"figure\", \"filing\", \"filing\", \"filter\", \"filter\", \"filter\", \"first\", \"first\", \"first\", \"first\", \"first\", \"first\", \"focus\", \"focus\", \"focus\", \"focus\", \"focus\", \"focus\", \"focus\", \"formation\", \"formation\", \"formation\", \"formula\", \"formula\", \"formula\", \"formula\", \"formula\", \"formula\", \"found\", \"found\", \"found\", \"found\", \"found\", \"found\", \"four\", \"four\", \"four\", \"four\", \"four\", \"four\", \"fri\", \"fulfil\", \"gassing\", \"gassing\", \"give\", \"give\", \"give\", \"give\", \"give\", \"give\", \"give\", \"gov\", \"gradient\", \"gradient\", \"gradient\", \"gradient\", \"gradient\", \"gradient\", \"graph\", \"graph\", \"graph\", \"graph\", \"graph\", \"graph\", \"graph\", \"grate\", \"grate\", \"grate\", \"grate\", \"grate\", \"grate\", \"grate\", \"green\", \"green\", \"green\", \"green\", \"green\", \"green\", \"guarantee\", \"guarantee\", \"ha\", \"ha\", \"happy\", \"heated\", \"heavily\", \"heavily\", \"heavily\", \"heavy\", \"heavy\", \"heavy\", \"heavy\", \"however\", \"however\", \"however\", \"however\", \"however\", \"however\", \"hyd\", \"hydrogen\", \"hydrogen\", \"hydrogen\", \"hydrogen\", \"hydrogen\", \"hydrogen\", \"hydrogen\", \"hypothesise\", \"hypothesise\", \"id\", \"identifiable\", \"identifiable\", \"im\", \"image\", \"image\", \"image\", \"image\", \"image\", \"image\", \"inaccurate\", \"inaccurate\", \"inaccurate\", \"inaccurate\", \"inaccurate\", \"inclined\", \"inclined\", \"inclined\", \"incorporation\", \"incorrect\", \"incorrect\", \"incorrect\", \"incorrect\", \"incorrect\", \"indeed\", \"indeed\", \"indeed\", \"indeed\", \"indeed\", \"indeed\", \"indigo\", \"indigo\", \"indigo\", \"individually\", \"individually\", \"individually\", \"individually\", \"inference\", \"initial\", \"initial\", \"initial\", \"initial\", \"initial\", \"initial\", \"intensit\", \"intensity\", \"intensity\", \"intensity\", \"intensity\", \"intensity\", \"intensity\", \"intermediate\", \"intermediate\", \"ionizing\", \"iron\", \"iron\", \"iron\", \"isolated\", \"january\", \"judged\", \"jupyter\", \"jupyter\", \"know\", \"know\", \"know\", \"know\", \"know\", \"know\", \"lamp\", \"lamp\", \"lamp\", \"lamp\", \"lamp\", \"lamp\", \"lamp\", \"large\", \"large\", \"large\", \"large\", \"large\", \"large\", \"level\", \"level\", \"level\", \"level\", \"level\", \"level\", \"level\", \"licl\", \"licl\", \"licl\", \"licl\", \"licl\", \"lie\", \"lie\", \"lie\", \"lie\", \"lie\", \"lie\", \"light\", \"light\", \"light\", \"light\", \"light\", \"light\", \"light\", \"line\", \"line\", \"line\", \"line\", \"line\", \"line\", \"line\", \"linregress\", \"lithium\", \"lithium\", \"lithium\", \"lithium\", \"lithium\", \"local\", \"loosely\", \"low\", \"low\", \"low\", \"low\", \"low\", \"low\", \"magnesium\", \"magnesium\", \"magnesium\", \"magnesium\", \"make\", \"make\", \"make\", \"make\", \"make\", \"make\", \"manipulate\", \"maximum\", \"maximum\", \"maximum\", \"maximum\", \"maximum\", \"maximum\", \"maximum\", \"mcintyre\", \"measu\", \"measu\", \"measure\", \"measure\", \"measure\", \"measure\", \"measure\", \"measure\", \"measure\", \"measurement\", \"measurement\", \"measurement\", \"measurement\", \"measurement\", \"measurement\", \"measurement\", \"microsoft\", \"microsoft\", \"millimetre\", \"millimetre\", \"millimetre\", \"millimetre\", \"millimetre\", \"millimetre\", \"millinietre\", \"millinietre\", \"minute\", \"minute\", \"minute\", \"minute\", \"minute\", \"minute\", \"mitrnr\", \"mitrnr\", \"mm\", \"mm\", \"mm\", \"mm\", \"mm\", \"mm\", \"motivate\", \"much\", \"much\", \"much\", \"much\", \"much\", \"much\", \"must\", \"must\", \"must\", \"must\", \"must\", \"must\", \"nacl\", \"nacl\", \"neutron\", \"newly\", \"newly\", \"newly\", \"nm\", \"nm\", \"nm\", \"nm\", \"nm\", \"nm\", \"nm\", \"nobel\", \"noisy\", \"notebook\", \"notebook\", \"notion\", \"notion\", \"notion\", \"notion\", \"number\", \"number\", \"number\", \"number\", \"number\", \"number\", \"number\", \"nvalue\", \"observe\", \"observe\", \"observe\", \"observe\", \"observe\", \"observe\", \"observe\", \"obtain\", \"obtain\", \"obtain\", \"obtain\", \"obtain\", \"obtain\", \"obtain\", \"oflimiting\", \"one\", \"one\", \"one\", \"one\", \"one\", \"one\", \"opacity\", \"order\", \"order\", \"order\", \"order\", \"order\", \"order\", \"order\", \"orders\", \"orders\", \"org\", \"orientate\", \"oscillatory\", \"oxide\", \"oxide\", \"oxygen\", \"oxygen\", \"oxygen\", \"oxygen\", \"part\", \"part\", \"part\", \"part\", \"part\", \"part\", \"past\", \"path\", \"path\", \"path\", \"path\", \"path\", \"path\", \"pcc\", \"pcc\", \"pdf\", \"peak\", \"peak\", \"peak\", \"peak\", \"peak\", \"peak\", \"photon\", \"photon\", \"photon\", \"photon\", \"photon\", \"photon\", \"photon\", \"point\", \"point\", \"point\", \"point\", \"point\", \"point\", \"position\", \"position\", \"position\", \"position\", \"position\", \"position\", \"position\", \"powerpoint\", \"precis\", \"previously\", \"previously\", \"previously\", \"previously\", \"previously\", \"previously\", \"prize\", \"produce\", \"produce\", \"produce\", \"produce\", \"produce\", \"produce\", \"pronounce\", \"proportion\", \"punch\", \"range\", \"range\", \"range\", \"range\", \"range\", \"range\", \"ray\", \"ray\", \"ray\", \"ray\", \"ray\", \"ray\", \"ray\", \"read\", \"read\", \"read\", \"read\", \"read\", \"read\", \"reading\", \"reading\", \"reading\", \"reading\", \"reading\", \"reading\", \"reading\", \"really\", \"really\", \"really\", \"really\", \"record\", \"record\", \"record\", \"record\", \"record\", \"record\", \"red\", \"red\", \"red\", \"red\", \"red\", \"red\", \"red\", \"refractive\", \"refractive\", \"refractive\", \"refractive\", \"refractive\", \"refractive\", \"regardless\", \"relationship\", \"relationship\", \"relationship\", \"relationship\", \"relationship\", \"relationship\", \"repeat\", \"repeat\", \"repeat\", \"repeat\", \"repeat\", \"repeat\", \"resolvable\", \"result\", \"result\", \"result\", \"result\", \"result\", \"result\", \"result\", \"revise\", \"revise\", \"revise\", \"revise\", \"rid\", \"right\", \"right\", \"right\", \"right\", \"right\", \"right\", \"rm\", \"rms\", \"road\", \"rotate\", \"rotate\", \"rotate\", \"rotate\", \"rotate\", \"rotate\", \"run\", \"run\", \"run\", \"run\", \"run\", \"run\", \"rydberg\", \"rydberg\", \"rydberg\", \"rydberg\", \"rydberg\", \"rydberg\", \"rydberg\", \"sample\", \"sample\", \"sample\", \"sample\", \"sample\", \"sample\", \"satisfies\", \"scale\", \"scale\", \"scale\", \"scale\", \"scale\", \"scale\", \"scale\", \"scatterplot\", \"scatterplot\", \"scatterplot\", \"scoop\", \"screw\", \"screw\", \"screw\", \"screw\", \"screw\", \"screw\", \"second\", \"second\", \"second\", \"second\", \"second\", \"second\", \"securely\", \"see\", \"see\", \"see\", \"see\", \"see\", \"see\", \"see\", \"series\", \"series\", \"series\", \"series\", \"series\", \"series\", \"series\", \"set\", \"set\", \"set\", \"set\", \"set\", \"set\", \"set\", \"setup\", \"setup\", \"setup\", \"setup\", \"setup\", \"setup\", \"seventh\", \"sharper\", \"sharper\", \"sharper\", \"shorten\", \"shorten\", \"show\", \"show\", \"show\", \"show\", \"show\", \"show\", \"show\", \"side\", \"side\", \"side\", \"side\", \"side\", \"side\", \"slit\", \"slit\", \"slit\", \"slit\", \"slit\", \"slit\", \"slit\", \"small\", \"small\", \"small\", \"small\", \"small\", \"small\", \"small\", \"socratic\", \"source\", \"source\", \"source\", \"source\", \"source\", \"source\", \"source\", \"spectral\", \"spectral\", \"spectral\", \"spectral\", \"spectral\", \"spectral\", \"spectral\", \"spectrometer\", \"spectrometer\", \"spectrometer\", \"spectrometer\", \"spectrometer\", \"spectrometer\", \"spectrometer\", \"spectrum\", \"spectrum\", \"spectrum\", \"spectrum\", \"spectrum\", \"spectrum\", \"spent\", \"statisticised\", \"stem\", \"stem\", \"stem\", \"stem\", \"straight\", \"straight\", \"straight\", \"straight\", \"straight\", \"straight\", \"sulfate\", \"sulfate\", \"sulfate\", \"sulfate\", \"sulting\", \"superior\", \"take\", \"take\", \"take\", \"take\", \"take\", \"take\", \"take\", \"tape\", \"tape\", \"telescope\", \"telescope\", \"telescope\", \"telescope\", \"telescope\", \"telescope\", \"telescope\", \"test\", \"test\", \"test\", \"test\", \"test\", \"test\", \"testament\", \"therefore\", \"therefore\", \"therefore\", \"therefore\", \"therefore\", \"therefore\", \"theta\", \"theta\", \"theta\", \"theta\", \"theta\", \"theta\", \"thicker\", \"tional\", \"transition\", \"transition\", \"transition\", \"transition\", \"transition\", \"transition\", \"transition\", \"translates\", \"triangle\", \"tumed\", \"tweak\", \"twelve\", \"unacceptably\", \"unce\", \"unce\", \"unce\", \"unce\", \"uncertainty\", \"uncertainty\", \"uncertainty\", \"uncertainty\", \"uncertainty\", \"uncertainty\", \"uncertainty\", \"undeflected\", \"undeflected\", \"underneath\", \"undetermined\", \"unprecise\", \"unprecise\", \"user\", \"user\", \"user\", \"utitlised\", \"value\", \"value\", \"value\", \"value\", \"value\", \"value\", \"value\", \"vaporise\", \"vapour\", \"vapour\", \"vapour\", \"vapour\", \"vapour\", \"veriner\", \"violet\", \"violet\", \"violet\", \"violet\", \"violet\", \"violet\", \"visible\", \"visible\", \"visible\", \"visible\", \"visible\", \"visible\", \"warrant\", \"warrant\", \"wavelength\", \"wavelength\", \"wavelength\", \"wavelength\", \"wavelength\", \"wavelength\", \"wavelength\", \"wavelengths\", \"wavelengths\", \"wax\", \"wax\", \"wax\", \"wax\", \"wax\", \"well\", \"well\", \"well\", \"well\", \"well\", \"well\", \"would\", \"would\", \"would\", \"would\", \"would\", \"would\", \"would\", \"ydirection\", \"\\u03b4\\ud835\\udf19\", \"\\u03c3\\u03b8\", \"\\u03c3\\u03b8\", \"\\u03c3\\u03b8\", \"\\u210e\\u03bd\", \"\\u210e\\ud835\\udc53\", \"\\ud835\\udc4e\\ud835\\udc63\\ud835\\udc52\", \"\\ud835\\udc4e\\ud835\\udc63\\ud835\\udc52\", \"\\ud835\\udc4f\\ud835\\udc59\\ud835\\udc62\\ud835\\udc52\", \"\\ud835\\udc4f\\ud835\\udc59\\ud835\\udc62\\ud835\\udc52\", \"\\ud835\\udc5a\\ud835\\udc4e\\ud835\\udc65\", \"\\ud835\\udc5a\\ud835\\udc56\\ud835\\udc5b\", \"\\ud835\\udc5b\\ud835\\udc5a\", \"\\ud835\\udc5b\\ud835\\udc5a\", \"\\ud835\\udc5b\\ud835\\udc5a\", \"\\ud835\\udc5b\\ud835\\udc5a\", \"\\ud835\\udc5b\\ud835\\udc5a\", \"\\ud835\\udc5f\\ud835\\udc52\\ud835\\udc51\", \"\\ud835\\udc5f\\ud835\\udc52\\ud835\\udc51\", \"\\ud835\\udf0b\\ud835\\udf16\"]}, \"R\": 30, \"lambda.step\": 0.01, \"plot.opts\": {\"xlab\": \"PC1\", \"ylab\": \"PC2\"}, \"topic.order\": [7, 2, 8, 4, 9, 10, 5, 3, 6, 1]};\n",
       "\n",
       "function LDAvis_load_lib(url, callback){\n",
       "  var s = document.createElement('script');\n",
       "  s.src = url;\n",
       "  s.async = true;\n",
       "  s.onreadystatechange = s.onload = callback;\n",
       "  s.onerror = function(){console.warn(\"failed to load library \" + url);};\n",
       "  document.getElementsByTagName(\"head\")[0].appendChild(s);\n",
       "}\n",
       "\n",
       "if(typeof(LDAvis) !== \"undefined\"){\n",
       "   // already loaded: just create the visualization\n",
       "   !function(LDAvis){\n",
       "       new LDAvis(\"#\" + \"ldavis_el2997214777262510404435817985\", ldavis_el2997214777262510404435817985_data);\n",
       "   }(LDAvis);\n",
       "}else if(typeof define === \"function\" && define.amd){\n",
       "   // require.js is available: use it to load d3/LDAvis\n",
       "   require.config({paths: {d3: \"https://cdnjs.cloudflare.com/ajax/libs/d3/3.5.5/d3.min\"}});\n",
       "   require([\"d3\"], function(d3){\n",
       "      window.d3 = d3;\n",
       "      LDAvis_load_lib(\"https://cdn.rawgit.com/bmabey/pyLDAvis/files/ldavis.v1.0.0.js\", function(){\n",
       "        new LDAvis(\"#\" + \"ldavis_el2997214777262510404435817985\", ldavis_el2997214777262510404435817985_data);\n",
       "      });\n",
       "    });\n",
       "}else{\n",
       "    // require.js not available: dynamically load d3 & LDAvis\n",
       "    LDAvis_load_lib(\"https://cdnjs.cloudflare.com/ajax/libs/d3/3.5.5/d3.min.js\", function(){\n",
       "         LDAvis_load_lib(\"https://cdn.rawgit.com/bmabey/pyLDAvis/files/ldavis.v1.0.0.js\", function(){\n",
       "                 new LDAvis(\"#\" + \"ldavis_el2997214777262510404435817985\", ldavis_el2997214777262510404435817985_data);\n",
       "            })\n",
       "         });\n",
       "}\n",
       "</script>"
      ],
      "text/plain": [
       "PreparedData(topic_coordinates=              x         y  topics  cluster       Freq\n",
       "topic                                                \n",
       "6     -0.010478  0.003243       1        1  45.596138\n",
       "1     -0.007737 -0.003312       2        1  18.814912\n",
       "7     -0.005495  0.002374       3        1  14.570068\n",
       "3     -0.003159 -0.002470       4        1  13.643820\n",
       "8     -0.000886 -0.006172       5        1   3.727104\n",
       "9     -0.003852  0.004714       6        1   3.427664\n",
       "4      0.004471  0.000327       7        1   0.188193\n",
       "2      0.004562 -0.000426       8        1   0.010701\n",
       "5      0.009160 -0.000865       9        1   0.010700\n",
       "0      0.013414  0.002586      10        1   0.010700, topic_info=            Term         Freq        Total Category  logprob  loglift\n",
       "159        value  1578.000000  1578.000000  Default  30.0000  30.0000\n",
       "89          line  1753.000000  1753.000000  Default  29.0000  29.0000\n",
       "164   wavelength  1568.000000  1568.000000  Default  28.0000  28.0000\n",
       "26      constant  1429.000000  1429.000000  Default  27.0000  27.0000\n",
       "88         light  1406.000000  1406.000000  Default  26.0000  26.0000\n",
       "..           ...          ...          ...      ...      ...      ...\n",
       "41   diffraction     0.054035   724.749656  Topic10  -5.1693  -0.3613\n",
       "129       result     0.046658   542.312822  Topic10  -5.3161  -0.2181\n",
       "299  measurement     0.042685   508.338914  Topic10  -5.4051  -0.2424\n",
       "68          give     0.041639   441.494386  Topic10  -5.4299  -0.1262\n",
       "155  uncertainty     0.042793   570.090175  Topic10  -5.4025  -0.3545\n",
       "\n",
       "[815 rows x 6 columns], token_table=      Topic      Freq        Term\n",
       "term                             \n",
       "1539      1  0.644162    abstract\n",
       "1648      1  0.468320  acceptable\n",
       "3494      1  0.389397  accidental\n",
       "3494      2  0.389397  accidental\n",
       "3494      4  0.389397  accidental\n",
       "...     ...       ...         ...\n",
       "2568      4  0.137134          𝑛𝑚\n",
       "2568      5  0.137134          𝑛𝑚\n",
       "2680      1  0.818733         𝑟𝑒𝑑\n",
       "2680      2  0.204683         𝑟𝑒𝑑\n",
       "2681      1  0.608002          𝜋𝜖\n",
       "\n",
       "[1295 rows x 3 columns], R=30, lambda_step=0.01, plot_opts={'xlab': 'PC1', 'ylab': 'PC2'}, topic_order=[7, 2, 8, 4, 9, 10, 5, 3, 6, 1])"
      ]
     },
     "execution_count": 12,
     "metadata": {},
     "output_type": "execute_result"
    }
   ],
   "source": [
    "%pip install pyLDAvis==2.1.2\n",
    "import pickle \n",
    "import pyLDAvis\n",
    "from pyLDAvis import gensim\n",
    "import os\n",
    "# Visualize the topics\n",
    "pyLDAvis.enable_notebook()\n",
    "LDAvis_data_filepath = os.path.join(dir_name_e+str(num_topics))\n",
    "# # this is a bit time consuming - make the if statement True\n",
    "# # if you want to execute visualization prep yourself\n",
    "if 1 == 1:\n",
    "    LDAvis_prepared = pyLDAvis.gensim.prepare(lda_model, corpus, id2word)\n",
    "    with open(LDAvis_data_filepath, 'wb') as f:\n",
    "        pickle.dump(LDAvis_prepared, f)\n",
    "# load the pre-prepared pyLDAvis data from disk\n",
    "with open(LDAvis_data_filepath, 'rb') as f:\n",
    "    LDAvis_prepared = pickle.load(f)\n",
    "pyLDAvis.save_html(LDAvis_prepared, dir_name_e + str(num_topics) +'.html')\n",
    "LDAvis_prepared"
   ]
  },
  {
   "cell_type": "code",
   "execution_count": 13,
   "metadata": {},
   "outputs": [
    {
     "name": "stdout",
     "output_type": "stream",
     "text": [
      "0 add\n",
      "1 affected\n",
      "2 air\n",
      "3 align\n",
      "4 also\n",
      "5 although\n",
      "6 analysis\n",
      "7 angle\n",
      "8 angular\n",
      "9 atom\n",
      "10 atomic\n"
     ]
    },
    {
     "name": "stderr",
     "output_type": "stream",
     "text": [
      "c:\\Users\\EfiaA\\Anaconda3\\lib\\site-packages\\ipykernel\\ipkernel.py:287: DeprecationWarning: `should_run_async` will not call `transform_cell` automatically in the future. Please pass the result to `transformed_cell` argument and any exception that happen during thetransform in `preprocessing_exc_tuple` in IPython 7.17 and above.\n",
      "  and should_run_async(code)\n"
     ]
    }
   ],
   "source": [
    "# bag of words\n",
    "count = 0\n",
    "for k,v in id2word.iteritems():\n",
    "    print(k,v)\n",
    "    count +=1\n",
    "    if count > 10:\n",
    "        break"
   ]
  },
  {
   "cell_type": "code",
   "execution_count": 14,
   "metadata": {},
   "outputs": [
    {
     "name": "stderr",
     "output_type": "stream",
     "text": [
      "c:\\Users\\EfiaA\\Anaconda3\\lib\\site-packages\\ipykernel\\ipkernel.py:287: DeprecationWarning: `should_run_async` will not call `transform_cell` automatically in the future. Please pass the result to `transformed_cell` argument and any exception that happen during thetransform in `preprocessing_exc_tuple` in IPython 7.17 and above.\n",
      "  and should_run_async(code)\n"
     ]
    }
   ],
   "source": [
    "id2word.filter_extremes(no_below=12,no_above=0.5, keep_n = 100000)"
   ]
  },
  {
   "cell_type": "code",
   "execution_count": 22,
   "metadata": {},
   "outputs": [
    {
     "name": "stderr",
     "output_type": "stream",
     "text": [
      "c:\\Users\\EfiaA\\Anaconda3\\lib\\site-packages\\ipykernel\\ipkernel.py:287: DeprecationWarning: `should_run_async` will not call `transform_cell` automatically in the future. Please pass the result to `transformed_cell` argument and any exception that happen during thetransform in `preprocessing_exc_tuple` in IPython 7.17 and above.\n",
      "  and should_run_async(code)\n"
     ]
    }
   ],
   "source": [
    "bow_corpus = [id2word.doc2bow(doc) for doc in data_words]"
   ]
  },
  {
   "cell_type": "code",
   "execution_count": 25,
   "metadata": {},
   "outputs": [
    {
     "name": "stdout",
     "output_type": "stream",
     "text": [
      "Word 0 (\"add\") appears 2 time.\n",
      "Word 1 (\"affected\") appears 1 time.\n",
      "Word 5 (\"angular\") appears 2 time.\n",
      "Word 6 (\"atomic\") appears 1 time.\n",
      "Word 7 (\"background\") appears 3 time.\n",
      "Word 9 (\"charge\") appears 1 time.\n",
      "Word 10 (\"conclude\") appears 3 time.\n",
      "Word 11 (\"crosshair\") appears 8 time.\n",
      "Word 12 (\"dark\") appears 1 time.\n",
      "Word 16 (\"directly\") appears 1 time.\n",
      "Word 19 (\"ensure\") appears 3 time.\n",
      "Word 21 (\"factor\") appears 2 time.\n",
      "Word 22 (\"fall\") appears 1 time.\n",
      "Word 23 (\"form\") appears 4 time.\n",
      "Word 26 (\"gas\") appears 5 time.\n",
      "Word 27 (\"get\") appears 2 time.\n",
      "Word 28 (\"great\") appears 1 time.\n",
      "Word 31 (\"improve\") appears 1 time.\n",
      "Word 36 (\"negligible\") appears 1 time.\n",
      "Word 46 (\"reference\") appears 1 time.\n",
      "Word 49 (\"room\") appears 2 time.\n",
      "Word 50 (\"since\") appears 8 time.\n",
      "Word 51 (\"size\") appears 3 time.\n",
      "Word 52 (\"still\") appears 3 time.\n",
      "Word 56 (\"tube\") appears 1 time.\n",
      "Word 59 (\"various\") appears 6 time.\n",
      "Word 62 (\"able\") appears 1 time.\n",
      "Word 65 (\"allows\") appears 1 time.\n",
      "Word 69 (\"appear\") appears 1 time.\n",
      "Word 72 (\"attempt\") appears 2 time.\n",
      "Word 73 (\"bar\") appears 1 time.\n",
      "Word 77 (\"carry\") appears 1 time.\n",
      "Word 78 (\"collimate\") appears 3 time.\n",
      "Word 79 (\"come\") appears 2 time.\n",
      "Word 84 (\"covariance\") appears 1 time.\n",
      "Word 90 (\"either\") appears 1 time.\n",
      "Word 95 (\"exactly\") appears 1 time.\n",
      "Word 96 (\"express\") appears 2 time.\n",
      "Word 98 (\"function\") appears 1 time.\n",
      "Word 101 (\"help\") appears 1 time.\n",
      "Word 103 (\"idea\") appears 1 time.\n",
      "Word 105 (\"incidence\") appears 2 time.\n",
      "Word 106 (\"initially\") appears 1 time.\n",
      "Word 108 (\"interference\") appears 4 time.\n",
      "Word 109 (\"knowledge\") appears 1 time.\n",
      "Word 110 (\"later\") appears 1 time.\n",
      "Word 111 (\"lead\") appears 1 time.\n",
      "Word 118 (\"matrix\") appears 1 time.\n",
      "Word 123 (\"multiply\") appears 1 time.\n",
      "Word 126 (\"normal\") appears 3 time.\n",
      "Word 128 (\"occur\") appears 3 time.\n",
      "Word 129 (\"onto\") appears 1 time.\n",
      "Word 130 (\"orbital\") appears 1 time.\n",
      "Word 134 (\"planck\") appears 1 time.\n",
      "Word 139 (\"quadrature\") appears 1 time.\n",
      "Word 143 (\"relation\") appears 7 time.\n",
      "Word 144 (\"relatively\") appears 1 time.\n",
      "Word 147 (\"represent\") appears 1 time.\n",
      "Word 149 (\"setup\") appears 1 time.\n",
      "Word 151 (\"side\") appears 2 time.\n",
      "Word 161 (\"view\") appears 1 time.\n",
      "Word 163 (\"way\") appears 1 time.\n",
      "Word 164 (\"work\") appears 1 time.\n",
      "Word 166 (\"account\") appears 2 time.\n",
      "Word 167 (\"accuracy\") appears 11 time.\n",
      "Word 168 (\"accurately\") appears 6 time.\n",
      "Word 169 (\"achieve\") appears 6 time.\n",
      "Word 171 (\"always\") appears 1 time.\n",
      "Word 172 (\"around\") appears 1 time.\n",
      "Word 173 (\"available\") appears 1 time.\n",
      "Word 174 (\"away\") appears 1 time.\n",
      "Word 176 (\"calculation\") appears 1 time.\n",
      "Word 178 (\"checked\") appears 1 time.\n",
      "Word 180 (\"clear\") appears 3 time.\n",
      "Word 182 (\"composition\") appears 1 time.\n",
      "Word 183 (\"condition\") appears 1 time.\n",
      "Word 185 (\"constructive\") appears 1 time.\n",
      "Word 187 (\"describes\") appears 1 time.\n",
      "Word 188 (\"despite\") appears 2 time.\n",
      "Word 191 (\"discharge\") appears 2 time.\n",
      "Word 193 (\"distant\") appears 1 time.\n",
      "Word 195 (\"edge\") appears 1 time.\n",
      "Word 196 (\"effect\") appears 2 time.\n",
      "Word 198 (\"element\") appears 1 time.\n",
      "Word 202 (\"every\") appears 1 time.\n",
      "Word 203 (\"example\") appears 1 time.\n",
      "Word 205 (\"fact\") appears 1 time.\n",
      "Word 206 (\"field\") appears 1 time.\n",
      "Word 212 (\"holder\") appears 1 time.\n",
      "Word 213 (\"human\") appears 1 time.\n",
      "Word 216 (\"important\") appears 2 time.\n",
      "Word 217 (\"incident\") appears 2 time.\n",
      "Word 218 (\"include\") appears 1 time.\n",
      "Word 222 (\"laboratory\") appears 3 time.\n",
      "Word 223 (\"least\") appears 4 time.\n",
      "Word 224 (\"linear\") appears 10 time.\n",
      "Word 229 (\"occurs\") appears 3 time.\n",
      "Word 233 (\"pattern\") appears 4 time.\n",
      "Word 234 (\"physic\") appears 3 time.\n",
      "Word 235 (\"physical\") appears 2 time.\n",
      "Word 236 (\"present\") appears 1 time.\n",
      "Word 240 (\"provide\") appears 1 time.\n",
      "Word 243 (\"reflect\") appears 1 time.\n",
      "Word 247 (\"rotation\") appears 2 time.\n",
      "Word 252 (\"square\") appears 3 time.\n",
      "Word 255 (\"step\") appears 3 time.\n",
      "Word 257 (\"study\") appears 1 time.\n",
      "Word 260 (\"term\") appears 1 time.\n",
      "Word 261 (\"theory\") appears 1 time.\n",
      "Word 263 (\"total\") appears 3 time.\n",
      "Word 268 (\"universe\") appears 1 time.\n",
      "Word 269 (\"vary\") appears 1 time.\n",
      "Word 271 (\"whilst\") appears 1 time.\n",
      "Word 272 (\"across\") appears 1 time.\n",
      "Word 276 (\"approximately\") appears 1 time.\n",
      "Word 277 (\"arcminute\") appears 1 time.\n",
      "Word 278 (\"associate\") appears 3 time.\n",
      "Word 282 (\"clearly\") appears 1 time.\n",
      "Word 286 (\"deduce\") appears 1 time.\n",
      "Word 287 (\"derive\") appears 2 time.\n",
      "Word 288 (\"described\") appears 1 time.\n",
      "Word 292 (\"drop\") appears 1 time.\n",
      "Word 293 (\"expect\") appears 1 time.\n",
      "Word 296 (\"eye\") appears 1 time.\n",
      "Word 297 (\"fit\") appears 2 time.\n",
      "Word 300 (\"indicate\") appears 1 time.\n",
      "Word 301 (\"instrument\") appears 3 time.\n",
      "Word 303 (\"main\") appears 3 time.\n",
      "Word 307 (\"model\") appears 4 time.\n",
      "Word 310 (\"parallax\") appears 1 time.\n",
      "Word 317 (\"put\") appears 1 time.\n",
      "Word 322 (\"screw\") appears 1 time.\n",
      "Word 333 (\"actual\") appears 1 time.\n",
      "Word 338 (\"chemical\") appears 1 time.\n",
      "Word 339 (\"comparison\") appears 1 time.\n",
      "Word 348 (\"exist\") appears 1 time.\n",
      "Word 353 (\"middle\") appears 1 time.\n",
      "Word 358 (\"nucleus\") appears 1 time.\n",
      "Word 365 (\"predict\") appears 3 time.\n",
      "Word 366 (\"random\") appears 8 time.\n",
      "Word 369 (\"resolve\") appears 3 time.\n",
      "Word 371 (\"sample\") appears 4 time.\n",
      "Word 372 (\"spectroscopy\") appears 3 time.\n",
      "Word 375 (\"th\") appears 6 time.\n",
      "Word 377 (\"thus\") appears 4 time.\n",
      "Word 390 (\"describe\") appears 1 time.\n",
      "Word 392 (\"equate\") appears 1 time.\n",
      "Word 398 (\"individual\") appears 1 time.\n",
      "Word 399 (\"johannes\") appears 1 time.\n",
      "Word 402 (\"magnitude\") appears 1 time.\n",
      "Word 404 (\"momentum\") appears 2 time.\n",
      "Word 407 (\"note\") appears 1 time.\n",
      "Word 408 (\"orbit\") appears 5 time.\n",
      "Word 409 (\"period\") appears 7 time.\n",
      "Word 413 (\"reduces\") appears 1 time.\n",
      "Word 417 (\"stable\") appears 1 time.\n",
      "Word 418 (\"standard\") appears 4 time.\n",
      "Word 420 (\"verify\") appears 1 time.\n",
      "Word 421 (\"axis\") appears 2 time.\n",
      "Word 428 (\"examine\") appears 2 time.\n",
      "Word 453 (\"chance\") appears 1 time.\n",
      "Word 456 (\"discrete\") appears 1 time.\n",
      "Word 470 (\"corresponds\") appears 1 time.\n",
      "Word 477 (\"lie\") appears 1 time.\n",
      "Word 479 (\"lines\") appears 5 time.\n",
      "Word 481 (\"mechanic\") appears 1 time.\n",
      "Word 492 (\"behind\") appears 1 time.\n",
      "Word 494 (\"eliminate\") appears 1 time.\n",
      "Word 495 (\"key\") appears 3 time.\n",
      "Word 497 (\"success\") appears 2 time.\n",
      "Word 499 (\"involve\") appears 1 time.\n",
      "Word 501 (\"carefully\") appears 1 time.\n",
      "Word 503 (\"investigation\") appears 2 time.\n",
      "Word 507 (\"desk\") appears 2 time.\n",
      "Word 509 (\"slowly\") appears 1 time.\n",
      "Word 514 (\"dim\") appears 1 time.\n",
      "Word 520 (\"yield\") appears 2 time.\n",
      "Word 522 (\"thickness\") appears 2 time.\n",
      "Word 524 (\"switch\") appears 1 time.\n",
      "Word 528 (\"limited\") appears 1 time.\n",
      "Word 529 (\"bound\") appears 1 time.\n",
      "Word 531 (\"postulate\") appears 1 time.\n",
      "Word 535 (\"throughout\") appears 1 time.\n",
      "Word 537 (\"center\") appears 3 time.\n",
      "Word 539 (\"contribute\") appears 1 time.\n"
     ]
    },
    {
     "name": "stderr",
     "output_type": "stream",
     "text": [
      "c:\\Users\\EfiaA\\Anaconda3\\lib\\site-packages\\ipykernel\\ipkernel.py:287: DeprecationWarning: `should_run_async` will not call `transform_cell` automatically in the future. Please pass the result to `transformed_cell` argument and any exception that happen during thetransform in `preprocessing_exc_tuple` in IPython 7.17 and above.\n",
      "  and should_run_async(code)\n"
     ]
    }
   ],
   "source": [
    "bow_doc_95 = bow_corpus[94]\n",
    "for i in range(len(bow_doc_95)):\n",
    "    print(\"Word {} (\\\"{}\\\") appears {} time.\".format(bow_doc_95[i][0], \n",
    "                                               id2word[bow_doc_95[i][0]], \n",
    "bow_doc_95[i][1]))"
   ]
  },
  {
   "cell_type": "code",
   "execution_count": 26,
   "metadata": {},
   "outputs": [
    {
     "name": "stdout",
     "output_type": "stream",
     "text": [
      "[(0, 0.12215063460721136),\n",
      " (1, 0.2836266993469877),\n",
      " (2, 0.0889844357418732),\n",
      " (3, 0.056010480109643705),\n",
      " (4, 0.056010480109643705),\n",
      " (5, 0.06848905698288577),\n",
      " (6, 0.12215063460721136),\n",
      " (7, 0.056010480109643705),\n",
      " (8, 0.07464619645962134),\n",
      " (9, 0.12570577621416076),\n",
      " (10, 0.2758142358418476),\n",
      " (11, 0.06655689402325103),\n",
      " (12, 0.06848905698288577),\n",
      " (13, 0.09750516333996509),\n",
      " (14, 0.056010480109643705),\n",
      " (15, 0.1276322113268567),\n",
      " (16, 0.09170542394088194),\n",
      " (17, 0.0889844357418732),\n",
      " (18, 0.06467916549276304),\n",
      " (19, 0.04834053913562069),\n",
      " (20, 0.1108808594728049),\n",
      " (21, 0.07683180061731812),\n",
      " (22, 0.06848905698288577),\n",
      " (23, 0.04690704399900591),\n",
      " (24, 0.07683180061731812),\n",
      " (25, 0.3073272024692725),\n",
      " (26, 0.11531273017079026),\n",
      " (27, 0.0593439224318604),\n",
      " (28, 0.05283583465773499),\n",
      " (29, 0.1108808594728049),\n",
      " (30, 0.10727701128364754),\n",
      " (31, 0.10880851779739188),\n",
      " (32, 0.11469075096292763),\n",
      " (33, 0.05440425889869594),\n",
      " (34, 0.26514374972004234),\n",
      " (35, 0.10260693871984645),\n",
      " (36, 0.07047890489184622),\n",
      " (37, 0.26514374972004234),\n",
      " (38, 0.12303349459735999),\n",
      " (39, 0.08385460102468605),\n",
      " (40, 0.07909150701142492),\n",
      " (41, 0.07252998840895893),\n",
      " (42, 0.056010480109643705),\n",
      " (43, 0.0889844357418732),\n",
      " (44, 0.0593439224318604),\n",
      " (45, 0.1890844662313251),\n",
      " (46, 0.08385460102468605),\n",
      " (47, 0.09170542394088194),\n",
      " (48, 0.0889844357418732),\n",
      " (49, 0.13697811396577153),\n",
      " (50, 0.22404192043857482),\n",
      " (51, 0.09170542394088194),\n",
      " (52, 0.06655689402325103),\n",
      " (53, 0.10727701128364754),\n",
      " (54, 0.18341084788176387),\n",
      " (55, 0.20771611813087404),\n",
      " (56, 0.11873168238900081),\n",
      " (57, 0.10727701128364754),\n",
      " (58, 0.08637018087997929),\n",
      " (59, 0.1890844662313251),\n",
      " (60, 0.0593439224318604),\n",
      " (61, 0.08143051734681483)]\n"
     ]
    },
    {
     "name": "stderr",
     "output_type": "stream",
     "text": [
      "c:\\Users\\EfiaA\\Anaconda3\\lib\\site-packages\\ipykernel\\ipkernel.py:287: DeprecationWarning: `should_run_async` will not call `transform_cell` automatically in the future. Please pass the result to `transformed_cell` argument and any exception that happen during thetransform in `preprocessing_exc_tuple` in IPython 7.17 and above.\n",
      "  and should_run_async(code)\n"
     ]
    }
   ],
   "source": [
    "from gensim import corpora, models\n",
    "tfidf = models.TfidfModel(bow_corpus)\n",
    "corpus_tfidf = tfidf[bow_corpus]\n",
    "from pprint import pprint\n",
    "for doc in corpus_tfidf:\n",
    "    pprint(doc)\n",
    "    break"
   ]
  },
  {
   "cell_type": "code",
   "execution_count": 33,
   "metadata": {},
   "outputs": [
    {
     "name": "stderr",
     "output_type": "stream",
     "text": [
      "c:\\Users\\EfiaA\\Anaconda3\\lib\\site-packages\\ipykernel\\ipkernel.py:287: DeprecationWarning: `should_run_async` will not call `transform_cell` automatically in the future. Please pass the result to `transformed_cell` argument and any exception that happen during thetransform in `preprocessing_exc_tuple` in IPython 7.17 and above.\n",
      "  and should_run_async(code)\n"
     ]
    },
    {
     "name": "stdout",
     "output_type": "stream",
     "text": [
      "Requirement already satisfied: pyLDAvis==2.1.2 in c:\\users\\efiaa\\anaconda3\\lib\\site-packages (2.1.2)Note: you may need to restart the kernel to use updated packages.\n",
      "\n",
      "Requirement already satisfied: jinja2>=2.7.2 in c:\\users\\efiaa\\anaconda3\\lib\\site-packages (from pyLDAvis==2.1.2) (2.11.3)\n",
      "Requirement already satisfied: numpy>=1.9.2 in c:\\users\\efiaa\\anaconda3\\lib\\site-packages (from pyLDAvis==2.1.2) (1.20.1)\n",
      "Requirement already satisfied: scipy>=0.18.0 in c:\\users\\efiaa\\anaconda3\\lib\\site-packages (from pyLDAvis==2.1.2) (1.6.2)\n",
      "Requirement already satisfied: wheel>=0.23.0 in c:\\users\\efiaa\\anaconda3\\lib\\site-packages (from pyLDAvis==2.1.2) (0.36.2)\n",
      "Requirement already satisfied: pandas>=0.17.0 in c:\\users\\efiaa\\anaconda3\\lib\\site-packages (from pyLDAvis==2.1.2) (1.2.4)\n",
      "Requirement already satisfied: future in c:\\users\\efiaa\\anaconda3\\lib\\site-packages (from pyLDAvis==2.1.2) (0.18.2)\n",
      "Requirement already satisfied: funcy in c:\\users\\efiaa\\anaconda3\\lib\\site-packages (from pyLDAvis==2.1.2) (1.17)\n",
      "Requirement already satisfied: pytest in c:\\users\\efiaa\\anaconda3\\lib\\site-packages (from pyLDAvis==2.1.2) (6.2.3)\n",
      "Requirement already satisfied: joblib>=0.8.4 in c:\\users\\efiaa\\anaconda3\\lib\\site-packages (from pyLDAvis==2.1.2) (1.0.1)\n",
      "Requirement already satisfied: numexpr in c:\\users\\efiaa\\anaconda3\\lib\\site-packages (from pyLDAvis==2.1.2) (2.7.3)\n",
      "Requirement already satisfied: MarkupSafe>=0.23 in c:\\users\\efiaa\\anaconda3\\lib\\site-packages (from jinja2>=2.7.2->pyLDAvis==2.1.2) (1.1.1)\n",
      "Requirement already satisfied: pytz>=2017.3 in c:\\users\\efiaa\\anaconda3\\lib\\site-packages (from pandas>=0.17.0->pyLDAvis==2.1.2) (2021.1)\n",
      "Requirement already satisfied: python-dateutil>=2.7.3 in c:\\users\\efiaa\\anaconda3\\lib\\site-packages (from pandas>=0.17.0->pyLDAvis==2.1.2) (2.8.1)\n",
      "Requirement already satisfied: six>=1.5 in c:\\users\\efiaa\\anaconda3\\lib\\site-packages (from python-dateutil>=2.7.3->pandas>=0.17.0->pyLDAvis==2.1.2) (1.15.0)\n",
      "Requirement already satisfied: attrs>=19.2.0 in c:\\users\\efiaa\\anaconda3\\lib\\site-packages (from pytest->pyLDAvis==2.1.2) (20.3.0)\n",
      "Requirement already satisfied: iniconfig in c:\\users\\efiaa\\anaconda3\\lib\\site-packages (from pytest->pyLDAvis==2.1.2) (1.1.1)\n",
      "Requirement already satisfied: packaging in c:\\users\\efiaa\\anaconda3\\lib\\site-packages (from pytest->pyLDAvis==2.1.2) (20.9)\n",
      "Requirement already satisfied: pluggy<1.0.0a1,>=0.12 in c:\\users\\efiaa\\anaconda3\\lib\\site-packages (from pytest->pyLDAvis==2.1.2) (0.13.1)\n",
      "Requirement already satisfied: py>=1.8.2 in c:\\users\\efiaa\\anaconda3\\lib\\site-packages (from pytest->pyLDAvis==2.1.2) (1.10.0)\n",
      "Requirement already satisfied: toml in c:\\users\\efiaa\\anaconda3\\lib\\site-packages (from pytest->pyLDAvis==2.1.2) (0.10.2)\n",
      "Requirement already satisfied: atomicwrites>=1.0 in c:\\users\\efiaa\\anaconda3\\lib\\site-packages (from pytest->pyLDAvis==2.1.2) (1.4.0)\n",
      "Requirement already satisfied: colorama in c:\\users\\efiaa\\anaconda3\\lib\\site-packages (from pytest->pyLDAvis==2.1.2) (0.4.4)\n",
      "Requirement already satisfied: pyparsing>=2.0.2 in c:\\users\\efiaa\\anaconda3\\lib\\site-packages (from packaging->pytest->pyLDAvis==2.1.2) (2.4.7)\n"
     ]
    }
   ],
   "source": [
    "%pip install pyLDAvis==2.1.2\n",
    "import pickle \n",
    "import pyLDAvis\n",
    "from pyLDAvis import gensim\n",
    "from gensim.models.ldamulticore import LdaMulticore"
   ]
  },
  {
   "cell_type": "code",
   "execution_count": 35,
   "metadata": {},
   "outputs": [
    {
     "name": "stderr",
     "output_type": "stream",
     "text": [
      "c:\\Users\\EfiaA\\Anaconda3\\lib\\site-packages\\ipykernel\\ipkernel.py:287: DeprecationWarning: `should_run_async` will not call `transform_cell` automatically in the future. Please pass the result to `transformed_cell` argument and any exception that happen during thetransform in `preprocessing_exc_tuple` in IPython 7.17 and above.\n",
      "  and should_run_async(code)\n"
     ]
    }
   ],
   "source": [
    "lda_model = LdaMulticore(bow_corpus, num_topics=10, id2word=id2word, passes=2, workers=2)"
   ]
  },
  {
   "cell_type": "code",
   "execution_count": 36,
   "metadata": {},
   "outputs": [
    {
     "name": "stdout",
     "output_type": "stream",
     "text": [
      "Topic: 0 \n",
      "Words: 0.014*\"pattern\" + 0.012*\"fringe\" + 0.012*\"experimental\" + 0.011*\"resolution\" + 0.010*\"great\" + 0.008*\"model\" + 0.007*\"appear\" + 0.007*\"centre\" + 0.007*\"element\" + 0.007*\"interference\"\n",
      "Topic: 1 \n",
      "Words: 0.016*\"wire\" + 0.014*\"orbit\" + 0.012*\"angular\" + 0.011*\"thus\" + 0.009*\"model\" + 0.009*\"air\" + 0.008*\"free\" + 0.008*\"violet\" + 0.008*\"quantum\" + 0.008*\"green\"\n",
      "Topic: 2 \n",
      "Words: 0.016*\"fringe\" + 0.016*\"purple\" + 0.015*\"thus\" + 0.011*\"discrete\" + 0.009*\"angular\" + 0.008*\"crosshair\" + 0.008*\"gas\" + 0.006*\"precisely\" + 0.006*\"may\" + 0.006*\"violet\"\n",
      "Topic: 3 \n",
      "Words: 0.042*\"fringe\" + 0.012*\"element\" + 0.010*\"quantum\" + 0.009*\"centre\" + 0.009*\"crosshair\" + 0.009*\"model\" + 0.008*\"around\" + 0.007*\"orbit\" + 0.007*\"experimental\" + 0.007*\"radius\"\n",
      "Topic: 4 \n",
      "Words: 0.016*\"violet\" + 0.012*\"accuracy\" + 0.009*\"angular\" + 0.009*\"able\" + 0.009*\"crosshair\" + 0.008*\"linear\" + 0.007*\"thus\" + 0.007*\"accurately\" + 0.007*\"atomic\" + 0.007*\"since\"\n",
      "Topic: 5 \n",
      "Words: 0.011*\"purple\" + 0.009*\"centre\" + 0.008*\"associate\" + 0.008*\"arcminute\" + 0.007*\"th\" + 0.007*\"crosshair\" + 0.007*\"parallax\" + 0.007*\"fit\" + 0.007*\"reference\" + 0.007*\"hair\"\n",
      "Topic: 6 \n",
      "Words: 0.010*\"orbit\" + 0.009*\"thus\" + 0.009*\"interference\" + 0.009*\"quantum\" + 0.008*\"wave\" + 0.008*\"violet\" + 0.008*\"hence\" + 0.006*\"model\" + 0.006*\"experimental\" + 0.006*\"way\"\n",
      "Topic: 7 \n",
      "Words: 0.014*\"aqua\" + 0.010*\"get\" + 0.009*\"able\" + 0.008*\"fit\" + 0.007*\"lie\" + 0.007*\"experimental\" + 0.007*\"important\" + 0.007*\"minute\" + 0.007*\"since\" + 0.007*\"pattern\"\n",
      "Topic: 8 \n",
      "Words: 0.013*\"since\" + 0.012*\"hence\" + 0.010*\"setup\" + 0.010*\"percentage\" + 0.009*\"pas\" + 0.009*\"thus\" + 0.007*\"pattern\" + 0.007*\"wire\" + 0.007*\"ensure\" + 0.006*\"important\"\n",
      "Topic: 9 \n",
      "Words: 0.011*\"random\" + 0.011*\"violet\" + 0.009*\"may\" + 0.008*\"since\" + 0.007*\"lead\" + 0.007*\"background\" + 0.007*\"much\" + 0.006*\"pattern\" + 0.006*\"associate\" + 0.006*\"accuracy\"\n"
     ]
    },
    {
     "name": "stderr",
     "output_type": "stream",
     "text": [
      "c:\\Users\\EfiaA\\Anaconda3\\lib\\site-packages\\ipykernel\\ipkernel.py:287: DeprecationWarning: `should_run_async` will not call `transform_cell` automatically in the future. Please pass the result to `transformed_cell` argument and any exception that happen during thetransform in `preprocessing_exc_tuple` in IPython 7.17 and above.\n",
      "  and should_run_async(code)\n"
     ]
    }
   ],
   "source": [
    "for idx, topic in lda_model.print_topics(-1):\n",
    "    print('Topic: {} \\nWords: {}'.format(idx, topic))"
   ]
  },
  {
   "cell_type": "code",
   "execution_count": 37,
   "metadata": {},
   "outputs": [
    {
     "name": "stderr",
     "output_type": "stream",
     "text": [
      "c:\\Users\\EfiaA\\Anaconda3\\lib\\site-packages\\ipykernel\\ipkernel.py:287: DeprecationWarning: `should_run_async` will not call `transform_cell` automatically in the future. Please pass the result to `transformed_cell` argument and any exception that happen during thetransform in `preprocessing_exc_tuple` in IPython 7.17 and above.\n",
      "  and should_run_async(code)\n"
     ]
    },
    {
     "name": "stdout",
     "output_type": "stream",
     "text": [
      "Topic: 0 Word: 0.011*\"fringe\" + 0.007*\"electromagnetic\" + 0.006*\"python\" + 0.006*\"bright\" + 0.006*\"nth\" + 0.005*\"must\" + 0.005*\"percentage\" + 0.005*\"radiation\" + 0.005*\"slope\" + 0.005*\"sinθ\"\n",
      "Topic: 1 Word: 0.006*\"hence\" + 0.006*\"sure\" + 0.006*\"orbit\" + 0.005*\"resolution\" + 0.005*\"compare\" + 0.005*\"quantum\" + 0.005*\"side\" + 0.005*\"apparatus\" + 0.005*\"orbital\" + 0.005*\"assume\"\n",
      "Topic: 2 Word: 0.008*\"purple\" + 0.006*\"inverse\" + 0.006*\"wire\" + 0.006*\"slope\" + 0.005*\"clearly\" + 0.005*\"setup\" + 0.005*\"spread\" + 0.005*\"angular\" + 0.005*\"crosshair\" + 0.005*\"true\"\n",
      "Topic: 3 Word: 0.007*\"purple\" + 0.007*\"component\" + 0.007*\"violet\" + 0.006*\"crosshair\" + 0.006*\"emits\" + 0.006*\"compose\" + 0.005*\"get\" + 0.005*\"interference\" + 0.005*\"mechanic\" + 0.005*\"constructive\"\n",
      "Topic: 4 Word: 0.007*\"violet\" + 0.006*\"theoretical\" + 0.006*\"fringe\" + 0.006*\"aqua\" + 0.006*\"becomes\" + 0.005*\"section\" + 0.005*\"hence\" + 0.005*\"sufficient\" + 0.005*\"theory\" + 0.005*\"front\"\n",
      "Topic: 5 Word: 0.008*\"aqua\" + 0.007*\"fringe\" + 0.006*\"hair\" + 0.006*\"arcminute\" + 0.006*\"violet\" + 0.005*\"period\" + 0.005*\"main\" + 0.005*\"green\" + 0.005*\"drop\" + 0.005*\"reference\"\n",
      "Topic: 6 Word: 0.010*\"discrete\" + 0.009*\"fringe\" + 0.007*\"radiation\" + 0.006*\"verify\" + 0.006*\"lead\" + 0.006*\"nucleus\" + 0.005*\"analyse\" + 0.005*\"provide\" + 0.005*\"spectrometry\" + 0.005*\"fall\"\n",
      "Topic: 7 Word: 0.009*\"green\" + 0.007*\"millimetre\" + 0.007*\"purple\" + 0.006*\"fringe\" + 0.006*\"lie\" + 0.005*\"band\" + 0.005*\"linear\" + 0.005*\"prove\" + 0.005*\"de\" + 0.005*\"plane\"\n",
      "Topic: 8 Word: 0.006*\"slope\" + 0.006*\"appear\" + 0.005*\"front\" + 0.005*\"violet\" + 0.005*\"discrete\" + 0.004*\"direction\" + 0.004*\"lines\" + 0.004*\"heat\" + 0.004*\"angular\" + 0.004*\"consists\"\n",
      "Topic: 9 Word: 0.006*\"band\" + 0.006*\"thus\" + 0.006*\"standard\" + 0.005*\"zeroth\" + 0.005*\"percentage\" + 0.005*\"air\" + 0.005*\"frequency\" + 0.005*\"humidity\" + 0.005*\"require\" + 0.005*\"fringe\"\n"
     ]
    }
   ],
   "source": [
    "lda_model_tfidf = LdaMulticore(corpus_tfidf, num_topics=10, id2word= id2word, passes=2, workers=4)\n",
    "for idx, topic in lda_model_tfidf.print_topics(-1):\n",
    "    print('Topic: {} Word: {}'.format(idx, topic))"
   ]
  },
  {
   "cell_type": "code",
   "execution_count": 39,
   "metadata": {},
   "outputs": [
    {
     "name": "stdout",
     "output_type": "stream",
     "text": [
      "\n",
      "Score: 0.9975536465644836\t \n",
      "Topic: 0.016*\"violet\" + 0.012*\"accuracy\" + 0.009*\"angular\" + 0.009*\"able\" + 0.009*\"crosshair\" + 0.008*\"linear\" + 0.007*\"thus\" + 0.007*\"accurately\" + 0.007*\"atomic\" + 0.007*\"since\"\n"
     ]
    },
    {
     "name": "stderr",
     "output_type": "stream",
     "text": [
      "c:\\Users\\EfiaA\\Anaconda3\\lib\\site-packages\\ipykernel\\ipkernel.py:287: DeprecationWarning: `should_run_async` will not call `transform_cell` automatically in the future. Please pass the result to `transformed_cell` argument and any exception that happen during thetransform in `preprocessing_exc_tuple` in IPython 7.17 and above.\n",
      "  and should_run_async(code)\n"
     ]
    }
   ],
   "source": [
    "for index, score in sorted(lda_model[bow_corpus[94]], key=lambda tup: -1*tup[1]):\n",
    "    print(\"\\nScore: {}\\t \\nTopic: {}\".format(score, lda_model.print_topic(index, 10)))"
   ]
  },
  {
   "cell_type": "code",
   "execution_count": 40,
   "metadata": {},
   "outputs": [
    {
     "name": "stdout",
     "output_type": "stream",
     "text": [
      "\n",
      "Score: 0.8018959760665894\t \n",
      "Topic: 0.008*\"aqua\" + 0.007*\"fringe\" + 0.006*\"hair\" + 0.006*\"arcminute\" + 0.006*\"violet\" + 0.005*\"period\" + 0.005*\"main\" + 0.005*\"green\" + 0.005*\"drop\" + 0.005*\"reference\"\n",
      "\n",
      "Score: 0.19592922925949097\t \n",
      "Topic: 0.006*\"hence\" + 0.006*\"sure\" + 0.006*\"orbit\" + 0.005*\"resolution\" + 0.005*\"compare\" + 0.005*\"quantum\" + 0.005*\"side\" + 0.005*\"apparatus\" + 0.005*\"orbital\" + 0.005*\"assume\"\n"
     ]
    },
    {
     "name": "stderr",
     "output_type": "stream",
     "text": [
      "c:\\Users\\EfiaA\\Anaconda3\\lib\\site-packages\\ipykernel\\ipkernel.py:287: DeprecationWarning: `should_run_async` will not call `transform_cell` automatically in the future. Please pass the result to `transformed_cell` argument and any exception that happen during thetransform in `preprocessing_exc_tuple` in IPython 7.17 and above.\n",
      "  and should_run_async(code)\n"
     ]
    }
   ],
   "source": [
    "#performance evaluation by classifying sample document using LDA TF-IDF model\n",
    "for index, score in sorted(lda_model_tfidf[bow_corpus[94]], key=lambda tup: -1*tup[1]):\n",
    "    print(\"\\nScore: {}\\t \\nTopic: {}\".format(score, lda_model_tfidf.print_topic(index, 10)))"
   ]
  },
  {
   "cell_type": "code",
   "execution_count": null,
   "metadata": {},
   "outputs": [],
   "source": [
    "# Our test document has the highest probability to be part of the topic\n",
    "# that our model assigned, which is the accurate classification"
   ]
  }
 ],
 "metadata": {
  "kernelspec": {
   "display_name": "base",
   "language": "python",
   "name": "python3"
  },
  "language_info": {
   "codemirror_mode": {
    "name": "ipython",
    "version": 3
   },
   "file_extension": ".py",
   "mimetype": "text/x-python",
   "name": "python",
   "nbconvert_exporter": "python",
   "pygments_lexer": "ipython3",
   "version": "3.8.8"
  },
  "orig_nbformat": 4,
  "vscode": {
   "interpreter": {
    "hash": "7bf9169aea3bf43030d2045b9506020b24091b3061df9b5cfee19d2eac11c6ed"
   }
  }
 },
 "nbformat": 4,
 "nbformat_minor": 2
}
