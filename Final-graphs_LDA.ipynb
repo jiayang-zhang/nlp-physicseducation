{
 "cells": [
  {
   "cell_type": "code",
   "execution_count": 4,
   "metadata": {},
   "outputs": [],
   "source": [
    "import pandas as pd\n",
    "import numpy as np\n",
    "import matplotlib.pyplot as plt"
   ]
  },
  {
   "cell_type": "code",
   "execution_count": 5,
   "metadata": {},
   "outputs": [],
   "source": [
    "#Y1\n",
    "dir_csv_y1 = 'outputs/LDA_weights_grades_df_year1.csv'\n",
    "df_y1     = pd.read_csv(dir_csv_y1, encoding='utf-8')\n",
    "\n",
    "#Y2\n",
    "dir_csv_y2 = 'outputs/LDA_weights_grades_df_year1.csv'\n",
    "df_y2      = pd.read_csv(dir_csv_y2, encoding='utf-8')\n",
    "\n",
    "#Y1Y2\n",
    "dir_csv_y1y2 = 'outputs/labels_cleaned_y1y2.csv'\n",
    "df_y1y2      = pd.read_csv(dir_csv_y1y2, encoding='utf-8')\n",
    "\n",
    "#Y1Y2 \n",
    "file_name_y1y2 = 'outputs/LDA_weights_df_year1_year2'\n",
    "df_y1y2_weight = pd.read_csv(file_name_y1y2, encoding='utf-8')\n",
    "\n",
    "num_topics = 2"
   ]
  },
  {
   "attachments": {},
   "cell_type": "markdown",
   "metadata": {},
   "source": [
    "# YEAR 1 "
   ]
  },
  {
   "attachments": {},
   "cell_type": "markdown",
   "metadata": {},
   "source": [
    "### Below are the heatmap and scatter plots helping us to identify plots specific to this year. "
   ]
  },
  {
   "cell_type": "code",
   "execution_count": null,
   "metadata": {},
   "outputs": [],
   "source": []
  },
  {
   "attachments": {},
   "cell_type": "markdown",
   "metadata": {},
   "source": [
    "# YEAR 2"
   ]
  },
  {
   "attachments": {},
   "cell_type": "markdown",
   "metadata": {},
   "source": [
    "### Below are the heatmap and scatter plots helping us to identify plots specific to this year. "
   ]
  },
  {
   "attachments": {},
   "cell_type": "markdown",
   "metadata": {},
   "source": [
    "# YEAR 1&2"
   ]
  },
  {
   "attachments": {},
   "cell_type": "markdown",
   "metadata": {},
   "source": [
    "### Below are the heatmap and scatter plots helping us to identify plots specific to this year. "
   ]
  },
  {
   "cell_type": "code",
   "execution_count": null,
   "metadata": {},
   "outputs": [],
   "source": [
    "for t in range(num_topics):\n",
    "    plt.scatter(weights_y1.index, sorted_weights_y1.iloc[:,t], label='Topic '+str(t), linewidths=0.5, marker= 'o', s = 2)\n",
    "plt.xlabel(\"Document number\")\n",
    "plt.ylabel(\"Topic weight\")\n",
    "plt.legend(loc='upper center', prop = {'size' : 5})\n",
    "plt.title('Weights of %d in all documents - YEAR1' % num_topics)\n",
    "plt.show();"
   ]
  }
 ],
 "metadata": {
  "kernelspec": {
   "display_name": "base",
   "language": "python",
   "name": "python3"
  },
  "language_info": {
   "codemirror_mode": {
    "name": "ipython",
    "version": 3
   },
   "file_extension": ".py",
   "mimetype": "text/x-python",
   "name": "python",
   "nbconvert_exporter": "python",
   "pygments_lexer": "ipython3",
   "version": "3.8.8"
  },
  "orig_nbformat": 4
 },
 "nbformat": 4,
 "nbformat_minor": 2
}
