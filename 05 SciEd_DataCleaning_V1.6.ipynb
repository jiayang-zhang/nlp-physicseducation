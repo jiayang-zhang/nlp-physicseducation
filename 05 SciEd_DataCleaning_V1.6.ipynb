{
 "cells": [
  {
   "cell_type": "markdown",
   "metadata": {},
   "source": [
    "# Data Cleaning for Science Education Articles"
   ]
  },
  {
   "cell_type": "code",
   "execution_count": 1,
   "metadata": {},
   "outputs": [
    {
     "data": {
      "text/html": [
       "<style>.container { width:95% !important; }</style>"
      ],
      "text/plain": [
       "<IPython.core.display.HTML object>"
      ]
     },
     "metadata": {},
     "output_type": "display_data"
    }
   ],
   "source": [
    "# Print out  all expressions\n",
    "from IPython.core.interactiveshell import InteractiveShell\n",
    "InteractiveShell.ast_node_interactivity = \"all\" #default 'last_expr'\n",
    "# Wider cells\n",
    "from IPython.core.display import display, HTML\n",
    "display(HTML(\"<style>.container { width:95% !important; }</style>\"))"
   ]
  },
  {
   "cell_type": "code",
   "execution_count": 2,
   "metadata": {},
   "outputs": [
    {
     "data": {
      "text/plain": [
       "True"
      ]
     },
     "execution_count": 2,
     "metadata": {},
     "output_type": "execute_result"
    },
    {
     "data": {
      "text/plain": [
       "True"
      ]
     },
     "execution_count": 2,
     "metadata": {},
     "output_type": "execute_result"
    }
   ],
   "source": [
    "# Imports\n",
    "import pickle\n",
    "import pandas as pd\n",
    "import numpy as np\n",
    "\n",
    "#Import regular expressions, for data processing\n",
    "import re\n",
    "\n",
    "import gensim\n",
    "from gensim.parsing.preprocessing import STOPWORDS\n",
    "from gensim.corpora import Dictionary\n",
    "import nltk\n",
    "from nltk.corpus import wordnet\n",
    "from nltk import pos_tag\n",
    "nltk.download('wordnet',quiet=True)\n",
    "#nltk.download('punkt',quiet=True)   #required by word_tokenize method\n",
    "nltk.download('averaged_perceptron_tagger',quiet=True) #required by pos_tag method"
   ]
  },
  {
   "cell_type": "code",
   "execution_count": 21,
   "metadata": {},
   "outputs": [],
   "source": [
    "from helpers import path_pdf,path_pkl,printh,find_in_list"
   ]
  },
  {
   "cell_type": "markdown",
   "metadata": {},
   "source": []
  },
  {
   "cell_type": "markdown",
   "metadata": {},
   "source": [
    "## Reading the datafile\n",
    "\n",
    "First, we import the pickle file that holds all of the scraped PDF data. This data is then put into a Pandas dataframe. "
   ]
  },
  {
   "cell_type": "code",
   "execution_count": 4,
   "metadata": {},
   "outputs": [],
   "source": [
    "#df = pd.read_pickle(path_pkl+'texts_norefs_V1.pkl') #read the pickle file, the first element is a Pandas dataframe\n",
    "#df=df.reset_index();\n",
    "#Remove documents with issues, remove some columns #Note: maybe this is not needed anymore\n",
    "#df = df[(df.failed == 0)]\n",
    "dir_csv = 'outputs/labels_cleaned_y1c1c2.csv'\n",
    "df = pd.read_csv(dir_csv, encoding='utf-8')"
   ]
  },
  {
   "cell_type": "markdown",
   "metadata": {},
   "source": [
    "### Start processing"
   ]
  },
  {
   "cell_type": "code",
   "execution_count": 8,
   "metadata": {},
   "outputs": [],
   "source": [
    "field='Content'"
   ]
  },
  {
   "cell_type": "raw",
   "metadata": {},
   "source": [
    "#test regular expressions\n",
    "tot=0\n",
    "for i,r in df.iterrows():\n",
    "    pattern = ' Per cent '\n",
    "    text = re.sub('- ', '', r.raw)\n",
    "    ms = [m for m in re.finditer(pattern, text)]\n",
    "    if len(ms) >0:\n",
    "        tot+=1\n",
    "        print(i, len(ms), r.filename)\n",
    "        print('  ',[text[m.start()-10:m.end()+15] for m in ms])\n",
    "tot"
   ]
  },
  {
   "cell_type": "code",
   "execution_count": 6,
   "metadata": {},
   "outputs": [],
   "source": [
    "def ML_process(text):\n",
    "    filt_text = text\n",
    "    #remove 'cid'\n",
    "    filt_text = re.sub('\\W(cid:\\d{0,3})\\W', '', filt_text) #Symbols such as @    \n",
    "    #remove some words in all-caps\n",
    "    #USELESS NOW cause RawTextProcesser_* converted everything to lower case\n",
    "    filt_text = re.sub(r'(?<=\\W)(INTRODUCTION|CONCLUSION[S]?|BACKGROUND|ABSTRACT|ANALYSIS|EXPERIMENTAL|METHOD[S]?|METHODOLOGY|MOTIVATION[S]?|PRELIMINARY|RESULTS|APPLICATIONS|CONCLUDING|IMPLEMENTATION|EVALUATION|REMARKS|DISCUSSION[S]?|ACKNOWLEDGEMENTS|FUTURE PLANS|FUTURE WORK|FUTURE REASEARCH|SUMMARY|FIGURE[S]?|FIG|TABLE|I\\.|II|III|IV|VI{0,3}|IX|X|XI{0,3})(?=\\W)', \n",
    "                       '', filt_text)\n",
    "    #remove newlines, tabs, etc. also remove digits (\\d) and bullet points (\\uf0b7)\n",
    "    filt_text = re.sub('[\\t\\n\\r\\f\\v\\d\\uf0b7]', ' ', filt_text)\n",
    "    #removes all special characters that aren't numbers or letters\n",
    "    filt_text = re.sub('[^A-Za-z0-9]+', ' ', filt_text)\n",
    "    #split lines\n",
    "    filt_text = re.sub('- ', '', filt_text)\n",
    "    #to lower case\n",
    "    filt_text = filt_text.lower()\n",
    "    \n",
    "    #tlie -> the\n",
    "    filt_text = re.sub(' tlie ', ' the ', filt_text)\n",
    "    #per cent -> percent\n",
    "    filt_text = re.sub(' per cent ', ' percent ', filt_text)\n",
    "    # )ed -> fied\n",
    "    #filt_text = re.sub(re.escape(' \\)ed '), 'fied ', filt_text)\n",
    "    # - cation -> cation\n",
    "    #filt_text = re.sub('- cation ', 'cation ', filt_text)\n",
    "    return filt_text"
   ]
  },
  {
   "cell_type": "markdown",
   "metadata": {},
   "source": [
    "Now, we apply text processing to the entire dataset, creating a processed version.  We then print an example of the processed version"
   ]
  },
  {
   "cell_type": "code",
   "execution_count": 9,
   "metadata": {},
   "outputs": [],
   "source": [
    "df['Content'] = df[field].map(lambda x: ML_process(x))"
   ]
  },
  {
   "cell_type": "code",
   "execution_count": 19,
   "metadata": {},
   "outputs": [],
   "source": [
    "dir_name_e = r'C:\\Users\\EfiaA\\OneDrive - Imperial College London\\Imperial academic work\\University life\\Y4\\MSci project\\Project_Coding\\nlp-physicseducation\\Pickledfiles'\n",
    "with open(dir_name_e+'texts_norefs_clean.pkl','wb') as output: pickle.dump(df.drop(columns=['StudentID']),output)"
   ]
  },
  {
   "cell_type": "markdown",
   "metadata": {},
   "source": [
    "### Continue to 06 Tokenize_MakeBigrams.ipynb"
   ]
  }
 ],
 "metadata": {
  "kernelspec": {
   "display_name": "base",
   "language": "python",
   "name": "python3"
  },
  "language_info": {
   "codemirror_mode": {
    "name": "ipython",
    "version": 3
   },
   "file_extension": ".py",
   "mimetype": "text/x-python",
   "name": "python",
   "nbconvert_exporter": "python",
   "pygments_lexer": "ipython3",
   "version": "3.8.8 (default, Apr 13 2021, 15:08:03) [MSC v.1916 64 bit (AMD64)]"
  },
  "vscode": {
   "interpreter": {
    "hash": "7bf9169aea3bf43030d2045b9506020b24091b3061df9b5cfee19d2eac11c6ed"
   }
  }
 },
 "nbformat": 4,
 "nbformat_minor": 2
}
