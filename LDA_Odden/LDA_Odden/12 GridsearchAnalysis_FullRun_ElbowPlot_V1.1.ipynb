{
 "cells": [
  {
   "cell_type": "markdown",
   "metadata": {},
   "source": [
    "# Analysis of Grid Search Results\n",
    "\n",
    "## I. Introduction: Analyzing gridsearch results\n",
    "\n",
    "In the process of this analysis, we have trained hundreds of LDA models with varying parameters. We tried to be systematic in this process, searching across specific values in a kind of \"grid\" across the search space. This notebook shows the analysis of the various grid searches we did across parameters like the number of topics, word filters, and alpha values. It also shows why we ended up choosing the parameters we did.\n",
    "\n",
    "We start by importing all of our packages:"
   ]
  },
  {
   "cell_type": "code",
   "execution_count": 1,
   "metadata": {},
   "outputs": [
    {
     "data": {
      "text/html": [
       "<style>.container { width:95% !important; }</style>"
      ],
      "text/plain": [
       "<IPython.core.display.HTML object>"
      ]
     },
     "metadata": {},
     "output_type": "display_data"
    }
   ],
   "source": [
    "# Print out  all expressions\n",
    "from IPython.core.interactiveshell import InteractiveShell\n",
    "InteractiveShell.ast_node_interactivity = \"all\" #default 'last_expr'\n",
    "from IPython.core.display import display, HTML\n",
    "display(HTML(\"<style>.container { width:95% !important; }</style>\"))"
   ]
  },
  {
   "cell_type": "code",
   "execution_count": 2,
   "metadata": {},
   "outputs": [],
   "source": [
    "# Plotting tools\n",
    "import pyLDAvis\n",
    "import pyLDAvis.gensim  # don't skip this\n",
    "import matplotlib.pyplot as plt\n",
    "%matplotlib inline\n",
    "from matplotlib.ticker import MaxNLocator\n",
    "\n",
    "import warnings\n",
    "warnings.filterwarnings(\"ignore\", category=DeprecationWarning);\n",
    "\n",
    "import pandas as pd\n",
    "import numpy as np\n",
    "\n",
    "import pickle\n",
    "\n",
    "import gensim\n",
    "from gensim.parsing.preprocessing import STOPWORDS\n",
    "from gensim.corpora.dictionary import Dictionary\n",
    "from sklearn.feature_extraction.text import CountVectorizer\n",
    "#import nltk\n",
    "#from nltk.corpus import wordnet\n",
    "#from nltk import pos_tag\n",
    "#nltk.download('wordnet',quiet=True)\n",
    "##nltk.download('punkt',quiet=True)   #required by word_tokenize method\n",
    "#nltk.download('averaged_perceptron_tagger',quiet=True) #required by pos_tag method\n",
    "#import os"
   ]
  },
  {
   "cell_type": "code",
   "execution_count": 3,
   "metadata": {},
   "outputs": [],
   "source": [
    "from helpers import path_pdf,path_pkl"
   ]
  },
  {
   "cell_type": "markdown",
   "metadata": {},
   "source": [
    "Now, we import the datafile for the words and bigrams:"
   ]
  },
  {
   "cell_type": "code",
   "execution_count": 4,
   "metadata": {},
   "outputs": [],
   "source": [
    "with open(path_pkl+'scied_words_bigrams_V5.pkl','rb') as f: data_words_bigrams = pickle.load(f)"
   ]
  },
  {
   "cell_type": "markdown",
   "metadata": {},
   "source": [
    "## I. Plotting the grid search results\n",
    "\n",
    "### A. Defining a plotting function\n",
    "\n",
    "Next, we define a function that will allow us to plot the results of the grid search. This function essentially just creates a plot of coherence as function of number of topics."
   ]
  },
  {
   "cell_type": "markdown",
   "metadata": {},
   "source": [
    "## III. Results of grid search across alpha values\n",
    "\n",
    "As part of the analysis, we have done a large number of runs with different alpha values: 1, 5, 7.5, 10, and 12.5. Note that in each case, the alpha value will end up being divided by the number of topics, such that the actual alpha value for each topic will be 1/alpha. This value will then be given used as a dirichlet prior to determine the topic mixture across each document. In practice, this means that with 10 topics and a given alpha value of 1, each topic will have a dirichlet prior of 1/10, indicating a strong favor for a small number of topics while an alpha value of 12.5 will give a dirichlet prior of 1.25 which corresponds to a more even mixture of topics.\n",
    "\n",
    "With this dataset, we can now see how much the coherence depends on the given alpha values."
   ]
  },
  {
   "cell_type": "code",
   "execution_count": 5,
   "metadata": {},
   "outputs": [
    {
     "data": {
      "text/plain": [
       "(450, 6)"
      ]
     },
     "execution_count": 5,
     "metadata": {},
     "output_type": "execute_result"
    },
    {
     "data": {
      "text/html": [
       "<div>\n",
       "<style scoped>\n",
       "    .dataframe tbody tr th:only-of-type {\n",
       "        vertical-align: middle;\n",
       "    }\n",
       "\n",
       "    .dataframe tbody tr th {\n",
       "        vertical-align: top;\n",
       "    }\n",
       "\n",
       "    .dataframe thead th {\n",
       "        text-align: right;\n",
       "    }\n",
       "</style>\n",
       "<table border=\"1\" class=\"dataframe\">\n",
       "  <thead>\n",
       "    <tr style=\"text-align: right;\">\n",
       "      <th></th>\n",
       "      <th>num_topics</th>\n",
       "      <th>coherence</th>\n",
       "      <th>model</th>\n",
       "      <th>seed</th>\n",
       "      <th>no_below</th>\n",
       "      <th>no_above</th>\n",
       "    </tr>\n",
       "  </thead>\n",
       "  <tbody>\n",
       "    <tr>\n",
       "      <th>0</th>\n",
       "      <td>15.0</td>\n",
       "      <td>0.495602</td>\n",
       "      <td>LdaModel(num_terms=24940, num_topics=15, decay...</td>\n",
       "      <td>0.0</td>\n",
       "      <td>15</td>\n",
       "      <td>0.5</td>\n",
       "    </tr>\n",
       "    <tr>\n",
       "      <th>1</th>\n",
       "      <td>15.0</td>\n",
       "      <td>0.505092</td>\n",
       "      <td>LdaModel(num_terms=24940, num_topics=15, decay...</td>\n",
       "      <td>1.0</td>\n",
       "      <td>15</td>\n",
       "      <td>0.5</td>\n",
       "    </tr>\n",
       "    <tr>\n",
       "      <th>2</th>\n",
       "      <td>15.0</td>\n",
       "      <td>0.485083</td>\n",
       "      <td>LdaModel(num_terms=24940, num_topics=15, decay...</td>\n",
       "      <td>2.0</td>\n",
       "      <td>15</td>\n",
       "      <td>0.5</td>\n",
       "    </tr>\n",
       "    <tr>\n",
       "      <th>3</th>\n",
       "      <td>15.0</td>\n",
       "      <td>0.502004</td>\n",
       "      <td>LdaModel(num_terms=24940, num_topics=15, decay...</td>\n",
       "      <td>3.0</td>\n",
       "      <td>15</td>\n",
       "      <td>0.5</td>\n",
       "    </tr>\n",
       "    <tr>\n",
       "      <th>4</th>\n",
       "      <td>15.0</td>\n",
       "      <td>0.495734</td>\n",
       "      <td>LdaModel(num_terms=24940, num_topics=15, decay...</td>\n",
       "      <td>4.0</td>\n",
       "      <td>15</td>\n",
       "      <td>0.5</td>\n",
       "    </tr>\n",
       "  </tbody>\n",
       "</table>\n",
       "</div>"
      ],
      "text/plain": [
       "   num_topics  coherence                                              model  \\\n",
       "0        15.0   0.495602  LdaModel(num_terms=24940, num_topics=15, decay...   \n",
       "1        15.0   0.505092  LdaModel(num_terms=24940, num_topics=15, decay...   \n",
       "2        15.0   0.485083  LdaModel(num_terms=24940, num_topics=15, decay...   \n",
       "3        15.0   0.502004  LdaModel(num_terms=24940, num_topics=15, decay...   \n",
       "4        15.0   0.495734  LdaModel(num_terms=24940, num_topics=15, decay...   \n",
       "\n",
       "   seed  no_below  no_above  \n",
       "0   0.0        15       0.5  \n",
       "1   1.0        15       0.5  \n",
       "2   2.0        15       0.5  \n",
       "3   3.0        15       0.5  \n",
       "4   4.0        15       0.5  "
      ]
     },
     "execution_count": 5,
     "metadata": {},
     "output_type": "execute_result"
    }
   ],
   "source": [
    "files = ['scied_norefs_gs_seed0-10.pkl','scied_norefs_gs_seed10-20.pkl', 'scied_norefs_gs_k26-28_seed0-40.pkl', 'scied_norefs_gs_seed20.pkl']\n",
    "\n",
    "df_tot = pd.DataFrame()\n",
    "for filename in files:\n",
    "    with open(path_pkl+filename,'rb') as f: df = pickle.load(f)\n",
    "    df_tot = pd.concat((df_tot, df), axis=0)\n",
    "    \n",
    "df = df_tot.copy(); del df_tot\n",
    "df = df.reset_index(drop=True).reindex(index=range(0,len(df))) #.drop(columns='index')\n",
    "df.shape\n",
    "df.head()"
   ]
  },
  {
   "cell_type": "code",
   "execution_count": 6,
   "metadata": {},
   "outputs": [],
   "source": [
    "# drop some runs so that all of the k values have the same number of runs\n",
    "df = df[df['seed'] < 30]"
   ]
  },
  {
   "cell_type": "code",
   "execution_count": 7,
   "metadata": {},
   "outputs": [],
   "source": [
    "from helpers import elbow_plot, gridsearch_plot, plot_single_alpha"
   ]
  },
  {
   "cell_type": "code",
   "execution_count": 8,
   "metadata": {},
   "outputs": [
    {
     "name": "stdout",
     "output_type": "stream",
     "text": [
      "Maximum 0.513768 at num_topics=28 \n"
     ]
    },
    {
     "data": {
      "image/png": "[encoded data removed]",
      "text/plain": [
       "<Figure size 432x288 with 1 Axes>"
      ]
     },
     "metadata": {
      "needs_background": "light"
     },
     "output_type": "display_data"
    }
   ],
   "source": [
    "gridsearch_plot(df,no_below=15) #optional parameter"
   ]
  },
  {
   "cell_type": "markdown",
   "metadata": {},
   "source": [
    "Based on these results, it appears that the spread of coherence values..."
   ]
  },
  {
   "cell_type": "code",
   "execution_count": 9,
   "metadata": {},
   "outputs": [
    {
     "name": "stdout",
     "output_type": "stream",
     "text": [
      "Maximum 0.514156 at num_topics=28 \n"
     ]
    },
    {
     "data": {
      "image/png": "[encoded data removed]",
      "text/plain": [
       "<Figure size 432x288 with 1 Axes>"
      ]
     },
     "metadata": {
      "needs_background": "light"
     },
     "output_type": "display_data"
    }
   ],
   "source": [
    "gridsearch_plot(df,no_below=15, aggreg_func='median') #optional parameter"
   ]
  },
  {
   "cell_type": "raw",
   "metadata": {},
   "source": [
    "#Restyling of gridsearch_plot(aggr_alpha=False)\n",
    "df0 = df[df.no_below == 15]\n",
    "fig = plt.figure(figsize=(20,4))\n",
    "ax1 = fig.add_subplot(1,3,1)\n",
    "plot_single_alpha(df0, ax1, 1)\n",
    "ax2 = fig.add_subplot(1,3,2)\n",
    "plot_single_alpha(df0, ax2, 10)\n",
    "ax3 = fig.add_subplot(1,3,3)\n",
    "plot_single_alpha(df0, ax3, 12.5)"
   ]
  },
  {
   "cell_type": "raw",
   "metadata": {},
   "source": [
    "fig.savefig('Elbowplot.png')"
   ]
  },
  {
   "cell_type": "code",
   "execution_count": null,
   "metadata": {},
   "outputs": [],
   "source": []
  }
 ],
 "metadata": {
  "kernelspec": {
   "display_name": "Python 3",
   "language": "python",
   "name": "python3"
  },
  "language_info": {
   "codemirror_mode": {
    "name": "ipython",
    "version": 3
   },
   "file_extension": ".py",
   "mimetype": "text/x-python",
   "name": "python",
   "nbconvert_exporter": "python",
   "pygments_lexer": "ipython3",
   "version": "3.7.7"
  }
 },
 "nbformat": 4,
 "nbformat_minor": 2
}
