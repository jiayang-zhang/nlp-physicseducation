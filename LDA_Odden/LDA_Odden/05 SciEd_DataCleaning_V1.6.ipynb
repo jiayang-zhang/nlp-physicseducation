{
 "cells": [
  {
   "cell_type": "markdown",
   "metadata": {},
   "source": [
    "# Data Cleaning for Science Education Articles"
   ]
  },
  {
   "cell_type": "code",
   "execution_count": 1,
   "metadata": {},
   "outputs": [
    {
     "data": {
      "text/html": [
       "<style>.container { width:95% !important; }</style>"
      ],
      "text/plain": [
       "<IPython.core.display.HTML object>"
      ]
     },
     "metadata": {},
     "output_type": "display_data"
    }
   ],
   "source": [
    "# Print out  all expressions\n",
    "from IPython.core.interactiveshell import InteractiveShell\n",
    "InteractiveShell.ast_node_interactivity = \"all\" #default 'last_expr'\n",
    "# Wider cells\n",
    "from IPython.core.display import display, HTML\n",
    "display(HTML(\"<style>.container { width:95% !important; }</style>\"))"
   ]
  },
  {
   "cell_type": "code",
   "execution_count": 2,
   "metadata": {},
   "outputs": [
    {
     "name": "stdout",
     "output_type": "stream",
     "text": [
      "gensim.models.wrappers.dtmmodel\n"
     ]
    },
    {
     "data": {
      "text/plain": [
       "True"
      ]
     },
     "execution_count": 2,
     "metadata": {},
     "output_type": "execute_result"
    },
    {
     "data": {
      "text/plain": [
       "True"
      ]
     },
     "execution_count": 2,
     "metadata": {},
     "output_type": "execute_result"
    }
   ],
   "source": [
    "# Imports\n",
    "import pickle\n",
    "import pandas as pd\n",
    "import numpy as np\n",
    "\n",
    "#Import regular expressions, for data processing\n",
    "import re\n",
    "\n",
    "import gensim\n",
    "from gensim.parsing.preprocessing import STOPWORDS\n",
    "from gensim.corpora import Dictionary\n",
    "import nltk\n",
    "from nltk.corpus import wordnet\n",
    "from nltk import pos_tag\n",
    "nltk.download('wordnet',quiet=True)\n",
    "#nltk.download('punkt',quiet=True)   #required by word_tokenize method\n",
    "nltk.download('averaged_perceptron_tagger',quiet=True) #required by pos_tag method"
   ]
  },
  {
   "cell_type": "code",
   "execution_count": 3,
   "metadata": {},
   "outputs": [],
   "source": [
    "from helpers import path_pdf,path_pkl,printh,find_in_list"
   ]
  },
  {
   "cell_type": "markdown",
   "metadata": {},
   "source": [
    "## Reading the datafile\n",
    "\n",
    "First, we import the pickle file that holds all of the scraped PDF data. This data is then put into a Pandas dataframe. "
   ]
  },
  {
   "cell_type": "code",
   "execution_count": 4,
   "metadata": {},
   "outputs": [],
   "source": [
    "df = pd.read_pickle(path_pkl+'texts_norefs_V1.pkl') #read the pickle file, the first element is a Pandas dataframe\n",
    "df=df.reset_index();\n",
    "#Remove documents with issues, remove some columns #Note: maybe this is not needed anymore\n",
    "#df = df[(df.failed == 0)]"
   ]
  },
  {
   "cell_type": "markdown",
   "metadata": {},
   "source": [
    "### Start processing"
   ]
  },
  {
   "cell_type": "code",
   "execution_count": 5,
   "metadata": {},
   "outputs": [],
   "source": [
    "field='processed2'"
   ]
  },
  {
   "cell_type": "raw",
   "metadata": {},
   "source": [
    "#test regular expressions\n",
    "tot=0\n",
    "for i,r in df.iterrows():\n",
    "    pattern = ' Per cent '\n",
    "    text = re.sub('- ', '', r.raw)\n",
    "    ms = [m for m in re.finditer(pattern, text)]\n",
    "    if len(ms) >0:\n",
    "        tot+=1\n",
    "        print(i, len(ms), r.filename)\n",
    "        print('  ',[text[m.start()-10:m.end()+15] for m in ms])\n",
    "tot"
   ]
  },
  {
   "cell_type": "code",
   "execution_count": 6,
   "metadata": {},
   "outputs": [],
   "source": [
    "def ML_process(text):\n",
    "    filt_text = text\n",
    "    #remove 'cid'\n",
    "    filt_text = re.sub('\\W(cid:\\d{0,3})\\W', '', filt_text) #Symbols such as @    \n",
    "    #remove some words in all-caps\n",
    "    #USELESS NOW cause RawTextProcesser_* converted everything to lower case\n",
    "    filt_text = re.sub(r'(?<=\\W)(INTRODUCTION|CONCLUSION[S]?|BACKGROUND|ABSTRACT|ANALYSIS|EXPERIMENTAL|METHOD[S]?|METHODOLOGY|MOTIVATION[S]?|PRELIMINARY|RESULTS|APPLICATIONS|CONCLUDING|IMPLEMENTATION|EVALUATION|REMARKS|DISCUSSION[S]?|ACKNOWLEDGEMENTS|FUTURE PLANS|FUTURE WORK|FUTURE REASEARCH|SUMMARY|FIGURE[S]?|FIG|TABLE|I\\.|II|III|IV|VI{0,3}|IX|X|XI{0,3})(?=\\W)', \n",
    "                       '', filt_text)\n",
    "    #remove newlines, tabs, etc. also remove digits (\\d) and bullet points (\\uf0b7)\n",
    "    filt_text = re.sub('[\\t\\n\\r\\f\\v\\d\\uf0b7]', ' ', filt_text)\n",
    "    #removes all special characters that aren't numbers or letters\n",
    "    filt_text = re.sub('[^A-Za-z0-9]+', ' ', filt_text)\n",
    "    #split lines\n",
    "    filt_text = re.sub('- ', '', filt_text)\n",
    "    #to lower case\n",
    "    filt_text = filt_text.lower()\n",
    "    \n",
    "    #tlie -> the\n",
    "    filt_text = re.sub(' tlie ', ' the ', filt_text)\n",
    "    #per cent -> percent\n",
    "    filt_text = re.sub(' per cent ', ' percent ', filt_text)\n",
    "    # )ed -> fied\n",
    "    #filt_text = re.sub(re.escape(' \\)ed '), 'fied ', filt_text)\n",
    "    # - cation -> cation\n",
    "    #filt_text = re.sub('- cation ', 'cation ', filt_text)\n",
    "    return filt_text"
   ]
  },
  {
   "cell_type": "markdown",
   "metadata": {},
   "source": [
    "Now, we apply text processing to the entire dataset, creating a processed version.  We then print an example of the processed version"
   ]
  },
  {
   "cell_type": "code",
   "execution_count": 7,
   "metadata": {},
   "outputs": [],
   "source": [
    "df['processed2'] = df[field].map(lambda x: ML_process(x))"
   ]
  },
  {
   "cell_type": "code",
   "execution_count": 8,
   "metadata": {},
   "outputs": [],
   "source": [
    "with open(path_pkl+'texts_norefs_clean.pkl','wb') as output: pickle.dump(df.drop(columns=['processed1']),output)"
   ]
  },
  {
   "cell_type": "markdown",
   "metadata": {},
   "source": [
    "### Continue to 06 Tokenize_MakeBigrams.ipynb"
   ]
  }
 ],
 "metadata": {
  "kernelspec": {
   "display_name": "Python 3",
   "language": "python",
   "name": "python3"
  },
  "language_info": {
   "codemirror_mode": {
    "name": "ipython",
    "version": 3
   },
   "file_extension": ".py",
   "mimetype": "text/x-python",
   "name": "python",
   "nbconvert_exporter": "python",
   "pygments_lexer": "ipython3",
   "version": "3.7.11"
  }
 },
 "nbformat": 4,
 "nbformat_minor": 2
}
