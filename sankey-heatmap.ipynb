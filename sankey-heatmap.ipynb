{
 "cells": [
  {
   "cell_type": "code",
   "execution_count": 1,
   "metadata": {},
   "outputs": [],
   "source": [
    "import plotly.graph_objs as go\n",
    "import kaleido\n",
    "import matplotlib.pyplot as plt"
   ]
  },
  {
   "cell_type": "code",
   "execution_count": 14,
   "metadata": {},
   "outputs": [],
   "source": [
    "nodes = dict(pad=15,\n",
    "             thickness=20,\n",
    "             line=dict(color=\"black\", width=0.5),\n",
    "             label=[\"Theoretical (26)\", \"Experimental (9)\", \"Balanced (44)\",\n",
    "                    \"None (3)\",\"Theoretical (29)\", \"Experimental (15)\", \"Balanced (28)\", \"None (10)\"], \n",
    "              x = [0.001, 0.001, 0.001, 0.001, 0.999, 0.999, 0.999, 0.999],\n",
    "              y = [0.001, 75/285, 160/285, 190/285, 0.001, 75/285, 130/285, 215/285], \n",
    "              color=[\"#ACBAAD\", \"#D0B49F\", \"#9DB6CC\", \"#ab6b51\",\"#ACBAAD\", \"#D0B49F\", \"#9DB6CC\", \"#ab6b51\"])"
   ]
  },
  {
   "cell_type": "code",
   "execution_count": 15,
   "metadata": {},
   "outputs": [],
   "source": [
    "links = dict(source=[0,0,0,0,1,1,1,1,2,2,2,2,3,3,3,3],\n",
    "             target=[4,5,6,7,4,5,6,7,4,5,6,7,4,5,6,7],\n",
    "             value =[9,3,10,4,3,1,5,0,16,11,12,5,1,0,1,1],\n",
    "             color=[\"#ACBAAD\", \"#ACBAAD\", \"#ACBAAD\", \"#ACBAAD\",\n",
    "             \"#D0B49F\", \"#D0B49F\", \"#D0B49F\", \"#D0B49F\", \n",
    "             \"#9DB6CC\", \"#9DB6CC\", \"#9DB6CC\", \"#9DB6CC\", \"#ab6b51\", \"#ab6b51\",\"#ab6b51\",\"#ab6b51\"])"
   ]
  },
  {
   "cell_type": "code",
   "execution_count": 16,
   "metadata": {},
   "outputs": [],
   "source": [
    "layout = dict(font=dict(size=14),\n",
    "              width=470,\n",
    "              height=500,\n",
    "              margin=dict(l=50, r=50, b=50, t=50),\n",
    "              paper_bgcolor=\"white\",\n",
    "              plot_bgcolor=\"white\")"
   ]
  },
  {
   "cell_type": "code",
   "execution_count": 17,
   "metadata": {},
   "outputs": [
    {
     "data": {
      "application/vnd.plotly.v1+json": {
       "config": {
        "plotlyServerURL": "https://plot.ly"
       },
       "data": [
        {
         "arrangement": "snap",
         "link": {
          "color": [
           "#ACBAAD",
           "#ACBAAD",
           "#ACBAAD",
           "#ACBAAD",
           "#D0B49F",
           "#D0B49F",
           "#D0B49F",
           "#D0B49F",
           "#9DB6CC",
           "#9DB6CC",
           "#9DB6CC",
           "#9DB6CC",
           "#ab6b51",
           "#ab6b51",
           "#ab6b51",
           "#ab6b51"
          ],
          "source": [
           0,
           0,
           0,
           0,
           1,
           1,
           1,
           1,
           2,
           2,
           2,
           2,
           3,
           3,
           3,
           3
          ],
          "target": [
           4,
           5,
           6,
           7,
           4,
           5,
           6,
           7,
           4,
           5,
           6,
           7,
           4,
           5,
           6,
           7
          ],
          "value": [
           9,
           3,
           10,
           4,
           3,
           1,
           5,
           0,
           16,
           11,
           12,
           5,
           1,
           0,
           1,
           1
          ]
         },
         "node": {
          "color": [
           "#ACBAAD",
           "#D0B49F",
           "#9DB6CC",
           "#ab6b51",
           "#ACBAAD",
           "#D0B49F",
           "#9DB6CC",
           "#ab6b51"
          ],
          "label": [
           "Theoretical (26)",
           "Experimental (9)",
           "Balanced (44)",
           "None (3)",
           "Theoretical (29)",
           "Experimental (15)",
           "Balanced (28)",
           "None (10)"
          ],
          "line": {
           "color": "black",
           "width": 0.5
          },
          "pad": 15,
          "thickness": 20,
          "x": [
           0.001,
           0.001,
           0.001,
           0.001,
           0.999,
           0.999,
           0.999,
           0.999
          ],
          "y": [
           0.001,
           0.2631578947368421,
           0.5614035087719298,
           0.6666666666666666,
           0.001,
           0.2631578947368421,
           0.45614035087719296,
           0.7543859649122807
          ]
         },
         "textfont": {
          "color": "black"
         },
         "type": "sankey"
        }
       ],
       "layout": {
        "font": {
         "size": 14
        },
        "height": 500,
        "margin": {
         "b": 50,
         "l": 50,
         "r": 50,
         "t": 50
        },
        "paper_bgcolor": "white",
        "plot_bgcolor": "white",
        "template": {
         "data": {
          "bar": [
           {
            "error_x": {
             "color": "#2a3f5f"
            },
            "error_y": {
             "color": "#2a3f5f"
            },
            "marker": {
             "line": {
              "color": "#E5ECF6",
              "width": 0.5
             },
             "pattern": {
              "fillmode": "overlay",
              "size": 10,
              "solidity": 0.2
             }
            },
            "type": "bar"
           }
          ],
          "barpolar": [
           {
            "marker": {
             "line": {
              "color": "#E5ECF6",
              "width": 0.5
             },
             "pattern": {
              "fillmode": "overlay",
              "size": 10,
              "solidity": 0.2
             }
            },
            "type": "barpolar"
           }
          ],
          "carpet": [
           {
            "aaxis": {
             "endlinecolor": "#2a3f5f",
             "gridcolor": "white",
             "linecolor": "white",
             "minorgridcolor": "white",
             "startlinecolor": "#2a3f5f"
            },
            "baxis": {
             "endlinecolor": "#2a3f5f",
             "gridcolor": "white",
             "linecolor": "white",
             "minorgridcolor": "white",
             "startlinecolor": "#2a3f5f"
            },
            "type": "carpet"
           }
          ],
          "choropleth": [
           {
            "colorbar": {
             "outlinewidth": 0,
             "ticks": ""
            },
            "type": "choropleth"
           }
          ],
          "contour": [
           {
            "colorbar": {
             "outlinewidth": 0,
             "ticks": ""
            },
            "colorscale": [
             [
              0,
              "#0d0887"
             ],
             [
              0.1111111111111111,
              "#46039f"
             ],
             [
              0.2222222222222222,
              "#7201a8"
             ],
             [
              0.3333333333333333,
              "#9c179e"
             ],
             [
              0.4444444444444444,
              "#bd3786"
             ],
             [
              0.5555555555555556,
              "#d8576b"
             ],
             [
              0.6666666666666666,
              "#ed7953"
             ],
             [
              0.7777777777777778,
              "#fb9f3a"
             ],
             [
              0.8888888888888888,
              "#fdca26"
             ],
             [
              1,
              "#f0f921"
             ]
            ],
            "type": "contour"
           }
          ],
          "contourcarpet": [
           {
            "colorbar": {
             "outlinewidth": 0,
             "ticks": ""
            },
            "type": "contourcarpet"
           }
          ],
          "heatmap": [
           {
            "colorbar": {
             "outlinewidth": 0,
             "ticks": ""
            },
            "colorscale": [
             [
              0,
              "#0d0887"
             ],
             [
              0.1111111111111111,
              "#46039f"
             ],
             [
              0.2222222222222222,
              "#7201a8"
             ],
             [
              0.3333333333333333,
              "#9c179e"
             ],
             [
              0.4444444444444444,
              "#bd3786"
             ],
             [
              0.5555555555555556,
              "#d8576b"
             ],
             [
              0.6666666666666666,
              "#ed7953"
             ],
             [
              0.7777777777777778,
              "#fb9f3a"
             ],
             [
              0.8888888888888888,
              "#fdca26"
             ],
             [
              1,
              "#f0f921"
             ]
            ],
            "type": "heatmap"
           }
          ],
          "heatmapgl": [
           {
            "colorbar": {
             "outlinewidth": 0,
             "ticks": ""
            },
            "colorscale": [
             [
              0,
              "#0d0887"
             ],
             [
              0.1111111111111111,
              "#46039f"
             ],
             [
              0.2222222222222222,
              "#7201a8"
             ],
             [
              0.3333333333333333,
              "#9c179e"
             ],
             [
              0.4444444444444444,
              "#bd3786"
             ],
             [
              0.5555555555555556,
              "#d8576b"
             ],
             [
              0.6666666666666666,
              "#ed7953"
             ],
             [
              0.7777777777777778,
              "#fb9f3a"
             ],
             [
              0.8888888888888888,
              "#fdca26"
             ],
             [
              1,
              "#f0f921"
             ]
            ],
            "type": "heatmapgl"
           }
          ],
          "histogram": [
           {
            "marker": {
             "pattern": {
              "fillmode": "overlay",
              "size": 10,
              "solidity": 0.2
             }
            },
            "type": "histogram"
           }
          ],
          "histogram2d": [
           {
            "colorbar": {
             "outlinewidth": 0,
             "ticks": ""
            },
            "colorscale": [
             [
              0,
              "#0d0887"
             ],
             [
              0.1111111111111111,
              "#46039f"
             ],
             [
              0.2222222222222222,
              "#7201a8"
             ],
             [
              0.3333333333333333,
              "#9c179e"
             ],
             [
              0.4444444444444444,
              "#bd3786"
             ],
             [
              0.5555555555555556,
              "#d8576b"
             ],
             [
              0.6666666666666666,
              "#ed7953"
             ],
             [
              0.7777777777777778,
              "#fb9f3a"
             ],
             [
              0.8888888888888888,
              "#fdca26"
             ],
             [
              1,
              "#f0f921"
             ]
            ],
            "type": "histogram2d"
           }
          ],
          "histogram2dcontour": [
           {
            "colorbar": {
             "outlinewidth": 0,
             "ticks": ""
            },
            "colorscale": [
             [
              0,
              "#0d0887"
             ],
             [
              0.1111111111111111,
              "#46039f"
             ],
             [
              0.2222222222222222,
              "#7201a8"
             ],
             [
              0.3333333333333333,
              "#9c179e"
             ],
             [
              0.4444444444444444,
              "#bd3786"
             ],
             [
              0.5555555555555556,
              "#d8576b"
             ],
             [
              0.6666666666666666,
              "#ed7953"
             ],
             [
              0.7777777777777778,
              "#fb9f3a"
             ],
             [
              0.8888888888888888,
              "#fdca26"
             ],
             [
              1,
              "#f0f921"
             ]
            ],
            "type": "histogram2dcontour"
           }
          ],
          "mesh3d": [
           {
            "colorbar": {
             "outlinewidth": 0,
             "ticks": ""
            },
            "type": "mesh3d"
           }
          ],
          "parcoords": [
           {
            "line": {
             "colorbar": {
              "outlinewidth": 0,
              "ticks": ""
             }
            },
            "type": "parcoords"
           }
          ],
          "pie": [
           {
            "automargin": true,
            "type": "pie"
           }
          ],
          "scatter": [
           {
            "fillpattern": {
             "fillmode": "overlay",
             "size": 10,
             "solidity": 0.2
            },
            "type": "scatter"
           }
          ],
          "scatter3d": [
           {
            "line": {
             "colorbar": {
              "outlinewidth": 0,
              "ticks": ""
             }
            },
            "marker": {
             "colorbar": {
              "outlinewidth": 0,
              "ticks": ""
             }
            },
            "type": "scatter3d"
           }
          ],
          "scattercarpet": [
           {
            "marker": {
             "colorbar": {
              "outlinewidth": 0,
              "ticks": ""
             }
            },
            "type": "scattercarpet"
           }
          ],
          "scattergeo": [
           {
            "marker": {
             "colorbar": {
              "outlinewidth": 0,
              "ticks": ""
             }
            },
            "type": "scattergeo"
           }
          ],
          "scattergl": [
           {
            "marker": {
             "colorbar": {
              "outlinewidth": 0,
              "ticks": ""
             }
            },
            "type": "scattergl"
           }
          ],
          "scattermapbox": [
           {
            "marker": {
             "colorbar": {
              "outlinewidth": 0,
              "ticks": ""
             }
            },
            "type": "scattermapbox"
           }
          ],
          "scatterpolar": [
           {
            "marker": {
             "colorbar": {
              "outlinewidth": 0,
              "ticks": ""
             }
            },
            "type": "scatterpolar"
           }
          ],
          "scatterpolargl": [
           {
            "marker": {
             "colorbar": {
              "outlinewidth": 0,
              "ticks": ""
             }
            },
            "type": "scatterpolargl"
           }
          ],
          "scatterternary": [
           {
            "marker": {
             "colorbar": {
              "outlinewidth": 0,
              "ticks": ""
             }
            },
            "type": "scatterternary"
           }
          ],
          "surface": [
           {
            "colorbar": {
             "outlinewidth": 0,
             "ticks": ""
            },
            "colorscale": [
             [
              0,
              "#0d0887"
             ],
             [
              0.1111111111111111,
              "#46039f"
             ],
             [
              0.2222222222222222,
              "#7201a8"
             ],
             [
              0.3333333333333333,
              "#9c179e"
             ],
             [
              0.4444444444444444,
              "#bd3786"
             ],
             [
              0.5555555555555556,
              "#d8576b"
             ],
             [
              0.6666666666666666,
              "#ed7953"
             ],
             [
              0.7777777777777778,
              "#fb9f3a"
             ],
             [
              0.8888888888888888,
              "#fdca26"
             ],
             [
              1,
              "#f0f921"
             ]
            ],
            "type": "surface"
           }
          ],
          "table": [
           {
            "cells": {
             "fill": {
              "color": "#EBF0F8"
             },
             "line": {
              "color": "white"
             }
            },
            "header": {
             "fill": {
              "color": "#C8D4E3"
             },
             "line": {
              "color": "white"
             }
            },
            "type": "table"
           }
          ]
         },
         "layout": {
          "annotationdefaults": {
           "arrowcolor": "#2a3f5f",
           "arrowhead": 0,
           "arrowwidth": 1
          },
          "autotypenumbers": "strict",
          "coloraxis": {
           "colorbar": {
            "outlinewidth": 0,
            "ticks": ""
           }
          },
          "colorscale": {
           "diverging": [
            [
             0,
             "#8e0152"
            ],
            [
             0.1,
             "#c51b7d"
            ],
            [
             0.2,
             "#de77ae"
            ],
            [
             0.3,
             "#f1b6da"
            ],
            [
             0.4,
             "#fde0ef"
            ],
            [
             0.5,
             "#f7f7f7"
            ],
            [
             0.6,
             "#e6f5d0"
            ],
            [
             0.7,
             "#b8e186"
            ],
            [
             0.8,
             "#7fbc41"
            ],
            [
             0.9,
             "#4d9221"
            ],
            [
             1,
             "#276419"
            ]
           ],
           "sequential": [
            [
             0,
             "#0d0887"
            ],
            [
             0.1111111111111111,
             "#46039f"
            ],
            [
             0.2222222222222222,
             "#7201a8"
            ],
            [
             0.3333333333333333,
             "#9c179e"
            ],
            [
             0.4444444444444444,
             "#bd3786"
            ],
            [
             0.5555555555555556,
             "#d8576b"
            ],
            [
             0.6666666666666666,
             "#ed7953"
            ],
            [
             0.7777777777777778,
             "#fb9f3a"
            ],
            [
             0.8888888888888888,
             "#fdca26"
            ],
            [
             1,
             "#f0f921"
            ]
           ],
           "sequentialminus": [
            [
             0,
             "#0d0887"
            ],
            [
             0.1111111111111111,
             "#46039f"
            ],
            [
             0.2222222222222222,
             "#7201a8"
            ],
            [
             0.3333333333333333,
             "#9c179e"
            ],
            [
             0.4444444444444444,
             "#bd3786"
            ],
            [
             0.5555555555555556,
             "#d8576b"
            ],
            [
             0.6666666666666666,
             "#ed7953"
            ],
            [
             0.7777777777777778,
             "#fb9f3a"
            ],
            [
             0.8888888888888888,
             "#fdca26"
            ],
            [
             1,
             "#f0f921"
            ]
           ]
          },
          "colorway": [
           "#636efa",
           "#EF553B",
           "#00cc96",
           "#ab63fa",
           "#FFA15A",
           "#19d3f3",
           "#FF6692",
           "#B6E880",
           "#FF97FF",
           "#FECB52"
          ],
          "font": {
           "color": "#2a3f5f"
          },
          "geo": {
           "bgcolor": "white",
           "lakecolor": "white",
           "landcolor": "#E5ECF6",
           "showlakes": true,
           "showland": true,
           "subunitcolor": "white"
          },
          "hoverlabel": {
           "align": "left"
          },
          "hovermode": "closest",
          "mapbox": {
           "style": "light"
          },
          "paper_bgcolor": "white",
          "plot_bgcolor": "#E5ECF6",
          "polar": {
           "angularaxis": {
            "gridcolor": "white",
            "linecolor": "white",
            "ticks": ""
           },
           "bgcolor": "#E5ECF6",
           "radialaxis": {
            "gridcolor": "white",
            "linecolor": "white",
            "ticks": ""
           }
          },
          "scene": {
           "xaxis": {
            "backgroundcolor": "#E5ECF6",
            "gridcolor": "white",
            "gridwidth": 2,
            "linecolor": "white",
            "showbackground": true,
            "ticks": "",
            "zerolinecolor": "white"
           },
           "yaxis": {
            "backgroundcolor": "#E5ECF6",
            "gridcolor": "white",
            "gridwidth": 2,
            "linecolor": "white",
            "showbackground": true,
            "ticks": "",
            "zerolinecolor": "white"
           },
           "zaxis": {
            "backgroundcolor": "#E5ECF6",
            "gridcolor": "white",
            "gridwidth": 2,
            "linecolor": "white",
            "showbackground": true,
            "ticks": "",
            "zerolinecolor": "white"
           }
          },
          "shapedefaults": {
           "line": {
            "color": "#2a3f5f"
           }
          },
          "ternary": {
           "aaxis": {
            "gridcolor": "white",
            "linecolor": "white",
            "ticks": ""
           },
           "baxis": {
            "gridcolor": "white",
            "linecolor": "white",
            "ticks": ""
           },
           "bgcolor": "#E5ECF6",
           "caxis": {
            "gridcolor": "white",
            "linecolor": "white",
            "ticks": ""
           }
          },
          "title": {
           "x": 0.05
          },
          "xaxis": {
           "automargin": true,
           "gridcolor": "white",
           "linecolor": "white",
           "ticks": "",
           "title": {
            "standoff": 15
           },
           "zerolinecolor": "white",
           "zerolinewidth": 2
          },
          "yaxis": {
           "automargin": true,
           "gridcolor": "white",
           "linecolor": "white",
           "ticks": "",
           "title": {
            "standoff": 15
           },
           "zerolinecolor": "white",
           "zerolinewidth": 2
          }
         }
        },
        "width": 470
       }
      }
     },
     "metadata": {},
     "output_type": "display_data"
    }
   ],
   "source": [
    "# Create the Sankey diagram\n",
    "fig = go.Figure(data=[go.Sankey(arrangement = 'snap', node=nodes, link=links)],\n",
    "                 layout=layout)\n",
    "\n",
    "\n",
    "fig.update_traces(textfont=dict(color='black'))\n",
    "fig.write_image('outputs/sankey/ReasoningLevel.png', scale = 10)\n",
    "\n",
    "#Show the diagram\n",
    "fig.show()"
   ]
  },
  {
   "attachments": {},
   "cell_type": "markdown",
   "metadata": {},
   "source": [
    "## Argument Level"
   ]
  },
  {
   "cell_type": "code",
   "execution_count": 18,
   "metadata": {},
   "outputs": [],
   "source": [
    "# Define the nodes and links of the diagram\n",
    "nodes1 = dict(pad=15,thickness=20,\n",
    "             line=dict(color=\"black\", width=0.5),\n",
    "             label=[\"Y1-Superficial (34)\", \"Y1-Extended (24)\", \"Y1-Deep (14)\", \n",
    "                    \"Y1-Prediction (2)\", \"Y1-Expert (8)\", \"Y2-Superficial (28)\",\n",
    "                     \"Y2-Extended (25)\", \"Y2-Deep (15)\", \"Y2-Prediction (6)\", \"Y1-Expert (8)\"],\n",
    "             x = [0.001, 0.001, 0.001, 0.001, 0.001, 0.999, 0.999, 0.999, 0.999, 0.999],\n",
    "             y = [0.001, 75/285, 160/285, 190/285, 210/285, 0.001, 75/285, 130/285, 215/285, 250/285], \n",
    "              color=[\"#ACBAAD\", \"#D0B49F\", \"#9DB6CC\", \"#ab6b51\", \"#B7A1A6\",\"#ACBAAD\", \"#D0B49F\", \"#9DB6CC\", \"#ab6b51\", \"#B7A1A6\"])"
   ]
  },
  {
   "cell_type": "code",
   "execution_count": 19,
   "metadata": {},
   "outputs": [],
   "source": [
    "links1 = dict(source=[0,0,0,0,0,1,1,1,1,1,2,2,2,2,2,3,3,3,3,3,4,4,4,4,4,],\n",
    "             target=[5,6,7,8,9,5,6,7,8,9,5,6,7,8,9, 5,6,7,8,9, 5,6,7,8,9,],\n",
    "             value=[12,9,6,2,5,9,9,4,2,0,4,7,2,1,0,0,0,1,0,1,3,0,2,1,2,],\n",
    "             color=[\"#ACBAAD\", \"#ACBAAD\", \"#ACBAAD\", \"#ACBAAD\",\"#ACBAAD\",\"#D0B49F\",\n",
    "                     \"#D0B49F\", \"#D0B49F\", \"#D0B49F\", \"#D0B49F\", \"#9DB6CC\",\n",
    "                     \"#9DB6CC\", \"#9DB6CC\", \"#9DB6CC\", \"#9DB6CC\", \"#ab6b51\",\n",
    "                     \"#ab6b51\",\"#ab6b51\",\"#ab6b51\", \"#ab6b51\",\"#B7A1A6\",\n",
    "                       \"#B7A1A6\",\"#B7A1A6\",\"#B7A1A6\", \"#B7A1A6\"])"
   ]
  },
  {
   "cell_type": "code",
   "execution_count": 20,
   "metadata": {},
   "outputs": [
    {
     "data": {
      "application/vnd.plotly.v1+json": {
       "config": {
        "plotlyServerURL": "https://plot.ly"
       },
       "data": [
        {
         "arrangement": "snap",
         "link": {
          "color": [
           "#ACBAAD",
           "#ACBAAD",
           "#ACBAAD",
           "#ACBAAD",
           "#ACBAAD",
           "#D0B49F",
           "#D0B49F",
           "#D0B49F",
           "#D0B49F",
           "#D0B49F",
           "#9DB6CC",
           "#9DB6CC",
           "#9DB6CC",
           "#9DB6CC",
           "#9DB6CC",
           "#ab6b51",
           "#ab6b51",
           "#ab6b51",
           "#ab6b51",
           "#ab6b51",
           "#B7A1A6",
           "#B7A1A6",
           "#B7A1A6",
           "#B7A1A6",
           "#B7A1A6"
          ],
          "source": [
           0,
           0,
           0,
           0,
           0,
           1,
           1,
           1,
           1,
           1,
           2,
           2,
           2,
           2,
           2,
           3,
           3,
           3,
           3,
           3,
           4,
           4,
           4,
           4,
           4
          ],
          "target": [
           5,
           6,
           7,
           8,
           9,
           5,
           6,
           7,
           8,
           9,
           5,
           6,
           7,
           8,
           9,
           5,
           6,
           7,
           8,
           9,
           5,
           6,
           7,
           8,
           9
          ],
          "value": [
           12,
           9,
           6,
           2,
           5,
           9,
           9,
           4,
           2,
           0,
           4,
           7,
           2,
           1,
           0,
           0,
           0,
           1,
           0,
           1,
           3,
           0,
           2,
           1,
           2
          ]
         },
         "node": {
          "color": [
           "#ACBAAD",
           "#D0B49F",
           "#9DB6CC",
           "#ab6b51",
           "#B7A1A6",
           "#ACBAAD",
           "#D0B49F",
           "#9DB6CC",
           "#ab6b51",
           "#B7A1A6"
          ],
          "label": [
           "Y1-Superficial (34)",
           "Y1-Extended (24)",
           "Y1-Deep (14)",
           "Y1-Prediction (2)",
           "Y1-Expert (8)",
           "Y2-Superficial (28)",
           "Y2-Extended (25)",
           "Y2-Deep (15)",
           "Y2-Prediction (6)",
           "Y1-Expert (8)"
          ],
          "line": {
           "color": "black",
           "width": 0.5
          },
          "pad": 15,
          "thickness": 20,
          "x": [
           0.001,
           0.001,
           0.001,
           0.001,
           0.001,
           0.999,
           0.999,
           0.999,
           0.999,
           0.999
          ],
          "y": [
           0.001,
           0.2631578947368421,
           0.5614035087719298,
           0.6666666666666666,
           0.7368421052631579,
           0.001,
           0.2631578947368421,
           0.45614035087719296,
           0.7543859649122807,
           0.8771929824561403
          ]
         },
         "textfont": {
          "color": "black"
         },
         "type": "sankey"
        }
       ],
       "layout": {
        "font": {
         "size": 14
        },
        "height": 500,
        "margin": {
         "b": 50,
         "l": 50,
         "r": 50,
         "t": 50
        },
        "paper_bgcolor": "white",
        "plot_bgcolor": "white",
        "template": {
         "data": {
          "bar": [
           {
            "error_x": {
             "color": "#2a3f5f"
            },
            "error_y": {
             "color": "#2a3f5f"
            },
            "marker": {
             "line": {
              "color": "#E5ECF6",
              "width": 0.5
             },
             "pattern": {
              "fillmode": "overlay",
              "size": 10,
              "solidity": 0.2
             }
            },
            "type": "bar"
           }
          ],
          "barpolar": [
           {
            "marker": {
             "line": {
              "color": "#E5ECF6",
              "width": 0.5
             },
             "pattern": {
              "fillmode": "overlay",
              "size": 10,
              "solidity": 0.2
             }
            },
            "type": "barpolar"
           }
          ],
          "carpet": [
           {
            "aaxis": {
             "endlinecolor": "#2a3f5f",
             "gridcolor": "white",
             "linecolor": "white",
             "minorgridcolor": "white",
             "startlinecolor": "#2a3f5f"
            },
            "baxis": {
             "endlinecolor": "#2a3f5f",
             "gridcolor": "white",
             "linecolor": "white",
             "minorgridcolor": "white",
             "startlinecolor": "#2a3f5f"
            },
            "type": "carpet"
           }
          ],
          "choropleth": [
           {
            "colorbar": {
             "outlinewidth": 0,
             "ticks": ""
            },
            "type": "choropleth"
           }
          ],
          "contour": [
           {
            "colorbar": {
             "outlinewidth": 0,
             "ticks": ""
            },
            "colorscale": [
             [
              0,
              "#0d0887"
             ],
             [
              0.1111111111111111,
              "#46039f"
             ],
             [
              0.2222222222222222,
              "#7201a8"
             ],
             [
              0.3333333333333333,
              "#9c179e"
             ],
             [
              0.4444444444444444,
              "#bd3786"
             ],
             [
              0.5555555555555556,
              "#d8576b"
             ],
             [
              0.6666666666666666,
              "#ed7953"
             ],
             [
              0.7777777777777778,
              "#fb9f3a"
             ],
             [
              0.8888888888888888,
              "#fdca26"
             ],
             [
              1,
              "#f0f921"
             ]
            ],
            "type": "contour"
           }
          ],
          "contourcarpet": [
           {
            "colorbar": {
             "outlinewidth": 0,
             "ticks": ""
            },
            "type": "contourcarpet"
           }
          ],
          "heatmap": [
           {
            "colorbar": {
             "outlinewidth": 0,
             "ticks": ""
            },
            "colorscale": [
             [
              0,
              "#0d0887"
             ],
             [
              0.1111111111111111,
              "#46039f"
             ],
             [
              0.2222222222222222,
              "#7201a8"
             ],
             [
              0.3333333333333333,
              "#9c179e"
             ],
             [
              0.4444444444444444,
              "#bd3786"
             ],
             [
              0.5555555555555556,
              "#d8576b"
             ],
             [
              0.6666666666666666,
              "#ed7953"
             ],
             [
              0.7777777777777778,
              "#fb9f3a"
             ],
             [
              0.8888888888888888,
              "#fdca26"
             ],
             [
              1,
              "#f0f921"
             ]
            ],
            "type": "heatmap"
           }
          ],
          "heatmapgl": [
           {
            "colorbar": {
             "outlinewidth": 0,
             "ticks": ""
            },
            "colorscale": [
             [
              0,
              "#0d0887"
             ],
             [
              0.1111111111111111,
              "#46039f"
             ],
             [
              0.2222222222222222,
              "#7201a8"
             ],
             [
              0.3333333333333333,
              "#9c179e"
             ],
             [
              0.4444444444444444,
              "#bd3786"
             ],
             [
              0.5555555555555556,
              "#d8576b"
             ],
             [
              0.6666666666666666,
              "#ed7953"
             ],
             [
              0.7777777777777778,
              "#fb9f3a"
             ],
             [
              0.8888888888888888,
              "#fdca26"
             ],
             [
              1,
              "#f0f921"
             ]
            ],
            "type": "heatmapgl"
           }
          ],
          "histogram": [
           {
            "marker": {
             "pattern": {
              "fillmode": "overlay",
              "size": 10,
              "solidity": 0.2
             }
            },
            "type": "histogram"
           }
          ],
          "histogram2d": [
           {
            "colorbar": {
             "outlinewidth": 0,
             "ticks": ""
            },
            "colorscale": [
             [
              0,
              "#0d0887"
             ],
             [
              0.1111111111111111,
              "#46039f"
             ],
             [
              0.2222222222222222,
              "#7201a8"
             ],
             [
              0.3333333333333333,
              "#9c179e"
             ],
             [
              0.4444444444444444,
              "#bd3786"
             ],
             [
              0.5555555555555556,
              "#d8576b"
             ],
             [
              0.6666666666666666,
              "#ed7953"
             ],
             [
              0.7777777777777778,
              "#fb9f3a"
             ],
             [
              0.8888888888888888,
              "#fdca26"
             ],
             [
              1,
              "#f0f921"
             ]
            ],
            "type": "histogram2d"
           }
          ],
          "histogram2dcontour": [
           {
            "colorbar": {
             "outlinewidth": 0,
             "ticks": ""
            },
            "colorscale": [
             [
              0,
              "#0d0887"
             ],
             [
              0.1111111111111111,
              "#46039f"
             ],
             [
              0.2222222222222222,
              "#7201a8"
             ],
             [
              0.3333333333333333,
              "#9c179e"
             ],
             [
              0.4444444444444444,
              "#bd3786"
             ],
             [
              0.5555555555555556,
              "#d8576b"
             ],
             [
              0.6666666666666666,
              "#ed7953"
             ],
             [
              0.7777777777777778,
              "#fb9f3a"
             ],
             [
              0.8888888888888888,
              "#fdca26"
             ],
             [
              1,
              "#f0f921"
             ]
            ],
            "type": "histogram2dcontour"
           }
          ],
          "mesh3d": [
           {
            "colorbar": {
             "outlinewidth": 0,
             "ticks": ""
            },
            "type": "mesh3d"
           }
          ],
          "parcoords": [
           {
            "line": {
             "colorbar": {
              "outlinewidth": 0,
              "ticks": ""
             }
            },
            "type": "parcoords"
           }
          ],
          "pie": [
           {
            "automargin": true,
            "type": "pie"
           }
          ],
          "scatter": [
           {
            "fillpattern": {
             "fillmode": "overlay",
             "size": 10,
             "solidity": 0.2
            },
            "type": "scatter"
           }
          ],
          "scatter3d": [
           {
            "line": {
             "colorbar": {
              "outlinewidth": 0,
              "ticks": ""
             }
            },
            "marker": {
             "colorbar": {
              "outlinewidth": 0,
              "ticks": ""
             }
            },
            "type": "scatter3d"
           }
          ],
          "scattercarpet": [
           {
            "marker": {
             "colorbar": {
              "outlinewidth": 0,
              "ticks": ""
             }
            },
            "type": "scattercarpet"
           }
          ],
          "scattergeo": [
           {
            "marker": {
             "colorbar": {
              "outlinewidth": 0,
              "ticks": ""
             }
            },
            "type": "scattergeo"
           }
          ],
          "scattergl": [
           {
            "marker": {
             "colorbar": {
              "outlinewidth": 0,
              "ticks": ""
             }
            },
            "type": "scattergl"
           }
          ],
          "scattermapbox": [
           {
            "marker": {
             "colorbar": {
              "outlinewidth": 0,
              "ticks": ""
             }
            },
            "type": "scattermapbox"
           }
          ],
          "scatterpolar": [
           {
            "marker": {
             "colorbar": {
              "outlinewidth": 0,
              "ticks": ""
             }
            },
            "type": "scatterpolar"
           }
          ],
          "scatterpolargl": [
           {
            "marker": {
             "colorbar": {
              "outlinewidth": 0,
              "ticks": ""
             }
            },
            "type": "scatterpolargl"
           }
          ],
          "scatterternary": [
           {
            "marker": {
             "colorbar": {
              "outlinewidth": 0,
              "ticks": ""
             }
            },
            "type": "scatterternary"
           }
          ],
          "surface": [
           {
            "colorbar": {
             "outlinewidth": 0,
             "ticks": ""
            },
            "colorscale": [
             [
              0,
              "#0d0887"
             ],
             [
              0.1111111111111111,
              "#46039f"
             ],
             [
              0.2222222222222222,
              "#7201a8"
             ],
             [
              0.3333333333333333,
              "#9c179e"
             ],
             [
              0.4444444444444444,
              "#bd3786"
             ],
             [
              0.5555555555555556,
              "#d8576b"
             ],
             [
              0.6666666666666666,
              "#ed7953"
             ],
             [
              0.7777777777777778,
              "#fb9f3a"
             ],
             [
              0.8888888888888888,
              "#fdca26"
             ],
             [
              1,
              "#f0f921"
             ]
            ],
            "type": "surface"
           }
          ],
          "table": [
           {
            "cells": {
             "fill": {
              "color": "#EBF0F8"
             },
             "line": {
              "color": "white"
             }
            },
            "header": {
             "fill": {
              "color": "#C8D4E3"
             },
             "line": {
              "color": "white"
             }
            },
            "type": "table"
           }
          ]
         },
         "layout": {
          "annotationdefaults": {
           "arrowcolor": "#2a3f5f",
           "arrowhead": 0,
           "arrowwidth": 1
          },
          "autotypenumbers": "strict",
          "coloraxis": {
           "colorbar": {
            "outlinewidth": 0,
            "ticks": ""
           }
          },
          "colorscale": {
           "diverging": [
            [
             0,
             "#8e0152"
            ],
            [
             0.1,
             "#c51b7d"
            ],
            [
             0.2,
             "#de77ae"
            ],
            [
             0.3,
             "#f1b6da"
            ],
            [
             0.4,
             "#fde0ef"
            ],
            [
             0.5,
             "#f7f7f7"
            ],
            [
             0.6,
             "#e6f5d0"
            ],
            [
             0.7,
             "#b8e186"
            ],
            [
             0.8,
             "#7fbc41"
            ],
            [
             0.9,
             "#4d9221"
            ],
            [
             1,
             "#276419"
            ]
           ],
           "sequential": [
            [
             0,
             "#0d0887"
            ],
            [
             0.1111111111111111,
             "#46039f"
            ],
            [
             0.2222222222222222,
             "#7201a8"
            ],
            [
             0.3333333333333333,
             "#9c179e"
            ],
            [
             0.4444444444444444,
             "#bd3786"
            ],
            [
             0.5555555555555556,
             "#d8576b"
            ],
            [
             0.6666666666666666,
             "#ed7953"
            ],
            [
             0.7777777777777778,
             "#fb9f3a"
            ],
            [
             0.8888888888888888,
             "#fdca26"
            ],
            [
             1,
             "#f0f921"
            ]
           ],
           "sequentialminus": [
            [
             0,
             "#0d0887"
            ],
            [
             0.1111111111111111,
             "#46039f"
            ],
            [
             0.2222222222222222,
             "#7201a8"
            ],
            [
             0.3333333333333333,
             "#9c179e"
            ],
            [
             0.4444444444444444,
             "#bd3786"
            ],
            [
             0.5555555555555556,
             "#d8576b"
            ],
            [
             0.6666666666666666,
             "#ed7953"
            ],
            [
             0.7777777777777778,
             "#fb9f3a"
            ],
            [
             0.8888888888888888,
             "#fdca26"
            ],
            [
             1,
             "#f0f921"
            ]
           ]
          },
          "colorway": [
           "#636efa",
           "#EF553B",
           "#00cc96",
           "#ab63fa",
           "#FFA15A",
           "#19d3f3",
           "#FF6692",
           "#B6E880",
           "#FF97FF",
           "#FECB52"
          ],
          "font": {
           "color": "#2a3f5f"
          },
          "geo": {
           "bgcolor": "white",
           "lakecolor": "white",
           "landcolor": "#E5ECF6",
           "showlakes": true,
           "showland": true,
           "subunitcolor": "white"
          },
          "hoverlabel": {
           "align": "left"
          },
          "hovermode": "closest",
          "mapbox": {
           "style": "light"
          },
          "paper_bgcolor": "white",
          "plot_bgcolor": "#E5ECF6",
          "polar": {
           "angularaxis": {
            "gridcolor": "white",
            "linecolor": "white",
            "ticks": ""
           },
           "bgcolor": "#E5ECF6",
           "radialaxis": {
            "gridcolor": "white",
            "linecolor": "white",
            "ticks": ""
           }
          },
          "scene": {
           "xaxis": {
            "backgroundcolor": "#E5ECF6",
            "gridcolor": "white",
            "gridwidth": 2,
            "linecolor": "white",
            "showbackground": true,
            "ticks": "",
            "zerolinecolor": "white"
           },
           "yaxis": {
            "backgroundcolor": "#E5ECF6",
            "gridcolor": "white",
            "gridwidth": 2,
            "linecolor": "white",
            "showbackground": true,
            "ticks": "",
            "zerolinecolor": "white"
           },
           "zaxis": {
            "backgroundcolor": "#E5ECF6",
            "gridcolor": "white",
            "gridwidth": 2,
            "linecolor": "white",
            "showbackground": true,
            "ticks": "",
            "zerolinecolor": "white"
           }
          },
          "shapedefaults": {
           "line": {
            "color": "#2a3f5f"
           }
          },
          "ternary": {
           "aaxis": {
            "gridcolor": "white",
            "linecolor": "white",
            "ticks": ""
           },
           "baxis": {
            "gridcolor": "white",
            "linecolor": "white",
            "ticks": ""
           },
           "bgcolor": "#E5ECF6",
           "caxis": {
            "gridcolor": "white",
            "linecolor": "white",
            "ticks": ""
           }
          },
          "title": {
           "x": 0.05
          },
          "xaxis": {
           "automargin": true,
           "gridcolor": "white",
           "linecolor": "white",
           "ticks": "",
           "title": {
            "standoff": 15
           },
           "zerolinecolor": "white",
           "zerolinewidth": 2
          },
          "yaxis": {
           "automargin": true,
           "gridcolor": "white",
           "linecolor": "white",
           "ticks": "",
           "title": {
            "standoff": 15
           },
           "zerolinecolor": "white",
           "zerolinewidth": 2
          }
         }
        },
        "width": 470
       }
      }
     },
     "metadata": {},
     "output_type": "display_data"
    }
   ],
   "source": [
    "# # Define the layout of the diagram\n",
    "layout = dict(font=dict(size=14),\n",
    "              width=470,\n",
    "              height=500,\n",
    "              margin=dict(l=50, r=50, b=50, t=50),\n",
    "              paper_bgcolor=\"white\",plot_bgcolor=\"white\")\n",
    "\n",
    "\n",
    "\n",
    "# Create the Sankey diagram\n",
    "fig = go.Figure(data=[go.Sankey(arrangement = 'snap', node=nodes1, link=links1)], layout=layout)\n",
    "fig.update_traces(textfont=dict(color='black'))\n",
    "fig.write_image('outputs/sankey/ArgumentLevel.png', scale = 10)\n",
    "# Show the diagram\n",
    "fig.show()"
   ]
  },
  {
   "attachments": {},
   "cell_type": "markdown",
   "metadata": {},
   "source": [
    "HeatMap"
   ]
  },
  {
   "cell_type": "code",
   "execution_count": 2,
   "metadata": {},
   "outputs": [],
   "source": [
    "import pandas as pd\n",
    "import numpy as np\n",
    "import seaborn\n",
    "import matplotlib.pyplot as plt"
   ]
  },
  {
   "cell_type": "code",
   "execution_count": 6,
   "metadata": {},
   "outputs": [
    {
     "data": {
      "text/html": [
       "<div>\n",
       "<style scoped>\n",
       "    .dataframe tbody tr th:only-of-type {\n",
       "        vertical-align: middle;\n",
       "    }\n",
       "\n",
       "    .dataframe tbody tr th {\n",
       "        vertical-align: top;\n",
       "    }\n",
       "\n",
       "    .dataframe thead th {\n",
       "        text-align: right;\n",
       "    }\n",
       "</style>\n",
       "<table border=\"1\" class=\"dataframe\">\n",
       "  <thead>\n",
       "    <tr style=\"text-align: right;\">\n",
       "      <th></th>\n",
       "      <th>Unnamed: 0</th>\n",
       "      <th>StudentID</th>\n",
       "      <th>Content</th>\n",
       "      <th>ArgumentLevel</th>\n",
       "      <th>ReasoningLevel</th>\n",
       "      <th>GS percent</th>\n",
       "      <th>0</th>\n",
       "      <th>1</th>\n",
       "    </tr>\n",
       "  </thead>\n",
       "  <tbody>\n",
       "    <tr>\n",
       "      <th>0</th>\n",
       "      <td>1</td>\n",
       "      <td>GS_MOX979_Redacted</td>\n",
       "      <td>pectroscopy be the study of the spectrum of li...</td>\n",
       "      <td>superficial</td>\n",
       "      <td>bal</td>\n",
       "      <td>72</td>\n",
       "      <td>0.045177</td>\n",
       "      <td>0.954823</td>\n",
       "    </tr>\n",
       "    <tr>\n",
       "      <th>1</th>\n",
       "      <td>2</td>\n",
       "      <td>GS_WHP087_Redacted</td>\n",
       "      <td>this experiment be conduct to determine the ry...</td>\n",
       "      <td>superficial</td>\n",
       "      <td>bal</td>\n",
       "      <td>53</td>\n",
       "      <td>0.072881</td>\n",
       "      <td>0.927119</td>\n",
       "    </tr>\n",
       "    <tr>\n",
       "      <th>2</th>\n",
       "      <td>3</td>\n",
       "      <td>GS_NPG050_Redacted</td>\n",
       "      <td>the aim of the experiment be to measure the sp...</td>\n",
       "      <td>superficial</td>\n",
       "      <td>bal</td>\n",
       "      <td>64</td>\n",
       "      <td>0.078394</td>\n",
       "      <td>0.921606</td>\n",
       "    </tr>\n",
       "    <tr>\n",
       "      <th>3</th>\n",
       "      <td>4</td>\n",
       "      <td>GS_IHJ555_Redacted</td>\n",
       "      <td>where 𝜆 be the wavelength r ∞ be the rydberg c...</td>\n",
       "      <td>expert</td>\n",
       "      <td>the</td>\n",
       "      <td>61</td>\n",
       "      <td>0.078550</td>\n",
       "      <td>0.921450</td>\n",
       "    </tr>\n",
       "    <tr>\n",
       "      <th>4</th>\n",
       "      <td>5</td>\n",
       "      <td>GS_GXI055_Redacted</td>\n",
       "      <td>he aim of this experiment be to determine a va...</td>\n",
       "      <td>extended</td>\n",
       "      <td>the</td>\n",
       "      <td>63</td>\n",
       "      <td>0.083688</td>\n",
       "      <td>0.916311</td>\n",
       "    </tr>\n",
       "  </tbody>\n",
       "</table>\n",
       "</div>"
      ],
      "text/plain": [
       "   Unnamed: 0           StudentID  \\\n",
       "0           1  GS_MOX979_Redacted   \n",
       "1           2  GS_WHP087_Redacted   \n",
       "2           3  GS_NPG050_Redacted   \n",
       "3           4  GS_IHJ555_Redacted   \n",
       "4           5  GS_GXI055_Redacted   \n",
       "\n",
       "                                             Content ArgumentLevel  \\\n",
       "0  pectroscopy be the study of the spectrum of li...   superficial   \n",
       "1  this experiment be conduct to determine the ry...   superficial   \n",
       "2  the aim of the experiment be to measure the sp...   superficial   \n",
       "3  where 𝜆 be the wavelength r ∞ be the rydberg c...        expert   \n",
       "4  he aim of this experiment be to determine a va...      extended   \n",
       "\n",
       "  ReasoningLevel  GS percent         0         1  \n",
       "0            bal          72  0.045177  0.954823  \n",
       "1            bal          53  0.072881  0.927119  \n",
       "2            bal          64  0.078394  0.921606  \n",
       "3            the          61  0.078550  0.921450  \n",
       "4            the          63  0.083688  0.916311  "
      ]
     },
     "execution_count": 6,
     "metadata": {},
     "output_type": "execute_result"
    }
   ],
   "source": [
    "csv_path_y1 = 'outputs/LDA_weights_grades_df_year1.csv'\n",
    "csv_path_y2 = 'outputs/LDA_weights_grades_df_year2.csv'\n",
    "df_y1 = pd.read_csv(csv_path_y1)\n",
    "df_y2 = pd.read_csv(csv_path_y2)\n",
    "df_y1.head()"
   ]
  },
  {
   "attachments": {},
   "cell_type": "markdown",
   "metadata": {},
   "source": [
    "# YEAR1 Topic Analysis"
   ]
  },
  {
   "cell_type": "code",
   "execution_count": 16,
   "metadata": {},
   "outputs": [
    {
     "name": "stderr",
     "output_type": "stream",
     "text": [
      "No artists with labels found to put in legend.  Note that artists whose label start with an underscore are ignored when legend() is called with no argument.\n"
     ]
    },
    {
     "name": "stdout",
     "output_type": "stream",
     "text": [
      "84 44\n",
      "{44, 45, 47, 48, 49, 51, 53, 55, 57, 58, 59, 60, 61, 62, 63, 64, 65, 66, 67, 68, 69, 71, 72, 73, 74, 75, 77, 80, 81, 84}\n"
     ]
    },
    {
     "data": {
      "text/plain": [
       "<matplotlib.legend.Legend at 0x1394eec10>"
      ]
     },
     "execution_count": 16,
     "metadata": {},
     "output_type": "execute_result"
    },
    {
     "data": {
      "image/png": "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",
      "text/plain": [
       "<Figure size 640x480 with 2 Axes>"
      ]
     },
     "metadata": {},
     "output_type": "display_data"
    }
   ],
   "source": [
    "# find min and max grades\n",
    "max_grade = max(df_y1['GS percent']) \n",
    "min_grade = min(df_y1['GS percent'])\n",
    "print(max_grade, min_grade) # 决定采用区间 45 - 85, step size 1 \n",
    "\n",
    "# merge grades\n",
    "list_grade = set(sorted(df_y1['GS percent']))\n",
    "print(list_grade)\n",
    "\n",
    "\n",
    "heatmap_x = []\n",
    "heatmap_y_topic0 = []\n",
    "heatmap_y_topic1 = []\n",
    "heatmap_y_sum = []\n",
    "for grade in list_grade: # individual weights\n",
    "    \n",
    "    heatmap_x.append(grade) #heatmap x\n",
    "    \n",
    "    df = df_y1.loc[df_y1['GS percent'] == grade] # reports that has the grade required\n",
    "    row_number = len(df.index)# number of reports\n",
    "    topic_zero_weight = df['0'].sum() \n",
    "    topic_one_weight = df['1'].sum()\n",
    "    \n",
    "    heatmap_y_topic0.append(topic_zero_weight/row_number) # heatmap y - topic0\n",
    "    heatmap_y_topic1.append(topic_one_weight/row_number)  # heatmap y - topic1\n",
    "    heatmap_y_sum.append( (topic_zero_weight*(-1)+topic_one_weight)/ row_number ) # heatmap y - both topics\n",
    "    \n",
    "\n",
    "fig, ax = plt.subplots()\n",
    "seaborn.heatmap([heatmap_y_sum])\n",
    "\n",
    "# plt.scatter(heatmap_x,heatmap_y_topic0, label = 'topic0')\n",
    "# plt.scatter(heatmap_x,heatmap_y_topic1, label = 'topic1')\n",
    "# plt.scatter(heatmap_x,heatmap_y_sum, label = 'both')\n",
    "plt.legend()\n",
    "\n",
    "\n"
   ]
  },
  {
   "cell_type": "code",
   "execution_count": 21,
   "metadata": {},
   "outputs": [
    {
     "data": {
      "image/png": "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",
      "text/plain": [
       "<Figure size 640x480 with 2 Axes>"
      ]
     },
     "metadata": {},
     "output_type": "display_data"
    }
   ],
   "source": [
    "range_grade = np.arange(40, 90, 5) # [40 45 50 55 60 65 70 75 80 85 90]\n",
    "\n",
    "heatmap_x = []\n",
    "heatmap_y_topic0 = []\n",
    "heatmap_y_topic1 = []\n",
    "heatmap_y_sum = []\n",
    "\n",
    "for i, grade in enumerate(range_grade): # combined weights\n",
    "    if i ==9:\n",
    "        break\n",
    "    heatmap_x.append( np.sum(range_grade[i] + range_grade[i+1])/2 ) #heatmap x\n",
    "    \n",
    "    df = df_y1.loc[(df_y1['GS percent'] >= range_grade[i]) & (df_y1['GS percent'] < range_grade[i+1])] # reports that has the grade required\n",
    "    \n",
    "    row_number = len(df.index)# number of reports\n",
    "    topic_zero_weight = df['0'].sum() \n",
    "    topic_one_weight = df['1'].sum()\n",
    "    \n",
    "    heatmap_y_topic0.append(topic_zero_weight/row_number) # heatmap y - topic0\n",
    "    heatmap_y_topic1.append(topic_one_weight/row_number)  # heatmap y - topic1\n",
    "    heatmap_y_sum.append( (topic_zero_weight*(-1)+topic_one_weight)/ row_number ) # heatmap y - both topics\n",
    "    \n",
    "\n",
    "    \n",
    "fig, ax = plt.subplots()\n",
    "y_axis_labels = ['Topic 0', 'Topic 1', 'Topic 0 & 1']\n",
    "xticklabels = ['40-45', '45-50', '50-55', '55-60', '60-65', '65-70', '70-75', '75-80', '80-85']\n",
    "svm = seaborn.heatmap([heatmap_y_topic0,heatmap_y_topic1, heatmap_y_sum], yticklabels=y_axis_labels, xticklabels = xticklabels)\n",
    "plt.yticks(rotation=0) \n",
    "\n",
    "figure = svm.get_figure()    \n",
    "figure.savefig('figures/heatmap/Year1-heatmap.png', dpi=600, bbox_inches = 'tight')\n"
   ]
  },
  {
   "attachments": {},
   "cell_type": "markdown",
   "metadata": {},
   "source": [
    "# Year 2 Topic Analysis"
   ]
  },
  {
   "cell_type": "code",
   "execution_count": 23,
   "metadata": {},
   "outputs": [
    {
     "name": "stdout",
     "output_type": "stream",
     "text": [
      "80 40\n"
     ]
    }
   ],
   "source": [
    "# find min and max grades\n",
    "max_grade = max(df_y2['Interferometry percent']) \n",
    "min_grade = min(df_y2['Interferometry percent'])\n",
    "print(max_grade, min_grade) # 决定采用区间 45 - 85, step size 1 "
   ]
  },
  {
   "cell_type": "code",
   "execution_count": 26,
   "metadata": {},
   "outputs": [
    {
     "data": {
      "image/png": "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",
      "text/plain": [
       "<Figure size 640x480 with 2 Axes>"
      ]
     },
     "metadata": {},
     "output_type": "display_data"
    }
   ],
   "source": [
    "range_grade = np.arange(40, 85, 5) \n",
    "\n",
    "heatmap_x = []\n",
    "heatmap_y_topic0 = []\n",
    "heatmap_y_topic1 = []\n",
    "heatmap_y_sum = []\n",
    "\n",
    "for i, grade in enumerate(range_grade): # combined weights\n",
    "    if i == 8:\n",
    "        break\n",
    "    heatmap_x.append( np.sum(range_grade[i] + range_grade[i+1])/2 ) #heatmap x\n",
    "    \n",
    "    df = df_y2.loc[(df_y2['Interferometry percent'] >= range_grade[i]) & (df_y2['Interferometry percent'] <= range_grade[i+1])] # reports that has the grade required\n",
    "    \n",
    "    row_number = len(df.index)# number of reports\n",
    "    topic_zero_weight = df['0'].sum() \n",
    "    topic_one_weight = df['1'].sum()\n",
    "    \n",
    "    heatmap_y_topic0.append(topic_zero_weight/row_number) # heatmap y - topic0\n",
    "    heatmap_y_topic1.append(topic_one_weight/row_number)  # heatmap y - topic1\n",
    "    heatmap_y_sum.append( (topic_zero_weight*(-1)+topic_one_weight)/ row_number ) # heatmap y - both topics\n",
    "    \n",
    "\n",
    "fig, ax = plt.subplots()\n",
    "y_axis_labels = ['Topic 0', 'Topic 1', 'Topic 0 & 1']\n",
    "xticklabels = ['40-45', '45-50', '50-55', '55-60', '60-65', '65-70', '70-75', '75-80']\n",
    "svm = seaborn.heatmap([heatmap_y_topic0,heatmap_y_topic1, heatmap_y_sum], yticklabels=y_axis_labels, xticklabels = xticklabels)\n",
    "plt.yticks(rotation=0) \n",
    "\n",
    "figure = svm.get_figure()    \n",
    "figure.savefig('figures/heatmap/Year2-heatmap.png', dpi=600, bbox_inches = 'tight')"
   ]
  },
  {
   "cell_type": "code",
   "execution_count": 3,
   "metadata": {},
   "outputs": [
    {
     "name": "stderr",
     "output_type": "stream",
     "text": [
      "\n",
      "KeyboardInterrupt\n",
      "\n"
     ]
    }
   ],
   "source": [
    "import matplotlib.pyplot as plt\n",
    "\n",
    "import numpy as np\n",
    "import scienceplots\n",
    "plt.style.use(['science', 'ieee'])\n",
    "params = {'legend.fontsize':10, 'legend.handlelength': 1, 'font.weight': 'bold'} \n",
    "plt.rcParams.update(params)\n",
    "\n",
    "# TODO: change to Aerial font\n",
    "\n",
    "\n",
    "\n",
    "\n",
    "\n",
    "\n",
    "\n",
    "\n",
    "\n",
    "'''\n",
    "marker list: https://matplotlib.org/stable/api/markers_api.html\n",
    "colour code:\n",
    "    red = #A20346\n",
    "    blue = #004E7E\n",
    "    yellow = #F27C0A\n",
    "    green = #3D4E1D\n",
    "    purple = #2E206B\n",
    "    tur = #006D7D\n",
    "    ref: https://www.cam.ac.uk/brand-resources/guidelines/typography-and-colour/colour-palette\n",
    "linestyle list: https://matplotlib.org/stable/gallery/lines_bars_and_markers/linestyles.html    \n",
    "'''\n",
    "\n",
    "fig, ax1 = plt.subplots()\n",
    "\n",
    "plt.scatter(xvalue, yvalue, color = '#A20346', marker = 's', s= 10, label = 'red')\n",
    "plt.errorbar(xvalue, yvalue, yerr, color='#A20346', fmt='none')\n",
    "plt.plot(xvalue, yvalue, linestyle='solid', color='#A20346', alpha=0.7)\n",
    "\n",
    "\n",
    "# plt.scatter(xvalue, y2value, color = '#004E7E', marker = 's', s= 10, label = 'blue')\n",
    "# plt.errorbar(xvalue, y2value, y2err, color='#004E7E', fmt='none')\n",
    "# plt.plot(xvalue, y2value, linestyle='solid', color='#004E7E', alpha=0.7)\n",
    "\n",
    "\n",
    "# plt.xlabel(xlabel, fontsize=12)\n",
    "# plt.ylabel(ylabel, fontsize=12)\n",
    "\n",
    "# plt.xticks(size = 12)\n",
    "# plt.yticks( size = 12, fontweight = 'bold', )\n",
    "\n",
    "\n",
    "# legend = plt.legend(loc='upper left', framealpha=1, frameon=True, edgecolor = 'black')\n",
    "# legend.get_frame().set_linewidth(0.8)\n",
    "\n",
    "\n",
    "# plt.savefig('example.png', dpi=1000)"
   ]
  },
  {
   "cell_type": "code",
<<<<<<< Updated upstream
   "execution_count": 93,
=======
   "execution_count": 2,
>>>>>>> Stashed changes
   "metadata": {},
   "outputs": [
    {
     "ename": "NameError",
     "evalue": "name 'xvalue' is not defined",
     "output_type": "error",
     "traceback": [
      "\u001b[1;31m---------------------------------------------------------------------------\u001b[0m",
      "\u001b[1;31mNameError\u001b[0m                                 Traceback (most recent call last)",
      "Cell \u001b[1;32mIn[2], line 15\u001b[0m\n\u001b[0;32m     11\u001b[0m fig, axes \u001b[39m=\u001b[39m plt\u001b[39m.\u001b[39msubplots(nrows\u001b[39m=\u001b[39m\u001b[39m1\u001b[39m, ncols\u001b[39m=\u001b[39m\u001b[39m3\u001b[39m, figsize \u001b[39m=\u001b[39m (\u001b[39m9\u001b[39m,\u001b[39m2\u001b[39m)) \u001b[39m#, figsize=(12, 4)\u001b[39;00m\n\u001b[0;32m     14\u001b[0m \u001b[39m# Plot the first subplot on the left\u001b[39;00m\n\u001b[1;32m---> 15\u001b[0m axes[\u001b[39m0\u001b[39m]\u001b[39m.\u001b[39mscatter(xvalue, yvalue, color \u001b[39m=\u001b[39m \u001b[39m'\u001b[39m\u001b[39m#A20346\u001b[39m\u001b[39m'\u001b[39m, marker \u001b[39m=\u001b[39m \u001b[39m'\u001b[39m\u001b[39ms\u001b[39m\u001b[39m'\u001b[39m, s\u001b[39m=\u001b[39m \u001b[39m10\u001b[39m, label \u001b[39m=\u001b[39m \u001b[39m'\u001b[39m\u001b[39mred\u001b[39m\u001b[39m'\u001b[39m)\n\u001b[0;32m     16\u001b[0m axes[\u001b[39m0\u001b[39m]\u001b[39m.\u001b[39merrorbar(xvalue, yvalue, yerr, color\u001b[39m=\u001b[39m\u001b[39m'\u001b[39m\u001b[39m#A20346\u001b[39m\u001b[39m'\u001b[39m, fmt\u001b[39m=\u001b[39m\u001b[39m'\u001b[39m\u001b[39mnone\u001b[39m\u001b[39m'\u001b[39m)\n\u001b[0;32m     17\u001b[0m axes[\u001b[39m0\u001b[39m]\u001b[39m.\u001b[39mplot(xvalue, yvalue, linestyle\u001b[39m=\u001b[39m\u001b[39m'\u001b[39m\u001b[39msolid\u001b[39m\u001b[39m'\u001b[39m, color\u001b[39m=\u001b[39m\u001b[39m'\u001b[39m\u001b[39m#A20346\u001b[39m\u001b[39m'\u001b[39m, alpha\u001b[39m=\u001b[39m\u001b[39m0.5\u001b[39m)\n",
      "\u001b[1;31mNameError\u001b[0m: name 'xvalue' is not defined"
     ]
    },
    {
     "data": {
<<<<<<< Updated upstream
      "image/png": "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",
=======
      "image/png": "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",
>>>>>>> Stashed changes
      "text/plain": [
       "<Figure size 5400x1200 with 3 Axes>"
      ]
     },
     "metadata": {},
     "output_type": "display_data"
    }
   ],
   "source": [
    "    \n",
    " \n",
    "xvalue = [0.2, 0.3, 0.4, 0.5, 0.6, 0.7, 0.8, 0.9]\n",
    "yvalue = [0.47222221493721006, 0.459375, 0.45178571343421936, 0.5041666686534881, 0.49750000834465025, 0.75, 0.6208333432674408, 0.825]\n",
    "yerr = [0.008784104088006155, 0.01384378527083543, 0.00919252600184733, 0.04161455118809117, 0.026634096005599506, 0.028384222069663984, 0.08421409751357443, 0.03775951866748304]\n",
    "xlabel = 'Training ratio'\n",
    "ylabel = 'Accuracy'\n",
    "\n",
    "y2value = [0.340277773141861, 0.3984375, 0.41607142686843873, 0.38541666865348817, 0.41000000238418577, 0.65625, 0.8333333253860473, 0.8875]\n",
    "y2err = [0.043645155324258236, 0.010186253758129139, 0.01988487475075547, 0.011410886614691999, 0.02604083366333376, 0.038590903235088965, 0.030900831717867647, 0.04026280852101601]\n",
    "\n",
    "\n",
    "\n",
    "import matplotlib.pyplot as plt\n",
    "import numpy as np\n",
    "import scienceplots\n",
    "from matplotlib import rc, rcParams\n",
    "plt.style.use(['science', 'ieee', 'no-latex'])\n",
    "plt.rcParams['font.family'] = \"Arial\"\n",
    "rc('font', weight='normal')\n",
    "\n",
    "\n",
    "# Create a figure with three subplots in a row\n",
    "fig, axes = plt.subplots(nrows=1, ncols=3, figsize = (9,2)) #, figsize=(12, 4)\n",
    "\n",
    "\n",
    "# Plot the first subplot on the left\n",
    "axes[0].scatter(xvalue, yvalue, color = '#A20346', marker = 's', s= 10, label = 'red')\n",
    "axes[0].errorbar(xvalue, yvalue, yerr, color='#A20346', fmt='none')\n",
    "axes[0].plot(xvalue, yvalue, linestyle='solid', color='#A20346', alpha=0.5)\n",
    "axes[0].set_xlabel('Training ratio', fontsize=10)\n",
    "axes[0].set_ylabel('Accuracy', fontsize=10)\n",
    "axes[0].xaxis.set_ticks(np.arange(0.2, 1.0, 0.1))\n",
    "axes[0].yaxis.set_ticks(np.arange(0.2, 1.1, 0.1))\n",
    "axes[0].minorticks_off()\n",
    "\n",
    "# Plot the second subplot in the middle\n",
    "axes[1].scatter(xvalue, y2value, color = '#004E7E', marker = 's', s= 10, label = 'blue')\n",
    "axes[1].errorbar(xvalue, y2value, y2err, color='#004E7E', fmt='none')\n",
    "axes[1].plot(xvalue, y2value, linestyle='solid', color='#004E7E', alpha=0.5)\n",
    "axes[1].set_xlabel('Training ratio', fontsize=10)\n",
    "axes[1].set_ylabel('Accuracy', fontsize=10)\n",
    "axes[1].xaxis.set_ticks(np.arange(0.2, 1.0, 0.1))\n",
    "axes[1].yaxis.set_ticks(np.arange(0.2, 1.1, 0.1))\n",
    "axes[1].minorticks_off()\n",
    "\n",
    "\n",
    "# Plot the third subplot on the right\n",
    "axes[2].scatter(xvalue, yvalue, color = '#3D4E1D', marker = 's', s= 10, label = 'red')\n",
    "axes[2].errorbar(xvalue, yvalue, yerr, color='#3D4E1D', fmt='none')\n",
    "axes[2].plot(xvalue, yvalue, linestyle='solid', color='#3D4E1D', alpha=0.5)\n",
    "axes[2].set_xlabel('Training ratio', fontsize=10) # , fontweight = 'bold'\n",
    "axes[2].set_ylabel('Accuracy', fontsize=10) # fontweight = 'bold'\n",
    "axes[2].xaxis.set_ticks(np.arange(0.2, 1.0, 0.1))\n",
    "axes[2].yaxis.set_ticks(np.arange(0.2, 1.1, 0.1))\n",
    "axes[2].minorticks_off()\n",
    "\n",
    "\n",
    "# Add a shared y-axis label to the leftmost plot\n",
    "# fig.text(0.06, 0.5, 'Amplitude', ha='center', va='center', rotation='vertical')\n",
    "# Add a shared x-axis label to the bottom plot\n",
    "# fig.text(0.5, 0.06, 'Time', ha='center', va='center')\n",
    "\n",
    "# Adjust the spacing between the subplots\n",
    "plt.subplots_adjust(wspace=0.4)\n",
    "\n",
    "# Adjust the spacing between the subplots\n",
    "plt.subplots_adjust(wspace=0.4)\n",
    "\n",
    "filename = 'example.png'\n",
    "plt.savefig(filename, dpi = 1000)\n",
    "# Show the plot\n",
    "plt.show()"
   ]
  },
  {
   "cell_type": "code",
   "execution_count": null,
   "metadata": {},
   "outputs": [],
   "source": []
  }
 ],
 "metadata": {
  "kernelspec": {
   "display_name": "base",
   "language": "python",
   "name": "python3"
  },
  "language_info": {
   "codemirror_mode": {
    "name": "ipython",
    "version": 3
   },
   "file_extension": ".py",
   "mimetype": "text/x-python",
   "name": "python",
   "nbconvert_exporter": "python",
   "pygments_lexer": "ipython3",
   "version": "3.8.8"
  },
  "orig_nbformat": 4,
  "vscode": {
   "interpreter": {
    "hash": "7bf9169aea3bf43030d2045b9506020b24091b3061df9b5cfee19d2eac11c6ed"
   }
  }
 },
 "nbformat": 4,
 "nbformat_minor": 2
}
