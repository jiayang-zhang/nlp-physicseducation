{
 "cells": [
  {
   "cell_type": "code",
   "execution_count": 13,
   "metadata": {},
   "outputs": [],
   "source": [
    "import plotly.graph_objs as go\n",
    "import kaleido\n",
    "import matplotlib.pyplot as plt"
   ]
  },
  {
   "cell_type": "code",
   "execution_count": 14,
   "metadata": {},
   "outputs": [],
   "source": [
    "nodes = dict(pad=15,\n",
    "             thickness=20,\n",
    "             line=dict(color=\"black\", width=0.5),\n",
    "             label=[\"Theoretical (26)\", \"Experimental (9)\", \"Balanced (44)\",\n",
    "                    \"None (3)\",\"Theoretical (29)\", \"Experimental (15)\", \"Balanced (28)\", \"None (10)\"], \n",
    "              x = [0.001, 0.001, 0.001, 0.001, 0.999, 0.999, 0.999, 0.999],\n",
    "              y = [0.001, 75/285, 160/285, 190/285, 0.001, 75/285, 130/285, 215/285], \n",
    "              color=[\"#ACBAAD\", \"#D0B49F\", \"#9DB6CC\", \"#ab6b51\",\"#ACBAAD\", \"#D0B49F\", \"#9DB6CC\", \"#ab6b51\"])"
   ]
  },
  {
   "cell_type": "code",
   "execution_count": 15,
   "metadata": {},
   "outputs": [],
   "source": [
    "links = dict(source=[0,0,0,0,1,1,1,1,2,2,2,2,3,3,3,3],\n",
    "             target=[4,5,6,7,4,5,6,7,4,5,6,7,4,5,6,7],\n",
    "             value =[9,3,10,4,3,1,5,0,16,11,12,5,1,0,1,1],\n",
    "             color=[\"#ACBAAD\", \"#ACBAAD\", \"#ACBAAD\", \"#ACBAAD\",\n",
    "             \"#D0B49F\", \"#D0B49F\", \"#D0B49F\", \"#D0B49F\", \n",
    "             \"#9DB6CC\", \"#9DB6CC\", \"#9DB6CC\", \"#9DB6CC\", \"#ab6b51\", \"#ab6b51\",\"#ab6b51\",\"#ab6b51\"])"
   ]
  },
  {
   "cell_type": "code",
   "execution_count": 16,
   "metadata": {},
   "outputs": [],
   "source": [
    "layout = dict(font=dict(size=14),\n",
    "              width=470,\n",
    "              height=500,\n",
    "              margin=dict(l=50, r=50, b=50, t=50),\n",
    "              paper_bgcolor=\"white\",\n",
    "              plot_bgcolor=\"white\")"
   ]
  },
  {
   "cell_type": "code",
   "execution_count": 17,
   "metadata": {},
   "outputs": [
    {
     "data": {
      "application/vnd.plotly.v1+json": {
       "config": {
        "plotlyServerURL": "https://plot.ly"
       },
       "data": [
        {
         "arrangement": "snap",
         "link": {
          "color": [
           "#ACBAAD",
           "#ACBAAD",
           "#ACBAAD",
           "#ACBAAD",
           "#D0B49F",
           "#D0B49F",
           "#D0B49F",
           "#D0B49F",
           "#9DB6CC",
           "#9DB6CC",
           "#9DB6CC",
           "#9DB6CC",
           "#ab6b51",
           "#ab6b51",
           "#ab6b51",
           "#ab6b51"
          ],
          "source": [
           0,
           0,
           0,
           0,
           1,
           1,
           1,
           1,
           2,
           2,
           2,
           2,
           3,
           3,
           3,
           3
          ],
          "target": [
           4,
           5,
           6,
           7,
           4,
           5,
           6,
           7,
           4,
           5,
           6,
           7,
           4,
           5,
           6,
           7
          ],
          "value": [
           9,
           3,
           10,
           4,
           3,
           1,
           5,
           0,
           16,
           11,
           12,
           5,
           1,
           0,
           1,
           1
          ]
         },
         "node": {
          "color": [
           "#ACBAAD",
           "#D0B49F",
           "#9DB6CC",
           "#ab6b51",
           "#ACBAAD",
           "#D0B49F",
           "#9DB6CC",
           "#ab6b51"
          ],
          "label": [
           "Theoretical (26)",
           "Experimental (9)",
           "Balanced (44)",
           "None (3)",
           "Theoretical (29)",
           "Experimental (15)",
           "Balanced (28)",
           "None (10)"
          ],
          "line": {
           "color": "black",
           "width": 0.5
          },
          "pad": 15,
          "thickness": 20,
          "x": [
           0.001,
           0.001,
           0.001,
           0.001,
           0.999,
           0.999,
           0.999,
           0.999
          ],
          "y": [
           0.001,
           0.2631578947368421,
           0.5614035087719298,
           0.6666666666666666,
           0.001,
           0.2631578947368421,
           0.45614035087719296,
           0.7543859649122807
          ]
         },
         "textfont": {
          "color": "black"
         },
         "type": "sankey"
        }
       ],
       "layout": {
        "font": {
         "size": 14
        },
        "height": 500,
        "margin": {
         "b": 50,
         "l": 50,
         "r": 50,
         "t": 50
        },
        "paper_bgcolor": "white",
        "plot_bgcolor": "white",
        "template": {
         "data": {
          "bar": [
           {
            "error_x": {
             "color": "#2a3f5f"
            },
            "error_y": {
             "color": "#2a3f5f"
            },
            "marker": {
             "line": {
              "color": "#E5ECF6",
              "width": 0.5
             },
             "pattern": {
              "fillmode": "overlay",
              "size": 10,
              "solidity": 0.2
             }
            },
            "type": "bar"
           }
          ],
          "barpolar": [
           {
            "marker": {
             "line": {
              "color": "#E5ECF6",
              "width": 0.5
             },
             "pattern": {
              "fillmode": "overlay",
              "size": 10,
              "solidity": 0.2
             }
            },
            "type": "barpolar"
           }
          ],
          "carpet": [
           {
            "aaxis": {
             "endlinecolor": "#2a3f5f",
             "gridcolor": "white",
             "linecolor": "white",
             "minorgridcolor": "white",
             "startlinecolor": "#2a3f5f"
            },
            "baxis": {
             "endlinecolor": "#2a3f5f",
             "gridcolor": "white",
             "linecolor": "white",
             "minorgridcolor": "white",
             "startlinecolor": "#2a3f5f"
            },
            "type": "carpet"
           }
          ],
          "choropleth": [
           {
            "colorbar": {
             "outlinewidth": 0,
             "ticks": ""
            },
            "type": "choropleth"
           }
          ],
          "contour": [
           {
            "colorbar": {
             "outlinewidth": 0,
             "ticks": ""
            },
            "colorscale": [
             [
              0,
              "#0d0887"
             ],
             [
              0.1111111111111111,
              "#46039f"
             ],
             [
              0.2222222222222222,
              "#7201a8"
             ],
             [
              0.3333333333333333,
              "#9c179e"
             ],
             [
              0.4444444444444444,
              "#bd3786"
             ],
             [
              0.5555555555555556,
              "#d8576b"
             ],
             [
              0.6666666666666666,
              "#ed7953"
             ],
             [
              0.7777777777777778,
              "#fb9f3a"
             ],
             [
              0.8888888888888888,
              "#fdca26"
             ],
             [
              1,
              "#f0f921"
             ]
            ],
            "type": "contour"
           }
          ],
          "contourcarpet": [
           {
            "colorbar": {
             "outlinewidth": 0,
             "ticks": ""
            },
            "type": "contourcarpet"
           }
          ],
          "heatmap": [
           {
            "colorbar": {
             "outlinewidth": 0,
             "ticks": ""
            },
            "colorscale": [
             [
              0,
              "#0d0887"
             ],
             [
              0.1111111111111111,
              "#46039f"
             ],
             [
              0.2222222222222222,
              "#7201a8"
             ],
             [
              0.3333333333333333,
              "#9c179e"
             ],
             [
              0.4444444444444444,
              "#bd3786"
             ],
             [
              0.5555555555555556,
              "#d8576b"
             ],
             [
              0.6666666666666666,
              "#ed7953"
             ],
             [
              0.7777777777777778,
              "#fb9f3a"
             ],
             [
              0.8888888888888888,
              "#fdca26"
             ],
             [
              1,
              "#f0f921"
             ]
            ],
            "type": "heatmap"
           }
          ],
          "heatmapgl": [
           {
            "colorbar": {
             "outlinewidth": 0,
             "ticks": ""
            },
            "colorscale": [
             [
              0,
              "#0d0887"
             ],
             [
              0.1111111111111111,
              "#46039f"
             ],
             [
              0.2222222222222222,
              "#7201a8"
             ],
             [
              0.3333333333333333,
              "#9c179e"
             ],
             [
              0.4444444444444444,
              "#bd3786"
             ],
             [
              0.5555555555555556,
              "#d8576b"
             ],
             [
              0.6666666666666666,
              "#ed7953"
             ],
             [
              0.7777777777777778,
              "#fb9f3a"
             ],
             [
              0.8888888888888888,
              "#fdca26"
             ],
             [
              1,
              "#f0f921"
             ]
            ],
            "type": "heatmapgl"
           }
          ],
          "histogram": [
           {
            "marker": {
             "pattern": {
              "fillmode": "overlay",
              "size": 10,
              "solidity": 0.2
             }
            },
            "type": "histogram"
           }
          ],
          "histogram2d": [
           {
            "colorbar": {
             "outlinewidth": 0,
             "ticks": ""
            },
            "colorscale": [
             [
              0,
              "#0d0887"
             ],
             [
              0.1111111111111111,
              "#46039f"
             ],
             [
              0.2222222222222222,
              "#7201a8"
             ],
             [
              0.3333333333333333,
              "#9c179e"
             ],
             [
              0.4444444444444444,
              "#bd3786"
             ],
             [
              0.5555555555555556,
              "#d8576b"
             ],
             [
              0.6666666666666666,
              "#ed7953"
             ],
             [
              0.7777777777777778,
              "#fb9f3a"
             ],
             [
              0.8888888888888888,
              "#fdca26"
             ],
             [
              1,
              "#f0f921"
             ]
            ],
            "type": "histogram2d"
           }
          ],
          "histogram2dcontour": [
           {
            "colorbar": {
             "outlinewidth": 0,
             "ticks": ""
            },
            "colorscale": [
             [
              0,
              "#0d0887"
             ],
             [
              0.1111111111111111,
              "#46039f"
             ],
             [
              0.2222222222222222,
              "#7201a8"
             ],
             [
              0.3333333333333333,
              "#9c179e"
             ],
             [
              0.4444444444444444,
              "#bd3786"
             ],
             [
              0.5555555555555556,
              "#d8576b"
             ],
             [
              0.6666666666666666,
              "#ed7953"
             ],
             [
              0.7777777777777778,
              "#fb9f3a"
             ],
             [
              0.8888888888888888,
              "#fdca26"
             ],
             [
              1,
              "#f0f921"
             ]
            ],
            "type": "histogram2dcontour"
           }
          ],
          "mesh3d": [
           {
            "colorbar": {
             "outlinewidth": 0,
             "ticks": ""
            },
            "type": "mesh3d"
           }
          ],
          "parcoords": [
           {
            "line": {
             "colorbar": {
              "outlinewidth": 0,
              "ticks": ""
             }
            },
            "type": "parcoords"
           }
          ],
          "pie": [
           {
            "automargin": true,
            "type": "pie"
           }
          ],
          "scatter": [
           {
            "fillpattern": {
             "fillmode": "overlay",
             "size": 10,
             "solidity": 0.2
            },
            "type": "scatter"
           }
          ],
          "scatter3d": [
           {
            "line": {
             "colorbar": {
              "outlinewidth": 0,
              "ticks": ""
             }
            },
            "marker": {
             "colorbar": {
              "outlinewidth": 0,
              "ticks": ""
             }
            },
            "type": "scatter3d"
           }
          ],
          "scattercarpet": [
           {
            "marker": {
             "colorbar": {
              "outlinewidth": 0,
              "ticks": ""
             }
            },
            "type": "scattercarpet"
           }
          ],
          "scattergeo": [
           {
            "marker": {
             "colorbar": {
              "outlinewidth": 0,
              "ticks": ""
             }
            },
            "type": "scattergeo"
           }
          ],
          "scattergl": [
           {
            "marker": {
             "colorbar": {
              "outlinewidth": 0,
              "ticks": ""
             }
            },
            "type": "scattergl"
           }
          ],
          "scattermapbox": [
           {
            "marker": {
             "colorbar": {
              "outlinewidth": 0,
              "ticks": ""
             }
            },
            "type": "scattermapbox"
           }
          ],
          "scatterpolar": [
           {
            "marker": {
             "colorbar": {
              "outlinewidth": 0,
              "ticks": ""
             }
            },
            "type": "scatterpolar"
           }
          ],
          "scatterpolargl": [
           {
            "marker": {
             "colorbar": {
              "outlinewidth": 0,
              "ticks": ""
             }
            },
            "type": "scatterpolargl"
           }
          ],
          "scatterternary": [
           {
            "marker": {
             "colorbar": {
              "outlinewidth": 0,
              "ticks": ""
             }
            },
            "type": "scatterternary"
           }
          ],
          "surface": [
           {
            "colorbar": {
             "outlinewidth": 0,
             "ticks": ""
            },
            "colorscale": [
             [
              0,
              "#0d0887"
             ],
             [
              0.1111111111111111,
              "#46039f"
             ],
             [
              0.2222222222222222,
              "#7201a8"
             ],
             [
              0.3333333333333333,
              "#9c179e"
             ],
             [
              0.4444444444444444,
              "#bd3786"
             ],
             [
              0.5555555555555556,
              "#d8576b"
             ],
             [
              0.6666666666666666,
              "#ed7953"
             ],
             [
              0.7777777777777778,
              "#fb9f3a"
             ],
             [
              0.8888888888888888,
              "#fdca26"
             ],
             [
              1,
              "#f0f921"
             ]
            ],
            "type": "surface"
           }
          ],
          "table": [
           {
            "cells": {
             "fill": {
              "color": "#EBF0F8"
             },
             "line": {
              "color": "white"
             }
            },
            "header": {
             "fill": {
              "color": "#C8D4E3"
             },
             "line": {
              "color": "white"
             }
            },
            "type": "table"
           }
          ]
         },
         "layout": {
          "annotationdefaults": {
           "arrowcolor": "#2a3f5f",
           "arrowhead": 0,
           "arrowwidth": 1
          },
          "autotypenumbers": "strict",
          "coloraxis": {
           "colorbar": {
            "outlinewidth": 0,
            "ticks": ""
           }
          },
          "colorscale": {
           "diverging": [
            [
             0,
             "#8e0152"
            ],
            [
             0.1,
             "#c51b7d"
            ],
            [
             0.2,
             "#de77ae"
            ],
            [
             0.3,
             "#f1b6da"
            ],
            [
             0.4,
             "#fde0ef"
            ],
            [
             0.5,
             "#f7f7f7"
            ],
            [
             0.6,
             "#e6f5d0"
            ],
            [
             0.7,
             "#b8e186"
            ],
            [
             0.8,
             "#7fbc41"
            ],
            [
             0.9,
             "#4d9221"
            ],
            [
             1,
             "#276419"
            ]
           ],
           "sequential": [
            [
             0,
             "#0d0887"
            ],
            [
             0.1111111111111111,
             "#46039f"
            ],
            [
             0.2222222222222222,
             "#7201a8"
            ],
            [
             0.3333333333333333,
             "#9c179e"
            ],
            [
             0.4444444444444444,
             "#bd3786"
            ],
            [
             0.5555555555555556,
             "#d8576b"
            ],
            [
             0.6666666666666666,
             "#ed7953"
            ],
            [
             0.7777777777777778,
             "#fb9f3a"
            ],
            [
             0.8888888888888888,
             "#fdca26"
            ],
            [
             1,
             "#f0f921"
            ]
           ],
           "sequentialminus": [
            [
             0,
             "#0d0887"
            ],
            [
             0.1111111111111111,
             "#46039f"
            ],
            [
             0.2222222222222222,
             "#7201a8"
            ],
            [
             0.3333333333333333,
             "#9c179e"
            ],
            [
             0.4444444444444444,
             "#bd3786"
            ],
            [
             0.5555555555555556,
             "#d8576b"
            ],
            [
             0.6666666666666666,
             "#ed7953"
            ],
            [
             0.7777777777777778,
             "#fb9f3a"
            ],
            [
             0.8888888888888888,
             "#fdca26"
            ],
            [
             1,
             "#f0f921"
            ]
           ]
          },
          "colorway": [
           "#636efa",
           "#EF553B",
           "#00cc96",
           "#ab63fa",
           "#FFA15A",
           "#19d3f3",
           "#FF6692",
           "#B6E880",
           "#FF97FF",
           "#FECB52"
          ],
          "font": {
           "color": "#2a3f5f"
          },
          "geo": {
           "bgcolor": "white",
           "lakecolor": "white",
           "landcolor": "#E5ECF6",
           "showlakes": true,
           "showland": true,
           "subunitcolor": "white"
          },
          "hoverlabel": {
           "align": "left"
          },
          "hovermode": "closest",
          "mapbox": {
           "style": "light"
          },
          "paper_bgcolor": "white",
          "plot_bgcolor": "#E5ECF6",
          "polar": {
           "angularaxis": {
            "gridcolor": "white",
            "linecolor": "white",
            "ticks": ""
           },
           "bgcolor": "#E5ECF6",
           "radialaxis": {
            "gridcolor": "white",
            "linecolor": "white",
            "ticks": ""
           }
          },
          "scene": {
           "xaxis": {
            "backgroundcolor": "#E5ECF6",
            "gridcolor": "white",
            "gridwidth": 2,
            "linecolor": "white",
            "showbackground": true,
            "ticks": "",
            "zerolinecolor": "white"
           },
           "yaxis": {
            "backgroundcolor": "#E5ECF6",
            "gridcolor": "white",
            "gridwidth": 2,
            "linecolor": "white",
            "showbackground": true,
            "ticks": "",
            "zerolinecolor": "white"
           },
           "zaxis": {
            "backgroundcolor": "#E5ECF6",
            "gridcolor": "white",
            "gridwidth": 2,
            "linecolor": "white",
            "showbackground": true,
            "ticks": "",
            "zerolinecolor": "white"
           }
          },
          "shapedefaults": {
           "line": {
            "color": "#2a3f5f"
           }
          },
          "ternary": {
           "aaxis": {
            "gridcolor": "white",
            "linecolor": "white",
            "ticks": ""
           },
           "baxis": {
            "gridcolor": "white",
            "linecolor": "white",
            "ticks": ""
           },
           "bgcolor": "#E5ECF6",
           "caxis": {
            "gridcolor": "white",
            "linecolor": "white",
            "ticks": ""
           }
          },
          "title": {
           "x": 0.05
          },
          "xaxis": {
           "automargin": true,
           "gridcolor": "white",
           "linecolor": "white",
           "ticks": "",
           "title": {
            "standoff": 15
           },
           "zerolinecolor": "white",
           "zerolinewidth": 2
          },
          "yaxis": {
           "automargin": true,
           "gridcolor": "white",
           "linecolor": "white",
           "ticks": "",
           "title": {
            "standoff": 15
           },
           "zerolinecolor": "white",
           "zerolinewidth": 2
          }
         }
        },
        "width": 470
       }
      }
     },
     "metadata": {},
     "output_type": "display_data"
    }
   ],
   "source": [
    "# Create the Sankey diagram\n",
    "fig = go.Figure(data=[go.Sankey(arrangement = 'snap', node=nodes, link=links)],\n",
    "                 layout=layout)\n",
    "\n",
    "\n",
    "fig.update_traces(textfont=dict(color='black'))\n",
    "fig.write_image('outputs/sankey/ReasoningLevel.png', scale = 10)\n",
    "\n",
    "#Show the diagram\n",
    "fig.show()"
   ]
  },
  {
   "attachments": {},
   "cell_type": "markdown",
   "metadata": {},
   "source": [
    "## Argument Level"
   ]
  },
  {
   "cell_type": "code",
   "execution_count": 18,
   "metadata": {},
   "outputs": [],
   "source": [
    "# Define the nodes and links of the diagram\n",
    "nodes1 = dict(pad=15,thickness=20,\n",
    "             line=dict(color=\"black\", width=0.5),\n",
    "             label=[\"Y1-Superficial (34)\", \"Y1-Extended (24)\", \"Y1-Deep (14)\", \n",
    "                    \"Y1-Prediction (2)\", \"Y1-Expert (8)\", \"Y2-Superficial (28)\",\n",
    "                     \"Y2-Extended (25)\", \"Y2-Deep (15)\", \"Y2-Prediction (6)\", \"Y1-Expert (8)\"],\n",
    "             x = [0.001, 0.001, 0.001, 0.001, 0.001, 0.999, 0.999, 0.999, 0.999, 0.999],\n",
    "             y = [0.001, 75/285, 160/285, 190/285, 210/285, 0.001, 75/285, 130/285, 215/285, 250/285], \n",
    "              color=[\"#ACBAAD\", \"#D0B49F\", \"#9DB6CC\", \"#ab6b51\", \"#B7A1A6\",\"#ACBAAD\", \"#D0B49F\", \"#9DB6CC\", \"#ab6b51\", \"#B7A1A6\"])"
   ]
  },
  {
   "cell_type": "code",
   "execution_count": 19,
   "metadata": {},
   "outputs": [],
   "source": [
    "links1 = dict(source=[0,0,0,0,0,1,1,1,1,1,2,2,2,2,2,3,3,3,3,3,4,4,4,4,4,],\n",
    "             target=[5,6,7,8,9,5,6,7,8,9,5,6,7,8,9, 5,6,7,8,9, 5,6,7,8,9,],\n",
    "             value=[12,9,6,2,5,9,9,4,2,0,4,7,2,1,0,0,0,1,0,1,3,0,2,1,2,],\n",
    "             color=[\"#ACBAAD\", \"#ACBAAD\", \"#ACBAAD\", \"#ACBAAD\",\"#ACBAAD\",\"#D0B49F\",\n",
    "                     \"#D0B49F\", \"#D0B49F\", \"#D0B49F\", \"#D0B49F\", \"#9DB6CC\",\n",
    "                     \"#9DB6CC\", \"#9DB6CC\", \"#9DB6CC\", \"#9DB6CC\", \"#ab6b51\",\n",
    "                     \"#ab6b51\",\"#ab6b51\",\"#ab6b51\", \"#ab6b51\",\"#B7A1A6\",\n",
    "                       \"#B7A1A6\",\"#B7A1A6\",\"#B7A1A6\", \"#B7A1A6\"])"
   ]
  },
  {
   "cell_type": "code",
   "execution_count": 20,
   "metadata": {},
   "outputs": [
    {
     "data": {
      "application/vnd.plotly.v1+json": {
       "config": {
        "plotlyServerURL": "https://plot.ly"
       },
       "data": [
        {
         "arrangement": "snap",
         "link": {
          "color": [
           "#ACBAAD",
           "#ACBAAD",
           "#ACBAAD",
           "#ACBAAD",
           "#ACBAAD",
           "#D0B49F",
           "#D0B49F",
           "#D0B49F",
           "#D0B49F",
           "#D0B49F",
           "#9DB6CC",
           "#9DB6CC",
           "#9DB6CC",
           "#9DB6CC",
           "#9DB6CC",
           "#ab6b51",
           "#ab6b51",
           "#ab6b51",
           "#ab6b51",
           "#ab6b51",
           "#B7A1A6",
           "#B7A1A6",
           "#B7A1A6",
           "#B7A1A6",
           "#B7A1A6"
          ],
          "source": [
           0,
           0,
           0,
           0,
           0,
           1,
           1,
           1,
           1,
           1,
           2,
           2,
           2,
           2,
           2,
           3,
           3,
           3,
           3,
           3,
           4,
           4,
           4,
           4,
           4
          ],
          "target": [
           5,
           6,
           7,
           8,
           9,
           5,
           6,
           7,
           8,
           9,
           5,
           6,
           7,
           8,
           9,
           5,
           6,
           7,
           8,
           9,
           5,
           6,
           7,
           8,
           9
          ],
          "value": [
           12,
           9,
           6,
           2,
           5,
           9,
           9,
           4,
           2,
           0,
           4,
           7,
           2,
           1,
           0,
           0,
           0,
           1,
           0,
           1,
           3,
           0,
           2,
           1,
           2
          ]
         },
         "node": {
          "color": [
           "#ACBAAD",
           "#D0B49F",
           "#9DB6CC",
           "#ab6b51",
           "#B7A1A6",
           "#ACBAAD",
           "#D0B49F",
           "#9DB6CC",
           "#ab6b51",
           "#B7A1A6"
          ],
          "label": [
           "Y1-Superficial (34)",
           "Y1-Extended (24)",
           "Y1-Deep (14)",
           "Y1-Prediction (2)",
           "Y1-Expert (8)",
           "Y2-Superficial (28)",
           "Y2-Extended (25)",
           "Y2-Deep (15)",
           "Y2-Prediction (6)",
           "Y1-Expert (8)"
          ],
          "line": {
           "color": "black",
           "width": 0.5
          },
          "pad": 15,
          "thickness": 20,
          "x": [
           0.001,
           0.001,
           0.001,
           0.001,
           0.001,
           0.999,
           0.999,
           0.999,
           0.999,
           0.999
          ],
          "y": [
           0.001,
           0.2631578947368421,
           0.5614035087719298,
           0.6666666666666666,
           0.7368421052631579,
           0.001,
           0.2631578947368421,
           0.45614035087719296,
           0.7543859649122807,
           0.8771929824561403
          ]
         },
         "textfont": {
          "color": "black"
         },
         "type": "sankey"
        }
       ],
       "layout": {
        "font": {
         "size": 14
        },
        "height": 500,
        "margin": {
         "b": 50,
         "l": 50,
         "r": 50,
         "t": 50
        },
        "paper_bgcolor": "white",
        "plot_bgcolor": "white",
        "template": {
         "data": {
          "bar": [
           {
            "error_x": {
             "color": "#2a3f5f"
            },
            "error_y": {
             "color": "#2a3f5f"
            },
            "marker": {
             "line": {
              "color": "#E5ECF6",
              "width": 0.5
             },
             "pattern": {
              "fillmode": "overlay",
              "size": 10,
              "solidity": 0.2
             }
            },
            "type": "bar"
           }
          ],
          "barpolar": [
           {
            "marker": {
             "line": {
              "color": "#E5ECF6",
              "width": 0.5
             },
             "pattern": {
              "fillmode": "overlay",
              "size": 10,
              "solidity": 0.2
             }
            },
            "type": "barpolar"
           }
          ],
          "carpet": [
           {
            "aaxis": {
             "endlinecolor": "#2a3f5f",
             "gridcolor": "white",
             "linecolor": "white",
             "minorgridcolor": "white",
             "startlinecolor": "#2a3f5f"
            },
            "baxis": {
             "endlinecolor": "#2a3f5f",
             "gridcolor": "white",
             "linecolor": "white",
             "minorgridcolor": "white",
             "startlinecolor": "#2a3f5f"
            },
            "type": "carpet"
           }
          ],
          "choropleth": [
           {
            "colorbar": {
             "outlinewidth": 0,
             "ticks": ""
            },
            "type": "choropleth"
           }
          ],
          "contour": [
           {
            "colorbar": {
             "outlinewidth": 0,
             "ticks": ""
            },
            "colorscale": [
             [
              0,
              "#0d0887"
             ],
             [
              0.1111111111111111,
              "#46039f"
             ],
             [
              0.2222222222222222,
              "#7201a8"
             ],
             [
              0.3333333333333333,
              "#9c179e"
             ],
             [
              0.4444444444444444,
              "#bd3786"
             ],
             [
              0.5555555555555556,
              "#d8576b"
             ],
             [
              0.6666666666666666,
              "#ed7953"
             ],
             [
              0.7777777777777778,
              "#fb9f3a"
             ],
             [
              0.8888888888888888,
              "#fdca26"
             ],
             [
              1,
              "#f0f921"
             ]
            ],
            "type": "contour"
           }
          ],
          "contourcarpet": [
           {
            "colorbar": {
             "outlinewidth": 0,
             "ticks": ""
            },
            "type": "contourcarpet"
           }
          ],
          "heatmap": [
           {
            "colorbar": {
             "outlinewidth": 0,
             "ticks": ""
            },
            "colorscale": [
             [
              0,
              "#0d0887"
             ],
             [
              0.1111111111111111,
              "#46039f"
             ],
             [
              0.2222222222222222,
              "#7201a8"
             ],
             [
              0.3333333333333333,
              "#9c179e"
             ],
             [
              0.4444444444444444,
              "#bd3786"
             ],
             [
              0.5555555555555556,
              "#d8576b"
             ],
             [
              0.6666666666666666,
              "#ed7953"
             ],
             [
              0.7777777777777778,
              "#fb9f3a"
             ],
             [
              0.8888888888888888,
              "#fdca26"
             ],
             [
              1,
              "#f0f921"
             ]
            ],
            "type": "heatmap"
           }
          ],
          "heatmapgl": [
           {
            "colorbar": {
             "outlinewidth": 0,
             "ticks": ""
            },
            "colorscale": [
             [
              0,
              "#0d0887"
             ],
             [
              0.1111111111111111,
              "#46039f"
             ],
             [
              0.2222222222222222,
              "#7201a8"
             ],
             [
              0.3333333333333333,
              "#9c179e"
             ],
             [
              0.4444444444444444,
              "#bd3786"
             ],
             [
              0.5555555555555556,
              "#d8576b"
             ],
             [
              0.6666666666666666,
              "#ed7953"
             ],
             [
              0.7777777777777778,
              "#fb9f3a"
             ],
             [
              0.8888888888888888,
              "#fdca26"
             ],
             [
              1,
              "#f0f921"
             ]
            ],
            "type": "heatmapgl"
           }
          ],
          "histogram": [
           {
            "marker": {
             "pattern": {
              "fillmode": "overlay",
              "size": 10,
              "solidity": 0.2
             }
            },
            "type": "histogram"
           }
          ],
          "histogram2d": [
           {
            "colorbar": {
             "outlinewidth": 0,
             "ticks": ""
            },
            "colorscale": [
             [
              0,
              "#0d0887"
             ],
             [
              0.1111111111111111,
              "#46039f"
             ],
             [
              0.2222222222222222,
              "#7201a8"
             ],
             [
              0.3333333333333333,
              "#9c179e"
             ],
             [
              0.4444444444444444,
              "#bd3786"
             ],
             [
              0.5555555555555556,
              "#d8576b"
             ],
             [
              0.6666666666666666,
              "#ed7953"
             ],
             [
              0.7777777777777778,
              "#fb9f3a"
             ],
             [
              0.8888888888888888,
              "#fdca26"
             ],
             [
              1,
              "#f0f921"
             ]
            ],
            "type": "histogram2d"
           }
          ],
          "histogram2dcontour": [
           {
            "colorbar": {
             "outlinewidth": 0,
             "ticks": ""
            },
            "colorscale": [
             [
              0,
              "#0d0887"
             ],
             [
              0.1111111111111111,
              "#46039f"
             ],
             [
              0.2222222222222222,
              "#7201a8"
             ],
             [
              0.3333333333333333,
              "#9c179e"
             ],
             [
              0.4444444444444444,
              "#bd3786"
             ],
             [
              0.5555555555555556,
              "#d8576b"
             ],
             [
              0.6666666666666666,
              "#ed7953"
             ],
             [
              0.7777777777777778,
              "#fb9f3a"
             ],
             [
              0.8888888888888888,
              "#fdca26"
             ],
             [
              1,
              "#f0f921"
             ]
            ],
            "type": "histogram2dcontour"
           }
          ],
          "mesh3d": [
           {
            "colorbar": {
             "outlinewidth": 0,
             "ticks": ""
            },
            "type": "mesh3d"
           }
          ],
          "parcoords": [
           {
            "line": {
             "colorbar": {
              "outlinewidth": 0,
              "ticks": ""
             }
            },
            "type": "parcoords"
           }
          ],
          "pie": [
           {
            "automargin": true,
            "type": "pie"
           }
          ],
          "scatter": [
           {
            "fillpattern": {
             "fillmode": "overlay",
             "size": 10,
             "solidity": 0.2
            },
            "type": "scatter"
           }
          ],
          "scatter3d": [
           {
            "line": {
             "colorbar": {
              "outlinewidth": 0,
              "ticks": ""
             }
            },
            "marker": {
             "colorbar": {
              "outlinewidth": 0,
              "ticks": ""
             }
            },
            "type": "scatter3d"
           }
          ],
          "scattercarpet": [
           {
            "marker": {
             "colorbar": {
              "outlinewidth": 0,
              "ticks": ""
             }
            },
            "type": "scattercarpet"
           }
          ],
          "scattergeo": [
           {
            "marker": {
             "colorbar": {
              "outlinewidth": 0,
              "ticks": ""
             }
            },
            "type": "scattergeo"
           }
          ],
          "scattergl": [
           {
            "marker": {
             "colorbar": {
              "outlinewidth": 0,
              "ticks": ""
             }
            },
            "type": "scattergl"
           }
          ],
          "scattermapbox": [
           {
            "marker": {
             "colorbar": {
              "outlinewidth": 0,
              "ticks": ""
             }
            },
            "type": "scattermapbox"
           }
          ],
          "scatterpolar": [
           {
            "marker": {
             "colorbar": {
              "outlinewidth": 0,
              "ticks": ""
             }
            },
            "type": "scatterpolar"
           }
          ],
          "scatterpolargl": [
           {
            "marker": {
             "colorbar": {
              "outlinewidth": 0,
              "ticks": ""
             }
            },
            "type": "scatterpolargl"
           }
          ],
          "scatterternary": [
           {
            "marker": {
             "colorbar": {
              "outlinewidth": 0,
              "ticks": ""
             }
            },
            "type": "scatterternary"
           }
          ],
          "surface": [
           {
            "colorbar": {
             "outlinewidth": 0,
             "ticks": ""
            },
            "colorscale": [
             [
              0,
              "#0d0887"
             ],
             [
              0.1111111111111111,
              "#46039f"
             ],
             [
              0.2222222222222222,
              "#7201a8"
             ],
             [
              0.3333333333333333,
              "#9c179e"
             ],
             [
              0.4444444444444444,
              "#bd3786"
             ],
             [
              0.5555555555555556,
              "#d8576b"
             ],
             [
              0.6666666666666666,
              "#ed7953"
             ],
             [
              0.7777777777777778,
              "#fb9f3a"
             ],
             [
              0.8888888888888888,
              "#fdca26"
             ],
             [
              1,
              "#f0f921"
             ]
            ],
            "type": "surface"
           }
          ],
          "table": [
           {
            "cells": {
             "fill": {
              "color": "#EBF0F8"
             },
             "line": {
              "color": "white"
             }
            },
            "header": {
             "fill": {
              "color": "#C8D4E3"
             },
             "line": {
              "color": "white"
             }
            },
            "type": "table"
           }
          ]
         },
         "layout": {
          "annotationdefaults": {
           "arrowcolor": "#2a3f5f",
           "arrowhead": 0,
           "arrowwidth": 1
          },
          "autotypenumbers": "strict",
          "coloraxis": {
           "colorbar": {
            "outlinewidth": 0,
            "ticks": ""
           }
          },
          "colorscale": {
           "diverging": [
            [
             0,
             "#8e0152"
            ],
            [
             0.1,
             "#c51b7d"
            ],
            [
             0.2,
             "#de77ae"
            ],
            [
             0.3,
             "#f1b6da"
            ],
            [
             0.4,
             "#fde0ef"
            ],
            [
             0.5,
             "#f7f7f7"
            ],
            [
             0.6,
             "#e6f5d0"
            ],
            [
             0.7,
             "#b8e186"
            ],
            [
             0.8,
             "#7fbc41"
            ],
            [
             0.9,
             "#4d9221"
            ],
            [
             1,
             "#276419"
            ]
           ],
           "sequential": [
            [
             0,
             "#0d0887"
            ],
            [
             0.1111111111111111,
             "#46039f"
            ],
            [
             0.2222222222222222,
             "#7201a8"
            ],
            [
             0.3333333333333333,
             "#9c179e"
            ],
            [
             0.4444444444444444,
             "#bd3786"
            ],
            [
             0.5555555555555556,
             "#d8576b"
            ],
            [
             0.6666666666666666,
             "#ed7953"
            ],
            [
             0.7777777777777778,
             "#fb9f3a"
            ],
            [
             0.8888888888888888,
             "#fdca26"
            ],
            [
             1,
             "#f0f921"
            ]
           ],
           "sequentialminus": [
            [
             0,
             "#0d0887"
            ],
            [
             0.1111111111111111,
             "#46039f"
            ],
            [
             0.2222222222222222,
             "#7201a8"
            ],
            [
             0.3333333333333333,
             "#9c179e"
            ],
            [
             0.4444444444444444,
             "#bd3786"
            ],
            [
             0.5555555555555556,
             "#d8576b"
            ],
            [
             0.6666666666666666,
             "#ed7953"
            ],
            [
             0.7777777777777778,
             "#fb9f3a"
            ],
            [
             0.8888888888888888,
             "#fdca26"
            ],
            [
             1,
             "#f0f921"
            ]
           ]
          },
          "colorway": [
           "#636efa",
           "#EF553B",
           "#00cc96",
           "#ab63fa",
           "#FFA15A",
           "#19d3f3",
           "#FF6692",
           "#B6E880",
           "#FF97FF",
           "#FECB52"
          ],
          "font": {
           "color": "#2a3f5f"
          },
          "geo": {
           "bgcolor": "white",
           "lakecolor": "white",
           "landcolor": "#E5ECF6",
           "showlakes": true,
           "showland": true,
           "subunitcolor": "white"
          },
          "hoverlabel": {
           "align": "left"
          },
          "hovermode": "closest",
          "mapbox": {
           "style": "light"
          },
          "paper_bgcolor": "white",
          "plot_bgcolor": "#E5ECF6",
          "polar": {
           "angularaxis": {
            "gridcolor": "white",
            "linecolor": "white",
            "ticks": ""
           },
           "bgcolor": "#E5ECF6",
           "radialaxis": {
            "gridcolor": "white",
            "linecolor": "white",
            "ticks": ""
           }
          },
          "scene": {
           "xaxis": {
            "backgroundcolor": "#E5ECF6",
            "gridcolor": "white",
            "gridwidth": 2,
            "linecolor": "white",
            "showbackground": true,
            "ticks": "",
            "zerolinecolor": "white"
           },
           "yaxis": {
            "backgroundcolor": "#E5ECF6",
            "gridcolor": "white",
            "gridwidth": 2,
            "linecolor": "white",
            "showbackground": true,
            "ticks": "",
            "zerolinecolor": "white"
           },
           "zaxis": {
            "backgroundcolor": "#E5ECF6",
            "gridcolor": "white",
            "gridwidth": 2,
            "linecolor": "white",
            "showbackground": true,
            "ticks": "",
            "zerolinecolor": "white"
           }
          },
          "shapedefaults": {
           "line": {
            "color": "#2a3f5f"
           }
          },
          "ternary": {
           "aaxis": {
            "gridcolor": "white",
            "linecolor": "white",
            "ticks": ""
           },
           "baxis": {
            "gridcolor": "white",
            "linecolor": "white",
            "ticks": ""
           },
           "bgcolor": "#E5ECF6",
           "caxis": {
            "gridcolor": "white",
            "linecolor": "white",
            "ticks": ""
           }
          },
          "title": {
           "x": 0.05
          },
          "xaxis": {
           "automargin": true,
           "gridcolor": "white",
           "linecolor": "white",
           "ticks": "",
           "title": {
            "standoff": 15
           },
           "zerolinecolor": "white",
           "zerolinewidth": 2
          },
          "yaxis": {
           "automargin": true,
           "gridcolor": "white",
           "linecolor": "white",
           "ticks": "",
           "title": {
            "standoff": 15
           },
           "zerolinecolor": "white",
           "zerolinewidth": 2
          }
         }
        },
        "width": 470
       }
      }
     },
     "metadata": {},
     "output_type": "display_data"
    }
   ],
   "source": [
    "# # Define the layout of the diagram\n",
    "layout = dict(font=dict(size=14),\n",
    "              width=470,\n",
    "              height=500,\n",
    "              margin=dict(l=50, r=50, b=50, t=50),\n",
    "              paper_bgcolor=\"white\",plot_bgcolor=\"white\")\n",
    "\n",
    "\n",
    "\n",
    "# Create the Sankey diagram\n",
    "fig = go.Figure(data=[go.Sankey(arrangement = 'snap', node=nodes1, link=links1)], layout=layout)\n",
    "fig.update_traces(textfont=dict(color='black'))\n",
    "fig.write_image('outputs/sankey/ArgumentLevel.png', scale = 10)\n",
    "# Show the diagram\n",
    "fig.show()"
   ]
  },
  {
   "attachments": {},
   "cell_type": "markdown",
   "metadata": {},
   "source": [
    "HeatMap"
   ]
  },
  {
   "cell_type": "code",
   "execution_count": 2,
   "metadata": {},
   "outputs": [],
   "source": [
    "import pandas as pd\n",
    "import numpy as np\n",
    "import seaborn\n",
    "import matplotlib.pyplot as plt"
   ]
  },
  {
   "cell_type": "code",
   "execution_count": 6,
   "metadata": {},
   "outputs": [
    {
     "data": {
      "text/html": [
       "<div>\n",
       "<style scoped>\n",
       "    .dataframe tbody tr th:only-of-type {\n",
       "        vertical-align: middle;\n",
       "    }\n",
       "\n",
       "    .dataframe tbody tr th {\n",
       "        vertical-align: top;\n",
       "    }\n",
       "\n",
       "    .dataframe thead th {\n",
       "        text-align: right;\n",
       "    }\n",
       "</style>\n",
       "<table border=\"1\" class=\"dataframe\">\n",
       "  <thead>\n",
       "    <tr style=\"text-align: right;\">\n",
       "      <th></th>\n",
       "      <th>Unnamed: 0</th>\n",
       "      <th>StudentID</th>\n",
       "      <th>Content</th>\n",
       "      <th>ArgumentLevel</th>\n",
       "      <th>ReasoningLevel</th>\n",
       "      <th>GS percent</th>\n",
       "      <th>0</th>\n",
       "      <th>1</th>\n",
       "    </tr>\n",
       "  </thead>\n",
       "  <tbody>\n",
       "    <tr>\n",
       "      <th>0</th>\n",
       "      <td>1</td>\n",
       "      <td>GS_MOX979_Redacted</td>\n",
       "      <td>pectroscopy be the study of the spectrum of li...</td>\n",
       "      <td>superficial</td>\n",
       "      <td>bal</td>\n",
       "      <td>72</td>\n",
       "      <td>0.045177</td>\n",
       "      <td>0.954823</td>\n",
       "    </tr>\n",
       "    <tr>\n",
       "      <th>1</th>\n",
       "      <td>2</td>\n",
       "      <td>GS_WHP087_Redacted</td>\n",
       "      <td>this experiment be conduct to determine the ry...</td>\n",
       "      <td>superficial</td>\n",
       "      <td>bal</td>\n",
       "      <td>53</td>\n",
       "      <td>0.072881</td>\n",
       "      <td>0.927119</td>\n",
       "    </tr>\n",
       "    <tr>\n",
       "      <th>2</th>\n",
       "      <td>3</td>\n",
       "      <td>GS_NPG050_Redacted</td>\n",
       "      <td>the aim of the experiment be to measure the sp...</td>\n",
       "      <td>superficial</td>\n",
       "      <td>bal</td>\n",
       "      <td>64</td>\n",
       "      <td>0.078394</td>\n",
       "      <td>0.921606</td>\n",
       "    </tr>\n",
       "    <tr>\n",
       "      <th>3</th>\n",
       "      <td>4</td>\n",
       "      <td>GS_IHJ555_Redacted</td>\n",
       "      <td>where 𝜆 be the wavelength r ∞ be the rydberg c...</td>\n",
       "      <td>expert</td>\n",
       "      <td>the</td>\n",
       "      <td>61</td>\n",
       "      <td>0.078550</td>\n",
       "      <td>0.921450</td>\n",
       "    </tr>\n",
       "    <tr>\n",
       "      <th>4</th>\n",
       "      <td>5</td>\n",
       "      <td>GS_GXI055_Redacted</td>\n",
       "      <td>he aim of this experiment be to determine a va...</td>\n",
       "      <td>extended</td>\n",
       "      <td>the</td>\n",
       "      <td>63</td>\n",
       "      <td>0.083688</td>\n",
       "      <td>0.916311</td>\n",
       "    </tr>\n",
       "  </tbody>\n",
       "</table>\n",
       "</div>"
      ],
      "text/plain": [
       "   Unnamed: 0           StudentID  \\\n",
       "0           1  GS_MOX979_Redacted   \n",
       "1           2  GS_WHP087_Redacted   \n",
       "2           3  GS_NPG050_Redacted   \n",
       "3           4  GS_IHJ555_Redacted   \n",
       "4           5  GS_GXI055_Redacted   \n",
       "\n",
       "                                             Content ArgumentLevel  \\\n",
       "0  pectroscopy be the study of the spectrum of li...   superficial   \n",
       "1  this experiment be conduct to determine the ry...   superficial   \n",
       "2  the aim of the experiment be to measure the sp...   superficial   \n",
       "3  where 𝜆 be the wavelength r ∞ be the rydberg c...        expert   \n",
       "4  he aim of this experiment be to determine a va...      extended   \n",
       "\n",
       "  ReasoningLevel  GS percent         0         1  \n",
       "0            bal          72  0.045177  0.954823  \n",
       "1            bal          53  0.072881  0.927119  \n",
       "2            bal          64  0.078394  0.921606  \n",
       "3            the          61  0.078550  0.921450  \n",
       "4            the          63  0.083688  0.916311  "
      ]
     },
     "execution_count": 6,
     "metadata": {},
     "output_type": "execute_result"
    }
   ],
   "source": [
    "csv_path_y1 = 'outputs/LDA_weights_grades_df_year1.csv'\n",
    "csv_path_y2 = 'outputs/LDA_weights_grades_df_year2.csv'\n",
    "df_y1 = pd.read_csv(csv_path_y1)\n",
    "df_y2 = pd.read_csv(csv_path_y2)\n",
    "df_y1.head()"
   ]
  },
  {
   "attachments": {},
   "cell_type": "markdown",
   "metadata": {},
   "source": [
    "# YEAR1 Topic Analysis"
   ]
  },
  {
   "cell_type": "code",
   "execution_count": 16,
   "metadata": {},
   "outputs": [
    {
     "name": "stderr",
     "output_type": "stream",
     "text": [
      "No artists with labels found to put in legend.  Note that artists whose label start with an underscore are ignored when legend() is called with no argument.\n"
     ]
    },
    {
     "name": "stdout",
     "output_type": "stream",
     "text": [
      "84 44\n",
      "{44, 45, 47, 48, 49, 51, 53, 55, 57, 58, 59, 60, 61, 62, 63, 64, 65, 66, 67, 68, 69, 71, 72, 73, 74, 75, 77, 80, 81, 84}\n"
     ]
    },
    {
     "data": {
      "text/plain": [
       "<matplotlib.legend.Legend at 0x1394eec10>"
      ]
     },
     "execution_count": 16,
     "metadata": {},
     "output_type": "execute_result"
    },
    {
     "data": {
      "image/png": "[encoded data removed]",
      "text/plain": [
       "<Figure size 640x480 with 2 Axes>"
      ]
     },
     "metadata": {},
     "output_type": "display_data"
    }
   ],
   "source": [
    "# find min and max grades\n",
    "max_grade = max(df_y1['GS percent']) \n",
    "min_grade = min(df_y1['GS percent'])\n",
    "print(max_grade, min_grade) # 决定采用区间 45 - 85, step size 1 \n",
    "\n",
    "# merge grades\n",
    "list_grade = set(sorted(df_y1['GS percent']))\n",
    "print(list_grade)\n",
    "\n",
    "\n",
    "heatmap_x = []\n",
    "heatmap_y_topic0 = []\n",
    "heatmap_y_topic1 = []\n",
    "heatmap_y_sum = []\n",
    "for grade in list_grade: # individual weights\n",
    "    \n",
    "    heatmap_x.append(grade) #heatmap x\n",
    "    \n",
    "    df = df_y1.loc[df_y1['GS percent'] == grade] # reports that has the grade required\n",
    "    row_number = len(df.index)# number of reports\n",
    "    topic_zero_weight = df['0'].sum() \n",
    "    topic_one_weight = df['1'].sum()\n",
    "    \n",
    "    heatmap_y_topic0.append(topic_zero_weight/row_number) # heatmap y - topic0\n",
    "    heatmap_y_topic1.append(topic_one_weight/row_number)  # heatmap y - topic1\n",
    "    heatmap_y_sum.append( (topic_zero_weight*(-1)+topic_one_weight)/ row_number ) # heatmap y - both topics\n",
    "    \n",
    "\n",
    "fig, ax = plt.subplots()\n",
    "seaborn.heatmap([heatmap_y_sum])\n",
    "\n",
    "# plt.scatter(heatmap_x,heatmap_y_topic0, label = 'topic0')\n",
    "# plt.scatter(heatmap_x,heatmap_y_topic1, label = 'topic1')\n",
    "# plt.scatter(heatmap_x,heatmap_y_sum, label = 'both')\n",
    "plt.legend()\n",
    "\n",
    "\n"
   ]
  },
  {
   "cell_type": "code",
   "execution_count": 21,
   "metadata": {},
   "outputs": [
    {
     "data": {
      "image/png": "[encoded data removed]",
      "text/plain": [
       "<Figure size 640x480 with 2 Axes>"
      ]
     },
     "metadata": {},
     "output_type": "display_data"
    }
   ],
   "source": [
    "range_grade = np.arange(40, 90, 5) # [40 45 50 55 60 65 70 75 80 85 90]\n",
    "\n",
    "heatmap_x = []\n",
    "heatmap_y_topic0 = []\n",
    "heatmap_y_topic1 = []\n",
    "heatmap_y_sum = []\n",
    "\n",
    "for i, grade in enumerate(range_grade): # combined weights\n",
    "    if i ==9:\n",
    "        break\n",
    "    heatmap_x.append( np.sum(range_grade[i] + range_grade[i+1])/2 ) #heatmap x\n",
    "    \n",
    "    df = df_y1.loc[(df_y1['GS percent'] >= range_grade[i]) & (df_y1['GS percent'] < range_grade[i+1])] # reports that has the grade required\n",
    "    \n",
    "    row_number = len(df.index)# number of reports\n",
    "    topic_zero_weight = df['0'].sum() \n",
    "    topic_one_weight = df['1'].sum()\n",
    "    \n",
    "    heatmap_y_topic0.append(topic_zero_weight/row_number) # heatmap y - topic0\n",
    "    heatmap_y_topic1.append(topic_one_weight/row_number)  # heatmap y - topic1\n",
    "    heatmap_y_sum.append( (topic_zero_weight*(-1)+topic_one_weight)/ row_number ) # heatmap y - both topics\n",
    "    \n",
    "\n",
    "    \n",
    "fig, ax = plt.subplots()\n",
    "y_axis_labels = ['Topic 0', 'Topic 1', 'Topic 0 & 1']\n",
    "xticklabels = ['40-45', '45-50', '50-55', '55-60', '60-65', '65-70', '70-75', '75-80', '80-85']\n",
    "svm = seaborn.heatmap([heatmap_y_topic0,heatmap_y_topic1, heatmap_y_sum], yticklabels=y_axis_labels, xticklabels = xticklabels)\n",
    "plt.yticks(rotation=0) \n",
    "\n",
    "figure = svm.get_figure()    \n",
    "figure.savefig('figures/heatmap/Year1-heatmap.png', dpi=600, bbox_inches = 'tight')\n"
   ]
  },
  {
   "attachments": {},
   "cell_type": "markdown",
   "metadata": {},
   "source": [
    "# Year 2 Topic Analysis"
   ]
  },
  {
   "cell_type": "code",
   "execution_count": 23,
   "metadata": {},
   "outputs": [
    {
     "name": "stdout",
     "output_type": "stream",
     "text": [
      "80 40\n"
     ]
    }
   ],
   "source": [
    "# find min and max grades\n",
    "max_grade = max(df_y2['Interferometry percent']) \n",
    "min_grade = min(df_y2['Interferometry percent'])\n",
    "print(max_grade, min_grade) # 决定采用区间 45 - 85, step size 1 "
   ]
  },
  {
   "cell_type": "code",
   "execution_count": 26,
   "metadata": {},
   "outputs": [
    {
     "data": {
      "image/png": "[encoded data removed]",
      "text/plain": [
       "<Figure size 640x480 with 2 Axes>"
      ]
     },
     "metadata": {},
     "output_type": "display_data"
    }
   ],
   "source": [
    "range_grade = np.arange(40, 85, 5) \n",
    "\n",
    "heatmap_x = []\n",
    "heatmap_y_topic0 = []\n",
    "heatmap_y_topic1 = []\n",
    "heatmap_y_sum = []\n",
    "\n",
    "for i, grade in enumerate(range_grade): # combined weights\n",
    "    if i == 8:\n",
    "        break\n",
    "    heatmap_x.append( np.sum(range_grade[i] + range_grade[i+1])/2 ) #heatmap x\n",
    "    \n",
    "    df = df_y2.loc[(df_y2['Interferometry percent'] >= range_grade[i]) & (df_y2['Interferometry percent'] <= range_grade[i+1])] # reports that has the grade required\n",
    "    \n",
    "    row_number = len(df.index)# number of reports\n",
    "    topic_zero_weight = df['0'].sum() \n",
    "    topic_one_weight = df['1'].sum()\n",
    "    \n",
    "    heatmap_y_topic0.append(topic_zero_weight/row_number) # heatmap y - topic0\n",
    "    heatmap_y_topic1.append(topic_one_weight/row_number)  # heatmap y - topic1\n",
    "    heatmap_y_sum.append( (topic_zero_weight*(-1)+topic_one_weight)/ row_number ) # heatmap y - both topics\n",
    "    \n",
    "\n",
    "fig, ax = plt.subplots()\n",
    "y_axis_labels = ['Topic 0', 'Topic 1', 'Topic 0 & 1']\n",
    "xticklabels = ['40-45', '45-50', '50-55', '55-60', '60-65', '65-70', '70-75', '75-80']\n",
    "svm = seaborn.heatmap([heatmap_y_topic0,heatmap_y_topic1, heatmap_y_sum], yticklabels=y_axis_labels, xticklabels = xticklabels)\n",
    "plt.yticks(rotation=0) \n",
    "\n",
    "figure = svm.get_figure()    \n",
    "figure.savefig('figures/heatmap/Year2-heatmap.png', dpi=600, bbox_inches = 'tight')"
   ]
  },
  {
   "cell_type": "code",
   "execution_count": 3,
   "metadata": {},
   "outputs": [
    {
     "data": {
      "image/png": "[encoded data removed]",
      "text/plain": [
       "<Figure size 1980x1500 with 1 Axes>"
      ]
     },
     "metadata": {},
     "output_type": "display_data"
    }
   ],
   "source": [
    "import matplotlib.pyplot as plt\n",
    "\n",
    "import numpy as np\n",
    "import scienceplots\n",
    "plt.style.use(['science', 'ieee'])\n",
    "params = {'legend.fontsize':10, 'legend.handlelength': 1, 'font.weight': 'bold'} \n",
    "plt.rcParams.update(params)\n",
    "\n",
    "# TODO: change to Aerial font\n",
    "\n",
    "    \n",
    " \n",
    "xvalue = [0.2, 0.3, 0.4, 0.5, 0.6, 0.7, 0.8, 0.9]\n",
    "yvalue = [0.47222221493721006, 0.459375, 0.45178571343421936, 0.5041666686534881, 0.49750000834465025, 0.75, 0.6208333432674408, 0.825]\n",
    "yerr = [0.008784104088006155, 0.01384378527083543, 0.00919252600184733, 0.04161455118809117, 0.026634096005599506, 0.028384222069663984, 0.08421409751357443, 0.03775951866748304]\n",
    "xlabel = 'Training ratio'\n",
    "ylabel = 'Accuracy'\n",
    "\n",
    "y2value = [0.340277773141861, 0.3984375, 0.41607142686843873, 0.38541666865348817, 0.41000000238418577, 0.65625, 0.8333333253860473, 0.8875]\n",
    "y2err = [0.043645155324258236, 0.010186253758129139, 0.01988487475075547, 0.011410886614691999, 0.02604083366333376, 0.038590903235088965, 0.030900831717867647, 0.04026280852101601]\n",
    "\n",
    "\n",
    "\n",
    "\n",
    "\n",
    "\n",
    "\n",
    "\n",
    "'''\n",
    "marker list: https://matplotlib.org/stable/api/markers_api.html\n",
    "colour code:\n",
    "    red = #A20346\n",
    "    blue = #004E7E\n",
    "    yellow = #F27C0A\n",
    "    green = #3D4E1D\n",
    "    purple = #2E206B\n",
    "    tur = #006D7D\n",
    "    ref: https://www.cam.ac.uk/brand-resources/guidelines/typography-and-colour/colour-palette\n",
    "linestyle list: https://matplotlib.org/stable/gallery/lines_bars_and_markers/linestyles.html    \n",
    "'''\n",
    "\n",
    "fig, ax1 = plt.subplots()\n",
    "\n",
    "plt.scatter(xvalue, yvalue, color = '#A20346', marker = 's', s= 10, label = 'red')\n",
    "plt.errorbar(xvalue, yvalue, yerr, color='#A20346', fmt='none')\n",
    "plt.plot(xvalue, yvalue, linestyle='solid', color='#A20346', alpha=0.7)\n",
    "\n",
    "\n",
    "plt.scatter(xvalue, y2value, color = '#004E7E', marker = 's', s= 10, label = 'blue')\n",
    "plt.errorbar(xvalue, y2value, y2err, color='#004E7E', fmt='none')\n",
    "plt.plot(xvalue, y2value, linestyle='solid', color='#004E7E', alpha=0.7)\n",
    "\n",
    "\n",
    "plt.xlabel(xlabel, fontsize=12)\n",
    "plt.ylabel(ylabel, fontsize=12)\n",
    "\n",
    "plt.xticks(size = 12)\n",
    "plt.yticks( size = 12, fontweight = 'bold', )\n",
    "\n",
    "\n",
    "legend = plt.legend(loc='upper left', framealpha=1, frameon=True, edgecolor = 'black')\n",
    "legend.get_frame().set_linewidth(0.8)\n",
    "\n",
    "\n",
    "plt.savefig('example.png', dpi=1000)"
   ]
  },
  {
   "cell_type": "code",
   "execution_count": 93,
   "metadata": {},
   "outputs": [
    {
     "data": {
      "image/png": "[encoded data removed]",
      "text/plain": [
       "<Figure size 4800x1200 with 3 Axes>"
      ]
     },
     "metadata": {},
     "output_type": "display_data"
    }
   ],
   "source": [
    "import matplotlib.pyplot as plt\n",
    "import numpy as np\n",
    "import scienceplots\n",
    "from matplotlib import rc, rcParams\n",
    "plt.style.use(['science', 'ieee', 'no-latex'])\n",
    "plt.rcParams['font.family'] = \"Arial\"\n",
    "rc('font', weight='normal')\n",
    "\n",
    "\n",
    "# Create a figure with three subplots in a row\n",
    "fig, axes = plt.subplots(nrows=1, ncols=3, figsize = (8,2)) #, figsize=(12, 4)\n",
    "\n",
    "\n",
    "# Plot the first subplot on the left\n",
    "axes[0].scatter(xvalue, yvalue, color = '#A20346', marker = 's', s= 10, label = 'red')\n",
    "axes[0].errorbar(xvalue, yvalue, yerr, color='#A20346', fmt='none')\n",
    "axes[0].plot(xvalue, yvalue, linestyle='solid', color='#A20346', alpha=0.5)\n",
    "axes[0].set_xlabel('Training ratio', fontsize=10)\n",
    "axes[0].set_ylabel('Accuracy', fontsize=10)\n",
    "axes[0].xaxis.set_ticks(np.arange(0.2, 1.0, 0.1))\n",
    "axes[0].yaxis.set_ticks(np.arange(0.2, 1.1, 0.1))\n",
    "axes[0].minorticks_off()\n",
    "\n",
    "# Plot the second subplot in the middle\n",
    "axes[1].scatter(xvalue, y2value, color = '#004E7E', marker = 's', s= 10, label = 'blue')\n",
    "axes[1].errorbar(xvalue, y2value, y2err, color='#004E7E', fmt='none')\n",
    "axes[1].plot(xvalue, y2value, linestyle='solid', color='#004E7E', alpha=0.5)\n",
    "axes[1].set_xlabel('Training ratio', fontsize=10)\n",
    "axes[1].set_ylabel('Accuracy', fontsize=10)\n",
    "axes[1].xaxis.set_ticks(np.arange(0.2, 1.0, 0.1))\n",
    "axes[1].yaxis.set_ticks(np.arange(0.2, 1.1, 0.1))\n",
    "axes[1].minorticks_off()\n",
    "\n",
    "\n",
    "# Plot the third subplot on the right\n",
    "axes[2].scatter(xvalue, yvalue, color = '#3D4E1D', marker = 's', s= 10, label = 'red')\n",
    "axes[2].errorbar(xvalue, yvalue, yerr, color='#3D4E1D', fmt='none')\n",
    "axes[2].plot(xvalue, yvalue, linestyle='solid', color='#3D4E1D', alpha=0.5)\n",
    "axes[2].set_xlabel('Training ratio', fontsize=10) # , fontweight = 'bold'\n",
    "axes[2].set_ylabel('Accuracy', fontsize=10) # fontweight = 'bold'\n",
    "axes[2].xaxis.set_ticks(np.arange(0.2, 1.0, 0.1))\n",
    "axes[2].yaxis.set_ticks(np.arange(0.2, 1.1, 0.1))\n",
    "axes[2].minorticks_off()\n",
    "\n",
    "\n",
    "# Add a shared y-axis label to the leftmost plot\n",
    "# fig.text(0.06, 0.5, 'Amplitude', ha='center', va='center', rotation='vertical')\n",
    "# Add a shared x-axis label to the bottom plot\n",
    "# fig.text(0.5, 0.06, 'Time', ha='center', va='center')\n",
    "\n",
    "# Adjust the spacing between the subplots\n",
    "plt.subplots_adjust(wspace=0.4)\n",
    "\n",
    "# Adjust the spacing between the subplots\n",
    "plt.subplots_adjust(wspace=0.4)\n",
    "\n",
    "filename = 'example.png'\n",
    "plt.savefig(filename, dpi = 1000)\n",
    "# Show the plot\n",
    "plt.show()"
   ]
  },
  {
   "cell_type": "code",
   "execution_count": null,
   "metadata": {},
   "outputs": [],
   "source": []
  }
 ],
 "metadata": {
  "kernelspec": {
   "display_name": "base",
   "language": "python",
   "name": "python3"
  },
  "language_info": {
   "codemirror_mode": {
    "name": "ipython",
    "version": 3
   },
   "file_extension": ".py",
   "mimetype": "text/x-python",
   "name": "python",
   "nbconvert_exporter": "python",
   "pygments_lexer": "ipython3",
   "version": "3.9.13"
  },
  "orig_nbformat": 4,
  "vscode": {
   "interpreter": {
    "hash": "7bf9169aea3bf43030d2045b9506020b24091b3061df9b5cfee19d2eac11c6ed"
   }
  }
 },
 "nbformat": 4,
 "nbformat_minor": 2
}
