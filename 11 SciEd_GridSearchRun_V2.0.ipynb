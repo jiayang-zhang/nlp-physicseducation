{
 "cells": [
  {
   "cell_type": "markdown",
   "metadata": {},
   "source": [
    "# Running a Gridsearch across LDA Parameters\n",
    "\n",
    "In this notebook, we run a \"grid search\" across different LDA parameters to see what effects they have on the resulting LDA models. \n",
    "\n",
    "There are several tunable parameters that one feeds into an LDA model. They include:\n",
    "* The data filtering parameter—essentially, how much of the data you choose to keep, and what you choose to filter out. In practice, this usually involves specifying cutoffs for words that are too rare (i.e., which occur less than 5 times across the dataset) or too frequent (i.e., occur in most papers and so add little value to the analysis).\n",
    "* The number of topics. This one is fairly obvious, but also greatly affects model results and is not obvious a priori. Sometimes a greater number of topics can provide more detailed insights into the data, but greater numbers of topics can also hinder interpretability (for example, imagine trying to distinguish between 50 topics, where many of them are very similar)\n",
    "\n",
    "Going in to the analysis, we weren't sure which of these topics were most meaningful, and how they would affect our model results. So, we decided to try to approach the question quantitatively, by running a lot of different models while tuning the parameters slightly with each run, then comparing the outputs using the \"topic coherence\" scores."
   ]
  },
  {
   "cell_type": "markdown",
   "metadata": {},
   "source": [
    "## I. Importing packages and unpacking our data\n",
    "\n",
    "The first thing we do is import our various packages, and unpack our processed data file:"
   ]
  },
  {
   "cell_type": "code",
   "execution_count": 1,
   "metadata": {},
   "outputs": [
    {
     "name": "stderr",
     "output_type": "stream",
     "text": [
      "C:\\Users\\EfiaA\\AppData\\Local\\Temp\\ipykernel_22148\\1326738208.py:4: DeprecationWarning: Importing display from IPython.core.display is deprecated since IPython 7.14, please import from IPython display\n",
      "  from IPython.core.display import display, HTML\n"
     ]
    },
    {
     "data": {
      "text/html": [
       "<style>.container { width:95% !important; }</style>"
      ],
      "text/plain": [
       "<IPython.core.display.HTML object>"
      ]
     },
     "metadata": {},
     "output_type": "display_data"
    }
   ],
   "source": [
    "# Print out  all expressions\n",
    "from IPython.core.interactiveshell import InteractiveShell\n",
    "InteractiveShell.ast_node_interactivity = \"all\" #default 'last_expr'\n",
    "from IPython.core.display import display, HTML\n",
    "display(HTML(\"<style>.container { width:95% !important; }</style>\"))"
   ]
  },
  {
   "cell_type": "code",
   "execution_count": 2,
   "metadata": {},
   "outputs": [],
   "source": [
    "# Plotting tools\n",
    "import pyLDAvis\n",
    "import pyLDAvis.gensim  # don't skip this\n",
    "import matplotlib.pyplot as plt\n",
    "%matplotlib inline\n",
    "from matplotlib.ticker import MaxNLocator\n",
    "\n",
    "import warnings\n",
    "warnings.filterwarnings(\"ignore\", category=DeprecationWarning);\n",
    "\n",
    "import pandas as pd\n",
    "import numpy as np\n",
    "\n",
    "import pickle\n",
    "import time\n",
    "\n",
    "import gensim\n",
    "from gensim.parsing.preprocessing import STOPWORDS\n",
    "from gensim.corpora.dictionary import Dictionary\n",
    "from sklearn.feature_extraction.text import CountVectorizer\n",
    "#import nltk\n",
    "#from nltk.corpus import wordnet\n",
    "#from nltk import pos_tag\n",
    "#nltk.download('wordnet',quiet=True)\n",
    "#nltk.download('averaged_perceptron_tagger',quiet=True) #required by pos_tag method"
   ]
  },
  {
   "cell_type": "code",
   "execution_count": 3,
   "metadata": {},
   "outputs": [],
   "source": [
    "#from helpers import path_pdf,path_pkl"
   ]
  },
  {
   "cell_type": "markdown",
   "metadata": {},
   "source": [
    "The data we unpack here is our lemmatized data. However, we have not created bigrams yet. We do that now, using a machine learning method (the gensim Phraser) to make bi-grams. These are essentially combinations of words that consistently occur together. When the algorithm finds a pair like this (based on thresholds we specify with min_count and threshold), it will associate them together into a single word. We save it as the file \"data_words_bigrams\" which we will use for most of our analysis from here on out.\""
   ]
  },
  {
   "cell_type": "code",
   "execution_count": 4,
   "metadata": {
    "scrolled": true
   },
   "outputs": [],
   "source": [
    "#data_words_bigrams = pd.read_pickle(path_pkl+'scied_words_bigrams_V5.pkl')"
   ]
  },
  {
   "cell_type": "code",
   "execution_count": 3,
   "metadata": {},
   "outputs": [
    {
     "name": "stdout",
     "output_type": "stream",
     "text": [
      "Collecting en_core_web_sm==2.3.1\n",
      "  Using cached en_core_web_sm-2.3.1-py3-none-any.whl\n",
      "Requirement already satisfied: spacy<2.4.0,>=2.3.0 in c:\\users\\efiaa\\anaconda3\\lib\\site-packages (from en_core_web_sm==2.3.1) (2.3.8)\n",
      "Requirement already satisfied: preshed<3.1.0,>=3.0.2 in c:\\users\\efiaa\\anaconda3\\lib\\site-packages (from spacy<2.4.0,>=2.3.0->en_core_web_sm==2.3.1) (3.0.8)\n",
      "Requirement already satisfied: setuptools in c:\\users\\efiaa\\anaconda3\\lib\\site-packages (from spacy<2.4.0,>=2.3.0->en_core_web_sm==2.3.1) (52.0.0.post20210125)\n",
      "Requirement already satisfied: tqdm<5.0.0,>=4.38.0 in c:\\users\\efiaa\\anaconda3\\lib\\site-packages (from spacy<2.4.0,>=2.3.0->en_core_web_sm==2.3.1) (4.59.0)\n",
      "Requirement already satisfied: blis<0.8.0,>=0.4.0 in c:\\users\\efiaa\\anaconda3\\lib\\site-packages (from spacy<2.4.0,>=2.3.0->en_core_web_sm==2.3.1) (0.7.9)\n",
      "Requirement already satisfied: murmurhash<1.1.0,>=0.28.0 in c:\\users\\efiaa\\anaconda3\\lib\\site-packages (from spacy<2.4.0,>=2.3.0->en_core_web_sm==2.3.1) (1.0.9)\n",
      "Requirement already satisfied: cymem<2.1.0,>=2.0.2 in c:\\users\\efiaa\\anaconda3\\lib\\site-packages (from spacy<2.4.0,>=2.3.0->en_core_web_sm==2.3.1) (2.0.7)\n",
      "Requirement already satisfied: thinc<7.5.0,>=7.4.1 in c:\\users\\efiaa\\anaconda3\\lib\\site-packages (from spacy<2.4.0,>=2.3.0->en_core_web_sm==2.3.1) (7.4.6)\n",
      "Requirement already satisfied: numpy>=1.15.0 in c:\\users\\efiaa\\anaconda3\\lib\\site-packages (from spacy<2.4.0,>=2.3.0->en_core_web_sm==2.3.1) (1.20.1)\n",
      "Requirement already satisfied: srsly<1.1.0,>=1.0.2 in c:\\users\\efiaa\\anaconda3\\lib\\site-packages (from spacy<2.4.0,>=2.3.0->en_core_web_sm==2.3.1) (1.0.6)\n",
      "Requirement already satisfied: catalogue<1.1.0,>=0.0.7 in c:\\users\\efiaa\\anaconda3\\lib\\site-packages (from spacy<2.4.0,>=2.3.0->en_core_web_sm==2.3.1) (1.0.2)\n",
      "Requirement already satisfied: requests<3.0.0,>=2.13.0 in c:\\users\\efiaa\\anaconda3\\lib\\site-packages (from spacy<2.4.0,>=2.3.0->en_core_web_sm==2.3.1) (2.25.1)\n",
      "Requirement already satisfied: plac<1.2.0,>=0.9.6 in c:\\users\\efiaa\\anaconda3\\lib\\site-packages (from spacy<2.4.0,>=2.3.0->en_core_web_sm==2.3.1) (1.1.3)\n",
      "Requirement already satisfied: wasabi<1.1.0,>=0.4.0 in c:\\users\\efiaa\\anaconda3\\lib\\site-packages (from spacy<2.4.0,>=2.3.0->en_core_web_sm==2.3.1) (0.10.1)\n",
      "Requirement already satisfied: idna<3,>=2.5 in c:\\users\\efiaa\\anaconda3\\lib\\site-packages (from requests<3.0.0,>=2.13.0->spacy<2.4.0,>=2.3.0->en_core_web_sm==2.3.1) (2.10)\n",
      "Requirement already satisfied: urllib3<1.27,>=1.21.1 in c:\\users\\efiaa\\anaconda3\\lib\\site-packages (from requests<3.0.0,>=2.13.0->spacy<2.4.0,>=2.3.0->en_core_web_sm==2.3.1) (1.26.4)\n",
      "Requirement already satisfied: certifi>=2017.4.17 in c:\\users\\efiaa\\anaconda3\\lib\\site-packages (from requests<3.0.0,>=2.13.0->spacy<2.4.0,>=2.3.0->en_core_web_sm==2.3.1) (2020.12.5)\n",
      "Requirement already satisfied: chardet<5,>=3.0.2 in c:\\users\\efiaa\\anaconda3\\lib\\site-packages (from requests<3.0.0,>=2.13.0->spacy<2.4.0,>=2.3.0->en_core_web_sm==2.3.1) (4.0.0)\n",
      "✔ Download and installation successful\n",
      "You can now load the model via spacy.load('en_core_web_sm')\n"
     ]
    },
    {
     "name": "stderr",
     "output_type": "stream",
     "text": [
      "[nltk_data] Downloading package stopwords to\n",
      "[nltk_data]     C:\\Users\\EfiaA\\AppData\\Roaming\\nltk_data...\n",
      "[nltk_data]   Package stopwords is already up-to-date!\n"
     ]
    },
    {
     "data": {
      "text/plain": [
       "True"
      ]
     },
     "execution_count": 3,
     "metadata": {},
     "output_type": "execute_result"
    }
   ],
   "source": [
    "# import \n",
    "# importing tool functions\n",
    "import numpy as np\n",
    "import matplotlib.pyplot as plt\n",
    "from tools import utils, ml_tools\n",
    "import pandas as pd\n",
    "import numpy as np\n",
    "from sklearn.preprocessing import LabelBinarizer\n",
    "!python -m spacy download en_core_web_sm\n",
    "import spacy\n",
    "\n",
    "import gensim\n",
    "from gensim.utils import simple_preprocess\n",
    "import nltk\n",
    "nltk.download('stopwords')\n",
    "from nltk.corpus import stopwords\n",
    "import gensim.corpora as corpora\n",
    "\n",
    "dir_name_e = r'C:\\Users\\EfiaA\\OneDrive - Imperial College London\\Imperial academic work\\University life\\Y4\\MSci project\\Project_Coding\\nlp-physicseducation\\Pickledfiles'\n",
    "#Y1\n",
    "dir_csv_y1 = 'outputs/labels_cleaned_y2.csv'\n",
    "df_y1     = pd.read_csv(dir_csv_y1, encoding='utf-8')\n",
    "\n",
    "#Y2\n",
    "dir_csv_y2 = 'outputs/labels_cleaned_y2.csv'\n",
    "df_y2      = pd.read_csv(dir_csv_y2, encoding='utf-8')\n",
    "\n",
    "# y1&2\n",
    "dir_csv3 = 'outputs/labels_cleaned_y1y2.csv'\n",
    "df_y1y2 = pd.read_csv(dir_csv3, encoding='utf-8')\n",
    "\n",
    "# dataframe\n",
    "df = df_y1y2\n",
    "\n",
    "# remove stopwords\n",
    "stop_words = stopwords.words('english')\n",
    "stop_words.extend(['from', 'subject', 're', 'edu', 'use'])\n",
    "def sent_to_words(sentences):\n",
    "    for sentence in sentences:\n",
    "        # deacc=True removes punctuations\n",
    "        yield(gensim.utils.simple_preprocess(str(sentence), deacc=True))\n",
    "\n",
    "\n",
    "def remove_stopwords(texts):\n",
    "    return [[word for word in simple_preprocess(str(doc)) \n",
    "             if word not in stop_words] for doc in texts]\n",
    "\n",
    "data = df['Content'].tolist()\n",
    "data_words_send = list(sent_to_words(data))\n",
    "\n",
    "# remove stop words\n",
    "data_words_nostopwords = remove_stopwords(data_words_send)\n",
    "\n",
    "nlp = spacy.load(\"en_core_web_sm\", disable=['parser', 'ner'])\n",
    "\n",
    "\n",
    "# functions\n",
    "def make_bigrams(texts):\n",
    "    return [bigram_mod[doc] for doc in texts]\n",
    "\n",
    "def make_trigrams(texts):\n",
    "    return [trigram_mod[bigram_mod[doc]] for doc in texts]\n",
    "\n",
    "def lemmatization(texts, allowed_postags=['NOUN', 'ADJ', 'VERB', 'ADV']):\n",
    "    \"\"\"https://spacy.io/api/annotation\"\"\"\n",
    "    texts_out = []\n",
    "    for sent in texts:\n",
    "        doc = nlp(\" \".join(sent)) \n",
    "        texts_out.append([token.lemma_ for token in doc if token.pos_ in allowed_postags])\n",
    "    return texts_out\n",
    "\n",
    "# Build the bigram and trigram models\n",
    "bigram = gensim.models.Phrases(data_words_nostopwords, min_count=5, threshold=100) # higher threshold fewer phrases.\n",
    "trigram = gensim.models.Phrases(bigram[data_words_nostopwords], threshold=100)  \n",
    "\n",
    "# Faster way to get a sentence clubbed as a trigram/bigram\n",
    "bigram_mod = gensim.models.phrases.Phraser(bigram)\n",
    "trigram_mod = gensim.models.phrases.Phraser(trigram)\n"
   ]
  },
  {
   "cell_type": "code",
   "execution_count": 4,
   "metadata": {},
   "outputs": [],
   "source": [
    "def processing_data(df):\n",
    "    data = df['Content'].tolist()\n",
    "    data_words_send = list(sent_to_words(data))\n",
    "\n",
    "    data_words_nostopwords = remove_stopwords(data_words_send)\n",
    "\n",
    "    bigram = gensim.models.Phrases(data_words_nostopwords, min_count=5, threshold=100) # higher threshold fewer phrases.\n",
    "    trigram = gensim.models.Phrases(bigram[data_words_nostopwords], threshold=100)  \n",
    "\n",
    "\n",
    "    bigram_mod = gensim.models.phrases.Phraser(bigram)\n",
    "    trigram_mod = gensim.models.phrases.Phraser(trigram)\n",
    "\n",
    "    data_words_bigrams = make_bigrams(data_words_nostopwords)\n",
    "\n",
    "    # Initialize spacy 'en' model, keeping only tagger component (for efficiency)\n",
    "    nlp = spacy.load(\"en_core_web_sm\", disable=['parser', 'ner'])\n",
    "\n",
    "    # Do lemmatization keeping only noun, adj, vb, adv\n",
    "    data_lemmatized = lemmatization(data_words_bigrams, allowed_postags=['NOUN', 'ADJ', 'VERB', 'ADV'])\n",
    "    return data_lemmatized\n",
    "\n",
    "df_clean_y1 = processing_data(df_y1)\n",
    "df_clean_y2 = processing_data(df_y2)\n",
    "df_clean_y1y2 = processing_data(df_y1y2)\n",
    "\n",
    "\n",
    "# \n",
    "id2word_y1 = corpora.Dictionary(df_clean_y1)\n",
    "id2word_y2 = corpora.Dictionary(df_clean_y2)\n",
    "id2word_y1y2 = corpora.Dictionary(df_clean_y1y2)\n",
    "\n",
    "#create corpus\n",
    "texts1 = df_clean_y1\n",
    "texts2 = df_clean_y2\n",
    "texts12 = df_clean_y1y2\n",
    "\n",
    "#Term Document Frequency\n",
    "corpus_y1 = [id2word_y1.doc2bow(text) for text in texts1]\n",
    "corpus_y2 = [id2word_y2.doc2bow(text) for text in texts2]\n",
    "corpus_y1y2 = [id2word_y1y2.doc2bow(text) for text in texts12]\n",
    "\n"
   ]
  },
  {
   "cell_type": "markdown",
   "metadata": {},
   "source": [
    "## II. Creating a bag of words on the dataset\n",
    "\n",
    "In order to use LDA, we need to create a [Gensim Dictionary](https://radimrehurek.com/gensim/corpora/dictionary.html#gensim.corpora.dictionary.Dictionary), which is a mapping between each of the entries (i.e. normalized words) and its integer id. \n",
    "\n",
    "We also use the \"filter_extremes\" function that gensim provides. This allows us to filter out words that appear too many or too few times. The parameters are:\n",
    "* **no_below**: an integer. Keep tokens which are contained in at least no_below documents.  \n",
    "* **no_above**: a float number between 0 and 1. It filters out tokens which are contained in more than no_above percentage of documents. E.g. with no_above=0.55, tokens in in more than 55% of the documents get cut out. So, the smaller this value, the harsher the filtering.\n",
    "* **keep_n**: an integer. It specifies how many tokens should be kept, starting with the most frequent.\n",
    "\n",
    "This table (hidden) shows how many words are left after filtering. The a no_above parameter of 0.5-1.0 filters out just a hundred words\n",
    "\n",
    "<!--\n",
    "|no_above | unique words, no_below=0 |\n",
    "|: --  | -- |\n",
    "| 1.0  | 27830  |\n",
    "| 0.75 | 27801  |\n",
    "| 0.55 | 27730  |\n",
    "| 0.5  | 27710  |\n",
    "| 0.2  | 27274  |\n",
    "\n",
    "|no_above | unique words, no_below=2 |\n",
    "|: -- | -- |\n",
    "| 1.0 - 0.9  |  3008  |\n",
    "| 0.85 - 0.75  | 3007  |\n",
    "| 0.7 - 0.5   | 3006  |\n",
    "| 0.4      |  3004 | \n",
    "| 0.35 - 0.3  | 3002  |\n",
    "| 0.25      | 2997  |\n",
    "\n",
    "|no_above | unique words, no_below=5 |\n",
    "|: -- | -- |\n",
    "| 0.5-0.25      | 1731  |\n",
    "\n",
    "|no_above | unique words, no_below=10 |\n",
    "|: -- | -- |\n",
    "| 0.5-0.25      | 1040  |\n",
    "-->\n",
    "After the filtering we convert the remaining tokens into a \"bag of words\" (BoW), which is essentially a matrix, shape (number of documents x number of remaining words) with each entry being the number of times that word occurs in that document."
   ]
  },
  {
   "cell_type": "markdown",
   "metadata": {},
   "source": [
    "## Grid Search on LDA: find best num_topics, filtering values\n",
    "\n",
    "### A. Defining a function to search across number of topics\n",
    "\n",
    "This is a function to do a gridsearch across a set of topics numbers (for example, 8-12 topics). In addition to the ordinary parameters required to run the LDA model (the dictionary, corpus, texts) it also takes a range of topics, a number of repetitions, and a starting value of a random seed (to make the models reproducible)."
   ]
  },
  {
   "cell_type": "code",
   "execution_count": 5,
   "metadata": {},
   "outputs": [],
   "source": [
    "def gridsearch_topics(dictionary, corpus, texts, range_topics, reps = 1, seedstart=0, iterations=15, passes=25):\n",
    "    \"\"\"\n",
    "    Grid Search on number of topics and the Gensim Dictionary parameters no_below and no_above using c_v coherence\n",
    "\n",
    "    Parameters:\n",
    "    ----------\n",
    "    dictionary : Gensim dictionary for CoherenceModel (id2word)\n",
    "    corpus : Gensim corpus for LdaModel (bow_corpus)\n",
    "    texts : List of input texts for CoherenceModel (data_words_bigrams)\n",
    "    range_topics : range with the number of topics for Gensim LdaModel\n",
    "    reps: repetitions of a particular run. Useful for creating uncertainty intervals\n",
    "    **kw_LDA : parameters to LDA model\n",
    "\n",
    "    Returns:\n",
    "    -------\n",
    "    df: a dataframe containing the number of topics, coherence values, stored models, and the dictionary\n",
    "    model_list : List of LDA topic models\n",
    "    coherence_values : Coherence values corresponding to the LDA model with respective number of topics\n",
    "    \"\"\"\n",
    "    coherences = []\n",
    "    model_list = []\n",
    "    df = pd.DataFrame()\n",
    "    import time\n",
    "    counter = 0    \n",
    "    #Iterate on number of topics and run LDA\n",
    "    for num_topics in range_topics:\n",
    "        #Run repetitions\n",
    "        i = 0\n",
    "        seed = seedstart #initialize the random seeds we'll give to the model\n",
    "        t0 = time.time()        \n",
    "        while i < reps:\n",
    "            model = gensim.models.LdaModel(corpus, num_topics, dictionary,\n",
    "                                               alpha='auto', random_state = seed,\n",
    "                                               iterations=iterations, passes=passes)\n",
    "            model_list.append(model)\n",
    "            #Calculate coherence\n",
    "            coherencemodel = gensim.models.CoherenceModel(model=model, \n",
    "                                                          texts=texts, \n",
    "                                                          dictionary=dictionary, \n",
    "                                                          coherence='c_v',\n",
    "                                                          topn=20)\n",
    "            coherence = coherencemodel.get_coherence()\n",
    "            coherences.append(coherence)\n",
    "            #Append to DataFrame\n",
    "            df = df.append(pd.Series([int(num_topics), coherence, model, seed]), ignore_index=True)\n",
    "            seed = seed + 1\n",
    "            i = i + 1\n",
    "            if i%10 == 0: \n",
    "                t2 = round(time.time()-t0)\n",
    "                t2 = \"\"\"%d'%d\" \"\"\" % ((t2-t2%60)/60, t2%60)\n",
    "                msg = \"Finished run %d of %d (k = %d): %s\" % (i, reps, num_topics, t2)\n",
    "                print(msg)\n",
    "        \n",
    "        #Print info\n",
    "        counter += reps\n",
    "        t2 = round(time.time()-t0)\n",
    "        t2 = \"\"\"%d'%d\" \"\"\" % ((t2-t2%60)/60, t2%60)\n",
    "        msg = \"Finished model %d of %d (k = %d): %s\" % (counter, len(range_topics)*reps, num_topics, t2)\n",
    "        print(msg)\n",
    "\n",
    "    #Return dataframe and other output\n",
    "    df.columns = ['num_topics', 'coherence', 'model', 'seed']\n",
    "    return df, model_list, coherences"
   ]
  },
  {
   "cell_type": "markdown",
   "metadata": {},
   "source": [
    "### B. Expanding the grid search to include data filtering\n",
    "\n",
    "In addition to searching across the number of topics, we will also search across the data filtering hyperparameters, which is to say no_below and no_above. To do this, we will define another function that will call the previous gridsearch function, but will also take in lists of no_below values and no_above values then do a search across each of them."
   ]
  },
  {
   "cell_type": "code",
   "execution_count": 6,
   "metadata": {},
   "outputs": [],
   "source": [
    "def gridsearch(texts, range_topics, range_no_below=[15], range_no_above=[0.55], reps=1, file_pkl=None, seedstart=0, iterations=15, passes=50):\n",
    "    \"\"\"\n",
    "    Compute c_v coherence for different hyperparameters\n",
    "\n",
    "    Parameters:\n",
    "    ----------\n",
    "    texts : List of input texts for CoherenceModel (data_words_bigrams)\n",
    "    range_topics : range of number of topics for Gensim LdaModel\n",
    "    range_no_below : range of no_below int values for Gensim Dictionary filter_extremes - \n",
    "                    Keep tokens which are contained in at least `no_below` documents.  Default is 30\n",
    "    range_no_above : range of no_above float values for Gensim Dictionary filter_extremes\n",
    "                    Keep tokens which are contained in no more than `no_above` documents.\n",
    "                    (fraction of total corpus size, not an absolute number). Default is 0.55\n",
    "    reps: repetitions of a particular run. Useful for creating uncertainty intervals\n",
    "    file_pkl : .pkl filename in which to save the data\n",
    "    seedstart: the starting value for the random seed in the gridsearch\n",
    "    **kw_LDA : parameters to LDA model\n",
    "    Returns:\n",
    "    -------\n",
    "    df : dataframe with paramenters, coherence, model\n",
    "    model_list : List of LDA topic models\n",
    "    coherence_values : Coherence values corresponding to the LDA model with respective number of topics\n",
    "    \"\"\"\n",
    "    import time\n",
    "    df = pd.DataFrame()\n",
    "    #Print info\n",
    "    counter = 0\n",
    "    total = len(range_topics) * len(range_no_below) * len(range_no_above) * reps\n",
    "    print(\"Training %d topics x %d no_below x %d no_above x %d reps = %d models\" % (\n",
    "        len(range_topics), len(range_no_below), len(range_no_above), reps, total))    \n",
    "    #Iterate on all ranges (range_no_below, range_no_above)\n",
    "    for no_above in range_no_above:\n",
    "        for no_below in range_no_below:\n",
    "            #Filter BoW\n",
    "            gen_dict = gensim.corpora.Dictionary(texts)\n",
    "            gen_dict.filter_extremes(no_below=no_below, no_above=no_above, keep_n=1000000)\n",
    "            bow = [gen_dict.doc2bow(doc) for doc in texts]\n",
    "            gen_dict_size = len(gen_dict)\n",
    "\n",
    "            t0 = time.time()\n",
    "            #Run LDA (range_topics * repetitions) times\n",
    "            df0, _, _ = gridsearch_topics(gen_dict, bow, texts, range_topics, reps, seedstart+counter, \n",
    "                                          iterations=iterations, passes=passes)\n",
    "            #Concatenate output to DataFrame\n",
    "            df0 = pd.concat([df0, \n",
    "                           pd.Series([no_below]*len(range_topics)*reps), \n",
    "                           pd.Series([no_above]*len(range_topics)*reps)                             \n",
    "                          ] , axis=1)\n",
    "            df0 = df0.set_index(pd.Index(range(len(df),len(df)+len(df0))))\n",
    "            df0.columns = ['num_topics', 'coherence', 'model', 'seed', 'no_below', 'no_above']\n",
    "            df = pd.concat([df,df0],axis=0)\n",
    "            #Print info\n",
    "            counter += len(range_topics) * reps\n",
    "            t2 = round(time.time()-t0)\n",
    "            t2 = \"\"\"%d'%d\" \"\"\" % ((t2-t2%60)/60, t2%60)\n",
    "            msg = \"Finished iteration %d of %d: num_topics=%s, no_below=%d, no_above=%.2f, Tokens=%5d, %s\" % (\n",
    "                counter, total, str(list(range_topics)), no_below, no_above, gen_dict_size, t2)\n",
    "            print(msg)\n",
    "            #Return dataframe and other output\n",
    "            #df.columns = ['num_topics', 'coherence', 'model', 'seed', 'no_below', 'no_above']\n",
    "            if file_pkl: \n",
    "                    with open(file_pkl,'wb') as output: pickle.dump(df, output)\n",
    "    return df"
   ]
  },
  {
   "cell_type": "markdown",
   "metadata": {},
   "source": [
    "## III. Running the Gridsearch\n",
    "\n",
    "Now, we run the actual gridsearch. For each search, we specify a certain range of topics (or single topic), as well as the filtering parameters."
   ]
  },
  {
   "cell_type": "markdown",
   "metadata": {},
   "source": [
    "range_topics = range(15, 26)\n",
    "df = gridsearch(data_words_bigrams, range_topics, [15], [0.5], \n",
    "                reps = 10, seedstart = 0, iterations=15, passes=50, file_pkl='scied_norefs_gs_run1.pkl')\n",
    "df.sort_values(by='coherence', ascending=False).head(6)"
   ]
  },
  {
   "cell_type": "markdown",
   "metadata": {},
   "source": [
    "range_topics = range(15, 26)\n",
    "df = gridsearch(data_words_bigrams, range_topics, [15], [0.5], \n",
    "                reps = 10, seedstart = 10, iterations=15, passes=50, file_pkl='scied_norefs_gs_seed10.pkl')\n",
    "df.sort_values(by='coherence', ascending=False).head(6)"
   ]
  },
  {
   "cell_type": "markdown",
   "metadata": {},
   "source": [
    "range_topics = range(26, 29)\n",
    "df = gridsearch(data_words_bigrams, range_topics, [15], [0.5], \n",
    "                reps = 40, seedstart = 0, iterations=15, passes=50, file_pkl='scied_norefs_gs_k26-28_seed0-40.pkl')\n",
    "df.sort_values(by='coherence', ascending=False).head(6)"
   ]
  },
  {
   "cell_type": "markdown",
   "metadata": {},
   "source": [
    "range_topics = range(23, 24)\n",
    "df = gridsearch(data_words_bigrams, range_topics, [15], [0.5], \n",
    "                reps = 100, seedstart = 0, iterations=15, passes=50, file_pkl='scied_norefs_rep_k23_seed0-100.pkl')\n",
    "df.sort_values(by='coherence', ascending=False).head(6)"
   ]
  },
  {
   "cell_type": "markdown",
   "metadata": {},
   "source": [
    "range_topics = range(23, 24)\n",
    "df = gridsearch(data_words_bigrams, range_topics, [15], [0.5], \n",
    "                reps = 100, seedstart = 100, iterations=15, passes=50, file_pkl='scied_norefs_rep_k23_seed100-200.pkl')\n",
    "df.sort_values(by='coherence', ascending=False).head(6)"
   ]
  },
  {
   "cell_type": "markdown",
   "metadata": {},
   "source": [
    "range_topics = range(23, 24)\n",
    "df = gridsearch(data_words_bigrams, range_topics, [15], [0.5], \n",
    "                reps = 100, seedstart = 200, iterations=15, passes=50, file_pkl='scied_norefs_rep_k23_seed200-300.pkl')\n",
    "df.sort_values(by='coherence', ascending=False).head(6)"
   ]
  },
  {
   "cell_type": "code",
   "execution_count": 30,
   "metadata": {},
   "outputs": [
    {
     "name": "stdout",
     "output_type": "stream",
     "text": [
      "Training 3 topics x 1 no_below x 1 no_above x 3 reps = 9 models\n",
      "Finished model 3 of 9 (k = 2): 2'22\" \n",
      "Finished model 6 of 9 (k = 3): 2'3\" \n",
      "Finished model 9 of 9 (k = 4): 12'14\" \n",
      "Finished iteration 9 of 9: num_topics=[2, 3, 4], no_below=15, no_above=0.50, Tokens=  726, 16'39\" \n"
     ]
    },
    {
     "data": {
      "text/html": [
       "<div>\n",
       "<style scoped>\n",
       "    .dataframe tbody tr th:only-of-type {\n",
       "        vertical-align: middle;\n",
       "    }\n",
       "\n",
       "    .dataframe tbody tr th {\n",
       "        vertical-align: top;\n",
       "    }\n",
       "\n",
       "    .dataframe thead th {\n",
       "        text-align: right;\n",
       "    }\n",
       "</style>\n",
       "<table border=\"1\" class=\"dataframe\">\n",
       "  <thead>\n",
       "    <tr style=\"text-align: right;\">\n",
       "      <th></th>\n",
       "      <th>num_topics</th>\n",
       "      <th>coherence</th>\n",
       "      <th>model</th>\n",
       "      <th>seed</th>\n",
       "      <th>no_below</th>\n",
       "      <th>no_above</th>\n",
       "    </tr>\n",
       "  </thead>\n",
       "  <tbody>\n",
       "    <tr>\n",
       "      <th>0</th>\n",
       "      <td>2.0</td>\n",
       "      <td>0.615973</td>\n",
       "      <td>LdaModel(num_terms=726, num_topics=2, decay=0....</td>\n",
       "      <td>300.0</td>\n",
       "      <td>15</td>\n",
       "      <td>0.5</td>\n",
       "    </tr>\n",
       "    <tr>\n",
       "      <th>2</th>\n",
       "      <td>2.0</td>\n",
       "      <td>0.615973</td>\n",
       "      <td>LdaModel(num_terms=726, num_topics=2, decay=0....</td>\n",
       "      <td>302.0</td>\n",
       "      <td>15</td>\n",
       "      <td>0.5</td>\n",
       "    </tr>\n",
       "    <tr>\n",
       "      <th>1</th>\n",
       "      <td>2.0</td>\n",
       "      <td>0.615973</td>\n",
       "      <td>LdaModel(num_terms=726, num_topics=2, decay=0....</td>\n",
       "      <td>301.0</td>\n",
       "      <td>15</td>\n",
       "      <td>0.5</td>\n",
       "    </tr>\n",
       "    <tr>\n",
       "      <th>4</th>\n",
       "      <td>3.0</td>\n",
       "      <td>0.538205</td>\n",
       "      <td>LdaModel(num_terms=726, num_topics=3, decay=0....</td>\n",
       "      <td>301.0</td>\n",
       "      <td>15</td>\n",
       "      <td>0.5</td>\n",
       "    </tr>\n",
       "    <tr>\n",
       "      <th>5</th>\n",
       "      <td>3.0</td>\n",
       "      <td>0.524846</td>\n",
       "      <td>LdaModel(num_terms=726, num_topics=3, decay=0....</td>\n",
       "      <td>302.0</td>\n",
       "      <td>15</td>\n",
       "      <td>0.5</td>\n",
       "    </tr>\n",
       "    <tr>\n",
       "      <th>3</th>\n",
       "      <td>3.0</td>\n",
       "      <td>0.518518</td>\n",
       "      <td>LdaModel(num_terms=726, num_topics=3, decay=0....</td>\n",
       "      <td>300.0</td>\n",
       "      <td>15</td>\n",
       "      <td>0.5</td>\n",
       "    </tr>\n",
       "  </tbody>\n",
       "</table>\n",
       "</div>"
      ],
      "text/plain": [
       "   num_topics  coherence                                              model  \\\n",
       "0         2.0   0.615973  LdaModel(num_terms=726, num_topics=2, decay=0....   \n",
       "2         2.0   0.615973  LdaModel(num_terms=726, num_topics=2, decay=0....   \n",
       "1         2.0   0.615973  LdaModel(num_terms=726, num_topics=2, decay=0....   \n",
       "4         3.0   0.538205  LdaModel(num_terms=726, num_topics=3, decay=0....   \n",
       "5         3.0   0.524846  LdaModel(num_terms=726, num_topics=3, decay=0....   \n",
       "3         3.0   0.518518  LdaModel(num_terms=726, num_topics=3, decay=0....   \n",
       "\n",
       "    seed  no_below  no_above  \n",
       "0  300.0        15       0.5  \n",
       "2  302.0        15       0.5  \n",
       "1  301.0        15       0.5  \n",
       "4  301.0        15       0.5  \n",
       "5  302.0        15       0.5  \n",
       "3  300.0        15       0.5  "
      ]
     },
     "execution_count": 30,
     "metadata": {},
     "output_type": "execute_result"
    }
   ],
   "source": [
    "range_topics = range(1, 5)\n",
    "df = gridsearch(df_clean_y1y2, range_topics, [15], [0.5], \n",
    "                reps = 3, seedstart = 300, iterations=15, passes=50, file_pkl='scied_norefs_rep_k2_seed300-400.pkl')\n",
    "df.sort_values(by='coherence', ascending=False).head(6)"
   ]
  },
  {
   "cell_type": "code",
   "execution_count": 8,
   "metadata": {},
   "outputs": [],
   "source": [
    "df_2_topics_gridsearch = pd.read_pickle('scied_norefs_rep_k2_seed300-400.pkl')"
   ]
  },
  {
   "cell_type": "markdown",
   "metadata": {},
   "source": []
  },
  {
   "cell_type": "markdown",
   "metadata": {},
   "source": [
    "## IV. Plotting the gridsearch results\n",
    "\n",
    "We can use these results to extract the most coherent models out of the run, as well as plot the results:"
   ]
  },
  {
   "cell_type": "code",
   "execution_count": 7,
   "metadata": {},
   "outputs": [],
   "source": [
    "from helpers import gridsearch_plot\n"
   ]
  },
  {
   "cell_type": "markdown",
   "metadata": {},
   "source": [
    "studying alpha. it is symmetric"
   ]
  },
  {
   "cell_type": "code",
   "execution_count": 9,
   "metadata": {},
   "outputs": [
    {
     "name": "stdout",
     "output_type": "stream",
     "text": [
      "Maximum 0.615973 at num_topics=2 \n"
     ]
    },
    {
     "data": {
      "image/png": "[encoded data removed]",
      "text/plain": [
       "<Figure size 1980x1500 with 1 Axes>"
      ]
     },
     "metadata": {},
     "output_type": "display_data"
    }
   ],
   "source": [
    "import scienceplots\n",
    "import matplotlib\n",
    "\n",
    "\n",
    "plt.style.use(['science', 'ieee','no-latex'])\n",
    "matplotlib.rc('font', family='times new roman')\n",
    "gridsearch_plot(df_2_topics_gridsearch)"
   ]
  },
  {
   "cell_type": "code",
   "execution_count": 20,
   "metadata": {},
   "outputs": [
    {
     "data": {
      "text/html": [
       "<div>\n",
       "<style scoped>\n",
       "    .dataframe tbody tr th:only-of-type {\n",
       "        vertical-align: middle;\n",
       "    }\n",
       "\n",
       "    .dataframe tbody tr th {\n",
       "        vertical-align: top;\n",
       "    }\n",
       "\n",
       "    .dataframe thead th {\n",
       "        text-align: right;\n",
       "    }\n",
       "</style>\n",
       "<table border=\"1\" class=\"dataframe\">\n",
       "  <thead>\n",
       "    <tr style=\"text-align: right;\">\n",
       "      <th></th>\n",
       "      <th>num_topics</th>\n",
       "      <th>coherence</th>\n",
       "      <th>model</th>\n",
       "      <th>seed</th>\n",
       "      <th>no_below</th>\n",
       "      <th>no_above</th>\n",
       "    </tr>\n",
       "  </thead>\n",
       "  <tbody>\n",
       "    <tr>\n",
       "      <th>30</th>\n",
       "      <td>23.0</td>\n",
       "      <td>0.409717</td>\n",
       "      <td>LdaModel(num_terms=726, num_topics=23, decay=0...</td>\n",
       "      <td>330.0</td>\n",
       "      <td>15</td>\n",
       "      <td>0.5</td>\n",
       "    </tr>\n",
       "    <tr>\n",
       "      <th>31</th>\n",
       "      <td>23.0</td>\n",
       "      <td>0.382962</td>\n",
       "      <td>LdaModel(num_terms=726, num_topics=23, decay=0...</td>\n",
       "      <td>331.0</td>\n",
       "      <td>15</td>\n",
       "      <td>0.5</td>\n",
       "    </tr>\n",
       "    <tr>\n",
       "      <th>32</th>\n",
       "      <td>23.0</td>\n",
       "      <td>0.398138</td>\n",
       "      <td>LdaModel(num_terms=726, num_topics=23, decay=0...</td>\n",
       "      <td>332.0</td>\n",
       "      <td>15</td>\n",
       "      <td>0.5</td>\n",
       "    </tr>\n",
       "    <tr>\n",
       "      <th>33</th>\n",
       "      <td>23.0</td>\n",
       "      <td>0.395045</td>\n",
       "      <td>LdaModel(num_terms=726, num_topics=23, decay=0...</td>\n",
       "      <td>333.0</td>\n",
       "      <td>15</td>\n",
       "      <td>0.5</td>\n",
       "    </tr>\n",
       "    <tr>\n",
       "      <th>34</th>\n",
       "      <td>23.0</td>\n",
       "      <td>0.401791</td>\n",
       "      <td>LdaModel(num_terms=726, num_topics=23, decay=0...</td>\n",
       "      <td>334.0</td>\n",
       "      <td>15</td>\n",
       "      <td>0.5</td>\n",
       "    </tr>\n",
       "    <tr>\n",
       "      <th>35</th>\n",
       "      <td>23.0</td>\n",
       "      <td>0.379018</td>\n",
       "      <td>LdaModel(num_terms=726, num_topics=23, decay=0...</td>\n",
       "      <td>335.0</td>\n",
       "      <td>15</td>\n",
       "      <td>0.5</td>\n",
       "    </tr>\n",
       "    <tr>\n",
       "      <th>36</th>\n",
       "      <td>23.0</td>\n",
       "      <td>0.396314</td>\n",
       "      <td>LdaModel(num_terms=726, num_topics=23, decay=0...</td>\n",
       "      <td>336.0</td>\n",
       "      <td>15</td>\n",
       "      <td>0.5</td>\n",
       "    </tr>\n",
       "    <tr>\n",
       "      <th>37</th>\n",
       "      <td>23.0</td>\n",
       "      <td>0.416650</td>\n",
       "      <td>LdaModel(num_terms=726, num_topics=23, decay=0...</td>\n",
       "      <td>337.0</td>\n",
       "      <td>15</td>\n",
       "      <td>0.5</td>\n",
       "    </tr>\n",
       "    <tr>\n",
       "      <th>38</th>\n",
       "      <td>23.0</td>\n",
       "      <td>0.360837</td>\n",
       "      <td>LdaModel(num_terms=726, num_topics=23, decay=0...</td>\n",
       "      <td>338.0</td>\n",
       "      <td>15</td>\n",
       "      <td>0.5</td>\n",
       "    </tr>\n",
       "    <tr>\n",
       "      <th>39</th>\n",
       "      <td>23.0</td>\n",
       "      <td>0.396822</td>\n",
       "      <td>LdaModel(num_terms=726, num_topics=23, decay=0...</td>\n",
       "      <td>339.0</td>\n",
       "      <td>15</td>\n",
       "      <td>0.5</td>\n",
       "    </tr>\n",
       "    <tr>\n",
       "      <th>40</th>\n",
       "      <td>23.0</td>\n",
       "      <td>0.385206</td>\n",
       "      <td>LdaModel(num_terms=726, num_topics=23, decay=0...</td>\n",
       "      <td>340.0</td>\n",
       "      <td>15</td>\n",
       "      <td>0.5</td>\n",
       "    </tr>\n",
       "  </tbody>\n",
       "</table>\n",
       "</div>"
      ],
      "text/plain": [
       "    num_topics  coherence                                              model  \\\n",
       "30        23.0   0.409717  LdaModel(num_terms=726, num_topics=23, decay=0...   \n",
       "31        23.0   0.382962  LdaModel(num_terms=726, num_topics=23, decay=0...   \n",
       "32        23.0   0.398138  LdaModel(num_terms=726, num_topics=23, decay=0...   \n",
       "33        23.0   0.395045  LdaModel(num_terms=726, num_topics=23, decay=0...   \n",
       "34        23.0   0.401791  LdaModel(num_terms=726, num_topics=23, decay=0...   \n",
       "35        23.0   0.379018  LdaModel(num_terms=726, num_topics=23, decay=0...   \n",
       "36        23.0   0.396314  LdaModel(num_terms=726, num_topics=23, decay=0...   \n",
       "37        23.0   0.416650  LdaModel(num_terms=726, num_topics=23, decay=0...   \n",
       "38        23.0   0.360837  LdaModel(num_terms=726, num_topics=23, decay=0...   \n",
       "39        23.0   0.396822  LdaModel(num_terms=726, num_topics=23, decay=0...   \n",
       "40        23.0   0.385206  LdaModel(num_terms=726, num_topics=23, decay=0...   \n",
       "\n",
       "     seed  no_below  no_above  \n",
       "30  330.0        15       0.5  \n",
       "31  331.0        15       0.5  \n",
       "32  332.0        15       0.5  \n",
       "33  333.0        15       0.5  \n",
       "34  334.0        15       0.5  \n",
       "35  335.0        15       0.5  \n",
       "36  336.0        15       0.5  \n",
       "37  337.0        15       0.5  \n",
       "38  338.0        15       0.5  \n",
       "39  339.0        15       0.5  \n",
       "40  340.0        15       0.5  "
      ]
     },
     "execution_count": 20,
     "metadata": {},
     "output_type": "execute_result"
    }
   ],
   "source": [
    "df.loc[30:40]"
   ]
  },
  {
   "cell_type": "code",
   "execution_count": null,
   "metadata": {
    "scrolled": false
   },
   "outputs": [],
   "source": [
    "df.loc[83].model.print_topics(num_words=10,num_topics=25)"
   ]
  },
  {
   "cell_type": "code",
   "execution_count": 21,
   "metadata": {},
   "outputs": [
    {
     "data": {
      "text/plain": [
       "[(6,\n",
       "  '0.001*\"white\" + 0.001*\"filter\" + 0.001*\"tungsten\" + 0.001*\"null\" + 0.001*\"detector\" + 0.001*\"hydrogen\" + 0.001*\"transition\" + 0.001*\"telescope\" + 0.001*\"gaussian\" + 0.001*\"stage\"'),\n",
       " (3,\n",
       "  '0.001*\"null\" + 0.001*\"filter\" + 0.001*\"tungsten\" + 0.001*\"white\" + 0.001*\"detector\" + 0.001*\"transition\" + 0.001*\"stage\" + 0.001*\"interferogram\" + 0.001*\"telescope\" + 0.001*\"laser\"'),\n",
       " (4,\n",
       "  '0.001*\"white\" + 0.001*\"transition\" + 0.001*\"telescope\" + 0.001*\"detector\" + 0.001*\"tungsten\" + 0.001*\"null\" + 0.001*\"hydrogen\" + 0.001*\"balmer_serie\" + 0.001*\"filter\" + 0.001*\"gradient\"'),\n",
       " (16,\n",
       "  '0.001*\"orbital\" + 0.001*\"meaning\" + 0.001*\"short\" + 0.001*\"issue\" + 0.001*\"several\" + 0.001*\"lens\" + 0.001*\"less\" + 0.001*\"consequently\" + 0.001*\"problem\" + 0.001*\"gradient\"'),\n",
       " (19,\n",
       "  '0.001*\"filter\" + 0.001*\"white\" + 0.001*\"telescope\" + 0.001*\"null\" + 0.001*\"transition\" + 0.001*\"tungsten\" + 0.001*\"hydrogen\" + 0.001*\"setup\" + 0.001*\"focus\" + 0.001*\"able\"'),\n",
       " (17,\n",
       "  '0.001*\"white\" + 0.001*\"filter\" + 0.001*\"tungsten\" + 0.001*\"null\" + 0.001*\"detector\" + 0.001*\"gaussian\" + 0.001*\"stage\" + 0.001*\"distribution\" + 0.001*\"fit\" + 0.001*\"great\"'),\n",
       " (1,\n",
       "  '0.001*\"white\" + 0.001*\"tungsten\" + 0.001*\"gaussian\" + 0.001*\"filter\" + 0.001*\"stage\" + 0.001*\"detector\" + 0.001*\"null\" + 0.001*\"interferogram\" + 0.001*\"yellow\" + 0.001*\"distribution\"'),\n",
       " (12,\n",
       "  '0.001*\"telescope\" + 0.001*\"hydrogen\" + 0.001*\"gradient\" + 0.001*\"transition\" + 0.001*\"balmer_serie\" + 0.001*\"null\" + 0.001*\"atom\" + 0.001*\"white\" + 0.001*\"hence\" + 0.001*\"tungsten\"'),\n",
       " (5,\n",
       "  '0.079*\"hence\" + 0.062*\"balmer\" + 0.038*\"theoretical\" + 0.035*\"lie\" + 0.030*\"hydrogen\" + 0.028*\"transition\" + 0.026*\"section\" + 0.024*\"important\" + 0.021*\"substitute\" + 0.020*\"degree\"'),\n",
       " (20,\n",
       "  '0.037*\"bright\" + 0.025*\"create\" + 0.025*\"make_sure\" + 0.025*\"integer\" + 0.025*\"sodium\" + 0.025*\"atom\" + 0.013*\"act\" + 0.013*\"split\" + 0.013*\"happen\" + 0.013*\"stable\"'),\n",
       " (0,\n",
       "  '0.093*\"estimate\" + 0.051*\"associate\" + 0.048*\"random\" + 0.032*\"systematic\" + 0.028*\"hydrogen\" + 0.021*\"degree\" + 0.020*\"balmer_serie\" + 0.018*\"investigate\" + 0.018*\"incident\" + 0.018*\"include\"'),\n",
       " (13,\n",
       "  '0.069*\"stage\" + 0.027*\"laser\" + 0.024*\"present\" + 0.022*\"alignment\" + 0.019*\"null\" + 0.019*\"correct\" + 0.016*\"quality\" + 0.013*\"background\" + 0.012*\"parameter\" + 0.012*\"affect\"'),\n",
       " (18,\n",
       "  '0.029*\"stage\" + 0.028*\"white\" + 0.018*\"fourier_transform\" + 0.015*\"wavenumber\" + 0.015*\"detector\" + 0.014*\"relative\" + 0.014*\"distribution\" + 0.014*\"average\" + 0.014*\"interferogram\" + 0.012*\"gaussian\"'),\n",
       " (2,\n",
       "  '0.040*\"hydrogen\" + 0.038*\"transition\" + 0.025*\"average\" + 0.025*\"telescope\" + 0.023*\"balmer_serie\" + 0.023*\"orbit\" + 0.019*\"formula\" + 0.017*\"sin\" + 0.015*\"separation\" + 0.015*\"image\"'),\n",
       " (8,\n",
       "  '0.023*\"filter\" + 0.021*\"hence\" + 0.018*\"setup\" + 0.017*\"white\" + 0.016*\"tungsten\" + 0.016*\"fourier\" + 0.016*\"length\" + 0.016*\"null\" + 0.016*\"analysis\" + 0.014*\"detector\"'),\n",
       " (15,\n",
       "  '0.026*\"null\" + 0.022*\"gaussian\" + 0.022*\"distribution\" + 0.019*\"detector\" + 0.016*\"filter\" + 0.014*\"white\" + 0.013*\"similar\" + 0.012*\"broad\" + 0.011*\"likely\" + 0.011*\"filament\"'),\n",
       " (10,\n",
       "  '0.058*\"filter\" + 0.034*\"tungsten\" + 0.023*\"yellow\" + 0.021*\"white\" + 0.019*\"null\" + 0.014*\"detector\" + 0.013*\"fourier_transform\" + 0.012*\"interferogram\" + 0.010*\"shape\" + 0.010*\"gaussian\"'),\n",
       " (11,\n",
       "  '0.043*\"white\" + 0.035*\"tungsten\" + 0.033*\"null\" + 0.020*\"gaussian\" + 0.018*\"detector\" + 0.016*\"filter\" + 0.015*\"interferogram\" + 0.011*\"laser\" + 0.011*\"stage\" + 0.010*\"travel\"'),\n",
       " (9,\n",
       "  '0.026*\"hydrogen\" + 0.021*\"telescope\" + 0.019*\"transition\" + 0.015*\"focus\" + 0.013*\"collimator\" + 0.013*\"atom\" + 0.013*\"balmer_serie\" + 0.012*\"spectromet\" + 0.011*\"rotate\" + 0.011*\"violet\"'),\n",
       " (21,\n",
       "  '0.017*\"gradient\" + 0.015*\"telescope\" + 0.014*\"accept\" + 0.012*\"transition\" + 0.011*\"systematic\" + 0.009*\"focus\" + 0.009*\"accuracy\" + 0.008*\"percentage\" + 0.008*\"great\" + 0.007*\"hydrogen\"')]"
      ]
     },
     "execution_count": 21,
     "metadata": {},
     "output_type": "execute_result"
    }
   ],
   "source": [
    "df.loc[84].model.print_topics(num_words=10,num_topics=20)"
   ]
  },
  {
   "cell_type": "code",
   "execution_count": 22,
   "metadata": {},
   "outputs": [],
   "source": [
    "def parse_topic_list(raw_topic_list):\n",
    "    \"\"\"Function to take the topic list, and output just the words without weights. Used for visual inspection of topic correspondence\"\"\"\n",
    "    final_topic_list = []\n",
    "    for topic in raw_topic_list:\n",
    "        final_topic_list.append([word[0] for word in topic[1]])\n",
    "        \n",
    "    return final_topic_list"
   ]
  },
  {
   "cell_type": "code",
   "execution_count": 23,
   "metadata": {},
   "outputs": [
    {
     "data": {
      "text/plain": [
       "array([[7.8187571e-05, 8.4887324e-03, 7.8192497e-05, ..., 7.8191486e-05,\n",
       "        7.8191471e-05, 7.8182398e-05],\n",
       "       [2.5764424e-05, 2.6013890e-05, 2.5763919e-05, ..., 2.5761577e-05,\n",
       "        2.5763689e-05, 2.5760453e-05],\n",
       "       [1.5369168e-04, 1.5369730e-04, 1.5369184e-04, ..., 1.5371799e-04,\n",
       "        4.1844463e-03, 1.5368214e-04],\n",
       "       ...,\n",
       "       [1.4850395e-02, 1.5126127e-03, 2.5061197e-03, ..., 6.3295040e-05,\n",
       "        6.3292959e-05, 6.3289495e-05],\n",
       "       [7.9849118e-04, 8.5248384e-06, 2.1221787e-03, ..., 8.3523692e-06,\n",
       "        8.3537789e-06, 8.3516616e-06],\n",
       "       [8.5752335e-04, 1.7037207e-03, 1.0598565e-03, ..., 2.8427555e-03,\n",
       "        6.1813225e-03, 9.5119287e-04]], dtype=float32)"
      ]
     },
     "execution_count": 23,
     "metadata": {},
     "output_type": "execute_result"
    }
   ],
   "source": [
    "df.loc[23].model.get_topics()"
   ]
  },
  {
   "cell_type": "code",
   "execution_count": 24,
   "metadata": {},
   "outputs": [],
   "source": [
    "model1 = df.loc[23].model\n",
    "model2 = df.loc[24].model\n",
    "diffmatrix = model1.diff(model2)"
   ]
  },
  {
   "cell_type": "markdown",
   "metadata": {},
   "source": []
  },
  {
   "cell_type": "code",
   "execution_count": 25,
   "metadata": {
    "scrolled": true
   },
   "outputs": [
    {
     "data": {
      "text/plain": [
       "[10,\n",
       " 21,\n",
       " 13,\n",
       " 17,\n",
       " 8,\n",
       " 8,\n",
       " 21,\n",
       " 7,\n",
       " 17,\n",
       " 8,\n",
       " 21,\n",
       " 7,\n",
       " 21,\n",
       " 15,\n",
       " 7,\n",
       " 1,\n",
       " 21,\n",
       " 8,\n",
       " 7,\n",
       " 7,\n",
       " 8,\n",
       " 12,\n",
       " 15]"
      ]
     },
     "execution_count": 25,
     "metadata": {},
     "output_type": "execute_result"
    }
   ],
   "source": [
    "[np.argmin(line) for line in diffmatrix[0]]"
   ]
  },
  {
   "cell_type": "code",
   "execution_count": 26,
   "metadata": {},
   "outputs": [
    {
     "data": {
      "text/plain": [
       "[(0,\n",
       "  '0.063*\"filter\" + 0.056*\"tungsten\" + 0.045*\"contain\" + 0.044*\"fact\" + 0.030*\"piece\" + 0.028*\"area\" + 0.028*\"yellow\" + 0.026*\"card\" + 0.024*\"resolution\" + 0.024*\"average\"'),\n",
       " (1,\n",
       "  '0.185*\"run\" + 0.045*\"second\" + 0.034*\"accept\" + 0.030*\"seem\" + 0.023*\"less\" + 0.022*\"clearly\" + 0.021*\"spread\" + 0.020*\"attempt\" + 0.019*\"hence\" + 0.019*\"develop\"'),\n",
       " (2,\n",
       "  '0.110*\"profile\" + 0.024*\"white\" + 0.023*\"fourier_transform\" + 0.018*\"tungsten\" + 0.016*\"hence\" + 0.014*\"stage\" + 0.014*\"predict\" + 0.013*\"test\" + 0.012*\"initial\" + 0.011*\"gaussian\"'),\n",
       " (3,\n",
       "  '0.001*\"white\" + 0.001*\"tungsten\" + 0.001*\"telescope\" + 0.001*\"null\" + 0.001*\"gaussian\" + 0.001*\"detector\" + 0.001*\"filter\" + 0.001*\"yellow\" + 0.001*\"interferogram\" + 0.001*\"hydrogen\"'),\n",
       " (4,\n",
       "  '0.001*\"white\" + 0.001*\"tungsten\" + 0.001*\"null\" + 0.001*\"detector\" + 0.001*\"filter\" + 0.001*\"stage\" + 0.001*\"laser\" + 0.001*\"gaussian\" + 0.001*\"yellow\" + 0.001*\"interferogram\"'),\n",
       " (5,\n",
       "  '0.001*\"null\" + 0.001*\"filter\" + 0.001*\"tungsten\" + 0.001*\"white\" + 0.001*\"detector\" + 0.001*\"hydrogen\" + 0.001*\"balmer_serie\" + 0.001*\"transition\" + 0.001*\"telescope\" + 0.001*\"laser\"'),\n",
       " (6,\n",
       "  '0.079*\"stage\" + 0.026*\"laser\" + 0.024*\"present\" + 0.022*\"average\" + 0.016*\"analysis\" + 0.016*\"fourier\" + 0.013*\"correct\" + 0.012*\"beamsplitter\" + 0.009*\"accuracy\" + 0.009*\"quality\"'),\n",
       " (7,\n",
       "  '0.001*\"white\" + 0.001*\"hydrogen\" + 0.001*\"tungsten\" + 0.001*\"filter\" + 0.001*\"null\" + 0.001*\"transition\" + 0.001*\"gradient\" + 0.001*\"able\" + 0.001*\"telescope\" + 0.001*\"gaussian\"'),\n",
       " (8,\n",
       "  '0.042*\"white\" + 0.031*\"tungsten\" + 0.019*\"detector\" + 0.018*\"gaussian\" + 0.018*\"null\" + 0.014*\"interferogram\" + 0.014*\"distribution\" + 0.013*\"fourier_transform\" + 0.010*\"fit\" + 0.009*\"filament\"'),\n",
       " (9,\n",
       "  '0.031*\"hence\" + 0.030*\"hydrogen\" + 0.029*\"average\" + 0.023*\"slope\" + 0.021*\"balmer_serie\" + 0.020*\"rydberg\" + 0.017*\"formula\" + 0.017*\"able\" + 0.017*\"violet\" + 0.016*\"sin\"'),\n",
       " (10,\n",
       "  '0.036*\"sensitivity\" + 0.031*\"hence\" + 0.027*\"several\" + 0.025*\"resolution\" + 0.023*\"main\" + 0.022*\"tungsten\" + 0.022*\"improve\" + 0.021*\"curve\" + 0.018*\"extract\" + 0.018*\"apply\"'),\n",
       " (11,\n",
       "  '0.001*\"filter\" + 0.001*\"white\" + 0.001*\"average\" + 0.001*\"tungsten\" + 0.001*\"transition\" + 0.001*\"gaussian\" + 0.001*\"null\" + 0.001*\"analysis\" + 0.001*\"telescope\" + 0.001*\"detector\"'),\n",
       " (12,\n",
       "  '0.001*\"filter\" + 0.001*\"white\" + 0.001*\"tungsten\" + 0.001*\"null\" + 0.001*\"gaussian\" + 0.001*\"interferogram\" + 0.001*\"detector\" + 0.001*\"fourier_transform\" + 0.001*\"fit\" + 0.001*\"length\"'),\n",
       " (13,\n",
       "  '0.024*\"hydrogen\" + 0.019*\"transition\" + 0.017*\"telescope\" + 0.016*\"focus\" + 0.014*\"collimator\" + 0.013*\"sodium\" + 0.013*\"scale\" + 0.013*\"ray\" + 0.012*\"degree\" + 0.012*\"rotate\"'),\n",
       " (14,\n",
       "  '0.085*\"look\" + 0.056*\"quite\" + 0.042*\"simulation\" + 0.038*\"simply\" + 0.032*\"wide\" + 0.031*\"able\" + 0.026*\"go\" + 0.024*\"happen\" + 0.022*\"combine\" + 0.021*\"white\"'),\n",
       " (15,\n",
       "  '0.017*\"accept\" + 0.016*\"telescope\" + 0.011*\"scale\" + 0.010*\"violet\" + 0.010*\"transition\" + 0.009*\"balmer_serie\" + 0.009*\"reading\" + 0.009*\"focus\" + 0.008*\"systematic\" + 0.008*\"collimator\"'),\n",
       " (16,\n",
       "  '0.001*\"white\" + 0.001*\"filter\" + 0.001*\"null\" + 0.001*\"tungsten\" + 0.001*\"gaussian\" + 0.001*\"stage\" + 0.001*\"hence\" + 0.001*\"interferogram\" + 0.001*\"distribution\" + 0.001*\"fourier_transform\"'),\n",
       " (17,\n",
       "  '0.026*\"telescope\" + 0.026*\"hydrogen\" + 0.024*\"transition\" + 0.020*\"gradient\" + 0.016*\"balmer_serie\" + 0.013*\"atom\" + 0.012*\"diffract\" + 0.011*\"random\" + 0.011*\"separation\" + 0.011*\"focus\"'),\n",
       " (18,\n",
       "  '0.032*\"discrete\" + 0.026*\"experimental\" + 0.025*\"balmer_serie\" + 0.025*\"fall\" + 0.019*\"verify\" + 0.019*\"transition\" + 0.013*\"relationship\" + 0.013*\"radiation\" + 0.013*\"decrease\" + 0.013*\"consist\"'),\n",
       " (19,\n",
       "  '0.047*\"setup\" + 0.040*\"alignment\" + 0.024*\"null\" + 0.022*\"noise\" + 0.016*\"analysis\" + 0.016*\"achieve\" + 0.016*\"random\" + 0.015*\"background\" + 0.014*\"include\" + 0.013*\"sample\"'),\n",
       " (20,\n",
       "  '0.001*\"telescope\" + 0.001*\"hydrogen\" + 0.001*\"balmer_serie\" + 0.001*\"white\" + 0.001*\"transition\" + 0.001*\"gradient\" + 0.001*\"focus\" + 0.001*\"filter\" + 0.001*\"collimator\" + 0.001*\"tungsten\"'),\n",
       " (21,\n",
       "  '0.048*\"filter\" + 0.035*\"null\" + 0.025*\"tungsten\" + 0.024*\"white\" + 0.018*\"gaussian\" + 0.017*\"detector\" + 0.014*\"yellow\" + 0.012*\"interferogram\" + 0.011*\"laser\" + 0.008*\"interferometer\"'),\n",
       " (22,\n",
       "  '0.067*\"estimate\" + 0.052*\"associate\" + 0.032*\"hydrogen\" + 0.032*\"random\" + 0.024*\"theoretical\" + 0.023*\"experimental\" + 0.022*\"systematic\" + 0.022*\"balmer_serie\" + 0.020*\"degree\" + 0.019*\"resolution\"')]"
      ]
     },
     "execution_count": 26,
     "metadata": {},
     "output_type": "execute_result"
    }
   ],
   "source": [
    "model2.print_topics(num_topics=50)"
   ]
  },
  {
   "cell_type": "code",
   "execution_count": 27,
   "metadata": {
    "scrolled": false
   },
   "outputs": [
    {
     "name": "stdout",
     "output_type": "stream",
     "text": [
      "Topic from model 1:  ['several', 'hence', 'main', 'resolution', 'way', 'sensitivity', 'second', 'improve', 'phenomenon', 'furthermore']\n",
      "Topic from model 2:  ['stage', 'tungsten', 'white', 'null', 'filter', 'detector', 'gaussian', 'present', 'laser', 'fourier_transform'] \n",
      "\n",
      "Topic from model 1:  ['filter', 'beamsplitter', 'tungsten', 'null', 'detector', 'experimental', 'optical', 'step', 'gaussian', 'central']\n",
      "Topic from model 2:  ['tungsten', 'filter', 'white', 'null', 'gaussian', 'detector', 'curve', 'distribution', 'yellow', 'haidinger'] \n",
      "\n",
      "Topic from model 1:  ['hence', 'camera', 'degree', 'perhaps', 'repeat', 'transition', 'simple', 'note', 'sodium', 'collimator']\n",
      "Topic from model 2:  ['tungsten', 'hydrogen', 'transition', 'white', 'collimator', 'telescope', 'null', 'focus', 'filter', 'image'] \n",
      "\n",
      "Topic from model 1:  ['hydrogen', 'balmer_serie', 'estimate', 'average', 'random', 'experimental', 'associate', 'resolution', 'atom', 'able']\n",
      "Topic from model 2:  ['telescope', 'hydrogen', 'transition', 'balmer_serie', 'focus', 'collimator', 'gradient', 'accept', 'atom', 'image'] \n",
      "\n",
      "Topic from model 1:  ['filter', 'white', 'detector', 'beat', 'oscillation', 'simulation', 'tungsten', 'wavenumber', 'yellow', 'wide']\n",
      "Topic from model 2:  ['white', 'filter', 'tungsten', 'detector', 'null', 'travel', 'yellow', 'fourier_transform', 'interferogram', 'gaussian'] \n",
      "\n",
      "Topic from model 1:  ['filament', 'gaussian', 'detector', 'similar', 'null', 'look', 'able', 'white', 'amplitude', 'estimate']\n",
      "Topic from model 2:  ['stage', 'tungsten', 'white', 'null', 'filter', 'detector', 'gaussian', 'present', 'laser', 'fourier_transform'] \n",
      "\n",
      "Topic from model 1:  ['spread', 'test', 'technique', 'next', 'accept', 'release', 'percentage', 'second', 'mercury', 'locate']\n",
      "Topic from model 2:  ['null', 'stage', 'white', 'interferogram', 'laser', 'gaussian', 'filter', 'tungsten', 'fourier_transform', 'alignment'] \n",
      "\n",
      "Topic from model 1:  ['white', 'tungsten', 'null', 'transition', 'telescope', 'filter', 'hydrogen', 'accept', 'interferogram', 'estimate']\n",
      "Topic from model 2:  ['white', 'stage', 'null', 'telescope', 'tungsten', 'filter', 'interferogram', 'alignment', 'detector', 'gaussian'] \n",
      "\n",
      "Topic from model 1:  ['transition', 'orbit', 'accept', 'telescope', 'separation', 'atom', 'gradient', 'air', 'systematic', 'balmer_serie']\n",
      "Topic from model 2:  ['telescope', 'hydrogen', 'transition', 'balmer_serie', 'focus', 'collimator', 'gradient', 'accept', 'atom', 'image'] \n",
      "\n",
      "Topic from model 1:  ['tungsten', 'white', 'distribution', 'detector', 'null', 'average', 'sensitivity', 'filter', 'fact', 'yellow']\n",
      "Topic from model 2:  ['white', 'filter', 'tungsten', 'detector', 'null', 'travel', 'yellow', 'fourier_transform', 'interferogram', 'gaussian'] \n",
      "\n",
      "Topic from model 1:  ['travel', 'detector', 'go', 'filter', 'stage', 'null', 'splitter', 'interfere', 'shift', 'tungsten']\n",
      "Topic from model 2:  ['white', 'filter', 'tungsten', 'detector', 'null', 'travel', 'yellow', 'fourier_transform', 'interferogram', 'gaussian'] \n",
      "\n",
      "Topic from model 1:  ['filter', 'white', 'tungsten', 'gaussian', 'detector', 'null', 'stage', 'yellow', 'interferogram', 'travel']\n",
      "Topic from model 2:  ['white', 'null', 'gaussian', 'tungsten', 'filter', 'detector', 'stage', 'interferogram', 'telescope', 'transition'] \n",
      "\n",
      "Topic from model 1:  ['white', 'tungsten', 'null', 'filter', 'gaussian', 'interferogram', 'detector', 'yellow', 'laser', 'interferometer']\n",
      "Topic from model 2:  ['white', 'filter', 'tungsten', 'detector', 'null', 'travel', 'yellow', 'fourier_transform', 'interferogram', 'gaussian'] \n",
      "\n",
      "Topic from model 1:  ['transition', 'gas', 'hot', 'image', 'continuous', 'spectromet', 'violet', 'disperse', 'precisely', 'discrete']\n",
      "Topic from model 2:  ['telescope', 'hydrogen', 'transition', 'balmer_serie', 'focus', 'collimator', 'gradient', 'accept', 'atom', 'image'] \n",
      "\n",
      "Topic from model 1:  ['hydrogen', 'balmer_serie', 'telescope', 'atom', 'transition', 'accept', 'rotate', 'collimator', 'diffract', 'gradient']\n",
      "Topic from model 2:  ['white', 'stage', 'null', 'telescope', 'tungsten', 'filter', 'interferogram', 'alignment', 'detector', 'gaussian'] \n",
      "\n",
      "Topic from model 1:  ['run', 'second', 'seem', 'accept', 'less', 'clearly', 'attempt', 'develop', 'hence', 'alignment']\n",
      "Topic from model 2:  ['run', 'second', 'accept', 'less', 'clearly', 'hence', 'develop', 'alignment', 'seem', 'attempt'] \n",
      "\n",
      "Topic from model 1:  ['filter', 'fourier', 'yellow', 'screen', 'establish', 'white', 'beamsplitter', 'null', 'principle', 'shape']\n",
      "Topic from model 2:  ['white', 'filter', 'tungsten', 'detector', 'null', 'travel', 'yellow', 'fourier_transform', 'interferogram', 'gaussian'] \n",
      "\n",
      "Topic from model 1:  ['white', 'profile', 'fourier_transform', 'length', 'tungsten', 'detector', 'characteristic', 'interferogram', 'band', 'investigation']\n",
      "Topic from model 2:  ['null', 'stage', 'white', 'interferogram', 'laser', 'gaussian', 'filter', 'tungsten', 'fourier_transform', 'alignment'] \n",
      "\n",
      "Topic from model 1:  ['hydrogen', 'sodium', 'filter', 'direction', 'spectromet', 'diffract', 'reach', 'minute', 'resolution', 'material']\n",
      "Topic from model 2:  ['filter', 'white', 'tungsten', 'null', 'detector', 'gaussian', 'experimental', 'fourier_transform', 'yellow', 'transition'] \n",
      "\n",
      "Topic from model 1:  ['tungsten', 'white', 'null', 'detector', 'gaussian', 'filter', 'interferogram', 'distribution', 'transition', 'hydrogen']\n",
      "Topic from model 2:  ['white', 'stage', 'null', 'telescope', 'tungsten', 'filter', 'interferogram', 'alignment', 'detector', 'gaussian'] \n",
      "\n",
      "Topic from model 1:  ['radiation', 'tungsten', 'null', 'filament', 'stage', 'body', 'law', 'detector', 'absolute', 'fourier_transform']\n",
      "Topic from model 2:  ['white', 'filter', 'tungsten', 'detector', 'null', 'travel', 'yellow', 'fourier_transform', 'interferogram', 'gaussian'] \n",
      "\n",
      "Topic from model 1:  ['stage', 'null', 'laser', 'interferogram', 'alignment', 'present', 'gaussian', 'analysis', 'filter', 'white']\n",
      "Topic from model 2:  ['null', 'stage', 'white', 'interferogram', 'laser', 'gaussian', 'filter', 'tungsten', 'fourier_transform', 'alignment'] \n",
      "\n",
      "Topic from model 1:  ['telescope', 'hydrogen', 'transition', 'focus', 'collimator', 'scale', 'gradient', 'rotate', 'spectromet', 'accept']\n",
      "Topic from model 2:  ['telescope', 'hydrogen', 'transition', 'balmer_serie', 'focus', 'collimator', 'gradient', 'accept', 'atom', 'image'] \n",
      "\n"
     ]
    }
   ],
   "source": [
    "#establish the two models\n",
    "model1 = df.loc[23].model\n",
    "model2 = df.loc[21].model\n",
    "\n",
    "diffmatrix = model1.diff(model2) #create the diff matrix\n",
    "loc_overlap = [np.argmin(line) for line in diffmatrix[0]] #find the locations of the most overlapping topics\n",
    "\n",
    "#testlist = parse_topic_list(model1.show_topics(formatted=False)) #create a formatted list of the words\n",
    "\n",
    "for i, j in enumerate(loc_overlap): #iterate through the number of topics in the examined section of the matrix\n",
    "    print(\"Topic from model 1: \", parse_topic_list(model1.show_topics(num_topics=50,formatted=False))[i]) \n",
    "    print(\"Topic from model 2: \", parse_topic_list(model2.show_topics(num_topics=50,formatted=False))[j], '\\n')"
   ]
  },
  {
   "cell_type": "code",
   "execution_count": 28,
   "metadata": {},
   "outputs": [
    {
     "data": {
      "text/plain": [
       "13"
      ]
     },
     "execution_count": 28,
     "metadata": {},
     "output_type": "execute_result"
    },
    {
     "name": "stdout",
     "output_type": "stream",
     "text": [
      "[22, 15, 11, 13, 20, 22, 14, 4, 13, 20, 20, 8, 20, 13, 4, 21, 20, 14, 19, 4, 20, 14, 13]\n",
      "[ 4  8 11 13 14 15 19 20 21 22]\n"
     ]
    }
   ],
   "source": [
    "len(loc_overlap)-len(np.unique(loc_overlap))\n",
    "print(loc_overlap)\n",
    "print(np.unique(loc_overlap))"
   ]
  },
  {
   "cell_type": "code",
   "execution_count": null,
   "metadata": {},
   "outputs": [],
   "source": []
  },
  {
   "cell_type": "code",
   "execution_count": null,
   "metadata": {},
   "outputs": [],
   "source": []
  },
  {
   "cell_type": "code",
   "execution_count": null,
   "metadata": {},
   "outputs": [],
   "source": []
  }
 ],
 "metadata": {
  "kernelspec": {
   "display_name": "base",
   "language": "python",
   "name": "python3"
  },
  "language_info": {
   "codemirror_mode": {
    "name": "ipython",
    "version": 3
   },
   "file_extension": ".py",
   "mimetype": "text/x-python",
   "name": "python",
   "nbconvert_exporter": "python",
   "pygments_lexer": "ipython3",
   "version": "3.8.8"
  },
  "vscode": {
   "interpreter": {
    "hash": "7bf9169aea3bf43030d2045b9506020b24091b3061df9b5cfee19d2eac11c6ed"
   }
  }
 },
 "nbformat": 4,
 "nbformat_minor": 2
}
