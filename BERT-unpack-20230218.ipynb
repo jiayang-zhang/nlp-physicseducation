{
 "cells": [
  {
   "attachments": {},
   "cell_type": "markdown",
   "metadata": {},
   "source": [
    "Load history file"
   ]
  },
  {
   "cell_type": "code",
   "execution_count": 78,
   "metadata": {},
   "outputs": [],
   "source": [
    "import numpy as np\n",
    "import glob"
   ]
  },
  {
   "cell_type": "code",
   "execution_count": 115,
   "metadata": {},
   "outputs": [],
   "source": [
    "year = 'Y2'\n",
    "label_name = 'ArgumentLevel'"
   ]
  },
  {
   "cell_type": "code",
   "execution_count": 116,
   "metadata": {},
   "outputs": [],
   "source": [
    "folderpath = '/Users/jiayangzhang/Library/CloudStorage/GoogleDrive-jiayang.zhang@icloud.com/My Drive/nlp-physicseducation/outputs'\n",
    "history_unpackfrom = '/BERT20230217/{year}/{label_name}'.format(\n",
    "        year = year, \n",
    "        label_name = label_name, \n",
    "        )\n",
    "\n",
    "filepath_list = glob.glob(folderpath+history_unpackfrom+'/*.npy')"
   ]
  },
  {
   "cell_type": "code",
   "execution_count": 117,
   "metadata": {},
   "outputs": [
    {
     "name": "stdout",
     "output_type": "stream",
     "text": [
      "{'loss': [1.8300161361694336, 1.5955016613006592, 1.4526735544204712, 1.3425894975662231], 'accuracry': [0.28125, 0.3125, 0.328125, 0.46875], 'val_loss': [1.4720665216445923, 1.3161994218826294, 1.3652496337890625, 1.1389384269714355], 'val_accuracry': [0.5, 0.5, 0.3125, 0.6875]}\n",
      "{'loss': [1.5963854789733887, 1.380469799041748, 1.2593845129013062, 1.140805721282959], 'accuracry': [0.328125, 0.4375, 0.5, 0.59375], 'val_loss': [1.3761975765228271, 1.4088881015777588, 1.1764529943466187, 0.9706096053123474], 'val_accuracry': [0.5, 0.3125, 0.625, 0.625]}\n",
      "{'loss': [1.5699940919876099, 1.3948863744735718, 1.3462140560150146, 1.3247785568237305], 'accuracry': [0.25, 0.4375, 0.40625, 0.46875], 'val_loss': [1.386126160621643, 1.3310173749923706, 1.3612524271011353, 1.0379955768585205], 'val_accuracry': [0.5, 0.25, 0.5, 0.75]}\n",
      "{'loss': [1.7461233139038086, 1.4203310012817383, 1.3937222957611084, 1.3538029193878174], 'accuracry': [0.109375, 0.53125, 0.453125, 0.46875], 'val_loss': [1.4821171760559082, 1.3680857419967651, 1.1716601848602295, 1.3450779914855957], 'val_accuracry': [0.3125, 0.4375, 0.6875, 0.375]}\n",
      "{'loss': [1.6533889770507812, 1.4908876419067383, 1.4844696521759033, 1.336768627166748], 'accuracry': [0.1875, 0.34375, 0.328125, 0.421875], 'val_loss': [1.4879696369171143, 1.5639634132385254, 1.1255664825439453, 1.2426109313964844], 'val_accuracry': [0.3125, 0.1875, 0.625, 0.4375]}\n",
      "\n",
      "[0.6875, 0.625, 0.75, 0.375, 0.4375]\n",
      "\n",
      "0.575 0.0723489806424389\n"
     ]
    }
   ],
   "source": [
    "validation_accuracy = []\n",
    "\n",
    "for filepath in filepath_list:\n",
    "\n",
    "    history = np.load(filepath,allow_pickle='TRUE').item() # unpack history data\n",
    "    print(history)\n",
    "\n",
    "    validation_accuracy.append(history['val_accuracry'][-1]) # append accuracy value from the last epoch\n",
    "print()\n",
    "print(validation_accuracy)\n",
    "print()\n",
    "\n",
    "\n",
    "validation_accuracy_average = np.average(validation_accuracy)\n",
    "validation_accuracy_seom = np.std(validation_accuracy, ddof=1) / np.sqrt(np.size(validation_accuracy)) # standard error of the mean\n",
    "\n",
    "print(validation_accuracy_average, validation_accuracy_seom)"
   ]
  }
 ],
 "metadata": {
  "kernelspec": {
   "display_name": "Python 3",
   "language": "python",
   "name": "python3"
  },
  "language_info": {
   "codemirror_mode": {
    "name": "ipython",
    "version": 3
   },
   "file_extension": ".py",
   "mimetype": "text/x-python",
   "name": "python",
   "nbconvert_exporter": "python",
   "pygments_lexer": "ipython3",
   "version": "3.9.13"
  },
  "orig_nbformat": 4,
  "vscode": {
   "interpreter": {
    "hash": "397704579725e15f5c7cb49fe5f0341eb7531c82d19f2c29d197e8b64ab5776b"
   }
  }
 },
 "nbformat": 4,
 "nbformat_minor": 2
}
