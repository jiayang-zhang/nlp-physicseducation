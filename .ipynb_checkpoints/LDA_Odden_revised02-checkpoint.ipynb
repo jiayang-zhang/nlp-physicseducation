{
 "cells": [
  {
   "cell_type": "markdown",
   "id": "87f47db5",
   "metadata": {},
   "source": [
    "# Revised Odden's LDA \n",
    "(adapted for nlp in physics education project)"
   ]
  },
  {
   "cell_type": "markdown",
   "id": "9790fccc",
   "metadata": {},
   "source": [
    "# 10 - Modeling Science Education topics over time using Latent Dirichlet Allocation\n"
   ]
  },
  {
   "cell_type": "code",
   "execution_count": 1,
   "id": "64e98e69",
   "metadata": {},
   "outputs": [
    {
     "data": {
      "text/html": [
       "<style>.container { width:95% !important; }</style>"
      ],
      "text/plain": [
       "<IPython.core.display.HTML object>"
      ]
     },
     "metadata": {},
     "output_type": "display_data"
    }
   ],
   "source": [
    "# Print out  all expressions\n",
    "from IPython.core.interactiveshell import InteractiveShell\n",
    "InteractiveShell.ast_node_interactivity = \"all\" #default 'last_expr'\n",
    "from IPython.core.display import display, HTML\n",
    "display(HTML(\"<style>.container { width:95% !important; }</style>\")) "
   ]
  },
  {
   "cell_type": "code",
   "execution_count": 4,
   "id": "160edbc5",
   "metadata": {},
   "outputs": [
    {
     "name": "stderr",
     "output_type": "stream",
     "text": [
      "/Users/jiayangzhang/anaconda3/lib/python3.8/site-packages/ipykernel/ipkernel.py:287: DeprecationWarning: `should_run_async` will not call `transform_cell` automatically in the future. Please pass the result to `transformed_cell` argument and any exception that happen during thetransform in `preprocessing_exc_tuple` in IPython 7.17 and above.\n",
      "  and should_run_async(code)\n"
     ]
    }
   ],
   "source": [
    "#Import gensim, our library for text analysis\n",
    "import gensim\n",
    "from gensim.parsing.preprocessing import STOPWORDS\n",
    "from gensim.corpora.dictionary import Dictionary\n",
    "from sklearn.feature_extraction.text import CountVectorizer\n",
    "\n",
    "# Plotting tools\n",
    "import pyLDAvis\n",
    "# import pyLDAvis.gensim  # don't skip this\n",
    "import pyLDAvis.gensim_models\n",
    "\n",
    "# Import usual data analysis tools\n",
    "import pandas as pd\n",
    "import matplotlib.pyplot as plt\n",
    "%matplotlib inline\n",
    "import numpy as np\n",
    "#np.random.seed(2018)\n",
    "\n",
    "import pickle\n",
    "\n",
    "import warnings\n",
    "warnings.filterwarnings(\"ignore\", category=DeprecationWarning);\n",
    "\n",
    "import os"
   ]
  },
  {
   "cell_type": "markdown",
   "id": "238c4375",
   "metadata": {},
   "source": [
    "## II. Loading in and filtering the data"
   ]
  },
  {
   "cell_type": "code",
   "execution_count": 8,
   "id": "0a08994a",
   "metadata": {},
   "outputs": [],
   "source": [
    "df = pd.read_csv('./outputs/labels_cleaned_y1y2.csv')"
   ]
  },
  {
   "cell_type": "code",
   "execution_count": null,
   "id": "d3e3ea18",
   "metadata": {},
   "outputs": [],
   "source": []
  },
  {
   "cell_type": "markdown",
   "id": "e397d06f",
   "metadata": {},
   "source": [
    "### A. Plotting top words in all documents"
   ]
  },
  {
   "cell_type": "code",
   "execution_count": 6,
   "id": "eddf3df6",
   "metadata": {},
   "outputs": [],
   "source": [
    "from helpers import plot_freq_dist,get_top_n_words,plot_words_freq"
   ]
  },
  {
   "cell_type": "code",
   "execution_count": null,
   "id": "4abda43c",
   "metadata": {},
   "outputs": [],
   "source": [
    "\n",
    "corpus = [ w for doc in data_words_bigrams for w in doc ]\n",
    "print('Total words: \\033[1m%d\\033[0m, unique words: \\033[1m%d\\033[0m' % (len(corpus), len(set(corpus))))\n",
    "\n",
    "[words, freq, ids] = get_top_n_words(corpus, n_top_words=None)\n",
    "fig = plot_freq_dist(freq, range=[0,8000])\n",
    "fig, ax = plot_words_freq(words, freq, 15)"
   ]
  }
 ],
 "metadata": {
  "kernelspec": {
   "display_name": "Python 3",
   "language": "python",
   "name": "python3"
  },
  "language_info": {
   "codemirror_mode": {
    "name": "ipython",
    "version": 3
   },
   "file_extension": ".py",
   "mimetype": "text/x-python",
   "name": "python",
   "nbconvert_exporter": "python",
   "pygments_lexer": "ipython3",
   "version": "3.8.8"
  }
 },
 "nbformat": 4,
 "nbformat_minor": 5
}
