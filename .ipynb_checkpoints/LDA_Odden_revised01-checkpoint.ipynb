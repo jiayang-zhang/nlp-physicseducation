{
 "cells": [
  {
   "cell_type": "markdown",
   "id": "653be670",
   "metadata": {},
   "source": [
    "# Revised Odden's LDA \n",
    "(adapted for nlp in physics education project)"
   ]
  },
  {
   "cell_type": "markdown",
   "id": "a722faf0",
   "metadata": {},
   "source": [
    "# 05 - Data Cleaning for Science Education Articles"
   ]
  },
  {
   "cell_type": "code",
   "execution_count": 6,
   "id": "83f90eb9",
   "metadata": {},
   "outputs": [
    {
     "data": {
      "text/html": [
       "<style>.container { width:95% !important; }</style>"
      ],
      "text/plain": [
       "<IPython.core.display.HTML object>"
      ]
     },
     "metadata": {},
     "output_type": "display_data"
    }
   ],
   "source": [
    "# Print out  all expressions\n",
    "from IPython.core.interactiveshell import InteractiveShell\n",
    "InteractiveShell.ast_node_interactivity = \"all\" #default 'last_expr'\n",
    "# Wider cells\n",
    "from IPython.core.display import display, HTML\n",
    "display(HTML(\"<style>.container { width:95% !important; }</style>\"))"
   ]
  },
  {
   "cell_type": "code",
   "execution_count": 7,
   "id": "ee50f77d",
   "metadata": {},
   "outputs": [
    {
     "data": {
      "text/plain": [
       "True"
      ]
     },
     "execution_count": 7,
     "metadata": {},
     "output_type": "execute_result"
    },
    {
     "data": {
      "text/plain": [
       "True"
      ]
     },
     "execution_count": 7,
     "metadata": {},
     "output_type": "execute_result"
    },
    {
     "data": {
      "text/plain": [
       "True"
      ]
     },
     "execution_count": 7,
     "metadata": {},
     "output_type": "execute_result"
    }
   ],
   "source": [
    "# Imports\n",
    "import pickle\n",
    "import pandas as pd\n",
    "import numpy as np\n",
    "\n",
    "#Import regular expressions, for data processing\n",
    "import re\n",
    "\n",
    "import gensim\n",
    "from gensim.parsing.preprocessing import STOPWORDS\n",
    "from gensim.corpora import Dictionary\n",
    "import nltk\n",
    "from nltk.corpus import wordnet\n",
    "from nltk import pos_tag\n",
    "nltk.download('wordnet',quiet=True)\n",
    "nltk.download('punkt',quiet=True)   #required by word_tokenize method\n",
    "nltk.download('averaged_perceptron_tagger',quiet=True) #required by pos_tag method"
   ]
  },
  {
   "cell_type": "code",
   "execution_count": 8,
   "id": "157e60ae",
   "metadata": {},
   "outputs": [],
   "source": [
    "from helpers import find_in_list"
   ]
  },
  {
   "cell_type": "code",
   "execution_count": 9,
   "id": "804ae090",
   "metadata": {},
   "outputs": [
    {
     "data": {
      "text/plain": [
       "'\\nimport importlib\\nimport helpers\\nimportlib.reload(helpers)\\n'"
      ]
     },
     "execution_count": 9,
     "metadata": {},
     "output_type": "execute_result"
    }
   ],
   "source": [
    "# reload any module\n",
    "'''\n",
    "import importlib\n",
    "import helpers\n",
    "importlib.reload(helpers)\n",
    "'''"
   ]
  },
  {
   "cell_type": "markdown",
   "id": "ae07c8d6",
   "metadata": {},
   "source": [
    "## Reading the datafile"
   ]
  },
  {
   "cell_type": "code",
   "execution_count": 10,
   "id": "c318a5cb",
   "metadata": {},
   "outputs": [],
   "source": [
    "def ML_process(text):\n",
    "    filt_text = text\n",
    "    #remove 'cid'\n",
    "    filt_text = re.sub('\\W(cid:\\d{0,3})\\W', '', filt_text) #Symbols such as @    \n",
    "    #remove some words in all-caps\n",
    "    #USELESS NOW cause RawTextProcesser_* converted everything to lower case\n",
    "    filt_text = re.sub(r'(?<=\\W)(INTRODUCTION|CONCLUSION[S]?|BACKGROUND|ABSTRACT|ANALYSIS|EXPERIMENTAL|METHOD[S]?|METHODOLOGY|MOTIVATION[S]?|PRELIMINARY|RESULTS|APPLICATIONS|CONCLUDING|IMPLEMENTATION|EVALUATION|REMARKS|DISCUSSION[S]?|ACKNOWLEDGEMENTS|FUTURE PLANS|FUTURE WORK|FUTURE REASEARCH|SUMMARY|FIGURE[S]?|FIG|TABLE|I\\.|II|III|IV|VI{0,3}|IX|X|XI{0,3})(?=\\W)', \n",
    "                       '', filt_text)\n",
    "    #remove newlines, tabs, etc. also remove digits (\\d) and bullet points (\\uf0b7)\n",
    "    filt_text = re.sub('[\\t\\n\\r\\f\\v\\d\\uf0b7]', ' ', filt_text)\n",
    "    #removes all special characters that aren't numbers or letters\n",
    "    filt_text = re.sub('[^A-Za-z0-9]+', ' ', filt_text)\n",
    "    #split lines\n",
    "    filt_text = re.sub('- ', '', filt_text)\n",
    "    #to lower case\n",
    "    filt_text = filt_text.lower()\n",
    "    \n",
    "    #tlie -> the\n",
    "    filt_text = re.sub(' tlie ', ' the ', filt_text)\n",
    "    #per cent -> percent\n",
    "    filt_text = re.sub(' per cent ', ' percent ', filt_text)\n",
    "    # )ed -> fied\n",
    "    #filt_text = re.sub(re.escape(' \\)ed '), 'fied ', filt_text)\n",
    "    # - cation -> cation\n",
    "    #filt_text = re.sub('- cation ', 'cation ', filt_text)\n",
    "    return filt_text"
   ]
  },
  {
   "cell_type": "markdown",
   "id": "d2697533",
   "metadata": {},
   "source": [
    "# 06 - Tokenize_MakeBigrams"
   ]
  },
  {
   "cell_type": "markdown",
   "id": "89bb8c2d",
   "metadata": {},
   "source": [
    "## Removing stopwords and stemming\n",
    "\n",
    "Now, we can remove the stopwords and do the stemming, leaving us with a list of documents, each of which is essentially a tokenized list of words."
   ]
  },
  {
   "cell_type": "code",
   "execution_count": 11,
   "id": "f0aa331d",
   "metadata": {},
   "outputs": [],
   "source": [
    "def sent_to_words(list_sentences):\n",
    "    return [gensim.utils.simple_preprocess(str(sentence), deacc=True) for sentence in list_sentences]  #deacc=True removes accent marks from tokens (incl. punctuations)\n",
    "\n",
    "def remove_stopwords(tokens):\n",
    "    return [[word for word in gensim.utils.simple_preprocess(str(doc)) if word not in STOPWORDS ] for doc in tokens]\n",
    "\n",
    "def get_wordnet_pos(word): #Provide a POS tag\n",
    "    \"\"\"Map POS tag to first character lemmatize() accepts\"\"\"\n",
    "    tag = pos_tag([word])[0][1][0].upper()\n",
    "    tag_dict = {\"J\": wordnet.ADJ,\n",
    "                \"N\": wordnet.NOUN,\n",
    "                \"V\": wordnet.VERB,\n",
    "                \"R\": wordnet.ADV}\n",
    "    return tag_dict.get(tag, wordnet.NOUN) #return NOUN by default\n",
    "\n",
    "def lemmatize_token(token):\n",
    "    return nltk.stem.WordNetLemmatizer().lemmatize(token, get_wordnet_pos(token))\n",
    "\n",
    "def lemmatize(token_list):\n",
    "    '''Input example: [\"he\", \"matches\", \"the\", \"profile\"]'''\n",
    "    return [lemmatize_token(token) for token in token_list]"
   ]
  },
  {
   "cell_type": "markdown",
   "id": "1f61b317",
   "metadata": {},
   "source": [
    "# 07 - Choose_noabove_nobelow"
   ]
  },
  {
   "cell_type": "code",
   "execution_count": null,
   "id": "2a9d4632",
   "metadata": {},
   "outputs": [],
   "source": [
    "import gensim\n",
    "from sklearn.feature_extraction.text import CountVectorizer\n",
    "\n",
    "# Import usual data analysis tools\n",
    "import pandas as pd\n",
    "import matplotlib.pyplot as plt\n",
    "%matplotlib inline\n",
    "import numpy as np\n",
    "#np.random.seed(2018)\n",
    "\n",
    "import pickle\n",
    "\n",
    "import warnings\n",
    "warnings.filterwarnings(\"ignore\", category=DeprecationWarning);"
   ]
  },
  {
   "cell_type": "code",
   "execution_count": null,
   "id": "4aa1aab4",
   "metadata": {},
   "outputs": [],
   "source": [
    "from helpers import plot_freq_dist,get_top_n_words,plot_words_freq"
   ]
  }
 ],
 "metadata": {
  "kernelspec": {
   "display_name": "Python 3",
   "language": "python",
   "name": "python3"
  },
  "language_info": {
   "codemirror_mode": {
    "name": "ipython",
    "version": 3
   },
   "file_extension": ".py",
   "mimetype": "text/x-python",
   "name": "python",
   "nbconvert_exporter": "python",
   "pygments_lexer": "ipython3",
   "version": "3.8.8"
  }
 },
 "nbformat": 4,
 "nbformat_minor": 5
}
