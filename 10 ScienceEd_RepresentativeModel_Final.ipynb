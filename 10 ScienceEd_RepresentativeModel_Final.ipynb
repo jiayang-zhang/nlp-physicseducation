{
 "cells": [
  {
   "cell_type": "markdown",
   "metadata": {},
   "source": [
    "# Modeling Science Education topics over time using Latent Dirichlet Allocation\n",
    "\n",
    "### Tor Ole B. Odden and Alessandro Marin\n",
    "\n",
    "\n",
    "## I. Introduction: Topic modeling of Science Education papers\n",
    "In this notebook, we perform a topic analysis of papers from the journal Science Education (formerly General Science Quarterly), which has been publishing articles since 1916.\n",
    "\n",
    "To do this, we will be using a technique called Latent Dirichlet Allocation, or LDA. LDA is one of a family of machine learning techniques, within the subfield of natural language processing, that analyze text to pull out topics and essential features. Notably, it's a mixed-membership model, which means that it assumes each document will be a mixture of several different topics (the exact number being specified beforehand). Given certain hyperparameters (such as the number of topics and the expected distributions of topics in the different documents), it then attempts to derive the topics from word co-occurrences.\n",
    "\n",
    "This notebook guides you through the main aspects of the modeling process. To begin with, we have downloaded all articles from Science Education/General Science Quarterly, starting in 1922 (papers were missing from 1919-1921, and the text of papers prior to 1919 was heavily corrupted).\n",
    "\n",
    "We scraped the text from these PDFs into a dataframe, and done some basic cleaning on the text: \n",
    "* Removing references\n",
    "* Removing symbols, numbers, and stopwords (such as \"and\", \"is\", and \"but\") \n",
    "* Lowercasing all text\n",
    "* Lemmatizing the text, reducing words to their more basic forms (for example, \"testing\", \"tested\", and \"tests\" to the base word \"test\")\n",
    "* Creating bi-grams by uniting words that are commonly used together and which carry a specialized meaning when put together, such as \"high_school\"\n",
    "* Turning the text into a series of single words, called \"tokens\"\n",
    "\n",
    "In this notebook, we will start by taking our cleaned data and do some filtering, which will improve the quality of our eventual model. This results in the final set of data (a so-called \"bag of words\") that we use to train the model. We then train a few example models, and compute various measures of quality including coherence, perplexity, and a visual inspection of the most representative papers in each topic. Finally, we use this model to look at the prevalence of topics over time."
   ]
  },
  {
   "cell_type": "markdown",
   "metadata": {},
   "source": [
    "### A. Importing Packages\n",
    "\n",
    "We need a lot of packages for this analysis. The primary packages we use are Gensim, which is a library used to do this kind of LDA topic modeling. We will also import PyLDAvis, a visualiation package for LDA, and our usual data analysis tools (pandas, matplotlib, numpy) and pickle to store our data for later analysis."
   ]
  },
  {
   "cell_type": "code",
   "execution_count": 1,
   "metadata": {},
   "outputs": [
    {
     "name": "stderr",
     "output_type": "stream",
     "text": [
      "C:\\Users\\EfiaA\\AppData\\Local\\Temp\\ipykernel_18992\\1460559018.py:4: DeprecationWarning: Importing display from IPython.core.display is deprecated since IPython 7.14, please import from IPython display\n",
      "  from IPython.core.display import display, HTML\n"
     ]
    },
    {
     "data": {
      "text/html": [
       "<style>.container { width:95% !important; }</style>"
      ],
      "text/plain": [
       "<IPython.core.display.HTML object>"
      ]
     },
     "metadata": {},
     "output_type": "display_data"
    }
   ],
   "source": [
    "# Print out  all expressions\n",
    "from IPython.core.interactiveshell import InteractiveShell\n",
    "InteractiveShell.ast_node_interactivity = \"all\" #default 'last_expr'\n",
    "from IPython.core.display import display, HTML\n",
    "display(HTML(\"<style>.container { width:95% !important; }</style>\")) "
   ]
  },
  {
   "cell_type": "code",
   "execution_count": 2,
   "metadata": {},
   "outputs": [],
   "source": [
    "#Import gensim, our library for text analysis\n",
    "import gensim\n",
    "from gensim.parsing.preprocessing import STOPWORDS\n",
    "from gensim.corpora.dictionary import Dictionary\n",
    "from sklearn.feature_extraction.text import CountVectorizer\n",
    "\n",
    "# Plotting tools\n",
    "import pyLDAvis\n",
    "import pyLDAvis.gensim  # don't skip this\n",
    "\n",
    "# Import usual data analysis tools\n",
    "import pandas as pd\n",
    "import matplotlib.pyplot as plt\n",
    "%matplotlib inline\n",
    "import numpy as np\n",
    "#np.random.seed(2018)\n",
    "\n",
    "import pickle\n",
    "\n",
    "import warnings\n",
    "warnings.filterwarnings(\"ignore\", category=DeprecationWarning);\n",
    "\n",
    "import os"
   ]
  },
  {
   "cell_type": "markdown",
   "metadata": {},
   "source": [
    "We have also defines some helper scripts for commonly-used functions like paths to pdfs and stored data files."
   ]
  },
  {
   "cell_type": "code",
   "execution_count": 3,
   "metadata": {},
   "outputs": [
    {
     "name": "stdout",
     "output_type": "stream",
     "text": [
      "     Unnamed: 0               StudentID  \\\n",
      "0             0  2ndINT_MHH822_Redacted   \n",
      "1             1  2ndINT_GYI981_Redacted   \n",
      "2             2  2ndINT_MFR246_Redacted   \n",
      "3             3  2ndINT_CTW087_Redacted   \n",
      "4             4  2ndINT_HBQ145_Redacted   \n",
      "..          ...                     ...   \n",
      "173         173      GS_LSK572_Redacted   \n",
      "174         174      GS_YZI659_Redacted   \n",
      "175         175      GS_CTW087_Redacted   \n",
      "176         176      GS_MFR246_Redacted   \n",
      "177         177      GS_KGR276_Redacted   \n",
      "\n",
      "                                               Content ArgumentLevel  \\\n",
      "0    a michelson interferometer be built and use to...    prediction   \n",
      "1    in this experiment a series of light spectl 3 ...          deep   \n",
      "2    in this experiment we explore the spectral com...   superficial   \n",
      "3    the purpose of this experiment be to calculate...        expert   \n",
      "4    michelson interferometer with a movable mirror...          deep   \n",
      "..                                                 ...           ...   \n",
      "173  the rydberg constant be calculate by use a gra...          deep   \n",
      "174  the same set up be use a that in figure 1. bef...   superficial   \n",
      "175  the purpose of this report be to display the r...   superficial   \n",
      "176  spectroscopy be commonly use a a non-invasive ...          deep   \n",
      "177  the rydberg constant allows one to predict how...   superficial   \n",
      "\n",
      "    ReasoningLevel  \n",
      "0              the  \n",
      "1              bal  \n",
      "2              bal  \n",
      "3              bal  \n",
      "4             none  \n",
      "..             ...  \n",
      "173            bal  \n",
      "174            the  \n",
      "175            bal  \n",
      "176            exp  \n",
      "177            bal  \n",
      "\n",
      "[178 rows x 5 columns]\n"
     ]
    }
   ],
   "source": [
    "\n",
    "dir_name_e = r'C:\\Users\\EfiaA\\OneDrive - Imperial College London\\Imperial academic work\\University life\\Y4\\MSci project\\Project_Coding\\nlp-physicseducation\\Pickledfiles'\n",
    "dir_csv3 = 'outputs/labels_cleaned_y1y2.csv'\n",
    "df = pd.read_csv(dir_csv3, encoding='utf-8')\n",
    "print(df)"
   ]
  },
  {
   "cell_type": "markdown",
   "metadata": {},
   "source": [
    "## II. Loading in and filtering the data\n",
    "\n",
    "The datafile we use for this analysis is a pickle file containing processed versions of Science Education papers from 1922 to 2019. There are 5577 articles in this dataset, after some preliminary filtering to remove advertisements and articles with no author. This processed data was then stored in a datafile, which we now load in:"
   ]
  },
  {
   "cell_type": "code",
   "execution_count": 4,
   "metadata": {
    "scrolled": false
   },
   "outputs": [],
   "source": [
    "data_words_bigrams = df['Content']\n",
    "#pd.read_pickle(path_pkl+'scied_words_bigrams_V5.pkl')\n",
    "#print(data_words_bigrams)\n",
    "\n",
    "data_words_bigrams2 = []\n",
    "for i in range(len(data_words_bigrams)):\n",
    "    data_words_bigrams2.append([data_words_bigrams.iloc[i]])\n",
    "\n",
    "\n"
   ]
  },
  {
   "cell_type": "markdown",
   "metadata": {},
   "source": [
    "### A. Plotting top words in all documents\n",
    "\n",
    "Now, we will do some investigation and filtering based on word frequency. Our goal is to filter out the words that occur in a large number of documents, which are less likely to carry any distinct meaning for any specific theories, methods, or research traditions in science education. For example, most people in the science education research community talk about \"science\", \"education\", and \"students\" in one form or another. Those words do not carry a very specialized meaning within the subfield, and so should be removed from our dataset in order to make sure that the more interesting, distinct, and meaningful words are prioritized in the analysis.\n",
    "\n",
    "We start by defining and importing some more helper functions to plot the word frequency distribution in the dataset."
   ]
  },
  {
   "cell_type": "code",
   "execution_count": 5,
   "metadata": {},
   "outputs": [],
   "source": [
    "# from helpers import plot_freq_dist,get_top_n_words,plot_words_freq"
   ]
  },
  {
   "cell_type": "code",
   "execution_count": 6,
   "metadata": {
    "scrolled": false
   },
   "outputs": [
    {
     "name": "stdout",
     "output_type": "stream",
     "text": [
      "Total words: \u001b[1m178\u001b[0m, unique words: \u001b[1m177\u001b[0m\n"
     ]
    }
   ],
   "source": [
    "corpus = [ w for doc in data_words_bigrams2 for w in doc]\n",
    "print('Total words: \\033[1m%d\\033[0m, unique words: \\033[1m%d\\033[0m' % (len(corpus), len(set(corpus))))\n",
    "\n",
    "# [words, freq, ids] = get_top_n_words(corpus, n_top_words=None)\n",
    "# fig = plot_freq_dist(freq, range=[0,8000])\n",
    "# fig, ax = plot_words_freq(words, freq, 15)\n",
    "\n"
   ]
  },
  {
   "cell_type": "markdown",
   "metadata": {},
   "source": [
    "As we can see, the top words in the dataset include \"science\", \"student\", \"teacher\", \"study\", \"teach\", \"learn\", and \"education\". Because these words are so overrepresented, they need to be filtered out. This is an essential step, since topic models like LDA are based on word co-occurrences, which means that word that are over-represented in the data can wash out the more interesting trends in our data (i.e., words that are theoretically relevant to particular subgroups or research paradgims within science education). "
   ]
  },
  {
   "cell_type": "markdown",
   "metadata": {},
   "source": [
    "### B. Creating a Bag of Words to filter the dataset\n",
    "\n",
    "Thankfully, Gensim already has a built-in function to do this kind of filtering, \"filter_extremes\", which allows us to filter out words that appear too many or too few times. The parameters are:\n",
    "* **no_below**: an integer. Keep tokens which are contained in at least no_below documents.  \n",
    "* **no_above**: a float number between 0 and 1. It filters out tokens which are contained in more than no_above percentage of documents. E.g. with no_above=0.5, tokens in in more than 50% of the documents get cut out.  \n",
    "* **keep_n**: an integer. It specifies how many tokens should be kept, starting with the most frequent.\n",
    "\n",
    "However, to use this function we must first create a [Gensim Dictionary](https://radimrehurek.com/gensim/corpora/dictionary.html#gensim.corpora.dictionary.Dictionary), which is a mapping between each of the entries (i.e. normalized words) and its integer id in the corpus. \n",
    "\n",
    "Based on repeated runs with different filtering values, we've set the no_above parameter to 0.50, which filters out 133 words (displayed below). We set our no_below value to 15; this is somewhat arbitrary, but considering the size of the dataset (5577 documents) any words that appear in less than 15 documents are probably not worth keeping—oftentimes they are scanning errors, typos, or names.\n",
    "\n",
    "After the filtering we convert the remaining tokens into a \"bag of words\" (BoW). We also display the resulting distribution for the most common words after filtering."
   ]
  },
  {
   "cell_type": "code",
   "execution_count": 7,
   "metadata": {},
   "outputs": [
    {
     "name": "stdout",
     "output_type": "stream",
     "text": [
      "Dictionary with \u001b[1mno_above=1\u001b[0m contains \u001b[1m177\u001b[0m unique words\n",
      "\n",
      "Dictionary filtered with \u001b[1mno_above=0.50\u001b[0m contains \u001b[1m177\u001b[0m unique words. \u001b[1m0 words\u001b[0m removed:\n",
      " [] \n",
      "\n"
     ]
    }
   ],
   "source": [
    "no_below = 1\n",
    "no_above = 0.5\n",
    "import copy\n",
    "id2word_unfiltered_above = gensim.corpora.Dictionary(data_words_bigrams2) #Needed for a bug\n",
    "id2word_unfiltered_above.filter_extremes(no_below=no_below, no_above=1, keep_n=10000)\n",
    "#id2word_unfiltered_above.filter_extremes(no_below=no_below, no_above=1, keep_n=100000)\n",
    "print(\"Dictionary with \\033[1mno_above=1\\033[0m contains \\033[1m%d\\033[0m unique words\\n\" % (len(id2word_unfiltered_above)))\n",
    "\n",
    "id2word = gensim.corpora.Dictionary(data_words_bigrams2)\n",
    "#id2word.filter_extremes(no_below=no_below, no_above=no_above, keep_n=100000)\n",
    "\n",
    "#Effect of using no_above\n",
    "diff_set = set(list(id2word_unfiltered_above.values())) - set(list(id2word.values()))\n",
    "print(\"Dictionary filtered with \\033[1mno_above=%.2f\\033[0m contains \\033[1m%d\\033[0m unique words. \\033[1m%d words\\033[0m removed:\\n %s \\n\" % \n",
    "      (no_above, len(id2word), len(diff_set), sorted(diff_set)))"
   ]
  },
  {
   "cell_type": "code",
   "execution_count": 8,
   "metadata": {},
   "outputs": [],
   "source": [
    "# from tools import ml_tools\n",
    "# no_below = 1\n",
    "# no_above = 5\n",
    "\n",
    "# id2word_unfiltered_above = gensim.corpora.Dictionary(data_words_bigrams2) #Needed for a bug\n",
    "# print(\"Unfiltered Dictionary contains \\033[1m%d\\033[0m unique words\" % len(id2word_unfiltered_above)) #209780\n",
    "\n",
    "# id2word = gensim.corpora.Dictionary(data_words_bigrams2)\n",
    "# id2word.filter_extremes(no_below=no_below, no_above=no_above, keep_n=100000)\n",
    "# #print(id2word)\n",
    "\n",
    "# #Create BoW\n",
    "# bow_corpus = ml_tools.BoW(df['Content'].tolist())\n",
    "# #bow_corpus = [id2word.doc2bow(doc) for doc in data_words_bigrams2]\n",
    "# print(bow_corpus)\n",
    "# #Get most frequent words from id2word Dictionary\n",
    "# #There is a bug with csf: https://github.com/RaRe-Technologies/gensim/issues/2574\n",
    "# [ids, freq] = zip(*sorted(id2word.cfs.items(), key=lambda x: x[1], reverse=True))\n",
    "# words = [id2word_unfiltered_above[id] for id in ids]  #have to use id2word_unfiltered to retrieve words from ids!!\n",
    "# # Plot distribution\n",
    "# #plt.hist(freq, range=[0,200])\n",
    "# #plt.plot(words, freq, 20)"
   ]
  },
  {
   "cell_type": "code",
   "execution_count": 7,
   "metadata": {},
   "outputs": [
    {
     "name": "stdout",
     "output_type": "stream",
     "text": [
      "     Unnamed: 0               StudentID  \\\n",
      "0             0  2ndINT_MHH822_Redacted   \n",
      "1             1  2ndINT_GYI981_Redacted   \n",
      "2             2  2ndINT_MFR246_Redacted   \n",
      "3             3  2ndINT_CTW087_Redacted   \n",
      "4             4  2ndINT_HBQ145_Redacted   \n",
      "..          ...                     ...   \n",
      "173         173      GS_LSK572_Redacted   \n",
      "174         174      GS_YZI659_Redacted   \n",
      "175         175      GS_CTW087_Redacted   \n",
      "176         176      GS_MFR246_Redacted   \n",
      "177         177      GS_KGR276_Redacted   \n",
      "\n",
      "                                               Content ArgumentLevel  \\\n",
      "0    a michelson interferometer be built and use to...    prediction   \n",
      "1    in this experiment a series of light spectl 3 ...          deep   \n",
      "2    in this experiment we explore the spectral com...   superficial   \n",
      "3    the purpose of this experiment be to calculate...        expert   \n",
      "4    michelson interferometer with a movable mirror...          deep   \n",
      "..                                                 ...           ...   \n",
      "173  the rydberg constant be calculate by use a gra...          deep   \n",
      "174  the same set up be use a that in figure 1. bef...   superficial   \n",
      "175  the purpose of this report be to display the r...   superficial   \n",
      "176  spectroscopy be commonly use a a non-invasive ...          deep   \n",
      "177  the rydberg constant allows one to predict how...   superficial   \n",
      "\n",
      "    ReasoningLevel  \n",
      "0              the  \n",
      "1              bal  \n",
      "2              bal  \n",
      "3              bal  \n",
      "4             none  \n",
      "..             ...  \n",
      "173            bal  \n",
      "174            the  \n",
      "175            bal  \n",
      "176            exp  \n",
      "177            bal  \n",
      "\n",
      "[178 rows x 5 columns]\n"
     ]
    }
   ],
   "source": [
    "print(df)"
   ]
  },
  {
   "cell_type": "code",
   "execution_count": 9,
   "metadata": {},
   "outputs": [
    {
     "name": "stdout",
     "output_type": "stream",
     "text": [
      "Collecting en_core_web_sm==2.3.1\n",
      "  Using cached en_core_web_sm-2.3.1-py3-none-any.whl\n",
      "Requirement already satisfied: spacy<2.4.0,>=2.3.0 in c:\\users\\efiaa\\anaconda3\\lib\\site-packages (from en_core_web_sm==2.3.1) (2.3.8)\n",
      "Requirement already satisfied: preshed<3.1.0,>=3.0.2 in c:\\users\\efiaa\\anaconda3\\lib\\site-packages (from spacy<2.4.0,>=2.3.0->en_core_web_sm==2.3.1) (3.0.8)\n",
      "Requirement already satisfied: wasabi<1.1.0,>=0.4.0 in c:\\users\\efiaa\\anaconda3\\lib\\site-packages (from spacy<2.4.0,>=2.3.0->en_core_web_sm==2.3.1) (0.10.1)\n",
      "Requirement already satisfied: requests<3.0.0,>=2.13.0 in c:\\users\\efiaa\\anaconda3\\lib\\site-packages (from spacy<2.4.0,>=2.3.0->en_core_web_sm==2.3.1) (2.25.1)\n",
      "Requirement already satisfied: numpy>=1.15.0 in c:\\users\\efiaa\\anaconda3\\lib\\site-packages (from spacy<2.4.0,>=2.3.0->en_core_web_sm==2.3.1) (1.20.1)\n",
      "Requirement already satisfied: tqdm<5.0.0,>=4.38.0 in c:\\users\\efiaa\\anaconda3\\lib\\site-packages (from spacy<2.4.0,>=2.3.0->en_core_web_sm==2.3.1) (4.59.0)\n",
      "Requirement already satisfied: cymem<2.1.0,>=2.0.2 in c:\\users\\efiaa\\anaconda3\\lib\\site-packages (from spacy<2.4.0,>=2.3.0->en_core_web_sm==2.3.1) (2.0.7)\n",
      "Requirement already satisfied: srsly<1.1.0,>=1.0.2 in c:\\users\\efiaa\\anaconda3\\lib\\site-packages (from spacy<2.4.0,>=2.3.0->en_core_web_sm==2.3.1) (1.0.6)\n",
      "Requirement already satisfied: blis<0.8.0,>=0.4.0 in c:\\users\\efiaa\\anaconda3\\lib\\site-packages (from spacy<2.4.0,>=2.3.0->en_core_web_sm==2.3.1) (0.7.9)\n",
      "Requirement already satisfied: setuptools in c:\\users\\efiaa\\anaconda3\\lib\\site-packages (from spacy<2.4.0,>=2.3.0->en_core_web_sm==2.3.1) (52.0.0.post20210125)\n",
      "Requirement already satisfied: plac<1.2.0,>=0.9.6 in c:\\users\\efiaa\\anaconda3\\lib\\site-packages (from spacy<2.4.0,>=2.3.0->en_core_web_sm==2.3.1) (1.1.3)\n",
      "Requirement already satisfied: catalogue<1.1.0,>=0.0.7 in c:\\users\\efiaa\\anaconda3\\lib\\site-packages (from spacy<2.4.0,>=2.3.0->en_core_web_sm==2.3.1) (1.0.2)\n",
      "Requirement already satisfied: murmurhash<1.1.0,>=0.28.0 in c:\\users\\efiaa\\anaconda3\\lib\\site-packages (from spacy<2.4.0,>=2.3.0->en_core_web_sm==2.3.1) (1.0.9)\n",
      "Requirement already satisfied: thinc<7.5.0,>=7.4.1 in c:\\users\\efiaa\\anaconda3\\lib\\site-packages (from spacy<2.4.0,>=2.3.0->en_core_web_sm==2.3.1) (7.4.6)\n",
      "Requirement already satisfied: idna<3,>=2.5 in c:\\users\\efiaa\\anaconda3\\lib\\site-packages (from requests<3.0.0,>=2.13.0->spacy<2.4.0,>=2.3.0->en_core_web_sm==2.3.1) (2.10)\n",
      "Requirement already satisfied: urllib3<1.27,>=1.21.1 in c:\\users\\efiaa\\anaconda3\\lib\\site-packages (from requests<3.0.0,>=2.13.0->spacy<2.4.0,>=2.3.0->en_core_web_sm==2.3.1) (1.26.4)\n",
      "Requirement already satisfied: chardet<5,>=3.0.2 in c:\\users\\efiaa\\anaconda3\\lib\\site-packages (from requests<3.0.0,>=2.13.0->spacy<2.4.0,>=2.3.0->en_core_web_sm==2.3.1) (4.0.0)\n",
      "Requirement already satisfied: certifi>=2017.4.17 in c:\\users\\efiaa\\anaconda3\\lib\\site-packages (from requests<3.0.0,>=2.13.0->spacy<2.4.0,>=2.3.0->en_core_web_sm==2.3.1) (2020.12.5)\n",
      "✔ Download and installation successful\n",
      "You can now load the model via spacy.load('en_core_web_sm')\n"
     ]
    },
    {
     "name": "stderr",
     "output_type": "stream",
     "text": [
      "[nltk_data] Downloading package stopwords to\n",
      "[nltk_data]     C:\\Users\\EfiaA\\AppData\\Roaming\\nltk_data...\n",
      "[nltk_data]   Package stopwords is already up-to-date!\n"
     ]
    },
    {
     "data": {
      "text/plain": [
       "True"
      ]
     },
     "execution_count": 9,
     "metadata": {},
     "output_type": "execute_result"
    },
    {
     "name": "stdout",
     "output_type": "stream",
     "text": [
      "178\n"
     ]
    }
   ],
   "source": [
    "# import \n",
    "# importing tool functions\n",
    "import numpy as np\n",
    "import matplotlib.pyplot as plt\n",
    "from tools import utils, ml_tools\n",
    "import pandas as pd\n",
    "import numpy as np\n",
    "from sklearn.preprocessing import LabelBinarizer\n",
    "!python -m spacy download en_core_web_sm\n",
    "import spacy\n",
    "\n",
    "import gensim\n",
    "from gensim.utils import simple_preprocess\n",
    "import nltk\n",
    "nltk.download('stopwords')\n",
    "from nltk.corpus import stopwords\n",
    "import gensim.corpora as corpora\n",
    "\n",
    "\n",
    "\n",
    "# remove stopwords\n",
    "stop_words = stopwords.words('english')\n",
    "stop_words.extend(['from', 'subject', 're', 'edu', 'use'])\n",
    "def sent_to_words(sentences):\n",
    "    for sentence in sentences:\n",
    "        # deacc=True removes punctuations\n",
    "        yield(gensim.utils.simple_preprocess(str(sentence), deacc=True))\n",
    "\n",
    "\n",
    "def remove_stopwords(texts):\n",
    "    return [[word for word in simple_preprocess(str(doc)) \n",
    "             if word not in stop_words] for doc in texts]\n",
    "\n",
    "data = df['Content'].tolist()\n",
    "data_words_send = list(sent_to_words(data))\n",
    "\n",
    "\n",
    "# remove stop words\n",
    "data_words_nostopwords = remove_stopwords(data_words_send)\n",
    "# print(data_words_nostopwords[:1][0][:30])\n",
    "\n",
    "# functions\n",
    "def make_bigrams(texts):\n",
    "    return [bigram_mod[doc] for doc in texts]\n",
    "\n",
    "def make_trigrams(texts):\n",
    "    return [trigram_mod[bigram_mod[doc]] for doc in texts]\n",
    "\n",
    "def lemmatization(texts, allowed_postags=['NOUN', 'ADJ', 'VERB', 'ADV']):\n",
    "    \"\"\"https://spacy.io/api/annotation\"\"\"\n",
    "    texts_out = []\n",
    "    for sent in texts:\n",
    "        doc = nlp(\" \".join(sent)) \n",
    "        texts_out.append([token.lemma_ for token in doc if token.pos_ in allowed_postags])\n",
    "    return texts_out\n",
    "\n",
    "# Build the bigram and trigram models\n",
    "bigram = gensim.models.Phrases(data_words_nostopwords, min_count=5, threshold=100) # higher threshold fewer phrases.\n",
    "trigram = gensim.models.Phrases(bigram[data_words_nostopwords], threshold=100)  \n",
    "\n",
    "# Faster way to get a sentence clubbed as a trigram/bigram\n",
    "bigram_mod = gensim.models.phrases.Phraser(bigram)\n",
    "trigram_mod = gensim.models.phrases.Phraser(trigram)\n",
    "\n",
    "# Form Bigrams\n",
    "data_words_bigrams = make_bigrams(data_words_nostopwords)\n",
    "\n",
    "# Initialize spacy 'en' model, keeping only tagger component (for efficiency)\n",
    "nlp = spacy.load(\"en_core_web_sm\", disable=['parser', 'ner'])\n",
    "\n",
    "# Do lemmatization keeping only noun, adj, vb, adv\n",
    "data_lemmatized = lemmatization(data_words_bigrams, allowed_postags=['NOUN', 'ADJ', 'VERB', 'ADV'])\n",
    "\n",
    "#print(data_lemmatized[:1][0][:30])\n",
    "\n",
    "#create \n",
    "\n",
    "id2word = corpora.Dictionary(data_lemmatized)\n",
    "\n",
    "#create corpus\n",
    "texts = data_lemmatized\n",
    "\n",
    "#Term Document Frequency\n",
    "corpus = [id2word.doc2bow(text) for text in texts]\n",
    "\n",
    "#View \n",
    "print(len(corpus))"
   ]
  },
  {
   "cell_type": "markdown",
   "metadata": {},
   "source": [
    "## III. Running LDA using Bag of Words"
   ]
  },
  {
   "cell_type": "markdown",
   "metadata": {},
   "source": [
    "### A. Explanation of LDA\n",
    "\n",
    "Now, the good part, the topic modeling. To do the modeling, we are using a technique known as Latent Dirichlet Allocation, or LDA. LDA assumes the following generative process for documents: for each document, pick a particular topic according to a certain distribution. Within each topic, pick words based on a particular distribution. The algorithm tries to determine (estimate, fit) these distributions through a stochastic sampling process, based on the co-occurrence of words in the document. It ends up with two things that it estimates: a distribution of topics within each document, and a distribution of words within each topic. In practice, these end up being matrices: one is a document-topic matrix, which has rows corresponding to documents and columns corresponding to the amount of each topic the model predicts is present in each document (dimensions Num_docs x Num_topics). The other is a topic-term matrix, where each row is a topic and each column is a single word from the corpus (dimensions Num_topics x Num_words). Thus, this technique can also be thought of as a kind of probabilistic matrix factorization (see [Hoffman](https://www.researchgate.net/publication/221618332_Online_Learning_for_Latent_Dirichlet_Allocation) for more on this).\n",
    "\n",
    "The particular distributions depend on parameters that are fed to the model: $\\alpha$ tells the model whether is should expect a small number of topics per document (small $\\alpha$), vs a larger number in a more even mixture (large $\\alpha$). Similarly, $\\beta$ is a parameter that controls whether topics have a few central words, or a larger number of more evenly distributed words. Both are based on the [Dirichlet distribution](https://towardsdatascience.com/dirichlet-distribution-a82ab942a879), which essentially is a function that allows you to specify a distribution across a probability simplex (a kind of generalized shape with several “corners”) where the parameter you feed it specifies how likely points are to fall into a specific corner vs. be distributed evenly across the shape. Note, however, that in both of these matrices, each row is a probability distribution across different discrete outcomes (choice of topics or choice of words) and so each row will add up to 1. And, their values will vary considerably. For example, in the topic-word matrix if you had a corpus of 4000 words and every word was equally likely to be chosen for a particular topic, the values in the that row of the (topics x words) matrix would all be 1/4000 = .00025 = 2.5e-4. However, in practice, for particular topics a large number of words will be rated very low, on the order of 1e-6 or 1e-7, while certain other words will be rated highly, on the order of 1e-2 or even higher. It is therefore common when presenting topics to pick the 5-10 most likely words for a particular topic\n",
    "\n",
    "### B. Training our LDA model\n",
    "\n",
    "We call the LdaModel function (which does the actual LDA modeling). We pass the following arguments:  \n",
    "* bow_corpus - our data corpus, in a \"bag of words\" format  \n",
    "* num_topics - the number of topics we intend the algorithm to identify. We set this to 10.  \n",
    "* id2word - the dictionary that maps words to IDs  \n",
    "* passes - the number of passes the algorithm should take through the data while training\n",
    "* iterations - the number of iterations the algorithm will use to try to make the results converge\n",
    "\n",
    "In addition, we pass three other arguments that are particular to the specific model that we are trying to replicate:\n",
    "* random_state - a random seed value that determines the initialization of the model, which will affect the specific topics it eventually settles on\n",
    "* alpha - a parameter that determines how mixed the topics are in each document. Gensim has a built-in fuction that can learn alpha values from the corpus as it runs the model, and we'll use this function here.\n",
    "\n",
    "The output here is a set of topics, each of which contains a set of words with their corresponding weights."
   ]
  },
  {
   "cell_type": "code",
   "execution_count": 9,
   "metadata": {},
   "outputs": [],
   "source": [
    "#Load the \"best\" model to skip the following cell\n",
    "#lda_model = pd.read_pickle(path_pkl+'SciEd_NoRefs_RepLDAModel.pkl')"
   ]
  },
  {
   "cell_type": "code",
   "execution_count": 15,
   "metadata": {},
   "outputs": [],
   "source": [
    "num_topics = 4\n",
    "#alphatot = 12.5\n",
    "lda_model = gensim.models.LdaModel(corpus=corpus, \n",
    "                                   id2word=id2word, \n",
    "                                   num_topics=num_topics,\n",
    "                                   alpha='auto',\n",
    "                                   random_state=29, #29 current best, as of 5/6/2020\n",
    "                                   iterations=15, passes=50)\n",
    "\n"
   ]
  },
  {
   "cell_type": "code",
   "execution_count": 16,
   "metadata": {},
   "outputs": [
    {
     "data": {
      "text/plain": [
       "[(0,\n",
       "  '0.025*\"value\" + 0.024*\"line\" + 0.021*\"wavelength\" + 0.020*\"constant\" + 0.020*\"error\" + 0.017*\"light\" + 0.015*\"grate\" + 0.013*\"energy\" + 0.012*\"order\" + 0.011*\"calculate\"'),\n",
       " (1,\n",
       "  '0.029*\"run\" + 0.014*\"emission\" + 0.014*\"datum\" + 0.006*\"first\" + 0.006*\"clearly\" + 0.005*\"seem\" + 0.005*\"experiment\" + 0.005*\"second\" + 0.004*\"record\" + 0.004*\"uncertainty\"'),\n",
       " (2,\n",
       "  '0.026*\"source\" + 0.026*\"light\" + 0.016*\"figure\" + 0.016*\"wavelength\" + 0.014*\"interference\" + 0.012*\"lead\" + 0.012*\"show\" + 0.009*\"point\" + 0.009*\"experiment\" + 0.008*\"would\"'),\n",
       " (3,\n",
       "  '0.028*\"light\" + 0.028*\"source\" + 0.027*\"wavelength\" + 0.017*\"lead\" + 0.015*\"point\" + 0.011*\"white\" + 0.010*\"find\" + 0.010*\"fringe\" + 0.010*\"tungsten\" + 0.010*\"peak\"')]"
      ]
     },
     "execution_count": 16,
     "metadata": {},
     "output_type": "execute_result"
    }
   ],
   "source": [
    "lda_model.show_topics(num_words=10, num_topics = num_topics)"
   ]
  },
  {
   "cell_type": "markdown",
   "metadata": {},
   "source": [
    "Save LDAmodel"
   ]
  },
  {
   "cell_type": "code",
   "execution_count": 12,
   "metadata": {},
   "outputs": [],
   "source": [
    "with open(dir_name_e+'SciEd_NoRefs_RepLDAModel.pkl', 'wb') as output: pickle.dump(lda_model, output)"
   ]
  },
  {
   "cell_type": "markdown",
   "metadata": {},
   "source": [
    "As one can see, the output of the LDA model is a set of \"topics\" (we specified the exact number with the num_topics parameter) each of which is composed of words with specific weights. For the purposes of illustration, we have sorted these topics by their most weighted words: For example, Topic 0 includes the words \"tutorial, ta, lecture, section, force, and semester\" (more words are visible if we increase the num_words parameter in the show_topics method). It's helpful here to remember that from a statistical perspective, each of these topics is essentially a distribution over all of the words in the data corpus, which tells us how likely one would be to draw a particular word, given a particular topic, in the generative process for documents that LDA assumes (described above).\n",
    "\n",
    "One can get the entire distribution using the \"get_topics()\" method. For example, here is the vector for topic 8, along with the lowest and highest values."
   ]
  },
  {
   "cell_type": "code",
   "execution_count": 17,
   "metadata": {},
   "outputs": [
    {
     "name": "stdout",
     "output_type": "stream",
     "text": [
      "Distribution vector for topic 3:  [1.4539083e-04 4.7287333e-04 1.3071892e-03 ... 1.8459497e-05 1.8460616e-05\n",
      " 1.8460622e-05] \n",
      "\n",
      "Maximum value: 0.026456940919160843 corresponding to the word: source\n",
      "Minimum value: 1.8451835785526782e-05 corresponding to the word: heated\n"
     ]
    }
   ],
   "source": [
    "print(\"Distribution vector for topic 3: \", lda_model.get_topics()[2], \"\\n\")\n",
    "\n",
    "print(\"Maximum value: {} corresponding to the word: {}\".format(np.amax(lda_model.get_topics()[2]), id2word[np.argmax(lda_model.get_topics()[2])]))\n",
    "print(\"Minimum value: {} corresponding to the word: {}\".format(np.amin(lda_model.get_topics()[2]), id2word[np.argmin(lda_model.get_topics()[2])]))"
   ]
  },
  {
   "cell_type": "markdown",
   "metadata": {},
   "source": [
    "The maximum value was around 0.015, which corresponds to the word \"social\". The lowest value is 7.96e-8, corresponding to the word \"ab\". Thus, in the \"draw a topic/draw a word\" process described above, one would be 1,880,000 times more likely to draw the word social than to draw the word ab.\n",
    "\n",
    "One can also start to associate specific themes with each set of topics. For example, Topic 0 focuses on gender and the STEM pipeline; Topic 1 focuses on textbooks; Topic 2 focuses on observation and experiments; and Topic 3 focuses on discourse analysis and identity."
   ]
  },
  {
   "cell_type": "markdown",
   "metadata": {},
   "source": [
    "### C. Evaluating models with perplexity and coherence scores\n",
    "We can evaluate the \"goodness\" of our topic models using two measures, perplexity and coherence score. Perplexity is essentially a statistical measure of the log probability of unseen test documents fitting into the model (based on the geometric mean of the per-word likelihood). It’s useful for selecting a model but not so useful for topic evaluation since it has been shown to be uncorrelated with human interpretability (Newman et al., 2010). For this reason, coherence is more often used. Coherence measures the degree of semantic similarity between high scoring words in the topic—in other words, are these words roughly being used the same, based on the other words they appear with? These measurements help distinguish between topics that are semantically interpretable (\"hang together\") and topics that are artifacts of the statistical process LDA uses (Röder, Both, and Hinneburg, 2015).\n",
    "\n",
    "For the purposes of illustration, we compute both the perplexity and the coherence on the topics we've found. Perplexity is a score in the range from -14 to 14, with lower perplexity being better. Coherence ranges from 0-1, with higher scores being better. We have typically found coherence scores between 0.4-0.53, which stackexchange informs us is okay but not great. We suspect this is because our data is relatively homogeneous—that is, all documents are on variations of topics related to science education, so it's hard to get extremely distinct topics. If, instead, we were analyzing a mixture of documents about 3 distinct subjects (say, sports, religion, and technology companies) we might expect more distinct topics with less overlap and a higher overall coherence."
   ]
  },
  {
   "cell_type": "code",
   "execution_count": 18,
   "metadata": {},
   "outputs": [
    {
     "name": "stdout",
     "output_type": "stream",
     "text": [
      "\n",
      "Perplexity:  -6.343104040595362\n",
      "\n",
      "Complexity:  nan\n"
     ]
    },
    {
     "name": "stderr",
     "output_type": "stream",
     "text": [
      "c:\\Users\\EfiaA\\Anaconda3\\lib\\site-packages\\gensim\\topic_coherence\\direct_confirmation_measure.py:204: RuntimeWarning: divide by zero encountered in double_scalars\n",
      "  m_lr_i = np.log(numerator / denominator)\n",
      "c:\\Users\\EfiaA\\Anaconda3\\lib\\site-packages\\gensim\\topic_coherence\\indirect_confirmation_measure.py:323: RuntimeWarning: invalid value encountered in double_scalars\n",
      "  return cv1.T.dot(cv2)[0, 0] / (_magnitude(cv1) * _magnitude(cv2))\n"
     ]
    }
   ],
   "source": [
    "from gensim.models import CoherenceModel\n",
    "coherence_model_lda = CoherenceModel(model=lda_model, texts= data_words_send, dictionary=id2word, coherence='c_v')\n",
    "#Compute Perplexity\n",
    "print('\\nPerplexity: ', lda_model.log_perplexity(corpus))  # a measure of how good the model is. lower the better\n",
    "print('\\nComplexity: ', coherence_model_lda.get_coherence())"
   ]
  },
  {
   "cell_type": "markdown",
   "metadata": {},
   "source": [
    "Of these two measures, both we and the literature (e.g., Röder, Both, and Hinneburg, 2015) have found coherence to be more useful for predicting interpretable topics so we have used it in making decisions about our model. As one can see, this particular model is on the high end of our observed coherence score range (0.522). "
   ]
  },
  {
   "cell_type": "markdown",
   "metadata": {},
   "source": [
    "## IV. Results of the model: Visualization, representative papers, and prevalence of topics over time"
   ]
  },
  {
   "cell_type": "markdown",
   "metadata": {},
   "source": [
    "### A. Visualizing the model\n",
    "\n",
    "With this model trained, we can use it to explore a variety of different aspects of the resulting topics and their relation to the literature. First, we can use the pyLDAvis package to visualize the topics and see how distinct they are from one another in a 2D space created by principle component analysis on the word space. By mousing over the resulting visual, you can see the different topics, their prevalence (indicated by the size of the circles), the most salient terms in each, and their rough inter-topic \"distance.\""
   ]
  },
  {
   "cell_type": "code",
   "execution_count": 19,
   "metadata": {
    "scrolled": false
   },
   "outputs": [
    {
     "data": {
      "text/html": [
       "\n",
       "<link rel=\"stylesheet\" type=\"text/css\" href=\"https://cdn.rawgit.com/bmabey/pyLDAvis/files/ldavis.v1.0.0.css\">\n",
       "\n",
       "\n",
       "<div id=\"ldavis_el1899222423038122081536959770\"></div>\n",
       "<script type=\"text/javascript\">\n",
       "\n",
       "var ldavis_el1899222423038122081536959770_data = {\"mdsDat\": {\"x\": [-0.08540218276078151, -0.10339566254401447, -0.05861205634483829, 0.2474099016496342], \"y\": [-0.13532968967879921, 0.06198237635899929, 0.0761239283239763, -0.002776615004176324], \"topics\": [1, 2, 3, 4], \"cluster\": [1, 1, 1, 1], \"Freq\": [48.92312927036383, 42.132237955609746, 8.535887118041783, 0.40874565598462714]}, \"tinfo\": {\"Term\": [\"source\", \"datum\", \"emission\", \"light\", \"line\", \"lead\", \"experiment\", \"figure\", \"grate\", \"interference\", \"uncertainty\", \"first\", \"constant\", \"range\", \"white\", \"filter\", \"value\", \"point\", \"show\", \"tungsten\", \"null\", \"diffraction\", \"however\", \"mirror\", \"wavelength\", \"record\", \"second\", \"energy\", \"method\", \"frequency\", \"grate\", \"diffraction\", \"slit\", \"hydrogen\", \"telescope\", \"balmer_serie\", \"collimator\", \"gradient\", \"diffract\", \"atom\", \"rydberg\", \"transition\", \"sin\", \"sodium\", \"rotate\", \"purple\", \"camera\", \"arcminute\", \"crosshair\", \"eyepiece\", \"parallax\", \"balmer\", \"orbit\", \"holder\", \"sin\\u03b8\", \"quantum\", \"bar\", \"calibrate\", \"angular_displacement\", \"mass\", \"level\", \"constant\", \"focus\", \"angle\", \"line\", \"energy\", \"spectromet\", \"read\", \"final\", \"error\", \"value\", \"order\", \"accept\", \"uncertainty\", \"red\", \"calculate\", \"colour\", \"measurement\", \"spectrometer\", \"measure\", \"experiment\", \"equation\", \"wavelength\", \"emission\", \"light\", \"maximum\", \"would\", \"could\", \"take\", \"result\", \"give\", \"spectral\", \"find\", \"difference\", \"fwhm\", \"blackbody\", \"pattem\", \"coat\", \"scan\", \"phosphor\", \"radiator\", \"unfiltered\", \"black_body\", \"motorise\", \"bandwidth\", \"filament\", \"spot\", \"curve\", \"recombination\", \"search\", \"response\", \"thz\", \"dip\", \"stage\", \"slow\", \"responsivity\", \"halogen\", \"simulate\", \"sensitivity\", \"haidinger\", \"construct\", \"interferometry\", \"convolution\", \"detector\", \"peak\", \"gaussian\", \"fourier_transform\", \"splitter\", \"tungsten\", \"distribution\", \"null\", \"white\", \"interferogram\", \"lead\", \"laser\", \"filter\", \"shape\", \"interferometer\", \"coherence_length\", \"yellow\", \"source\", \"temperature\", \"mirror\", \"green\", \"point\", \"width\", \"fringe\", \"range\", \"fit\", \"distance\", \"beam\", \"light\", \"wavelength\", \"interference\", \"find\", \"spectrum\", \"move\", \"spectral\", \"blue\", \"fig\", \"show\", \"datum\", \"mean\", \"path\", \"difference\", \"value\", \"take\", \"envelope\", \"earth\", \"lliltor\", \"smoothness\", \"idealise\", \"sensible\", \"ng\", \"interferometly\", \"film\", \"analytic\", \"unity\", \"messy\", \"wind\", \"transformation\", \"satisfy\", \"profile\", \"cavity\", \"script\", \"micrometer\", \"file\", \"slip\", \"colimate\", \"alligne\", \"singlet\", \"amplifier\", \"qualitative\", \"observatory\", \"thorlabs\", \"simulated\", \"miirnr\", \"skew\", \"beating\", \"displacement\", \"deal\", \"simulation\", \"proceed\", \"imperfection\", \"oscillation\", \"inspect\", \"beat\", \"behaviour\", \"figure\", \"interference\", \"setup\", \"happen\", \"spectrogram\", \"fourier\", \"coherent\", \"frequency\", \"source\", \"noise\", \"show\", \"motor\", \"pattern\", \"light\", \"length\", \"hence\", \"filter\", \"mirror\", \"lead\", \"wave\", \"would\", \"also\", \"narrow\", \"however\", \"wavelength\", \"experiment\", \"point\", \"see\", \"white\", \"take\", \"datum\", \"beam\", \"result\", \"spectrum\", \"obtain\", \"null\", \"measure\", \"tungsten\", \"different\", \"green\", \"newly\", \"absorptive\", \"dichroic\", \"radiative\", \"eak\", \"daylight\", \"health\", \"uact\", \"hypertextbook\", \"label\", \"artificial\", \"rotatable\", \"unusually\", \"cmo\", \"perplexed\", \"sansonetti\", \"novel\", \"gassing\", \"nacl\", \"clearest\", \"pronounce\", \"respond\", \"retwne\", \"tion\", \"christian\", \"straighter\", \"fore\", \"rnnged\", \"udged\", \"ional\", \"run\", \"translational\", \"definitive\", \"com\", \"propo\", \"stimulate\", \"interestingly\", \"string\", \"seem\", \"emission\", \"develop\", \"clearly\", \"unknown\", \"ionisation\", \"efficiency\", \"datum\", \"issue\", \"couple\", \"attempt\", \"first\", \"second\", \"less\", \"much\", \"record\", \"experiment\", \"method\", \"alignment\", \"uncertainty\", \"range\", \"computer\", \"line\", \"however\", \"give\"], \"Freq\": [2234.0, 713.0, 480.0, 3229.0, 1857.0, 1228.0, 1105.0, 750.0, 1075.0, 676.0, 691.0, 312.0, 1500.0, 660.0, 758.0, 619.0, 2114.0, 1204.0, 893.0, 662.0, 637.0, 712.0, 519.0, 572.0, 3268.0, 251.0, 177.0, 1024.0, 278.0, 395.0, 1074.4963882420104, 711.829071686589, 523.5210794038161, 440.80276283390316, 427.9909882566167, 254.52213092697963, 240.70562207004977, 242.54865776945954, 146.08252587789516, 218.68621862793015, 138.2225469529786, 398.21208905900573, 160.75681907643832, 140.95048072690523, 182.10745499039575, 90.8936752922258, 84.99240379730071, 84.0121449382275, 56.41629089779071, 54.444164605377196, 49.51761963150921, 48.52622709438893, 76.68838472984156, 44.55612310763634, 40.64749585719475, 39.65014479314296, 53.246374864941586, 44.43855179217455, 32.76271882581496, 30.75619502898659, 595.5585659734445, 1419.97911829776, 240.87950714753313, 696.9289876596089, 1698.0658756700711, 938.2466007764053, 169.4304372892168, 282.2156431131739, 221.95059841914227, 1387.4154926090387, 1719.2678406545688, 859.6350893025952, 222.72387558724472, 578.4932798985483, 368.1231191602018, 782.5664953529119, 355.91184070577236, 444.6274552216632, 308.2699596697813, 627.358526068841, 689.5469735149007, 421.37526989968256, 1445.400564609708, 364.17763265699114, 1218.7958695840161, 359.7311428184881, 492.9982248354823, 498.48542741597254, 526.0887012024793, 480.07075417396175, 454.99532455401413, 498.1395081385813, 387.9563439418836, 371.2969520721305, 64.3257601973874, 54.48911939131687, 29.864288858964134, 26.880465192282067, 56.6634340193093, 22.929125749306003, 21.965089774069142, 24.834095735755014, 22.85499952005678, 19.987884640612908, 19.97802899110955, 97.26989495813103, 38.07202622613899, 120.27699726402372, 22.267402515733473, 15.0440643393237, 14.063920957485855, 14.057020779397675, 13.07181849039766, 299.50025144698714, 35.59836131895929, 12.089119875438003, 11.099531568983002, 40.09239068019035, 107.33148716272578, 119.8413142868652, 55.82097261038801, 22.094953992024088, 9.125118490870198, 390.3838882677377, 585.350706226535, 384.63155864960953, 238.9276498178045, 140.42244121427984, 594.0160994783973, 192.02179119008926, 568.4605244075412, 672.4976484298383, 275.4339403447801, 1039.548084631466, 221.15210593858438, 524.0520688376627, 113.74034041214372, 138.2482768941181, 78.4454960452598, 223.83222739005092, 1669.9413077773079, 287.38941121613095, 452.00677110719755, 409.1588883372745, 876.2784336878435, 551.5339331382098, 608.5632129218997, 497.11215165504433, 150.65074228077, 297.5364621613031, 559.3657121699763, 1696.321772223018, 1627.7539964635107, 441.79884199506296, 613.0515865140594, 514.9070328114599, 378.0912244991739, 571.8697017574352, 437.86304193490906, 354.5098693783458, 410.8979848937243, 348.6025059716832, 328.6341316370476, 316.0407962785988, 350.3487613755112, 378.3877573804184, 331.0495435210056, 13.647474886741287, 7.365717083028138, 4.707906313036278, 4.706356802249665, 6.311868452536377, 4.701645595436162, 3.8141969312345076, 3.8121902864384065, 3.8099251537825647, 3.804912613861336, 3.7960050513960613, 3.788692323616094, 3.78755072791773, 7.659135504944377, 4.515252124334509, 56.4811242022971, 5.252834484759615, 5.238784430257324, 4.4748540127865395, 5.9590034883669905, 2.914701847536515, 2.908752377646964, 2.9086619068960546, 2.8955594051508426, 2.8901481565582867, 5.8113215840517345, 2.8519339133321724, 2.8518591997179183, 2.8528618139300517, 2.7895717696583273, 9.977854464575556, 11.629673329702513, 18.001553456853884, 6.039473945941063, 34.57319739751795, 9.446133606113161, 4.692535845891555, 20.807799640976793, 8.639915637067586, 28.943583926540338, 11.900701745663742, 195.91463700568306, 168.38800562579328, 63.26433853930541, 14.333369943913945, 7.525726025509382, 26.556453499131454, 19.792925314246673, 96.58426498482011, 321.88946737322357, 33.678186370000546, 139.93044402867085, 23.195343648961263, 91.56816713754394, 313.914070201421, 45.08949765402467, 52.44320673664247, 95.09407185062314, 90.470359990806, 142.6717807243761, 69.74963889019573, 101.10371488117822, 89.52662577219216, 47.31659222788746, 73.35828238034146, 194.94966854053092, 108.50489224944735, 112.87933966290757, 86.49860975175778, 85.71958258099924, 89.24150445648067, 78.26391455552482, 83.57569985239562, 83.44718960313512, 78.14740380844364, 71.09973585352846, 69.09621557369391, 78.59075651998448, 68.29676432108621, 68.41151310160565, 63.283147957263566, 1.4223641841170895, 1.4147881361106378, 1.4146554728646743, 1.0856879937587924, 0.7514767217788457, 0.7508278520067939, 0.7508278520067939, 0.7508275807118124, 0.7508263598843956, 0.7451031887779836, 1.3896723249589202, 1.0853814982534198, 0.4179934359699365, 0.41799326641057305, 0.41799326641057305, 0.4179929951155915, 0.4179928594681008, 0.4179928594681008, 0.41799207949502887, 0.4179920116712835, 0.41799160472881125, 0.41651277578454277, 0.4165127079607974, 0.41651223319457975, 0.41651209754708896, 0.416511656692744, 0.41651155495712594, 0.41651148713338054, 0.41651053760094525, 0.4165096558922553, 16.885112077157842, 1.2980630633689543, 2.0393684615243775, 1.3094258467274698, 0.7503717373191126, 0.7403653610444544, 0.9466291042533937, 0.7422705300521824, 2.9121443572570884, 8.446866373245319, 2.1847414704296853, 3.4182418897438724, 1.2209349853025915, 1.033978627691015, 1.5332306417328372, 7.920328391670851, 1.8716929704257201, 1.046964568923968, 1.8883275578651426, 3.7856764877507874, 2.64812876268071, 2.0606809883301587, 2.1661984584427563, 2.2412196596826304, 2.714849693960963, 2.0220297279604185, 1.75611398333347, 2.1906957170366073, 2.1580555395724175, 1.3382407649522199, 1.6955688110125502, 1.5540049192952816, 1.3766508440833882], \"Total\": [2234.0, 713.0, 480.0, 3229.0, 1857.0, 1228.0, 1105.0, 750.0, 1075.0, 676.0, 691.0, 312.0, 1500.0, 660.0, 758.0, 619.0, 2114.0, 1204.0, 893.0, 662.0, 637.0, 712.0, 519.0, 572.0, 3268.0, 251.0, 177.0, 1024.0, 278.0, 395.0, 1075.085362068995, 712.4010332368719, 524.1059656164605, 441.3607304080993, 428.54831220991827, 255.07948348824345, 241.27560778766986, 243.24567340874515, 146.65808227348833, 219.56301129573018, 138.77870653900732, 399.8683440343871, 161.437409634697, 141.59930032599615, 183.1185374172472, 91.45640736907164, 85.55093784497386, 84.56893916385474, 56.97276637230376, 55.000663498049875, 50.073566833539516, 49.08615336805961, 77.629387219017, 45.13829913615384, 41.20313237209004, 40.2144878303889, 54.006120590367026, 45.07407162630641, 33.318247344569826, 31.339420034684878, 618.2022679768722, 1500.147350139915, 251.13508892829523, 747.6816585004404, 1857.5919698848472, 1024.712531061457, 177.21446564469935, 307.91396798161117, 241.5849132759636, 1677.89275148376, 2114.0530485660083, 1016.3340301190697, 243.34752660783772, 691.8785167509192, 421.91439186988475, 1010.7998889571044, 423.70269673342347, 557.2657846211754, 365.16093674278017, 954.5287275669426, 1105.4039712198687, 571.8230930740034, 3268.564068774585, 480.5150271258901, 3229.1602553264393, 472.0044384238616, 818.063082332718, 840.4924739852006, 947.2718149627694, 862.5761418731965, 781.9706459780721, 1128.7565985092099, 1042.6547543344532, 763.2588894001559, 64.97647875423011, 55.110494930848255, 30.422817464613072, 27.455325759847614, 57.996824451475, 23.50479472657742, 22.522976671438617, 25.47216780064819, 23.48616891444658, 20.547405802826585, 20.546118003711374, 100.32110869819714, 39.29268812838617, 124.19420552254262, 23.05882207680276, 15.604449805613514, 14.621378784151283, 14.620413380253579, 13.633041427735304, 312.7499357136297, 37.228882225601446, 12.646134947485098, 11.658056837644216, 42.12499478537501, 112.88757912918254, 126.59504872626856, 58.97277971411757, 23.42909342376571, 9.682692446547192, 416.962420695865, 627.3423925487537, 415.5543330485335, 259.53740743706595, 151.81189041647482, 662.6543428943295, 210.37879206325545, 637.8906183269203, 758.6920085251294, 305.06251283426406, 1228.6156654764811, 250.76648172124513, 619.4840879140665, 127.13342661780453, 157.00370498330585, 86.02112412094162, 262.67308268312786, 2234.7713022536323, 343.4881454945863, 572.4681500885903, 517.8698322533683, 1204.8991725606518, 728.0340334875423, 815.8733444613434, 660.5284725261916, 175.2648649200221, 391.82612068821015, 838.4935184449026, 3229.1602553264393, 3268.564068774585, 676.2206480418514, 1042.6547543344532, 836.4402644757915, 567.9374420996741, 1128.7565985092099, 779.2447564644187, 612.6174518337479, 893.7919362497056, 713.9386701000952, 578.275886560027, 498.7272097054608, 763.2588894001559, 2114.0530485660083, 947.2718149627694, 14.265315941645868, 7.980301501736107, 5.2887169417181035, 5.288568029815705, 7.09450008350035, 5.287349415742717, 4.39167183023382, 4.391370285035308, 4.39106880579119, 4.389899352577769, 4.390152885462149, 4.3869641420686145, 4.387252329499173, 8.938705975459438, 5.29368896542403, 66.28593573805296, 6.214676308641743, 6.203310748869813, 5.305642259809785, 7.1324277188385174, 3.493281711508618, 3.4919354642177365, 3.4919362499291804, 3.4899764098870683, 3.48907147735207, 7.069761308541474, 3.4918881419448464, 3.492121406590991, 3.4953379452687035, 3.499834879019246, 12.624676640548763, 15.455671245640488, 26.64198402598002, 8.103279868250857, 60.57320214878069, 13.682182644389773, 6.12510875675737, 36.26833523552025, 12.778722403636724, 55.20578502780618, 19.360374930163594, 750.3253242144291, 676.2206480418514, 190.84266503490707, 26.024342393127913, 10.927859258384629, 61.368273948557146, 41.295883415413584, 395.049654605384, 2234.7713022536323, 90.29047942938038, 893.7919362497056, 58.743687673058076, 474.3751594092023, 3229.1602553264393, 171.08609688868492, 236.03425328486156, 619.4840879140665, 572.4681500885903, 1228.6156654764811, 417.4156079188255, 818.063082332718, 687.3102527726252, 231.99379968085285, 519.499083717244, 3268.564068774585, 1105.4039712198687, 1204.8991725606518, 762.8002084550648, 758.6920085251294, 947.2718149627694, 713.9386701000952, 838.4935184449026, 862.5761418731965, 836.4402644757915, 665.6017235657011, 637.8906183269203, 954.5287275669426, 662.6543428943295, 680.6791285000857, 517.8698322533683, 2.1408194157940112, 2.1498672188242844, 2.150136310009608, 1.8082043875943954, 1.4727316309966212, 1.4735250846707855, 1.4735253253067242, 1.4735255188583514, 1.4735281390911374, 1.4802341708346094, 3.180666447092138, 2.784317442752738, 1.1365259058116353, 1.1365262077595712, 1.1365264068257783, 1.1365267606740352, 1.1365267769537415, 1.1365269040988146, 1.1365282919623882, 1.1365283933682835, 1.1365291915287647, 1.138141289691137, 1.1381414431754906, 1.1381423293153545, 1.1381428929902584, 1.1381435694690407, 1.1381436796030409, 1.1381437059702162, 1.1381456791068825, 1.1381472008624387, 53.29474142182566, 4.34037329173372, 7.809704357980673, 5.080415345813517, 2.4500128826859457, 2.471382423388973, 5.017456606715071, 3.358755990293165, 48.753982604138756, 480.5150271258901, 31.126921968430462, 78.69807970070784, 10.367054335418109, 7.813825461625635, 18.694327190388115, 713.9386701000952, 29.840757433161375, 8.476211169452325, 41.077587277748506, 312.99937848162364, 177.0598689694188, 127.15626310673497, 186.08965785596757, 251.4159595220811, 1105.4039712198687, 278.2737166564082, 161.04553268367806, 691.8785167509192, 660.5284725261916, 55.60443526221192, 1857.5919698848472, 519.499083717244, 781.9706459780721], \"Category\": [\"Default\", \"Default\", \"Default\", \"Default\", \"Default\", \"Default\", \"Default\", \"Default\", \"Default\", \"Default\", \"Default\", \"Default\", \"Default\", \"Default\", \"Default\", \"Default\", \"Default\", \"Default\", \"Default\", \"Default\", \"Default\", \"Default\", \"Default\", \"Default\", \"Default\", \"Default\", \"Default\", \"Default\", \"Default\", \"Default\", \"Topic1\", \"Topic1\", \"Topic1\", \"Topic1\", \"Topic1\", \"Topic1\", \"Topic1\", \"Topic1\", \"Topic1\", \"Topic1\", \"Topic1\", \"Topic1\", \"Topic1\", \"Topic1\", \"Topic1\", \"Topic1\", \"Topic1\", \"Topic1\", \"Topic1\", \"Topic1\", \"Topic1\", \"Topic1\", \"Topic1\", \"Topic1\", \"Topic1\", \"Topic1\", \"Topic1\", \"Topic1\", \"Topic1\", \"Topic1\", \"Topic1\", \"Topic1\", \"Topic1\", \"Topic1\", \"Topic1\", \"Topic1\", \"Topic1\", \"Topic1\", \"Topic1\", \"Topic1\", \"Topic1\", \"Topic1\", \"Topic1\", \"Topic1\", \"Topic1\", \"Topic1\", \"Topic1\", \"Topic1\", \"Topic1\", \"Topic1\", \"Topic1\", \"Topic1\", \"Topic1\", \"Topic1\", \"Topic1\", \"Topic1\", \"Topic1\", \"Topic1\", \"Topic1\", \"Topic1\", \"Topic1\", \"Topic1\", \"Topic1\", \"Topic1\", \"Topic2\", \"Topic2\", \"Topic2\", \"Topic2\", \"Topic2\", \"Topic2\", \"Topic2\", \"Topic2\", \"Topic2\", \"Topic2\", \"Topic2\", \"Topic2\", \"Topic2\", \"Topic2\", \"Topic2\", \"Topic2\", \"Topic2\", \"Topic2\", \"Topic2\", \"Topic2\", \"Topic2\", \"Topic2\", \"Topic2\", \"Topic2\", \"Topic2\", \"Topic2\", \"Topic2\", \"Topic2\", \"Topic2\", \"Topic2\", \"Topic2\", \"Topic2\", \"Topic2\", \"Topic2\", \"Topic2\", \"Topic2\", \"Topic2\", \"Topic2\", \"Topic2\", \"Topic2\", \"Topic2\", \"Topic2\", \"Topic2\", \"Topic2\", \"Topic2\", \"Topic2\", \"Topic2\", \"Topic2\", \"Topic2\", \"Topic2\", \"Topic2\", \"Topic2\", \"Topic2\", \"Topic2\", \"Topic2\", \"Topic2\", \"Topic2\", \"Topic2\", \"Topic2\", \"Topic2\", \"Topic2\", \"Topic2\", \"Topic2\", \"Topic2\", \"Topic2\", \"Topic2\", \"Topic2\", \"Topic2\", \"Topic2\", \"Topic2\", \"Topic2\", \"Topic2\", \"Topic2\", \"Topic3\", \"Topic3\", \"Topic3\", \"Topic3\", \"Topic3\", \"Topic3\", \"Topic3\", \"Topic3\", \"Topic3\", \"Topic3\", \"Topic3\", \"Topic3\", \"Topic3\", \"Topic3\", \"Topic3\", \"Topic3\", \"Topic3\", \"Topic3\", \"Topic3\", \"Topic3\", \"Topic3\", \"Topic3\", \"Topic3\", \"Topic3\", \"Topic3\", \"Topic3\", \"Topic3\", \"Topic3\", \"Topic3\", \"Topic3\", \"Topic3\", \"Topic3\", \"Topic3\", \"Topic3\", \"Topic3\", \"Topic3\", \"Topic3\", \"Topic3\", \"Topic3\", \"Topic3\", \"Topic3\", \"Topic3\", \"Topic3\", \"Topic3\", \"Topic3\", \"Topic3\", \"Topic3\", \"Topic3\", \"Topic3\", \"Topic3\", \"Topic3\", \"Topic3\", \"Topic3\", \"Topic3\", \"Topic3\", \"Topic3\", \"Topic3\", \"Topic3\", \"Topic3\", \"Topic3\", \"Topic3\", \"Topic3\", \"Topic3\", \"Topic3\", \"Topic3\", \"Topic3\", \"Topic3\", \"Topic3\", \"Topic3\", \"Topic3\", \"Topic3\", \"Topic3\", \"Topic3\", \"Topic3\", \"Topic3\", \"Topic3\", \"Topic3\", \"Topic3\", \"Topic3\", \"Topic3\", \"Topic3\", \"Topic4\", \"Topic4\", \"Topic4\", \"Topic4\", \"Topic4\", \"Topic4\", \"Topic4\", \"Topic4\", \"Topic4\", \"Topic4\", \"Topic4\", \"Topic4\", \"Topic4\", \"Topic4\", \"Topic4\", \"Topic4\", \"Topic4\", \"Topic4\", \"Topic4\", \"Topic4\", \"Topic4\", \"Topic4\", \"Topic4\", \"Topic4\", \"Topic4\", \"Topic4\", \"Topic4\", \"Topic4\", \"Topic4\", \"Topic4\", \"Topic4\", \"Topic4\", \"Topic4\", \"Topic4\", \"Topic4\", \"Topic4\", \"Topic4\", \"Topic4\", \"Topic4\", \"Topic4\", \"Topic4\", \"Topic4\", \"Topic4\", \"Topic4\", \"Topic4\", \"Topic4\", \"Topic4\", \"Topic4\", \"Topic4\", \"Topic4\", \"Topic4\", \"Topic4\", \"Topic4\", \"Topic4\", \"Topic4\", \"Topic4\", \"Topic4\", \"Topic4\", \"Topic4\", \"Topic4\", \"Topic4\", \"Topic4\", \"Topic4\"], \"logprob\": [30.0, 29.0, 28.0, 27.0, 26.0, 25.0, 24.0, 23.0, 22.0, 21.0, 20.0, 19.0, 18.0, 17.0, 16.0, 15.0, 14.0, 13.0, 12.0, 11.0, 10.0, 9.0, 8.0, 7.0, 6.0, 5.0, 4.0, 3.0, 2.0, 1.0, -4.172800064086914, -4.58459997177124, -4.8917999267578125, -5.063799858093262, -5.093299865722656, -5.61299991607666, -5.668799877166748, -5.661200046539307, -6.1682000160217285, -5.764800071716309, -6.223599910736084, -5.16540002822876, -6.072500228881836, -6.203999996185303, -5.947800159454346, -6.6427001953125, -6.70989990234375, -6.721499919891357, -7.119699954986572, -7.155200004577637, -7.250100135803223, -7.270299911499023, -6.812699794769287, -7.3557000160217285, -7.447500228881836, -7.472300052642822, -7.177499771118164, -7.35830020904541, -7.663099765777588, -7.72629976272583, -4.762899875640869, -3.8940000534057617, -5.668099880218506, -4.6057000160217285, -3.7151999473571777, -4.3084001541137695, -6.019999980926514, -5.509699821472168, -5.75, -3.9172000885009766, -3.7028000354766846, -4.395899772644043, -5.746500015258789, -4.791999816894531, -5.24399995803833, -4.489799976348877, -5.277699947357178, -5.055200099945068, -5.42140007019043, -4.710899829864502, -4.616399765014648, -5.10890007019043, -3.876300096511841, -5.254799842834473, -4.046800136566162, -5.267099857330322, -4.951900005340576, -4.940800189971924, -4.886899948120117, -4.978499889373779, -5.032100200653076, -4.941500186920166, -5.191500186920166, -5.235400199890137, -6.839000225067139, -7.005000114440918, -7.606299877166748, -7.711599826812744, -6.965799808502197, -7.87060022354126, -7.91349983215332, -7.790800094604492, -7.873799800872803, -8.00790023803711, -8.008299827575684, -6.42549991607666, -7.363500118255615, -6.213200092315674, -7.899899959564209, -8.291999816894531, -8.359399795532227, -8.35990047454834, -8.432499885559082, -5.300899982452393, -7.430699825286865, -8.510700225830078, -8.596099853515625, -7.311800003051758, -6.327099800109863, -6.216800212860107, -6.980800151824951, -7.907599925994873, -8.791899681091309, -5.035799980163574, -4.630799770355225, -5.0507001876831055, -5.526800155639648, -6.058300018310547, -4.616099834442139, -5.7453999519348145, -4.659999847412109, -4.492000102996826, -5.3846001625061035, -4.056399822235107, -5.604100227355957, -4.741399765014648, -6.269100189208984, -6.07390022277832, -6.640600204467773, -5.592100143432617, -3.58240008354187, -5.342100143432617, -4.8892998695373535, -4.988900184631348, -4.22730016708374, -4.690299987792969, -4.591899871826172, -4.7941999435424805, -5.98799991607666, -5.307400226593018, -4.676199913024902, -3.566800117492676, -3.6080000400543213, -4.912099838256836, -4.584499835968018, -4.758999824523926, -5.067800045013428, -4.654099941253662, -4.92110013961792, -5.132199764251709, -4.984600067138672, -5.14900016784668, -5.208000183105469, -5.247099876403809, -5.144000053405762, -5.0671000480651855, -5.200699806213379, -6.792900085449219, -7.409599781036377, -7.8572001457214355, -7.857500076293945, -7.564000129699707, -7.858500003814697, -8.067700386047363, -8.06820011138916, -8.06879997253418, -8.070199966430664, -8.072500228881836, -8.074399948120117, -8.074700355529785, -7.370500087738037, -7.89900016784668, -5.372499942779541, -7.747700214385986, -7.750400066375732, -7.9079999923706055, -7.621500015258789, -8.336700439453125, -8.338700294494629, -8.338800430297852, -8.343299865722656, -8.345100402832031, -7.646599769592285, -8.358400344848633, -8.358499526977539, -8.358099937438965, -8.380599975585938, -7.106100082397461, -6.952899932861328, -6.515999794006348, -7.608099937438965, -5.863399982452393, -7.160799980163574, -7.860499858856201, -6.371099948883057, -7.250100135803223, -6.041100025177002, -6.929800033569336, -4.128799915313721, -4.280200004577637, -5.259099960327148, -6.743899822235107, -7.3881001472473145, -6.127200126647949, -6.42110013961792, -4.835999965667725, -3.632200002670288, -5.889599800109863, -4.4653000831604, -6.262499809265137, -4.889400005340576, -3.6572999954223633, -5.597799777984619, -5.446700096130371, -4.851600170135498, -4.901400089263916, -4.445899963378906, -5.161499977111816, -4.790299892425537, -4.911900043487549, -5.549600124359131, -5.111100196838379, -4.133699893951416, -4.719600200653076, -4.680099964141846, -4.946300029754639, -4.955399990081787, -4.91510009765625, -5.04640007019043, -4.9807000160217285, -4.9822001457214355, -5.047800064086914, -5.142399787902832, -5.170899868011475, -5.042200088500977, -5.182600021362305, -5.1809000968933105, -5.258800029754639, -6.015200138092041, -6.020500183105469, -6.020599842071533, -6.285299777984619, -6.653200149536133, -6.654099941253662, -6.654099941253662, -6.654099941253662, -6.654099941253662, -6.6616997718811035, -6.038400173187256, -6.285600185394287, -7.239799976348877, -7.239799976348877, -7.239799976348877, -7.239799976348877, -7.239799976348877, -7.239799976348877, -7.239799976348877, -7.239799976348877, -7.239799976348877, -7.243299961090088, -7.243299961090088, -7.243299961090088, -7.243299961090088, -7.243299961090088, -7.243299961090088, -7.243299961090088, -7.243299961090088, -7.243299961090088, -3.541100025177002, -6.106599807739258, -5.654900074005127, -6.097899913787842, -6.654699802398682, -6.668099880218506, -6.422399997711182, -6.665500164031982, -5.298600196838379, -4.233699798583984, -5.585999965667725, -5.138400077819824, -6.167900085449219, -6.334099769592285, -5.940100193023682, -4.298099994659424, -5.740699768066406, -6.321599960327148, -5.731800079345703, -5.036300182342529, -5.393599987030029, -5.644499778747559, -5.5945000648498535, -5.560500144958496, -5.368800163269043, -5.663400173187256, -5.8043999671936035, -5.5833001136779785, -5.598299980163574, -6.076099872589111, -5.8394999504089355, -5.926700115203857, -6.047800064086914], \"loglift\": [30.0, 29.0, 28.0, 27.0, 26.0, 25.0, 24.0, 23.0, 22.0, 21.0, 20.0, 19.0, 18.0, 17.0, 16.0, 15.0, 14.0, 13.0, 12.0, 11.0, 10.0, 9.0, 8.0, 7.0, 6.0, 5.0, 4.0, 3.0, 2.0, 1.0, 0.7144, 0.7141, 0.7138, 0.7137, 0.7136, 0.7127, 0.7126, 0.7121, 0.711, 0.7109, 0.7109, 0.7108, 0.7107, 0.7103, 0.7094, 0.7087, 0.7084, 0.7083, 0.7051, 0.7048, 0.7038, 0.7034, 0.7027, 0.7019, 0.7013, 0.7008, 0.7008, 0.7007, 0.6981, 0.6961, 0.6776, 0.66, 0.6732, 0.6446, 0.6251, 0.6268, 0.67, 0.6278, 0.6302, 0.5248, 0.5082, 0.5475, 0.6264, 0.5359, 0.5785, 0.459, 0.5406, 0.4891, 0.5456, 0.2952, 0.243, 0.4096, -0.101, 0.4377, -0.2594, 0.4433, 0.2085, 0.1925, 0.1268, 0.1289, 0.1734, -0.1031, -0.2737, -0.0057, 0.8543, 0.853, 0.8458, 0.8432, 0.8411, 0.8396, 0.8393, 0.839, 0.8371, 0.8367, 0.8363, 0.8335, 0.8328, 0.8323, 0.8294, 0.8278, 0.8255, 0.8251, 0.8223, 0.8211, 0.8196, 0.8193, 0.8153, 0.8149, 0.8139, 0.8095, 0.8094, 0.8057, 0.805, 0.7985, 0.7951, 0.787, 0.7816, 0.7864, 0.755, 0.7731, 0.7491, 0.7438, 0.7622, 0.6973, 0.7387, 0.6971, 0.753, 0.7371, 0.7722, 0.7043, 0.573, 0.686, 0.6281, 0.6287, 0.5459, 0.5867, 0.5712, 0.5801, 0.713, 0.5891, 0.4596, 0.2206, 0.1672, 0.4387, 0.3333, 0.3792, 0.4575, 0.1844, 0.2879, 0.3174, 0.0872, 0.1475, 0.2993, 0.4082, 0.0857, -0.8561, -0.187, 2.4166, 2.3808, 2.3446, 2.3443, 2.344, 2.3435, 2.3199, 2.3195, 2.3189, 2.3179, 2.3155, 2.3143, 2.3139, 2.3064, 2.3018, 2.3008, 2.2927, 2.2919, 2.2906, 2.2811, 2.2798, 2.2782, 2.2781, 2.2742, 2.2726, 2.2649, 2.2584, 2.2584, 2.2578, 2.2341, 2.2256, 2.1765, 2.0689, 2.1669, 1.9001, 2.0904, 2.1945, 1.9053, 2.0695, 1.8152, 1.9743, 1.1181, 1.0706, 1.3568, 1.8644, 2.0879, 1.6233, 1.7255, 1.0523, 0.5232, 1.4747, 0.6066, 1.5317, 0.816, 0.13, 1.1274, 0.9566, 0.5869, 0.616, 0.3078, 0.6717, 0.3701, 0.4226, 0.871, 0.5034, -0.3585, 0.1397, 0.0931, 0.284, 0.2804, 0.0987, 0.2502, 0.155, 0.1252, 0.0903, 0.2243, 0.2382, -0.0361, 0.1885, 0.1633, 0.3588, 5.091, 5.0814, 5.0812, 4.9897, 4.827, 4.8256, 4.8256, 4.8256, 4.8256, 4.8134, 4.6718, 4.5578, 4.4996, 4.4996, 4.4996, 4.4996, 4.4996, 4.4996, 4.4996, 4.4996, 4.4996, 4.4946, 4.4946, 4.4946, 4.4946, 4.4946, 4.4946, 4.4946, 4.4946, 4.4946, 4.3504, 4.2927, 4.1571, 4.144, 4.3166, 4.2944, 3.8321, 3.9902, 2.6819, 1.4588, 2.8433, 2.3633, 3.3608, 3.4774, 2.999, 0.9985, 2.7308, 3.4085, 2.4201, 1.0849, 1.2972, 1.3775, 1.0466, 0.7797, -0.5094, 0.5753, 0.9812, -0.2554, -0.224, 1.7729, -1.4992, -0.3122, -0.8423]}, \"token.table\": {\"Topic\": [4, 1, 2, 3, 4, 1, 2, 3, 4, 3, 1, 2, 3, 3, 3, 1, 2, 3, 1, 1, 2, 4, 1, 3, 1, 2, 3, 4, 1, 1, 2, 1, 1, 2, 3, 2, 3, 2, 3, 1, 2, 3, 2, 2, 1, 2, 3, 1, 2, 3, 1, 1, 2, 3, 1, 2, 3, 4, 2, 2, 3, 1, 2, 3, 3, 1, 1, 2, 3, 2, 3, 4, 1, 2, 3, 4, 1, 2, 3, 1, 2, 3, 2, 1, 2, 3, 1, 3, 4, 1, 1, 2, 3, 1, 2, 3, 4, 4, 1, 3, 1, 2, 4, 2, 3, 1, 2, 3, 4, 4, 1, 2, 3, 1, 2, 3, 1, 1, 2, 1, 2, 3, 1, 2, 3, 2, 3, 4, 3, 1, 2, 4, 1, 2, 3, 4, 1, 2, 3, 4, 3, 1, 2, 3, 1, 2, 3, 1, 2, 3, 4, 1, 1, 2, 3, 1, 2, 3, 4, 1, 2, 3, 2, 3, 3, 2, 3, 1, 2, 3, 1, 2, 3, 1, 2, 3, 4, 1, 2, 3, 1, 2, 2, 3, 2, 3, 1, 2, 3, 1, 2, 3, 2, 2, 3, 1, 2, 3, 4, 1, 1, 1, 2, 3, 2, 3, 2, 1, 2, 3, 4, 1, 2, 3, 4, 1, 1, 2, 3, 4, 1, 4, 3, 2, 3, 1, 3, 1, 2, 4, 1, 2, 3, 2, 3, 2, 3, 3, 2, 3, 1, 4, 1, 2, 3, 4, 4, 1, 2, 3, 1, 2, 3, 1, 2, 3, 1, 2, 3, 4, 1, 2, 3, 1, 2, 3, 1, 2, 3, 4, 3, 1, 1, 2, 3, 1, 2, 3, 1, 2, 3, 1, 2, 3, 4, 3, 1, 2, 3, 4, 2, 3, 3, 1, 2, 3, 2, 3, 2, 1, 2, 3, 1, 2, 3, 4, 1, 2, 3, 4, 3, 2, 3, 2, 3, 3, 1, 2, 3, 1, 3, 1, 2, 3, 2, 3, 1, 1, 2, 3, 2, 1, 2, 3, 1, 2, 3, 2, 1, 2, 3, 1, 2, 3, 2, 3, 1, 4, 1, 3, 4, 1, 4, 2, 1, 2, 3, 4, 1, 2, 3, 2, 1, 2, 3, 4, 1, 2, 3, 2, 2, 1, 2, 3, 1, 4, 1, 2, 1, 2, 3, 4, 1, 3, 2, 3, 1, 3, 2, 1, 2, 3, 4, 1, 2, 3, 4, 1, 2, 3, 4, 3, 2, 3, 1, 2, 3, 1, 2, 3, 1, 2, 3, 2, 3, 3, 2, 3, 1, 3, 1, 1, 2, 3, 3, 1, 2, 3, 3, 1, 1, 2, 3, 1, 2, 3, 2, 3, 1, 2, 1, 2, 3, 4, 1, 2, 3, 2, 3, 1, 2, 1, 2, 3, 2, 4, 1, 3, 4, 1, 2, 3, 4, 1, 1, 2, 3, 3, 2, 2, 3, 1, 3, 2, 4, 2, 3, 4, 1, 2, 3, 4, 2, 3, 1, 2, 3, 4, 1, 2, 3, 4, 1, 2, 3, 1, 2, 3, 2, 3, 1, 2, 3, 3, 1, 2, 3, 1, 2, 3], \"Freq\": [0.46514500581430246, 0.9163849047842249, 0.07807763762735548, 0.004109349348808184, 0.004109349348808184, 0.2483769610583802, 0.5961047065401125, 0.14902617663502812, 0.01241884805291901, 0.8591222133739821, 0.5077765079047287, 0.3608268594853087, 0.13094523126482976, 0.8598276130120336, 0.9111826214537655, 0.9322149233912087, 0.050823769137540796, 0.01738707891547448, 0.9904482567381596, 0.993272480777459, 0.3143995186650994, 0.3143995186650994, 0.997435764373937, 0.004554501207186927, 0.4138509860633612, 0.38950681041257523, 0.14606505390471572, 0.048688351301571904, 0.9982448539527305, 0.999688397172691, 0.9734198935481279, 0.9813702487909031, 0.23255993720935775, 0.6666718200001589, 0.10017966525941564, 0.4709651350289514, 0.5253072659938304, 0.1941035075293929, 0.7764140301175716, 0.10330378451937863, 0.30991135355813587, 0.6198227071162717, 0.9792997778301964, 0.9798496650730195, 0.3721552151544593, 0.5620827042677695, 0.06673127995873063, 0.7746340384028558, 0.21468146402735597, 0.01088247052673233, 0.9761709650902813, 0.9935601191658213, 0.16090942638628855, 0.8045471319314427, 0.5463919852114669, 0.35579012990514125, 0.06353395176877522, 0.03812037106126513, 0.9834157582455819, 0.9067540188190949, 0.08137536066325211, 0.024215488743528187, 0.48430977487056376, 0.48430977487056376, 0.8591224066828681, 0.9988577055501093, 0.8402117870493063, 0.15812974643905484, 0.0023601454692396243, 0.1968343003341338, 0.5905029010024014, 0.1968343003341338, 0.19782594586434837, 0.6114620144898041, 0.17984176896758944, 0.017984176896758942, 0.946573681490395, 0.04732868407451975, 0.005999410657333489, 0.033913951651853666, 0.9495906462519027, 0.016956975825926833, 0.9294935318542895, 0.5925097670877761, 0.3343278003045484, 0.07257649757500872, 0.4719089602693856, 0.3539317202020392, 0.1179772400673464, 0.9829257655149312, 0.024155716342623302, 0.9662286537049322, 0.008051905447541101, 0.3907898698930033, 0.4888375075005668, 0.1092530819055708, 0.011205444298007261, 0.6786447074454927, 0.24681363997263894, 0.7404409199179168, 0.5121832807809725, 0.12804582019524313, 0.25609164039048626, 0.9353360893989736, 0.062355739293264906, 0.4497714234063707, 0.4497714234063707, 0.0321265302433122, 0.0642530604866244, 0.46508679256504043, 0.4860736051060845, 0.45856000481706083, 0.05371702913571284, 0.4392671781473058, 0.45983487210738033, 0.09990022780607624, 0.9955128127731744, 0.9994370681425745, 0.9535656492286869, 0.18767371060369353, 0.11260422636221612, 0.6756253581732967, 0.14036838560787385, 0.7605414347481165, 0.09953394615831054, 0.9126395209183946, 0.0855599550860995, 0.6790103362710312, 0.8771598414517493, 0.05349216314744724, 0.8023824472117086, 0.10698432629489447, 0.7575205341177305, 0.1831368324240667, 0.04162200736910607, 0.016648802947642427, 0.915378676035478, 0.07123949184497856, 0.012686484849105771, 0.0009758834499312131, 0.9814013273360942, 0.736241689255309, 0.19411597982740925, 0.06820291183125189, 0.8266320947947813, 0.14363254134501968, 0.029799282436726075, 0.6242061888366028, 0.2759172283987882, 0.09860648490317349, 0.0027139399514634903, 0.981806337698356, 0.3721735306715922, 0.5794807166158562, 0.048970201404156866, 0.2985371715056027, 0.43980922587878973, 0.2612200250674024, 0.0013327552299357266, 0.00996799191093839, 0.9668952153610239, 0.01993598382187678, 0.14020471562000567, 0.8412282937200339, 0.9109399503657455, 0.8458651484728501, 0.15335341432236785, 0.9189315549121577, 0.062089969926497145, 0.016557325313732572, 0.3721270136514823, 0.5879223179596873, 0.03932269989616179, 0.5175729127190938, 0.3354639249105238, 0.1341855699642095, 0.012779578091829476, 0.11981865281203306, 0.8615531702198568, 0.017116950401719008, 0.959642879967327, 0.03981920663764842, 0.5540322028366155, 0.43996674931143, 0.9208691816726035, 0.07706018256674506, 0.081002475579848, 0.6758644056193567, 0.24553875410141424, 0.21326839659760968, 0.7464393880916339, 0.041673134967349014, 0.9849718117547799, 0.9264733137917611, 0.07459914994167427, 0.5818632736921932, 0.3708579107049143, 0.04475871336093793, 0.0012788203817410838, 0.9989900194099965, 0.9989904410316719, 0.08689442249260758, 0.7897737510994778, 0.12165219148965062, 0.9479043707267828, 0.047395218536339136, 0.943553471491121, 0.34583006417778206, 0.11527668805926068, 0.5379578776098831, 0.6786445966185504, 0.49145409357176484, 0.2796204325494524, 0.22030700746320495, 0.004236673220446249, 0.9969361021837203, 0.4716081465378484, 0.3830613108613544, 0.14051997835617525, 0.00384986242071713, 0.999182685764169, 0.6786433007087286, 0.8457255521011516, 0.1632624072016314, 0.816312036008157, 0.31302033753089675, 0.7042957594445177, 0.5979124953437515, 0.19930416511458382, 0.19930416511458382, 0.0976012788002227, 0.6536328065105822, 0.2484396187642032, 0.9014545820298918, 0.0950624831958795, 0.8789601494733739, 0.11464697601826615, 0.9108774119165036, 0.9390034689811735, 0.04268197586278061, 0.767869723922874, 0.127978287320479, 0.3686233509534159, 0.5696906332916427, 0.03351121372303781, 0.06702242744607562, 0.6755687847931277, 0.0039877737771653685, 0.8812980047535465, 0.11564543953779569, 0.03744051235270576, 0.8464811488437824, 0.11639115796602008, 0.09936517524893237, 0.6371061236549193, 0.26302546389423276, 0.6212828064449126, 0.28311621559515004, 0.078643393220875, 0.015728678644175, 0.964085754571022, 0.027499090314945258, 0.009705561287627737, 0.3774975236949861, 0.5252139460104155, 0.09723890274013589, 0.9140866387925114, 0.062446437043540234, 0.022609916860592154, 0.0010766627076472454, 0.9454088874674563, 0.989169549586137, 0.7627046923586739, 0.19279479723510926, 0.04449110705425598, 0.3769826912493452, 0.5689325936744705, 0.05360763040701698, 0.6568686534958451, 0.2598140766618335, 0.08276335506566469, 0.7985417592119123, 0.10766855180385335, 0.09151826903327534, 0.0017944758633975557, 0.9117922714804442, 0.5031017721765711, 0.38451349730637935, 0.10421393852228973, 0.007187168173951017, 0.18847859524472566, 0.7539143809789026, 0.857183296841903, 0.05240466215519144, 0.7895635764715511, 0.15721398646557433, 0.5958086968389666, 0.3915314293513209, 0.9733588849084159, 0.23770223618450437, 0.6655662613166122, 0.09508089447380175, 0.4513953164716739, 0.42452654763407427, 0.11284882911791848, 0.010747507535039854, 0.2629380616374917, 0.5301865833018277, 0.20259162126167396, 0.46711086073979236, 0.9108148683748606, 0.6202204302592028, 0.37656240408594455, 0.8904347919236818, 0.10816901521608106, 0.8591340495601089, 0.5123183848942364, 0.38010718879249794, 0.10667039685481168, 0.9918924103156798, 0.012881719614489348, 0.8461784949769376, 0.10724820459591419, 0.0472285671615035, 0.4135839128703486, 0.579017478018488, 0.998530824980292, 0.2546482275851841, 0.6336129127316391, 0.11028072848177263, 0.9861019622819326, 0.259288450417992, 0.5480894073876253, 0.19393932876792896, 0.009564155190634136, 0.9325051310868283, 0.057384931143804815, 0.978523755155086, 0.17926811215328234, 0.7270317881772006, 0.09378378089500418, 0.21926326215431108, 0.07308775405143703, 0.6577897864629333, 0.13577540846018932, 0.844824763752289, 0.4081611190973418, 0.4081611190973418, 0.9950095637670326, 0.8486849467960085, 0.14144749113266808, 0.9946664040259935, 0.5530348266273057, 0.9767803039949954, 0.2043818027763321, 0.7524278220728671, 0.040876360555266424, 0.0030278785596493645, 0.9158402324146634, 0.07469618916857183, 0.009742981195900675, 0.9540816927561995, 0.544913697047811, 0.38183733515759016, 0.06761702810082326, 0.007954944482449796, 0.8722148546985059, 0.11139700589899396, 0.014220894370084334, 0.9575020390809641, 0.9489065275542079, 0.5564726134873351, 0.3466360654848191, 0.09622338941551836, 0.35915445007999586, 0.35915445007999586, 0.9938917302801598, 0.00546094357296791, 0.07505430917358556, 0.48785300962830613, 0.13134504105377473, 0.31898081398773864, 0.9943888615305083, 0.9445209253240466, 0.9828124304924828, 0.017242323341973384, 0.1612042408454535, 0.8060212042272675, 0.9612642667224274, 0.5704285256047738, 0.34451623823654653, 0.07342149339467385, 0.016943421552617043, 0.486365887014378, 0.39853161631366824, 0.11274249672031403, 0.0013109592641896981, 0.2871560281274648, 0.47175633192369226, 0.1640891589299799, 0.06153343459874246, 0.9456534090810881, 0.9478456427660202, 0.04429185246570188, 0.48207249664624136, 0.18339714546324398, 0.3301148618338392, 0.023597255889426818, 0.896695723798219, 0.086523271594565, 0.3837582171967296, 0.4598385634631366, 0.1566360070190733, 0.9495550136872001, 0.047477750684360005, 0.8582861076597204, 0.42923271475954766, 0.5778132698686218, 0.9972905311371957, 0.8596046642324086, 0.9950699774411415, 0.15841989913438803, 0.07920994956719402, 0.7920994956719403, 0.8587913165195062, 0.9997978164275695, 0.9669911597626111, 0.02686086554896142, 0.9454355076480389, 0.9957676321520204, 0.10873595868845691, 0.7472800453075022, 0.14408633208923097, 0.4411934341360456, 0.5067522978430082, 0.052269904847443156, 0.2745276937656556, 0.7320738500417483, 0.9536467544293552, 0.039500161426067965, 0.8434637142388415, 0.11501777921438748, 0.038339259738129156, 0.002738518552723511, 0.2905168609408006, 0.6157044583724787, 0.09325232573408414, 0.9221939046798604, 0.07245809251056046, 0.025450027667554036, 0.9671010513670534, 0.006394885407206942, 0.9592328110810413, 0.038369312443241654, 0.40463183299196315, 0.40463183299196315, 0.2977292792003971, 0.2977292792003971, 0.2977292792003971, 0.5552788457246279, 0.34942452078869174, 0.09395402522717089, 0.001055663204799673, 0.9987205358315594, 0.14265412254459386, 0.8355455749040497, 0.020379160363513407, 0.8590766616354842, 0.9575652641195828, 0.1118730163790404, 0.8949841310323232, 0.9953276020413697, 0.0025008231207069593, 0.4607898596669134, 0.2303949298334567, 0.8963949400912966, 0.10261760256937402, 0.6786445074767172, 0.8354067744642573, 0.14742472490545716, 0.01300806396224622, 0.00289068088049916, 0.9814633837079161, 0.9111300003345832, 0.38583766136291575, 0.38583766136291575, 0.09645941534072894, 0.09645941534072894, 0.8131300211061504, 0.17880346013852522, 0.00709537540232243, 0.0004730250268214953, 0.1605114871819298, 0.6707942747901544, 0.1676985686975386, 0.4420901562874195, 0.49807804459233146, 0.059659225242938964, 0.885734912782783, 0.1133529799097014, 0.21015501056602467, 0.7582063126303635, 0.031591929692931814, 0.9117323781685974, 0.6026430120696852, 0.27381751461178394, 0.1234623614990633, 0.003807013607124475, 0.8527710479958823, 0.14466651707073003], \"Term\": [\"absorptive\", \"accept\", \"accept\", \"accept\", \"accept\", \"alignment\", \"alignment\", \"alignment\", \"alignment\", \"alligne\", \"also\", \"also\", \"also\", \"amplifier\", \"analytic\", \"angle\", \"angle\", \"angle\", \"angular_displacement\", \"arcminute\", \"artificial\", \"artificial\", \"atom\", \"atom\", \"attempt\", \"attempt\", \"attempt\", \"attempt\", \"balmer\", \"balmer_serie\", \"bandwidth\", \"bar\", \"beam\", \"beam\", \"beam\", \"beat\", \"beat\", \"beating\", \"beating\", \"behaviour\", \"behaviour\", \"behaviour\", \"black_body\", \"blackbody\", \"blue\", \"blue\", \"blue\", \"calculate\", \"calculate\", \"calculate\", \"calibrate\", \"camera\", \"cavity\", \"cavity\", \"clearly\", \"clearly\", \"clearly\", \"clearly\", \"coat\", \"coherence_length\", \"coherence_length\", \"coherent\", \"coherent\", \"coherent\", \"colimate\", \"collimator\", \"colour\", \"colour\", \"colour\", \"com\", \"com\", \"com\", \"computer\", \"computer\", \"computer\", \"computer\", \"constant\", \"constant\", \"constant\", \"construct\", \"construct\", \"construct\", \"convolution\", \"could\", \"could\", \"could\", \"couple\", \"couple\", \"couple\", \"crosshair\", \"curve\", \"curve\", \"curve\", \"datum\", \"datum\", \"datum\", \"datum\", \"daylight\", \"deal\", \"deal\", \"definitive\", \"definitive\", \"definitive\", \"detector\", \"detector\", \"develop\", \"develop\", \"develop\", \"develop\", \"dichroic\", \"difference\", \"difference\", \"difference\", \"different\", \"different\", \"different\", \"diffract\", \"diffraction\", \"dip\", \"displacement\", \"displacement\", \"displacement\", \"distance\", \"distance\", \"distance\", \"distribution\", \"distribution\", \"eak\", \"earth\", \"efficiency\", \"efficiency\", \"efficiency\", \"emission\", \"emission\", \"emission\", \"emission\", \"energy\", \"energy\", \"energy\", \"energy\", \"envelope\", \"equation\", \"equation\", \"equation\", \"error\", \"error\", \"error\", \"experiment\", \"experiment\", \"experiment\", \"experiment\", \"eyepiece\", \"fig\", \"fig\", \"fig\", \"figure\", \"figure\", \"figure\", \"figure\", \"filament\", \"filament\", \"filament\", \"file\", \"file\", \"film\", \"filter\", \"filter\", \"final\", \"final\", \"final\", \"find\", \"find\", \"find\", \"first\", \"first\", \"first\", \"first\", \"fit\", \"fit\", \"fit\", \"focus\", \"focus\", \"fourier\", \"fourier\", \"fourier_transform\", \"fourier_transform\", \"frequency\", \"frequency\", \"frequency\", \"fringe\", \"fringe\", \"fringe\", \"fwhm\", \"gaussian\", \"gaussian\", \"give\", \"give\", \"give\", \"give\", \"gradient\", \"grate\", \"green\", \"green\", \"green\", \"haidinger\", \"haidinger\", \"halogen\", \"happen\", \"happen\", \"happen\", \"health\", \"hence\", \"hence\", \"hence\", \"hence\", \"holder\", \"however\", \"however\", \"however\", \"however\", \"hydrogen\", \"hypertextbook\", \"idealise\", \"imperfection\", \"imperfection\", \"inspect\", \"inspect\", \"interestingly\", \"interestingly\", \"interestingly\", \"interference\", \"interference\", \"interference\", \"interferogram\", \"interferogram\", \"interferometer\", \"interferometer\", \"interferometly\", \"interferometry\", \"interferometry\", \"ionisation\", \"ionisation\", \"issue\", \"issue\", \"issue\", \"issue\", \"label\", \"laser\", \"laser\", \"laser\", \"lead\", \"lead\", \"lead\", \"length\", \"length\", \"length\", \"less\", \"less\", \"less\", \"less\", \"level\", \"level\", \"level\", \"light\", \"light\", \"light\", \"line\", \"line\", \"line\", \"line\", \"lliltor\", \"mass\", \"maximum\", \"maximum\", \"maximum\", \"mean\", \"mean\", \"mean\", \"measure\", \"measure\", \"measure\", \"measurement\", \"measurement\", \"measurement\", \"measurement\", \"messy\", \"method\", \"method\", \"method\", \"method\", \"micrometer\", \"micrometer\", \"miirnr\", \"mirror\", \"mirror\", \"mirror\", \"motor\", \"motor\", \"motorise\", \"move\", \"move\", \"move\", \"much\", \"much\", \"much\", \"much\", \"narrow\", \"narrow\", \"narrow\", \"newly\", \"ng\", \"noise\", \"noise\", \"null\", \"null\", \"observatory\", \"obtain\", \"obtain\", \"obtain\", \"orbit\", \"orbit\", \"order\", \"order\", \"order\", \"oscillation\", \"oscillation\", \"parallax\", \"path\", \"path\", \"path\", \"pattem\", \"pattern\", \"pattern\", \"pattern\", \"peak\", \"peak\", \"peak\", \"phosphor\", \"point\", \"point\", \"point\", \"proceed\", \"proceed\", \"proceed\", \"profile\", \"profile\", \"propo\", \"propo\", \"purple\", \"qualitative\", \"qualitative\", \"quantum\", \"radiative\", \"radiator\", \"range\", \"range\", \"range\", \"range\", \"read\", \"read\", \"read\", \"recombination\", \"record\", \"record\", \"record\", \"record\", \"red\", \"red\", \"red\", \"response\", \"responsivity\", \"result\", \"result\", \"result\", \"rotatable\", \"rotatable\", \"rotate\", \"rotate\", \"run\", \"run\", \"run\", \"run\", \"rydberg\", \"satisfy\", \"scan\", \"scan\", \"script\", \"script\", \"search\", \"second\", \"second\", \"second\", \"second\", \"see\", \"see\", \"see\", \"see\", \"seem\", \"seem\", \"seem\", \"seem\", \"sensible\", \"sensitivity\", \"sensitivity\", \"setup\", \"setup\", \"setup\", \"shape\", \"shape\", \"shape\", \"show\", \"show\", \"show\", \"simulate\", \"simulate\", \"simulated\", \"simulation\", \"simulation\", \"sin\", \"singlet\", \"sin\\u03b8\", \"skew\", \"skew\", \"skew\", \"slip\", \"slit\", \"slow\", \"slow\", \"smoothness\", \"sodium\", \"source\", \"source\", \"source\", \"spectral\", \"spectral\", \"spectral\", \"spectrogram\", \"spectrogram\", \"spectromet\", \"spectromet\", \"spectrometer\", \"spectrometer\", \"spectrometer\", \"spectrometer\", \"spectrum\", \"spectrum\", \"spectrum\", \"splitter\", \"splitter\", \"spot\", \"spot\", \"stage\", \"stage\", \"stage\", \"stimulate\", \"stimulate\", \"string\", \"string\", \"string\", \"take\", \"take\", \"take\", \"take\", \"telescope\", \"temperature\", \"temperature\", \"temperature\", \"thorlabs\", \"thz\", \"transformation\", \"transformation\", \"transition\", \"transition\", \"translational\", \"translational\", \"tungsten\", \"tungsten\", \"uact\", \"uncertainty\", \"uncertainty\", \"uncertainty\", \"uncertainty\", \"unfiltered\", \"unity\", \"unknown\", \"unknown\", \"unknown\", \"unknown\", \"value\", \"value\", \"value\", \"value\", \"wave\", \"wave\", \"wave\", \"wavelength\", \"wavelength\", \"wavelength\", \"white\", \"white\", \"width\", \"width\", \"width\", \"wind\", \"would\", \"would\", \"would\", \"yellow\", \"yellow\", \"yellow\"]}, \"R\": 30, \"lambda.step\": 0.01, \"plot.opts\": {\"xlab\": \"PC1\", \"ylab\": \"PC2\"}, \"topic.order\": [1, 4, 3, 2]};\n",
       "\n",
       "function LDAvis_load_lib(url, callback){\n",
       "  var s = document.createElement('script');\n",
       "  s.src = url;\n",
       "  s.async = true;\n",
       "  s.onreadystatechange = s.onload = callback;\n",
       "  s.onerror = function(){console.warn(\"failed to load library \" + url);};\n",
       "  document.getElementsByTagName(\"head\")[0].appendChild(s);\n",
       "}\n",
       "\n",
       "if(typeof(LDAvis) !== \"undefined\"){\n",
       "   // already loaded: just create the visualization\n",
       "   !function(LDAvis){\n",
       "       new LDAvis(\"#\" + \"ldavis_el1899222423038122081536959770\", ldavis_el1899222423038122081536959770_data);\n",
       "   }(LDAvis);\n",
       "}else if(typeof define === \"function\" && define.amd){\n",
       "   // require.js is available: use it to load d3/LDAvis\n",
       "   require.config({paths: {d3: \"https://cdnjs.cloudflare.com/ajax/libs/d3/3.5.5/d3.min\"}});\n",
       "   require([\"d3\"], function(d3){\n",
       "      window.d3 = d3;\n",
       "      LDAvis_load_lib(\"https://cdn.rawgit.com/bmabey/pyLDAvis/files/ldavis.v1.0.0.js\", function(){\n",
       "        new LDAvis(\"#\" + \"ldavis_el1899222423038122081536959770\", ldavis_el1899222423038122081536959770_data);\n",
       "      });\n",
       "    });\n",
       "}else{\n",
       "    // require.js not available: dynamically load d3 & LDAvis\n",
       "    LDAvis_load_lib(\"https://cdnjs.cloudflare.com/ajax/libs/d3/3.5.5/d3.min.js\", function(){\n",
       "         LDAvis_load_lib(\"https://cdn.rawgit.com/bmabey/pyLDAvis/files/ldavis.v1.0.0.js\", function(){\n",
       "                 new LDAvis(\"#\" + \"ldavis_el1899222423038122081536959770\", ldavis_el1899222423038122081536959770_data);\n",
       "            })\n",
       "         });\n",
       "}\n",
       "</script>"
      ],
      "text/plain": [
       "<IPython.core.display.HTML object>"
      ]
     },
     "execution_count": 19,
     "metadata": {},
     "output_type": "execute_result"
    }
   ],
   "source": [
    "pyLDAvis.enable_notebook()\n",
    "vis = pyLDAvis.gensim.prepare(lda_model, corpus, id2word, n_jobs=1) \n",
    "pyLDAvis.display(vis)"
   ]
  },
  {
   "cell_type": "markdown",
   "metadata": {},
   "source": [
    "Sometimes it's possible to see a structure in this 2D space, but it's hard to tell if there's anything here. This may be because this is a 2D slice of an inherently higher-dimensional space, and so this slice may not encompass all that much of the variance in that space. However, we can use this to check if there are any outlying topics that seem to be skewing our model—these will show up as major outliers in the plot. No such outliers are visible here, so that's a good sign."
   ]
  },
  {
   "cell_type": "markdown",
   "metadata": {},
   "source": [
    "### B. Explaining the PCA variance of pyLDAvis\n",
    "\n",
    "One interesting question (relevant if we are to take these interpretations seriously) is how much of the variance is encapsulated by the principle component analysis (PCA) used in pyLDAvis. Although there isn't a direct way to make the function output this number, by looking over the [pyLDAvis pcoa documentation](https://pyldavis.readthedocs.io/en/latest/_modules/pyLDAvis/_prepare.html#js_PCoA) and another [script referenced in that documentation](https://github.com/biocore/scikit-bio/blob/0.5.0/skbio/stats/ordination/_principal_coordinate_analysis.py) we've been able to re-create the functions used for the PCA."
   ]
  },
  {
   "cell_type": "code",
   "execution_count": 20,
   "metadata": {},
   "outputs": [],
   "source": [
    "from scipy.stats import entropy\n",
    "from scipy.spatial.distance import pdist, squareform\n",
    "\n",
    "def jensen_shannon(P, Q):\n",
    "    M = 0.5 * (P + Q)\n",
    "    return 0.5 * (entropy(P, M) + entropy(Q, M))\n",
    "\n",
    "def pcoa(pair_dists, n_components=2):\n",
    "    \"\"\"Principal Coordinate Analysis,\n",
    "    aka Classical Multidimensional Scaling\n",
    "    \"\"\"\n",
    "    # code referenced from skbio.stats.ordination.pcoa\n",
    "    # https://github.com/biocore/scikit-bio/blob/0.5.0/skbio/stats/ordination/_principal_coordinate_analysis.py\n",
    "\n",
    "    # pairwise distance matrix is assumed symmetric\n",
    "    pair_dists = np.asarray(pair_dists, np.float64)\n",
    "\n",
    "    # perform SVD on double centred distance matrix\n",
    "    n = pair_dists.shape[0]\n",
    "    H = np.eye(n) - np.ones((n, n)) / n\n",
    "    B = - H.dot(pair_dists ** 2).dot(H) / 2\n",
    "    eigvals, eigvecs = np.linalg.eig(B)\n",
    "\n",
    "    # Take first n_components of eigenvalues and eigenvectors\n",
    "    # sorted in decreasing order\n",
    "    ix = eigvals.argsort()[::-1]\n",
    "    eigvals = eigvals[ix]\n",
    "    eigvecs = eigvecs[:, ix]\n",
    "\n",
    "    # replace any remaining negative eigenvalues and associated eigenvectors with zeroes\n",
    "    # at least 1 eigenvalue must be zero\n",
    "    eigvals[np.isclose(eigvals, 0)] = 0\n",
    "    if np.any(eigvals < 0):\n",
    "        ix_neg = eigvals < 0\n",
    "        eigvals[ix_neg] = np.zeros(eigvals[ix_neg].shape)\n",
    "        eigvecs[:, ix_neg] = np.zeros(eigvecs[:, ix_neg].shape)\n",
    "        \n",
    "    proportion_explained = eigvals / eigvals.sum()\n",
    "\n",
    "    return np.sqrt(eigvals) * eigvecs, proportion_explained\n",
    "\n",
    "def js_PCoA(distributions):\n",
    "    \"\"\"Dimension reduction via Jensen-Shannon Divergence & Principal Coordinate Analysis\n",
    "    (aka Classical Multidimensional Scaling)\n",
    "\n",
    "    Parameters\n",
    "    ----------\n",
    "    distributions : array-like, shape (`n_dists`, `k`)\n",
    "        Matrix of distributions probabilities.\n",
    "\n",
    "    Returns\n",
    "    -------\n",
    "    pcoa : array, shape (`n_dists`, 2)\n",
    "    \"\"\"\n",
    "    dist_matrix = squareform(pdist(distributions, metric=jensen_shannon))\n",
    "    return pcoa(dist_matrix)"
   ]
  },
  {
   "cell_type": "code",
   "execution_count": 22,
   "metadata": {},
   "outputs": [
    {
     "name": "stdout",
     "output_type": "stream",
     "text": [
      "Variance explained by PC1: 72.03 percent\n",
      "Variance explained by PC2: 24.37 percent\n",
      "Total variance explained: 96.40 percent\n"
     ]
    }
   ],
   "source": [
    "jspcoa, explained = js_PCoA(lda_model.get_topics()) #run PCoA on the normalized topic vectors\n",
    "print('Variance explained by PC1: {0:.2f} percent'.format(explained[0]*100))\n",
    "print('Variance explained by PC2: {0:.2f} percent'.format(explained[1]*100))\n",
    "print('Total variance explained: {0:.2f} percent'.format((explained[0]+explained[1])*100))"
   ]
  },
  {
   "cell_type": "markdown",
   "metadata": {},
   "source": [
    "### C. Dominant topic in each document\n",
    "\n",
    "We can also use this model to make an estimation of the document-topic distribution; that is, for a particular document, find out how much the model associates it with each topic."
   ]
  },
  {
   "cell_type": "code",
   "execution_count": 23,
   "metadata": {},
   "outputs": [],
   "source": [
    "def get_weight_in_doc(ldamodel, corpus, doc_num, fill=0):\n",
    "    \"\"\" Get the weigth for each topic in a document\n",
    "    Inputs: ldamodel, corpus, doc_num, fill (value when topic was not found)\n",
    "    Output: list of tuples [(<topic number>, <topic weight>)]\n",
    "    \"\"\"\n",
    "    num_topics = ldamodel.num_topics\n",
    "    weights = [fill] * num_topics\n",
    "    # Get a list of tuples with the detected topics and weights\n",
    "    row = ldamodel[corpus][doc_num]\n",
    "    # Process the output to return a list of weights\n",
    "    tw = list(zip(*row))\n",
    "    for topic in range(num_topics):\n",
    "        if topic in tw[0]:\n",
    "            ind = tw[0].index(topic)\n",
    "            weights[topic] = tw[1][ind]\n",
    "    return weights\n",
    "\n",
    "def get_weight_per_doc(ldamodel, corpus):\n",
    "    \"\"\" Get a document by topic weight Dataframe \n",
    "    Inputs: ldamodel, corpus\n",
    "    \"\"\"\n",
    "    num_topics = ldamodel.num_topics\n",
    "    dataframe = pd.DataFrame(np.zeros((len(corpus),num_topics)), columns=list(range(num_topics)))\n",
    "    dataframe.index.name = 'Topic weights'\n",
    "    for i, row in dataframe.iterrows():\n",
    "        dataframe.iloc[i] = pd.Series(get_weight_in_doc(ldamodel, corpus, i))\n",
    "    return dataframe\n",
    "\n",
    "weights = get_weight_per_doc(lda_model, corpus)"
   ]
  },
  {
   "cell_type": "markdown",
   "metadata": {},
   "source": [
    "Now, we can associate each weight with its respective document, and see how the  model classifies them:"
   ]
  },
  {
   "cell_type": "code",
   "execution_count": 27,
   "metadata": {},
   "outputs": [
    {
     "data": {
      "text/html": [
       "<div>\n",
       "<style scoped>\n",
       "    .dataframe tbody tr th:only-of-type {\n",
       "        vertical-align: middle;\n",
       "    }\n",
       "\n",
       "    .dataframe tbody tr th {\n",
       "        vertical-align: top;\n",
       "    }\n",
       "\n",
       "    .dataframe thead th {\n",
       "        text-align: right;\n",
       "    }\n",
       "</style>\n",
       "<table border=\"1\" class=\"dataframe\">\n",
       "  <thead>\n",
       "    <tr style=\"text-align: right;\">\n",
       "      <th></th>\n",
       "      <th>Content</th>\n",
       "      <th>ReasoningLevel</th>\n",
       "      <th>ArgumentLevel</th>\n",
       "      <th>0</th>\n",
       "      <th>1</th>\n",
       "      <th>2</th>\n",
       "      <th>3</th>\n",
       "    </tr>\n",
       "  </thead>\n",
       "  <tbody>\n",
       "    <tr>\n",
       "      <th>0</th>\n",
       "      <td>a michelson interferometer be built and use to...</td>\n",
       "      <td>the</td>\n",
       "      <td>prediction</td>\n",
       "      <td>0.02</td>\n",
       "      <td>0.0</td>\n",
       "      <td>0.05</td>\n",
       "      <td>0.93</td>\n",
       "    </tr>\n",
       "    <tr>\n",
       "      <th>1</th>\n",
       "      <td>in this experiment a series of light spectl fr...</td>\n",
       "      <td>bal</td>\n",
       "      <td>deep</td>\n",
       "      <td>0.01</td>\n",
       "      <td>0.0</td>\n",
       "      <td>0.02</td>\n",
       "      <td>0.97</td>\n",
       "    </tr>\n",
       "    <tr>\n",
       "      <th>2</th>\n",
       "      <td>in this experiment we explore the spectral com...</td>\n",
       "      <td>bal</td>\n",
       "      <td>superficial</td>\n",
       "      <td>0.00</td>\n",
       "      <td>0.0</td>\n",
       "      <td>0.55</td>\n",
       "      <td>0.44</td>\n",
       "    </tr>\n",
       "    <tr>\n",
       "      <th>3</th>\n",
       "      <td>the purpose of this experiment be to calculate...</td>\n",
       "      <td>bal</td>\n",
       "      <td>expert</td>\n",
       "      <td>0.04</td>\n",
       "      <td>0.0</td>\n",
       "      <td>0.63</td>\n",
       "      <td>0.33</td>\n",
       "    </tr>\n",
       "    <tr>\n",
       "      <th>4</th>\n",
       "      <td>michelson interferometer with a movable mirror...</td>\n",
       "      <td>none</td>\n",
       "      <td>deep</td>\n",
       "      <td>0.00</td>\n",
       "      <td>0.0</td>\n",
       "      <td>0.02</td>\n",
       "      <td>0.98</td>\n",
       "    </tr>\n",
       "    <tr>\n",
       "      <th>...</th>\n",
       "      <td>...</td>\n",
       "      <td>...</td>\n",
       "      <td>...</td>\n",
       "      <td>...</td>\n",
       "      <td>...</td>\n",
       "      <td>...</td>\n",
       "      <td>...</td>\n",
       "    </tr>\n",
       "    <tr>\n",
       "      <th>173</th>\n",
       "      <td>the rydberg constant be calculate by use a gra...</td>\n",
       "      <td>bal</td>\n",
       "      <td>deep</td>\n",
       "      <td>0.95</td>\n",
       "      <td>0.0</td>\n",
       "      <td>0.00</td>\n",
       "      <td>0.05</td>\n",
       "    </tr>\n",
       "    <tr>\n",
       "      <th>174</th>\n",
       "      <td>the same set up be use a that in figure before...</td>\n",
       "      <td>the</td>\n",
       "      <td>superficial</td>\n",
       "      <td>1.00</td>\n",
       "      <td>0.0</td>\n",
       "      <td>0.00</td>\n",
       "      <td>0.00</td>\n",
       "    </tr>\n",
       "    <tr>\n",
       "      <th>175</th>\n",
       "      <td>the purpose of this report be to display the r...</td>\n",
       "      <td>bal</td>\n",
       "      <td>superficial</td>\n",
       "      <td>1.00</td>\n",
       "      <td>0.0</td>\n",
       "      <td>0.00</td>\n",
       "      <td>0.00</td>\n",
       "    </tr>\n",
       "    <tr>\n",
       "      <th>176</th>\n",
       "      <td>spectroscopy be commonly use a a non invasive ...</td>\n",
       "      <td>exp</td>\n",
       "      <td>deep</td>\n",
       "      <td>0.95</td>\n",
       "      <td>0.0</td>\n",
       "      <td>0.03</td>\n",
       "      <td>0.02</td>\n",
       "    </tr>\n",
       "    <tr>\n",
       "      <th>177</th>\n",
       "      <td>the rydberg constant allows one to predict how...</td>\n",
       "      <td>bal</td>\n",
       "      <td>superficial</td>\n",
       "      <td>0.99</td>\n",
       "      <td>0.0</td>\n",
       "      <td>0.00</td>\n",
       "      <td>0.01</td>\n",
       "    </tr>\n",
       "  </tbody>\n",
       "</table>\n",
       "<p>178 rows × 7 columns</p>\n",
       "</div>"
      ],
      "text/plain": [
       "                                               Content ReasoningLevel  \\\n",
       "0    a michelson interferometer be built and use to...            the   \n",
       "1    in this experiment a series of light spectl fr...            bal   \n",
       "2    in this experiment we explore the spectral com...            bal   \n",
       "3    the purpose of this experiment be to calculate...            bal   \n",
       "4    michelson interferometer with a movable mirror...           none   \n",
       "..                                                 ...            ...   \n",
       "173  the rydberg constant be calculate by use a gra...            bal   \n",
       "174  the same set up be use a that in figure before...            the   \n",
       "175  the purpose of this report be to display the r...            bal   \n",
       "176  spectroscopy be commonly use a a non invasive ...            exp   \n",
       "177  the rydberg constant allows one to predict how...            bal   \n",
       "\n",
       "    ArgumentLevel     0    1     2     3  \n",
       "0      prediction  0.02  0.0  0.05  0.93  \n",
       "1            deep  0.01  0.0  0.02  0.97  \n",
       "2     superficial  0.00  0.0  0.55  0.44  \n",
       "3          expert  0.04  0.0  0.63  0.33  \n",
       "4            deep  0.00  0.0  0.02  0.98  \n",
       "..            ...   ...  ...   ...   ...  \n",
       "173          deep  0.95  0.0  0.00  0.05  \n",
       "174   superficial  1.00  0.0  0.00  0.00  \n",
       "175   superficial  1.00  0.0  0.00  0.00  \n",
       "176          deep  0.95  0.0  0.03  0.02  \n",
       "177   superficial  0.99  0.0  0.00  0.01  \n",
       "\n",
       "[178 rows x 7 columns]"
      ]
     },
     "execution_count": 27,
     "metadata": {},
     "output_type": "execute_result"
    }
   ],
   "source": [
    "# Load the DataFrame with processed text\n",
    "df = pd.read_pickle(dir_name_e+'texts_norefs_clean.pkl')\n",
    "\n",
    "# Concatenate the topic weights\n",
    "df = df.loc[:, ['Content','ReasoningLevel','ArgumentLevel']] #drop all columns except the date\n",
    "df = pd.concat([df, weights], axis = 1) #append the weights\n",
    "\n",
    "#Display examples\n",
    "pd.set_option('display.max_columns', None)\n",
    "df.round(decimals=2)\n",
    "LDA_results_df = utils.save_as_pickle_file(df,'LDA_results_each_document_topic_weighting',dir_name_e)"
   ]
  },
  {
   "cell_type": "code",
   "execution_count": 28,
   "metadata": {},
   "outputs": [
    {
     "name": "stdout",
     "output_type": "stream",
     "text": [
      "                                               Content ReasoningLevel  \\\n",
      "0    a michelson interferometer be built and use to...            the   \n",
      "1    in this experiment a series of light spectl fr...            bal   \n",
      "2    in this experiment we explore the spectral com...            bal   \n",
      "3    the purpose of this experiment be to calculate...            bal   \n",
      "4    michelson interferometer with a movable mirror...           none   \n",
      "..                                                 ...            ...   \n",
      "173  the rydberg constant be calculate by use a gra...            bal   \n",
      "174  the same set up be use a that in figure before...            the   \n",
      "175  the purpose of this report be to display the r...            bal   \n",
      "176  spectroscopy be commonly use a a non invasive ...            exp   \n",
      "177  the rydberg constant allows one to predict how...            bal   \n",
      "\n",
      "    ArgumentLevel         0    1         2         3  \n",
      "0      prediction  0.023274  0.0  0.051345  0.925362  \n",
      "1            deep  0.013712  0.0  0.015716  0.970557  \n",
      "2     superficial  0.000000  0.0  0.553990  0.438696  \n",
      "3          expert  0.044548  0.0  0.625818  0.329611  \n",
      "4            deep  0.000000  0.0  0.018556  0.977634  \n",
      "..            ...       ...  ...       ...       ...  \n",
      "173          deep  0.948290  0.0  0.000000  0.050678  \n",
      "174   superficial  0.998437  0.0  0.000000  0.000000  \n",
      "175   superficial  0.995094  0.0  0.000000  0.000000  \n",
      "176          deep  0.949794  0.0  0.028753  0.021431  \n",
      "177   superficial  0.987398  0.0  0.000000  0.011282  \n",
      "\n",
      "[178 rows x 7 columns]\n"
     ]
    }
   ],
   "source": [
    "load_LDA_results_df = utils.load_pickle_file_to_df('LDA_results_each_document_topic_weighting', dir_name_e)\n",
    "print(load_LDA_results_df)"
   ]
  },
  {
   "cell_type": "markdown",
   "metadata": {},
   "source": [
    "This analysis, for example, associates the 2020 paper \"The effect of first high school science teacher's gender and gender matching on students' science identity in college\" primarily with Topic 0, (words: achievement, stem, variable, girl, model, mathematics, gender, female, grade, woman, career). This makes sense, since topic 0 seems to be about gender and the STEM pipeline, and this paper fits well with that topic.\n",
    "\n",
    "We can also search for individual authors. For example, here's the classification for all papers authored by Rudolph, JL since 1995:"
   ]
  },
  {
   "cell_type": "code",
   "execution_count": 32,
   "metadata": {
    "scrolled": true
   },
   "outputs": [
    {
     "ename": "KeyError",
     "evalue": "'authors'",
     "output_type": "error",
     "traceback": [
      "\u001b[1;31m---------------------------------------------------------------------------\u001b[0m",
      "\u001b[1;31mKeyError\u001b[0m                                  Traceback (most recent call last)",
      "File \u001b[1;32mc:\\Users\\EfiaA\\Anaconda3\\lib\\site-packages\\pandas\\core\\indexes\\base.py:3080\u001b[0m, in \u001b[0;36mIndex.get_loc\u001b[1;34m(self, key, method, tolerance)\u001b[0m\n\u001b[0;32m   3079\u001b[0m \u001b[39mtry\u001b[39;00m:\n\u001b[1;32m-> 3080\u001b[0m     \u001b[39mreturn\u001b[39;00m \u001b[39mself\u001b[39;49m\u001b[39m.\u001b[39;49m_engine\u001b[39m.\u001b[39;49mget_loc(casted_key)\n\u001b[0;32m   3081\u001b[0m \u001b[39mexcept\u001b[39;00m \u001b[39mKeyError\u001b[39;00m \u001b[39mas\u001b[39;00m err:\n",
      "File \u001b[1;32mpandas\\_libs\\index.pyx:70\u001b[0m, in \u001b[0;36mpandas._libs.index.IndexEngine.get_loc\u001b[1;34m()\u001b[0m\n",
      "File \u001b[1;32mpandas\\_libs\\index.pyx:101\u001b[0m, in \u001b[0;36mpandas._libs.index.IndexEngine.get_loc\u001b[1;34m()\u001b[0m\n",
      "File \u001b[1;32mpandas\\_libs\\hashtable_class_helper.pxi:4554\u001b[0m, in \u001b[0;36mpandas._libs.hashtable.PyObjectHashTable.get_item\u001b[1;34m()\u001b[0m\n",
      "File \u001b[1;32mpandas\\_libs\\hashtable_class_helper.pxi:4562\u001b[0m, in \u001b[0;36mpandas._libs.hashtable.PyObjectHashTable.get_item\u001b[1;34m()\u001b[0m\n",
      "\u001b[1;31mKeyError\u001b[0m: 'authors'",
      "\nThe above exception was the direct cause of the following exception:\n",
      "\u001b[1;31mKeyError\u001b[0m                                  Traceback (most recent call last)",
      "Cell \u001b[1;32mIn[32], line 4\u001b[0m\n\u001b[0;32m      1\u001b[0m name \u001b[39m=\u001b[39m \u001b[39m'\u001b[39m\u001b[39mRudolph\u001b[39m\u001b[39m'\u001b[39m\n\u001b[0;32m      2\u001b[0m date \u001b[39m=\u001b[39m \u001b[39m1995\u001b[39m\n\u001b[1;32m----> 4\u001b[0m df[df[\u001b[39m'\u001b[39;49m\u001b[39mauthors\u001b[39;49m\u001b[39m'\u001b[39;49m]\u001b[39m.\u001b[39mstr\u001b[39m.\u001b[39mcontains(name) \u001b[39m&\u001b[39m (df[\u001b[39m'\u001b[39m\u001b[39myear\u001b[39m\u001b[39m'\u001b[39m] \u001b[39m>\u001b[39m date)]\u001b[39m.\u001b[39mround(decimals\u001b[39m=\u001b[39m\u001b[39m2\u001b[39m)\n",
      "File \u001b[1;32mc:\\Users\\EfiaA\\Anaconda3\\lib\\site-packages\\pandas\\core\\frame.py:3024\u001b[0m, in \u001b[0;36mDataFrame.__getitem__\u001b[1;34m(self, key)\u001b[0m\n\u001b[0;32m   3022\u001b[0m \u001b[39mif\u001b[39;00m \u001b[39mself\u001b[39m\u001b[39m.\u001b[39mcolumns\u001b[39m.\u001b[39mnlevels \u001b[39m>\u001b[39m \u001b[39m1\u001b[39m:\n\u001b[0;32m   3023\u001b[0m     \u001b[39mreturn\u001b[39;00m \u001b[39mself\u001b[39m\u001b[39m.\u001b[39m_getitem_multilevel(key)\n\u001b[1;32m-> 3024\u001b[0m indexer \u001b[39m=\u001b[39m \u001b[39mself\u001b[39;49m\u001b[39m.\u001b[39;49mcolumns\u001b[39m.\u001b[39;49mget_loc(key)\n\u001b[0;32m   3025\u001b[0m \u001b[39mif\u001b[39;00m is_integer(indexer):\n\u001b[0;32m   3026\u001b[0m     indexer \u001b[39m=\u001b[39m [indexer]\n",
      "File \u001b[1;32mc:\\Users\\EfiaA\\Anaconda3\\lib\\site-packages\\pandas\\core\\indexes\\base.py:3082\u001b[0m, in \u001b[0;36mIndex.get_loc\u001b[1;34m(self, key, method, tolerance)\u001b[0m\n\u001b[0;32m   3080\u001b[0m         \u001b[39mreturn\u001b[39;00m \u001b[39mself\u001b[39m\u001b[39m.\u001b[39m_engine\u001b[39m.\u001b[39mget_loc(casted_key)\n\u001b[0;32m   3081\u001b[0m     \u001b[39mexcept\u001b[39;00m \u001b[39mKeyError\u001b[39;00m \u001b[39mas\u001b[39;00m err:\n\u001b[1;32m-> 3082\u001b[0m         \u001b[39mraise\u001b[39;00m \u001b[39mKeyError\u001b[39;00m(key) \u001b[39mfrom\u001b[39;00m \u001b[39merr\u001b[39;00m\n\u001b[0;32m   3084\u001b[0m \u001b[39mif\u001b[39;00m tolerance \u001b[39mis\u001b[39;00m \u001b[39mnot\u001b[39;00m \u001b[39mNone\u001b[39;00m:\n\u001b[0;32m   3085\u001b[0m     tolerance \u001b[39m=\u001b[39m \u001b[39mself\u001b[39m\u001b[39m.\u001b[39m_convert_tolerance(tolerance, np\u001b[39m.\u001b[39masarray(key))\n",
      "\u001b[1;31mKeyError\u001b[0m: 'authors'"
     ]
    }
   ],
   "source": [
    "name = 'Rudolph'\n",
    "date = 1995\n",
    "\n",
    "df[df['StudentID'].str.contains(name) & (df['ArgumentLevel'] > date)].round(decimals=2)"
   ]
  },
  {
   "cell_type": "markdown",
   "metadata": {},
   "source": [
    "There's a definite tendency towards topic 8 (which seems to be about STS/science education policy), topic 9 (history and philosophy of science), and a smaller association with topic 22 (argumentation).\n",
    "\n",
    "Using this set of weights, we can make a plot of the topic weight (in a percent) by document number. Although this plot is quite messy, the dots above 0.5 on the y-axis show that there are lots of documents that fall more than 50% into a particular topic, and the color shifts show definite rise and fall of different topics over time."
   ]
  },
  {
   "cell_type": "code",
   "execution_count": 29,
   "metadata": {},
   "outputs": [
    {
     "data": {
      "image/png": "[encoded data removed]",
      "text/plain": [
       "<Figure size 1800x800 with 1 Axes>"
      ]
     },
     "metadata": {},
     "output_type": "display_data"
    }
   ],
   "source": [
    "plt.figure(figsize=(18, 8))\n",
    "for t in range(num_topics):\n",
    "    plt.scatter(weights.index, weights.iloc[:,t], label='Topic '+str(t))\n",
    "plt.xlabel(\"Document number\")\n",
    "plt.ylabel(\"Topic weight\")\n",
    "plt.legend(loc='upper left')\n",
    "plt.title('Weights of %d in all documents' % num_topics)\n",
    "plt.show();"
   ]
  },
  {
   "cell_type": "markdown",
   "metadata": {},
   "source": [
    "### D. Most representative documents for each topic\n",
    "\n",
    "We can also go through, topic-by-topic, and find the most representative documents for each topic, which can be useful both for verifying that these topic groupings make sense and to characterize each topic:"
   ]
  },
  {
   "cell_type": "code",
   "execution_count": 30,
   "metadata": {
    "scrolled": true
   },
   "outputs": [
    {
     "data": {
      "application/vnd.plotly.v1+json": {
       "config": {
        "plotlyServerURL": "https://plot.ly"
       },
       "data": [
        {
         "cells": {
          "align": [
           "center",
           "center",
           "center",
           "left",
           "left"
          ],
          "fill": {
           "color": "white"
          },
          "font": {
           "size": 12
          },
          "height": 48,
          "line": {
           "color": "black"
          },
          "values": [
           [
            "the rydberg constant have connection with many fundamental constant like planck s constant make it one of the most fundamental constant in atomic physic it first appear in a an empirical number when johannes rydberg a swedish physicist publish his result use his model of hydrogen atom niels bohr prove that the rydberg constant be not just a number but a fundamental constant since the rydberg constant can be measure very precisely and accurately it offer invaluable help in determine other basic constant the hydrogen bright red ha line be the first and most important spectral line in balmer series the balmer series be a series of emission spectral line of hydrogen result from electron transition from high energy level down to the energy level with principal quantum number equal to two the ha spectral line enable scientist over century by measure it wavelength to finally determine the rydberg constant the experiment for determine the rydberg constant involves the photoelectric effect described by albert einstein in and bohr s model of the hydrogen atom introduce in bohr state that the electron move around the nucleus of an atom under the influence of the electrostatic force between the electron and the nucleus act a the centripetal force accord to bohr the electron can only move in an allow orbit a oppose to infinity of orbit in classical mechanic with total energy at the nth quantum state equal to the sum of kinetic energy and potential energy the total energy at the nth quantum state be define by where be the electron s mass be the permittivity of free space be the radius at nth orbit be the electron charge and be the electron s velocity the theory of the photoelectric effect state that light consists of small packet of energy call photon and the energy of each photon be proportional to it frequency the photoelectric effect be described by the follow equation the energy of a photon be give by where be the planck s constant be the frequency of the photon c be the speed of light be the wavelength of the photon and and be the energy of the initial and final state of the atom respectively when an atom gain energy the electron move from a low energy level to a high one during excitation this excite state be not stable and the electron drop from a high energy level to a low one result in the emission of a photon whose energy be equal to the energy difference between the final and initial state of the atom therefore the colour of the light emit can be determine by calculate the frequency of the photon emit use formula hence the balmer series in hydrogen can be give by equation with and the idea of bohr s model of the atom be involve when the atom drop from the nth energy level to the second result in photon emission with specific wavelength depend on n use equation the wavelength value can be calculate and through the use of the standard colour spectrum chart the colour of the light emit can be deduce an example of a balmer series transition be show in figure the main aim of the experiment carry out be to measure the hydrogen spectrum and use the data obtain to determine the rydberg constant which represent the wavenumber of the photon with the least energy that cause the ionisation of the hydrogen atom from it ground state the rydberg constant name after johannes rydberg can be express by the follow formula where be the fine structure constant be the planck s constant be the speed of light be the mass of the electron the fine structure constant indicates how strong the electromagnetic interaction between elementary charge particle be and be give by a where be the electron charge be the permittivity of free space be the planck s constant and be the speed of light the transition wavelength in hydrogen be give by determine the rydberg constant use the grate spectrometer where and be the energy level of the initial and final state of the atom respectively and be the rydberg constant the spectrometer can be use to help u determine the transition wavelength use the follow formula know a the grate equation the wavelength be give by where be the path difference between neighbour ray be the average diffraction angle in a certain order number and be the average angle at zeroth order and be the order number during this experiment the diffraction grate of line per mm be use for the diffraction grate space to be determine the follow equation be use where represent the number of line equal to the calculate value of be equal to for our experiment a straight line of best fit graph of against can be drawn use python with gradient equal to therefore can be determine use the gradient and through formula the rydberg constant can be deduce fig h alpha be produce when the electron move from n to n this be the first line of the balmer series and for hydrogen this transition result in the emission of a photon of wavelength nm red source http hyperphysics phy astr gsu edu hbase hyde html another aim of this experiment be to understand how to use the spectrometer a very useful instrument for physicist study star flame plasma and semiconductor the spectrometer be an instrument use so that the spectrum of light can be study it u a lens or mirror to produce a beam of light that be collimate and with a grate or a prism dispersion of the light occurs the eyepiece be use to focus and view the disperse spectrum the grate be a large number of very narrow slit equally space with separation a principal maximum occurs for light of wavelength when the phase difference between neighbour ray be an integer multiple of denote by this idea be outline by the follow equation where be the path difference be the order number and be the wavelength simplify this formula will give equation know a the grate equation the experimental procedure begin by set up the grate spectrometer our primary aim be to take measurement of the diffraction angle at each order number for the red and blue hydrogen spectral line and determine the average diffraction angle for each order number in order to determine the value of wavelength a straight line graph of against have to be drawn whose gradient would be equal to therefore enable u to calculate the value of sin at each diffraction order have to be determine by subtract the average diffraction angle at each specific order by the average angle at zeroth order and then take the sine of the difference between the two angle finally use formula the rydberg constant for each spectral line could be determine the diffraction angle be measure use the vernier scale that read at sixtieth of a degree there be a risk of random error appear when use the vernier scale due to parallax error through the use of the magnify glass the effect of parallax error be minimise the angle at zeroth order be determine for the red and blue spectral line the diffraction angle measurement be repeat three time at each order number and the average be take so that the reliability of our measurement could be enhance and so that random error could be encounter possible source of systematic error be humidity and background light permittivity of free space varies with humidity therefore this affect our value of the rydberg constant because the rydberg constant a show by formula and depends on the value of the permittivity of free space therefore systematic error be introduce in the experiment background light make our eye less sensitive therefore we can not see well hence we could end up miss line for the effect of background light on our measurement to be minimise a black card be take a hole be punch in it and the card be then stuck around the collimator another method we use to minimise the effect of background light be to cover the apparatus with a black cloth because it prevent the external light from go into the collimator and show up on the image after determine the average diffraction angle in each order number the follow formula have to be use to determine the value of sin which be the y coordinates for plot the sin against graph y coordinate where be the average diffraction angle at a specific order number and be the average angle at zeroth order a show by formula use python to carry out our calculation the average diffraction angle determine for each diffraction order be subtract with the average angle measure at zeroth order and then the sine of the difference between the angle be take after determine the value of sin for each order number a straight line graph of against be drawn use python with gradient equal to both the slope of the straight line for the two spectral line together with their associate uncertainty be determine use python thereby enable u to determine the wavelength use formula the rydberg constant for the red and blue spectral line be deduce to calculate the rydberg constant use formula for the two spectral line the balmer series transition be consider therefore use n and p for the calculation of the rydberg constant of the blue spectral line and n p for the rydberg constant determination of the red spectral line a sample calculation for the determination of the wavelength of the red spectral line be show where be the slope of the graph equal to and be the diffraction grate space use formula the calculate value of the rydberg constant for the red spectral line be the same method be use for the blue spectral line the slope of the straight line of best fit for the blue spectral line be where again both the slope together with it associate uncertainty be determine use python therefore for the blue spectral line be found to be and the calculate value of the rydberg constant be deduce a a representation of the data obtain for the blue and red spectral line be show by figure the uncertainty in our value be determine use python to calculate the standard error of the mean for each average value at each order number for each spectral line before calculate the standard error of the mean the standard deviation have to be calculate use the follow equation the sample standard deviation be define by where be the sample size equal to in our experiment since we repeat our diffraction angle measurement time for each order number be the sample mean in our case the average diffraction angle in each order number represent each of the value of the data in our case the diffraction angle in each order number use the standard deviation to estimate the uncertainty of each diffraction angle measure use the vernier scale the standard error of the mean could then be calculate the standard error of the mean be calculate use the follow formula the standard error of the mean be define by where be the standard deviation of the sample calculate use python be the sample size equal to in our case since diffraction angle measurement for each order number be repeat three time when the uncertainty in our average diffraction angle value at each order number for each spectral line be determine the uncertainty in our sin value could be determine by calculate the difference between the maximum and the minimum value of sin and then divide the result by this enable u to plot the vertical error bar represent the uncertainty in sin in python the uncertainty in sin can be calculate use where and be the maximum and minimum average diffraction angle respectively and and be the maximum and minimum average angle at zeroth order for each spectral line the maximum and minimum average diffraction angle at each order number be determine use the standard error of the mean of those angle which be equal to the uncertainty in those angle the calculation be carry out in python use the uncertainty in the value of sin the vertical error bar in the graph of sin against m correspond to those uncertainty be plot in python a show in figure this enable u use python to determine the uncertainty in the slope of each straight line so that it could be use to determine the overall uncertainty of the rydberg constant value of the red and blue spectral line in this experiment the line per mm grate be chosen instead of the and line per mm grate since although the narrower the slit the great the resolution of the line the line become much dimmer a the slit be close therefore to balance out these two consideration the line per mm grate be the most appropriate in this experiment enable u to take more measurement of the diffraction angle hence increase the reliability of our result by encounter random error the number of line per unit length of our slit in the begin be suppose to be line per mm but they be line per mm because it use an old definition of line per inch which be in imperial unit the line per inch approximate to line per mm to calculate the uncertainty in the follow method be use where and be the number of line and line respectively the uncertainty in be found to be m therefore our value of could be state a m m to determine the uncertainty in the be determine by where be the uncertainty in the slit separation value be the slit separation value be the uncertainty in the slope of the straight line of best fit of sin against and be the slope of this straight line it be possible to use quadrature to calculate the uncertainty in when the rydberg constant of the red and blue spectral line together with their correspond uncertainty be determine then the overall rydberg constant value could be calculate together with it uncertainty this can be do by calculate the weight average of the rydberg constant of the two spectral line and then find the uncertainty on the weight average the follow formula be use to calculate the weight average the weight average value of the rydberg constant of the two line be define by where be the rydberg constant of the red spectral line and it associate uncertainty be the rydberg constant of the blue spectral line and be it uncertainty to determine the uncertainty in the overall value of the rydberg constant deduce from the weight average of the rydberg constant of the two spectral line the follow equation be use where be the uncertainty in the rydberg constant of the red spectral line and be the uncertainty in the rydberg constant of the blue spectral line the overall value of the rydberg constant determine in the experiment use formula and formula be by observe the spectral line of hydrogen the value of the rydberg constant we obtain for the blue and red spectral line be and respectively the overall value of the rydberg constant determine from the weight average of the rydberg constant of the two spectral line be it uncertainty brings the measurement into the range cover the true value of rydberg constant of show that our measure value be compatible there could have be improvement on the method carry out to determine the rydberg constant even though we repeat our diffraction angle measurement time for each order number use the vernier scale to take measurement we could have repeat the angle measurement more time to encounter random error and make result more reliable the use of the magnify glass while take the diffraction angle measurement reduce the effect of parallax error therefore make our measurement more accurate during the experiment we try to reduce the effect of background light either by cover the apparatus use a black cloth or punch a hole in the middle of a black card and stick it around the collimator so that external light be prevent from enter the collimator and show up on the image background light could have be a source of systematic error by make our eye less sensitive make u not see properly and we could have widen the slit reduce uncertainty if i repeat the experiment i would take into account humidity and try to determine how much it affect our rydberg constant value because it varies with the value of the permittivity of free space that be include in the rydberg constant equation thereby introduce systematic error by affect the rydberg constant value by use the level i would ensure that the diffraction grate holder be level in all direction i would reduce any misalignment and use a sharper telescope in conclusion our overall value of the rydberg constant be highly precis show that this fundamental constant can be measure at a high precision a the rydberg constant be one of the best determine constant show by the extremely low uncertainty of it true value appendix table the data obtain from the blue hydrogen spectral line be show on the first column the order number be show on the second column the average diffraction angle measurement at each order number can be see the table be produce in microsoft excel table the data obtain from the red hydrogen spectral line be show on the first column the order number be show on the second column the average diffraction angle measurement at each order number can be see the table be construct in microsoft excel",
            "the experiment cover in this report be carry out to calculate the rydberg constant to a high degree of accuracy and precision the method apply involve use a diffraction grate to separate the wavelength of light from a hydrogen discharge tube and then observe the diffraction angle of the different wavelength use a spectrometer the spectral line in the visible light spectrum make up part of the balmer series for which the electron energy level transition be know therefore use the diffraction grate formula and rydberg formula the wavelength of the spectral line can be calculate and the rydberg constant can be determine the value we obtain for the rydberg constant be m give a percentage error of which show the high precision of our value this result be within of the correct value of m which show that it be also very accurate ohann balmer first discover an equation that could accurately predict the position of the visible spectral line for atomic hydrogen in he derive this equation empirically use measurement of hydrogen line in the solar spectrum just five year later johannes rydberg generalize this into a formula that could predict the wavelength of any of the line in the hydrogen emission spectrum and later it be extend for other hydrogen like ion that have a nucleus with one electron the spectral line described by balmer s equation be know a the balmer series five other spectral series for the emission spectrum of atomic hydrogen be later discover name after their correspond discoverer there be more series beyond this but these be unnamed all of these series have similar closely link equation which describe the position of the spectral line a outline by rydberg s general formula for all wavelength in the hydrogen emission spectrum however a theoretical understand of why these formula work do not arrive until niels bohr offer his model of the atom in in this model the electron in the hydrogen atom be say to occupy a discrete quantum energy level brought about by the electrostatic force between the electron and proton these energy state can be visualize a distinct orbit of the electron around the central nucleus the electron be capable of transition through energy state but since the energy of each state be fix only distinct jump correspond to specific energy can be make when hydrogen gas be heat to high temperature the electron will jump up from it original energy level to a high one this leaf the electron in an unstable state so it jump back down to it original position release a photon which have energy equivalent to the difference between the energy of the energy level each transition will always produce a photon of the same energy and wavelength so specific colour in the electromagnetic light spectrum can be observe and these line make up the hydrogen spectral series many model have be propose before this but bohr s model be rapidly accepted because it be the first one to account for the structure of the empirical rydberg formula his theory demonstrate how the rydberg formula reflect the discrete energy state transition of the electron in a hydrogen atom bohr be also able to define a constant within the rydberg formula know a the rydberg constant in term of more fundamental quantity be able to determine the rydberg constant accurately by experimental procedure be significant because hydrogen be the most abundant element in the universe and it spectral emission line from stellar object be observe and analyse frequently in optical astronomy the aim in this investigation be to determine an experimental value for the rydberg constant which be both accurate and precise have a low percentage error the spectrometry apparatus use in this experiment should have a high accuracy which should theoretically allow for the measurement for the value to a few part in a thousand each energy level of the hydrogen atom have a define associate energy for an electron occupy that level these level be represent by integer know a the principal quantum number the far the electron from the nucleus the large the number at it ground state n the electron be at it low possible energy level and be consider stable the electron can be raise to an excite state if energy be supply to it when the electron transition back down to the determine the rydberg constant use grate spectrometry j the intensity of maximum decrease with increase and through preliminary observation it can be quickly determine that the order of maximum can not be detect clearly above m therefore for each wavelength order of maximum will be measure on either side of the central maximum even though the balmer series consists of spectral line in the visible spectrum the shortest wavelength line be difficult to resolve due to background light and so be exclude the reference angle at which the diffraction angle be zero and the purple mixture of all the wavelength could be see be measure to be where represent one arcminute and be equivalent to of a degree the reading for be make when the crosshair be center in the middle of the spectral line each line have a measure thickness of which contributes an error of to another source of uncertainty arose from the difficulty in reading the vernier scale and the error for be approximate from the variation in repeat measurement which turn out to be therefore the standard error in the diffraction angle be estimate to be or and this error be propagate to give a standard error in sin and hence the error in the gradient and wavelength could be determine a potential source of systematic error in this experiment would be due to the refractive index of air since the rydberg formula calculates wavelength for light in a vacuum however since we have no method for measure the temperature or humidity of the laboratory environment it be difficult to estimate the refractive index of the air other factor that give rise to numerous possibility for systematic error include background light slit separation error and defocusing or misalignment of the spectrometer apparatus during experiment however it have be attempt to minimize or eliminate the effect of these factor a much a possible so we can therefore assume that their overall effect be negligible in our analysis the standard error for the rydberg constant for each wavelength be determine a follow the standard error of the mean for the rydberg constant could be found from the standard deviation of the value a rearrangement of show that the gradient of the line in fig can be use to calculate the wavelength of the spectral line a follow the diffraction grate have line per mm so the slit separation d can be calculate to be m table show the gradient of each straight line fit for the three wavelength of spectral line obtain from fig their correspond calculate wavelength and rydberg constant value with all associate error the final value of the rydberg constant be take a the mean average of these three value give r m the purpose of this experiment be to calculate the rydberg constant r to a high degree of accuracy and precision by reduce and eliminate the effect of systematic and random error through the experimental procedure and use of apparatus the value of the rydberg constant obtain have a percentage error of and be within of the correct value of the rydberg constant of m this show that our value be both accurate and precise and therefore our experiment successfully achieves the initial aim set out for the investigation our final outcome be significant because it show empirically that the experiment do match and reflect the underlie theory propose by bohr in his model for the atom it have also show that the experimental method we use be reliable and reproducible and that we be able to carry out the experiment to a high caliber with more time and resource available the experiment could have be improve far by make more measurement to reduce statistical uncertainty and more careful control or consideration of variable that could have add systematic error to our result",
            "the rydberg constant symbol r be measure use a grate spectrometer with a hydrogen lamp use a a source the wavelength of visible light emit by the hydrogen lamp be determine use simple diffraction grate theory which allow the value for r to be determine use the rydberg formula for hydrogen specifically the formula pertain to the balmer series in hydrogen this result in a value of m which corresponds to a fractional uncertainty of about part per thousand i n this experiment a grate spectrometer and a hydrogen lamp be use to study the emission spectrum of hydrogen the emission spectrum of hydrogen be due to atom transition between atomic energy level and can be broken down into distinct spectral series one of which be the balmer series the balmer series pertains to transition to the nd energy level from high energy level and be of interest since it also involves emission of wavelength within the visible spectrum the wavelength in the balmer series be determine by examine the diffraction of the wavelength due to the grate then by use the rydberg formula which relates the wavelength of photon emit and the energy level involve in the transition a value for the rydberg constant can therefore be obtain for a diffraction grate where m be an integer call the order number be the wavelength of the light passing through the grate d be the slit separation and be the angle between the diffract ray and the grate s normal vector in the bohr model of the atom electron orbit a positively charge nucleus where the electron can transition between stable circular orbit of different energy call energy level an atom can radiate energy in the form of a photon by an electron transition down from one energy level with energy to another with a low energy p for hydrogen like atom which only have one electron the transition wavelength of the photon emit be give by the rydberg formula in the case of hydrogen and the balmer series z and n so equation becomes the balmer formula where n have be replace with n the rydberg constant can be express a where be the fine structure constant m e be the mass of an electron c be the speed of light and h be planck s constant use this result in a predict value for r of about m this value can be insert into equation along with select value of n where n and be an integer to predict what wavelength be emit in the balmer series and their colour table above show these iii experimental method the grate spectrometer be set up a show in fig and calibrate with a sodium lamp a the light source and a grate with a space of line per inch a sodium lamp be use for calibration instead of a hydrogen lamp since the calibration require that the light source be switch on continuously for a period of time which would cause the hydrogen lamp to overheat have it be use after calibration the sodium lamp be switch with a hydrogen lamp when first view the emission spectrum it be observe that the visible spectral line be red aqua and blue correspond to n and respectively in the balmer series violet line correspond to n be visible but extremely faint therefore it be decide to collect data on only red aqua and blue line since it be thought that attempt to collect data on the violet line would be too time consume angle measurement be take one colour at a time begin with red then aqua and lastly blue since keep the hydrogen lamp for too long would cause it to overheat we take reading in time period minute long and allow it to cool for minute before take more reading the grate spectrometer be mount on a vernier scale which measure angle to the near arcminute or one sixtieth of a degree the scale be very difficult to read so a magnify glass be use to assist in this the angle at the zeroth order central maximum be measure for red line after which the telescope the camera and eyepiece would be turn until the next red line be encounter which then would be the angle at the first order maximum this would continue until no more red line would be visible at which point the telescope would be move back to the central maximum and the same process would be carry out in the other direction this time with the angle correspond a negative order this process would also be carry out for the aqua and blue line base on equation it can be see that by plot sin against m for line of a certain colour where would be the difference between the angle at central maximum and the angle at a certain order m a linear graph would be obtain where it gradient would be equal to d this mean that the wavelength of the light can be determine by multiply the gradient by the slit separation d figure be a plot of sin against order m for red aqua and blue line the gradient with their associate error of these line be and respectively multiply by slit separation d of about m we obtain the wavelength red nm aqua nm blue nm compare these wavelength to the predict value in table indicate that the red line in the balmer series very likely represent the transition of an electron from n the aqua line from n and the violet line from n would result in a linear graph with a gradient of r the rydberg constant fig and it gradient be equal to m therefore we have obtain the final value with uncertainty for the rydberg constant this represent a fractional uncertainty of part per thousand in comparison with the codata recommend value of m our obtain value be within percent but the recommend value do not fall within the experimental error bound this likely indicates that some source of error have not be take into account it take a long time for the grate spectrometer to be calibrate which be hamper by the spectral line gradually move below or above the line of sight of the telescope a increase this implies that there be a slant in some part of the grate spectrometer a a result only six reading be able to be take for each colour if more reading be take the error obtain could have be less moreover some systematic error be likely to have be introduce a a result of this misalignment another potential source for error from within the apparatus be if the grate and collimator or the camera and eyepiece be not perfectly parallel to the other this would result in deviation of the angle measure thereby contribute to the error the absolute error use for in the error analysis be arcminute since the vernier scale have an absolute error of arcminute and represent the difference between two reading despite this when take a reading from the vernier scale it be often difficult to decide which point on the vernier scale aligns with the main scale so the absolute error be probably underestimated the air density may be important since air can cause light to refract although over a short distance a in the spectrometer any error it contributes should be negligible in this report we examine the balmer series for hydrogen and present an experimentally obtain value for the rydberg constant which be reasonably close to the accepted value despited that the fractional uncertainty of three part per thousand be ten time the theoretical precision of three part per ten thousand for a grate spectrometer which be partly due to misalignment of the spectrometer moreover the accepted value be n t within the error bound obtain far indication that there be source of error not take into account or otherwise underestimated this experiment could be improve if the alignment of the spectrometer be improve a well a by take more reading",
            "a grate spectrometer be use to measure the wavelength of the most prominent spectral line produce by a hydrogen lamp the value obtain for the wavelength of h h and h be then use to calculate a value for the rydberg constant r this experiment result in a value for the rydberg constant a m a oppose to the literature value of m because it be expressible a a product of many of the fundamental constant of physic a a result many experiment have be devise and carry out to make it one of the most precisely know physical constant a this place constraint on the ratio of the quantity that define it in this experiment light emit by a hydrogen lamp be pas through a slit and then collimate before be diffract the angle through which each wavelength of light get diffract be measure for a many order a they remain visible fro m this data the wavelength of the light present in the spectrum can be calculate which in turn can be use to obtain a value for the rydberg constant r if a gas be electrically excite it emits radiation at a few specific well defined wavelength the wavelength that be present depend on the energy level within the atom of the substance produce the spectrum this be because a an electron transition from a high energy level to a low one it loses energy by emit a photon the energy of the photon be equal to the difference in energy between the two level if only one atom be present then only one emission lin e would be visible at any one time however a there be a copious amount of hydrogen all the emission line be present with differ intensity dictate by the relative abundance of atom in each initial state this ratio of the spectral line intensity be mostly dependent on the temperature of the gas emit the light for hydrogen the wavelength that comprise it emission spectrum be give by the remarkably simple rydberg formula be the wavelength of the emit light in m r be the rydberg constant in m n be the initial state of the hydrogen atom and p be the final state of the hydrogen atom both n and p be unitless integer a previously mention the rydberg constant can be express in term of many physical constant where be the fine structure constant which be unitless me be the mass of the electron in kg and h be planck s constant in j be also expressible a a product of several physical constant where e be the magnitude of the charge on an electron measure in c be the permittivity of free space in be the reduce planck s constant in j and c be the speed of light in free space in the balmer series be the spectral line in hydrogen emission spectrum that correspond to an electron transition from a high energy level n down to p the balmer series be use for this experiment because the wavelength of the first six spectral line be visible to the naked eyehowever h and h be consider ultraviolet a their wavelength be less than nm b spectrometer theory fu order for constmctive inte ference to occur v iith light p assing through adjacent slit the phase difference mst be an integer llllltiple n of n nn phase di f f erence path difference x equate nn to the path difference x v iith the path difference be give by d sin lead to where d be the slit separation of the diffraction grate in m be the angle at which the rmxiimm occurs and n be the order of the imxiimm ill method fu order to take reliable data v iith a grate spectrorreter all of the optic have to be align this involves focussng the telescope thecorrbination of the carrera and eyepiece a show in fig adjust the colli i mtor and ensure that the light be at nonml incidence to the diffraction grate firstly the eyepiece be focus on the cross hair so that the iimge be at a distance that didn t strain our eye when look through the telescope for long period of tiire tue carrera lens of the telescope then have to be focus so that there be no parallax between a distant iimge and the cross hair tue hydrogen ian be position close to the slit and the focus of the colli i mtor be then change to fonn a shaip iimge of the slit which be then align v iith the cross hair tue size of the slit be also adjust so that it be a thin a possible whilst still allow u see when the cross hair be align v iith it use the scale on the turntable the telescope be then rotate through so that it be then point pe pendicular to the colli i mtor a min or be then place on the diffraction grate m mnt and rotate until the iimge of the slit be centre on the cross hair tue diffraction grate m mnt be then rotate through so that the light from the colfumtor be now at nonml incidence to it tue miiror be replace on the stand by a diffraction grate the orientation of the diffraction grate then have to be adjust so that the iimge of the slit be ve t ical when view through the telescope tue telescope be then position so that the central rmxiimm be align v iith the cross hair and the reading on the vernier scale p be record tue grate spectrorreter be then use to reasure the angle at which each order appear for each wavelength until the spectral line be no longer visible tue angle p be then subtract from these value to obtain the angle through which each order have be diffract by the grate during the ei periirent three dis tinct colour of light be visib le red aqua and blue these equate to the first three hydrogen balrrer line ha and hy for the red and aqua light reading of the angle be take for the first order either side of the central rmximu m however v iith the blue light the thii d order be miss upon the analysis it becarre clear that this be because the angle that it should have be diffract by be ve y close to the angle obtain for the second order of the red lightv iithin approxirmtely therefore we could deduce that it have be drowned out by the red a the red light be by far the brighter of the two from eq it becorres apparent that there be a linear relationship between the order and the sine of the diffraction angle llllhiplied by the slit separation of the diffraction grate therefore plot a graph of d sin against order should give a straight line through the origin v iith the gradient be equal to the wavelength of the light use this method with our data result in value of h h and h a nm nm and nm respectively these value be all great than their literature value by a similar amount nm nm and nm this show that there be an error of a systematic nature that be affect our result there be many possible source of error in this experiment with two of the most influential be a misalignment of the spectrometer and the human error involve in reading the vernier scale other small source of error include the grate period and the fact that the refractive index of air be n t calculate a value for the rydberg constant with the value of each wavelength in turn result in r m r m and r m to obtain a final value for the rydberg constant the mean of the value obtain be take to find the uncertainty in this value the follow formula be use where m be the best estimate of the random error on the mean s be the sample standard deviation and n be the number of measurement this result in a value of the rydberg constant of m a percentage uncertainty of the accepted value of the rydberg constant be m with a relative standard uncertainty of the aim of the experiment be to obtain a value for the rydberg constant by measure the wavelength of the hydrogen balmer line use a grate spectrometer this result in a value for r of m a oppose to the literature value of m with a relative standard uncertainty of our value disagrees with the accepted value by which be outside our experimental uncertainty in a future similar experiment more preliminary data should be take and analyse a this would allow for systematic error to be low a the equipment could be reset if they be notice also more wavelength of light should be include a this will reduce the uncertainty in the final result",
            "through the use of a grate spectrometer with a grate of line per mm the diffraction angle of emission line from hydrogen lamp light where measure which allow the calculation of the rydberg constant the experimental value of be found to be m which have a difference from the accepted value the accepted value be not within the calculate error range for the experiment which be believe to be due to other source of error not account for the rydberg constant be a fundamental constant of physic and be formulate by physicist johannes rydberg in a part of the rydberg formula the rydberg formula be use to find the wavelength of a photon travel between energy level in an atom this be very significant a it allows for the calculation of the wavelength of an emit photon without know the value for the energy difference between these energy level in the atom in this experiment a grate spectrometer and a hydrogen lamp be use in order to measure the diffraction angle of emission line which be in turn use to find the wavelength of emit photon which could be use with the rydberg formula to calculate a value of the rydberg constant photon will be emit from a gas when it be hot a electron that have become excite to high energy level be prone to spontaneous emission in which the electron fall from a high energy level to a low energy level and emits a photon with energy equal to the difference in energy level when the difference in energy level be not know the rydberg formula can be employ to find the wavelength and in turn energy of the photon for a hydrogen atom this formula be where be the wavelength be the rydberg constant and n and p be initial and final state respectively of the electron this mean that be the final and initial state of the electron be know a value for the wavelength of an emit photon can be found each value of p have it own emission series and in this experiment a value of p be use a it be the balmer series in hydrogen in which the transition wavelength be in the visible part of the spectrum and so can be observe by eye a diffraction grate consist of n equally space slit be use to separate different wavelength of light and repeat principle maximum be produce due to constructive interference of the diffract light the follow equation hold for principal maximum of light through a diffraction grate where n be an integer now use we obtain measurement of the rydberg constant use the grate spectrometer where d be the slit separation which can be use to calculate the wavelength of the emit photon if the wavelength initial and final state be know then equation can be use to calculate the rydberg constant the grate spectrometer that be use for the data collection first require to be calibrate precisely this be do by first focus the eyepiece on the crosshair and then to focus the camera lens on an object approximately metre away next the crosshair be to be align with the image of the slit and the focus of the collimator adjust until a sharp image of the slit be focus at the crosshair the angle which the telescope be currently at be the initial angle and all record will be from this the telescope be then rotate degree clamped into position and a grate be put in the holder next the grate table be move until a reflect image of the entrance slit could be slit which meant that the grate surface be at a degree angle to the light from the collimator and the grate drive be use to adjust the slit image until it be at the crosshair the grate table and telescope be then move back and degree respectively to their original position so that the grate be now perpendicular to the light and the telescope be parallel to the collimator axis data be collect for different wavelength correspond to the colour red blue and violet with initial state n respectively the angle of each successive maximum on either side of the central maximum be measure use the vernier scale in the grate spectrometer for m for red emission line and m for violet and blue a the rd order be too faint to be accurately record repeat record be conduct with a different person to minimise systematic error the repeat record be use to calculate a mean diffract angle at each order of n from equation it be suggest that a graph of sin against n for each colour would yield straight line with gradient equal to where be the mean diffract angle with these value of an experimental value for the rydberg constant can be calculate use equation the grate use have line per mm which mean that the slit separation d m sin be plot a a function of n for all three colour use the data collect and a expect there be a linear correlation between the two variable and line of best fit be plot which be able to incorporate the majority of data point within their respective uncertainty for the red light the gradient of the line be calculate to be and the covariance matrix in be obtain begin to overheat also result in dimmer line and high error the aim of this experiment be to use the grate spectrometer to find value of the wavelength of blue red and violet light which in turn could be use in the rydberg formula to determine an experimental value for the rydberg constant the accepted value of the rydberg constant be and the final experimental value for the constant be avg m which be slightly low than the true value and there be a difference between avg and the accepted value it be likely that the reason for this be due to unaccounted error such a one described above and also the failure to set up the grate spectrometer adequately which would have lead to a systematic error in the record in addition to this despite the vernier scale be very precise it be often the case that there be a disagreement a to what value the vernier scale be display this be due to it be slightly ambiguous to know which mark be most line up between the vernier scale and the main scale and so incorporate this reading error would improve the credibility of the experimental result",
            "a hydrogen lamp be use to determine the rydberg constant which be have a commonly accepted value of x m this be do use a grate spectrometer where the diffraction grate which be use have line per millimetre the calibration of the spectrometer be do use a sodium lamp but a hydrogen lamp be use when collect data i calculate the rydberg constant to be x x m when an excite electron in an atom transition from a high energy level to a low energy level the change in energy be emit a a photon of specific wavelength which be give by e hf where h be planck s constant f be the frequency of the photon and e be the energy of the photon a diffraction grate diffracts light when it pas through and the relationship between the wavelength distance between the slit d and the angle of diffraction be give by dsin n when electron in hydrogen transition they wavelength be give by where r be the rydberg constant and n and p be the initial and final energy level respectively when a hydrogen lamp be use three colour be visible red purple and blue and these represent transition from n to p measurement of multiple order be take on both side of the zero order and this be use to find a wavelength for each colour use equation before take any measurement use the grate spectrometer it first have to be align and focus this be do use a sodium lamp when a lamp be require we first ensure that there be no parallax between the image and cross hair by focus the eyepiece and camera lens then the telescope be align to the normal by first find the reflect image of the entrance slit after place the diffraction in the holder then the telescope be move by degree and the angle be note a this be normal incidence and where the zero order should be finally the height of the image be adjust use the grate screw to ensure the image be at the right height for measurement and be not tilt which would affect the reading the setup can be see in figure below figure the figure above show the basic setup of the grate spectrometer where light come in from the source to the left the hydrogen lamp in this experiment the light pas through the collimator and then through the diffraction grate where it diffracts and the spectral line can be see through the telescope rotate the telescope clockwise show the negative order spectral line and the positive order line can be see by rotate the telescope anti clockwise collimator telescope positive order after note down the zero order angle the hydrogen lamp be use to obtain the first set of reading we decide that reading on both side of the zero order would be take to reduce the uncertainty in the experiment one set of positive and negative order measurement for one colour would be take by me and then the lamp would be allow to cool the second set of reading for the same colour would be take by my partner after the lamp be consider cool enough for use this process be use to obtain measurement for all three colour this ensure that any systematic error or bias when reading the scale due to a single person reading the scale would not carry over in the analysis of the result and into the final conclusion if the hydrogen lamp be switch on for long period of time it produce very blurry line to prevent this from affect measurement the lamp be switch off periodically and allow to cool when take measurement of the different colour and their respective order the centre of these band be difficult to determine and can easily produce large uncertainty this meant that our method of determine the angle have to be change and so we chose to select the edge of the band closest to zero order and use this a our reference point for each colour and order the angle that be collect in the measurement for each order and colour be then subtract from the zero order angle for each respective measurement and this angle be for each different order which be then substitute into equation where d be the diffraction grate have line per mm so d be lines per m this result in multiple wavelength for each colour red purple and blue so the average be take for each colour and this be the wavelength use to produce the final graph use equation a graph of wavelength be plot against n p and this be show in figure the graph have a gradient of x x and the intercept be x x from this we can deduce the rydberg constant r to be x m this be different from the commonly accepted value of x m and it could be due to multiple reason one reason could be that the measurement of the angle be not perfect and that there be inaccurate reading due to human error another possible cause could be the wrong alignment and focus of the grate spectrometer which could result in reading that be far from accurate a final cause for the discrepancy could be that due to the slightly blur line in the purple spectral line the edge be not a definitive a it be for the other colour and this could likely affect our reading and the error could propagate when calculate the line of best fit the aim of this experiment be to find the rydberg constant use a hydrogen lamp this be do by allow the light from the hydrogen lamp to pa through a grate spectrometer and the spectral line be observe and the figure the above graph show the correlation between wavelength and energy level transition the gradient of this graph represent the rydberg constant which be found to be x x and the intercept be x x angle measure so that a graph can be drawn and this can enable u to calculate the rydberg constant this experiment have many error which be not account for or prevent which produce some rather inaccurate result however our result calculate the rydberg constant to be x m ",
            "he rydberg constant be deduce by the relationship between the transition wavelength and the energy level of the initial and final state of atom when there be an atom drop down from an energy level to another a photon with a specific wavelength will be give off the wavelength be observable hence they be in the visible spectrum to determine the wavelength a diffraction grate can be use the relationship between path difference order number and diffraction angle then can be use to deduce the wavelength with the use of a standard color spectrum chart the rydberg constant can then be calculate the diffraction grate can be consider a a large number n of narrow slit with width d equally space from fig it can be show that the path difference be dsin where be the angle of diffraction combine this with fig it be show that the principal maximum only occurs when the phase difference between neighbour ray of light be a whole number multiple m of determine the rydberg constant with the grate spectrometer t for hydrogen the relationship between the transition wavelength and energy level of the initial and final state n and p of the atom be give by where be the rydberg constant express the rydberg constant with more fundamental constant where be the fine structure constant the mass of the electron c the speed of light and h plank s constant note that be give by where be the of vacuum to measure the transition wavelength of hydrogen consider only the balmer series which be in the visible spectrum with p a show on fig a the final state be always on the second energy level and n a the initial state can be either of those energy level electron drop between energy level will give off a photon with exact wavelength correspond to the n and p value suppose an electron drop from n to p it can be say that the electron will give off a photon with specific wavelength of nm fig a representation of the energy level of electron in hydrogen with only the balmer series lay in the range of the visible spectrum and hence observable to human eye note that the balmer series be give by p and n this be say that electron drop from nth energy to the second p energy level be give off a photon with the wavelength correspond to the n value iii method first be to set up the grate spectrometer simply focus the telescope to a distance object make sure the x see through the telescope be very clear set up the hydrogen lamp and adjust the collimator so the x be on focus to the center of the strip of light through the slit adjust the angular scale and record the zero point for future reference place a total reflective mirror on the grate plate rotate the telescope degree from the zero point and rotate the grate plate so that the reflection of light from the mirror show the x at the center of the strip of light lock the grate plate and rotate degree back in the direction so that the collimator be parallel to the telescope and perpendicular to the grate plate with the diagram on the top show single strip from the continuous visible spectrum below so through the spectrometer there will be brighter strip of color visible in the continuous spectrum form by the grate define the center with no diffraction a order number move to the left or right with increase integer number i e m etc in order to calculate the transition wavelength measure the diffraction angle through the telescope relate to fig rotate the telescope until the x be at the center of the brighter strip of light to record the angle repeat the process for different order number plot a graph of the sine of the diffraction angle against order number relate to equation the transition wavelength can be found relate to the balmer series value of n can be determine and hence the value of the rydberg constant result i have plot graph of sine of the diffraction angle against order number in python a the error be relatively small it can not be see on the graph the gradient include the error calculate by python be show below the error in gradient be convert into the error in the wavelength by use the relationship the error in the constant be calculate by combine the two result i get there can be improvement in determine the error in the diffraction angle by consider the width of the strip of light a it be difficult to get the x in the telescope exactly at the center it be worth measure the angle of diffraction of the width at both the left and right boundary of the strip the resolution of the spectrometer can contribute greatly to a systematic error the error in the measure instrument can be determine by do a test when the maximum of one diffraction pattern occurs at the same position a the maximum of another pattern the grate spectrometer be an extremely accurate measure apparatus allow angle measurement precise a arcminute by use the principle of the diffraction grate and the energy level of hydrogen a quite accurate value of the rydberg constant be calculate the hydrogen lamp be quite easily over heated result in the use of multiple different hydrogen lamp within the measure process this potentially introduce more uncertainty and could be avoid with more care on the time of usage of the lamp the experiment could also be repeat several time in order to reduce the potential error in the process of observe the diffraction pattern there be many external light source come from the background result in extra light strip be introduce this increase the chance of measure the wrong light strip and could be reduce by cover the light source and block all the light come into the telescope",
            "he rydberg constant be one of the most important constant of atomic physic because of it connection with the fundamental atomic constant e h me c and because of the high accuracy with which it can be determine the aim of this experiment be to produce a measurement for the rydberg constant use a pasco precision spectrometer this involve diffract light from a hydrogen discharge lamp connect to a power supply through a diffract grate the light produce by the lamp consists of photon with quantize wavelength correspond to the difference in the energy between the initial and final energy state of the atom the diffraction grate with a fix grate space cause these wavelength to spread out at angle with wavelength dependence to produce emission line spectrum which be visible through a telescope this set up enable u to determine the quantize wavelength from which we could then determine the rydberg constant the constant appear most notably in the bohr model of the atom to put it simply niels bohr postulate that the energy of an atom can take only certain value for which he won the nobel prize in when a photon of a particular energy be eject from an atom he found that the energy of the atom decrease by the same amount he reason that this be an atom make a transition to a low energy level with the energy of the photon equate the energy difference in the internal energy state of the initial and final state from the emission line spectrum he be able to deduce that many different wavelength be emit which correspond to the different transition between energy level in an atom and that the wavelength produce be unique to different element these transition be best described by electron transfer from a specific stable energy orbit about the nucleus of an atom to a low one because the same element produce the same emission line he be able to also determine that it be not possible for there to exist an atom in an energy state that be intermediate to two adjacent energy level the constant appear in the rydberg formula which calculates the theoretical wavelength that will be emit by an atom when it transition to a low energy level the hydrogen wavelength in the bohr model be give by where be the wavelength of the emit photon s be the initial energy state of the atom be the final energy state of the atom and be the rydberg constant this relationship know a the rydberg formula satisfies the wavelength emit by many different hydrogen series such a the lyman and brackett series which considers ultraviolet light not just the balmer series but for this experiment we only consider the visible spectrum produce in the balmer series for which use classical concept such a the approximate circular orbit of an electron around the atomic nucleus einstein s photoelectric effect and coulomb s law it can be show that the rydberg constant be also give by where be the mass of an electron be the charge on an electron be the permittivity of free space be plank s constant and be the speed of light use the know constant this yield a value of m a the colour produce in the balmer series be know by observation we can determine the initial energy state the atom be in prior to the emission of the photon for because the centre of the fringe be judged by the person look through the telescope there be an error in the angle of the angular width of the fringe the gradient of this linear graph be e m e m where the error in the gradient be obtain from the covariance matrix in jupyter notebook use we can calculate the value of by multiply the gradient by e m this yield a value for the wavelength of red light of nm nm red light be produce when the atom move from the rd energy state to the nd energy state therefore by use the rydberg constant be calculate to be e m e m where the percentage error in the rydberg constant be equal to the percentage error in the gradient similar data be produce for the blue emission line which be tabulate in table a graph of sin against order number for blue emission line be plot to obtain the follow linear fit the linear fit in fig have gradient e m e m where the error in the gradient be calculate use the covariance matrix in jupyter notebook the error in the ydirection corresponds to the value in the fourth column of table which be the error in the value of the angular displacement of the emission line from the central maximum use we calculate the wavelength of blue light to be nm nm the blue emission line of the blamer spectrum of hydrogen be produce when hydrogen atom transition from the th energy state to the nd energy state by substitute and the measure value of wavelength into the rydberg constant be measure to be e m e m where the percentage error in the rydberg constant be equal to the percentage error in the gradient similarly for violet light measurement for the angular displacement from central maximum and order number be take and tabulate in table table this display the angular displacement of each order of blue emission line in the balmer series from central maximum table this display the angular displacement of each order of violet emission line in the balmer series from central maximum",
            "the same set up be use a that in figure before the experiment could be carry out the spectrometer have to be accurately set up and calibrate with a sodium lamp before the hydrogen lamp be use to do this first the eye piece be focus onto the crosshair then use an object that be five to ten meter away the camera lens be focus so that there be no parallax between the image and the crosshair once this be do the spectrometer be set up in a straight configuration without any grate in the middle and the sodium lamp source be turn on then without adjust the camera the collimator be focus until a sharp image of the slit appear once this be do the grate then have to be accurately put in place the telescope the combination of camera and eyepiece be rotate through exactly degree and a grate be put in the holder the grate table be then turn until a reflect image of the entrance slit be see in the eye piece this show that the grate be at exactly degree use adjustment screw under the grate table the height of the grate be adjust so that the image of the slit be precisely at the cross hair a note be make of the reading on the scale and the grate be rotate through exactly degree to be align accurately with the incident ray from the collimator once this be do the spectrometer be set up and preliminary reading can be take on the sodium lamp to determine the accuracy the first order maximum on either side of the central maximum be measure at this be then use to calculate the wavelength of the spectral line which be nm when compare with the accepted value of this sodium spectral line an error of be found after this measurement of the rydberg constant could be take use the hydrogen lamp the hydrogen lamp be not a bright a the sodium lamp so the size of the slit be adjust until the best image of the spectral line be achieve a grate of line per mm be use first a note be take of what order the spectral line occur in and also how many of each line could be see then one specific colour be chosen and the spectrometer telescope be swung from left to right positive to negative order to measure the angle at which each occur it be ensure that the crosshair be in the center of the spectral line before a measurement of the angle be take this be then repeat for each colour of spectral line and for each a graph be plot of the sine of the angle against the order number make sure that the angle have be convert to radian this yield a straight line a can be see from equation that will have a gradient of the wavelength divide by the space of the slit the negative of the angle be use for the negative order so that it creates a straight line these value of wavelength that be achieve can then be use to numerically determine the rydberg constant through calculation these can then be average to obtain a since value and it error use equation displayed below in table be the data for the angle and order of the red spectral line since the scale on the spectrometer do n t start at for the central maximum the angle that be displayed be measure and from this the true angle subtend from the central maximum be determine this be the same for all the different spectral line displayed below in table be the data for the angle and order of the blue spectral line all these measurement be take use a vernier scale on the spectrometer this give them a reading error of or radian give the large percentage error of this value be negligible compare to the error that arises from the graph the data from these table be then use to plot three separate graph to calculate the wavelength these value be then use to calculate the rydberg constant in each case use equation where for each colour p red compound the error form these three value to obtain a total error for the final value be do by the aim of this experiment be to determine a value for the rydberg constant it be do by use a spectrometer to analyse the balmer series of hydrogen this allows for accurate value for the wavelength of the spectral line and these can then be use to calculate the rydberg constant numerically use the specific energy transition associate with the colour the value obtain for this be which be relatively accurate a it lie close to the accepted value of m although it could only be measure to three significant figure which therefore decrease the accuracy it be also precise with an error of this error could have be reduce with more accurate calibration of the equipment use the lithium lamp this would allow a more precise value to be obtain systematic error of the equipment be most likely the large source of error in this experiment along with make sure that the crosshair be in the spectrometer be directly in the middle of the spectral line",
            "the rydberg constant be calculate by observe the balmer series of hydrogen a hydrogen lamp be observe through a grate spectrometer upon which the wavelength of the colour observe be measure use which the rydberg constant could be calculate only the first balmer line h and h be intense enough to be observe and the rydberg constant be separately calculate for each with the h line the rydberg constant be calculate to be m the theoretical value of refer to theory section for derivation of theoretical value do not lie in the error range although the calculate value be off only by with the h the rydberg constant be calculate to be m the theoretical value of m do not lie in the error range although the calculate value be off only by this aim of this experiment be to determine the rydberg constant use a grate spectrometer the rydberg constant be an important constant in bohr s model of the atom the constant can be use to calculate produce when an electron transit from a high orbital to a low one in a hydrogen or a hydrogen like atom the rydberg constant be calculate theoretically use simultaneous equation of electrostatic attraction and the quantisation of the angular momentum of an electron the grate spectrometer be use in this experiment a grate spectrometer u a lens or mirror to form a collimate beam of light from a source and then disperse it with a grate it be use for produce spectral line from a light source and measure their intensity and wavelength hot or electrically excite gas emit spectrum concentrate at a few wavelength in this experiment a grate spectrometer be use to observe a hydrogen lamp and calculate the wavelength of the spectral line observe for simplicity only the balmer series be analyse a they lie in the visible spectrum only two spectral line be observe the two line be red and blue with the red line be more intense hence we deduce that the red line be h to and the blue line be h to a the former be more probable than the other and the remain balmer line be not intense enough to be observe a their transition be very improbable use this data the rydberg constant can be calculate for each balmer line observe a grate be a large number of slit equally space separate by a distance d light passing through a grate hence undergoes diffraction for a light of wavelength a principal maximum occurs when phase difference between two ray be an integral multiple n of in the case of neighbour beam from the figure one see that the path difference be dsin hence the spectrometer be use to measure different value sin correspond to their respective value of n the value of d depends on the grate use hence use the data from the spectrometer and equation a the wavelength of light can be calculate the grate constant n implies that there be n number of slit per unit length hence the distance between each slit be the inverse of the grate constant the wavelength can then be substitute into the rydberg formula state in the theory section and the rydberg constant can be calculate one must deduce the value of n and p for the various balmer line observe base on their relative intensity the improbability of a transition be proportional to how large the transition be hence reduce the intensity of light observe a the transition get high upon my lab partner and i take two individual reading for every fringe the maximum difference between our reading be minute degree hence error in the angle measurement be degree the value of angle in degree be know to significant digit hence all value will be write upto significant digit with the error in angle be know we can calculate the error associate with sin use the error propagation hence wavelength slope substitute into rydberg s formula with n and p explain in theory section r m although the theoretical value of do not lie within the error range of the calculate value it closely match the calculate value and be off only by the graph below illustrates the data obtain for the h line value of slope obtain in this graph be hence wavelength slope substitute into rydberg s formula with n and p explain in theory section r m although the theoretical value of do not lie within the error range of the calculate value it closely match the calculate value and be off only by in this report we have present the calculation of rydberg s constant by the method of spectrometry a hydrogen lamp be observe through a grate spectrometer upon which the wavelength of the balmer line observe be measure use which the rydberg constant could be estimate the experiment be a success in that the calculate value of rydberg constant be inaccurate only by but the theoretical value do not lie in the error range of the calculate value this experiment be very useful and important because it taught u to use a spectrometer which be a very important instrument and have a wide number of u in various field it be also one of the most accurate instrument in the laboratory this experiment could be improve if the telescope have a high resolve power so the crosshair can be place more accurately by reduce ambient light the slit can be small in size thereby make measurement more accurate"
           ],
           [
            "bal",
            "bal",
            "bal",
            "the",
            "the",
            "the",
            "bal",
            "bal",
            "the",
            "bal"
           ],
           [
            "extended",
            "deep",
            "deep",
            "superficial",
            "extended",
            "superficial",
            "superficial",
            "superficial",
            "superficial",
            "extended"
           ]
          ]
         },
         "columnwidth": [
          300,
          40,
          40
         ],
         "header": {
          "fill": {
           "color": "lightgrey"
          },
          "font": {
           "size": 14
          },
          "height": 48,
          "line": {
           "color": "black"
          },
          "values": [
           "<b>Document Identification</b>",
           "<b>Epistemology</b>",
           "<b> Argument Level </b>"
          ]
         },
         "type": "table"
        }
       ],
       "layout": {
        "template": {
         "data": {
          "bar": [
           {
            "error_x": {
             "color": "#2a3f5f"
            },
            "error_y": {
             "color": "#2a3f5f"
            },
            "marker": {
             "line": {
              "color": "#E5ECF6",
              "width": 0.5
             },
             "pattern": {
              "fillmode": "overlay",
              "size": 10,
              "solidity": 0.2
             }
            },
            "type": "bar"
           }
          ],
          "barpolar": [
           {
            "marker": {
             "line": {
              "color": "#E5ECF6",
              "width": 0.5
             },
             "pattern": {
              "fillmode": "overlay",
              "size": 10,
              "solidity": 0.2
             }
            },
            "type": "barpolar"
           }
          ],
          "carpet": [
           {
            "aaxis": {
             "endlinecolor": "#2a3f5f",
             "gridcolor": "white",
             "linecolor": "white",
             "minorgridcolor": "white",
             "startlinecolor": "#2a3f5f"
            },
            "baxis": {
             "endlinecolor": "#2a3f5f",
             "gridcolor": "white",
             "linecolor": "white",
             "minorgridcolor": "white",
             "startlinecolor": "#2a3f5f"
            },
            "type": "carpet"
           }
          ],
          "choropleth": [
           {
            "colorbar": {
             "outlinewidth": 0,
             "ticks": ""
            },
            "type": "choropleth"
           }
          ],
          "contour": [
           {
            "colorbar": {
             "outlinewidth": 0,
             "ticks": ""
            },
            "colorscale": [
             [
              0,
              "#0d0887"
             ],
             [
              0.1111111111111111,
              "#46039f"
             ],
             [
              0.2222222222222222,
              "#7201a8"
             ],
             [
              0.3333333333333333,
              "#9c179e"
             ],
             [
              0.4444444444444444,
              "#bd3786"
             ],
             [
              0.5555555555555556,
              "#d8576b"
             ],
             [
              0.6666666666666666,
              "#ed7953"
             ],
             [
              0.7777777777777778,
              "#fb9f3a"
             ],
             [
              0.8888888888888888,
              "#fdca26"
             ],
             [
              1,
              "#f0f921"
             ]
            ],
            "type": "contour"
           }
          ],
          "contourcarpet": [
           {
            "colorbar": {
             "outlinewidth": 0,
             "ticks": ""
            },
            "type": "contourcarpet"
           }
          ],
          "heatmap": [
           {
            "colorbar": {
             "outlinewidth": 0,
             "ticks": ""
            },
            "colorscale": [
             [
              0,
              "#0d0887"
             ],
             [
              0.1111111111111111,
              "#46039f"
             ],
             [
              0.2222222222222222,
              "#7201a8"
             ],
             [
              0.3333333333333333,
              "#9c179e"
             ],
             [
              0.4444444444444444,
              "#bd3786"
             ],
             [
              0.5555555555555556,
              "#d8576b"
             ],
             [
              0.6666666666666666,
              "#ed7953"
             ],
             [
              0.7777777777777778,
              "#fb9f3a"
             ],
             [
              0.8888888888888888,
              "#fdca26"
             ],
             [
              1,
              "#f0f921"
             ]
            ],
            "type": "heatmap"
           }
          ],
          "heatmapgl": [
           {
            "colorbar": {
             "outlinewidth": 0,
             "ticks": ""
            },
            "colorscale": [
             [
              0,
              "#0d0887"
             ],
             [
              0.1111111111111111,
              "#46039f"
             ],
             [
              0.2222222222222222,
              "#7201a8"
             ],
             [
              0.3333333333333333,
              "#9c179e"
             ],
             [
              0.4444444444444444,
              "#bd3786"
             ],
             [
              0.5555555555555556,
              "#d8576b"
             ],
             [
              0.6666666666666666,
              "#ed7953"
             ],
             [
              0.7777777777777778,
              "#fb9f3a"
             ],
             [
              0.8888888888888888,
              "#fdca26"
             ],
             [
              1,
              "#f0f921"
             ]
            ],
            "type": "heatmapgl"
           }
          ],
          "histogram": [
           {
            "marker": {
             "pattern": {
              "fillmode": "overlay",
              "size": 10,
              "solidity": 0.2
             }
            },
            "type": "histogram"
           }
          ],
          "histogram2d": [
           {
            "colorbar": {
             "outlinewidth": 0,
             "ticks": ""
            },
            "colorscale": [
             [
              0,
              "#0d0887"
             ],
             [
              0.1111111111111111,
              "#46039f"
             ],
             [
              0.2222222222222222,
              "#7201a8"
             ],
             [
              0.3333333333333333,
              "#9c179e"
             ],
             [
              0.4444444444444444,
              "#bd3786"
             ],
             [
              0.5555555555555556,
              "#d8576b"
             ],
             [
              0.6666666666666666,
              "#ed7953"
             ],
             [
              0.7777777777777778,
              "#fb9f3a"
             ],
             [
              0.8888888888888888,
              "#fdca26"
             ],
             [
              1,
              "#f0f921"
             ]
            ],
            "type": "histogram2d"
           }
          ],
          "histogram2dcontour": [
           {
            "colorbar": {
             "outlinewidth": 0,
             "ticks": ""
            },
            "colorscale": [
             [
              0,
              "#0d0887"
             ],
             [
              0.1111111111111111,
              "#46039f"
             ],
             [
              0.2222222222222222,
              "#7201a8"
             ],
             [
              0.3333333333333333,
              "#9c179e"
             ],
             [
              0.4444444444444444,
              "#bd3786"
             ],
             [
              0.5555555555555556,
              "#d8576b"
             ],
             [
              0.6666666666666666,
              "#ed7953"
             ],
             [
              0.7777777777777778,
              "#fb9f3a"
             ],
             [
              0.8888888888888888,
              "#fdca26"
             ],
             [
              1,
              "#f0f921"
             ]
            ],
            "type": "histogram2dcontour"
           }
          ],
          "mesh3d": [
           {
            "colorbar": {
             "outlinewidth": 0,
             "ticks": ""
            },
            "type": "mesh3d"
           }
          ],
          "parcoords": [
           {
            "line": {
             "colorbar": {
              "outlinewidth": 0,
              "ticks": ""
             }
            },
            "type": "parcoords"
           }
          ],
          "pie": [
           {
            "automargin": true,
            "type": "pie"
           }
          ],
          "scatter": [
           {
            "fillpattern": {
             "fillmode": "overlay",
             "size": 10,
             "solidity": 0.2
            },
            "type": "scatter"
           }
          ],
          "scatter3d": [
           {
            "line": {
             "colorbar": {
              "outlinewidth": 0,
              "ticks": ""
             }
            },
            "marker": {
             "colorbar": {
              "outlinewidth": 0,
              "ticks": ""
             }
            },
            "type": "scatter3d"
           }
          ],
          "scattercarpet": [
           {
            "marker": {
             "colorbar": {
              "outlinewidth": 0,
              "ticks": ""
             }
            },
            "type": "scattercarpet"
           }
          ],
          "scattergeo": [
           {
            "marker": {
             "colorbar": {
              "outlinewidth": 0,
              "ticks": ""
             }
            },
            "type": "scattergeo"
           }
          ],
          "scattergl": [
           {
            "marker": {
             "colorbar": {
              "outlinewidth": 0,
              "ticks": ""
             }
            },
            "type": "scattergl"
           }
          ],
          "scattermapbox": [
           {
            "marker": {
             "colorbar": {
              "outlinewidth": 0,
              "ticks": ""
             }
            },
            "type": "scattermapbox"
           }
          ],
          "scatterpolar": [
           {
            "marker": {
             "colorbar": {
              "outlinewidth": 0,
              "ticks": ""
             }
            },
            "type": "scatterpolar"
           }
          ],
          "scatterpolargl": [
           {
            "marker": {
             "colorbar": {
              "outlinewidth": 0,
              "ticks": ""
             }
            },
            "type": "scatterpolargl"
           }
          ],
          "scatterternary": [
           {
            "marker": {
             "colorbar": {
              "outlinewidth": 0,
              "ticks": ""
             }
            },
            "type": "scatterternary"
           }
          ],
          "surface": [
           {
            "colorbar": {
             "outlinewidth": 0,
             "ticks": ""
            },
            "colorscale": [
             [
              0,
              "#0d0887"
             ],
             [
              0.1111111111111111,
              "#46039f"
             ],
             [
              0.2222222222222222,
              "#7201a8"
             ],
             [
              0.3333333333333333,
              "#9c179e"
             ],
             [
              0.4444444444444444,
              "#bd3786"
             ],
             [
              0.5555555555555556,
              "#d8576b"
             ],
             [
              0.6666666666666666,
              "#ed7953"
             ],
             [
              0.7777777777777778,
              "#fb9f3a"
             ],
             [
              0.8888888888888888,
              "#fdca26"
             ],
             [
              1,
              "#f0f921"
             ]
            ],
            "type": "surface"
           }
          ],
          "table": [
           {
            "cells": {
             "fill": {
              "color": "#EBF0F8"
             },
             "line": {
              "color": "white"
             }
            },
            "header": {
             "fill": {
              "color": "#C8D4E3"
             },
             "line": {
              "color": "white"
             }
            },
            "type": "table"
           }
          ]
         },
         "layout": {
          "annotationdefaults": {
           "arrowcolor": "#2a3f5f",
           "arrowhead": 0,
           "arrowwidth": 1
          },
          "autotypenumbers": "strict",
          "coloraxis": {
           "colorbar": {
            "outlinewidth": 0,
            "ticks": ""
           }
          },
          "colorscale": {
           "diverging": [
            [
             0,
             "#8e0152"
            ],
            [
             0.1,
             "#c51b7d"
            ],
            [
             0.2,
             "#de77ae"
            ],
            [
             0.3,
             "#f1b6da"
            ],
            [
             0.4,
             "#fde0ef"
            ],
            [
             0.5,
             "#f7f7f7"
            ],
            [
             0.6,
             "#e6f5d0"
            ],
            [
             0.7,
             "#b8e186"
            ],
            [
             0.8,
             "#7fbc41"
            ],
            [
             0.9,
             "#4d9221"
            ],
            [
             1,
             "#276419"
            ]
           ],
           "sequential": [
            [
             0,
             "#0d0887"
            ],
            [
             0.1111111111111111,
             "#46039f"
            ],
            [
             0.2222222222222222,
             "#7201a8"
            ],
            [
             0.3333333333333333,
             "#9c179e"
            ],
            [
             0.4444444444444444,
             "#bd3786"
            ],
            [
             0.5555555555555556,
             "#d8576b"
            ],
            [
             0.6666666666666666,
             "#ed7953"
            ],
            [
             0.7777777777777778,
             "#fb9f3a"
            ],
            [
             0.8888888888888888,
             "#fdca26"
            ],
            [
             1,
             "#f0f921"
            ]
           ],
           "sequentialminus": [
            [
             0,
             "#0d0887"
            ],
            [
             0.1111111111111111,
             "#46039f"
            ],
            [
             0.2222222222222222,
             "#7201a8"
            ],
            [
             0.3333333333333333,
             "#9c179e"
            ],
            [
             0.4444444444444444,
             "#bd3786"
            ],
            [
             0.5555555555555556,
             "#d8576b"
            ],
            [
             0.6666666666666666,
             "#ed7953"
            ],
            [
             0.7777777777777778,
             "#fb9f3a"
            ],
            [
             0.8888888888888888,
             "#fdca26"
            ],
            [
             1,
             "#f0f921"
            ]
           ]
          },
          "colorway": [
           "#636efa",
           "#EF553B",
           "#00cc96",
           "#ab63fa",
           "#FFA15A",
           "#19d3f3",
           "#FF6692",
           "#B6E880",
           "#FF97FF",
           "#FECB52"
          ],
          "font": {
           "color": "#2a3f5f"
          },
          "geo": {
           "bgcolor": "white",
           "lakecolor": "white",
           "landcolor": "#E5ECF6",
           "showlakes": true,
           "showland": true,
           "subunitcolor": "white"
          },
          "hoverlabel": {
           "align": "left"
          },
          "hovermode": "closest",
          "mapbox": {
           "style": "light"
          },
          "paper_bgcolor": "white",
          "plot_bgcolor": "#E5ECF6",
          "polar": {
           "angularaxis": {
            "gridcolor": "white",
            "linecolor": "white",
            "ticks": ""
           },
           "bgcolor": "#E5ECF6",
           "radialaxis": {
            "gridcolor": "white",
            "linecolor": "white",
            "ticks": ""
           }
          },
          "scene": {
           "xaxis": {
            "backgroundcolor": "#E5ECF6",
            "gridcolor": "white",
            "gridwidth": 2,
            "linecolor": "white",
            "showbackground": true,
            "ticks": "",
            "zerolinecolor": "white"
           },
           "yaxis": {
            "backgroundcolor": "#E5ECF6",
            "gridcolor": "white",
            "gridwidth": 2,
            "linecolor": "white",
            "showbackground": true,
            "ticks": "",
            "zerolinecolor": "white"
           },
           "zaxis": {
            "backgroundcolor": "#E5ECF6",
            "gridcolor": "white",
            "gridwidth": 2,
            "linecolor": "white",
            "showbackground": true,
            "ticks": "",
            "zerolinecolor": "white"
           }
          },
          "shapedefaults": {
           "line": {
            "color": "#2a3f5f"
           }
          },
          "ternary": {
           "aaxis": {
            "gridcolor": "white",
            "linecolor": "white",
            "ticks": ""
           },
           "baxis": {
            "gridcolor": "white",
            "linecolor": "white",
            "ticks": ""
           },
           "bgcolor": "#E5ECF6",
           "caxis": {
            "gridcolor": "white",
            "linecolor": "white",
            "ticks": ""
           }
          },
          "title": {
           "x": 0.05
          },
          "xaxis": {
           "automargin": true,
           "gridcolor": "white",
           "linecolor": "white",
           "ticks": "",
           "title": {
            "standoff": 15
           },
           "zerolinecolor": "white",
           "zerolinewidth": 2
          },
          "yaxis": {
           "automargin": true,
           "gridcolor": "white",
           "linecolor": "white",
           "ticks": "",
           "title": {
            "standoff": 15
           },
           "zerolinecolor": "white",
           "zerolinewidth": 2
          }
         }
        },
        "title": {
         "text": "Topic 0: ['value', 'line', 'wavelength', 'constant', 'error', 'light', 'grate', 'energy', 'order', 'calculate']"
        }
       }
      }
     },
     "metadata": {},
     "output_type": "display_data"
    },
    {
     "data": {
      "application/vnd.plotly.v1+json": {
       "config": {
        "plotlyServerURL": "https://plot.ly"
       },
       "data": [
        {
         "cells": {
          "align": [
           "center",
           "center",
           "center",
           "left",
           "left"
          ],
          "fill": {
           "color": "white"
          },
          "font": {
           "size": 12
          },
          "height": 48,
          "line": {
           "color": "black"
          },
          "values": [
           [
            "run purple purple fit purple data fig graph result from first data run purple emission line clearly a strong correlation between the variable the in out method be not use for these measurement these data give a wavelength of nm and hence n a value for the rydberg constant r be calculate a m the accepted value of r do not lie within the range give by the estimate uncertainty thus the combine uncertainty be calculate a the uncertainty due to the vernier scale and the uncertainty give by the width of the emission line add in quadrature the second run of data collection utilised the new in out method of measurement in an attempt to well estimate the uncertainty in the measurement of run red preliminary data red fit red data fig graph result from first data run red emission line this be the preliminary data record use the newly developed in out method a before there be clearly a strong correlation between the two variable the uncertainty for m be due to the fact that two central emission line be visible a cyan and a red at the centre they merge but it be difficult to determine whether these emission line should be treat a one or a two slightly separate emission line for this point they be treat a one thus increase the emission line width and therefore the uncertainty in the measurement of these data give a wavelength of nm and hence n a value for the rydberg constant r be calculate a m the accepted value of r do not lie within the range give by the estimate uncertainty this new method have successfully reduce the uncertainty in the measurement however the value calculate for r do not agree with the accepted value run red definitive data red fit red data fig graph result from first data run red emission line this be the definitive data record use the newly developed in out method here the uncertainty be increase a the slit be widen in an attempt to increase the intensity of the emission line however at large m the emission line be much harder to see for m this issue prevent a measurement be take these data give a wavelength of nm and hence n a value for the rydberg constant r be calculate a m the accepted value of r do not lie within the range give by the estimate uncertainty during the second run of the experiment an orange emission line be see along with the red and cyan run cyan definitive data cyan fit cyan data fig graph result from first data run cyan emission line this be the definitive data record use the newly developed in out method here the uncertainty be increase a the slit be again widen in an attempt to increase the intensity of the emission line again however at large m the emission line be much harder to see and for m this issue prevent a measurement be take these data give a wavelength of nm and hence n a value for the rydberg constant r be calculate a m the accepted value of r do not lie within the range give by the estimate uncertainty line since hydrogen do not have an orange colour emission line this line be measure and a wavelength of nm be record the data for this line be outline in figure the origin of this orange emission line be unknown perhaps it originate from some out gassing from the wall of the hydrogen vapour lamp due to the high temperature inside although this do seem very unlikely an experiment study the emission spectrum of nacl solution flame test have be carry out with the equipment before this data run have be carry out although this do not seem to have affected the equipment in any way two final value for the rydberg constant be calculate one for each run of the experiment but take the mean of both the calculate value and their uncertainty for the first run of the experiment a final value of m be calculate and can be see plot in figure a average run for the second run of the experiment a final value of m be calculate and can also be see plot in figure a average run a can be see in figure the accepted value for r do not fall within any of the range define by the calculate value and their respective uncertainty however the data collect from each run be clearly quite different run orange definitive data orange fit orange data fig graph result from first data run orange emission line this be the definitive data record use the newly developed in out method interestingly an orange emission line be observe in the hydrogen emission spectrum there do not exist an orange emission line hence this be measure in order to record a wavelength such that this emission line could later be look up this emission line be the brightest and clearest of the three observe during the definitive data run these data give a wavelength of nm from a previous experiment in which the emission line of sodium be measure a nm use a sodium vapour lamp and nm use a nacl flame test both of these measurement use the in out method this emission line be clearly identify a sodium j sansonetti give this emission line of sodium a nm data from the first run be less precise and also less accurate than data from the second run furthermore the uncertainty for the measurement take in the first run be clearly large in magnitude than the uncertainty for the measurement take in the second run the reason for this be unknown however it be hypothesise that the stark difference in each data set s accuracy be due to the alignment of the spectrometer before the data be collect during the alignment process for the first run of the experiment explain in section iii when the grate be turn by precisely such that it be meant to be at to the centre line it be clearly not this perplexed u and the alignment process be attempt again upon repeat the alignment process the grate be still not perfectly align however we attempt to continue with the experiment for the second run the same issue occur again however this time the effect be much less pronounce although the grate do not seem to be at exactly to the centre line of the collimator the hypothesis be the data from the first run be less accurate more spread out because the spectrometer be more misalign whereas the data from the second run be more accurate less spread out because the spectrometer be less misalign in this experiment the rydberg constant for hydrogen be calculate a m use angle measurement take with a grate spectrometer a hydrogen vapour lamp be use a the light source in order to observe fig all of the calculate value for the rydberg constant value from run have a large spread than those from run also the value from run have much wider uncertainty than from run run use the in out method whereas run do not average mean be take of the calculate value for run run and for all of the value these value be also plot alongside the individual emission line calculation for reference the accepted value for r have be plot m the accepted value for r do not lie within any of the range define by the calculate value uncertainty the emission spectrum of hydrogen use the equipment the experiment be run twice since a novel method for determine the centre of the emission line observe be developed after the first run of the experiment be complete the data from the first run be much less accurate and precise than those of the second run and this be clearly visible in figure hence a the mean of the second data run be much more precise and accurate than that of the first this be select a the final value for the rydberg constant a calculate in this experiment unusually during data collection for the second repeat of the experiment an orange emission line be observe in the emission spectrum of hydrogen there do not exist an orange colour emission line the wavelength of this emission line be measure a nm confirm it a originate from sodium in a previous experiment use the same equipment the wavelength of the emission line from a sodium vapour lamp be record a nm and the wavelength of the emission line from a flame test of a nacl solution be record a nm the origin of this emission line be unknown a possible explanation could be out gassing from the wall of the hydrogen vapour lamp although this do seem to be an unlikely scenario for this experiment a visual grate spectrometer be use to make the measurement other spectrometer design exist such a a computer aided grate spectrometer in which the eyepiece be replace with a detector array usually a ccd or cmos sensor the benefit of use a computer aided spectrometer over a visual grate spectrometer have already be investigate in this investigation it be found that there be no significant improvement or reduction in the uncertainty of the measurement when use a computer aided spectrometer thus this experiment would not be improve through this suggestion however if the experiment be to be repeat again much more care should be take in align the spectrometer when carry out this experiment the spectrometer do not appear perfectly align before the first data set be record before the second data set be record the spectrometer be align much more carefully however the alignment be still not perfect it be hypothesise that the misalignment of the spectrometer explains the difference in accuracy between the two separate run of the experiment in order to far reduce the error in measure the angle of the maximum in the spectrum a diffraction grate with a high number of lines mm could have be use such that the angle separate the order of the spectrum would be large thus the uncertainty in determine the small change in the angle on the vernier scale would have be far reduce combine with the in out method of measurement developed the uncertainty could be reduce to an even well range more repetition of the experiment could improve the final mean value take for r a long a the spectrometer be correctly align when carry out the experiment it be important to make detailed note on the alignment procedure so that during data analysis it be possible to notice any issue that may have arisen",
            "a michelson interferometer be create use two plane mirror and beam splitter interferograms around the null point of the interferometer be then record for a white lead and a tungsten filament lamp the fourier transforms of the interference pattern be then take to give the amplitude a a function of wavelength for each source the result wavelength spectrum be then compare for their efficiency in radiate energy in the visible spectrum this experiment result in the tungsten filament emit of it energy in the visible whereas the lead emit of it power in the same range he wave theory of light be first propose in by christian huygens evidence support this theory be found in around by thomas young in his famous double slit experiment it be this wave theory of light that be central to understand interferometry as it relies on the superposition principle interferometry be famously use in the michelson morley experiment in which they search for the presence of the luminiferous aether a no variation in the speed of light be detect a new theory be require this lead to the development of special relativity by albert einstein the technique of interferometry be still very much at the fore front of scientific research a very precise measure device can be design upon it principle currently interferometer be be use to measure the tiny change in length cause by gravitational wave in this experiment interferograms of a tungsten filament lamp and a white lead be record the fourier transform of the data be then take to provide the wavelength spectrum of the light source the efficiency of the source in emit visible light be then compare interference occurs when two or more wave interact the result pattern produce depends on the amplitude of each wave at that position there be an alternate pattern of bright and dark fringe a the wave oscillate from interfere constructively to destructively for monochromatic light of equal amplitude the pattern be a function of the phase difference between the wave in the case of an interferometer this phase difference be cause by the fact that one wave have travel a different distance relative to the other fourier analysis be require to consider light with an arbitrary frequency spectrum this result in the follow relation between j the interferogram and s the power spectrum of the source where be the distance from the null point and be frequency j be the fourier cosine transform of the spectral power density s a hot filament will glow with a characteristic frequency spectrum the wavelength at which the peak of this spectrum occurs be give by the follow equation the spectrum will be approximately gaussian in it distribution a there be slight random variation in temperature within the filament which be normally distribute about a mean value lead s work on the phenomenon of electroluminescence where electron recombine with hole in a semiconductor release light a they do so if there be some element of randomness in the energy release when the electron recombine then it can also be expect that the lead s spectrum will have some sort of gaussian distribution a michelson interferometer consists of a beam splitter and two plane mirror arrange a show in fig the system be very sensitive to vibration and therefore must be isolated from the surroundings to reduce erroneous noise in the data this be achieve by place the component on an optical breadboard the whole system be position within a blacked out box and the light in the laboratory be turn off so that the effect of variation in the ambient light be minimise the detector be also shield from the light source use tube and piece of black card in order for reliable data to be take the interferometer have to be carefully align initially the translational mi rnr be fix in place on it translation stage the beam splitter be then position a sho t distance away and it orientation be adjust until it be at degree to the translational minor this be achieve use a laser and adjudge to be when the laser beam reflect by the beam splitter and it reflection from the translational minor fonned one spot on the beam splitter the rotatable minor be then position approximately the same distance away from the beam splitter as measure by a piece of string a piece of white card be then put in the position of the detector and move a far away from the beam splitter a feasibly possible the position of the beam from the translational mirror on the card be then marked the orientation of the rotatable miitor be then adjust so that the beam from each arm form one spot on the piece of card this be adj udged to be when there be no discemible change in shape when one of the beam be block there may also be some additional spot on the card however these can be minimise with careful alignment a magnetic rnler be then use to verify that the laser beam be the same height above the optical breadboard in all place meaning that the system be in an optical plane a planoconvex lens of focal length mm be then position between the laser and the beam splitter to make the laser an extend source the interference pattem on the card be then clearly visible with the naked eye the orientation of the rotatable miirnr be then finetuned so that the centre of the circular fringe be in the same position a the mark on the card a michelson interferometer can produce fringe in concentric circle or straight line which be visible depends on whether the two mirror be a rnnged so that they be perpendicular or not a the miitors be move fuither away from be pe pendicular the fringe become straighter and closer together for this experiment it be not a requirement to have the miirnrs perpendicular a the fringe move at the same rate irrespective of their shape finally the detector a photodiode connect to an amplifier with variable gain be position so that the centre of the circular fringe be at it centre the detector use responds linearly to light intensity meaning that the data it record can be directly plot a the intensity of the light in arbitrary unit the interferometer be now align however the null point still need to be found to do this the translate mirror be put at approximately the same distance from the beam splitter a the rotational mirror again use the piece of string a quick interferogram be take with white light in a range a couple of mm either side of this position with the maximum in intensity of the interferogram correspond to the null point of the interferometer white light should be use in find the null point a once the interferogram have retwned to a constant value either side of the pa ttem you can be sure that the maximum of the interferogram corresponds to the null point of the interferometer provided there be no asymmetrical phase shift cause by the optic use once the interferometer have be align and the null point found data be take in a small range either side use the light source of interest a tungsten lamp with fibre couple be use a the first white light source producing the interferogram show in fig fibre couple be necessary to make the sow ce small enough to fit in the interferometer it be a graph of signal strength to in arbitra y unit against position to in mm when the fourier transform of this data be take a graph of intensity agairlst wavelength can be plot a shov il in wavelength m le fig a graph of amplitude arbitnuy unit against wavelength m for the tungsten filament lamp a expect the wavelength spectmm be well approximate by a gaussian distribution the peak occurs at nm with a spread in the wavelength of nm this corresponds to a black body temperature of k a the energy of a photon be inversely propo t ional to it wavelength the sum of the amplitude divide by the wavelength they correspond to be a representation of the total energy in the spectmm the propo tion of that energy that fall in the visible range run can then be calculate this result in an efficiency of at first glance the interferogram of the lead fig look remarkably similar to that of the tungsten filament lamp i an inte ferogram for the white lead it be a graph of signal strength to in arbitrary unit against position to in mm however when the fourier transform be take and plot fig the two wavelength spectrum be distinctly different the spectmm be fairly well approximate by the sum of t gaussian distribution the main p eak be at a wavelength of nm with a spread of run and the subsidiaiy peak be at run with a spread of nm if the temperature that the p eaks correspond to be weight accord to the amplitude of the peak then it give a black body temperature of k the efficiency in radiate light in the visible region be this experiment aim to compai e the efficiency of two white light source in emit radiation in the visible region of the spectrum this be achieve by record an interferogram for each source use a michelson interferometer and then compute the wavelength spectmm of the sow ces this result in the tungsten filament lamp be vastly less efficient than the white lead in a futw e experiment the efficiency of a great airny of source should be compare the efficiency in produce light should also be compare to get an overall efficiency for the light in convert the power supply to visible light",
            "the interferometer have be a vital tool in several scientific field since it development in the th century by albert a michelson it u include find very small distance for example to find imperfection in a mirror and large one such a the diameter of distant star in term of the wavelength of the electromagnetic radiation use in the interferometer this experiment will study the interferograms of light source of different kindsincluding those that emit black body radiation a oppose to individual wavelength due to emission line that come about from quantisationand use discrete fourier analysis to study the characteristic of the source use their interferograms e begin the experiment by set up and align the equipment in the interferometer such that one of the mirror could be move linearly by a distance t in order to increase or decrease the path difference of two ray and therefore alter the pattern of light output by the spectrometer a schematic diagram of the michelson interferometer be a follow the mirror that can be move linearly be m and it distance from the beam splitter at any point in time can be found by the fix distance of m from the beam splitter add to the value t which can be control via a terminal on a computer connect to a move stage we take a range of intensity reading from the detector take continuously a the stage be move by a motor these be use to produce a plot of intensity versus position which can be fourier transform by a numerical fft fast fourier transform into frequency space that would then produce a unique spectrum for every light source study the first step be to find the null point where t i deduce mathematically that with decrease distance from the null point the haidinger fringe project on a screen would appear to move inwards we therefore advanced towards this point until the thickness of the ring decrease this enable u to eventually find the null point which lay at a stage distance of mm figure haidinger fringe on a screen http www google co uk url sa i source imgres cd cad rja uact ved ahukewip mjlkfreahwoikykhe yaomqjrx bagbeau url https a f f www osapublishing org fabstract cfm furi djosa psig aovvaw zvi pn nyjdtjn l pj ust we could now take reading of intensity about this point for the different light source we analyse in order to obtain four different interferograms the light source we will compare be this be an improvement on an earlier reading before we add ground glass and paper with a small aperture which look like this due to the lead s physical structure the white tungsten filament s interferogram a expect be very narrow because of the very wide spectrum of wavelength emit these can be described by black body radiation rather than simply emission line such a for a monochromatic lead more on this later tungsten filament can provide a broader spectrum of lightsee the coherence length comparison in the next section this method be clearly not reliable a found by these result a well a others we instead use an alternative method which defines the coherence length to be directly related to the full width at half maximum fwhm of the curve assume they be gaussian l be the standard deviation which can be show to be we therefore directly analyse our result on the computer screen to find value for the fwhm for each light source s interferogram and take repeat reading to reduce the uncertainty a follow value of fwhm m mean m white lead this table demonstrates that the tungsten lamp have the broad range of wavelength these be all within the visible spectrum and therefore help it to appear more white i e it be more of a mix of all colour compare to the white lead the opposite argument applies for the tungsten with a yellow filter which have the narrow range of wavelength before move onto the fourier transforms of the source interferograms we can first use a result derive from fourier analysis which give a more numerical comparison of the different source range of frequency also know a the spectral width far analysis can be do once the wavelength be found from the fourier transform graph and again assume the peak to be approximately gaussian the spread of wavelength can be found a follow python code be design to use the output from the detector and use these value to directly form a fourier transform not only to plot the graph of actual result the interferograms we will first analyse the transforms from the lead the white lead s wavelength spectrum suggests a large wide peak around the red green area and another very small bump around the blue one could think that the small peak be simply an artefact that come into existence because of the bump on the left hand side of the interferogram but this would be wrong for one important reason white lead be expect to give this type of emission here be another typical white lead spectrum for comparison the light emit from lead be cause by phospholuminescence where an electric field cause a semiconductor to emit light lead of each colour such a our blue one emit light within a very narrow spectrum due to radiative recombination explain far later in this section essentially this describes electron falling into hole in the valence band of a semiconductor a semiconductor due to quantisation have two separate bands where electron can lie the valence band and the conduction band separate by a band gap across which electron must jump in a metal there be no band gap the energy of this jump give the emit photon their frequency accord to e this phenomenon alone explains the narrow peak for the blue lead but do not explain the wide curve in the red green region for the white lead an explanation for this be that the lead itself emits one frequency of blue light visible on the graph a well a high frequency with an even shorter wavelength and a high energy this blue light or uv however do not escape the case of the lead the case contains a phosphor which absorbs the energy of these wavelength and then emits this energy a photon with a much broader range of frequency this luminescence phenomenon be know a phosphorescence and can be see clearly on the white lead s spectrum here be the wavelength spectrum of the tungsten source the pure tungsten lamp have a very broad range of wavelength range between around nm which we will not be able to simply describe by mean of the photon emit when an electron drop from one quantise energy level to another instead an explanation for this be two successive phenomenacollision ionisation and radiative recombination which give rise to a hot tungsten lamp s behaviour a a black body emitter the former be cause by the movement of delocalize electron within the lattice of tungsten cation in the lamp the electron can be involve in collision with outer shell electron and displace them which mean that the energy of ionisation be overall lose from the system and a hole be left in the ion that be now miss the electron the same collision equally apply to inner shell electron leave hole at different energy level to be fill that be collision ionisation we must now look to the positively charge hole left by this phenomenon and how they be fill consider the sea of delocalised electron in the lamp and assume that they be in thermal equilibrium with the rest of the metal we could then describe the energy of these electron with a boltzmann distribution with a continuous spectrum of energy where most electron have a kinetic energy above the mean i e there be a positive skew now through the process of radiative recombination any give electron can now fill a hole in any energy level of the tungsten cation to return them to their original charge this electron be now localise and have lose all it kinetic energy which a we have discus can take a continuous spectrum of value in the process of replace the lose electron the new electron will emit all it kinetic energy a a photon with it frequency obey the equation e therefore a continuous spectrum of frequency be emit and so we see a continuous black body spectrum of wavelength far analysis can be do on this black body spectrum we can first take some reading from the spectrum in figure left to determine the most likely wavelength emit from the source from the fourier transform we have found that the wavelength be nm which be nm from this value we can use wien s displacement law which link the peak wavelength to temperature in k wien s displacement constant b have empirically be show to be mk this set the temperature of the tungsten lamp at k which we have deduce simply from fourier analysis on the lamp s interferogram and assume it wavelength spectrum to behave exactly like that of a black body emitter add the yellow filter mean that the wavelength spectrum be immediately far narrower the peak for this spectrum ignore that the fluctuation do not affect the actual position of the peak on the graph which they do lie at approximately which corresponds to a wavelength of nm a expect for yellow light which take an approximate range of nm to explain the fluctuation around the peak we must consider the interferogram for the yellow filtered tungsten lamp there be a beating pattern to the left and right of the main peak of the yellow light which then add the variation we see in figure which affect the shape of the wavelength peakthe algorithm have picked up these unwanted frequency the fourier transforms for the interferograms for all source confirm the earlier calculation which state that the unfiltered tungsten lamp have the broad range of wavelength and so it radiation bear closer resemblance to daylight compare to the white lead they also confirm that the yellow filtered tungsten light have a narrower range of wavelength than the blue lead which can now be see by directly compare the width of the two peak of the wavelength spectrum in figure and the interferometer succeed in find relatively accurate interferograms of the different source which could then be characterize by use of a fourier transform to provide a wavelength spectrum these spectrum provide an insight into the type of wavelength one would expect to find from different source and with different filter a well a the range cover by such emission spectrum the experiment be mostly qualitative in that it show the characteristic of each type of radiation such a show that the blue or yellow monochromatic source emit narrow line of radiation whereas black body radiation would be a more fitting model for other source such a the incandescent filament lamp there be some quantitative aspect such a find the wavelength of the source and most find the most likely wavelength from the tungsten lamp which be subsequently use to quantitatively deduce it temperature in analyse the error propagate throughout the process of find the temperature i found that the large source of error include deduce the most likely wavelength use the three repeat reading to obtain this the value be around nm give a percentage error of which be very small the other main error would be that of the spectrometer of the order and that of apply wien s displacement law which be minimalized because the constant b be give accurately to significant figure in the calculation we could round this percentage error to and therefore say that the temperature of the tungsten lamp at thermal equilibrium reach k which fit with the statement that they reach temperature of about k drawn from other scientific source another small improvement to be make could be that when fourier transform the yellow filtered tungsten s interferogram the range could have be cropped so that the beating pattern on either side be not include and so would not produce unwanted fluctuation around the peak of the wavelength spectrum more effort could have be make in rearrange the white lead to minimize far the effect of it structure on the shape of it interferogram one final improvement would have be to alter the code early on to account for the fact that the wavelength plot only show half of the wavelength because of any distance move by the mirror would cause twice that difference in path length tungsten imitates daylight s visible range http www google co uk url sa i source images cd c ad rja uact ved ahukewihpcvlz zeahxmxyukh aefc qqjrx bagbeau url https a f fwww su nlightinside com flight and health fnatural light isfundamentally different than artificial light f psig aovvaw jw r boyjs reg fqnz ust see appendix spectrometer uncertainty http www pharmtech com calibration instruments youruv spectrometer accurate enough for slightly shorter wavelength tungsten s typical temperature http hypertextbook com facts alexandereng shtml see appendix vii appendix rate of change of with t where be the angle from the normal to a fringe therefore a you approach the null point the haidinger fringe appear to move inwards the precise position of the null point do not matter and nor do it uncertainty have a particular impact we only need to know it so that we can have a small range over which to take reading a comparison of the spectrum from different source and sunlight the incandescent bulb be most similar but emits more light in the infrared than an lead http www sunlightinside com light and health naturallight is fundamentally different than artificial light source estimate the temperature of a tungsten filament in thermal equilibrium http hypertextbook com facts alexandereng shtml",
            "a spectrometer be use to analyse the emission spectrum of a sample of hydrogen three spectral line be analyse and rydberg s constant be measure to be m furthermore it be show that the emission be most likely those of the balmer series produce by electron fall to the n state from high energy level a second experiment be also conduct in which a spectrum be produce by a white lead nichia a continuous spectrum be observe and image take in order to discern how the lead produce this and the nature of the spectrum t he most simple quantise model of the atom be the bohr model of hydrogen in which a single electron be consider to orbit a proton bound entirely by the coulomb force in this model we consider the quantise nature of electron energy level such that only distinct and discrete wavelength of electromagnetic radiation can be absorbed or emit by an atom these wavelength be unique to a particular atom or molecule and can therefore be use to identify matter present in object such a star or mixture of gas and theirs property in this way spectrometry can be use to study fundamental interaction between electromagnetic radiation and matter in a similar way to in atom lead function by the stimulate movement of electron between artificial energy level within the lead structure such that the electron emit photon thus information on structure of an lead could be discern by perform spectrometry on it emission spectrum figure show how light diffracts through a diffraction grate where the path difference between adjacent beam to any point on the screen be give by dsin where d be the distance between adjacent slit and be the angle subtend by a diffract ray and the displacement between the grate and the screen for the wave to interfere constructively this path difference must be an integer multiple of the wavelength thus we find the relation where n be the order of the maximum an experimental set up like that in figure be use circle graduate in degree with a minimum angular resolution of arcminute the spectrometer be calibrate by set the telescope cross hair directly on the open slit with a test bright light source behind it before insert the grate the telescope be rotate at to the collimator a mirror be insert into the grate turntable and rotate so that light be reflect from the collimator into the telescope at this point the mirror be at to the light beam the mirror be then replace with the diffraction grate and rotate to make it perpendicular to the collimator the telescope be then rotate back to face the collimator the diffraction grate use have line per millimetre a this be the only grate which allow the m red and m violet maximum to be easily distinguish but still provide enough visible order such that a mean and error could be calculate measurement be take anticlockwise from the high order maximum on the left to that on the right in order to avoid any mechanical inconsistency that my be present in the device if the direction of rotation be alternate the high order maximum that could be see clearly be m blue and m blue with angle from the central maximum of and respectively in order to maximise precision the slit be close until the maximum furthest from the centre be just visible this meant that the cross hair be always centre on the fringe reduce the error in the fringe s position and that adjacent fringe would be less likely to interfere or obscure each other the high order maximum for the red emission line be and a any high order maximum be likely too dim with the slit at a width small enough to provide adequate precision the measure result can be see in table i where the error be determine a the minimum resolution of the spectrometer arcminute instead of half that a the measurement depend on an initial measurement of the location of the central maximum a can be see the angle be symmetric around the central maximum but all positive order of maximum have angle away from the centre that be large than their negative counterpart this would seem to imply that the diffraction grate be not set up perfectly perpendicular to the incident light beam alternatively the actual position of the central maximum could have be measure inaccurately however this seem less likely a the inconsistency be a high a an order of magnitude large than the resolution of the device in the case of m blue the average wavelength associate with the angle in table i can be see in table ii error be calculate use equation where m be the standard error on the mean s be the standard deviation of the value use to calculate the mean and x be the number of value use to calculate the mean the measure wavelength mostly align with those measure for the balmer series of hydrogen emission line on the order of nm for red nm for blue and nm for violet there be a noticeable difference of around nm between the measure violet wavelength and the accepted one it could be that whatever error present in the set up which cause the asymmetry in table i be intensified at small wavelength a small difference in slit width and angle will have a large contribution to this small value of the similarity between our measurement and those of the balmer series implies that electron be fall to the n electron quantum state from the bohr model of the hydrogen atom we find where r h be the rydberg constant for hydrogen n be the low energy electron quantum number and p be the high energy electron quantum number the full derivation of this can be found in appendix a it be interest to note that this equation only describes atom or ion with a single electron a multiple electron will interact with each other however for nucleus with more than one proton the rydberg constant will have a different value scale by the increase in charge of the nucleus a it have be establish that the measure wavelength be most like those of the balmer series then n and p for the red blue and violet emission line respectively note that the energy level of the emission line must be consecutive else other emission line would be see furthermore a the the energy of the photon be described by where h be planck s constant and c be the speed of light a large difference in energy level corresponds to a small wavelength for each of the wavelength an average value of r h be calculate and can be see in table iii this give an average value of r h of with all error calculate use equation the accepted value for r h be therefore our measure value be in concurrence with this it may be of interest to compare this data to different assumption of the n electron energy level a such the possibility must be consider that n could be high or low than n a can be see the assumption of the n or n state produce line that be quite clearly not horizontal have gradient an order of magnitude large than that of n or n from comparison with other measure value of the balmer series n it be clear that the measure wavelength be those of the balmer series however this be not necessarily clear from the figure a n and n have gradient of similar order of magnitude although the gradient for n be indeed closer to it be not significantly closer furthermore the error in n be significant compare to it value around this be likely due to the afore mention deviation of the violet emission line wavelength form it expect value a such more data would be require to prove that electron be fall to the n state a set up like that in the previous experiment be use see fig with the line per millimetre diffraction grate replace with a line per millimetre grate and a camera use to take image through the eyepiece this be do to allow the entire spectrum to be visible at once a see through the eyepiece so that it could then be photograph and the intensity across wavelength plot a nichia model white lead be use in place of the hydrogen lamp a scan clockwise and anticlockwise from the central maximum be make to give a qualitative understand of the diffraction pattern interestingly it be observe that the spectrum of the lead be entirely continuous this can be see in figure with no clear vertical line correspond to specific emission line this be entirely contradictory to the idea that this lead work use artificial energy level within the material alone to generate light a a set of energy level span a range must be produce such that the difference in energy between subsequent energy level be small enough to produce a spectrum that appear continuous furthermore each energy level will have a different threshold voltage meaning that one could activate only low energy emission of red light with a sufficiently low voltage this however be not observe and the lead turn on sharply at v a such it seem reasonable to assume that the lead itself produce a high energy wavelength for example ultraviolet and this be absorbed by a phosphor coat and re emitted in the visible range horizontal line can be observe on the spectrum however this be determine to be cause by dust within the slit on the collimator block some of the incident light a far issue exist in that order of maximum high than the first order be see to overlap fig two image be take of the spectrum with the camera centre on the blue region and the red region respectively this be do to hopefully remove some of the camera s bias towards certain colour or object in certain position the angle away from the central maximum of the red and blue boundary can be see in table v and the intensity plot of each can be see in figure and interestingly it can be see that there be clear saturation of the detect intensity between a distance of and pixel on both figure and the wavelength in this interval correspond to the range nm to nm this fact alone implies that this camera be unsuitable for this purpose a either the detector or some aspect of it internal processing contains a bias towards certain wavelength in the visible a such in order to conduct this aspect of the experiment effectively an unbiased camera must be found and utilised in this paper a spectrometer be use to analyse the spectrum emit by a hydrogen lamp and a nichia white lead in order to discern a deeper understand of the structure present in each source first the spectrum of hydrogen be analyse and be found to contain three distinct emission line red blue and violet with respective wavelength of nm nm and nm it be found that these wavelength be most similar to those of the hydrogen balmer series with the only measurement deviate from the accepted value be that of the violet measurement this deviation be likely due to asymmetry cause by error in calibration however far data should be take to confirm this from these wavelength measurement the average of rydberg s constant be calculate to be with the accepted value value be far analysis be conduct under the assumption that the emission line see be not those of the balmer series figure and table iv provide the predict value of r h associate with an emission line for a possible value of n a rydberg s constant should be the same for all wavelength the gradient of the line should be it be found that the assumption of the n or n state produce line that be quite clearly not horizontal have gradient an order of magnitude large than that of n or n from the calculate gradient table iv it can be see that n and n produce gradient on the same order of magnitude a such more data would have to be collect in order to verify that this be the balmer series the lead spectrum be analyse and qualitatively it be notice that the observe spectrum be continuous contradict the expectation that the lead produce light in a way similar to that of other lead by stimulate movement of electron between distinct energy level a the difference in energy between consecutive energy level would have to be small enough such that it could not be notice this seem like an unlikely design instead it seem more reasonable that the lead be cover by a phosphor coat which absorbs a small set of high energy wavelength and emits a continuous spectrum in the visible an attempt at a more quantitative analysis of the spectrum be make use image take on the camera of an iphone however on far inspection of the data fig and it be see that the camera or processing within the device contain clear bias towards certain wavelength make the data fundamentally untrustworthy for this aspect of the experiment to be conduct successfully it would be necessary to utilise an entirely unbiased light photo detector or camera mount to the spectrometer telescope to maximise stability the rydberg equation be where r h be the rydberg constant n be the low energy electron quantum number and p be the high energy electron quantum state to derive this we imagine a hydrogen atom in which a single electron be in a circular orbit of radius r of a single proton the total energy e held by the electron can be represent by the sum of it potential and kinetic energy a the only significant potential be electric potential then where e be the magnitude of the charge of the electron k be the coulomb constant m be the mass of the electron v be the electron s velocity and r be the distance between the proton and the electron next we consider the electron to be orbit the proton thus the centripetal force f c be described by from this we find for the energy of a photon release from an electron move from energy level f p to energy level f n where p n and n and p be integer then therefore where mek e h r h be the rydberg constant for hydrogen",
            "the uncertainty in the measurement of each angle be estimate simply by take several reading of each maximum and compare them to find a range the uncertainty use for each data point be then half the total range which be found to be of a degree source of systematic error be mostly not possible for u to measure in the time available so for example we do not obtain enough measurement of maximum to both side of the centre to compare them and as how much error may be arise from slight asymmetry in the alignment of the spectrometer instead the result here be base on measurement just to one side of the centre and this error can not be quantify similarly other potential source of error such a atmospheric condition affect the optical property of the air and therefore alter the wavelength due to a potential change in the speed of light be not account for a these condition i e humidity air pressure be not measure when the experiment be be carry out furthermore a other work be be do in the lab variation in background light could not be avoid meaning some data point may have underestimated uncertainty if background light be high when the measurement be take specifically to the setup we use the spectrometer be balance on a table which do not perfectly sit flat on the table we attempt to prevent it wobble while we make our measurement by place some paper under one of the leg but this do not seem to fully remedy the problem so it may have create some random error if it be not in exactly the same position for all the measurement the result we be able to obtain include only two wavelength of the balmer series a low wavelength be not visible with the set up use the two correspond to n value of for the red light and for the blue violet light which we assume to correspond to n be visible only to the first maximum and so we be unable to gather enough data point to calculate a precise value for it wavelength and other colour be not visible at all a show in fig and the data fit extremely well to a linear relationship a predict by our model this allow u to calculate value for the wavelength of x x m for the red light and x x m for the blue use the mean value of the rydberg constant obtain from be m this do not agree with the accepted value of m which would suggest that systematic error in the experiment have a significant impact however consider the individual value for the two different colour the red light give a value approximately low than the accepted value while the blue light give one approximately high rather than support the idea that it be cause by systematic error it instead implies that the problem be that random error be underestimated the most likely candidate for this phenomenon be the unstable table on which the spectrometer be balance mention in section iii it would explain why the two data set show very little error within themselves and yet the two data set both conflict with both one another and the accepted value it be possible that other source of error played their part such a background light and atmospheric condition however it seem less likely that these would have give such a clear divide between the two data set the unstable table would be more likely a the data set be take very close together give limited time for such a distinct change in humidity or pressure also background light fluctuate throughout the experiment with no chance of give such a distinct contrast in the two set of reading another contribution to the error in our result be likely not accounting for possible asymmetry in our set up by only measure to one side of the centre it be possible that if we have do so we would have notice the effect of the unstable table and have a chance of quantify the resultant error instead we be left with no way of state with any certainty whether this or another unidentified source of error lead to the issue in our final value use our method we be able to obtain a value for the rydberg constant which fell within of the accepted value however a we underestimated the systematic error inherent in our set up our value conflict with the accepted value despite be so close in order to make it a useful measurement we would need to return to the experiment and thoroughly investigate and quantify the impact of all potential source of systematic error described in section iii once this be do it would be possible to both more confidently state which source of error cause the issue in this experiment and to repeat the experiment with well control and understand of these error to obtain a more accurate value of the rydberg constant another improvement that could likely give a significant increase in the accuracy and precision achievable would be if extra wavelength could be observe to increase the amount of data available this could be achieve either by change the source to one in which low wavelength be brighter and could be measure another possibility be to use other method of observation than the naked eye allow infra red ultra violet or both to be observe in addition once again this would simply increase the amount of data available to use in calculation thereby reduce statistical error and give a more precise final value",
            "use a fourier transform spectrometer the mean wavelength and spectral width of wavelength transmit by two band pass optical filter be found to be green nm green nm and yellow nm yellow nm these filter result be from a tungsten lamp source which when unfiltered have nm nm these wavelength be determine by fourier transform experimental data of intensity against a path difference type variable the point of zero path difference and thus maximum intensity be locate use haidinger fringe pattern i n albert a michelson construct his interferometer in order to study the luminiferous ether the lack of record effect provide an experimental cornerstone for the theory of relativity a fourier transform spectrometer ft have the same basic configuration a a michelson interferometer except one of the mirror can be move along one axis fourier transform spectroscopy have aid breakthrough in the molecular spectrum of star and planet splitting in atomic spectrum super conductor energy gap measurement and magnetic resonance to name a few the experimental design and associate theory involve with these device be core to modern physic optical filter selectively transmit light of different wavelength a a ft can be use to analyse the constituent wavelength of a source a practical application of the spectrometer be to identify the range of wavelength pas by a filter of unknown spectral width a ft allows analysis of a light source by investigation of the effect of path difference on resultant intensity the translate mirror can be adjust so that the two light path l and l described in figure travel different length before recombination the difference in these length be define a and be equal to the path difference between the light at recombination note that the distance l and l be twice the distance from the beamsplitter to the mirror if the translate mirror be move by a distance x the change in path difference be of magnitude x when the mirror be arrange such that l l correspond to d the interferometer be say to be at it null point a there be no path difference between light from each source light will constructively interfere upon recombination fig in a ft source light be incident on a beamsplitter which then separate the light so that it follow two different path for path l light continue to propagate parallel to the source beam and be incident on the translate mirror for path l light be reflect perpendicularly to the source beam so that it be incident on the mirror label fix mirror light from both path then recombines at the beamsplitter before it intensity be measure at the detector fig due to the action of the beamsplitter mirror m appear to be parallel to m in position m the optical path can then be related by the angle and the distance d where d d with light incoming from an extend source the angle will vary the geometry of figure give where m be the order of interference and be the wavelength of the source when the mirror be set up with equal inclination the cylindrical symmetry of the situation result in circular fringe know a haidinger fringe if an angle of inclination be introduce between the mirror this symmetry be lose and straight line fizeau fringe of equal thickness be form fig haidinger fringe of equal inclination which occur when and appear to be at infinity use a coherent visible light source around the null point haidinger fringe be clearly identifiable with the naked eye a the null point be approach d the fringe pattern will appear to collapse with fringe move toward the centre then disappear reduce the number of visible ring this be show in figure a ft allows interferograms of signal intensity against position of movable mirror proportional to path difference to be plot the peak of the path difference spectrum be locate at the null point this spectrum be useful a the intensity of the recombine beam a a function of the path difference d can be fourier transform to the intensity of the light source a a function of wavenumber inverse wavelength from this the constituent wavelength of the source can be plot the coherence length l of a source be define a the optical path difference when interference visibility drop to half it maximum value a the interferograms be approximately gaussian in nature we can define the coherence length of a signal intensity against path difference plot a the full width half maximum fwhm of the signal intensity against position of mirror plot this be a position of mirror d and f w hm distance to half intensity the fwhm of a gaussian can be found from where be the standard deviation of the gaussian the coherence length be related to the spectral width by the equation where be the spectral width and c m to relate this to the spectral width of the wavelength of the source we use where be the wavelength of the light and be the spectral width of the wavelength we can thus find value for the spectral width of the wavelength from the coherence length of the source a tungsten lamp also know a a incandescent lamp produce light through heating of a thin tungsten wire to around k the majority of the light produce by the lamp be in the infra red range but some intensity of all visible wavelength be produce fig a typical emission spectrum for a tungsten lamp with the region of radiation visible to the human eye label the term optical filter refers to any device that selectively transmits blocks wavelength of light within the visible range nm within this range of visible wavelength there be small range that correspond to specific colour the two colour examine in this experiment be green and yellow with approximate wavelength range of nm and nm respectively optical filter can be broken down into two main category absorptive and dichroic the difference between the two be in how they filter light not in what they filter absorptive filter absorb the wavelength of light that be not pas whereas dichroic filter reflect them filter can also be described by the range of frequencies wavelengths that they pa low pass filter allow frequency below a certain value to pa and block or attenuate great frequency high pass frequency act oppositely restrict frequency below a certain value and passing frequency great than that value band pass filter can be make from a combination of the low and high pass filter allow wavelength within a select range to pa the ft apparatus be construct on an optical breadboard it comprise one fix base mirror a translate mirror a beamsplitter and a detector the fix base have mirror two control for adjustment of the vertical and horizontal inclination of the mirror on top the stand without alter height or base position the translate mirror involve a fix inclination mirror attach on top of a computer control translate bench the bench have a range of mm mm about it zero and could be move from any point in this range to any other point at a give speed the beamsplitter be house in a cube with transparent glass wall such that other component could be connect to it a oppose to have the light source attach to the top of a stand they be directly screw into the other end of a tube attach to the beamsplitter the detector be also connect to the computer but not directly to the bench and sample at a fix rate of hz in order for the spectrometer to produce measurable fringe the entire apparatus have to be precisely align this meant both in the same optical plane and with correct orientation relative to each other a the optical breadboard and all attach apparatus be from the same manufacturer the optical plane be predetermine to be at a common level attach the light source to the beamsplitter via the tube remove the possibility that the beamsplitter and light source be not in the same optical plane ensure correct orientation so that both light path be precisely follow involve great manual calibration all component be attach to the breadboard so that they seem approximately correctly align board be then place at the desire path of l and l so that all arm of the interferometer be optically isolated this be to prevent uninterfered light passing directly to the detector and affect result to isolate the detector from external light a black box cover the experiment while reading be be take the distance between each mirror and the beamsplitter be measure use a ruler and adjust until they be approximately equal so that d these measurement do not require great precision a so long a the null point be with the mm movement range of the translate mirror it would be locatable a green laser be then use to calibrate the set up and find the null point this laser be use a it be a coherent monochromatic visible light source whose interference pattern be clear to the naked eye a all other component by then be properly align the only adjustment to be make to find fringe be the inclination of the fix base mirror by adjust the inclination haidinger fringe become visible the mirror be be adjust until the centre of the central fringe be exactly position so that be incident of the detector to get an intuition a to the position of the null point the detector be move so that fringe move towards the centre and disappear a in figure the green laser be then replace with a tungsten lamp also attach to the tube a scan over a large position range about the suspect position where d be perform to precisely locate the null point see a a peak in intensity a slow scan over a small region contain the null point be perform to obtain useful data around the peak this be then repeat with the green and yellow filter separately the filter be attach to the output side of the beamsplitter such that the filter be the last component the light pas through before reach the detector the record spectrum be then pas through the scipy fft module a quick computational method of perform fourier transforms from the transforms amplitude be plot against wavelength the mean wavelength of each source could then be found an algorithm be write that tracked the maximum value of the curve across the position spectrum essentially outline the envelope of the peak these envelope be then fit to gaussian curve which give standard deviation a a fit coefficient the fwhm be determine use equation from this the spectral width of the wavelength of the source with and without filter be found use equation and a spike in signal intensity be observe in the longer range scan of the unfiltered tungsten lamp figure repeat the fig a scan over a large proportion of the mm range with a clear spike in instensity between and mm this scan be execute at mms scan at a slow speed over a small region allow the spike to be analyse in great detail a gaussian be then fit to the data this fit coefficient of the gaussian give m use equation the fwhm be calculate a m the process be then repeat about the same null point with the green filter and then yellow filter attach with the green filter attach the fit gaussian give m with a correspond fwhm of m the yellow filter result be of the same order with m and a fwhm of m the data be pas through the fft algorithm to give wavelength spectrum the significantly broader path difference plot for the filter light in comparison to the unfiltered lamp light correspond to much more localise wavelength distribution the mean wavelength of each spectrum be list in table i alongside the generally accepted range for that colour range the spectral width of each spectrum calculate use each coherence length l and equation and be list in table i a l it be clear that these value be significantly small than the true width of the spectrum see in figure fig the wavelength spectrum for the unfiltered green filter and yellow filter tungsten lamp the black green and yellow line correspond to the unfiltered green filter and yellow filter light respectively result normalise so that the maximum value for each spectrum be colour unfiltered nm nm nm nm green nm nm nm nm yellow nm nm nm nm although the wavelength spectrum do not show a clear gaussian form fwhm can be found use the normalise amplitude from figure and find the width of a spectrum at amplitude this provide an alternative measurement of the spectral width for wavelength list in the table a f w hm these value be more appropriate than those label l it be clear that the unfiltered light span a great range of wavelength than nm a such the quote result use f w hm a the reason for this discrepancy be unclear and be worthy of far investigation the unfiltered wavelength in figure constitute many colour in the visible range which can be visually demonstrate by look at the fringe pattern produce by the ft both filter wavelength distribution show a sharp nearsymmetrical peak this be indicative of narrow band pass filter the unfiltered tungsten lamp show the gradual increase in amplitude with increase wavelength until around nm expect for an incandescent light source a the mean wavelength of the tungsten lamp be outside the visible range the detector be show some ability to detect infra red wavelength it be also know a see in figure that the tungsten lamp be produce wavelength great than those see in figure the gradual die off of wavelength intensity between nm be due to the detector not be able to record these wavelength a oppose to an effect of the lamp in all fourier transform wavelength plot the unit on the y ax hold little significance a to clearly see fringe the gain of the detector be adjust this mean that the amplitude of the signal be only relevant to data from the same scan not comparison between scan this mean the analysis be limited in only show the range of wavelength pas not demonstrate any secondary effect the filter may have on intensity a perfect filter would not alter intensity of the incident light however this be unlikely to be the case with real experimental data to investigate this a single value of detector gain could be identify at which all fringe be sufficiently visible the rest of the analysis would be identical except that the intensity of the green and yellow result could be compare to the unfiltered result and the attenuate effect of the filter could be measure another limitation of this method analyse filter be the lack of information regard whether they be absorptive or dichroic a the difference between the two type be in how they filter and not what they filter study the filter spectrum do not distinguish between the two to gain a deeper understand of the filter their nature must either be know from the manufacturer or determine through an another alternative empirical technique a possible method of experimental identification could be measure the temperature of the filter while in use it would be expect that in absorb certain frequency the absorptive filter would become warmer to a great extent than the dichroic filter a major shortcoming of this experiment be the lack of proper error analysis often in the analysis of spectrum standard deviation be quote a error this value be incorporate into the calculate value for l which be then reject anyway the value use for act a a broad uncertainty for a the true value for the mean must lie within the spectral range for wavelength to develop this experiment a more thorough method of handle error analysis must be developed in figure a show a less smooth curve than both a and b with few data point this be a all three interferograms be produce by move the translate mirror at the same speed ms even though the unfiltered result be over a much small distance range although time consume if the experiment be to be repeat it would be worth repeat the process for the unfiltered lamp at a slow speed the nyquist frequency be not consider during the analysis of this experiment a the determine wavelength fell within the expect region and the spectrum take expect shape thus it be extremely improbable that we be sample at an inappropriate frequency however if the experiment be repeat under different condition care would have to be take to ensure the sample frequency be great than the nyquist frequency the aim of the experiment be to analyse the nature of two optical filter when use with a tungsten lamp use a fourier transform spectrometer interferograms of the detect signal intensity against position of the translate mirror be then plot and fit to gaussian curve from which the coherence length and subsequently spectral width of the source be determine these value be found to be unrepresentative of the measure spectrum these interferograms be then transform to frequency spectrum use a fft algorithm from which the wavelength of the source be found along with new value for spectral width for wavelength the unfiltered light be found to have nm nm the filter be found to limit this to green nm green nm and yellow nm yellow nm in order to improve the analysis of the filter the experiment could be repeat with fix gain so the filter effect on intensity could be determine the absorptive or dichroic nature of the filter could also be investigate a more thorough method of handle error should also be employ",
            "this report present a method which make use of the grate spectrometer for study the spectmm of light of a hydrogen lamp and use this spectmm to determine the rydberg constant the latter be cmcial in spectroscopy and a it can be write a the product of several fundamental constant it can act a an auxiliary constant in detennining physic fundamental constant in this experiment which be cruried out on the th of december the wavelength of three distinct visible colour nrunely the red blue and violet colour of the hydrogen lrunp have be detennined and which be then use in detennining the rydberg constant the value obtain in this experiment for the latter be x m t he grate spectrometer be any instrnment use for detemuning the wavelength of a light source or that of it component the light source monochromatic or polychromatic can be any luminous body from the solid state to the gaseous state be it natural or not the diffraction grate u the principle of interference to spectrnm light into it component colour in this case instead of use a cornell single or a young double slit grate the grate have a ve y large number of equally space very naitow slit tl e obltcll lt tn collllna r figure show a sketch of the different label component and adjustment of a typical grate spectrometer in a laboratory use for examine the spectnuu oflight it can be see that the grate spectrometer consists of a slit w hose opening can be adjust use the screw at g to control the amount of light passing through the collimator the latter be use to produce pru allel beam of light the prism table be use to suppo t the grate between the collimator and telescope there the grate disperse the light into it different component colour there be also a vemier calliperlike compass below the prism table on the rotate base which allows u to measure angle see the theory sect ion for more detail if we look through the eyepiece we can see these different component a well a the original light the screw at b c d and e be use to lock a setup use for the experiment in place a hydrogen lamp be a slim tube consist of two electrode one at each end the lamp contains hydrogen gas at low pressure if we apply a high voltage across the electrode a bright pink glow be enutted by the tube only certain colour can be see with naked eye through the eyepiece when the light be pas through a grate because the other colour be either in the infra red or ultra violet region of the light spectmm figure show on the right the light emit by the hydrogen lamp when no grate be present and on the left the three colour which can be see with the spectrometer when the pink light pas through a grate a principal maximum be a region where the intensity of a diffract light passing through a grate be the high l l page whereas a minimum be where the intensity of the diffract light be low principal maximum occur when the phase difference between adjacent ray of a light of wavelength be an integer multiple m of where m be the order number the formula for the phase difference be give by the path difference be d sin and therefore we obtain the phase angle of the first minimum with n slit illuminate be give by transition wavelength in hydrogen be give via where r be the rydberg constant and n and p be integer represent the energy level of the initial and final state of the atom respectively equation give the balmer series in hydrogen with p and n depend on the colour of the spectrum the band theory suggests that in the atom of a gas the electron orbit the nucleus in a set of energy level by supply sufficient energy to the electron the electron can translate from a low energy level to a high one depend of the distance between the low n and high level n and so depend on the amount of energy supply to the electron we say that electron on high energy level be in the excite state however these excite electron can not remain excited for ever and so they eventually fall back to their original energy level in do so the electron emit a packet of energy know a a photon of a certain wavelength transition wavelength for the balmer series the transition wavelength in hydrogen be in the visible part of the spectrum before start the experiment with the hydrogen lamp the spectrometer need to be calibrate prior the eye piece be make to focus on the cross hair by adjust the screw on the telescope the set should cause a little strain on the eye a possible the camera lens be then focus on a distant object say a building s window which should be to metre away so a there be no parallax between the image and the cross hair after this adjustment the telescope be align with the axis of the collimator a sodium lamp be use for the last part of the spectrometer calibration instead of the hydrogen lamp itself because unlike the hydrogen lamp the line spectrum of the light from the monochromatic sodium lamp do not fade away a the lamp get hotter therefore there be no need to rush when calibrate the spectrometer and so we can calibrate the figure show the path difference between two neighbour light ray when a light pas through a grate slit with space d figure represent the balmer transition in a hydrogen atom for different initial state n and final state p depend on the initial state level assort colour be see figure show the setup of the grate spectrometer light from the source pas through the collimator and come out of it a parallel beam the light then pas through the grate where it be diffract into it component use the telescope which can be rotate a magnify image of the different order can be see with the sodium lamp light on the slit at the collimator be open slightly and the focus of the collimator be adjust until we obtain a sharp image of one of the order at the cross hair look at the scale of angle on the rotate base the telescope be rotate precisely degree and be fix in that position this scale consists of a main scale which be in degree and a vemier scale o which be in minute just like with a standard vemier calliper the vemier zero be the reference division when reading on the main scale then the vernier scale division which coincides with one of the main scale division be use to calculate the final angle minute on the vemier scale equal to on the main scale let u say for instance we deliberately coincide the vemier zero scale with the main scale division to tum the telescope by the division on the main scale should coincide with the vemier zero division which should remain in a fix position that be only the main scale should be rotate retuming to the spectrometer calibration a suitable grate be place on the table between the collimator and the telescope the grate use in this experiment have approximately line per mm the table be rotate until a reflect image of the entrance slit can be see in the eyepiece this usually occurs when the plane of the grate be at a from the collimator axis the telescope be then move around until we get a diffract image of the slit at an enough large angle of diffraction ohl h to left on plane of paper we consider order to the right anticlockwise of the zero order to be positive while order on the right clockwise to b e negative to minimise en ors when take measurement of angle it be well to measure the angle of the order on both side of the zero order the data for the order number and their con esponding position from the zero order of the sodium lamp s light be tabulate use these data a graph of d sin against order m eq be plot use a computer with the program language python by write some function both the gradient of the graph and the uncertainty in the gradient can be obtain on the computer the gradient of the graph give u a if the calculate wavelength of the light be between run and run then the spectrometer have be accurately calibrate and so we can begin the ma in experiment with the hydrogen lamp after have obtain the wavelength of the different colour from the hydrogen lamp with the same method mention in the previous paragraph a graph of a against n p eq be plot and the gradient uncertainty can b e obtain use python the gradient of this graph give u the negative of the rydberg s constant the wavelength of sodium obtain in this experiment be run the latter do not fall in the range between run and run even if we consider the uncertainty associate with it this prof that the calibration be not properly do or and there be lot of systematic e rnrs the graph figure below show the straight line relationship of d sin against order m for the second graph figure which depicts the plot of the three visible component of hydrogen the w avelength obtain for the red component be run that of the blue component be nm and finally the wavelength of the violet component be nm the wavelength of the red and blue l determine the wavelength of hydrogen emission spectrum component fall in the officially accepted range which be between nm run and betv een nm nm respectively if we consider the uncertainty associate with them how ever the calculate value for the violet co ponent do not fall in the range run nm which mean there be lot of source of eitor during it measurement the intersection of the line give an indication how accurately the grate spectrometer w a calibrate the closer the intersection be to the zero order m the well the calibration of the grate spectrometer be ultimately the gradient of the final graph figure which be a plot of a against l n l p give u the negative of the rydberg constant for the red colour n for the blue colour n and for the violet one n thus the positive value of the latter obtain computationally be then the main aim of the experiment be to detennine the rydberg constant roo use a hydrogen lamp and the grate spectroscopy method a sodium lamp be use durin the calibration of the grate spectrometer during the experiment there be a lot of problem and systematic eitors w e encounter and this can be show that our result obtain for the rydberg constant x m be very far from the officially accepted value m the first problem be that after sometimes it become ve y difficult to position accurately the cross hair on the violet olow spectrum of the hydrogen light due to the ve y low light m tens ty we could not even see the cross hair through the eyepiece secondly we knew during the experiment that a the hydrogen lamp get more and more hot the colour component of the latter fade away and so we decide to tum the lamp off for the lamp to cool down however when we try to tum it on again the lamp never light on again and so we have to change our hydrogen lamp therefore i think that take measurement of the violet colour from another hydrogen lamp induced significant uncertainty in our result the third problem be that it be quite difficult to read the scale on the spectrometer rotate base even use a loop equip with a light bulb while try to read the scale of angle it cause some eye strained to address the first and second problem a deuterium lamp can be use to detemune the rydberg constant instead of a hydrogen lamp because the deuterium lamp give great intensity and have a longer life even though it cost more the third problem can be solve by use a grate spectrometer which have a digital scale of angle so that the measurement of the position of the order be more accurate and easy to read even though we do not get the result we hop for this experiment taught u how to calibrate a grate spectrometer how to use it to determine the rydberg constant and how difficult it be to determine the latter to high accuracy",
            "the rydberg constant be a good approximation for the energy of hydrogen in ground state it be also utilised in spectroscopy a it precisely predicts the balmer series the rydberg constant be obtain via a spectrometer and equation ii this apparatus be use to take reference angle of spectral line and plot a graph of sin a a function of order the gradient be utilised in the rydberg formula to produce a value of this calculate figure be from the accepted value and be deem to be of a high degree of precision he investigation involve the measurement of the balmer series of the hydrogen spectrum and produce data which accurately deduce the rydberg constant r the rydberg constant be the wavenumber of a photon with the minimum energy need to ionise a hydrogen atom from ground state the constant can be derive from other fundamental constant found in the bohr model the value of r be use in the rydberg formula which describes the wavelength of all elemental spectral line the two main spectrum see in the first investigation be continuous and emission a heat tungsten filament can emit spectrum where the intensity varies a a function of wavelength this be know a a continuous spectrum hot and electrically excite gas produce emission line spectrum which be characterise by the appearance of slit of define wavelength on the spectrometer when current pas through a tube contain hydrogen gas the electron become excite and move to a high energy level when they return to their original energy state they emit a photon of correspond energy the spectrum of light can be analyse use a spectrometer which consists of three key instrument see figure iii light from the source pas through the slit into the lens which collimates the light ray a diffraction grate be utilised to disperse the light into a spectrum this spectrum be then focus and align onto the crosshair by employ an eyepiece the apparatus be employ a it be precise with the scale be graduate in arcminute the difference in intensity of the spectral line in a spectrum can be use to determine the temperature of the gas whilst examine the line width can provide information regard the density of the gas a diffraction grate be comprise of many narrowly space parallel slit the separation between the centre of each slit be d for light ray of wavelength minimum can be observe when the phase difference be an odd integer multiple of e g maximum occur when the phase difference be an even integer multiple of e g the phase difference be therefore where m be the order number the path difference can be write a dsin a show in figure iii so the equation can be simplify to the phase angle of the first minimum can be calculate with the equation where n represent the number of slit the resolve power be the minimum distance between two point so that they can be distinguish the minimum of one diffraction pattern occurs at the same position a the maximum of a second diffraction pattern a show in the m th maximum occurs at an angle so that the minimum angle be define a the intensity at the midpoint of two equal line be therefore less than the intensity at the peak meaning that the two line be distinct from one another the formula for the wavelength of a photon emit from a hydrogen atom a an transition between energy state be where p be the final energy state and n be the initial energy state both of which be integer specifically for the balmer series in hydrogen p and n when an electron drop from energy level n to it produce a photon of a specific wavelength in the visible spectrum the colour of light emit can be determine use equation ii and a colour chart light from the source e g a hydrogen lamp pas through the narrow slit whose width could be adjust depend on light intensity a the light ray pas through the collimator they become parallel the light then pas through the camera lens onto the crosshair where the image be magnify via the eyepiece the eyepiece be focus onto the cross wire at a view distance of cm so that eyestrain be reduce whilst take measurement the camera lens be align so that an object m away be focus onto the cross wire this ensure that parallax error be minimise the telescope be align with the centre line of the collimator and a sodium lamp be position with respect to the slit a sodium lamp be use in setup rather than a hydrogen lamp a the latter would overheat after short period of time and switch off the focus of the collimator be then adjust so that an image of the slit be align with the cross wire this be complete without adjust the camera focus the demonstrator recommend rotate the cross wire to form a rather than a a this meant that slit be easily visible the slow motion drive and clamp screw be tune and final adjustment be make to the camera and collimator the telescope be rotate degree and clamped into position a slit grate be place into the holder and a ruler be use to ensure it be vertical the grate table be rotate until the diffraction grate be at a degree angle from the incident light ray an initial observation of the position of the slit s reflect image in the telescope be make and the height of the image be alter via the adjustment screw beneath the grate table reading on both scale the main scale which be graduate in degree and the secondary scale which be graduate in arcminute be take and the grate be then move through degree ensure that the eyepiece be situate at degree to the incident light ray the telescope be reposition temporarily so approximate position of the spectral line could be note the telescope be then revolve so that diffract image of the slit could be observe for different order e g the error record on the result for the setup of the sodium lamp be degree and arcminute these value be base on the scale s precision the error also consider difference between experimenter s and experimenter s reading table illustrates the initial measurement make when set up the sodium lamp the preliminary result for the setup of the experiment show in table i be not usable a the eyepiece be not focus on the same maximum this meant that the reference angle be not suitable for take result the uncertainty in the preliminary and final result be close to negligible a the percentage uncertainty be in the magnitude of for both the preliminary and final result a sodium lamp be substitute for a hydrogen lamp the hydrogen lamp be switch off when not in use to prevent overheat final adjustment be make to the slit size before measurement be take to ensure optimum intensity and resolution preliminary result be then record for each transition wavelength be measure against both positive and negative order some data value in the table have be replace by n a which signifies that the reference angle for that order could not be obtain this be primarily due to light pollution from other lamp meaning that it be difficult to identify fringe line a the order m increase from to the reference angle decrease equation ii implies that if sin be plot against the order m it will produce a linear relationship table iv the data for the reference angle be an average of the two data set produce by the experimenter the result be take between order and where the range of the angle for red be from to the range for blue be from to and the range for purple be from to the final measurement follow the same general relationship a the preliminary measurement however the decrease in the reference angle becomes more consistent diminish by approximately for red for blue and for purple whereas in the preliminary investigation the reference angle decrease by vary amount the main source of uncertainty with the result be due to parallax error an attempt to resolve this be make by take reading when level with the scale another source of error be due to the thickness of the fringe consequently all measurement be take in the centre of the fringe random error arose a it be difficult to see the cross in the dark and so the fringe be not consistently align this be resolve by periodically turn on the lamp to check alignment other potential source of systematic error be air pressure humidity and occasional defocus of the telescope both air pressure and humidity remain roughly constant during the investigation hence it be unnecessary to account for these variable moreover the defocus of the telescope be temporary and so be not problematic a with the error in the setup of the sodium lamp the percentage uncertainty in the reference angle be very small in the order of the percentage error in the gradient be very small in the order of for red and for purple this be due to the small y error bar and the lack of anomalous point in figure i however the error in the y intercept be very large a the percentage error have a magnitude of this be a the y intercept be small whilst the absolute error have remain roughly constant however the percentage error in the yintercept be unimportant a it be not use in calculate the rydberg constant a slit grate be use so d be equal to m use equation ii the value of d and the gradient the calculate rydberg constant be m the error in this number can be calculate by use the equation where x be the error in the gradient of red this produce a figure of m see algebraic manipulation for both value in lab book the primary aim of the investigation be to measure the spectrum of hydrogen and to obtain an accurate value for the rydberg constant the secondary aim be to obtain an error of magnitude of less than the method involve make observation of the spectral line through the telescope the value of the reference angle on both the main and secondary scale be note a graph be produce of sin against order m and a gradient be determine from this the rydberg constant be obtain the success of the investigation be determine a value of the rydberg constant within one thousandth of the accepted value and produce a graph with no observable anomaly and a percentage error less than one percent the main failure of the experiment be produce an error of magnitude which come into conflict with the secondary aim the key achievement of the experiment be obtain a strong positive correlation for the linear plot for figure i and produce strong data analysis consist of error in both the gradient and y intercept one improvement to the experimental method would be monitoring the environmental factor such a humidity and air pressure",
            "in this experiment we use a grate spectrometer to observe the emission line spectrum of a hydrogen lamp in order to calculate the rydberg constant the spectral line we observe be part of the balmer series and the diffraction angle for order to for the colour blue green and red be measure the sine of the angle that the emission line occur at be plot a a function of the order to calculate the correspond wavelength which enable u to calculate the rydberg constant for each colour a value for the rydberg constant be calculate the mean value be the accepted value be the percentage error be however the accepted value lie outside our uncertainty the small uncertainty obtain be due to the small error in the diffraction angle arcminute and negligible error in the diffraction grate space t he hydrogen lamp that we will be use be a thin discharge tube that contains gaseous hydrogen at low temperature apply a high potential difference across the tube excites electron of the hydrogen atom so that they be elevate to a high energy state when the electron transition back down to a quantise level of low energy a photon be emit the energy of the photon be equal to the energy difference between the level transition the hydrogen atom in our discharge tube will be emit visible light and we will be use a diffraction grate to split up the light into it constituent wavelength the result series of spectral line be part of the balmer series and be described by the rydberg formula see theory equation when electron transition from quantise energy level n to the energy level of principal quantum number n we be observe the balmer line rather than other line from other hydrogen spectral series because the balmer line lie in the visible part of the spectrum in this experiment we will first use the grate spectrometer to measure the angle of diffraction that the colour blue green and red undergo in order to calculate their wavelength use the grate equation from this a value for the rydberg constant for hydrogen r h can be obtain a it be know what transition be make by an electron in the hydrogen atom to emit each wavelength of light we be analyse study of the balmer series and therefore use of the rydberg constant have it application due to the abundance of hydrogen in the universe an example be in astronomy particularly in the classification of star base on their surface temperature the strength or weakness of spectral line like those in the balmer series can indicate temperature we be calculate the rydberg constant because of it important role in the rydberg formula which describes the wavelength of light emit when an electron transition from a high energy energy shell to a low energy shell within the atom this formula be of great importance due to it application and due to it contribution to the development and evolution of the atomic model chemical element can only absorb and emit photon with quantise wavelength for many chemical element these wavelength be described by the rydberg formula where b be the wavelength of the emit light r be the rydberg constant and n i and n f be the energy level or principal quantum number of the orbitals occupy by the electron before and after it transition respectively for our hydrogen discharge lamp the result series of spectral line be call the balmer series the balmer line be the result of the follow process firstly an electron in the hydrogen atom absorbs energy in this case supply from the apply voltage across the tube and accord to the bohr model of the atom the energy absorbed by an electron to transition to a high energy level in this experiment to n or must be a multiple of an amount of energy equal to hcr where h be plank s constant and c be the speed of light in vacuo and can not be any amount of energy secondly once the electron have absorbed a quantum of sufficient energy it then transition or quantum leap to a high more unstable orbital n i this be follow by a spontaneous transition to the more stable orbital of principal quantum number n f emit energy equal to the difference in energy between the two energy level in the form of a photon the process of an electron transition from an excite state to a low energy state and in the process emit a photon be call spontaneous emission other series can be obtain such a the lyman series n f or the paschen series n f set n f the rydberg equation becomes the balmer formula and the constant becomes r h the rydberg constant for hydrogen it can be show that the rydberg constant for hydrogen can be express in term of other more fundamental constant electron charge e the mass of an electron m e permittivity of free space plank s constant h and the speed of light in vacuo c in the follow equation see appendix a for derivation the result value for the rydberg constant for hydrogen be m for the emission of a photon of blue light the principal quantum number of an electron in the excite state be n i for green n i and for red n i we will determine with a grate spectrometer and use of the grate equation see equation the wavelength of the aforementioned colour in the grate spectrometer set up light from the hydrogen lamp first pas through a slit to make a point source of light the collimator lens make the light ray parallel so it can then be diffract through a grate the wave energy spread out behind the grate because the slit space d be comparable in size to the wavelength of visible light d line per mm the wave that spread out interfere and the result be spectral line the zeroth order spectral line occur at a diffraction angle of zero degree the high the order spectral line the great the angle the light have be diffract through a telescope be move to locate the various order and focus the spectral line to make a measurement of the diffraction angle if the difference in path to a point some distance away much great than d between two slit be an integer number m of wavelength the two wave will meet at that point in phase result in a maximum a region of constructive interference see in figure the difference in path be also equal to d sin the constituent colour have different wavelength so each correspond maximum for each colour have a different diffraction angle fig show the expect intensity of light from a discharge tube akin to the hydrogen lamp we be use a a function of the diffraction angle if only slit be illuminate the large peak be principal maximum and the small peak be secondary maximum since the intensity of secondary maximum be much less than principal maximum distinct spectral line be resolve the position of spectral line occur at angle of m be m be call the order number and be an integer before measurement of the diffraction angle can be make the diffraction grate must be align with the collimator first the eyepiece be focus on the cross hair to eliminate any eye strain when view through it the camera lens be focus use the focus knob see fig on a distant object so that the telescope be set up to receive parallel light since light passing through the collimator in the spectrometer will be become parallel a sharp image of the entrance slit attach to the collimator when view through the telescope be achieve by adjust the collimator focus and slit size such that an image of a thin slit be form at the cross hair when the telescope be in line with the collimator the telescope be then move through precisely use the vernier scale so that it be perpendicular to the axis of the collimator and clamped in position use the telescope rotation lock screw a diffraction grate with slit space line per mm be insert into the mount with ruling vertical like the entrance slit so that the order produce by the diffraction be horizontally align and therefore can be view with the telescope the entrance slit be then illuminate with a sodium lamp instead of hydrogen lamp because the hydrogen lamp can overheat and cease to emit light if left on for extend period of time and the grate and mount be then rotate by the spectrometer table until it reflect light from the collimator into the telescope the slit image be then centre with the cross hair and fine adjustment knob since the telescope and collimator be at the diffraction grate be therefore to the collimator and telescope the diffraction grate be then rotate precisely through use the vernier scale so that the plane of the diffraction grate be perpendicular to light from the collimator when switch on the hydrogen lamp with a potential difference of v across it the prominent colour we could observe up to the rd order be blue green and red background light from lamp in the room limited the number or order we could see a high order above become too faint the diffraction angle be measure for order to by move the telescope so that the centre of the cross hair reside on each appropriate spectral line the vernier scale on the spectrometer be accurate to arc minute show from above the way in which the telescope can be position to find the spectral line so that diffraction angle can be measure when the angle between the normal to the grate and the telescope be our vernier scale read and arcminute we first record all the angle then subtract them from and arcminute to correct for the systematic error the sine of the diffraction angle in radian be plot a a function of the order number m the gradient be equal to sin m and be equal to wavelength of the light divide by the slit space d obtain by re arranging the grate equation equation the gradient multiply by the slit space d be equal to the wavelength of the observe balmer series colour b and the principal quantum number n i of the electron before the spontaneous emission be and for blue green and red respectively the value for r h be hence calculate for each wavelength by use equation spectral line have some thickness and be not infinitely sharp therefore there be an uncertainty associate with the diffraction angle spectral line have this thickness because the atom emit the light be move relative to the observer and the energy level can not be define to exceedingly high or infinite precision due to heisenberg s uncertainty principle see appendix b the angle be measure to the left and right of the first order blue spectral line we measure this angle to be arcminute the error in d be assume to be negligible and the error in the diffraction angle be assume to be fix at arcminute the error in the gradient be calculate by find the first entry in the covariance matrix for the data for each colour this be do in the computer program language python figure show the plot for each colour observe in the hydrogen balmer series use the correct angle where a reading of and arcminute corresponds to between the normal to the diffraction grate and telescope the vertical error bar be very small for each plot a the spectral line be thin result in a small error in the diffraction angle another factor that contribute to small vertical error bar be the high accuracy of the vernier scale to the near arcminute the plot for blue light result in the great error for r h an order of magnitude great than for green and red see table i a source of random error enter the experiment a the mark of the vernier scale be difficult to see and sometimes there be ambiguity a to which of the mark line up indicate the minute of arc the ambiguity if there be any be always with neighbour mark i estimate this error in diffraction angle to be arcminute a the uncertainty be never more than two division to the left or to the right of the mark we chose to be line up add this to the uncertainty due to the assume thickness of the spectral line arcminute the result error be arcminute in the diffraction angle however because arcminute be quite a small error in comparison to arcminute the error in the gradient and error bar have not change noticeably when introduce an improve way of accounting for this random error which by definition change for each measurement be to note down after each reading which mark could also be line up then the angle record would be the mean of the angle half way between the small and great angle because the ambiguity exist between neighbour mark and the uncertainty would be half the difference between the great and small potential diffraction angle there be no horizontal error bar because the principal maximum be discrete and countable table i below display the result use the gradient of figure and equation to calculate the wavelength b table i also show the value of r h calculate use the rydberg formula equation set n f for each colour the error be denote by with a subscript to denote the quantity that the error be associate with and superscript with the colour it be associate with for example blue r h be the error in the value r h that be calculate with blue light the percentage error in the calculate value of r h for blue the error in our mean value for r h constitutes a possible variation in the mean of less than this error be small because the error in the diffraction angle measure be very small arcminute include the estimate random error which be assume to be fix but may have change and no other error be consider a the error in the line per mm of the diffraction grate be assume to be negligible the percentage error in the mean r h be however the accepted theoretical value of the rydberg constant for hydrogen lie outside our uncertainty a possible source of systematic error that may have contribute to the overall increase in our value for the mean r h may include incorrect calibration when align the diffraction grate this be unlikely to be the main source of error because the value for r h when use blue light be less than the accepted value this mean the primary source of error be likely to be random error the aim of the experiment be to calculate rydberg constant for hydrogen by take measurement of the hydrogen balmer series use a grate spectrometer to do this light from a hydrogen lamp be make parallel and pas through a diffraction grate each colour in the balmer series blue green and red diffract by different angle which be measure and the sine of the angle be plot a a function of the order of the spectral line we then calculate three value for the rydberg constant for hydrogen r h for each colour use the gradient of the plot our mean value for r h be the mean differs by of the actual accepted value which lie outside our uncertainty an improvement to our experiment would be to measure the diffraction angle to high order which would reduce the error in the gradient in order to achieve this we would have to perform the experiment in a darker room with no lamp so that high order for all colour be make visible a poor assumption be also make that the error in the diffraction angle be fix however an improvement would be to measure the thickness of each of the spectral line another improvement would be to measure diffraction angle spectral order go in the negative direction this would enable u to calculate more value for r h thus reduce the effect of random error appendix a derivation of the rydberg formula use niels bohr s picture of the atom we consider an electron orbit a proton where the centripetal and coulomb force equate the quantity r be the radius of the electron s orbit and v be the tangential velocity of the electron bohr postulate that the angular momentum l m e vr be an integer number n of use equation and we can solve for r and v r n h e m e and v the total energy be the sum of the kinetic energy k e with a little simplification the integer n be the principal quantum number which describes the radius and therefore energy of the orbit the electron be in when an electron transition from one orbit of energy e i at quantum number n n i to another energy of e f at n n f the change in energy e be e f e i which be the spontaneous transition of an electron from an excite state to a low energy state emits a photon with energy equal to e since the energy e of a photon be give by hc where lambda be the wavelength of the photon we can substitute e e into equation hence obtain the rydberg formula where the constant term together be the rydberg constant the uncertainty principle in term of the energy e of the excite state and the time interval t for the transition to the ground state be approximately give by e t h where h h use equation a photon of energy e hf where f be the frequency emit in this transition will have a range of frequency f this range of possible frequency result in what be call natural broadening ",
            "the rydberg constant have connection with many fundamental constant like planck s constant make it one of the most fundamental constant in atomic physic it first appear in a an empirical number when johannes rydberg a swedish physicist publish his result use his model of hydrogen atom niels bohr prove that the rydberg constant be not just a number but a fundamental constant since the rydberg constant can be measure very precisely and accurately it offer invaluable help in determine other basic constant the hydrogen bright red ha line be the first and most important spectral line in balmer series the balmer series be a series of emission spectral line of hydrogen result from electron transition from high energy level down to the energy level with principal quantum number equal to two the ha spectral line enable scientist over century by measure it wavelength to finally determine the rydberg constant the experiment for determine the rydberg constant involves the photoelectric effect described by albert einstein in and bohr s model of the hydrogen atom introduce in bohr state that the electron move around the nucleus of an atom under the influence of the electrostatic force between the electron and the nucleus act a the centripetal force accord to bohr the electron can only move in an allow orbit a oppose to infinity of orbit in classical mechanic with total energy at the nth quantum state equal to the sum of kinetic energy and potential energy the total energy at the nth quantum state be define by where be the electron s mass be the permittivity of free space be the radius at nth orbit be the electron charge and be the electron s velocity the theory of the photoelectric effect state that light consists of small packet of energy call photon and the energy of each photon be proportional to it frequency the photoelectric effect be described by the follow equation the energy of a photon be give by where be the planck s constant be the frequency of the photon c be the speed of light be the wavelength of the photon and and be the energy of the initial and final state of the atom respectively when an atom gain energy the electron move from a low energy level to a high one during excitation this excite state be not stable and the electron drop from a high energy level to a low one result in the emission of a photon whose energy be equal to the energy difference between the final and initial state of the atom therefore the colour of the light emit can be determine by calculate the frequency of the photon emit use formula hence the balmer series in hydrogen can be give by equation with and the idea of bohr s model of the atom be involve when the atom drop from the nth energy level to the second result in photon emission with specific wavelength depend on n use equation the wavelength value can be calculate and through the use of the standard colour spectrum chart the colour of the light emit can be deduce an example of a balmer series transition be show in figure the main aim of the experiment carry out be to measure the hydrogen spectrum and use the data obtain to determine the rydberg constant which represent the wavenumber of the photon with the least energy that cause the ionisation of the hydrogen atom from it ground state the rydberg constant name after johannes rydberg can be express by the follow formula where be the fine structure constant be the planck s constant be the speed of light be the mass of the electron the fine structure constant indicates how strong the electromagnetic interaction between elementary charge particle be and be give by a where be the electron charge be the permittivity of free space be the planck s constant and be the speed of light the transition wavelength in hydrogen be give by determine the rydberg constant use the grate spectrometer where and be the energy level of the initial and final state of the atom respectively and be the rydberg constant the spectrometer can be use to help u determine the transition wavelength use the follow formula know a the grate equation the wavelength be give by where be the path difference between neighbour ray be the average diffraction angle in a certain order number and be the average angle at zeroth order and be the order number during this experiment the diffraction grate of line per mm be use for the diffraction grate space to be determine the follow equation be use where represent the number of line equal to the calculate value of be equal to for our experiment a straight line of best fit graph of against can be drawn use python with gradient equal to therefore can be determine use the gradient and through formula the rydberg constant can be deduce fig h alpha be produce when the electron move from n to n this be the first line of the balmer series and for hydrogen this transition result in the emission of a photon of wavelength nm red source http hyperphysics phy astr gsu edu hbase hyde html another aim of this experiment be to understand how to use the spectrometer a very useful instrument for physicist study star flame plasma and semiconductor the spectrometer be an instrument use so that the spectrum of light can be study it u a lens or mirror to produce a beam of light that be collimate and with a grate or a prism dispersion of the light occurs the eyepiece be use to focus and view the disperse spectrum the grate be a large number of very narrow slit equally space with separation a principal maximum occurs for light of wavelength when the phase difference between neighbour ray be an integer multiple of denote by this idea be outline by the follow equation where be the path difference be the order number and be the wavelength simplify this formula will give equation know a the grate equation the experimental procedure begin by set up the grate spectrometer our primary aim be to take measurement of the diffraction angle at each order number for the red and blue hydrogen spectral line and determine the average diffraction angle for each order number in order to determine the value of wavelength a straight line graph of against have to be drawn whose gradient would be equal to therefore enable u to calculate the value of sin at each diffraction order have to be determine by subtract the average diffraction angle at each specific order by the average angle at zeroth order and then take the sine of the difference between the two angle finally use formula the rydberg constant for each spectral line could be determine the diffraction angle be measure use the vernier scale that read at sixtieth of a degree there be a risk of random error appear when use the vernier scale due to parallax error through the use of the magnify glass the effect of parallax error be minimise the angle at zeroth order be determine for the red and blue spectral line the diffraction angle measurement be repeat three time at each order number and the average be take so that the reliability of our measurement could be enhance and so that random error could be encounter possible source of systematic error be humidity and background light permittivity of free space varies with humidity therefore this affect our value of the rydberg constant because the rydberg constant a show by formula and depends on the value of the permittivity of free space therefore systematic error be introduce in the experiment background light make our eye less sensitive therefore we can not see well hence we could end up miss line for the effect of background light on our measurement to be minimise a black card be take a hole be punch in it and the card be then stuck around the collimator another method we use to minimise the effect of background light be to cover the apparatus with a black cloth because it prevent the external light from go into the collimator and show up on the image after determine the average diffraction angle in each order number the follow formula have to be use to determine the value of sin which be the y coordinates for plot the sin against graph y coordinate where be the average diffraction angle at a specific order number and be the average angle at zeroth order a show by formula use python to carry out our calculation the average diffraction angle determine for each diffraction order be subtract with the average angle measure at zeroth order and then the sine of the difference between the angle be take after determine the value of sin for each order number a straight line graph of against be drawn use python with gradient equal to both the slope of the straight line for the two spectral line together with their associate uncertainty be determine use python thereby enable u to determine the wavelength use formula the rydberg constant for the red and blue spectral line be deduce to calculate the rydberg constant use formula for the two spectral line the balmer series transition be consider therefore use n and p for the calculation of the rydberg constant of the blue spectral line and n p for the rydberg constant determination of the red spectral line a sample calculation for the determination of the wavelength of the red spectral line be show where be the slope of the graph equal to and be the diffraction grate space use formula the calculate value of the rydberg constant for the red spectral line be the same method be use for the blue spectral line the slope of the straight line of best fit for the blue spectral line be where again both the slope together with it associate uncertainty be determine use python therefore for the blue spectral line be found to be and the calculate value of the rydberg constant be deduce a a representation of the data obtain for the blue and red spectral line be show by figure the uncertainty in our value be determine use python to calculate the standard error of the mean for each average value at each order number for each spectral line before calculate the standard error of the mean the standard deviation have to be calculate use the follow equation the sample standard deviation be define by where be the sample size equal to in our experiment since we repeat our diffraction angle measurement time for each order number be the sample mean in our case the average diffraction angle in each order number represent each of the value of the data in our case the diffraction angle in each order number use the standard deviation to estimate the uncertainty of each diffraction angle measure use the vernier scale the standard error of the mean could then be calculate the standard error of the mean be calculate use the follow formula the standard error of the mean be define by where be the standard deviation of the sample calculate use python be the sample size equal to in our case since diffraction angle measurement for each order number be repeat three time when the uncertainty in our average diffraction angle value at each order number for each spectral line be determine the uncertainty in our sin value could be determine by calculate the difference between the maximum and the minimum value of sin and then divide the result by this enable u to plot the vertical error bar represent the uncertainty in sin in python the uncertainty in sin can be calculate use where and be the maximum and minimum average diffraction angle respectively and and be the maximum and minimum average angle at zeroth order for each spectral line the maximum and minimum average diffraction angle at each order number be determine use the standard error of the mean of those angle which be equal to the uncertainty in those angle the calculation be carry out in python use the uncertainty in the value of sin the vertical error bar in the graph of sin against m correspond to those uncertainty be plot in python a show in figure this enable u use python to determine the uncertainty in the slope of each straight line so that it could be use to determine the overall uncertainty of the rydberg constant value of the red and blue spectral line in this experiment the line per mm grate be chosen instead of the and line per mm grate since although the narrower the slit the great the resolution of the line the line become much dimmer a the slit be close therefore to balance out these two consideration the line per mm grate be the most appropriate in this experiment enable u to take more measurement of the diffraction angle hence increase the reliability of our result by encounter random error the number of line per unit length of our slit in the begin be suppose to be line per mm but they be line per mm because it use an old definition of line per inch which be in imperial unit the line per inch approximate to line per mm to calculate the uncertainty in the follow method be use where and be the number of line and line respectively the uncertainty in be found to be m therefore our value of could be state a m m to determine the uncertainty in the be determine by where be the uncertainty in the slit separation value be the slit separation value be the uncertainty in the slope of the straight line of best fit of sin against and be the slope of this straight line it be possible to use quadrature to calculate the uncertainty in when the rydberg constant of the red and blue spectral line together with their correspond uncertainty be determine then the overall rydberg constant value could be calculate together with it uncertainty this can be do by calculate the weight average of the rydberg constant of the two spectral line and then find the uncertainty on the weight average the follow formula be use to calculate the weight average the weight average value of the rydberg constant of the two line be define by where be the rydberg constant of the red spectral line and it associate uncertainty be the rydberg constant of the blue spectral line and be it uncertainty to determine the uncertainty in the overall value of the rydberg constant deduce from the weight average of the rydberg constant of the two spectral line the follow equation be use where be the uncertainty in the rydberg constant of the red spectral line and be the uncertainty in the rydberg constant of the blue spectral line the overall value of the rydberg constant determine in the experiment use formula and formula be by observe the spectral line of hydrogen the value of the rydberg constant we obtain for the blue and red spectral line be and respectively the overall value of the rydberg constant determine from the weight average of the rydberg constant of the two spectral line be it uncertainty brings the measurement into the range cover the true value of rydberg constant of show that our measure value be compatible there could have be improvement on the method carry out to determine the rydberg constant even though we repeat our diffraction angle measurement time for each order number use the vernier scale to take measurement we could have repeat the angle measurement more time to encounter random error and make result more reliable the use of the magnify glass while take the diffraction angle measurement reduce the effect of parallax error therefore make our measurement more accurate during the experiment we try to reduce the effect of background light either by cover the apparatus use a black cloth or punch a hole in the middle of a black card and stick it around the collimator so that external light be prevent from enter the collimator and show up on the image background light could have be a source of systematic error by make our eye less sensitive make u not see properly and we could have widen the slit reduce uncertainty if i repeat the experiment i would take into account humidity and try to determine how much it affect our rydberg constant value because it varies with the value of the permittivity of free space that be include in the rydberg constant equation thereby introduce systematic error by affect the rydberg constant value by use the level i would ensure that the diffraction grate holder be level in all direction i would reduce any misalignment and use a sharper telescope in conclusion our overall value of the rydberg constant be highly precis show that this fundamental constant can be measure at a high precision a the rydberg constant be one of the best determine constant show by the extremely low uncertainty of it true value appendix table the data obtain from the blue hydrogen spectral line be show on the first column the order number be show on the second column the average diffraction angle measurement at each order number can be see the table be produce in microsoft excel table the data obtain from the red hydrogen spectral line be show on the first column the order number be show on the second column the average diffraction angle measurement at each order number can be see the table be construct in microsoft excel"
           ],
           [
            "none",
            "exp",
            "bal",
            "none",
            "bal",
            "none",
            "the",
            "bal",
            "the",
            "bal"
           ],
           [
            "superficial",
            "superficial",
            "superficial",
            "expert",
            "deep",
            "prediction",
            "superficial",
            "extended",
            "extended",
            "extended"
           ]
          ]
         },
         "columnwidth": [
          300,
          40,
          40
         ],
         "header": {
          "fill": {
           "color": "lightgrey"
          },
          "font": {
           "size": 14
          },
          "height": 48,
          "line": {
           "color": "black"
          },
          "values": [
           "<b>Document Identification</b>",
           "<b>Epistemology</b>",
           "<b> Argument Level </b>"
          ]
         },
         "type": "table"
        }
       ],
       "layout": {
        "template": {
         "data": {
          "bar": [
           {
            "error_x": {
             "color": "#2a3f5f"
            },
            "error_y": {
             "color": "#2a3f5f"
            },
            "marker": {
             "line": {
              "color": "#E5ECF6",
              "width": 0.5
             },
             "pattern": {
              "fillmode": "overlay",
              "size": 10,
              "solidity": 0.2
             }
            },
            "type": "bar"
           }
          ],
          "barpolar": [
           {
            "marker": {
             "line": {
              "color": "#E5ECF6",
              "width": 0.5
             },
             "pattern": {
              "fillmode": "overlay",
              "size": 10,
              "solidity": 0.2
             }
            },
            "type": "barpolar"
           }
          ],
          "carpet": [
           {
            "aaxis": {
             "endlinecolor": "#2a3f5f",
             "gridcolor": "white",
             "linecolor": "white",
             "minorgridcolor": "white",
             "startlinecolor": "#2a3f5f"
            },
            "baxis": {
             "endlinecolor": "#2a3f5f",
             "gridcolor": "white",
             "linecolor": "white",
             "minorgridcolor": "white",
             "startlinecolor": "#2a3f5f"
            },
            "type": "carpet"
           }
          ],
          "choropleth": [
           {
            "colorbar": {
             "outlinewidth": 0,
             "ticks": ""
            },
            "type": "choropleth"
           }
          ],
          "contour": [
           {
            "colorbar": {
             "outlinewidth": 0,
             "ticks": ""
            },
            "colorscale": [
             [
              0,
              "#0d0887"
             ],
             [
              0.1111111111111111,
              "#46039f"
             ],
             [
              0.2222222222222222,
              "#7201a8"
             ],
             [
              0.3333333333333333,
              "#9c179e"
             ],
             [
              0.4444444444444444,
              "#bd3786"
             ],
             [
              0.5555555555555556,
              "#d8576b"
             ],
             [
              0.6666666666666666,
              "#ed7953"
             ],
             [
              0.7777777777777778,
              "#fb9f3a"
             ],
             [
              0.8888888888888888,
              "#fdca26"
             ],
             [
              1,
              "#f0f921"
             ]
            ],
            "type": "contour"
           }
          ],
          "contourcarpet": [
           {
            "colorbar": {
             "outlinewidth": 0,
             "ticks": ""
            },
            "type": "contourcarpet"
           }
          ],
          "heatmap": [
           {
            "colorbar": {
             "outlinewidth": 0,
             "ticks": ""
            },
            "colorscale": [
             [
              0,
              "#0d0887"
             ],
             [
              0.1111111111111111,
              "#46039f"
             ],
             [
              0.2222222222222222,
              "#7201a8"
             ],
             [
              0.3333333333333333,
              "#9c179e"
             ],
             [
              0.4444444444444444,
              "#bd3786"
             ],
             [
              0.5555555555555556,
              "#d8576b"
             ],
             [
              0.6666666666666666,
              "#ed7953"
             ],
             [
              0.7777777777777778,
              "#fb9f3a"
             ],
             [
              0.8888888888888888,
              "#fdca26"
             ],
             [
              1,
              "#f0f921"
             ]
            ],
            "type": "heatmap"
           }
          ],
          "heatmapgl": [
           {
            "colorbar": {
             "outlinewidth": 0,
             "ticks": ""
            },
            "colorscale": [
             [
              0,
              "#0d0887"
             ],
             [
              0.1111111111111111,
              "#46039f"
             ],
             [
              0.2222222222222222,
              "#7201a8"
             ],
             [
              0.3333333333333333,
              "#9c179e"
             ],
             [
              0.4444444444444444,
              "#bd3786"
             ],
             [
              0.5555555555555556,
              "#d8576b"
             ],
             [
              0.6666666666666666,
              "#ed7953"
             ],
             [
              0.7777777777777778,
              "#fb9f3a"
             ],
             [
              0.8888888888888888,
              "#fdca26"
             ],
             [
              1,
              "#f0f921"
             ]
            ],
            "type": "heatmapgl"
           }
          ],
          "histogram": [
           {
            "marker": {
             "pattern": {
              "fillmode": "overlay",
              "size": 10,
              "solidity": 0.2
             }
            },
            "type": "histogram"
           }
          ],
          "histogram2d": [
           {
            "colorbar": {
             "outlinewidth": 0,
             "ticks": ""
            },
            "colorscale": [
             [
              0,
              "#0d0887"
             ],
             [
              0.1111111111111111,
              "#46039f"
             ],
             [
              0.2222222222222222,
              "#7201a8"
             ],
             [
              0.3333333333333333,
              "#9c179e"
             ],
             [
              0.4444444444444444,
              "#bd3786"
             ],
             [
              0.5555555555555556,
              "#d8576b"
             ],
             [
              0.6666666666666666,
              "#ed7953"
             ],
             [
              0.7777777777777778,
              "#fb9f3a"
             ],
             [
              0.8888888888888888,
              "#fdca26"
             ],
             [
              1,
              "#f0f921"
             ]
            ],
            "type": "histogram2d"
           }
          ],
          "histogram2dcontour": [
           {
            "colorbar": {
             "outlinewidth": 0,
             "ticks": ""
            },
            "colorscale": [
             [
              0,
              "#0d0887"
             ],
             [
              0.1111111111111111,
              "#46039f"
             ],
             [
              0.2222222222222222,
              "#7201a8"
             ],
             [
              0.3333333333333333,
              "#9c179e"
             ],
             [
              0.4444444444444444,
              "#bd3786"
             ],
             [
              0.5555555555555556,
              "#d8576b"
             ],
             [
              0.6666666666666666,
              "#ed7953"
             ],
             [
              0.7777777777777778,
              "#fb9f3a"
             ],
             [
              0.8888888888888888,
              "#fdca26"
             ],
             [
              1,
              "#f0f921"
             ]
            ],
            "type": "histogram2dcontour"
           }
          ],
          "mesh3d": [
           {
            "colorbar": {
             "outlinewidth": 0,
             "ticks": ""
            },
            "type": "mesh3d"
           }
          ],
          "parcoords": [
           {
            "line": {
             "colorbar": {
              "outlinewidth": 0,
              "ticks": ""
             }
            },
            "type": "parcoords"
           }
          ],
          "pie": [
           {
            "automargin": true,
            "type": "pie"
           }
          ],
          "scatter": [
           {
            "fillpattern": {
             "fillmode": "overlay",
             "size": 10,
             "solidity": 0.2
            },
            "type": "scatter"
           }
          ],
          "scatter3d": [
           {
            "line": {
             "colorbar": {
              "outlinewidth": 0,
              "ticks": ""
             }
            },
            "marker": {
             "colorbar": {
              "outlinewidth": 0,
              "ticks": ""
             }
            },
            "type": "scatter3d"
           }
          ],
          "scattercarpet": [
           {
            "marker": {
             "colorbar": {
              "outlinewidth": 0,
              "ticks": ""
             }
            },
            "type": "scattercarpet"
           }
          ],
          "scattergeo": [
           {
            "marker": {
             "colorbar": {
              "outlinewidth": 0,
              "ticks": ""
             }
            },
            "type": "scattergeo"
           }
          ],
          "scattergl": [
           {
            "marker": {
             "colorbar": {
              "outlinewidth": 0,
              "ticks": ""
             }
            },
            "type": "scattergl"
           }
          ],
          "scattermapbox": [
           {
            "marker": {
             "colorbar": {
              "outlinewidth": 0,
              "ticks": ""
             }
            },
            "type": "scattermapbox"
           }
          ],
          "scatterpolar": [
           {
            "marker": {
             "colorbar": {
              "outlinewidth": 0,
              "ticks": ""
             }
            },
            "type": "scatterpolar"
           }
          ],
          "scatterpolargl": [
           {
            "marker": {
             "colorbar": {
              "outlinewidth": 0,
              "ticks": ""
             }
            },
            "type": "scatterpolargl"
           }
          ],
          "scatterternary": [
           {
            "marker": {
             "colorbar": {
              "outlinewidth": 0,
              "ticks": ""
             }
            },
            "type": "scatterternary"
           }
          ],
          "surface": [
           {
            "colorbar": {
             "outlinewidth": 0,
             "ticks": ""
            },
            "colorscale": [
             [
              0,
              "#0d0887"
             ],
             [
              0.1111111111111111,
              "#46039f"
             ],
             [
              0.2222222222222222,
              "#7201a8"
             ],
             [
              0.3333333333333333,
              "#9c179e"
             ],
             [
              0.4444444444444444,
              "#bd3786"
             ],
             [
              0.5555555555555556,
              "#d8576b"
             ],
             [
              0.6666666666666666,
              "#ed7953"
             ],
             [
              0.7777777777777778,
              "#fb9f3a"
             ],
             [
              0.8888888888888888,
              "#fdca26"
             ],
             [
              1,
              "#f0f921"
             ]
            ],
            "type": "surface"
           }
          ],
          "table": [
           {
            "cells": {
             "fill": {
              "color": "#EBF0F8"
             },
             "line": {
              "color": "white"
             }
            },
            "header": {
             "fill": {
              "color": "#C8D4E3"
             },
             "line": {
              "color": "white"
             }
            },
            "type": "table"
           }
          ]
         },
         "layout": {
          "annotationdefaults": {
           "arrowcolor": "#2a3f5f",
           "arrowhead": 0,
           "arrowwidth": 1
          },
          "autotypenumbers": "strict",
          "coloraxis": {
           "colorbar": {
            "outlinewidth": 0,
            "ticks": ""
           }
          },
          "colorscale": {
           "diverging": [
            [
             0,
             "#8e0152"
            ],
            [
             0.1,
             "#c51b7d"
            ],
            [
             0.2,
             "#de77ae"
            ],
            [
             0.3,
             "#f1b6da"
            ],
            [
             0.4,
             "#fde0ef"
            ],
            [
             0.5,
             "#f7f7f7"
            ],
            [
             0.6,
             "#e6f5d0"
            ],
            [
             0.7,
             "#b8e186"
            ],
            [
             0.8,
             "#7fbc41"
            ],
            [
             0.9,
             "#4d9221"
            ],
            [
             1,
             "#276419"
            ]
           ],
           "sequential": [
            [
             0,
             "#0d0887"
            ],
            [
             0.1111111111111111,
             "#46039f"
            ],
            [
             0.2222222222222222,
             "#7201a8"
            ],
            [
             0.3333333333333333,
             "#9c179e"
            ],
            [
             0.4444444444444444,
             "#bd3786"
            ],
            [
             0.5555555555555556,
             "#d8576b"
            ],
            [
             0.6666666666666666,
             "#ed7953"
            ],
            [
             0.7777777777777778,
             "#fb9f3a"
            ],
            [
             0.8888888888888888,
             "#fdca26"
            ],
            [
             1,
             "#f0f921"
            ]
           ],
           "sequentialminus": [
            [
             0,
             "#0d0887"
            ],
            [
             0.1111111111111111,
             "#46039f"
            ],
            [
             0.2222222222222222,
             "#7201a8"
            ],
            [
             0.3333333333333333,
             "#9c179e"
            ],
            [
             0.4444444444444444,
             "#bd3786"
            ],
            [
             0.5555555555555556,
             "#d8576b"
            ],
            [
             0.6666666666666666,
             "#ed7953"
            ],
            [
             0.7777777777777778,
             "#fb9f3a"
            ],
            [
             0.8888888888888888,
             "#fdca26"
            ],
            [
             1,
             "#f0f921"
            ]
           ]
          },
          "colorway": [
           "#636efa",
           "#EF553B",
           "#00cc96",
           "#ab63fa",
           "#FFA15A",
           "#19d3f3",
           "#FF6692",
           "#B6E880",
           "#FF97FF",
           "#FECB52"
          ],
          "font": {
           "color": "#2a3f5f"
          },
          "geo": {
           "bgcolor": "white",
           "lakecolor": "white",
           "landcolor": "#E5ECF6",
           "showlakes": true,
           "showland": true,
           "subunitcolor": "white"
          },
          "hoverlabel": {
           "align": "left"
          },
          "hovermode": "closest",
          "mapbox": {
           "style": "light"
          },
          "paper_bgcolor": "white",
          "plot_bgcolor": "#E5ECF6",
          "polar": {
           "angularaxis": {
            "gridcolor": "white",
            "linecolor": "white",
            "ticks": ""
           },
           "bgcolor": "#E5ECF6",
           "radialaxis": {
            "gridcolor": "white",
            "linecolor": "white",
            "ticks": ""
           }
          },
          "scene": {
           "xaxis": {
            "backgroundcolor": "#E5ECF6",
            "gridcolor": "white",
            "gridwidth": 2,
            "linecolor": "white",
            "showbackground": true,
            "ticks": "",
            "zerolinecolor": "white"
           },
           "yaxis": {
            "backgroundcolor": "#E5ECF6",
            "gridcolor": "white",
            "gridwidth": 2,
            "linecolor": "white",
            "showbackground": true,
            "ticks": "",
            "zerolinecolor": "white"
           },
           "zaxis": {
            "backgroundcolor": "#E5ECF6",
            "gridcolor": "white",
            "gridwidth": 2,
            "linecolor": "white",
            "showbackground": true,
            "ticks": "",
            "zerolinecolor": "white"
           }
          },
          "shapedefaults": {
           "line": {
            "color": "#2a3f5f"
           }
          },
          "ternary": {
           "aaxis": {
            "gridcolor": "white",
            "linecolor": "white",
            "ticks": ""
           },
           "baxis": {
            "gridcolor": "white",
            "linecolor": "white",
            "ticks": ""
           },
           "bgcolor": "#E5ECF6",
           "caxis": {
            "gridcolor": "white",
            "linecolor": "white",
            "ticks": ""
           }
          },
          "title": {
           "x": 0.05
          },
          "xaxis": {
           "automargin": true,
           "gridcolor": "white",
           "linecolor": "white",
           "ticks": "",
           "title": {
            "standoff": 15
           },
           "zerolinecolor": "white",
           "zerolinewidth": 2
          },
          "yaxis": {
           "automargin": true,
           "gridcolor": "white",
           "linecolor": "white",
           "ticks": "",
           "title": {
            "standoff": 15
           },
           "zerolinecolor": "white",
           "zerolinewidth": 2
          }
         }
        },
        "title": {
         "text": "Topic 1: ['run', 'emission', 'datum', 'first', 'clearly', 'seem', 'experiment', 'second', 'record', 'uncertainty']"
        }
       }
      }
     },
     "metadata": {},
     "output_type": "display_data"
    },
    {
     "data": {
      "application/vnd.plotly.v1+json": {
       "config": {
        "plotlyServerURL": "https://plot.ly"
       },
       "data": [
        {
         "cells": {
          "align": [
           "center",
           "center",
           "center",
           "left",
           "left"
          ],
          "fill": {
           "color": "white"
          },
          "font": {
           "size": 12
          },
          "height": 48,
          "line": {
           "color": "black"
          },
          "values": [
           [
            "interferometry be an experimental method which relies on the interference of a single light source that travel through two different path it have brought groundbreaking result such a the michelson morley experiment in refute the aether theory or much more recently the ligo experiment discover gravitational wave i nterferometry be quite a general method which can be set up in various way to study a multitude of parameter such a the length difference between the two path the light ray take or the wavelength spectrum of the source in our experiment we use the famous michelson morley setup show figure m che son mor ey nte ferometer one source s sp t n two perpend cu ar beam by a transparent m rror they each reflect on a m rror and recomb ne at the beam sp tter the recomb ned beam can then be observe on a screen or through a detector source http perg phys ksu edu we use this setup with various light source a green laser a blue and a white lead and a tungsten lamp with filter or naked the interferometer be then mostly use a a spectrometer get the emission spectrum from the interference pattern a see on figure both beam travel a different path before recombine depend on the path difference they will either interfere constructively or destructively for a single wavelength source the interference will be constructive if the path difference be l n where n be an integer indeed a beam travel a distance n will return to it original phase in the same way the interference will be destructive if the path difference be l n for l and l the respective length from the beam splitter to mirror and mirror then l l l since each beam travel twice over each length by keep one of these length constant say l and then vary l we can look at the evolution of the interference a l move if we draw a graph of the observe intensity over l call an interferogram we can retrieve the wavelength of the source indeed if the mirror move from l a to l b then the path difference between interference a and interference b will be l l a l b a such the wavelength on the graph will simply be half the wavelength of the source beat ng frequency for s m ar sound wave the sma osc at ons correspond to the mean frequency they happen w th n an enve ope repeat ng w th the beat ng frequency source hep phys c nd ana eu let u now consider a source with two wavelength and each of equal amplitude the observe wavelength of the source will simply be the mean for example if we combine a red and a green laser of same intensity at nm and nm wavelength we will observe a yellow beam with a nm wavelength if we shine this combine beam through the interferometer and look at the interferogram we will once again get the oscillation correspond to the mean oscillation but these oscillation will happen within an envelope whose frequency will be f b f f for f f this be call the beating frequency and can be observe in many place such a combine sound wave this happens because the faster frequency lap the slow one we can then relate this to a beating wavelength this equation show that the closer the two wavelength be the large the envelope on the interferogram will be c extend to a large number of wavelength f g beat ng frequency here show for sound wave source http phys c stackexchange com this beating phenomenon be not restrict to two wavelength but happens for any number of wavelength although it be not a simply described anymore there will still be a periodic envelope around the oscillation correspond to the mean frequency however it will now have many peak and valley see figure by add enough wavelength the envelope will turn into a single short peak surround by long valley once again the size of these envelope will be define by the difference in frequency however a this be for a large number of wavelength we will rather look at the spread in wavelength for a wide spread in wavelength the envelope will be narrower and for a narrow spread in wavelength the envelope will be wider there be no simple formula to express this but we can easily link it to the wave case where a large wavelength difference result in a shorter envelope and vice versa although they be rarely use any more tungsten lightbulb be once the most common light source in any household they consist of a heat up tungsten filament enclose in a noble gas to prevent it from burning by avoid contact with oxygen the filament act a a resistor and be heat up by flow current through it a it be heat up the electron within the tungsten be accelerate these accelerate charge emit wave in the electro magnetic field light wave this be call black body radiation and be described by planck s law where h c and k b be respectively planck s constant the speed of light and boltzmann s constant t be the temperature of the system be a frequency and b be the intensity of the emission at this frequency figure give u a plot of this but in wavelength space rather than frequency space a show on the plot the spectrum f g p ot of b versus for t set at and k source http www br tann ca com here be compose of a continuum of wavelength rather than a finite set of wavelength like those described in previous section the range be quite wide a we can see that it go way beyond the visible spectrum both above and below e wavelength spectrum of a white lead the acronym lead stand for light emit diode a state in the name it be a diode the way it emits it light can be described by quantum mechanic but it essentially have to do with current flow through the p n junction the early visible light lead could only produce yellow or red light but with the invention of blue lead engineer be able to merge those three together to create white lead a such a white lead do not produce a wide a spectrum a it tungsten lamp counterpart but creates white light by combine narrower set of wavelength over the visible spectrum the first step in the laboratory session be to get a feel for how the interferometer work by run simulation we do this with a premade python script ready to use which require to input the spectrum of the light source and would give u the interferogram it would produce to make thing simpler all the source spectrum be gaussian function with a width and a mean wavelength that we could specify we then go on to use a real michelson morley interferometer a the one schematise figure since we want to draw interferograms one of the mirror be fix while the other could move back and forth with a computer controlled motor the recombine beam then go in a detector connect to the same computer we could thus easily obtain data for the distance move by the mirror and the interference this produce f g the way we define a coherence ength n order to compare our enve opes w dths a explain in the previous subsection a computer be already setup to record the mirror s position and the correspond interference in a txt file it be very easy to extract this data and plot it out use python we be provide with a python script which be meant to fit a function over the interferogram this would allow u to apply a fourier transformation to the function and retrieve the wavelength of the signal turn our interferometer into an effective spectrometer however this script do not work so we could only get more basic data from our interferogram the distance between two oscillation correspond to half the mean wavelength of the source a explain in the theory section we could also compare the width of the envelope by look at a coherence length we chose this to be the distance over which the oscillation amplitude be above of the maximum amplitude see figure our first two simulation be run for a single gaussian spectrum with the mean wavelength at nm and in the first case nm and in the second nm look at the interferograms on a nanometer scale there be no difference between these signal they be both simply sinusoidal and of same frequency however if we zoom out at the meter scale we could see the envelope around those oscillation figure and show a sketch of this in my lab book a we can see the second simulation result in a shorter higher frequency envelope it wavelength be half the wavelength of the first envelope this be coherent with the explanation for the envelope provide in the theory section a the second simulation have a much wider range of wavelength in the light source although it be hard to see on these sketch the peak of the second simulation envelope be indeed quite narrower than on the first we then ran far simulation where we widen the gaussians even far or add more wavelength the result be all consistent with the theory section have wider gaussians would produce narrower envelope and add more wavelength would produce some more complex shaped envelope see figure on the real interferometer we use various different light source the first one be a green laser which simply produce a sine wave on the interferogram technically even a laser have some wavelength range and be not infinitesimally precise so we should have see an envelope around this signal however the motor control mirror could only move by a few millimeter and that be not enough to see the very large envelope for the rest of our light source however the range of wavelength be much big so we could see the envelope around the oscillation we could in fact only see one envelope peak around the point be both mirror be at the same distance figure show the interferograms we obtain respectively for a white lead a blue lead a tungsten lamp and then the same tungsten lamp first with a yellow then with a green filter there be two thing to note before look at the number these plot give u first for the white lead the envelope be asymmetrical a there appear to be a little blob on the right of it this be probably because our lead be not perfectly align when shin through the interferometer and the white lead do not shine in the same way in all direction a explain before the white lead combine the narrow blue lead spectrum and the wider red and yellow spectrum the main envelope be probably from when all the wavelength be combine or only the red yellow part the blob after it be probably from the blue part of the spectrum which would be wider on the interferogram the second thing to note be that the interferograms from the filter do not present a single envelope peak but some other small peak next to it this be probably due to the nature of the filter which might let through some doublet of wavelength quite close to each other and create this kind of beating frequency a explain in the experimental method section we measure the mean wavelength by look at the separation in distance between two oscillation and characterise the width of the envelope with the coherence length the precision of these method be limited by the accuracy at which we could measure with the computer cursor so we chose an error of nm for each wavelength measurement and an error of nm for the coherence length since both the tungsten lamp and the white lead produce white light it seem relevant to compare them of course the coherence length of the lead be quite large than the tungsten lamp since it spectrum be narrower an other interest fact be that even though they both emit white light the mean wavelength of the tungsten lamp be much big and quite in the red part of the visible light spectrum if we look at figure show the emission spectrum of a black body radiation we can see that it decrease quite slowly in the large wavelength meaning that the tungsten lamp emits a large quantity of infrared light cause the mean wavelength to red shift for the blue and the white lead we can see that the coherence length be big for the blue lead this be unsurprising consider that the blue lead spectrum be part of the white lead spectrum and thereby small for the filter light both green and yellow the coherence length be much large than the rest since instead of a continuous spectrum the filter brutally cut off all part of the spectrum that be not within the filter s wavelength these result show that we can learn a lot of thing on a light source from the interference pattern it creates even with quite basic data gather we be able to confirm a lot of thing about the know spectrum be able to recreate the full spectrum from a fourier transform of the interferogram would really show what a powerful technique this be",
            "this report will look into a interferometry experiment that we conduct over a week period in order to observe and measure numerous light source wavelength a a result this be a display of the measurement that we take of a white lead blue lead and a white tungsten that have either a green or yellow filter attach to it from this we be able to collect all their respective wavelength by use a fast fourier transformation on the interferogram numerous characteristic of each source could be found a well a the inefficiency within the system the wavelength of these source and their associate error can be found within the data analysis and error calculation section interferometry be the usage of electromagnetic wave in order to allow for a system to produce an interference pattern that will allow for small displacement to be measure a well a for the study of a material s property the experiment that we be conduct look into both of these area for the experiment that we be able to complete we be able to take an interferogram of our source and through fourier analysis we be able to find the individual wavelength of the source often best show through a gausssian distribution in addition these gaussians also allow for data to be collect about the information of the system and it imperfection this setup that we be able to use through the usage of both qualitative and quantitative data allow measurement into the wavelength of the source spectral width step size and coherence length each of which explain in the follow section the setup that we will consider be the same configuration a the michelson interferometer and can be see in figure from this figure it s able to show the principal setup and the influence of misalignment if the setup be to be correctly align the two mirror should produce haidinger fringe and hence interference that produce a circular pattern if incorrectly align the system will produce fizeau horizontal fringe both of these case be a result of interference from the two image produce by the mirror after the beam splitter separate the source s signal the interference within the system allows for information to be record however the point which be of most concern for our experiment be the null point in order to define the null point first consider figure show the path a ray would take when incident on the two mirror and how the two image from the mirror overlay one another this be a diagram of the michelson interferometer setup the same setup we use for our experiment and with a move mirror on a table drive by a motor the use of figure can allow the triangle abc to be consider a a result of this triangle the equation for the relation between separation of the mirror t and the wavelength of the source can be found where the angle between the normal of the mirror and the ray and m be the order of the wavelength that allow for this particular separation and angle this equation aid in the definition of the null point and this be where t the null point qualitatively however when observe be through the movement of the fringe on either side of the null point the circular fringe move in opposite direction and hence the fringe can be to be move outwards and inwards on either side of the null point provide the secondary mirror be move and thus allow u to find the null point s position a a result of this a number of simulation can be take to predict this behaviour show in figure and figure be the expect inteferogram for white light with a wider beam and a can be see be it narrow nature and this be also explain through fourier analysis due to the fourier transforms the wider the frequency range the shorter transform and hence a narrow interferogram for white light figure be in regard to a multitude of different wavelength and in this case wavelength these wavelength show in figure represent their respective intensity to form this pattern however the practical application of this data raise an important concept the coherence length of the signal be the distance over which an electromagnetic signal will retain the characteristic of a coherent signal this be also define through the degree of coherence with the first degree of coherence be related to it amplitude and the second degree of coherence in relation to intensity this report be in regard to the first degree of coherence however an important concept behind the fourier transforms act upon the interferogram be the nyquist theorem this theorem show that in order for all the information to be correctly interpret from a signal the band limit must be great than half the sample frequency this be best show through figure which be a visual representation of how the same raw signal may produce an incorrect transformation due to the sample rate this incorrect signal be aliasing fig this be a visual representation of the nyquist theorem s result the observation that we will make will also be look into whether the source exhibit a black body behaviour and this be show in planck s law this be represent a a continuous frequency spectrum that be dependent upon a source s temperature and a a result this should also be see from our wavelength fourier transform in addition we will consider wien s displacement law which be represent a where b be represent the wien s displacement constant max be the wavelength with the great intensity amplitude and t represent the temperature of the source be consider the setup that we follow be the same a that in figure in order to use this setup we have to follow certain procedure in order to ensure that the mirror be correctly align to align the mirror we first have to ensure that each of the surface be clean and that any imperfection should be take away use isopropanol on the mirror and lens the height of each part of the setup be already correctly setup and with the motor for mirror already set into place the rest of the setup be orientate around it position the mirror be place perpendicular to each other and a metal arm for the beamsplitter be place in the direction of the detector we also place a lens with a mm focal length to focus the light of the green laser we use for alignment we would then adjust the setup accordingly to ensure that light be hit the centre of mirror and we then adjust mirror accordingly to ensure they would align and for the the light to interfere to ensure that laser be align perfectly we would use the side wall of the entire setup to use a large distance so that any misalignment could be more easily see from this you should be able to see the haidinger fringe after see the haidinger fringe we then move onto find the null point and this be achieve through a method of interval bisection we first move to the maximum displacement of each end of the motor movement to record the direction of the fringe to see whether they be move inwards or outwards we would then move to mm and then depend upon the movement of the fringe we then half the range we be look into through this method we be able to achieve a range of mm for the null point and this be large than we have do in previous attempt because in prior attempt when move onto other source the null point may have move due to the human error of replace equipment and hence minor adjustment to the setup in order to record data we have to use a linux o and this be very different to the prior o we have be in contact with nonetheless in order to record data the detector be connect to the computer via a usb to account for the flow of data collection we have to provide a command for usb low latency within a terminal window for the data collection we would then use the take data command which be proceed by number represent the point mirror should move to it speed and the number of sample take this data be record into an output data file locate on the desktop and upon the end of sample this data have to be save each time to avoid lose the data since a new set of reading would go over the top of the reading previously record this data would then be uploaded into the simple fit py file and then from there the dsamp have to be adjust the adjustment be need to account for the speed of the motor the sample rate of the detector ran that ran at a rate of hz and that the distance move by the arm would have to be double due to signal travel both to the mirror and back to the beamsplitter a a result we then move onto record our data first we use the white lead follow by the blue lead and white tungsten source with either a green or yellow filter for the lead we remove the lens and put in a ground glass diffuser and also place more black card between each part of the setup to ensure no light from other aspect of the setup would cause far interference for each of these source we chose between speed of and mm s depend on which record and we would move over an area of mm in the range over mm and mm for mirror the signal that we would see on the visual representation of the live data collection approximately look like a sine wave and then approach the null point the signal should become clearer with a much great amplitude the visual qualitative data of each source would sometimes aid in location for example with white light there should be a rainbow on either side of the null point and at the null point it should black and white these data file be then put into the simple fit file on the spyder platform and from this figure be produce the raw data inteferogram oscillation per sample against amplitude and then the wavelength against amplitude the last of these figure be form from the fourier transform the methodology for the data calculation that i undertook be to take a fft fast fourier transform of the interferogram and from this gain a gaussian distribution for the wavelength since this be a first order of coherence be consider the amplitude graph will only be consider when put against the wavelength a a result the raw data will not be show however the final data plot shall be give for each with analysis follow therefore in figure the final wavelength for the white lead can be found fig this be the plot of the wavelength distribution for the white lead from this data it can be see there be a gaussian distribution for the white light however what s also noticeable be the two peak within the data these two peak be due to the temperature of the lead where if a cooler lead be use the left peak would be much great this be also the expect range because it be able to cover the entirety of the visible wavelength thus correspond to a white light the value in figure show the gaussian fit for the blue lead and this be also near the expect value for the blue lead which be in the range of nm on the other hand the peak should correspond to a delta function since we be assume the source to be of a constant wavelength the error in the plot can also correspond to the error in the step size of the motor for mirror and thus show in table s data and correspond to the this should correspond to one single wave packet and hence one wavelength and therefore a dirac delta function however this be not what be see and hence the error in the value corresponds to the error in the step size this source produce a lot more noise in the signal and this can be attribute to the nature of the source and it relative instability compare to the lead the use of the filter however be important when regard this distribution a can be see in figure for the other filter use in figure it be able to show the nature of the yellow filter with the green light of the tungsten the two clear peak in the wavelength distribution show the inadequacy of the gaussian fit for the entirety of this region however also when look at the raw data it be similar to that of the sinc function which be the fourier transformation of the top hat function and hence this be also able to show the behaviour of the filter and it functionality for the different wavelength and how they interact overall however the data can be show in the follow table for the data of our source the equation use for these calculation can be work backwards from the error in the gaussian of the wavelength distribution they can be show in the follow two equation where l be the coherence length v be the spectral width and c be the speed of light for these calculation therefore by approximate the in the wavelength gaussian a all calculation can be make the value of t be calculate use wien s displacement law and this be under the assumption each source be act a a black body however this ca n t be infer from the graph due to the lack of the correct shape over their respective region this be because they do not have their slight offset in the correct direction and with the presence off too much noise this assumption can not be make however other conclusion could be make from the data for example the variation in the coherence length of the source and a expect white have the shortest coherence length and this can be held accountable to the variation in the spectral width since white light cover a much large range of frequency our experiment be base upon the idea of a michelson interferometer and we be able to retrieve the wavelength of a multitude of different source and from this also collect information about the spectral width of the source also we be also able to observe the behaviour of the filter that be be use within the experiment however if we be to redo this experiment it would be to have adjust the setup such that noise could be remove for example the reduction of light impact the setup we would also have look into the distribution of the noise and the influence of temperature more greatly also the vibration influence the movement of the detector and hence the measurement overall i believe that we be able to achieve the goal of the experiment and that with these experiment it would have be easy to see the behaviour that we be expect from the theory",
            "in this report fourier transform spectroscopy be use to analyze different light source this be do by set up a michelson interferometer and take data of the interference pattern produce computational fourier analysis be then perform on the interferogram to get the spectral line of the light source result be obtain for lead source and a tungsten source the effect of light filter be also analyze appropriate gaussian approximation be take to calculate parameter of the line spectrum and interferograms such a coherence length and variance comparison can be make between the data obtain and simulated result to study source of error from this report consideration be make on how to reduce common source of error in interferometry the result of this report characterize certain light source well include a tungsten source however far refinement of the setup be require to well study more complex feature of light source the study of interferometry have be apply to multiple field of physic a well a be benefit from in industly today interferometly continue to be use in cut edge research and experiment famous example of this include ligo which detect gravitational wave and the failed michelson morley aether experiment which played a role in special relativity l throughout the modem era interferometly have impact optical astronomy various interferometer have be use to observe celestial body both within and beyond our solar system for example single aperture interferometly have be use to investigate the solar system image detail such a the stm and stmspots i see source i for a detailed summary of optical astronomy use interferometer research into other discipline of science have also benefit from interferomet iy due to the ability to study both macroscopic and microscopic system for instance living cell through microspectrofluorometry and fluorescent image be image use excitation and emission spect i oscopy to do this a michelson interferometer be use a a fast fourier transfo m spectrometer see source for more on this this repo t will discus the investigation unde taken on different light source which be inspect use a michelson interferometer use a a fast fourier t ansfo m spectrometer the interferograms and spectral line obtain of these light source will be analyze such a compare with simulation source of enor from the study will then also be consider thus this repo t will illust i ate the essential consideration require when study interferomet iy and the general application common source of enor in interferometly such a alignment and vibration will also be evaluate within this report a similar setup to the one use in this report could be use to explore other light source hence the detector can measure an interference pattern when vary d in this experiment m be move a in fig such that d varied the interference pattern interferogram detect due to this be then subject to fourier analysis to obtain the spectral line of the light source the rest of this report will cover more of the theoretical background involve the experimental method and analysis of data finally there will be a discussion on the quality of the experiment and the result obtain generally when two coherent wave superimpose with each other they produce an interference pattern consider two superimpose monochromatic wave v r t and v r t the interference pattern be give by where v r t be the superposition of the two wave the displacement of v r t varies from an amplitude great than the combine amplitude of v and v to zero depend on the phase of v and v at that point if be complex amplitude of v and v with phase and respectively then the intensity of the superimpose wave be where i v i v be the average intensity of v and v respectively and corresponds to the amount of interference between the two wave the interference term a see in between the two wave be dependent on the phase of v and v where x be the path difference between the two wave and be the wavelength in a vacuum a more thorough discussion on interference and treatment of wave can be found in source in a michelson interferometer the two superimpose wave can be consider a monochromatic thus they produce an interference pattern which be only a function of path difference this interference pattern be described by the follow equation where t be the path difference travel by the two wave be the angle of incidence and m be the order of interference from fig t d d when m be an integer the two wave be in phase thus constructively interfere result in a maximum the separation between maximum be constant and equal to the wavelength of light emit by a light source be described by a spectral line which plot the intensity of light a a function of wavelength the spectrum intensity i of a source be give by where i j be a component of the spectral line due to a wavelength j and i be noise i j be often model a a well defined function such a a gaussian or lorentzian base on the light source source discus how equation can be numerically analyze through take derivative to estimate parameter such a n the distribution of intensity for a gaussian spectral line follow the follow function where a j be the amplitude of the distribution j be the wavelength at a j and j be the variance of the distribution j be related to fwhm j a source detail how the value of a j and j can be estimate through the method of take derivative however due to noise i the estimate for these value do have significant error experimentally spectral line distribution be generate through inverse fourier transforms of an interferogram which be the interference pattern observe by a michelson interferometer ideally the interferogram f x will be define by the follow where f be the frequency x be the path difference s f be the spectral distribution and be the phase error of the experiment be a variable that depends on how the frequency and path difference be control can thus be separate into it cause where g f be a function of the frequency and h x f be a function of path difference and frequency path dependent phase error include alignment error affected by path difference whilst frequency dependent phase error could include electronic signal property source discus the treatment of phase error and common cause of them in more detail the coherence length of a light source in a michelson interferometer be analogous to the path difference the two wave can have before the interferogram can no longer distinguish noise from interference the coherence length of a source can be calculate from the spectral line a follow where l be the coherence length for a gaussian spectral line figure this figure show a simulation of the gaussian spectral line which would be expect for a light source of mean wavelength nm and standard deviation of nm this represent the parameter of j and j respectively a in equation an arbitrary amplitude be plot against the wavelength of the light source the program use to simulate this take multiple delta function for the wavelength of the source whose arbitrary amplitude have be limited appropriately refer to fig equation show that if j be reduce the broadness of the spectral line would decrease seem more like a single wavelength of light be emit from the source a a result the interferogram in fig would become broader a j decrease this can be see from equation because the coherence length increase for the light source when the two mean wavelength in fig become sufficiently similar for an appropriate standard deviation beating effect occur in the interferogram the general gaussian envelope remains in this case the setup use in this experiment be identical to that show in fig a thor lab ccm bs m beam due to the dielect c plate this be align with a thor lab kml miirnr by eye of where the reflect beam hit the beam splitter this mirror be connect to a motor which meant that the miirnr have a range of motion of mm perpendicular to the incident beam thus this mirror represent mt in fig i this process be repeat for another identical mirror use conti ols to tilt the miirnr into alignment due to the range of motion of the move miirnr this mirror have to be position such that both miirnrs could be equidistant from the beam splitter this be necessa y because the interferograms of the light source under investigation have a coherence length of a few micrometer so the null point where d d have to exist within the range of movement a thor lab convex lens with a mm focal length be attach to the beam splitter such that incident light from the light source would diverge and expand hence the superimpose beam which be project onto d in fig i would produce an enlarge image this make it easy to refine the alignment and to see an interference pattern a green laser be use to align this setup in fig i a a green laser be coherent so it do n t diverge this make alignment easy also the specti al line of a laser be relatively na rnw almost like a delta function so the coherence length of the inte ferogram be more than a few cm hence an interference pattern be see throughout the mm range of motion of mt a photodetector be then place in position d of fig i which be connect to a computer the photodetector sample a signal at a rate of hz to acquire interferograms of light source with a coherence length of the order of micrometer the null point have to be found to a high precision of roughly order of interference since visible light have a wavelength of the order of this be found by move mt across it range of motion when the miirnr move too fa t vibration of the motor cause no interference pattern to be see thus the speed of the miirnr be set to no more than mm s from equation a the miirnr move towards the null point the path difference and the order of interference would reduce for a give to exploit this a haidinger fonge pattern be produce obse vationally this meant that the ring of the interference pattern would collapse into the center when move towards the null point when the ring of the interference pattern begin to expand the miirnr have past the null point through this method the null point be found to an accuracy of x m when investigate other light source the convex lens be remove a they be extend source which be much weaker than the laser by the nyquist theorem the sample rate be set to take roughly sample per oscillation when at a speed of o ool mm s thus enough information about the interference pattern be obtain for data analysis sample be take within the range scan at this speed the rate of sample do vary by sample per oscillation to the near integer which be evaluate by take measurement of many cycle for repeat experiment this systematic e rnr would have no bearing on find the specti al line or do data analysis because of the nyquist theorem od d figure this figure illustrates the effect of an alignment error on a beam which be offset by an angle from perfect alignment from fig l the beam travel to the move mirror m be misalign from the desire path by an angle of the order of c this show that when the mirror move by a small displacement od the change in path length of the beam be oh co because of this when the interferogram graph be plot for position of the mirror against signal strength the detect signal have be stretch by a factor of co relative to actual change in path length this be also true for the spectral line graph a mention in fig during the alignment of the interferometer use the green laser there be a misalignment between the beam splitter and the move mirror m t this misalignment result in a systematic error of the interferogram and spectral line graph to reduce this systematic error the distance d a in fig i between the beam splitter and mt be make a big a possible this reduce the angle of misalignment however reduce the error through well alignment be limited to human precision from this error the null point be not actually when d d but when d be roughly wavelength less than d from calculation estimate however this systematic error of the position of the null point would only translate the interferogram graph which be eliminate when inverse fom ier ti ansfonning to get specti al line furthe more it be found that the stretch factor of co a discus in fig would be too insignificant to affect the data analysis of graph this be because the resolution of the distance move by m a well a the wavelength of the light source be too large to measure such a small change due to alignment this be support far by take a small angle approximation such that the stretch factor of co can be approximate to investigate light source white and blue lead source a well a a tungsten source be investigate use this method of fourier transform spectroscopy filter be also use to investigate what effect the spectral width of the filter would have on the spectral line a range of mm around the null point be scan at a speed of mm s a mention in the method sample be take to cover this range take sample per oscillation the photodetector connect to a computer take data for the interferogram of the light source computational analysis use the scipy fftpack package then perform fast fourier transforms to obtain the spectral line of the light source figure this figure show the spectral line obtain for the blue lead through computational analysis and fast fourier transforms a in fig amplitude against wavelength be plot an approximate gaussian spectral line can be see with a peak amplitude at roughly nm which be within the range of blue wavelength figure this figure show the spectral line of a tungsten source which will be approximate to be gaussian the peak amplitude be see at a wavelength of nm which be within the range of roughly nm assume the blue lead spectral line be gaussian the coherence length be estimate use equation and equation the value of blue be estimate to be m and blue be estimate to be m use notation from equation from equation add fractional error in quadrature the coherence length be estimate a m the same assumption be make for the spectral line of tungsten the value of tungsten be m and tungsten be m use the same data analysis the coherence length be m the coherence length for a tungsten lamp be small than that of the blue lead because the spread of the spectral line for tungsten be broader thus the interferogram for the tungsten lamp be narrower a predict by equation when put a yellow and green filter in front of the tungsten lamp the spectral line be n t smooth and have multiple maximum and minimum in amplitude the peak amplitude of the spectral line be at roughly nm for the green filter and nm for the yellow filter this happen due to the spectral width of the filter passing through a range of wavelength within the bandwidth of those filter the lack of smoothness may have be due to interaction with the filter such a absorption effect a white lead be also investigate the spectral line for this be also not smooth however have distinct peak amplitude these occur at wavelength of roughly nm nm nm and nm this be likely because white lead source be usually construct out of mainly red blue and green wavelength of light the most significant random error propagate themselves into the data a noise vibration such a write on the table and the motor be one of these random error a thor lab nexus optical table be use to set the experiment up on this contribute to reduce vibration and keep the alignment relatively fix during the experiment we also limited movement during the experiment a much a possible include not write on the same desk a the setup the photodetector be a photodiode attach to an amplifier with variable gain hence the gain level for each experiment be set to the high to reduce noise environmental factor also contribute to the noise for example other source of light effect the setup be contributor to random error to reduce background light level the setup be contain within a matte black box internally the setup be also conduct in a dark room the contain box be also make of plastic and be reflective on the outside this would reduce temperature variation a heat conduction and radiation transfer be both reduce this be another source of random error a temperature change would affect the intensity spectrum of wavelength emit a well a thermal expansion of the equipment affect alignment hence the light source be only turn on during the experiment to reduce internal heating of the light source from the interferograms these consideration reduce the effect of random error to a level of of the signal amplitude the aim of this experiment be to investigate the characteristic of different light source when under the investigation of fourier transform spectroscopy this be do by set up a michelson interferometer which be accurately align and setup many systematic error associate with the experiment such a alignment be significantly reduce or evaluate this be achieve due to the accurate equipment use and the careful consideration make during the experimental method source of random error be also reduce to an estimate of maximum amplitude of the signal a mention in the method and quantify by equation and the source of random error introduce themselves into the data a mostly background noise such source include environmental factor vibration and electronic noise the fourier transform spectrometer integrate a computer to record data computational method and analysis be then use to obtain interferograms and spectral line this be do for different source of light under experimental investigation this experiment could successfully analyze the characteristic of some light source the spectral line of these light source could be approximate to function such a gaussians this make data analysis possible and parameter of the spectral line and interferograms able to be determine such a standard deviation and coherence length however the experimental method and setup have not be refine enough to analyze more complex source of light this include the green laser use to align the setup which experienced large fluctuation in line spectrum due to significant random error such a temperature variation also the tungsten light with filter and the white light spectrum be not very smooth under this experiment to improve this method of characterize the different light source the data take around the null point should have be confine to roughly micrometer rather than the mm range of data which be use this would reduce the noise effect which would enter the interferogram and spectral line graph thus if part of the noise have a frequency dependence such a electronic noise or vibration then this effect would be reduce also any beating effect which occur outside of the gaussian interferogram would have less of an impact on the spectral line",
            "an investigation be undertaken with the aim of demonstrate the use of a michelson interferometer a a spectrometer to analyse the composition of light use fourier analysis a variety of light source be analyse and compare white lead tungsten white light with and without filter and blue lead the observation make agree well with the prediction from optic theory and the method be show to be accurate and precise interferometry be a technique in which wave be superpose and the result interference be analyse to make physical deduction spectrometry be a technique use to separate and measure the spectral component of a physical phenomenon usually light interferometry and spectrometry be both essential component of every physicist toolbox and they be use every day in a wide range of experiment in this investigation a simple michelson interferometer and a computer with analysis software be use in conjuction a a spectrometer to analyse the spectral component of a variety of light source white lead blue lead and filtered unfiltered tungsten light the principle of superposition of light state that when two or more em wave interact the result wave function be equal to the sum of the individual wave this can lead to interference between the two wave and this interference depends on phase difference between the two wave if in phase then constructive interference occurs and the result amplitude be a maximum conversely in anti phase destructive interference occurs and the amplitude of the result wave be a minimum hence when two wave superpose they form interference pattern with series of bright and dark band call interference fringe these interference fringe encode information about the light source and hence can be use to deduce physical property of the system in a michelson interferometer one light source be split into two perpendicular beam vary the length of these beam varies the difference in path length between the two beam when they be recombine it be therefore possible to manipulate the interference pattern by vary the length of one of the interferometer arm then measure how interference change with vary path length allows the use of fourier analysis to determine the frequency of light present the set up use in this experiment consists of a basic michelson interferometer a light source be direct towards a beam splitter which split the source into two perpendicular beam path a path b the two beam then travel out from the beam splitter and be reflect by mirror which be held perpendicular to the beam such that they be reflect directly backwards the two path be then recombine and produce an interference pattern which be measure by the detector a show in figure it be important to ensure that both mirror be perpendicular to the light beam so that the interference observe consist of circular heidinger fringe like that on the cover of this report to do this a green laser source be use and each mirror be alligned independently follow by allignment of the combine beam an image of the alligned apparatus can be see in figure the detector measure intensity of light receive at a sample frequency of hz by move mirror a use the stage the length of path a be change relative to path b this result in a change of the interference pattern and hence a change in the measure intensity the null point be a term use to describe the configuration of the equipment in which path a and path b be of equal length this be important a the interest interference effect happen about the null point and the effect decrease a we move away from the null point to take data mirror a be move very slowly about the null point whilst mirror b remains fix the position of mirror a and the intensity of light be both record once every s this data can then be plot into an interferogram to show the observe fringe the interferogram can then be fourier transform from position space to frequency space to reveal the frequency of light present in the original source this part be essential and be what completes a spectrometer rather than just an interferometer through early observation it be found that very short distance between measurement result in noisy data this be due to the imprecision of the move stage over distance on the nanometer scale the stage would slip at these scale and hence data would contain a lot of noise the detector have a fix sample rate of hz and hence to account for this measurement need to be take at high speed a minimum speed of mm s be decide on for proceed measurement correspond to a minimum distance between sample of nm this be found to be a good balance between detail and speed such a to maximise the smoothness of the measure interferograms whilst retain a much detail a possible before compare different light source use this set up it be important to first find the null point this be first do with a green laser light source a quick check for the direction of fringe movement at different position allow the location of the null point to be measure between mm and mm since either side of the null point the fringe would move in opposite direction to locate the null point more precisely a light source with a small coherence length be need a this result in a very narrow interferogram the green laser be replace by a white lead which should have a wide spectrum and hence a narrow interferogram data be take between mm and mm and the measure interferogram can be see in figure to measure the null point a accurately a possible a gaussian envelope be fit to the absolute intensity profile of the white lead the signal level from the normalise interferogram be square and root to give a positive spike this can be see in figure the gaussian fit be not perfect and a superposition of gaussians or an approximation to a dirac delta function might be more appropriate to fit the data however for the purpose of this investigation the precision of the gaussian fit be adequate the null point be found to be at a position of x mm measurement that follow be all take through a narrow band of position around this null point to save time the interferogram of the white lead be discus in the previous section in order to convert this into a spectrum of wavelength a fast fourier transform fft be take and the wavelength profile be plot on the nanometer scale the measure spectrum can be see in figure a expect the white lead produce a wide band of wavelength from around nm to nm cover the entire visible spectrum and reach into the infrared region a gaussian fit of the spectrum give a mean wavelength of nm this high error of be likely due to the misuse of the gaussian approximation of the data a can be see in figure there be in fact two measure peak one at nm and one at nm the leftmost peak be likely due to background light from an external light source a the light block lid be not fit during the take of this data some superposition of gaussians be likely more appropriate however for the purpose of comparison in this investigation the gaussian approximation be enough give an idea of the width and intensity of the emission spectrum the next source to be analyse be white light from a thorlabs sls l tungsten light source a with the white lead in the previous section a narrow wavepacket be expect due to the broad emission profile of the tungsten source a total of measurement be take about the nullpoint between mm and mm the measure interferogram can be see in figure a before an fft be take to convert the interferogram into a measure spectrum the measure spectrum can be see in figure a gaussian approximation yield a mean wavelength of nm this be wider than the white lead profile and also center on a much high wavelength outside of the visible spectrum upon inspection of the datasheet for the tungsten source it be clear that there be some limitation introduce by the detector the emission profile for the tungsten source should reach all the way into high wavelength of nm but the measure profile only reach up to around nm figure show the measure spectrum plot alongside the expect emission spectrum give by thorlabs the detector use consist of a very small aperture hence high wavelength of light particularly those beyond nm could not be detect the measure spectrum be only a partial one and a detector with a large aperture would be require to measure high wavelength and reconstruct the full spectrum nevertheless the detector do pick up on visible wavelength between nm and nm and hence the tungsten source be suitable in order to test the effect of visible light filter a thorlabs fl green filter be fit to the tungsten light source such that light would pa through the filter before enter the interferometer the purpose of a filter be to absorb most wavelength of light and transmit only a narrow band of light in the green region of the visible spectrum hence the measure spectrum should consist of a tight band of green wavelength a before measurement be take about the null point a total of sample between mm and nm be take with the stage move at a speed of nm s the measure interferogram can be see in figure compare to both the white lead and the tungsten source the interferogram of the green light be very broad with first order interference fringe span from mm to mm relative to the null point this be over time wider than the interferograms of the white lead and the tungsten source both of which span from mm to mm relative to the null point a fourier transform of the wide interferogram should result in a very narrow band of wavelength be present in the measure spectrum which be exactly what be expect for an optical filter figure show the measure spectrum of tungsten light through the green filter accord to the data sheet the wavelength transmit by the green filter be nm the gaussian approximation give a mean wavelength of nm this show u that the spectrometer be very accurate differ from the expect value by only the spectrometer be also precise with an uncertainty on this measurement of just the green filter be then replace by a thorlabs fb yellow filter a before a very narrow band of wavelength be expect in the yellow region of the visible spectrum a total of measurement be take between mm and mm and the firstorder interference band can be see in figure the width of the yellow interferogram be roughly the same a that of the green filter this be a expect give that both filter be make by the same manufacturer an fft be take a before and the result spectrum can be see in figure the mean wavelength through gaussian approximation be found to be nm accord to the datasheet the yellow filter should transmit wavelength of nm which once again show that the spectrometry method be use be both precise and accurate compare the yellow spectrum against the green spectrum in figure it can be see that whilst the width be similar the intensity of yellow light measure be much great than that of green light this make sense refer back to figure reveals that the yellow light center at nm be closer to the center of the tungsten emission profile and hence should have great intensity for completeness a truopto osub p blue lead be fit in the interferometer and it light be analyse and compare to the filter figure show the measure interferogram a one would expect the observe interferogram be wider than both the white lead and the tungsten source however it be actually narrower than both the green and yellow filter light a narrower interferogram corresponds to a wider wavelength band suggest that filter may be a well route at generate monochromatic light than lead s it could also just mean that the precision standard follow by truopto for their lead s be less than the standard held by thorlabs for their filter figure show the measure spectrum of the blue lead the mean wavelength be estimate to be nm once again this be accurate and precise compare to the expect wavelength of nm give in the lead s datasheet this be actually the best fit of all the light source discus with a tiny percentage uncertainty of just suggest that although the lead produce a wider band of wavelength it have less irregularity and imperfection than the filter the maximum amplitude of the receive blue lead signal be figure whilst the max amplitude of the green and yellow light be just figure and figure respectively a brighter light source mean that fluctuation introduce by the detector be less significant than for the dim light source and hence the precision of the spectrometer be increase lead s may therefore still be the well option for generate monochromatic light the large source of error in this experiment be the error introduce by the move stage a discus in section the stage would slip and introduce noise in position measurement this effect be greatly reduce by increase the distance between measurement however the error be not remove entirely the fft require the assumption that data point be evenly space in position space and due to the slip of the stage this be not entirely valid to reduce the error far it may be sensible to write error correction code which group data point into evenly space bins provide a reasonable amount of data point remain this would decrease the noise in the fft and hence high precision spectrum could be obtain a far source of error in the experiment be cause by slight misalignment of the apparatus a can be see in both figure and figure there be a negative skew in the the measure data due to misalignement of the two light beam which inevitably cause an asymmetry in the final spectrum it may be sensible to conduct this experiment on a large optical bench increase the length of the interferometer arm would enhance the effect of misalignment which may not be obvious on a small set of apparatus those misalignment would then be fix before any data be take a far improvement could be make by increase the aperture of the detector use a wider aperture would mean that high wavelength photon could be detect deeper into the infrared region of the spectrum a discus in section this would allow more comprehensive emission spectrum to be obtain a wider aperture also mean that a great total number of photon would be detect and hence the brightness of the receive signal would be great a discus in section this would reduce the error on signal measurement and hence the uncertainty on the measure spectrum even far to summarise this investigation demonstrate a michelson interferometer pair with a computer and data analysis software a a spectrometer this spectrometer be use to analyse and compare a variety of different light source and the observation match well with prediction the method outline be clearly powerful with result that be both accurate and precise nevertheless it have it downside and small adjustment could be make to far improve the quality of the experiment",
            "the purpose of this experiment be to calculate the spectral profile of various light source by use a fourier transform spectrometer they be a white lead a blue lead and a tungsten lamp with a green filter attach each light source be attach to an interferometer comprise of a beam splitter a fix mirror an adjustable mirror and a detector each of the interferograms be fourier transform to find the spectral profile of the light source the principle discussion point be whether the profile reproduce the expect shape base on the physical mechanism which generate the light in each source and the individual wavelength which be present in the source the calculate wavelength for the blue lead be nm and for the tungsten lamp with a green filter be nm his experiment be carry out in order to calculate the spectral profile of various light source by use a michelson interferometer the interferometer be combine with python script which perform fourier transforms in order to produce spectral profile for each light source the technique implement in this experiment be integral to many aspect of scientific measurement a it allows for very precise measurement on the order of a nanometer a recently a last month interferometry be use to detect a binary neutron star merger million light year away from earth the preference of an interferometer combine with a fourier transform mechanism over a spectrometer be due to the difficulty of create a tool which be able to take measurement at frequency comparable to that of light hz this be the case with the spectrometer however a an interferometer measure interference pattern which only change at the rate specify by the observer it be prefer for high frequency source the light source which be test where a white lead and blue lead and a tungsten lamp the underlie physical principle of this experiment be wave interference in a michelson interferometer and the emission spectrum of p n junction and blackbody the configuration of a michelson interferometer be outline below in figure light be emit from a source and divide by the partially silver mirror into two separate beam the two beam be then reflect off of either m or m the beam then recombine and interfere whether the interference be constructive or destructive be determine by the relative path and phase difference between the two ray thus interference be a very precise way of determine the relative distance between m and m a convenient way to visualize the beam interfere be by consider the two mirror a be in the same plane and light enter from an extend source this be demonstrate in figure the left hand figure demonstrates when the two mirror be perpendicular to one another and there be cylindrical symmetry the right hand figure illustrates a tilt between the mirror and when the symmetry be broken the left hand figure illustrates when the two mirror be perpendicular to one another and there be cylindrical symmetry in the system when this happens the fringe be calculation of the spectral shape of lead and a tungsten lamp use a fourier transform spectrometer blackett laboratory imperial college london t concentric ring haidinger fringe when one of the mirror be tilt with respect to the other this symmetry break down and the fringe form straight line fizeau fringe in order to use the interferometer a a spectrometer measurement be take about t refer to a the null point this produce a series of fringe which be detect electronically the interference pattern in fact contains all of the information require to calculate the wavelength profile of the source if a fourier transform be perform on the interference pattern it return a wavelength profile for the source a fourier transform be a mathematical tool which can transform a function from spacial co ordinate to wavelength co ordinate hence in a complex wave pattern it be able to extract the individual wavelength of the sinusoid which superpose to form the observe wave the fourier transform return the wavelength and their relative amplitude below be the equation which be use to transform between space and wavelength here be the function in spatial coordinate which be transform to return the frequency spectrum so a monochromatic wave becomes a dirac delta under a transform a a consequence of the fourier transforms the large the width of a wavelength spectrum of a wave be the small the width of the interference pattern the distance over which the pattern be detectable be refer to a the coherence length so a white light source should in principle have a shorter coherence length than a yellow light source this be demonstrate in figure in practice the wavelength spectrum be a direct consequence of the physical mechanism within a light source the emission spectrum of a solid be often well model a black body radiation unlike gas in which atom atom interaction be negligible and atomic transition produce photon with discrete energy in a solid the atom be close enough so that it affect the energy distribution of photon make it a continuous distribution the perfect blackbody emits and absorbs across all wavelength whilst in practice this can not exist it be a useful idealization for a number of material this be the approximation which be apply to the tungsten lamp a it be a hot dense solid the profile of a black body be show below in figure and it be useful to note that the temperature and peak wavelength be inversely proportional to one another a show in equation t where t be temperature and be the characteristic wavelength of the spectrum in a light emit diode lead many electron be excite and interact with hole the electron recombine with the hole and release a photon with an energy which be approximately that of the band gap between the valence and conduction band in that material this be well illustrate by the dispersion relation in figure and the p n diagram in figure figure a simplify dimensional parabolic dispersion relation for a semi conductor figure a p n junction diagram which illustrates how hole and electron recombine in the middle region to produce a photon with energy equivalent to that of the band gap in figure hence the energy and by extension frequency of photon which be release from the p n junction be not discrete but should resemble something more akin to a narrow gaussian profile due to the nature of the band gap the experimental setup consist of a michelson interferometer and computer refer to figure for detail the interferometer be connect to a computer which store data and use python to perform fourier transforms the interferometer require calibration before it could be use this meant make sure each of the beam from the source to the mirror be overlap with the other in order to minimise the error which small disturbance to the apparatus could cause the apparatus be built with a small a distance a possible between each of the individual component in order to make the fringe more visible particular lens be use to make the pattern large once locate the desire light source be screw into the apparatus and measurement be record measurement take be relatively straight forward for this experiment the moveable mirror be sent to the start location and scan through the range around the null point which be specify there be slight contention about how many measurement should be take in order to maximize the accuracy of the detection but also not so many that they become unnecessary ultimately it be decide that reading should be take across a mm range it should also be note that any constant offset in the interferograms be dealt with in the fourier transform a a line near the origin which be neglect the first measurement be make on a white lead the theory predict that the shape of the interference pattern would be a narrow gaussian a white light have a broad frequency spectrum and lead s have gaussian emission profile below be figure and the interferogram and fourier transform for the white lead indeed there be element of this interferogram which both agree and disagreed with the theory it do have a gaussian profile but be also asymmetric which be not predict by the theory the reason for the asymmetry be clearly displayed in figure the lead be not comprise of a continuous wavelength distribution but two spike a narrow one in the blue region and a broad one in the green yellow the reason for this unexpected profile can be found in the construction of the lead it be comprise of a uv blue lead in it centre which be coat in a fluorescent material which absorbs uv blue radiation and re emits white light however the limitation of the lead be displayed in the result and it be inefficient at mix light of different wavelength to test the validity of this explanation the measurement be retaken but this time a diffusion lens be attach to the apparatus to aid the mix of the light this be demonstrate in figure and it be not immediately evident from figure that there be any noticeable change in the mix of the wavelength however the wavelength profile provide far more insight into the effect of the lens the peak which represent the blue light be far less intense than before which implies that the light be be mixed more efficiently thus the spectrometer displayed the expect wavelength profile in accordance with the p n junction theory and the specific composition of the lead however test it ability to calculate specific wavelength be a task well suit to the use of a monochromatic light source the underlie physic of the blue lead be not very different from the white lead but it be a well way to test the spectrometer s ability to calculate specific wavelength of light yet again a gaussian interference pattern be expect except it should have be slightly broader than the white lead figure the wavelength profile for the blue lead with a peak wavelength of nm the measure peak wavelength be nm the interferogram be indeed a gaussian shape a predict and broader than the white lead interferogram the fourier transform produce figure which indicates one prominent wavelength of nm this be compare to the value give on the lead s datasheet which be nm there be two significant reason which for the error in the measure value the first be that the reading for stage distance be inaccurate a the stage do not measure the correct distance this may have introduce a positive or negative shift in the interferogram and the wavelength profile perhaps even more significantly the detector which be use in this experiment have a wavelength dependent sensitivity this be show in figure this profile suggests that blue light be not detect a well a longer wavelength and thus the wavelength which be calculate be shift towards the longer wavelength a potential correction could be a deconvolution with this profile and the calculate fourier transform however the exact sensitivity profile be not accessible and hence this extension be not attempt the final part of the investigation analyse the effect of a filter on a wavelength profile of a tungsten lamp the result display the predict sink function and the wavelength profile be a sharp peak in the green region the exact wavelength be nm the wavelength which be give in the datasheet be nm yet again the reason for this error be due to the detector and the moveable stage however a well a that the tungsten lamp undergoes heating and become less efficient with time this manifest itself a an incline in the interferogram it be positive a the stage be move from the righthand side of the graph to the left hence this introduces error into the result which be difficult to quantify this be test by move the stage and take measurement start at each end of the range left to right and right to left and confirm upon observe that the decline in intensity exist in both with increase distance overall the result of this experiment be quite successful the observe wavelength profile match the theory quite well all of the predict feature of the profile their shape and peak wavelength nm for the blue lead and nm for the green filter tungsten lamp certain improvement such a add a diffusion lamp to mix light be make during the experiment but other source of error such a the defective equipment be somewhat unavoidable perhaps the only disappoint aspect of the experiment be that the expect and measure wavelength diagreed somewhat negate the precision of interferometry a a measurement tool",
            "michelson interferometer be use to investigate the transmission nature of thin film bandpass filters for this a green and a yellow filter be testis with a tungsten lamp both of them show several maximum in their transmissivity which verify the creation of a fabry perot cavity in the filter additionally it be found that the maximum create by the green filter be space by integer multiple of nm i n the french physicist charles fabry and alfred perot developed an interferometer base on a transparent plate with two reflect surface today the design be vastly use for optical fiber communication to separate multiple layer of the transmit signal it be also use for thin film filter to create more exact reflective and pa band than absorption filter hence a michelson interferometer be use to determine the structure of two bandpass filters interferograms for a tungsten lamp with and without the filter be create and compare to each other the detector be base on a silicone photo diode thus it measure light intensity with the photoelectric effect so that light energy have to excite electron in the diode for electromagnetic wave the magnetic and the electric part contribute equally to the energy carry by the wave thus it be enough to inspect only the electric field e to determine the intensity of the light for any electric wave the intensity be proportional to the square of the electric field strength thus due to the geometry of the interferometer it may be approximate that the light propagates only in one direction x thus ray emit from the light source can be assume to follow the equation where a be the amplitude k be the wavevector be angular frequency and be the phase shift at the beam splitter this be divide into two ray so that each be direct at one of the two mirror and thus reflect hence one of them have to travel far by twice the mirror separation distance at the beam splitter they be combine again and interfere with each other so that a new wave be create where for the first wave be set to be and for the second it corresponds to the shift acquire when travel the additional distance d combine this with equation condition for constructive and destructive interference can be found constructive interference occurs when n and destructive when n this can be then extend for an input of mixed wavelength so that for a give d a different interference can be measure with the detector a show in appendix a this lead to a physical fourier transform fig crosssection of a thin film bandpass filter not to scale and the number of layer may vary the incident light ray be trap between the partially transmissive dielectric layer and thus a fabry pierot cavity be create a a result destructive and constructive interference occurs so that wavelength far away form the central wavelength be not transmit to decrease the passband of the filter the substrate layer be cover in absorptive material with a broad block range thus the result shape may be described a periodic spike in a gaussian envelope at first a computer simulation be use to model the interferometer distinct light spectrum be model a gaussian distribution and layer onto each other this show that a large spike in light intensity be always to be see at the point where both interferometer arm have the same length null point d the spectral range of the input be varied and it be found that a large spectral width lead to a narrower spike this corresponds to the principle of a fourier transform thus the null point could be most accurately found by inspect a white light source due to it broad spectrum base on this a michelson interferometer be built fig the light source be place in a long tube to minimise light pollution and point at the beam splitter from there it be direct partially to the movable and partially to the stationary mirror each thus a phase difference between the ray be induced since the distance travel by the ray would not be equal unless d be reflect by the mirror the beam be again connect by the beam splitter the combine ray would then be measure by a detector with adjustable gain for white light source lead tungsten lamp a diffuser be place between the source and the beam splitter in order to achieve more uniform illumination to increase light intensity for weaker signal tungsten with filter a convex lens f mm be place between the beam splitter and the detector the detector be position in the focal point the filter be place in the same area however they be mount onto a separate stand a see in fig for easy implementation additionally the setup be place on rubber leg to minimise the effect of mechanical shock from the environment this be however not sufficient a external shock could be clearly record hence every measurement be take multiple time and inspect for random error firstly a laser be use to align the mirror the non movable mirror be adjust so that the two reflect ray would meet in one point at the detector then the interference pattern be inspect for haidinger fringe a they be form when the two ray be parallel for large displacement the haidinger fringe would turn into fizeau fringe thus it be establish that the alignment of the movable mirror change with d to minimise this effect on data quality a narrow range around the null point be inspect mm from null point moreover it be discover that if the mirror be move slow than mm s the distance between measurement be strongly distort by random error hence for all measurement the optimum velocity be establish to be mm s a determine in the simulation a white lead be use to therefore the null point should be marked by the global maximum of the obtain graph however the result graph for the lead be asymmetric this may be attribute to the lead s not fully uniform light emission thus the null point be take to be the large visible spike and the related uncertainty be measure to be the distance to the next maximum from repeat measurement it be found that the movable mirror have to be place mm away from the center of the stage to be at the null point the obtain interferograms be then base on d with a discrete fourier transform a conversion to the wavelength domain be possible however for this the step size of the movable mirror be necessary fig the motor be measure it position relative to the stage step size for measurement in a range of mm at mm s during each measurement of intensity by the detector the adjacent position value be then take and subtract from each other so that the step size between measurement be calculate this be then plot in a histogram and the result shape be approximately a cutoff gaussian with it peak at nm and a standard deviation of nm thus the step be assume to be approximately nm so that a uniform discrete fourier transform could be apply this assumption be confirm with interferograms of white and blue lead fig two lead white and blue be use to determine the accuracy of the setup since their spectrum be well defined a show in fig the spectrum seem to be smooth and correspond well to their know spectrum see appendix b however small oscillation be to be see away from the spectras peak these can be attribute to the background noise to capture the background noise an interferogram be create with no light source the result graph show a periodic triangular wave in superposition with a small wave of much large frequency fig after a transformation to the wavelength domain no distinct spike in the visible spectrum can be see however several spike be locate around nm this be beyond the theoretical range of the detector appendix c thus it must have be add to the measurement after the light detection a possible source might be a charge and discharge capacitor in the vicinity of the photodiode or other electrical component the effect on data quality should be small a the spike be distant to the visible spectrum and can be thus easily filter a tungsten lamp be then use a the light source the result interferogram resembles the white lead a both source have a broad spectrum however the tungsten lamp be show few extremum around the null point thus it must have have a large spectrum this be confirm by the transformation to the wavelength domain fig a continuous gauss like graph can be see with a peak at ca nm this could however be strongly influence by the detector s relative spectral sesitivity appendix c due to the curve s asymmetry the tungsten lamp seem to emit warmer light than the lead additionally the lamp s temperature be increase during operation hence the infrared spectrum be verify above nm then a green filter fl cw l nm f w hm nm be place in front of the detector this change the structure of the interferogram drastically fig a new local extremum be induced to verify that this be a property of the filter the measurement be retaken three time all interferograms exhibit the same extremum the filter be then replace with a yellow filter fb cw l nm f w hm nm the obtain interferograms show similar extremum thus the observe phenomenon be a result of the filter structure moreover it be determine that for the green filter the maximum be space by integer multiple of nm a value could not be establish for the yellow filter the periodicity suggests a quantitative verification of a fabry perot cavity in the green filter the shape of the yellow filter graph suggests also a qualitative verification however far calculation would be inconclusive due to the large uncertainty connect to the measurement a michelson interferometer be use to inspect the nature of two thin film filter at first the setup be test for it quality and no problem be detect then the filter be inspect with a tungsten lamp a the light source both be show qualitative characteristic of a fabry perot cavity a their interferograms be show clear destructive interference pattern however no meaningful calculation could be make due to large uncertainty an improvement of the setup should then allow for a more quantitative understand of the phenomenon for instance a motor with more uniform step or a non uniform fourier transform would increase the data quality also the detector could take reading with a maximum frequency of hz and thus limited the measurement density vastly additionally it relative spectral sensitivity be strong in the infrared spectrum a detector more sensitive to the visible spectrum would give clearer result fig spectrum of a similar white lead a provide by the manufacturer appendix c fig relative spectral sensitivity a provide by the manufacturer for the detector sfh in case of n spectral line emit by the light source equation can be extend to be i kj x j t be i kj x j t kj d this have to be true for all time thus k j k j and j j base on this the light intensity see by the detector be this be a fourier series where the sinusoidal term go to assume that the emit light be a spectrum instead of a series the equation would result in a fourier transform",
            "in this experiment we explore the spectral composition of blue lead white lead mercury lamp and tungsten lamp use fourier spectroscopy with a michelson interferometer we analyse the blue lead with no filter white lead mercury lamp and tungsten lamp with no filter green filter and yellow filter for the white lead we found that their frequency profile follow a standard white phosphor lead whilst the blue lead emit light in the violet wavelength with a fwhm of for the tungsten lamp we found that the peak with no filter occur at which be closely align with the establish spectrum peak at with the mercury lamp the peak with no filter occur at around nm and nm which be closely align to establish mercury spectral which peaked at and in all case for white lead tungsten lamp and mercury lamp the green and yellow filter produce data which closely overlap the green light range at and yellow light range at the michelson interferometer be a common configuration for optical interferometry invent by albert abraham michelson in the th century it be most well known for it u by albert michelson and edward morley to test for luminiferous aether in the famous michelson morley experiment in the null result of which disprove the existence of such an aether the result later lead eventually to the special theory of relativity and the revolution in physic at the begin of the twentieth century a recent application of the michelson interferometer today be found in gravitational wave detection the existence of which be predict by general relativity a network of international laser interferometer have be construct in several country to detect these wave include the laser interferometer gravitational wave observatory ligo in the united state virgo in italy geo in germany and kagra in japan all of these experiment consist of a michelson interferometer with kilometer scale arm length the equipment at ligo be sensitive up to m or nearly one thousandth the diameter of a proton michelson interferometer can thus perform some of the most sensitive length measurement possible ligo and it partner observatory be vastly more complicate than the interferometer in this kit but the fundamental physical principle behind their operation be michelson interferometry in this laboratory session by use the physical principle of the experimental setup and the mathematics of fourier transform the michelson interferometer can be use a a spectrometer to examine the interference fringe of different light source that be brought under investigation in this experiment first discover by joseph fourier when he be look for a mathematical description of the process of heat conduction a fourier transform be the mathematical language use in formulate the equivalence and symmetry of wave or particle in space and time this be illustrate in the follow two equation and where x be the position the wave signal s amplitude be measure at be the angular frequency in the fourier frequency space in the frequency space the amplitude of the signal show how much of each frequency be present in the wave equation show that the fourier transform of any general wave signal f x take over in physical space yield g it fourier representation in frequency space equation show that if the inverse fourier transform be perform on g the original signal will be produce in this way fourier transforms act a a map between the physical representation of a wave and it fourier frequency representation fourier transforms form the mathematical basis for describe couple variable such a position and momentum energy and time in quantum mechanic in classical physic one of the fundamental tenet be that we would be able to determine the frequency of an electromagnetic signal with complete certainty this certainty manifest itself a an infinitely thin diracdelta function in the frequency domain with unity height and unity area centre on the know frequency however this tenet do not hold in quantum mechanic where certainty in one measurement creates uncertainty in another variable a a direct result of heisenberg s uncertainty principle a show in equation the exact frequency of an electromagnetic signal can not be know with complete certainty at any point in time fourier spectroscopy use the michelson interferometer this implies that for a give frequency measurement will arise a a frequency distribution with a central maximum and a finite spread in the form of a gaussian distribution a oppose to a dirac delta function in this experiment we will tabulate the frequency spread of the measurement a well a the bandwidth with it fwhm full width at half maximum result the michelson interferometer operate base on the principle that the interference of identical light beam will produce constructive interference or destructive interference depend on their path difference by keep the distance between beamsplitter with mirror and beamsplitter with mirror the reflect and transmit beam will have a path difference of zero the perfectly perpendicular position of the mirror be to retain the cylindrical symmetry of the setup if the cylindrical symmetry be not broken haidinger fringe could be see at infinity but if it be broken fizeau fringe appear at a short finite distance from mirror by keep the orientation of mirror fix and vary it perpendicular distance from the beamsplitter the path length of the two identical beam can be varied to create a haidinger fringe that evolves over time this evolve pattern be record and use fourier transform it could be use to analyse various characteristic of the source by the principle of superposition destructive interference and hence dark fringe would occur when the path difference be whilst constructive interference and hence light fringe would appear when the path difference be where be the order of interference and an integer where there be no path difference or the point be know a the null point of the michelson interferometer at the null point we expect to find the high light intensity due to maximum constructive interference from the reflect and transmit beam iii method in the michelson interferometer a laser beam be split by a cube beamsplitter the split beam be then reflect back by mirror and recombine at the beamsplitter a screen at the output of the interferometer show an interference pattern a lens be use to diverge the beam in order to obtain an interference pattern consist of light and dark ring constructive or destructive interference respectively the interferometer be set up use the follow step first mirror be position at the edge of the breadboard use four cap screw then the laser assembly be position on the oppose side of the breadboard the laser be then tipped and tilt so that the reflect beam fall back into the laser aperture after that the base be secure to the breadboard with a cap screw the beamsplitter and the screen be instal ensure that the beam be split at a angle that be achieve by observe the secondary reflection on the screen when they coincide with the primary reflection the beamsplitter be at a angle a slight deviation occur in the vertical direction which do not affect the measurement in the experiment the deviation meant that there be a slight tilt among the laser beam splitter and translation stage next mirror be instal the distance between the beamsplitter and the mirror be about the same along both interferometer arm two partial beam be now see a bright spot on the screen the second mirror be tipped and tilt until they overlap finally the lens be place between the laser and the beamsplitter interference ring be see the screw on the adjustment mirror be turn to create interference the screen be move away from the breadboard the lens be place behind the beamsplitter and the screen be move away from the breadboard result in a pattern of stripe instead of ring a screw on light tube be attach at one end of the beam splitter for connect the light source to the beamsplitter this be do to ensure perfect alignment between the source and the beam splitter a well a to prevent the source light from bleeding into the other quadrant of the michelson interferometer four opaque board be also use to separate the distinct segment and shield light from bleeding between them mirror be held in an optical mirror mount which have rotation knob for precise rotation about it central x and y ax the mirror be set up on a cylindrical diaphragm holder use the lab string and cm rule for measurement the perpendicular distance between both mirror and the beam splitter be make equal within mm of uncertainty five different light source would be use with the michelson interferometer in the spectroscopy test green collimate laser mainly during setup and not for data collection blue lead white lead tungsten lamp and mercury lamp a mm focal length magnify glass attach to the light source be place into the receive end of the light tube the magnify glass be use to broaden the laser light turn it from a collimated beam into an extend light source a white board be place at the position of the detector and two large green circle be see use mirror s precision rotation knob it orientation be carefully adjust until high contrast haidinger fringe be visible at the detector for the lens three different filter set be available no filter green filter and yellow filter when data collection commenced the screen be replace with a detector connect to the computer a simulation of the michelson interferometer be ran with white light and no filter range from a singlet signal doublet signal triplet signal quartet signal and quintet signal the signal be then process use fourier transform with frequency transform and wavelength transform the white lead source provide be typically a singlefrequency lead usually blue lead make of ingan coat with phosphor of a single colour a a first set of preliminary measurement we take a total of fourier plot and interferograms of white lead at the null point use no filter green filter and yellow filter of the number of interferograms associate with no filter the null point be most commonly found in the range of to and a representative sample of the interferograms at the null point be show in figure the fourier plot be obtain by feed the data plot of the interferograms around the null point through an algorithm for fast fourier transform of the fourier plot be reject due to their anomalous shape be reject due to the anomalous wavelength of the peak leave fourier plot which be accepted a result one of which be show in figure the shape and wavelength of the peak of the fourier plot be confirm by the frequency spectrum of a standard phosphor based white lead a show in figure figure a frequency spectrum of a phosphor based white lead note again the peak at around nm and nm in figure and we could see the consistency in the two peak at due to the gan based lead and at due to the cerium doped phosphor for white lead with green and yellow filter the interferograms be represent in figure and the fourier plot be show in figure for the blue lead light source the fourier plot and interferograms collect be tabulate in table of the four interferograms collect the null point be around a represent in figure the two fourier plot have a peak at and a show in figure give the discrepancy between the peak wavelength of establish literature value of a blue lead and the two fourier plot obtain we conclude that the lead may be emit violet light with wavelength range from to nonetheless the fwhm width of the establish literature value and two fourier plot be in good agreement with each other the tungsten lamp be use a a light source in the michelson interferometer a it act a a form of blackbody radiation table show the number of fourier plot and interferograms of tungsten lamp use no filter green filter and yellow filter of the interferograms associate with no filter the null point be most commonly found near and a representative sample of the interferograms at the null point be show in figure of the fourier plot be reject due to the wavelength of the peak leave fourier plot a show in figure the peak at be confirm by the establish spectral curve of tungsten lamp with no filter a show in figure give the proximity of the data peak at and the spectral curve peak at we conclude that the data for tungsten with no filter be reliable for tungsten lamp with green and yellow filter the interferograms and fourier plot be show in figure and figure the wavelength interval of green light be establish at and yellow light be establish at with reference to figure we can see that there be an overlap of between the fourier plot and establish literature value for green light and for yellow light we also note that the shape of the green filter and yellow filter fourier plot closely resembles a gaussian envelope the mercury discharge lamp be use a a light source in the michelson interferometer table show the number of fourier plot and interferograms of mercury lamp use no filter green filter and yellow filter a representative sample of the interferograms associate with the mercury lamp be show in figure the fourier plot associate with the mercury lamp be show in figure we carry out fourier transform spectroscopy on four different light source a white and blue lead a tungsten filament lamp and a mercury vapor lamp the white lead source give a frequency profile similar to the know distribution for a white phosphor lead there be an overlap of between the fourier plot and establish literature value for green light use the green filter and for yellow light use the yellow filter for the blue lead we note that the peak wavelength at suggests that the lead be emit violet light with wavelength range from to the fwhm width data be consistent with literature value with both at around to we also note that the shape of the green filter and yellow filter fourier plot closely resembles a gaussian envelope the tungsten lamp without filter peaked at which be consistent with the establish spectral curve which peaked at for tungsten lamp with green and yellow filter we could see that there be an overlap of between the fourier plot and establish literature value for green light and for yellow light we also note that the shape of the green filter and yellow filter fourier plot closely resembles a gaussian envelope the peak of mercury lamp with no filter at around and be confirm by establish mercury spectral which peaked at and the wavelength interval of green light be establish at and yellow light be establish at for mercury lamp with green and yellow filter we could see that there be an overlap of between the fourier plot and establish literature value for green light and for yellow light",
            "this experiment revolve around the construction and use of a michelson interferometer the interferometer be set up from scratch use the part give and align use a green laser diode we first determine the null point of the interferometer use white light interference we record the interferograms of different light source such a white lead blue lead a white light tungsten source and the tungsten with a yellow filter the interferograms be study and provide evidence that the broader the interferogram the narrower the spectral line in albert a michelson design an interferometer which be a device base on the phenomenon of interference of light wave that be base on the find of the experiment conduct by thomas young many year ago a michelson interferometer be a device that measure small distance through the observation of interference pattern create by recombine a split light beam with part that have travel different optical path it be an important tool in experimental physic with many application in different branch of science a prominent example be the detection of gravitational wave use in ligo laser interferometer gravitational wave observatory which earn the nobel prize in physic figure show the ligo site which use the michelson interferometer to detect gravitational wave the michelson interferometer also played an important role in research the temperature and wind of the upper atmosphere this be possible by measure the doppler width and shift in the spectrum of aurora which be do by the wind image interferometer windii on the upper atmosphere research satellite uars a the michelson interferometer determines the type of interference the condition to obtain constructive interference be for the path difference to be where n be an integer this mean that the two wave will be exactly in phase and will add to produce maximum intensity alternatively if the distance travel by the beam be exactly destructive interference will occur lead to no light be incident on the detector this make the michelson interferometer extremely precise a move either mirror by half a wavelength lead to either a bright fringe or a dark fringe appear on the detector the nature of the fringe observe depends on the set up of the interferometer and how it be illuminate if the two mirror be not at right angle to each other and we may either send collimate light into it parallel ray come from infinity or an extend source may be use refer to figure figure show that look into the instrument mirror m appear to be at the position of m if the arm differ in length by t the observer see the light originate from an extend source be reflect from two mirror separate by a distance of t we can choose either to tilt slightly one of the mirror or to leave it correctly align the angle of the incoming ray will vary ray of wavelength will reinforce each other at specific value of at which constructive interference occurs a show in figure a the cylindrical symmetry show that haidinger fringe appear to be circular by tilt one mirror the cylindrical symmetry be broken so that fizeau fringe form straight line c use the interferometer a a spectrometer when a single monochromatic wave be direct into a michelson interferometer the output be a series of bright and dark fringe which can be record if the input light consists of two distinct frequency the sequence of fringe be modulate the separation between null in the interferogram be related to the separation of the two frequency in frequency space figure show that the relationship be reciprocalthe closer the two frequency be to each other the far separate the null be in the interferogram figure show that a t be scan two wave of different get out of phase lead to a diminution of the contrast of the fringe however the wave will rephrase and the contrast will be restore assume that the initial set up of the interferometer with exactly equal arm length m the output be observe a the mirror be be scan the actual output see be the sum of the two intensity distribution show the length of the fringe train show be such that a one move away from the zero path difference point the fringe form by the longer of the two wavelength be almost begin to atch up with the fringe form by the shorter wavelength this cause the overall fringe pattern to be like that at zero order although it be only true at that point when there be only two wavelength the mathematics of fourier transforms can be apply to a source with an arbitrary spectrum the spectral line shape of a light source be approximately gaussian a the intensity be decrease with distance the broader the spectral line the narrower the interferogram from the interferograms of each different source the mean wavelength can be obtain this be possible a the path difference between two consecutive minimum on the interferogram x be a multiple of half of the wavelength give by nl where n be a positive integer since we measure the distance between two consecutive minimum on the interferogram n be assume to be we assume that this be the mean wavelength from the source and that the sample distance be constant the coherence length l could be obtain and use to find the spectral width v with the fo mula c v x l n where c be the speed of light to tum this into wavelength the fo mula where a be the mean wavelength of the source before we begin constrncting the michelson interferometer we developed a simulation of the interferometer and study the type of result expect we could manipulate variable such a the speed at which the lliltor move how far the lliltor move between sample a well a the number of sample take this be possible a the sample rate be constant at hz the simulation give an output expect from a light source with a give gaussian profile and specify width it be also possible to reconstrnct the light source use a fourier transfo m function call fast fourier transfo m fft figure show the setup of the michelson intel ferometer in our laboratory the michelson intef erometer be set up a show in figure one of the lliltors be mount on a linear motor stage that be fix to the base the motor be kept on the linear stage throughout the whole experiment firstly the beam splitter be connect to a green laser diode with a piano convex with a focal length of mm this be position in front of the fix lliltor use a string and rnler the adjustable lliltor be position perpendicular to the beamsplitter fixed miitor line it be ensure there be no double point so both miitors be parallel to the beam splitter a white card be place in front of the photodetector to far align the interferometer this be do by tilt the adjustable lliltor to have the laser spot from both aim of the beam splitter directly on top of each other at the output once the interferometer be align the photodetector be connect to the computer via usb the photodetector be a photodiode attach to an amplifier with a variable gain which sainples at a rate of hz we proceed with the task of seai ching for the null point of the inteferometer which be define a the point at which t this be study by use the white lead source and observe the interference pattern throughout the movement of the mirror white light be the optimum choice a it have a wide range of frequency which translates to a narrow peak on the interferogram which be easy to notice once the interferometer be set up we start take interferograms of other light source these include a blue lead white light tungsten source with green and yellow filter the procedure be repeat for the white lead with a small range of distance around the null point to give a high resolution for the interferogram we use a range of mm mm with a speed of mm the process be repeat with the other aforementioned light source and the gain of the photodetector be varied depend on the light source a show in figure the spike occurs at the null point where t the null point be found to be mm and the uncertainty in position be determine by visualling zoom in the interferogram the range of distance be narrow down close to the null point and the interferogram for white lead obtain be a show in figure the blue lead produce a broader interferogram than the white lead with a peak wavelength of a show in figure table i show the feature of the interferograms that be study without perform fft along with it uncertainty overall the value of be small and this may be due to approximation and assumption involve in the equation they do however provide evidence that the broader the interferogram l the narrower which be show in the blue lead and tungsten source with a yellow filter in this experiment we construct a michelson interferometer from scratch and align it with a green laser diode this be proceed with find the null point use white light interference we produce interferograms of different light source such a blue lead tungsten white light source a well a the tungsten source with a yellow filter the interferograms be study and it be conclude that the broader the interferogram the narrower the spectral line and a few issue encounter throughout this experiment a this be a highly sensitive instrument in the process of take data the point on the graph look to be discrete and background noise affected the data which result in readjustment of the gain a well a realignment of the beamsplitter we be also unable to proceed with perform fft on each of the interferograms a there be a problem with the code provide a few suggestion for improvement for this experiment would be to use well light source such a light source with high intensity so that the data would not be affected by background noise",
            "a mirror in the michelson interferometer be move over a range and the signal picked up by the photodiode detector be use to plot interferograms of different light source a fast fourier transform be then take to identify wavelength correspond to the peak in the amplitude record by the detector this be perform for a white light source and a tungsten lamp with no filter and also for the tungsten lamp with green and yellow filter experimental value for the mean wavelength be found to be in close agreement with theoretical result provide by the manufacturer of the source and filter interference occurs when two or more wave meet and the resultant wave be the vector sum of the displacement of the individual wave depend on the phase difference between the wave either constructive or destructive interference occurs this fundamental concept underpins optical physic and be the basis for the michelson interferometer the michelson interferometer be design towards the end of the th century a part of the michelson morley experiment which be set up to test the relative motion of matter through ether contrary to what the then prevalent ether theory predict albert michelson and edward morley discover no difference in the speed of light in different direction albert einstein credit this experiment for lay the groundwork for research into alternate theory which soon lead to his theory of special relativity today the michelson interferometer can be refine use computer to facilitate very precise measurement of length and be use in the famous recent direct observation of gravitational wave in in this experiment one of the mirror in the michelson interferometer be move through a range produce a pattern of constructive and destructive interference pattern picked up by the photodiode detector and use to plot an interferogram this interferogram can then be use to obtain the wavelength of the source by take a fast fourier transform fft light be emit from a source and arrives at the beam splitter which separate the light into two different beam a and b travel at right angle to each other these beam both reflect off mirror m and m respectively and recombine to form beam c at the beam splitter before travel to the detector by the principle the condition for constructive or destructive interference between two monochromatic plane wave of path difference be where be the wavelength of the wave and when n be even there will be constructive interference and when n be odd there will be destructive interference in this experiment the path difference between the two wave can be see to be t in figure the null point be the point at which the two beam of light have no path difference and corresponds to t meaning that both beam travel exactly the same distance between be split by and then return to the beam splitter normally at this point there be constructive interference between the two wave the beam splitter use have a partially silver surface on one side and a dielectric plate on the other side the dielectric plate on the beam splitter cause a phase change of degree in the beam that be reflect this mean that the two beam will interfere differently for a give distance from the null point at t the beam will now destructively interfere a they be in antiphase and in equation when n be even there will be destructive interference and when n be odd constructive interference occurs to produce an interferogram the path difference t be varied and result be collect the result interferograms can be approximate use a gaussian function of the form here a be an arbitrary constant great than zero the fourier transform of this function be then where represent angular frequency this can be solve through integration by part to produce a gaussian in space the spectral width of a spectral line refers to the width of that line and we can see from equation and that there be an inverse relationship between the width of the interferogram and the gaussian spectral line finally the coherence length a quantity sometimes use to describe the spectral quality of a light source be define to be the fwhm of the interferogram for the source the relationship between spectral width and coherence length be where be the spectral width l be the coherence length and c be the speed of light the apparatus be set up in accordance with the schematic in figure with a piece of string be use to ensure the length of the two arm of the interferometer be equal it be also necessary to ensure that the interferometer be precisely align to avoid error in the wavelength value to do this a green laser be use a the source and the detector be remove this meant that the laser beam would continue on and so a card be place approximately m away on the path of the beam if there appear to be two dot on the card then the interferometer be not align correct and the position of the source need to be adjust until the two dot completely overlap and interference fringe could be see by eye next in order to obtain interferograms that can be use to determine the wavelength of the source the null point must first be locate a green laser be use and the moveable mirror be programmed to move across different distance interval and it be observe by eye if the fringe where either expand or contract a neither of the mirror be tilt circular haidinger fringe be observe this experiment the interval locate in which the fringe change from expand to contract be first found to be at distance mm to mm from the mirror s default position now the green laser be replace with a white light source and the mirror set to move over this interval at a speed of mm s a the detector sample the signal at a rate of hz sample be require so that data collection and the moveable mirror stop at the same time in the interferogram produce it be expect that there will be a large spike in the signal around the null point figure illustrates this from figure it be clear that the null point be at mm there appear to be a slight asymmetry in the interferogram and it be believe that the cause of this be due to the light beam still be structure this can be correct by use a ground glass diffuser have found the null point data can now be collect to determine the wavelength of different light source for all the reading the mirror be move over an interval of mm with the null point at the centre at a speed of mm s and sample be take first a white light source be investigate figure be the fft of the interferogram in figure this result agrees with the theoretical prediction of two peak at nm and nm however there also appear to be a sinusoidal dependence in figure which ca n t be explain by the theo y possible explanation for this be that the fluctuation have arisen from a misalignment in the apparatus or possibly due to small vibration cause by movement while data be be collect the next reading be perfo med on a different day and so the null point have to be locate again in case the apparatus have be move or random vibration have alter the point slightly use a tungsten light source with no filter the null point be found to be mm figure a fft be perfo med on this interferogram and an value for the mean wavelength of nm be obtain this be close to the theoretical value of nm provide by the manufacturer of the source the tungsten light source be then investigate with filter figure and depict the interferograms and result of fft these for green and yellow filter respectively a the filter only allow a nan ow range of wavelength through theoretically we expect to observe a wideenvelope gaussian a can be see in these figure additionally the theoretical prediction for wavelength of nm and nm for the green and yellow filter respectively agree with the experimental result the aim of this experiment be to build a michelson interferometer and use it to perform fourier transform spectroscopy to identify the wavelength of different light source while the experiment be successful in accurately obtain value for the wavelength in line with theoretical prediction a more rigorous treatment of the associate error could have be include the experiment could have be far extend by apply gaussian fit to the graph from which the standard deviation could be calculate which would provide an uncertainty on the wavelength in addition to this the speed use for the mirror s movement be determine through trial and error however a more accurate method could have be to use nyquist s theorem to determine the optimum rate of take sample to prevent either under or over sample another area of the experiment that could be improve be the effect of background light on the reading while it would not have be possible to take reading in complete darkness due to other experiment be conduct nearby this experiment could have be optimise by ensure that the background light be constant during reading and other lamp nearby be n t be switch on or off reference",
            "we investigate the spectrum of tungsten and mercury by use an interferometer to find the intensity of the light source this be do by arrange the different component of the interferometer to obtain an interference pattern of the light source and hence an amplify intensity we then use the fourier transform to find the spectrum of the source in wavelength space the temperature of tungsten be t k we observe deviation from the expect black body radiation curve and hence analysis of the detector and beam splitter sensitivity be incorporate in order to obtain a more accurate curve furthermore for mercury we saw four main peak in the visible range which correspond to four discrete transition the spectrum however be very noisy and hence upon add a magnetic field we saw slight variation for the wavelength transition the study of spectrum have be a key element in develop our understand of different phenomenon range from the reaction occur in star to discreet atomic transition govern by quantum mechanical process it be one of the major method use to observe matter in general context spectroscopy be the study of the interaction between matter and electromagnetic radiation in the case of this experiment where we study the spectrum of different light source the main phenomenon govern the process be emission of photon due to atomic transition when atom move between high and low energy state they emit a photon hence in frequency or wavelength space the peak or the continuous spectrum fundamentally be due to these atomic transition of the source in this experiment we study the spectrum of several light source and obtain the fourier transform of the source to observe it spectrum this be do by find the null point in the interferometer set up which indicates the position of maximum intensity the two main aspect of the experiment study be the investigation of the black body radiation of tungsten and the zeeman effect in mercury in the study of tungsten incorporate the effect of the detector and beam splitter be need in order to obtain the appropriate curve describe black body radiation in the case of mercury the same procedure be follow to obtain the spectrum to study the zeeman effect we add a magnet to our source we thus theoretically expect the energy level to split and hence see a split in the spectral line interference be the main phenomenon govern the process of this experiment the interferometer be set in a way to allow incoming beam from the light source to interfere constructively see method section the condition for constructive interference be where d be the separation between the interfere beam be the angle between them m an integer and be the wavelength of the light source the intensity of the wave be obtain use a photodiode and the record plot be an intensity versus distance plot the distance in this case represent the distance from the null point point where the intensity be a maximum in order to obtain the spectrum of the consider source we have to fast fourier transform the signal record by the inteferogram this be do by approximate the intensity signal in distance space to a set of discrete signal effectively this be give by where x k and x n be the amplitude in wavelength and distance space n be the number of sample consider and the exponential part represent the incoming transform wave in this experiment the incoming signal be gaussians which would in turn give gaussians a spectrum in wavelength space the expression look similar to the fourier series but the variable be different in this case the spectrum of tungsten corresponds to a black body mainly because it emits electromagnetic radiation at all frequency therefore theoretically the intensity of radiation be give by planck s law where i be the intensity a a constant h and c planck s constant and the speed of light in vacuum use this relation we can find the temperature of the tungsten law by the follow relation where t be the temperature and max be the peak wavelength of the spectrum and b be a constant of proportionality however the beam be affected by two main aspect both the beam splitter use and the detector have sensitivity towards wavelength we thus have two consider take those effect into account the follow plot show the sensitivity therefore in order to obtain the black body spectrum of the tungsten lamp source we should divide the output signal we observe by the above two contribution the spectrum of mercury be different than the other lamp source use since the emission occur at specific wavelength rather than a range of wavelength in the visible region there be wavelength correspond to the four emission at nm nm and nm nm thus theoretically we expect our spectrum to be comprise of delta function centre around the above wavelength a simulation of the data provide a well visualisation of the above case an interest phenomenon occurs upon place the mercury in a magnetic field the energy level of the atomic spectrum of mercury split and hence the peak show in the spectrum split a well in theoretical context the magnetic field add can be thought of a a perturbation to the energy level of mercury atom the value of this perturbation be give by where b be the apply magnetic field b be the bohr magneton m j be the spin quantum number and g j be a constant related to the quantum number describe this system therefore the simulation above would be modify to include the energy level splitting a follow fig simulation of the expect spectrum of mercury lamp upon apply a magnetic field a we can see in figure the energy level of the mercury atom split far and thus we expect to see the emission of more wavelength throughout this experiment the same experimental procedure be follow a schematic of the experimental set up provide a well understand of the procedure follow the main aim behind the built set up show in figure be to allow the beam of light come from the desire light source to constructively interfere and hence give a point of maximum intensity light arrives from the source at the beam splitter where it be divide into two beam go to the two mirror which then interfere and the interfere wave arrives at the detector which measure the intensity of this signal when the distance between the two mirror be exactly the same the beam interfere constructively to give maximum intensity this be the position of the null point in practice find the null point manually be very difficult and thus mirror have a motor which adjusts it position in other word it be enough to find the range of the null point and not the exact position once the range be obtain we can scan the motor and thus have a spectrum of the source at distance before and after the null point the next step be fourier transform the data in order to obtain the spectrum in frequency space for tungsten the same procedure be follow and in order to obtain a well curve describe the black body radiation spectrum we have to divide the output signal by the sensitivity of both the beam splitter and the detector the data sheet of the beam splitter contain value of the different point we have to multiply and hence divide the output signal by that be relatively easy for the detector the data sheet only contain a curve represent the value we therefore use mathmatica in order to extract the data by plot a grid which allows u to get the coordinate of the data point therefore take both contribution into account we obtain the spectrum of tungsten for mercury the additional step we conduct be place the lamp inside a magnet in order to observe the zeeman effect we can see from the above figure that upon add the contribution of the detector and beam splitter we get a black body spectrum the maximum wavelength of the spectrum be max nm and thus use equation the temperature of the tungsten lamp use be t k the plot with error bar be represent in b since the number of data point be relatively high and hence the plot would be messy and the difference between the curve with and without the sensitivity would not be clearer the error in our result be due to statistical error of run the motor several time and due to noise of our data more discussion in section v we obtain the spectrum of mercury with and without apply a magnetic field accord to equation we except the peak to split into far different wavelength the result be summarise below a the spectrum of mercury when no magnetic field be apply b the spectrum of mercury when a magnetic field be apply fig two plot show the difference between the spectrum of mercury when a magnetic field be apply figure show the difference in the spectrum of mercury when a magnetic field be apply to the mercury lamp although we can see difference in the shape of the spectrum there be a lot of noise to differentiate between actual splitting of energy level or just random noise the value of the wavelength for the mercury spectrum be nm nm and nm nm the value obtain along with their error lie within the range of the accepted theoretical value and value obtain by simulation which be nm nm and nm nm concern error the source of error be the same a the one use for tungsten the source of error be statistical due to measure several number of data set and noise in our experiment see appendix for plot with error bar since it make visualise the difference harder for the first part of the experiment the main experimental result be calculate the temperature of tungsten lamp the value obtain be t k this value along with it error lie within the accepted value of the temperature which be t k accord to the lamp data sheet we can see that the expect black body spectrum of tungsten be not quite obtain when directly plot the intensity in the experiment this be mainly due to the way the equipment use receives the incoming light upon find the sensitivity of the beam splitter use in the set up and the detector we can see that the spectrum be improve and look more like a black body in particular we can see that after the peak the spectrum decay in a way that corresponds to the exponential part show in equation however we can also see that there be still slight difference between the spectrum obtain and the theoretical spectrum of a black body the difference observe can be explain by several factor the way the sensitive be multiply possibly explains these difference a function be not provide for the sensitivity of the detector and therefore numerical method be use to obtain the data point and thus manually multiply the experimental point with these sensitivity the drawback of the method use be that only a limited number of data point be found compare to the large data set and therefore the variation show be for few data point than the one use in the experiment see appendix a for more detail on the method use to extract the point concern the error of the experiment two main source of error be identify the first source of error be the noise present in the experiment around the null point relatively far from the null point we except to see destructive interference thus the small value of intensity be assume to be noise and hence be take into account into the error calculation furthermore a second source of error be statistical to the way data sets be take in order to improve the accuracy of our result we take or independent data set of every light source therefore a standard deviation and a mean be obtain for individual point which thus introduce a statistical error for the second part of the experiment the wavelength of the mercury spectrum be nm nm and nm nm the obtain value along with their error lie within the range of the know value the main thing to notice about the spectrum be the relatively low resolution of the measurement this in turn make it hard to actually distinguish between peak and noise in other word although the above measure value be the high peak we can clearly see that there be several other peak this therefore also implies that see actual clear difference when apply the magnetic field be hard a well we can see slight difference in the two plot in figure in particular we can see more peak in the plot show the magnetic field however extract data and numerical difference be relatively difficult to obtain due to the low resolution present several step can be follow in the future to improve the resolution of the plot the major one would be to investigate the behaviour of the motor in detail since it be probably the main factor responsible for the resolution in particular a plot of the distance cover by the motor a a function of time can be consider to see if the motor move in the expect way furthermore the fast fourier transform can be modify to see if this affect the resolution we try however to modify this by use a different method to what be use for the other spectrum the result be not very different from the one obtain and hence modify the way of the fourier transform be not likely to affect the resolution a lot the source of error in the second part of the experiment be calculate in the same way a the tungsten lamp for both part although the calculate quantity be within the range of the expect value there be a possibility of the existence of systematic error the equipment and the detector be very sensitive to any change of distance or light intensity and hence external source of error might have be present in the experiment in order to reduce these source we try to make sure before start to take measurement that the distance be the same and that the lid cover the apparatus be properly on to avoid vary the light intensity in this experiment two main experimental result be obtain the temperature of a tungsten lamp source be calculate to be t k this result be obtain by take into account the both the detector and beam splitter sensitivity when measure the intensity of the tungsten lamp source in the second part of the experiment we obtain peak wavelength of mercury at nm nm and nm nm upon introduce the magnetic field we expect accord to the zeeman effect to see energy level splitting and hence several other peak the major drawback however be that the resolution of our spectrum be low and hence differentiate between peak or general noise be relatively difficult several possible extension be interest to far investigate in this experiment for the first part improve the numerical method use to take into account the sensitivity of the detector and beam splitter would provide to be useful to well improve the black body spectrum of tungsten for the second part the major extension would be to investigate the resolution of the interferograms in order to improve the spectrum of the mercury lamp this in turn would provide an improve resolution when compare the data with the magnetic field apply to the mercury lamp in brief the method use to extract the point consists of plot the graph on mathmatica and then plot small grid line which enable u to find the coordinate of the point an example below provide a visualisation of how the method work thus after find the point a scalar multiplication be do to the experimental data point to obtain a new fit the plot below show the mercury spectrum with error bard the plot be not place in the result section since the resolution of the mercury spectrum be low and the error bard make the plot more messy"
           ],
           [
            "none",
            "bal",
            "bal",
            "exp",
            "bal",
            "the",
            "bal",
            "the",
            "bal",
            "none"
           ],
           [
            "extended",
            "deep",
            "superficial",
            "deep",
            "expert",
            "prediction",
            "superficial",
            "deep",
            "extended",
            "extended"
           ]
          ]
         },
         "columnwidth": [
          300,
          40,
          40
         ],
         "header": {
          "fill": {
           "color": "lightgrey"
          },
          "font": {
           "size": 14
          },
          "height": 48,
          "line": {
           "color": "black"
          },
          "values": [
           "<b>Document Identification</b>",
           "<b>Epistemology</b>",
           "<b> Argument Level </b>"
          ]
         },
         "type": "table"
        }
       ],
       "layout": {
        "template": {
         "data": {
          "bar": [
           {
            "error_x": {
             "color": "#2a3f5f"
            },
            "error_y": {
             "color": "#2a3f5f"
            },
            "marker": {
             "line": {
              "color": "#E5ECF6",
              "width": 0.5
             },
             "pattern": {
              "fillmode": "overlay",
              "size": 10,
              "solidity": 0.2
             }
            },
            "type": "bar"
           }
          ],
          "barpolar": [
           {
            "marker": {
             "line": {
              "color": "#E5ECF6",
              "width": 0.5
             },
             "pattern": {
              "fillmode": "overlay",
              "size": 10,
              "solidity": 0.2
             }
            },
            "type": "barpolar"
           }
          ],
          "carpet": [
           {
            "aaxis": {
             "endlinecolor": "#2a3f5f",
             "gridcolor": "white",
             "linecolor": "white",
             "minorgridcolor": "white",
             "startlinecolor": "#2a3f5f"
            },
            "baxis": {
             "endlinecolor": "#2a3f5f",
             "gridcolor": "white",
             "linecolor": "white",
             "minorgridcolor": "white",
             "startlinecolor": "#2a3f5f"
            },
            "type": "carpet"
           }
          ],
          "choropleth": [
           {
            "colorbar": {
             "outlinewidth": 0,
             "ticks": ""
            },
            "type": "choropleth"
           }
          ],
          "contour": [
           {
            "colorbar": {
             "outlinewidth": 0,
             "ticks": ""
            },
            "colorscale": [
             [
              0,
              "#0d0887"
             ],
             [
              0.1111111111111111,
              "#46039f"
             ],
             [
              0.2222222222222222,
              "#7201a8"
             ],
             [
              0.3333333333333333,
              "#9c179e"
             ],
             [
              0.4444444444444444,
              "#bd3786"
             ],
             [
              0.5555555555555556,
              "#d8576b"
             ],
             [
              0.6666666666666666,
              "#ed7953"
             ],
             [
              0.7777777777777778,
              "#fb9f3a"
             ],
             [
              0.8888888888888888,
              "#fdca26"
             ],
             [
              1,
              "#f0f921"
             ]
            ],
            "type": "contour"
           }
          ],
          "contourcarpet": [
           {
            "colorbar": {
             "outlinewidth": 0,
             "ticks": ""
            },
            "type": "contourcarpet"
           }
          ],
          "heatmap": [
           {
            "colorbar": {
             "outlinewidth": 0,
             "ticks": ""
            },
            "colorscale": [
             [
              0,
              "#0d0887"
             ],
             [
              0.1111111111111111,
              "#46039f"
             ],
             [
              0.2222222222222222,
              "#7201a8"
             ],
             [
              0.3333333333333333,
              "#9c179e"
             ],
             [
              0.4444444444444444,
              "#bd3786"
             ],
             [
              0.5555555555555556,
              "#d8576b"
             ],
             [
              0.6666666666666666,
              "#ed7953"
             ],
             [
              0.7777777777777778,
              "#fb9f3a"
             ],
             [
              0.8888888888888888,
              "#fdca26"
             ],
             [
              1,
              "#f0f921"
             ]
            ],
            "type": "heatmap"
           }
          ],
          "heatmapgl": [
           {
            "colorbar": {
             "outlinewidth": 0,
             "ticks": ""
            },
            "colorscale": [
             [
              0,
              "#0d0887"
             ],
             [
              0.1111111111111111,
              "#46039f"
             ],
             [
              0.2222222222222222,
              "#7201a8"
             ],
             [
              0.3333333333333333,
              "#9c179e"
             ],
             [
              0.4444444444444444,
              "#bd3786"
             ],
             [
              0.5555555555555556,
              "#d8576b"
             ],
             [
              0.6666666666666666,
              "#ed7953"
             ],
             [
              0.7777777777777778,
              "#fb9f3a"
             ],
             [
              0.8888888888888888,
              "#fdca26"
             ],
             [
              1,
              "#f0f921"
             ]
            ],
            "type": "heatmapgl"
           }
          ],
          "histogram": [
           {
            "marker": {
             "pattern": {
              "fillmode": "overlay",
              "size": 10,
              "solidity": 0.2
             }
            },
            "type": "histogram"
           }
          ],
          "histogram2d": [
           {
            "colorbar": {
             "outlinewidth": 0,
             "ticks": ""
            },
            "colorscale": [
             [
              0,
              "#0d0887"
             ],
             [
              0.1111111111111111,
              "#46039f"
             ],
             [
              0.2222222222222222,
              "#7201a8"
             ],
             [
              0.3333333333333333,
              "#9c179e"
             ],
             [
              0.4444444444444444,
              "#bd3786"
             ],
             [
              0.5555555555555556,
              "#d8576b"
             ],
             [
              0.6666666666666666,
              "#ed7953"
             ],
             [
              0.7777777777777778,
              "#fb9f3a"
             ],
             [
              0.8888888888888888,
              "#fdca26"
             ],
             [
              1,
              "#f0f921"
             ]
            ],
            "type": "histogram2d"
           }
          ],
          "histogram2dcontour": [
           {
            "colorbar": {
             "outlinewidth": 0,
             "ticks": ""
            },
            "colorscale": [
             [
              0,
              "#0d0887"
             ],
             [
              0.1111111111111111,
              "#46039f"
             ],
             [
              0.2222222222222222,
              "#7201a8"
             ],
             [
              0.3333333333333333,
              "#9c179e"
             ],
             [
              0.4444444444444444,
              "#bd3786"
             ],
             [
              0.5555555555555556,
              "#d8576b"
             ],
             [
              0.6666666666666666,
              "#ed7953"
             ],
             [
              0.7777777777777778,
              "#fb9f3a"
             ],
             [
              0.8888888888888888,
              "#fdca26"
             ],
             [
              1,
              "#f0f921"
             ]
            ],
            "type": "histogram2dcontour"
           }
          ],
          "mesh3d": [
           {
            "colorbar": {
             "outlinewidth": 0,
             "ticks": ""
            },
            "type": "mesh3d"
           }
          ],
          "parcoords": [
           {
            "line": {
             "colorbar": {
              "outlinewidth": 0,
              "ticks": ""
             }
            },
            "type": "parcoords"
           }
          ],
          "pie": [
           {
            "automargin": true,
            "type": "pie"
           }
          ],
          "scatter": [
           {
            "fillpattern": {
             "fillmode": "overlay",
             "size": 10,
             "solidity": 0.2
            },
            "type": "scatter"
           }
          ],
          "scatter3d": [
           {
            "line": {
             "colorbar": {
              "outlinewidth": 0,
              "ticks": ""
             }
            },
            "marker": {
             "colorbar": {
              "outlinewidth": 0,
              "ticks": ""
             }
            },
            "type": "scatter3d"
           }
          ],
          "scattercarpet": [
           {
            "marker": {
             "colorbar": {
              "outlinewidth": 0,
              "ticks": ""
             }
            },
            "type": "scattercarpet"
           }
          ],
          "scattergeo": [
           {
            "marker": {
             "colorbar": {
              "outlinewidth": 0,
              "ticks": ""
             }
            },
            "type": "scattergeo"
           }
          ],
          "scattergl": [
           {
            "marker": {
             "colorbar": {
              "outlinewidth": 0,
              "ticks": ""
             }
            },
            "type": "scattergl"
           }
          ],
          "scattermapbox": [
           {
            "marker": {
             "colorbar": {
              "outlinewidth": 0,
              "ticks": ""
             }
            },
            "type": "scattermapbox"
           }
          ],
          "scatterpolar": [
           {
            "marker": {
             "colorbar": {
              "outlinewidth": 0,
              "ticks": ""
             }
            },
            "type": "scatterpolar"
           }
          ],
          "scatterpolargl": [
           {
            "marker": {
             "colorbar": {
              "outlinewidth": 0,
              "ticks": ""
             }
            },
            "type": "scatterpolargl"
           }
          ],
          "scatterternary": [
           {
            "marker": {
             "colorbar": {
              "outlinewidth": 0,
              "ticks": ""
             }
            },
            "type": "scatterternary"
           }
          ],
          "surface": [
           {
            "colorbar": {
             "outlinewidth": 0,
             "ticks": ""
            },
            "colorscale": [
             [
              0,
              "#0d0887"
             ],
             [
              0.1111111111111111,
              "#46039f"
             ],
             [
              0.2222222222222222,
              "#7201a8"
             ],
             [
              0.3333333333333333,
              "#9c179e"
             ],
             [
              0.4444444444444444,
              "#bd3786"
             ],
             [
              0.5555555555555556,
              "#d8576b"
             ],
             [
              0.6666666666666666,
              "#ed7953"
             ],
             [
              0.7777777777777778,
              "#fb9f3a"
             ],
             [
              0.8888888888888888,
              "#fdca26"
             ],
             [
              1,
              "#f0f921"
             ]
            ],
            "type": "surface"
           }
          ],
          "table": [
           {
            "cells": {
             "fill": {
              "color": "#EBF0F8"
             },
             "line": {
              "color": "white"
             }
            },
            "header": {
             "fill": {
              "color": "#C8D4E3"
             },
             "line": {
              "color": "white"
             }
            },
            "type": "table"
           }
          ]
         },
         "layout": {
          "annotationdefaults": {
           "arrowcolor": "#2a3f5f",
           "arrowhead": 0,
           "arrowwidth": 1
          },
          "autotypenumbers": "strict",
          "coloraxis": {
           "colorbar": {
            "outlinewidth": 0,
            "ticks": ""
           }
          },
          "colorscale": {
           "diverging": [
            [
             0,
             "#8e0152"
            ],
            [
             0.1,
             "#c51b7d"
            ],
            [
             0.2,
             "#de77ae"
            ],
            [
             0.3,
             "#f1b6da"
            ],
            [
             0.4,
             "#fde0ef"
            ],
            [
             0.5,
             "#f7f7f7"
            ],
            [
             0.6,
             "#e6f5d0"
            ],
            [
             0.7,
             "#b8e186"
            ],
            [
             0.8,
             "#7fbc41"
            ],
            [
             0.9,
             "#4d9221"
            ],
            [
             1,
             "#276419"
            ]
           ],
           "sequential": [
            [
             0,
             "#0d0887"
            ],
            [
             0.1111111111111111,
             "#46039f"
            ],
            [
             0.2222222222222222,
             "#7201a8"
            ],
            [
             0.3333333333333333,
             "#9c179e"
            ],
            [
             0.4444444444444444,
             "#bd3786"
            ],
            [
             0.5555555555555556,
             "#d8576b"
            ],
            [
             0.6666666666666666,
             "#ed7953"
            ],
            [
             0.7777777777777778,
             "#fb9f3a"
            ],
            [
             0.8888888888888888,
             "#fdca26"
            ],
            [
             1,
             "#f0f921"
            ]
           ],
           "sequentialminus": [
            [
             0,
             "#0d0887"
            ],
            [
             0.1111111111111111,
             "#46039f"
            ],
            [
             0.2222222222222222,
             "#7201a8"
            ],
            [
             0.3333333333333333,
             "#9c179e"
            ],
            [
             0.4444444444444444,
             "#bd3786"
            ],
            [
             0.5555555555555556,
             "#d8576b"
            ],
            [
             0.6666666666666666,
             "#ed7953"
            ],
            [
             0.7777777777777778,
             "#fb9f3a"
            ],
            [
             0.8888888888888888,
             "#fdca26"
            ],
            [
             1,
             "#f0f921"
            ]
           ]
          },
          "colorway": [
           "#636efa",
           "#EF553B",
           "#00cc96",
           "#ab63fa",
           "#FFA15A",
           "#19d3f3",
           "#FF6692",
           "#B6E880",
           "#FF97FF",
           "#FECB52"
          ],
          "font": {
           "color": "#2a3f5f"
          },
          "geo": {
           "bgcolor": "white",
           "lakecolor": "white",
           "landcolor": "#E5ECF6",
           "showlakes": true,
           "showland": true,
           "subunitcolor": "white"
          },
          "hoverlabel": {
           "align": "left"
          },
          "hovermode": "closest",
          "mapbox": {
           "style": "light"
          },
          "paper_bgcolor": "white",
          "plot_bgcolor": "#E5ECF6",
          "polar": {
           "angularaxis": {
            "gridcolor": "white",
            "linecolor": "white",
            "ticks": ""
           },
           "bgcolor": "#E5ECF6",
           "radialaxis": {
            "gridcolor": "white",
            "linecolor": "white",
            "ticks": ""
           }
          },
          "scene": {
           "xaxis": {
            "backgroundcolor": "#E5ECF6",
            "gridcolor": "white",
            "gridwidth": 2,
            "linecolor": "white",
            "showbackground": true,
            "ticks": "",
            "zerolinecolor": "white"
           },
           "yaxis": {
            "backgroundcolor": "#E5ECF6",
            "gridcolor": "white",
            "gridwidth": 2,
            "linecolor": "white",
            "showbackground": true,
            "ticks": "",
            "zerolinecolor": "white"
           },
           "zaxis": {
            "backgroundcolor": "#E5ECF6",
            "gridcolor": "white",
            "gridwidth": 2,
            "linecolor": "white",
            "showbackground": true,
            "ticks": "",
            "zerolinecolor": "white"
           }
          },
          "shapedefaults": {
           "line": {
            "color": "#2a3f5f"
           }
          },
          "ternary": {
           "aaxis": {
            "gridcolor": "white",
            "linecolor": "white",
            "ticks": ""
           },
           "baxis": {
            "gridcolor": "white",
            "linecolor": "white",
            "ticks": ""
           },
           "bgcolor": "#E5ECF6",
           "caxis": {
            "gridcolor": "white",
            "linecolor": "white",
            "ticks": ""
           }
          },
          "title": {
           "x": 0.05
          },
          "xaxis": {
           "automargin": true,
           "gridcolor": "white",
           "linecolor": "white",
           "ticks": "",
           "title": {
            "standoff": 15
           },
           "zerolinecolor": "white",
           "zerolinewidth": 2
          },
          "yaxis": {
           "automargin": true,
           "gridcolor": "white",
           "linecolor": "white",
           "ticks": "",
           "title": {
            "standoff": 15
           },
           "zerolinecolor": "white",
           "zerolinewidth": 2
          }
         }
        },
        "title": {
         "text": "Topic 2: ['source', 'light', 'figure', 'wavelength', 'interference', 'lead', 'show', 'point', 'experiment', 'would']"
        }
       }
      }
     },
     "metadata": {},
     "output_type": "display_data"
    },
    {
     "data": {
      "application/vnd.plotly.v1+json": {
       "config": {
        "plotlyServerURL": "https://plot.ly"
       },
       "data": [
        {
         "cells": {
          "align": [
           "center",
           "center",
           "center",
           "left",
           "left"
          ],
          "fill": {
           "color": "white"
          },
          "font": {
           "size": 12
          },
          "height": 48,
          "line": {
           "color": "black"
          },
          "values": [
           [
            "detector the black rectangle be the beam splitter and the white rectangle be the compensator in the set up these be combine into one component and be the distance between m and m ii type of visible fringe when interference occurs two different kind of fringe be form haidinger fringes these be fringe of equal inclination and be form when m and m be perpendicular to each other these be form by monochromatic and coherent beam of light these fringe be extremely useful be determine the null point of the interferometer a will be discus later fizeau fringes these be fringe of equal thickness and be form due to the thin wedge of air between m and m when m and m be not perpendicular to each other to study a source and it spectrum we must convert the interferogram produce by the interferometer to a wavelength spectrum this do use a fast fourier transform fft an fft convert from spatial domain to frequency domain due to the nature of the delta function there be a reciprocal relationship between the separation of the null in the interferogram and the separation of the frequency a gaussian temporal feature lead to a gaussian spectral feature this property be use to analyse the data collect and be discus later iv coherence length the coherence length can be described a the distance over which one arm of the michelson interferometer can be scan before the interferogram contrast becomes poor the coherence length be give by where be the speed of light and be the spectral width hz to turn this into wavelength we can use the formula where be the spectral width m and be technically the standard deviation of the gaussian of the wavelength spectrum and be the mean wavelength and can be found use the peak of the gaussian the spectral width m can be found use the full width half maximum by use the formula for a black body radiator cdef and it be possible to compare the peak wavelength cdef and temperature of a black body radiator use cdef lm where t be temperature and be measure in kelvin k this be know a wein s displacement law the interferometer be set up a show below in figure the interferometer be align use the green laser a the light source a mm plano convex lens p n la a be place before the beam splitter to broaden the beam and a mm plano convex lens p n la a be screw in after the beam splitter before the detector to focus the beam a screen be place approximately m away so a to reduce uncertainty the screw on the kinematic mirror be adjust till the central circular haidinger fringe could be see on the screen if fizeau fringe be see then the mirror be n t properly align after the interferometer be align the null point d be found this be do a it be around the null point where maximum interference be observe the green laser be first use to find the range in which the nullpoint exists use eq it can be see that be a constant and therefore when d increase must increase therefore a we move towards the null point the fringe move inwards and a we move away from it the fringe move outwards by use this information and test different point on the move stage the range be narrow down to mm the green laser be then replace by the white lead and a ground glass diffuser p n dg md be place to remove effect of the conical structure of the lead from the beam the photodetector be place back in it original position the narrow range be then test at a speed of lq the coherence length of white light be approx test at this speed ensure we would see the interference pattern for approx the null point be found a it be the only point where a white light fringe be see on the interferogram the null point be see at approximately mm position of the stage after the null point be found it be make sure that the interferometer be not disturbed too much and extreme caution be take when change light source three different source be test around their null point and data be take the three source be a white lead p n ospw p a blue lead p n osub p and a stabilize tungsten halogen light source the tungsten source be use first with no filter then with a green filter p n fl and then with a yellow filter p n fb the data for each reading be take at a speed of lq to get enough data point around the nullpoint the data collect be the signal amplitude time and position of the stage mm this data be then analyse use a python script which output an interferogram and perform an fft on the interferogram to give a wavelength spectrum a gaussian be then fit to the spectrum to get the value of cdef be simply the central wavelength of the gaussian and these value be then use to find use eq note while inputting the data into the programme an offset be notice from the expect value of the wavelength this be because once the stage have stop move repeat measurement be take at the same point this change the value of dsamp average distance between sample to fix this the excess data point be remove a can be see above the wavelength spectrum be a gaussian for the blue lead the mean wavelength be nm the be nm be nm and the coherence length be the error for the mean wavelength be simply the standard deviation of the gaussian a the coherence length be a function of the mean wavelength the error for the mean wavelength be then propagate to the coherence length to give u the final error error arose from the uncertainty of the stage of it own position and because the lead could never be place exactly in the center of the light tube the stage can move minimum increment of the speed be set at lq and the detector have a frequency of hz this mean that the detector must move between each reading but a it can only move increment at a minimum there would be repeat measurement at one position lead to an error blue lead be make from indium gallium nitride ingan and the mean wavelength found be well within the range expect by a blue lead make of ingan nm it be also expect that the blue lead would have a large coherence length than white light a the blue lead be a monochromatic source this be the case a can be see in the next section ii white lead for the white lead there be two gaussian distribution the first gaussian distribution be similar to that of the blue lead and have a mean wavelength of nm a of nm a of nm and a coherence length of whereas the second gaussian distribution be wider and represent the colour from green to red this have a mean wavelength of nm a of nm a of nm and a coherence length of it can be see that the coherence length and mean wavelength of the first gaussian be comparable to that of the blue lead the coherence length of the second gaussian be much small a it consists of a wider spectrum of wavelength than the blue lead two distribution be see be because of how a white lead be construct it be very hard to make a white lead a it consists of a wide spectrum of light therefore white light be make from a blue ingan lead which be coat with yttrium aluminium garnet yag which be a phosphor the phosphor absorbs some of the blue light which it then re emits a white light due to a phenomenon call stoke s shift this be a good approximation for white light the blue peak see be therefore a direct contribution of the blue lead whereas the yellow peak see be due to the phosphor coat iii tungsten source no filter for the tungsten source the mean wavelength be nm the be nm be nm and the coherence length be the peak wavelength a state by the manufacturer be nm and this fall just outside the range of our measurement it be also notice that the tungsten source be closely emulates a black body radiator use eq it s temperature be calculate it be see that the tungsten source act like a black body radiator at k a maxwell boltzmann distribution be expect a tungsten behaves like a black body but a can be see the spectrum be like that of white light but with a wider spectrum compare part a b from figure it can be see that the measure data agrees with expect data up until approximately nm and after that there be an unexpected drop this can be attribute to the detector use a it be only senstive to wavelength upto nm this therefore prof that tungsten do behave like a black body radiator iv tungsten source green and yellow filter it can be see that there be a sudden drop in the amplitude at the central wavelength for both the spectrum this happens because bandpass filter be coat with material of broad block range although these material help block a large range of wavelength they also reduce the transmission of the central wavelength for this reason the central wavelength be n t the peak wavelength and we see a drop in amplitude at the central wavelength the mean wavelength for the green and yellow filter be nm and nm respectively which agrees with the manufacturer value of nm and nm the coherence length for the yellow and green filter be m and m respectively in conclusion a michelson interferometer be built and be use to analyse three different source of light a white lead a blue lead and a tungsten source no filter yellow filter and green filter on analyze their wavelength spectrum it be see that the white lead be construct use a blue lead with a phosphor coat this be evident from the two different distribution present it be also see that the tungsten source no filter act like a black body radiator of k it be determine that the sudden drop in the central wavelength of the tungsten source with the filter be due to the extra coat use to block a large range of wavelength on the filter to improve the experiment a photodetector which be sensitive to large wavelength should be use so that the tungsten source can be properly study this would also help u well determine it temperature a large range of source uv and infra red should also be look at",
            "michelson interferometer with motorise mirror be use to produce interferograms of a tungsten white light source both with and without filter the interferograms be fourier transform to recreate the input spectrum render the whole process an alternative method of optical spectroscopy the tungsten source be intend to resemble a blackbody spectrum and the data collect exhibit sign of this relationship though the evaluation be limited by poor detector sensitivity the filter act to permit only a small range of wavelength to be transmit around a specify central wavelength the experimental data produce value of nm and nm for the yellow and green filter respectively the standard error on these wavelength be nm which be significantly wider than the simulated nm this be thought to be due to variation in the detector sample step however the determine central wavelength match specification value which support this method of spectroscopy use an interferometer t he spectrometer be an instrument central to numerous field of science use to disperse light into a spectrum of it constituent wavelength the spectrometer provide a mechanism for determine property of light source this have far reaching impact for a material heat to the point of incandescence it spectrum be characteristic of it elemental composition spectroscopy have historically aid the discovery of new element such a caesium and rubidium and the development of new technology such a neon light the development of spectroscopy be far influential in physic the emission spectrum of white light be unusual in that the total energy be not equally distribute among all frequency spur the development of quantum mechanic in this experiment a michelson interferometer be use a a spectrometer this possibility arises from the mathematics of fourier transforms where position space be convert to frequency or wavelength space transform the interferogram a plot of amplitude against position therefore provide a method of recreate the original spectrum of light go into the interferometer a tungsten white light source have a spectrum that be often model a that of a blackbody so study it interferogram and fourier transform to wavelength space can evaluate the extent to which this be correct since the star and planet be often model a blackbody where the elemental composition of the body influence the emission spectrum the action of filter on the tungsten spectrum have significance and can be explore the success of the result can therefore be interpret a a test for the efficacy of this method of spectroscopy a michelson interferometer consists of a light source beamsplitter two mirror and a detector a show in fig the beamsplitter which be make up of two adjacent prism allows the light beam from the source to be split into two beam of approximately equal intensity one beam a travel to the mirror m and the other b travel to the mirror m upon which they be both reflect the two beam return to the beamsplitter and undergo a partial reflection and recombination interfere a they recombine the recombine beam can be image on white card the difference in distance between each mirror and the beamsplitter be represent by t for a plane monochromatic wave with wavelength if t be equal to zero which be know a the null point or t be an integer multiple of then the two beam will constructively interfere if t be equal to an odd integer multiple of then destructively interference will occur this produce an interference pattern a series of dark and light fringe if mirror m be exactly perpendicular to beam b cylindrical symmetry allows haidinger fringe to form which appear a concentric cylindrical circle a show in fig mirror m can be motorise in order to slowly alter the distance t the detector can then scan over a range of t value and measure the intensity at that point to produce an interferogram for a monochromatic source this interferogram will appear a a sine wave however if the light source be not monochromatic but contains two distinct frequency the resultant interferogram will be modulate wave of both frequency leave the source with the same phase but will only have the same phase upon reach the detector if t be equal to zero or an integer multiple of both wavelength if use a source with many wavelength such a a white light emit diode the modulation will increase in number until the interferogram have a gaussian appearance all of these interferograms in position space be related to the spectrum of the light source in frequency space by a fourier transform by fourier transform the output interferogram of any source it be possible to reclaim the original spectrum the michelson interferometer can thus be use a a spectrometer when the distance between the two mirror and the beamsplitter be unequal the two light beam recombine at the beamsplitter with a path difference the coherence length of the light source be define a follow for a difference in path length between the two beam great than the coherence length phase relation between two different ray become random a a result for distance from the null point great than the coherence length no interference be detect the peak on the resultant interferogram therefore have a width approximately equal to the coherence length if the light contains a very limited range of frequency such a that from a green laser the coherence length be very large which produce a wide interferogram for a light source contain many different wavelength such a a white lightemitting diode the resultant interferogram have a narrow peak a tungsten white light source have an output that approximates to a blackbody radiation spectrum the tungsten source use in this experiment provide a constant intensity spectrum from to nanometre reference thorlabs it spectrum be claimed to most closely resemble a blackbody at k the temperature t be inversely proportional to the peak wavelength peak and be give by where b be stefan s constant which be equal to km to s f a filter act to restrict the wavelength allow through it two filter be available a green filter with a central wavelength of nanometre and a yellow filter with a central wavelength of nanometre both have a full width at half maximum of nanometre and have a characteristic gaussian transmission spectrum since few wavelength be present the coherence length increase so the interference pattern appear over a wider range of mirror position the predict spectrum of a tungsten source with filter be assume to be give by the convolution of the tungsten spectrum and the filter transmission spectrum since the transmission range of each filter be so narrow approximately ten nanometre compare to the overall range of the tungsten lamp there be little noticeable difference between the convolute output and original gaussian input however the simulation be able to be later compare to the data collect simulation for the tungsten source both with and without filter be show in fig the michelson interferometer be assemble accord to fig care be take to ensure that all component be the same height by use of a magnetic beam ruler the distance between each mirror and the beamsplitter be make approximately equal component be secure by screw them into a vibration damping board which reduces fluctuation in the interference pattern due to external vibration clamp fork be use to far secure component correct alignment of the interferometer be essential for produce clear interference pattern a green laser of wavelength nanometre be use for alignment the collimation package be screw into the lens tube which itself be screw into the beamsplitter so that the light beam be exactly perpendicular to the beamsplitter prism surface first the angle of the beamsplitter be adjust so that the laser beam reflect off the centre of the move mirror the angle of the fix mirror be also adjust so that the laser beam also reflect off of it centre the detector be replace with a sheet of white card on which to image the laser beam for alignment the angle of the fix mirror be adjust in small increment until the two beam overlap on the card this card be initially held close to the beamsplitter then held at a great distance to finetune the beam overlap so that they be coincident insert a planoconvex lens expand the laser beam to a broaden source so that interference fringe be visible the angle of the fix mirror be once again finetuned so that the centre of the haidinger fringe laid at the centre of the field of view the white card be then replace with the detector which be position so that the centre of the haidinger fringe laid on the detector itself the detector be once again secure with a clamp fork and the laser replace with the tungsten white light source due to the nature of the white light tungsten source which have a wide spectrum contain numerous wavelength it be only around the null point at which there be visible interference a discus in coherence length although it be possible to scan over the whole range of the motorise mirror the slow rate at which the mirror must move to detect the interference peak make this extremely unpractical require ten of thousand of reading therefore it be useful to first find the approximate region within the mirror s range of the null point in order to find this region the green laser be use due to it clear interference fringe at all mirror position the white card be place in front of the detector to more clearly image the fringe a the mirror move towards the null point the haidinger fringe will move towards the central bright fringe conversely fringe will move out of the centre a the mirror travel away from the null point therefore the approximate location of the null point can be determine by the direction of fringe travel in this way the null point be determine to be between and millimetre due to fluctuation in the position of the central fringe a the mirror approach the null point it be difficult to limit the null point to a small range however this range be deem sufficiently small over which to scan slowly with the tungsten light source in place the range of to millimetre be scan through at a speed of millimetre per second and more precise location of the null point determine to then more precisely view the interference pattern the detector be scan through the new small range of to millimetre at a slow speed of millimetre per second each of the two filter be place into the tungsten light source box before the light beam reach the collimation package the detector be scan initially over the same two millimetre range a previously use but this range be make large if necessary so that the whole interference pattern be in view the tungsten source with no filter produce an interferogram with gaussian shape the relevant interferograms be show in fig unexpected modulation be present for both the yellow and green filter since the filter both have a gaussian shape wavelength transmission distribution a gaussian interferogram be expect possible reason for this discrepancy be explore in far discussion the coherence length for the tungsten source with no filter be much small than that of the tungsten source with either a green or yellow filter a see on the x axis scale this be due to the large range of wavelength present a previously explain in coherence length a discus in theory the fourier transform of each interferogram for the tungsten source both with and without filter can recreate the spectrum of light go into the interferometer for the tungsten source with no filter fig show both the simulated and experimental spectrum which be vertically scale for easy comparison the experimental spectrum appear to have a peak wavelength of approximately nanometre which corresponds to a blackbody temperature of k accord to however the detector use have a lack of sensitivity in the infrared region correspond to wavelength between nanometre and millimetre it can be see by comparison with the simulation that the experimental curve would extend and peak at a high wavelength therefore the actual peak wavelength can not be determine without extreme and unsupported extrapolation the experimental spectrum for the green and yellow filter be show in fig the simulated spectrum for the yellow and green filter be two narrow approximate gaussians centre on and nanometre with a standard error of nanometre the experimental data do indeed lie centre on the expect wavelength but it be clear from fig that there be a much great wavelength spread in the transform spectrum a discus in the effect of filter the convolution of the blackbody spectrum from the tungsten source and the narrow gaussian transmission spectrum of the filter give another approximate gaussian the experimental result show peak and trough in the exact same position for both filter which suggests that their shape be due to systematic error or irregularity of the filter therefore to determine an estimate spread on the wavelength from the filter spectrum they be fit to gaussians with a mean of the central filter wavelength the optimise fit be show in fig the standard error on these gaussians be nanometre this increase in spread of wavelength compare with the simulated nanometre be likely due to the data collection method by examine the raw data it be found that the motorise mirror do not necessarily move in equal distance step although the whole range be cover data step varied by up to millimetre from the set value give that the average data step for precise scan be approximately millimetre assume a constant data step for the fourier transform result in a wider spread of wavelength than the true spread it be possible that fitting a gaussian to these spectrum be not appropriate the modulation present in fig and fig suggest that the filter have irregularity and do not have a gaussian transmission spectrum the interferograms have the appearance of a sinc function which be give by fig amplitude against wavelength for experimental tungsten light source with green and yellow filter fig amplitude against wavelength for experimental tungsten light source with green and yellow filter both experimental result and gaussian fit the fourier transform of this function be a step function which have an approximately constant intensity at all wavelength in a range drop off steeply at either end the spectrum from the two filter do not match either the step function or gaussian particularly well but suggest that perhaps the filter transmission spectrum do not match their specification the interferograms of a tungsten light source be successfully experimentally test for both no filter and a green or yellow filter with a michelson interferometer the interferograms be fourier transform to attempt to recreate the spectrum of the light source the interferometer be therefore use a a spectrometer and these spectrum be then compare to the previously simulated spectrum which be base on data value for the light source and filter the main source of error with any optical experiment of this sort be misalignment small degree of misalignment can introduce large discrepancy and asymmetry of the interferogram dust and residue collect on the mirror over time a well a accidental smudge on assembly these irregularity would equally introduce anomaly into the interferograms and therefore the resultant spectrum practical improvement to the experiment would generally involve take more measurement over the null point this be especially the case for the tungsten source with no filter a the coherence length be very small due to the large range of wavelength present since the same mirror speed be use for all data collect few data point be collect over the null point for the tungsten source with no filter produce a disjoint spectrum despite the lack of valid data for the infrared region a smoother curve for the visible region could allow the tungsten spectrum to be fit to a blackbody spectrum and therefore well compare with the simulation",
            "michelson interferometer with motorise mirror be use to produce interferograms of a tungsten white light source both with and without filter the interferograms be fourier transform to recreate the input spectrum render the whole process an alternative method of optical spectroscopy the tungsten source be intend to resemble a blackbody spectrum and the data collect exhibit sign of this relationship though the evaluation be limited by poor detector sensitivity the filter act to permit only a small range of wavelength to be transmit around a specify central wavelength the experimental data produce value of nm and nm for the yellow and green filter respectively the standard error on these wavelength be nm which be significantly wider than the simulated nm this be thought to be due to variation in the detector sample step however the determine central wavelength match specification value which support this method of spectroscopy use an interferometer t he spectrometer be an instrument central to numerous field of science use to disperse light into a spectrum of it constituent wavelength the spectrometer provide a mechanism for determine property of light source this have far reaching impact for a material heat to the point of incandescence it spectrum be characteristic of it elemental composition spectroscopy have historically aid the discovery of new element such a caesium and rubidium and the development of new technology such a neon light the development of spectroscopy be far influential in physic the emission spectrum of white light be unusual in that the total energy be not equally distribute among all frequency spur the development of quantum mechanic in this experiment a michelson interferometer be use a a spectrometer this possibility arises from the mathematics of fourier transforms where position space be convert to frequency or wavelength space transform the interferogram a plot of amplitude against position therefore provide a method of recreate the original spectrum of light go into the interferometer a tungsten white light source have a spectrum that be often model a that of a blackbody so study it interferogram and fourier transform to wavelength space can evaluate the extent to which this be correct since the star and planet be often model a blackbody where the elemental composition of the body influence the emission spectrum the action of filter on the tungsten spectrum have significance and can be explore the success of the result can therefore be interpret a a test for the efficacy of this method of spectroscopy a michelson interferometer consists of a light source beamsplitter two mirror and a detector a show in fig the beamsplitter which be make up of two adjacent prism allows the light beam from the source to be split into two beam of approximately equal intensity one beam a travel to the mirror m and the other b travel to the mirror m upon which they be both reflect the two beam return to the beamsplitter and undergo a partial reflection and recombination interfere a they recombine the recombine beam can be image on white card the difference in distance between each mirror and the beamsplitter be represent by t for a plane monochromatic wave with wavelength if t be equal to zero which be know a the null point or t be an integer multiple of then the two beam will constructively interfere if t be equal to an odd integer multiple of then destructively interference will occur this produce an interference pattern a series of dark and light fringe if mirror m be exactly perpendicular to beam b cylindrical symmetry allows haidinger fringe to form which appear a concentric cylindrical circle a show in fig mirror m can be motorise in order to slowly alter the distance t the detector can then scan over a range of t value and measure the intensity at that point to produce an interferogram for a monochromatic source this interferogram will appear a a sine wave however if the light source be not monochromatic but contains two distinct frequency the resultant interferogram will be modulate wave of both frequency leave the source with the same phase but will only have the same phase upon reach the detector if t be equal to zero or an integer multiple of both wavelength if use a source with many wavelength such a a white light emit diode the modulation will increase in number until the interferogram have a gaussian appearance all of these interferograms in position space be related to the spectrum of the light source in frequency space by a fourier transform by fourier transform the output interferogram of any source it be possible to reclaim the original spectrum the michelson interferometer can thus be use a a spectrometer when the distance between the two mirror and the beamsplitter be unequal the two light beam recombine at the beamsplitter with a path difference the coherence length of the light source be define a follow for a difference in path length between the two beam great than the coherence length phase relation between two different ray become random a a result for distance from the null point great than the coherence length no interference be detect the peak on the resultant interferogram therefore have a width approximately equal to the coherence length if the light contains a very limited range of frequency such a that from a green laser the coherence length be very large which produce a wide interferogram for a light source contain many different wavelength such a a white lightemitting diode the resultant interferogram have a narrow peak a tungsten white light source have an output that approximates to a blackbody radiation spectrum the tungsten source use in this experiment provide a constant intensity spectrum from to nanometre reference thorlabs it spectrum be claimed to most closely resemble a blackbody at k the temperature t be inversely proportional to the peak wavelength peak and be give by where b be stefan s constant which be equal to km to s f a filter act to restrict the wavelength allow through it two filter be available a green filter with a central wavelength of nanometre and a yellow filter with a central wavelength of nanometre both have a full width at half maximum of nanometre and have a characteristic gaussian transmission spectrum since few wavelength be present the coherence length increase so the interference pattern appear over a wider range of mirror position the predict spectrum of a tungsten source with filter be assume to be give by the convolution of the tungsten spectrum and the filter transmission spectrum since the transmission range of each filter be so narrow approximately ten nanometre compare to the overall range of the tungsten lamp there be little noticeable difference between the convolute output and original gaussian input however the simulation be able to be later compare to the data collect simulation for the tungsten source both with and without filter be show in fig the michelson interferometer be assemble accord to fig care be take to ensure that all component be the same height by use of a magnetic beam ruler the distance between each mirror and the beamsplitter be make approximately equal component be secure by screw them into a vibration damping board which reduces fluctuation in the interference pattern due to external vibration clamp fork be use to far secure component correct alignment of the interferometer be essential for produce clear interference pattern a green laser of wavelength nanometre be use for alignment the collimation package be screw into the lens tube which itself be screw into the beamsplitter so that the light beam be exactly perpendicular to the beamsplitter prism surface first the angle of the beamsplitter be adjust so that the laser beam reflect off the centre of the move mirror the angle of the fix mirror be also adjust so that the laser beam also reflect off of it centre the detector be replace with a sheet of white card on which to image the laser beam for alignment the angle of the fix mirror be adjust in small increment until the two beam overlap on the card this card be initially held close to the beamsplitter then held at a great distance to finetune the beam overlap so that they be coincident insert a planoconvex lens expand the laser beam to a broaden source so that interference fringe be visible the angle of the fix mirror be once again finetuned so that the centre of the haidinger fringe laid at the centre of the field of view the white card be then replace with the detector which be position so that the centre of the haidinger fringe laid on the detector itself the detector be once again secure with a clamp fork and the laser replace with the tungsten white light source due to the nature of the white light tungsten source which have a wide spectrum contain numerous wavelength it be only around the null point at which there be visible interference a discus in coherence length although it be possible to scan over the whole range of the motorise mirror the slow rate at which the mirror must move to detect the interference peak make this extremely unpractical require ten of thousand of reading therefore it be useful to first find the approximate region within the mirror s range of the null point in order to find this region the green laser be use due to it clear interference fringe at all mirror position the white card be place in front of the detector to more clearly image the fringe a the mirror move towards the null point the haidinger fringe will move towards the central bright fringe conversely fringe will move out of the centre a the mirror travel away from the null point therefore the approximate location of the null point can be determine by the direction of fringe travel in this way the null point be determine to be between and millimetre due to fluctuation in the position of the central fringe a the mirror approach the null point it be difficult to limit the null point to a small range however this range be deem sufficiently small over which to scan slowly with the tungsten light source in place the range of to millimetre be scan through at a speed of millimetre per second and more precise location of the null point determine to then more precisely view the interference pattern the detector be scan through the new small range of to millimetre at a slow speed of millimetre per second each of the two filter be place into the tungsten light source box before the light beam reach the collimation package the detector be scan initially over the same two millimetre range a previously use but this range be make large if necessary so that the whole interference pattern be in view the tungsten source with no filter produce an interferogram with gaussian shape the relevant interferograms be show in fig unexpected modulation be present for both the yellow and green filter since the filter both have a gaussian shape wavelength transmission distribution a gaussian interferogram be expect possible reason for this discrepancy be explore in far discussion the coherence length for the tungsten source with no filter be much small than that of the tungsten source with either a green or yellow filter a see on the x axis scale this be due to the large range of wavelength present a previously explain in coherence length a discus in theory the fourier transform of each interferogram for the tungsten source both with and without filter can recreate the spectrum of light go into the interferometer for the tungsten source with no filter fig show both the simulated and experimental spectrum which be vertically scale for easy comparison the experimental spectrum appear to have a peak wavelength of approximately nanometre which corresponds to a blackbody temperature of k accord to however the detector use have a lack of sensitivity in the infrared region correspond to wavelength between nanometre and millimetre it can be see by comparison with the simulation that the experimental curve would extend and peak at a high wavelength therefore the actual peak wavelength can not be determine without extreme and unsupported extrapolation the experimental spectrum for the green and yellow filter be show in fig the simulated spectrum for the yellow and green filter be two narrow approximate gaussians centre on and nanometre with a standard error of nanometre the experimental data do indeed lie centre on the expect wavelength but it be clear from fig that there be a much great wavelength spread in the transform spectrum a discus in the effect of filter the convolution of the blackbody spectrum from the tungsten source and the narrow gaussian transmission spectrum of the filter give another approximate gaussian the experimental result show peak and trough in the exact same position for both filter which suggests that their shape be due to systematic error or irregularity of the filter therefore to determine an estimate spread on the wavelength from the filter spectrum they be fit to gaussians with a mean of the central filter wavelength the optimise fit be show in fig the standard error on these gaussians be nanometre this increase in spread of wavelength compare with the simulated nanometre be likely due to the data collection method by examine the raw data it be found that the motorise mirror do not necessarily move in equal distance step although the whole range be cover data step varied by up to millimetre from the set value give that the average data step for precise scan be approximately millimetre assume a constant data step for the fourier transform result in a wider spread of wavelength than the true spread it be possible that fitting a gaussian to these spectrum be not appropriate the modulation present in fig and fig suggest that the filter have irregularity and do not have a gaussian transmission spectrum the interferograms have the appearance of a sinc function which be give by fig amplitude against wavelength for experimental tungsten light source with green and yellow filter fig amplitude against wavelength for experimental tungsten light source with green and yellow filter both experimental result and gaussian fit the fourier transform of this function be a step function which have an approximately constant intensity at all wavelength in a range drop off steeply at either end the spectrum from the two filter do not match either the step function or gaussian particularly well but suggest that perhaps the filter transmission spectrum do not match their specification the interferograms of a tungsten light source be successfully experimentally test for both no filter and a green or yellow filter with a michelson interferometer the interferograms be fourier transform to attempt to recreate the spectrum of the light source the interferometer be therefore use a a spectrometer and these spectrum be then compare to the previously simulated spectrum which be base on data value for the light source and filter the main source of error with any optical experiment of this sort be misalignment small degree of misalignment can introduce large discrepancy and asymmetry of the interferogram dust and residue collect on the mirror over time a well a accidental smudge on assembly these irregularity would equally introduce anomaly into the interferograms and therefore the resultant spectrum practical improvement to the experiment would generally involve take more measurement over the null point this be especially the case for the tungsten source with no filter a the coherence length be very small due to the large range of wavelength present since the same mirror speed be use for all data collect few data point be collect over the null point for the tungsten source with no filter produce a disjoint spectrum despite the lack of valid data for the infrared region a smoother curve for the visible region could allow the tungsten spectrum to be fit to a blackbody spectrum and therefore well compare with the simulation",
            "the aim of the experiment be to determine property of lead and tungsten lamp source use interferometry this be do by shin light from these source into an interferometer and then fast fourier transform the interferograms to obtain wavelength spectrum for the light through fitting a gaussian to the spectral peak we obtain the mean wavelength and spectral width of the light for the tungsten lamp we obtain a mean wavelength of nm and spectral width of nm for the blue lead we found a wavelength of nm and a spectral width of nm and for the white lead we found a wavelength of nm and a spectral width of nm likewise for the green and yellow filter tungsten lamp we obtain mean wavelength of nm and nm and spectral width of nm and nm respectively these result agree with the expect mean wavelength and spectral width to test the black body nature of the tungsten lamp we subject it to wiens displacement law and derive a temperature of k which do not contain the state value of k within it error range this difference be likely down to the inability of the detector to detect in infrared range he main objective of the experiment be to determine property of light source such a the mean wavelength emit and the spectral width use interferometry this be do by feed light from a variety of different source into an interferometer the interference pattern be detect by a photodetector and then fourier transform through computer code for the analysis this allow a wavelength spectrum to be produce along with the result on the mean wavelength and spectral width the investigation be important a it enables the property of a light beam to be deduce when no other effect be present so a to act a a comparison for far interferometry experiment such a the detection of gravitational wave by ligo the michelson interferometer work by splitting a light beam into distinctive beam reflect them off perpendicular mirror and then recombine the beam when they be at right angle to each other plane wave recombine will interfere and the interference pattern will be determine by the path difference between the beam from their respective mirror to where they recombine if the path difference be an integer number of wavelength then the beam will meet in phase to constructively interfere to form a bright fringe if the path difference be a half integer number of wavelength then the beam will meet completely out of phase and destructively interfere to form a dark fringe in addition to this the orientation of the mirror determines the shape of the fringe have the mirror perpendicular to each other creates a cylindrical symmetry for the reflect light result in circular haidinger fringe by tilt one of the mirror the cylindrical symmetry be broken so straight line fizeau fringe will be form instead deduce property of light source use interferometry va ying the path difference of monochromatic plane wave light ie by shift the position of one of the minor will result in a se ies of alternate bright and dark fi inges with an amplitude that increase to a maximum at the null point where the path difference be alternatively use light make up of frequency will produce the same pattern of bright and dark fringe but with an amplitude that modulates a show in figure a fomier transfo m of these amplitude signal will generate the frequency that make it up in the fo m of spectral line conesponding to the separate wavelength of light that constitute the beam the broader the spectral line the nanower the interferogram i these spectral line can be approximate a gaussian an approximation that be most fitting for lamp emit light in this case the mean wavelength can be approximate from the peak wavelength of the gaussian and the spectral width can be found use where bj be the spectral width and fwhm be the full width at half maximum namely the width of the gaussian at half it s height the spectral width be a measure of the range of frequency emit by the source i lose energy and emit photon of a specific frequency to generate a ce tain colour in order to fo m white light lead s often contain multiple chip of different colour which combine to fo m white light the equipment be set up a show in figure great c are be take to ensure that the minor be perpendicular to eachother and that the light beam be perpendicular to the mi rnrs to ensure a clear inte ference pattern this be initially do by eye with the aid of the magnetic mler which help to align all component conectly finer tune be do by turn on the green laser and alter the ientation of one of the minor until clear circular haidinger fringe be see for this a lens be use to expand the beam into a broaden source to make the fringe clearer the mobile minor stage be then move over it entire mm range until we obse ved a change in the direction of movement of the haidinger fringe to indicate the presence of the null point and the procedure be redone with a small range ultimately we scan through the small length with the white lead until we saw a large increase in the amplitude of the interferogram highlight the null point position this be necessa y so that all the spectroscopy expe iments could be perfo med around the null point to allow u to obtain the large amplitude inte ferograms which could then be fast fourier transform to produce spectral line for analysis i essentially the only interest data be around the null tungsten lamp source work by heating up a tungsten filament by passing electricity through it to the point that it emits light continuously in this way it behaves a a black body emitter and would be expect to emit all wavelength of light a a black body the wavelength emit by the tungsten lamp would follow wiens displacement law give by where t be the temperature and a peak be the peak wavelength i point the green laser be then replace with a blue lead and the minor stage be set to move a few tenth of a millimeter through the null point position and the interferogram be obtain from the detector this procedure be then repeat for a white lead a tungsten lamp and finally a tungsten lamp with a green filter and then a yellow filter each interferogram be then cut so that only the high amplitude data around the null point be include so a to ensure that only the relevant data be fourier transform and hence accurate spectral line be obtain after the interferograms be fast fourier transform gaussian curve be fit to the spectral line for the blue lead and filter tungsten lamp the mean wavelength be take from the peak wavelength on the gaussian a the light be make up of only main wavelength this can not be do for the white lead and unfiltered tungsten lamp a they be comprise of multiple wavelength so the mean wavelength be calculate by measure the width of the interferogram over the null point position and then divide this by the number of wave we measure over the spectral width for each spectral peak be then found use for the tungsten lamp a mean wavelength of nm and a spectral width of nm be obtain whilst for the blue lead a wavelength of nm and a spectral width of nm be found and for the white lead we deduce a wavelength of nm and a spectral width of nm for it wide peak likewise the green and yellow filter tungsten lamp produce mean wavelength of nm and nm and spectral width of nm and nm respectively the mean wavelength for the blue lead and the green filter tungsten fit comfortably within the expect wavelength range of these respective colour be nm for blue and nm for green whilst the mean wavelength for the yellow filter tungsten be within the accepted range although it error range do exceed the limit of nm however due to the approximate nature of the wavelength limit and the fact the error range only oversteps the yellow range by a few mm this do not raise any concern the unfiltered tungsten mean wavelength suggests the tungsten lamp mostly emits in the short wavelength infrared spectrum a can be expect from the fact it generates light by intensely heating a filament wire in addition the large spectral width highlight the fact the white tungsten light be comprise of a large number of vary wavelength due to it continuous emission a a black body this be most evident when compare to the comparatively small spectral width of blue lead and green and yellow filter tungsten which reflect the single frequency nature of the light fig a graph show the wavelength spectrum for a white lead both peak be fit with a gaussian fig a graph show the wavelength spectrum for a blue lead here a lorentzian fit would be more suitable than a gaussian fig a graph show the wavelength spectrum for yellow filter tungsten lamp fit with a gaussian an unexpected dip can be see a a black body emitter the tungsten lamp would be expect to follow wiens displacement law use a temperature of k be derive for the tungsten lamp which do not contain the state value of k within it error range this discrepancy be most likely explain by the fact the detector use can not detect infrared light meaning valid data in the infrared range be exclude from the fourier transform result in the peak wavelength be small than it should be this fact also explains the difference between figure and the expect black body curve namely the sharp drop of the data to amplitude after a certain distance into infrared range a oppose to an asymptote with the x axis the error introduce by this could be account for by use a detector that can detect in the infrared region for the white lead peak can clearly be see in figure this highlight the different method of generate white light undertook by the lead compare to the continuous emission of the tungsten lamp here each peak corresponds to the wavelength of light generate by the semiconductor chip within the lead which mix to form white light however the gaussian curve do not seem to fit the data a well a it do for the tungsten graph the data be sharper and narrower than the gaussian near the peak and do n t drop off a rapidly which be characteristic of a lorentzian curve this be most obvious with figure the suitability of a gaussian for the tungsten graph suggests that the thermal emission of light be well model a a gaussian and so the fact gaussian curve fit the lead graph relatively well highlight thermal effect cause some light emission in the lead model the wavelength spectrum of the lead s after a lorentzian would be a way of improve the experiment in addition to this the sensitivity of the detector result in a lot of noise be picked up this error could be reduce by repeat the experiment in an isolated room an unexpected result be obtain with the sharp dip in figure and this be clearly not separate peak a it be obtain from monochromatic light and be unlikely to be noise due to it size meaning a point of far investigation could be to probe this range with more reading to get high resolution data the aim of the experiment be to deduce property of lead and tungsten lamp source use interferometry this be do by feed light from these source into an interferometer and then fast fourier transform the result interferogram to obtain wavelength spectrum for the light this allow u to calculate the mean wavelength and spectral width which fit the expect value base on the light colour and method of generation we also perform wiens displacement law on the tungsten lamp to test it black body behavior we obtain a temperature of k which differs from the state value of k this discrepancy be likely due to the inability of the detector to detect infrared light the sensitivity of the detector also generate a lot of noise to reduce the error introduce by this i would repeat the experiment in an isolated room and use a detector which can detect infrared light fig a graph show the wavelength spectrum for a green filter tungsten lamp fit with a gaussian here an unexpected dip can be see",
            "in the experiment present a michelson interferometer be use to obtain the interferograms of a white lead a blue lead and a tungsten halogen lamp to the latter yellow and green optical filter be apply by perform a fast fourier transform on the interferogram data we retrieve the wavelength spectrum of the source mean wavelength spectral width and coherence length of the source be calculate by approximate the spectrum to gaussian curve the value obtain be compatible with what expect with the exception of the coherence length result for filter light the error be thought to derive from the irregular shape of the filter light spectrum which could not be approximate well by a gaussian we determine that the two lead light be more efficient illumination source than the tungsten lamp a their spectrum fall almost exclusively in the visible range unlike the tungsten lamp spectrum nterferometry consists of a range of technique design to exploit the interference of electromagnetic wave to investigate the characteristic of the wave or of the material with which they interact in michelson won the nobel prize in physic for his contribution in the field of interferometry the michelson interferometer have in fact several advantage over it predecessor be more versatile and capable of more precise measurement when it become apparent that the interference pattern detect could be use to retrieve the spectrum of the source michelson construct an analogue computer to carry out the fourier transforms need this technique have since proliferate due to the advent of fast and inexpensive computer the aim of the experiment present be to use a michelson interferometer to study the spectrum of different light source describe them both qualitatively and quantitatively the first source consider be lead lamp that produce light use a light emitting diode and be significantly more efficient than incandescent and fluorescent lamp we then study an incandescent tungsten lamp to which optical filter be apply in this report the main spectral difference between the two type of source will be outline a well a the effect that different filter have on the light spectrum interference consists in the superposition of two or more wave from the same source that be incident on the same point the interference be perfectly constructive when the wave be in phase which in the absence of a phase shift corresponds to their path difference be an integer multiple of their wavelength a measure of the maximum path difference the two light beam can have before the interference pattern fade be give by the coherence length l that can be found use where c be the speed of light in a vacuum and be the bandwidth of the source in a michelson interferometer the light beam emit by a source be amplitude divided at the beam splitter into two beam one reflect and one transmit a show in fig the beam then travel to two mutually perpendicular mirror m and m in fig and be reflect when the two light wave recombine at the beam splitter they interfere in different way depend on the difference in the distance travel by the two ray the intensity of the light that reach the detector therefore depends on the path difference l and can be write a where a be the amplitude of the beam and their wavenumber spectral analysis of lead and tungsten halogen lamp light use a michelson interferometer in the case of an extend source i e not point like light beam enter the system from numerous different angle result in an interference pattern characterise by concentric bright ring these fringe be call haidinger fringe and be show in fig the interference pattern change a one of the mirror be translate a it cause the path difference l to change when l be be decrease the fringe shrink towards the centre of the interference pattern and conversely they spread out from the centre when l be be increase the record of this vary signal at the detector be call an interferogram the midpoint of the interferogram refer to a the null point corresponds to a path difference equal to zero the vary intensity of the detect light can be express a a function of the spectral amplitude distribution of the source b by rewrite eq in the form we can then split eq n into the two integral the first of which corresponds to a constant equal to half the intensity obtain with optically equidistant mirror therefore we have which be a cosine fourier transform of b i e the real part of the full transform we can now calculate the spectrum of the source b a a function of the detect intensity use the inverse fourier transform the frequency composition of the source can therefore be retrieve from the interferogram with the use of fourier transforms a the envelope of an interferogram follow a gaussian shape it be important to note that the fourier transform of a gaussian curve be still a gaussian curve the result gaussian have width inversely proportional to the width of the original one this proportionality be sometimes call the bandwidth theorem for this experiment we use three different source a blue lead a white lead and a halogen tungsten lamp we take measurement of the tungsten light both unfiltered and filter the two filter use be a green filter and a yellow one with central wavelength give to be respectively nm and nm by the manufacturer both value have an uncertainty of nm the setup of the michelson interferometer use be show in fig to correctly align the component we use a green laser firstly we make sure that the mirror be perpendicular to the incoming light beam by check that the ray be be reflect back to the same point where they left the beam splitter secondly we make sure that the output ray reach the detector be overlap to achieve this we adjust the direction of two beam until they appear to overlap on a distant object we then add a plano convex lens f mm to the source to observe the interference pattern to find the null point we decide to move the stage by mm step and then scan very slowly over a small distance this allow u to determine if the fringe of the interference pattern be move inwards or outwards by refining our step we found the point where the direction of the fringe change that corresponds to the null point we then use a white lead light to find the null point more precisely a it have a broader emission spectrum and therefore a narrower interferogram in accordance with the bandwidth theorem we scan slowly over small interval around the null point s approximate position found with the green laser until we observe a dark fringe on the detector correspond to the null point we proceed to take preliminary data in order to adjust the move mirror s speed and the gain of the detector we then take data around the null point for each of the source adjust the range base on the size of the interferogram and with a sample rate of hz we found that the null point corresponds to a dark fringe not a bright one the interference with zero path difference be perfectly destructive a the beam splitter introduces a phase change of we observe that for the first data point the position step record be not regular furthermore numerous data point be take at the final position after the stage have stop move for these reason we decide to crop our data to avoid shift in the wavelength spectrum to retrieve the wavelength spectrum from the interferograms we perform a fast fourier transform on the data set the step of the move mirror to be constant and equal to the average length of the measure step all the uncertainty report be obtain from the uncertainty on the fit or calculate use the standard formula the wavelength specf lum obtain for the blue lead show in fig be characterise by one single peak with mean wavelength equal to in the case of a white lead show in fig the spectmm present t different peak a large one with wavelength range from yellow to red and a small one coitesponding to blue light this result agrees with what expect a the most common way of produce white lead consists in coat a blue or uv lead with a thin layer of phosphor that cause yellow light to be emit the combination of the blue and yellow light appear white to the human eye the thickness of the phosphor layer determines the colour temperature of the lamp in our case the yellow red component be predominant on the blue one result a warm white colour most of the white lead spectmm be within the visible range therefore only a small part of the energy supply to the source get conve t ed in non visible light make the white lead relatively efficient a a illumination source the wavelength spectrum obtain for filter and unfiltered tungsten lamp be show in fig a expect the amplitude be reduce when filter be apply fig not to scale the mean wavelength of the unfiltered light found in table l be shift when filter be apply the shift value for wavelength table l be compatible with expect range of run for yellow light and run for green light the filter light specn a be characterise by an in egular shape which impact negatively on their fit and consequently on the value of spectral width and bandwidth obtain the unfiltered specf lum be well approximate by a gaussian wavelength nm fig plot of tungsten light both unfiltered and filter use green and yellow optical filter ti e dash line represent the gaussian fit spectrum the amplitude obtain with filter light be amplify by a factor of to be visible in the same graph a the unfiltered light tue fit on the filter light data be very poor while the fit on the unfiltered light data follow the data reasonably well most of the specf lum for unfiltered tungsten light fall outside of the visible range this detennines a low efficiency a an illumination source we approximate the tungsten lamp to a blackbody and estimate it temperature to be k by use wien s displacement law tapea where t be the temperature this value be an overestimation on the expect value of around k suggest that the mean wavelength we calculate be likely to be inferior to the actual value be compatible with the interferograms a they be of the same order of magnitude in the case of the white lead the coherence length be found consider the main peak only the coherence length value obtain for the filter light found in table be not compatible with the coitesponding interferograms show in fig these value should in fact be of the order of io m the en or arises from the spectral width of the filter light obtain which be approximately ten time large than the value give by the manufacturer fwhm of i o run this discrepancy be mainly due to the fact wavelength data for filter light be poorly fit which result in a significant overestimation of the standard deviation and therefore of the spectral width and the bandwidth by compare the interferograms fig and sub lot of fig and and the coitesponding spectrum it can be observe that wider interferograms coitespond to nrurnwer spectrum and viceversa a predict by the bandwidth theorem in this experiment we retrieve the spectrum of different light source by perfonning a fow ier transfonn on their interferograms which we obtain with a michelson interferometer the source use be a white lead a blue lead and a tungsten halogen light the latter be employ both unfiltered and filter with green and yellow optical filter we determine that the lead sow ces have naitower spectrum compru ed to the unfiltered tungsten lamp and that these prevalently occupy the visible range for this reason we conclude that the lead study be more efficient illlllllination source than the incandescent tungsten light which spectium fall mostly outside of the visible range we found the mean wavelength of the blue lead run to be in wavelength interval of blue light a expect in the case of the white lead we found that two peak ru e present a small one coitesponding to blue light and a main one in the range from yellow to red light this combination of t frequency be perceive a white by the human eye we found that filte ing the tungsten light cause it spectruni to naitow and decrease in runplitude the specti a of the filter tungsten light appear iitegular and much broader than what expect from the data provide by the manufacturer we be unable to properly fit these spectrum result in an incoitect calculation of the bandwidth and therefore of the coherence length of the filter light finally we approximate the tungsten lamp to a blackbody which allow u to determine that the mean wavelength value found nm be likely to be an underestimate this expe iment could be improve by develop a more accurate way of processing the filter spectrum and by include in the eitor analysis the contribution of the fast fow ier transform perform a described for example in an accurate e ror analysis model f or fast fowier transform ",
            "we use a michelson interferometer to investigate the spectral composition of blue and while lead and a tungsten white light source with green and yellow filter we fast fourier transform the interferograms and gaussian fit the wavelength spectrum to measure the mean wavelength and coherence length of the source for the blue lead source and green and yellow filter tungsten source we fit gaussian curve to the wavelength spectrum from which we be able to determine the mean wavelength and coherence length to be and and and respectively for the white lead source we fit two gaussian curve obtain a mean wavelength of and a coherence length of since a tungsten source act a a black body we use wien s displacement law to estimate it operating temperature a the michelson interferometer have be a useful tool in uncover the physic underpin many physical phenomenon it be use famously in in the michelson morley experiment to disprove the theory of the luminiferous ether since it have be greatly refine and in be use in the ligo experiment to observe the first gravitational wave in this experiment we use the michelson interferometer to investigate the characteristic of different light source we use a green lead source to align the interferometer and locate the null point the position at which light observes the mirror a be equidistant from the source we observe that at this point haidinger fringe appear to stop move inwards and start move outwards from the central maximum we use a detector to measure the amplitude of the signal produce when mirror m be move across a small region surround the null point for each of the light source use the fourier transform of these interferograms we be able to measure the mean wavelength and spectral width of the emission spectrum of the light source and be far able to measure their coherence length for the white light tungsten source we be also able to determine it operating temperature ii theory a michelson interferometer consists of a light source a beam splitter two mirror and a detector in a set up illustrate in fig the beam splitter divide the light from the source into two beam direct to either mirror one side of the mirror have a dielectric plate which change the phase of one of these beam in such a way that when there be zero path difference between the mirror destructive interference occurs the wave interfere at the beam splitter and pa towards the detector where the signal amplitude be measure m be set in motion and the signal amplitude change a the path difference change the detector be connect to a computer which plot the interferogram if the mirror be at right angle to one another and the beam splitter be align correctly then the parallel light ray appear to be come from infinity and circular fringe know a haidinger fringe be visible if the mirror be slightly tilt relative to one another the ray appear to come from an extend source reflect by two mirror separate by a fix distance and fizeau fringe be visible the location of the maximum of the signal be govern by where be the separation of m and m be the angle of incidence of the ray at the mirror and be the order of the maximum see vii appendix for derivation a filter have an associate bandwidth which be transmit when a light source be project through it ideally this would have a square form where each wavelength within the bandwidth be completely transmit however this be unrealistic and the filter we use have a gaussian transmission form the green filter transmits a mean wavelength of with s the yellow filter transmits a mean wavelength of coherence length be a of the distance over which one arm of a michelson interferometer can be scan before the interferogram contrast becomes poor theoretically speak for path difference great than the coherence length the phase difference become random the coherence length be related to the spectral width by where be the spectral width a measure of the range of frequency emit by the source since we fourier investigate the characteristic of different light source and filter transform the interferogram into wavelength space we must convert the wavelength width to spectral width use the follow relation where be the wavelength width and be the mean wavelength prior to construct the interferometer we simulated the interferogram and wavelength spectrum that we would expect for a white light source and a blue lead these be displayed in fig and fig respectively the wavelength spectrum of the white light source be a gaussian encompass all wavelength in the visible spectrum the relatively wide spectral width give rise to the narrow interferogram on the other hand the blue lead have a very narrow spectral width and so have a much wider interferogram this follow directly from during the construction of the interferometer we make sure that the mirror be roughly equidistant from beam splitter so that the null point laid within the movable range of m we connect a green lead source and the beam splitter via a convex lens with a focal length of to widen the light from the lead and a matte black lens tube of length to reduce interference from the reflect light precaution to avoid interference from reflect ray with the ray directly leave the source be take by place dark card diagonally between the component the detector be temporarily substitute for a screen on which the interference fringe be align by tile m the narrow spectral width of an lead mean that the interference fringe can be observe over the entire moveable range of the green lead when haidinger fringe be visible throughout the entire range of movement the mirror be sufficiently well align to locate the null point we low the mirror speed sufficiently so that we could observe the movement of the fringe if the detector be move in the direction of the null point the fringe appear to converge into the central maximum a govern by when move towards the null point and so co get large and so result in the ray appear to come from infinity by observe the motion of the fringe in a give direction about particular point along the range of m we be able to locate the null point within a range of then use the interferogram and white lead we be able to locate the null point at due to the relatively large spectral width of a white lead the interference fringe only appear very close the null point use the method described in iii method we measure the interferogram and wavelength spectrum of the white lead see in the fig an rgb lead that generates white light have contribution from three component of light red green and blue thus correspond to a sum of three gaussians since the red and green curve be not distinguishable we have only fit two gaussian curve the blue gaussian with low amplitude have an average wavelength of nm and the red green have an average wavelength of nm where the unce tainty be obtain through evaluate the covariance matrix by weigh the wavelength of the spectrum by the standard deviation and amplitude of the gaussians we can measure the average wavelength a nm the spectral width be equal to the full width at half maximum fwhm and be calculate use the standard deviation of the wavelength we obtain a value for il of nm and nm respectively thus give u a total of nm fmthe more use we obtain a v measurement of thz and by a measurement for l of m the fonn of the interferogram and simulation differ slightly a a result of the difference in the number of gaussian te ms sum to create the signal they do however both exhibit a spectral width and coherence length the interferogram and wavelength spectrum for the blue lead be show in fig the average wavelength of the blue lead be nm and the standard deviation be nm from this we can obtain a v measurement for the blue lead of thz use we measure la m finally we measm ed the inteiferograms and wavelength spectrum of the white light tungsten source with green and yellow filter and without a filter these be displayed in fig total word count first we will discus the result for the filter tungsten light source for the green filter we fit a gaussian to the wavelength spectrum since the expect transmission spectrum of the filter be a gaussian the mean wavelength be nm nm and the standard deviation be nm nm we obtain a v measurement of thz and use we show l be m for the yellow filter tungsten light we conduct a similar analysis and measure the mean wavelength of the source a nm nm and the standard deviation a nm nm we measure v a thz and use show that l be m for the white light tungsten source we do not fit a gaussian since tungsten source such a incandescent lamp emit a continuous spectmm so we would expect a black body spectrum we can estimate the average temperature of the tungsten filament by apply wien s displacement law for black body where t be the temperature of the filament a peak be the wavelength at which the peak of the curve be locate and b be wien s displacement constant from fig aii we can show that ii peak be nm which corresponds to a temperature of k however the curve do not exactly replicate the black body spectrum this be because the curve be the product of a combination of two curve a black body spectium and figure ai show the interferogramfor the white light tungsten source with no filter figure aii show the wavelength spectrum for the white light tungsten source with no filter figure bi show the interferogramfor the white light tungsten source with a green filter figure bii show the wavelength spectrum for the white light tungsten source with a green filter with a gaussian fit the mean be nm nm and the standard deviation be nm nm figure ci show the interferogramfor the white light tungsten source with no filter figure cii show the wavelength spectrum or the white light tungsten source with a yellow filter with a gaussian fit the mean be nm nm and the standard deviation be nm nm the detector s detectable spectnun which lie only around the white lead since white light be sum of all of all wavelength visible wave spectmm therefore it would not be sufficient in the visible spectnun this result in the blue lead have to fit a black body spectmm to fig aii without know a significantly large coherence length than the white lead the fo m of the detection spectmm of the detector which be a direct consequence of both source also have the aim of this experiment be to use a michelson interferometer to investigate the characteristic spectrum of a blue and white lead and a white light tungsten source with a green filter a yellow filter and with no filter we simulated the interferogram and wavelength spectmm for the lead source prior to conduct the experiment we measure the signal for each source sunounding the null point and use a fast fomier transfonn to deduce the wavelength spectmm that produce the signal through the analysis of the wavelength spectnun we measure the spectral width and coherence length of each source a expect the spectral width of the blue lead be significantly small than that of the total word count similar wavefo ms to their simulation the wavelength spectmm of the tungsten source do not replicate the expect black body curve due to the limited range of wavelength that the detector be able to register the green and yellow filter source do take their expect gaussian fonn under an envelope gaussian since the filter be clean before use and we observe similar fonns in both the green and yellow spectrum i assume that the oscillate shape arises due to a defect in the source the e rnrs in the measure value can be attribute to a va iety of source m be move sufficiently slowly that the vibration of the minor cause significant e rnrs in the position of m moreover random e rnrs exist in the result due to the readjustment of equipment and realignment of murnr between laborato y session which be impossible to quantify the path difference becomes x r x x sin x co for constructive interference it be require that x co ml where m be some integer therefore c co ml",
            "the interferograms and wavelength distribution of various light source be study use a michelson interferometer and fourier analysis we first set up and tune the interferometer to find the null point use a white lead use the sensitivity wavelength plot of the detector we be able to approximate the measure curve to a th degree polynomial and correct the wavelength distribution of various light source although this curve be only specify between nm the white lead be deduce to be a blue lead with a phosphor coat base on it wavelength distribution but disagreement between the nature of the lead measure and that specify by the manafacturer suggests the sensitivity curve be erroneous the temperature of a tungsten lamp be study by extract the wavelength with maximum spectral radiance and use wien s law to find the correspond temperature the best available temperature that could be calculate be found to be k attribute the error to the erroneous sensitivity curve and also possibly to impurity in the lamp absorb high wavelength i nterference be a phenomenon in which two wave superimpose to give an interference pattern wherein the result amplitude can be great lesser or equal to the amplitude of the original light wave the image produce be call interferograms the fact that light show an interference pattern be direct proof of the wave nature of light interferometer be device in which one can form interferograms of light source to study the property of the light source the michelson interferometer be one such interferometer wherein a light beam be split into two different perpendicular ray and their path difference can be varied before interference to produce interferograms the michelson interferometer become famous when it be use in the michelson morley experiment to prove that space be not fill with an aether but rather spaace be empty and light could propagate in vacuum fourier transform spectroscopy be use to analyse the interferograms of various light source this experiment involves the set up of a michelson interferometer search for the null point use a light source that have a narrow enough spatial coherence and analyse the interferograms of various light source to study their wavelength distribution the interferogram be convert to a wavelength distribution use the fast fourier transform package in python issue with circular symmetry have be discus interferometry theory and various result have be discus in far section the mathematical formalism of fourier theory can be apply to investigate the wavelength distribution of the light source base on the intensity spectrum measure use the michelson interferometer it can be show that the fourier transform of a gaussian function be another gaussian function with the spread in their respective space be inversely proportional planck s law describes the spectral radiance per unit wavelength of a black body a a function of it wavelength and temperature the expression be give by use planck s law one can relate the wavelength with the maximum spectral radiance to the temperature of the blackbody this relation be approximately give by a tungsten lamp can very accurately model to be a blackbody because it luminescence come from a tungsten coil be heat to a very high temperature and emit visible light hence the temperature of the tungsten lamp can be deduce by inspection of it wavelength distribution there be two type of fringe in an interference pattern haidinger fringe and fizeau fringe haidinger fringe be circular fringe that occur when the mirror be not at equal distance from the beam splitter they be circular because the mirror be exactly perpendicular and the interference have circular symmetry fizeau fringe be slightly more distort fringe that occur because the mirror be not quite perpendicular lead to a loss in circular symmetry typically the interference pattern be a combination of the two type of fringe in the case of haidinger fringe wee can relate the mth bright fringe to it angular distance by the equation where t be be the relative difference of the distance of the mirror from the beam splitter and theta be the angular distance of the mth bright fringe from the center hence we see that for t null point the only solution for m be m hence at the null point we should observe a continuous bright spot and no fringe because the path difference be at all point detail on set up to locate the null point have be discus in the next section haidinger fringe fizeau fringe and a continuous distribution have be displayed below in this experiment we have make the use of a michelson interferometer because it be relatively easy to setup and it be very convenient in it ability to introduce phase difference between wave simply by move one of the mirror a michelson interferometer consists of two mirror m and m place perpendicular to each other face a beam splitter at an of angle to both the mirror the beam splitter be glass that be partially silver on one side which cause some part of the light to reflect and some part of it to pa through unimpeded the mirror m can have it angle tilt to ensure that the mirror be perpendicular and the mirror m be fix on a stage with a motor that can alter it distance from the beam splitter and this distance can be change until the ideal fringe pattern be observe the null point corresponds to the point at which m and m be exactly the same distance from the mirror m be then move by various distance to get a distance v intensity plot for our interferogram the detector be a fix photodiode and can detect wavelength between to nm the setup be illustrate in fig the goal of set up the interferometer be to get haidinger fringe a close to the detector a possible if the mirror be exactly perpendicular to each other we would expect circular symmetry in our fringe but it be not realistically possible to get them exactly perpendicular to each other so will observe fizeau fringe a well the mirror be first place perpendicular to each other and then the beam splitter be place at an appropriate location such that we get circular fringe on a screen use a green laser to do this we rotate the beamsplitter and tilt m to get the best possible position the detector be then place a close to the center of the circular fringe a possible the maximum intensity be locate at the null point due to the fact that the green laser have a low wavelength distribution the interference pattern will have a high spatial distribution hence it be difficult to deduce the null point we simply use the green laser to get a range in which the null point could be locate we use a white lead which have a large wavelength distribution to find the exact null point from equation we know the haidinger fringe will move inward a we move toward the null point and outward a we move away if t decrease decrease ie the same fringe will be at a small angular distance and appear to move inward a you reduce t equivalently it will appear to move outward if t increase if the fringe switch from move inward to outward we know that we have cross the null point we can then scan over that small range with the white light to find the exact null point due to very high spatial coherence of white light it be use to find the null point the michelson interferometer be now a very accurate device to study the wavelength distribution of various source although it should be note that the white light be not a collimate beam hence cause difference in intensity a you move the mirror this problem be somewhat well by passing the white light through a lens to collimate it the mirror be then move and the correspond intensity be measure to get the require interferograms the detector in use detects wavelength only between nm with a great than sensitivity it be more sensitive to some wavelength than others the sensitivity against wavelength curve have be displayed below fig sensitivity of the detector a a function of wavelength use an online digitiser several hundred point be extract from the curve a th order polynomial be then fit to those data point use the polyfit function in python to define a sensitivity funciton in term of wavelength the amplitude value in the measure data be then divide by their correspond sensitivity value to give the true wavelength distribution note that the sensitivity data be only define between nm so we have not study wavelength outside that range the th order polynomial function have be plot below i chose order because the accuracy reduce if an order great or lesser than be chosen the polynomial be give by s fig th order polynomial that be model to be the measure sensitivity curve the white lead be use to find the null point because of it high spatial coherence the interference pattern where the null point be clearly visible have be displayed below one way to produce a white lead be to have a blue lead with a phosphor coat some of the blue photon be convert to yellow photon by the phosphor coat this combination of blue and yellow light appear white to our eye we know that this be a blue lead coat with phosphor because upon inspection of fig we see two peak at approximately nm and nm these correspond to blue violet and yellow light respectively it be obvious that the spread in distribution come from a yellow phosphor coat because of the large spectral width around nm the lead be a warm white lead for it relatively large peak at yellow than blue however information from the manafacturer say that the lead be meant to be a cold white lead rather than a warm white lead which mean that we d expect a high peak at blue this suggests that the sensitivity curve be possibly erroneous and do not correctly account for the detector s sensitivity to various wavelength this hypothesis be far support in the study of the tungsten lamp in the next subsection the interferogram of the tungsten source have be plot it be also a white light hence we expect large spatial coherence the tungsten source be investigate due to the fact that it behaves like a blackbody the amplitude measure rise very sharply at value close to nm this be possibly erroneous because it lead to a very strong deviation from planck s law so for the scope of tungsten we will deduce it temperature use the uncorrected data the wavelength correspond to the high spectral density from the uncorrected data be found to be nm then use equation the temperature of the tungsten lamp be calculate to be k this be well below tungsten s melt point of k but we know that that tungsten lamp have a more typical temperature in the range of k to get to the bottom of the source of error we will investigate the temperature correspond to the correct wavelength distribution the wavelength with the large spectral radiance in the correct distribution be measure to be nm from equation this corresponds to a temperature of k this be a more likely temperature of the tungsten lamp hence we can deduce that the odd behaviour of the wavelength distribution might not be due to the sensitivity wavelength curve of the detector be erroneous but rather the error be intrinsic to the tungsten lamp itself this could possibly be because of impurity or the gas that fill the lamp that be absorb high wavelength give the fickle nature of the source of error the calculate temperature k be likely not a good representation of the behaviour of the tungsten lamp we also see that a large part of the energy produce by the tungsten lamp be emit in the infrared region which be not visible which mean that the usage of tungsten lamp lead to a large wastage of energy we have successfully use fourier transform spectroscopy to analyse the interferograms of a white lead and a tungsten lamp which be nearly continuous white light source a michelson interferometer be setup to generate these interferograms follow which the fast fourier transform package in python be use to generate the wavelength distribution from the interferograms the white lead have a nearly continuous distribution with two local wavelength peak correspond to nm and nm this implies that the white lead be indeed a blue lead with a phosphor coat to generate blue and yellow photon which when combine appear white to the human eye the tungsten lamp be approximate to a black body but due to issue that be likely intrinsic to the lamp or because of the abrupt decrease in sensitivity near nm the temperature of the lamp could not be deduce for sure but base on prior knowledge of likely temperature of a tungsten lamp the peak wavelength of nm be the best possible value we have obtain from the correct wavelength distribution which corresponds to a temperature of k the inaccuracy of the wavelength distribution around the infrared region make it impossible to accurately quantify property of the lamp like it efficiency although we see that most of it energy be in the infrared this experiment could be improve if fourier spectroscopy could be conduct in the infrared region also it be likely that the sensitivity curve be incorrect so an update and correct sensitivity curve would be helpful in obtain well and more trustworthy result some detector also give relatively noisy data for equivalent data set this could possibly have lead to some imperfect deduction of peak wavelenghts and hence offset result",
            "michelson interferometer with a movable mirror be use to find the null point of three different light source blue lead white lead and tungsten broadband light source the interferograms obtain be fourier transform to show the spectrum of wavelength present for the blue lead a peak wavelength at nm be found a expect in the blue region of the visible for the white lead the spectrum cover the entirety of the visible with two peak at nm and nm indicate that the white light be primarily make of two colour for the tungsten source a gaussian like peak be observe rather than a black body spectrum protrude far into infrared this be explain by the drop in spectral sensitivity of the detector at wavelength great than red c onverting interference pattern from lead and black body source into a spectrum of their constituent wavelength be useful when understand the physic of semiconductor and the quantum nature of light for an lead the spectrum can give some indication of the band gap size in the semiconductor a for a black body source the temperature of the source can be determine from it spectrum this experiment will make use of a michelson interferometer to combine beam of light from a source to produce an interference pattern on a detector fig schematic of a michelson interferometer light be split into two beam which reflect off mirror and recombine the distribution of these fringe contains information about the source s spectrum the objective of this experiment be to produce interferograms of a blue lead white lead and a heat tungsten source then use fourier transforms to convert the interferograms into a spectrum reveal the structure of the light emit from the source in reference to fig the beam splitter separate incoming light into two beam with reduce amplitude via partial reflection the two light beam travel along different arm of the interferometer and be reflect by the plane mirror m and m let the image of m be label m a distance t away from the plane mirror m after reflect off the mirror the beam recombine at the beam splitter for two monochromatic beam of wavelength the result of this recombination will either be destructive or constructive interference depend on the path difference between them if m and m be parallel beam inclined at angle to the normal of the mirror appear to be come from infinity and thus exhibit cylindrical symmetry produce circular fringe the path difference between two inclined beam incident not parallel and hence m be tilt vertical fringe will be observe call fizeau fringe in this experiment we will be use haidinger fringe if m can be translate along the axis of it surface normal we can change the arm length of the michelson interfeormeter and therefore we can also change the path difference of the beam incident on the detector a the intensity of the recombine beam be dependent on the path difference we can use fourier analysis to transform the intensity spectrum i to yield a distribution i dependent on wavenumber wavenumber be inverse wavelength and can be use to infer the wavelength present in the light for a monochromatic light source and two beam of equal amplitude we can write the electric field amplitude of the combine beam in complex form a e c e exp i t e exp i t therefore the intensity of the combine beam be where i be a constant now consider an incoherent light source that be not monochromatic let u also attribute some spectral distribution i to this source the total intensity be now the sum of all the intensity contribution of each of the different wavenumbers present this result be to within a constant the fourier cosine transform and thus we have show i f i if we have a light source with a gaussian wavenumber distribution the fourier transform will also be a gaussian distribution in fig a gaussian line be simulated the fourier transform show in fig have a gaussian envelope and be maximum at the nullpoint the position of zero path difference hidden due to the resolution of the image be the high frequency oscillation correspond to the passing of light and dark fringe on the detector a would be observe by a michelson interferometer the michelson interferometer set up be show in fig to observe haidinger fringe with a green laser optical device be at the same height and the beam be align by adjust m such that the spot of green light at the detector be perfectly superpose and that the beam be incident at the centre of both mirror when use the laser source a lens be insert to produce a sharper fringe pattern on the detector the arm distance be suitably large to ensure that the fringe be large than the detector if the fringe be small than the detector measurement of average light intensity would be make which be undesirable when try to discern between light and dark fringe when use the lead a ground glass diffuser be use instead of lens to reduce the anisotropy of light emit the whole system sits on an optical bench however it be still susceptible to external vibration so any human contact with the table whilst take measurement be avoid mirror m be situate on a movable stage to vary the path difference the detector be connect to a computer and measurement of relative amplitude be measure a a motor move m the null point be the position of zero path difference which corresponds to t the intensity profile of which be fourier transform to examine the spectrum of the source to find it the green laser s haidinger fringe be first obtain and then m be move in such a direction a to decrease the number of fringe this be do by eye the reason for reduce the number of fringe be because a separation t be reduce for a give fringe order m the radius of the circular fringe decrease to increase the value of co at the centre co and thus we can write t m we can see that fringe order decrease by when d change by and hence the fringe vanish at the centre a the null point be approach once a region of minimal fringe be determine the green laser be switch for an lead or tungsten source depend on the source under investigation the motor be then programmed to scan slowly through this region at mm s such a speed in conjunction with the high detector sample rate of hz be suitable when find the null point which be highly localise and easily miss the null point be found and the signal see fig have an approximately gaussian envelope therefore a gaussian be fit to the fourier transform see fig the peak wavelength occurs at nm this lie within the range of nm for blue light the null point for white lead be show in fig there be an asymmetry in this signal a if there be two null point we postulate this be due to two peak of different amplitude in the white lead s spectrum the fourier transform see fig reveals the spectrum occupy the entire visible spectrum spectrum a expect from a white light source however there be two primary peak situate in the region of approximately nm and nm or violet and green yellow light respectively this indicates that the white lead primarily consists of two colour which we still perceive a white light the tungsten null point fig be more localise and symmetric than the white light s suggest a broader and smoother spectrum of wavelength the correspond fourier transform be show in fig this should be a black body spectrum but it be not a the tungsten heat up thermal motion of bound electron emit a continuous spectrum of electromagnetic radiation we have not detect most of this black body spectrum due to the spectral sensitivity distribution of the silicon pin photodiode detector see fig the spectral sensitivity cutoff in the infrared in no or little light be detect at wavelength great than that of visible and this be what we observe a cut off of wavelength great than and around nm the aim of the experiment be to set up and use a michelson interferometer to obtain interferograms of null point of various light source and use fourier transforms to show the constituent wavelength of light emit from the source the blue lead have a very symmetrical null point signal the gaussian fit to the fourier transform data place the peak wavelength at nm within the blue regime of the visible spectrum the white light have a more asymmetric null point the spectrum of which span the visible spectrum with two large peak the two peak of light be thought to give rise to the asymmetry of the null point the tungsten source spectrum be expect to be that reminiscent of a black body however due to the spectral sensitivity of the detector infrared light be lose cut the spectrum short this experiment could be improve in the follow way firstly far analysis of null point could be do for example the coherence length of the source can be estimate by measure the width of the null point envelope from this spectral width of the gaussians could be found to far characterise the light source secondly the spectral sensitivity function could be approximate a a triangle and use to deconvolute our measure signal to recover the original black body spectrum this would allow one to make a meaningful estimation of the temperature of the tungsten source use wein s law furthermore an error not account for in this experiment be that of the motor speed this could be investigate by move the stage through large distance several time with the green laser and try to reproduce the same distance travel",
            "in this experiment a michelson interferometer be construct and implement a a fourier transform spectrometer to characterize and investigate several different light source the spectrum of white light from an lead and tungsten source be generate a well a for a blue lead the interferometer could be use to characterize general feature of the the source such a the peak wavelength and spectral width however accurate numerical value be unable to be determine due to some unquantifiable uncertainty with the experimental set up and procedure interferometry be a technique use to provide information on electromagnetic wave by analyze superposition phenomenon such a interference the michelson interferometer be invent by a michelson in the late th century and use in the renowned michelson morley experiment of which disprove the theory of the luminifeorus aether which be believe to be the medium for the propagation of light the michelson interferometer induces interference by splitting a light beam into two part which travel along the two arm of the interferometer when they be recombine the path difference between the two component of the beam lead to interference effect which be use to provide information about the source the michelson interferometer be an extremely precise instrument a it be able to measure distance of the same order of magnitude a the wavelength of the light source in this experiment the michelson interferometer be assemble in such a way that it can be use a a spectrometer a device that determines the constituent wavelength of light source when a michelson interferometer be use in such a way it be know a a fourier transform spectrometer the michelson interferometer set up be show in figure light from the source can travel along one of two orthogonal arm of the interferometer the first path label a be where light reflect by the beamsplitter travel to the movable mirror m the second path label b be the path of the transmit beam which travel to the fix mirror m when the two beam be reflect back to the beam splitter they recombine and be direct towards the detector which pick up the interference pattern the interference pattern observe be dependent on the path difference the difference in path length along the arm be label t in the diagram so the overall path difference be t the dielectric plate cause a phase change for one of the split beam of light which result in the production of a dark fringe due to destructive interference when there be no path difference the null point be when the distance travel by the two beam be equal i e t when use the interferometer a a spectrometer collimate plane wave from the source be scan by the detector after produce an interference pattern due to the movement of the mirror m the series of bright and dark fringe produce around the null point be able to be record electronically by the detector it be possible by processing the interference pattern use a fast fourier transform fft to recover the original waveform of the source and obtain the spectrum show the constituent wavelength due to the nondispersive nature of air a monochromatic wave such a light from a laser will produce a continuous series of bright and dark fringe which appear a a delta function when an fft be perform on it monochromatic light have a high coherence length a it be make up of one wavelength of light most light source consist of multiple wavelength of light meaning that the interference pattern be modulate furthermore white light consists of all wavelength in the visible spectrum so have a small coherence length practically this mean that only a few fringe of white light will be observe at the null point which be why it be important to accurately determine it location this be because only at the null point be the fringe pattern for each wavelength component in phase the spectral feature of light source can be approximate a gaussian meaning that the temporal feature be also gaussian therefore a gaussian can be fit to the interferograms obtain in order to approximate the coherence length the standard deviation of the gaussian be the coehrence length l the relation between the frequency spectral width and l be give by the spectral width have unit of frequency but this can be convert into a wavelength the interferometer be construct consist of mirror a beam splitter detector and source one of the mirror be fix whilst the second one be mount on a stage which be control by a computer the detector be also plug into the computer to record data a schematic diagram of the experimental setup be show in figure the two mirror be set up with roughly equal space a green laser be use to align the mirror such that haidinger fringe be observe on a screen place in front of the detector this only occur when the two mirror be exactly perpendicular to each other only the fix mirror could be adjust finely so this be adjust such that the two laser spot from the interferometer be directly on top of each other in order to find the null point the movable mirror on top of the stage have to be translate to the point where the separation from beam splitter to both mirror be equal the movable mirror could be move through a position range of mm to mm and be initially maintain at the end of the stage s range i e mm the stage be then move in the positive translation direction mm at a time at a fast speed with the haidinger fringe observe manually on a screen place in front of the detector the fringe be observe to get big when it be close to the null point and small when far away the fix mirror be finely adjust after every mm increment to have the interference pattern center on the detector a best a could be do when the null point be pas the fringe change direction i e they start appear out of the centre when they have be disappear into it this meant that the approximate location of the null point be identify such that the movable mirror could be scan through a small range of around mm rather than the full mm the photodetector be able to operate at hz use the detector and scan through the reduce range slowly at a speed of mms the null point be able to be identify easily a a peak when a white lead source be use in place of the green laser subsequent data take use different source be center about this null point a blue lead and white tungsten source be use in addition to the white lead source an interferogram of the white lead source in the range of mm about the null point be take and a fast fourier transform fft of it be produce this be show in figure and represent the range of wavelength of electromagnetic radiation present in the source there be two characteristic peak present in the spectrum one in the blue regime at approximately nm and the other in the yellow regime at nm this be due to the internal structure of the white lead it be form of an individual blue lead with a phosphur coat that produce the yellow light through fluorescence it be expect that the amplitude of the first peak would be more than double the second from the datasheet of the lead however this be not observe here this be most likely due to the sensitivity to different wavelength of the detector use in the experiment the spectral sensitivity of the detector be great at wavelength around the second yellow peak the white lead emits light encompass the whole range of the visible spectrum for comparison the interferogram of a blue lead source be also take and a fast fourier transform implement the spectrum obtain be show in figure the peak wavelength be at around nm about mm large than the blue peak observe on the white lead spectrum this provide a rough insight into the uncertainty of the wavelength quote due to any misalignment and the set up of the equipment the spectral width of the blue lead source could be calculate either from the fourier transformed spectrum or directly from the interferogram after the interferogram have undergone a fourier transform it be difficult to estimate how the uncertainty propagate so a gaussian be fit directly to the interferogram despite this the uncertainty on both the sensitivity of the detector and the actual position of the stage be difficult to ascertain so error on the whole be hard to obtain from the gaussian fit to the interferogram the standard deviation and associate uncertainty be able to be obtain and use a an estimate for the coherence length of the source the coherence length be then use to determine the spectral width of the source the spectral width of the blue lead source be calculate to be nm which be consistent with the spectrum in figure the tungsten source could be consider a an approximate blackbody emit photon at a temperature give by wien s law the fft be show in figure and be a continuous spectrum the peak wavelength be take from the fourier transform and determine to be nm thus lead to a calculation of the temperature of the source k although figure spectrum of a white tungsten source a a result of apply a fast fourier transform to the measure interferogram this be approximately a blackbody emission spectrum this blackbody approximation be make the interferogram be also fit with a gaussian curve to estimate the spectral width of the source from the fitting this be calculate to be nm a substantial fraction of the source be make up of electromagnetic radiation in the infrared region despite appear similar to the white lead source by eye the tungsten source be fundamentally different consisting of a continuous spectrum of wavelength from the low end of the visible spectrum to infrared whilst the lead spectrum have two peak in the blue and green regime and do not emit radiation that be not visible to the human eye the difference can be explain by the efficiency of the source there be more heat waste in the tungsten source in the infrared regime of the electromagnetic spectrum the white lead source be a more efficient source of light in the visible spectrum a a large fraction of the tungsten spectrum can not be see by the human eye from the datasheet of the tungsten source it be expect that the peak wavelength would be at nm although this be not observe this be most likely due to the detector and it low sensitivity to wavelength of infrared light the specification manual for the detector indicates that sensitivity drop off rapidly for wavelength exceed nm a yellow filter be place on the tungsten source a a mean of isolate frequency of visible yellow radiation the interferogram obtain be show in figure the filter act a a sinc filter cut off frequency component above a certain cut off frequency such a filter would have lead to a top hat function after a fft a it be a rectangular low pass filter in frequency space however this be not observe but could have arisen due to unfiltered light be reflect off the side of the container into the detector or from uncertainty in position of the stage have be move a michelson interferometer be adapt to be use a a fourier transform spectrometer capable of analyse different light source the interference pattern of a blue lead source white lead source and white tungsten source be record and use fast fourier transforms the original waveform be recover the spectrum give an insight to the wavelength component of the source and allow for the white lead and tungsten source to be contrast the lead source be compose of constituent wavelength throughout the visible range whilst the tungsten source involve the near infrared spectrum in the white lead spectrum characteristic blue and yellow peak be observe at nm and nm respectively the peak wavelength of the tungsten source be determine to be the relative amplitude of the peak in the white lead spectrum and peak wavelength of the white tungsten source could not be reliably measure due to the spectral sensitivity of the detector use which be not constant however it could be conclude that the white lead be more efficient in the visible range of the electromagnetic spectrum a less energy be lose a infrared radiation if these uncertainty could be eliminate more accurate data could have be determine for the light source bibliography",
            "in this experiment a series of light spectl from various light source be produce with use of a mic helson intel feromete the light source use we e a white lead blue lead and a k tungsten lamp additionally green and yellow filtel s we e use in conjunction with the tungsten lamp to obse ve the effect they have on the tungsten spectrum these spectrum be described quantitatively by several value wavelength coherence length and spectral width with use of these value in addition to the genel shape of the spectrum the light source can be characterise and compa ed to the theory all spectl produce we e of the same shape a their theoretical counterpart and most disc epandes could be account for by the esponse function of the detector use the white lead have the b oadest spectl al width of nm and thus also the large coherence length whic h be a expect a white light contains all frequency of light the colour light source have narrower spectl a and the light filter be show to shift and narrow the specn a in accordance with their expect bandpass region t he aim of this experiment be to measure and characterise light spectrum from various light source through find their mean wavelength coherence length and spectral width and see if these result coincide with the theory the physical aim be to construct and operate a michelson interferometer in order to record interferograms of various light source these interferograms can then be use to obtain the various spectrum of the light source a far goal be to explore how different light filter would affect the light spectnun produce to do this a simple michelson interferometer be built and by emit the light source onto the interferometer and measure the light intensity over a few millimetre in distance an interferogram be produce to produce the spectrum the interferogram be fourier transform and then through fitting a gaussian the characteristic value previously mention can be calculate the michelson interferometer be a collllllon configuration for an optical interferometer and have many u from study the atmosphere measure the diameter of star test optical component and be even use in the detection of gravitational wave pl it relies on the use of a beam splitter which split the incident light from the source into two separate beam and down different path these beam be then reflect and re combine accord to the superposition principal at the beam splitter and an interference pattem be measure at the detector the superposition principle be a fundamental and very important idea with many application in physic and engineering though principle such a this be very well understood and have be for a long period of time it be always important to revisit these idea a it help develop our understand of them interferometry and optic will always be relevant and essential area of physic not only be the fundamental of these branch apply in everyday life such a in photography and medicine but they be also crucial in the study of quantum mechanic astronomy and more this experiment relies on the use of a michelson interferometer the basis of this interferometer be that the light from the source be emit onto a beam splitter in this case a half silvered mirrnr which can send the light dm v two possible path one of the beam will be reflect by degree and one will be transmit a see in figure below it be important to note that when light hit the beam splitter and be reflect on the side of the dielectric plate the light will undergo a phase shift of n radian the reflect beam travel along arm a to the first rnirtor m and be reflect back towards the beam splitter likewise the transmit beam travel along aim b to the mirror m the two wave then recombine once they reach the beam splitter where their amplitude will combine in accordance with the superposition prir ciple some of this light will be transmit in the dire ction of the source and some will travel towards the detector sir ce the light travel to the detector be a supe position of two wave an interference pattem will be observe at the detector the nature of which be detennir ed by the path difference and relative phase of the two wave due to the phase shift that the wave that travel along arm b experience if the path difference of the two wave be zero or integer multiple of wavelength i e the distance of each min or from the beam splitter be the same the wave be in fact out of phase and have a phase difference of c radian this mean the wave will undergo complete destructive interference and a dark fringe will be see meanwhile if there be a path difference of multiple half wavelength they will ultimately be in phase when they reach the detector and constmctive interference will occur so a bright fringe be see the path difference of the two wave be dependent on the difference in arm length for the two nitrnrs figure show a simplify diagram of the michelson interferometer assume the nittors be perfectly pe pendicular when observe from the position of the detector see figure the light simply appear to be reflect from two min ors in line w ith each other with a distance t between them which be equal to the difference in aim length use simple trigonometiy it be easy to see that the light beam reflect off the second miirnr m travel an exti a distance equal to tcos before reach the observer a aforementioned constructive interference occurs at half integer wavelength in a michelson interferometer hence for constmctive ii terference where a be the wavelength and m be the order of inte ference which be an integer there be two type of visible fringe that may be observe haidii ger and fizeau haidinger frii ges ai e cfrculai whereas fizeau fringe fonn sti aight line haidinger frii ges be produce when the two nittors appeai to be perfectly pai allel a in figure such that the angle at which the light be incident and reflect from the two nittors be the same and hence there be cylii drical symmetiy this symmetly be disturbed when one of the lllllrnrs be tilt and the fringe pattem tends to fonn more of a stl aight line pattem to understand the spectrn of different light source it be necessaiy to understand how each light source work in this experiment the light source use be a white lead a blue lead and a white tungsten source ffrstly lead create light by electroluminescence electroluminescence be what occurs when an elect ic cun ent or field be pas through a semiconductor material which then emits light the lead contains two layer of material which have be doped such that one layer have an excess of electi ons and the second an excess of positive electron hole fonning a p n junction this junction only allows electron to flow from the positive layer to the negative a the electi on move into the electi on hole a photon be release because the energy level of the positive hole be low the difference in energy between the layer be call the bandgap and be specific to each combination of material therefore the frequency of light emit and hence the colour of lead be detennined by the material use in the p n junction and be only over a short range of wavelength to create a white lead you coat a blue lead with phosphor these phosphor absorb the light and ai e then reemitted at a different large wavelength of a different colour thus by combii ing a blue lead with a mixture of different phosphor a combination of different wavelength of light be emit produce white light the process through which a tungsten lamp emits light be know a incandescence the emission of light be a result of a tungsten filament be heat to high temperature when a c utent pas through it this be thermal radiation and thus a tungsten lamp can be approximate to a blackbody a theoretical blackbody spectmm can be found usii g p lanck s law hv where b be the spectral radiance density h be planck s constant v be the frequency of radiation c be the speed of light k the boltzmann constant and t the temperatme of the blackbody the spectral shape of the emission spectrum from these light source be approximately a gaussian the normal distribution of a gaussian have the fom u fzii where be the mean value and u be the standard deviation so through fitting a gaussian to a spectrnm the mean central wavelength can be found precisely fwthennore the spectral width be equal to the full width at half maximwn fwhm of the gaussian the fwhm and thus the spectral width can be fou d from the follow equation the spectral width be a measure of the range of frequency or wavelength emit by the light source use this value in conjunction with the mean wavelength the coherence length l of the source can be found l x where a be the mean wavelength and til be the spectral width the coherence length be the distance over which a light wave remains a specific degree of coherence when the path difference of interfere wave be within the coherence length the interference pattem be strong beyond this the signal becomes poor an interferogram be a record of the signal across an interference pattem a spectnun of light be just a fourier transfo m of the interferogram go from the temporal domain to the spectral frequency domain due to the fact the spectmm be a gaussian the interferogram will also be in the f m of a gaussian an important feature of this be that the nairnwer the spectral width of the gaussian the wider the interferogram hence the michelson interferometer can be use a a spectrometer a will be discus more in the method ill me hod the interferometer be built in agreement with the set up show in figure specifically with a silicon detector the detector be attach to a computer which sainpled the data at a rate of hz the first mitrnr ml be place on a motorise stage so that the interference pattem could be scan over a range of path difference the speed at which the stage move to ai y position could be specify the interferometer must be almost perfectly align to get the con ect interference pattems to ensw e this the two miffors must be at the exact same distance from the beam splitter and all equipment must be level and parallel with the optical bench the two nitrors be place at approximately the same distance from the beam splitter to guarantee the distance be exactly equal a monochromatic laser be use this produce two laser spot one from ea eh miffor which be then reflect onto a surface some distance away such that they be small and in do so increase the precision of the alignment the miffors be adjust tmtil the two spot be dfrectly on top of ea eh other to ensure that the nitrors be parallel a lens be insert so that the interference pattem could be see and the mi rnr be tilt tmtil haidinger fringe be observe before takit g any data it be necessary to find the null point the null point of the interferometer be when the aim length a e equal so the path difference of the two light wave be zero i e t o arou d the null point the it te ference pattem of light will be most prominent this be because the space of tbe frit ges be proportional to the wavelength of light so the fringe will only coincide near the region where the path difference be zero once the null point be fotmd these bright and dark fringe can be record to give an interferogram to find the null point ml be move in very slowly in ve y small increment and the fringe pattem observe refening to equation one a the null point be approach t decrease and thus the angle of the reflect light get large so fringe appear to move in towards the centre of the cfrcle the null point be at the position where the dfrection of movement of the fringe revers once this position be roughly fow d the reduce rai ge be scan over use a white lead source at the null point this will produce a large dark frit ge but just arow d it a distit ctive interference pattem of a few different colour fringe be see a the many wavelength withit white light have be sepai ated to find the exact position it be ne cessaiy to use the white lead interferogram create a simulation of this exact setup it be possible to find the shape of the interferogram arntmd the null point so once this shape of it terferogram have be fotmd it be conclude that the coitect length have be en scan over and the null point lie it the position of the centre of the interferogram once the null poit t be found it be possible to find light spectrum of various light source from thefr interferograms repeat the scan process that be carry out for the white lead interferograms of a blue lead and white tungsten lamp also obtain the interference pattems be scan over small distance at slow speed such that many data point be take to extract the light spectrum from the interferogram a fast fourier transform fft be pe fo med on the data within python this rely upon the fact that there be equal space between each data point in the interferogram once the specflum be found it be possible to fit a gaussian to the transfonned data use an inbuilt function on python which give the standard deviation and the value of the mean wavelength to investigate how light filter affected the light spectrum the same process be can ied out but with two different filter fit inside the tungsten lamp yellow and green firstly from the interferogram produce from tlte white lead show in figure it be possible to find the null point compare this to the simulated interferogram in figure it be of a similar shape and symmetly just with more fringe the cenfl e of this graph and hence the position of the null point of the interferometer lie at mm a gaussian be fit to each of the peak in the spectrum the first one centi ed at nm coll esponds to the light from the blue lead and the second one centre at nm coll esponds to the mixture of wavelength emit from the phosphor compare this to the theoretical spectrum in figure the position of the spectrum be accurate however the relative intensity of the peak be unexpected this however be a direct result of the responsivity of the silicon detector this be it effectiveness at produce an electi ic signal at different wavelength this varies with each detector but in general be high for large wavelength a show in figure when take this into account the peak at nm would in fact be of a high intensity than the one at run which would match with the tlteory fig typical response function of a silicon detector iioj when find the spectral length of the white light only the peak at nm be consider since tltis contain a large number of wavelength and be more representative of a white light source the standard deviation of this gaussian be run so from the specfl al width be srun use this in in conjw ction with tlte mean wavelength the value for the coherence length come out a mm by look a t the distance the interferogram span in figure this value seem quite accurate next the interference of a blue lead be measure a this only contains one colour of light it emits light over a small range of frequency so it be expect that the spectral width of this source will be nall ower than that of the white lead this gaussian fit to this spectrum be centre at run which be within the range of wavelength for blue light the shape of this spectrum match that of the blue lead peak show in figure the standard deviation of the gaussian be equal to run and thus the spectra i width be nm this be much less than that of the white lead which be consistent witlt the theo y the coherence lengtlt be found to be mm again this be more than that of the white lead and be thus consistent with the tlteory a for a nairnwer spectral width the broader the interferogram produce a mention in the theory section the spectrum for the tungsten lamp be more consistent with that of a blackbody than a gaussian it be immediately clear that this do not give the expect result this can be explain through consideration of the response function show in figure the responsivity of the detector rapidly cut off around the nm mark which con esponds to where the spectrum cut off so realistically the spectnun do continue past nm just the detector do not respond to the signal secondly from figure you would expect the spectrum to be more jagged this could simply be due to the fact that not enough data point be measure so the resolution be not good enough to pick up the rise and fall in the spectrum a a gaussian be not fit to the spectrnm the value for wavelength and coherence length must be read off the above graph the spectrum suggests that the mean wavelength be at approximately mn and the width of the interferogram and hence the coherence length be approximately mm by rean anging the spectral width come at to be mn a light filter be a piece of material which absorbs some frequency of light but allows others to pa through essentially passing through just one specific colour the range of frequency it do transmit be it bandwidth in this experiment a yellow and a green filter be use with the tungsten lamp a show in figure when the green filter be use the tungsten spectmm be spectrum be shift such that it be centre at nm which be within the range of green light nm furthennore it be much na tower than the original tungsten spectnun with cj nm and the spectral width equal to mn this be what you would expect a the light pas through the filter with few frequency the coherence length be mm a much large coherence length for a much nan ow spectrnm similarly for the yellow filter the spectnun be shift to mn with an equal standard deviation and thus spectral width a the green filter yellow light be within the of mn so this be what you would expect from the theo y also since the spectral width of this spectrnm be equal to that of the green filter it can be conclude that the size of the bandwidth of the two filter be the same again this give a large value for the coherence length l mm i the main source of e tor in this experiment come from the fact the fourier transfo m require that the distance between each sample be equal when in fact when look at the raw data for the position of the stage this be not the case a lot of the time when transfonning to the spectrnl wavelength domain this could lead to a shift in the position of the spectmm potentially make it wider in some part and na tower in others this would have an effect on the mean value of the wavelength and the spectral width and thus also the coherence length furthennore potential misalignment of the apparatus throughout the experiment could affect the interference pattern and interferogram record which would also adjust the shape of the spectrum produce a silicon detector typically have a tolerance of around so there be some e tor in the value show for the intensity however since only the relative intensity be of interest and this will have the same effect on all the sample this do not directly affect the result and can be take into account within the response function the aim of this experiment be to use a michelson interferometer a a fourier transform spectrometer in order to obtain and compare spectrum of different light source the interferometer be successful in obtain fairly accurate spectrum for each source and the characteristic of each spectrum i e mean wavelength and spectral width varied in agreement with the theory the second aspect of this experiment be to show how light filter change the shape of the light spectrum and how the bandwidth of the filter change the spectral width both the blue and yellow filter create a large decrease in the spectral width of the tungsten spectrum and shift the peak accordingly to the wavelength that align with their colour a an improvement more sample should be take over the distance of the interferogram a this will in turn produce a spectrum of great resolution furthermore a response function of the detector should be make which considers before the responsivity and tolerance of the detector such that the spectrum could be adjust to give a more accurate view of the relative intensity to gain a great understand of the error in the calculation some analysis could be carry out to see how unequal space would affect the fft and consequently the spectral shape"
           ],
           [
            "bal",
            "exp",
            "bal",
            "the",
            "exp",
            "the",
            "bal",
            "none",
            "none",
            "bal"
           ],
           [
            "superficial",
            "extended",
            "extended",
            "extended",
            "deep",
            "superficial",
            "superficial",
            "deep",
            "superficial",
            "deep"
           ]
          ]
         },
         "columnwidth": [
          300,
          40,
          40
         ],
         "header": {
          "fill": {
           "color": "lightgrey"
          },
          "font": {
           "size": 14
          },
          "height": 48,
          "line": {
           "color": "black"
          },
          "values": [
           "<b>Document Identification</b>",
           "<b>Epistemology</b>",
           "<b> Argument Level </b>"
          ]
         },
         "type": "table"
        }
       ],
       "layout": {
        "template": {
         "data": {
          "bar": [
           {
            "error_x": {
             "color": "#2a3f5f"
            },
            "error_y": {
             "color": "#2a3f5f"
            },
            "marker": {
             "line": {
              "color": "#E5ECF6",
              "width": 0.5
             },
             "pattern": {
              "fillmode": "overlay",
              "size": 10,
              "solidity": 0.2
             }
            },
            "type": "bar"
           }
          ],
          "barpolar": [
           {
            "marker": {
             "line": {
              "color": "#E5ECF6",
              "width": 0.5
             },
             "pattern": {
              "fillmode": "overlay",
              "size": 10,
              "solidity": 0.2
             }
            },
            "type": "barpolar"
           }
          ],
          "carpet": [
           {
            "aaxis": {
             "endlinecolor": "#2a3f5f",
             "gridcolor": "white",
             "linecolor": "white",
             "minorgridcolor": "white",
             "startlinecolor": "#2a3f5f"
            },
            "baxis": {
             "endlinecolor": "#2a3f5f",
             "gridcolor": "white",
             "linecolor": "white",
             "minorgridcolor": "white",
             "startlinecolor": "#2a3f5f"
            },
            "type": "carpet"
           }
          ],
          "choropleth": [
           {
            "colorbar": {
             "outlinewidth": 0,
             "ticks": ""
            },
            "type": "choropleth"
           }
          ],
          "contour": [
           {
            "colorbar": {
             "outlinewidth": 0,
             "ticks": ""
            },
            "colorscale": [
             [
              0,
              "#0d0887"
             ],
             [
              0.1111111111111111,
              "#46039f"
             ],
             [
              0.2222222222222222,
              "#7201a8"
             ],
             [
              0.3333333333333333,
              "#9c179e"
             ],
             [
              0.4444444444444444,
              "#bd3786"
             ],
             [
              0.5555555555555556,
              "#d8576b"
             ],
             [
              0.6666666666666666,
              "#ed7953"
             ],
             [
              0.7777777777777778,
              "#fb9f3a"
             ],
             [
              0.8888888888888888,
              "#fdca26"
             ],
             [
              1,
              "#f0f921"
             ]
            ],
            "type": "contour"
           }
          ],
          "contourcarpet": [
           {
            "colorbar": {
             "outlinewidth": 0,
             "ticks": ""
            },
            "type": "contourcarpet"
           }
          ],
          "heatmap": [
           {
            "colorbar": {
             "outlinewidth": 0,
             "ticks": ""
            },
            "colorscale": [
             [
              0,
              "#0d0887"
             ],
             [
              0.1111111111111111,
              "#46039f"
             ],
             [
              0.2222222222222222,
              "#7201a8"
             ],
             [
              0.3333333333333333,
              "#9c179e"
             ],
             [
              0.4444444444444444,
              "#bd3786"
             ],
             [
              0.5555555555555556,
              "#d8576b"
             ],
             [
              0.6666666666666666,
              "#ed7953"
             ],
             [
              0.7777777777777778,
              "#fb9f3a"
             ],
             [
              0.8888888888888888,
              "#fdca26"
             ],
             [
              1,
              "#f0f921"
             ]
            ],
            "type": "heatmap"
           }
          ],
          "heatmapgl": [
           {
            "colorbar": {
             "outlinewidth": 0,
             "ticks": ""
            },
            "colorscale": [
             [
              0,
              "#0d0887"
             ],
             [
              0.1111111111111111,
              "#46039f"
             ],
             [
              0.2222222222222222,
              "#7201a8"
             ],
             [
              0.3333333333333333,
              "#9c179e"
             ],
             [
              0.4444444444444444,
              "#bd3786"
             ],
             [
              0.5555555555555556,
              "#d8576b"
             ],
             [
              0.6666666666666666,
              "#ed7953"
             ],
             [
              0.7777777777777778,
              "#fb9f3a"
             ],
             [
              0.8888888888888888,
              "#fdca26"
             ],
             [
              1,
              "#f0f921"
             ]
            ],
            "type": "heatmapgl"
           }
          ],
          "histogram": [
           {
            "marker": {
             "pattern": {
              "fillmode": "overlay",
              "size": 10,
              "solidity": 0.2
             }
            },
            "type": "histogram"
           }
          ],
          "histogram2d": [
           {
            "colorbar": {
             "outlinewidth": 0,
             "ticks": ""
            },
            "colorscale": [
             [
              0,
              "#0d0887"
             ],
             [
              0.1111111111111111,
              "#46039f"
             ],
             [
              0.2222222222222222,
              "#7201a8"
             ],
             [
              0.3333333333333333,
              "#9c179e"
             ],
             [
              0.4444444444444444,
              "#bd3786"
             ],
             [
              0.5555555555555556,
              "#d8576b"
             ],
             [
              0.6666666666666666,
              "#ed7953"
             ],
             [
              0.7777777777777778,
              "#fb9f3a"
             ],
             [
              0.8888888888888888,
              "#fdca26"
             ],
             [
              1,
              "#f0f921"
             ]
            ],
            "type": "histogram2d"
           }
          ],
          "histogram2dcontour": [
           {
            "colorbar": {
             "outlinewidth": 0,
             "ticks": ""
            },
            "colorscale": [
             [
              0,
              "#0d0887"
             ],
             [
              0.1111111111111111,
              "#46039f"
             ],
             [
              0.2222222222222222,
              "#7201a8"
             ],
             [
              0.3333333333333333,
              "#9c179e"
             ],
             [
              0.4444444444444444,
              "#bd3786"
             ],
             [
              0.5555555555555556,
              "#d8576b"
             ],
             [
              0.6666666666666666,
              "#ed7953"
             ],
             [
              0.7777777777777778,
              "#fb9f3a"
             ],
             [
              0.8888888888888888,
              "#fdca26"
             ],
             [
              1,
              "#f0f921"
             ]
            ],
            "type": "histogram2dcontour"
           }
          ],
          "mesh3d": [
           {
            "colorbar": {
             "outlinewidth": 0,
             "ticks": ""
            },
            "type": "mesh3d"
           }
          ],
          "parcoords": [
           {
            "line": {
             "colorbar": {
              "outlinewidth": 0,
              "ticks": ""
             }
            },
            "type": "parcoords"
           }
          ],
          "pie": [
           {
            "automargin": true,
            "type": "pie"
           }
          ],
          "scatter": [
           {
            "fillpattern": {
             "fillmode": "overlay",
             "size": 10,
             "solidity": 0.2
            },
            "type": "scatter"
           }
          ],
          "scatter3d": [
           {
            "line": {
             "colorbar": {
              "outlinewidth": 0,
              "ticks": ""
             }
            },
            "marker": {
             "colorbar": {
              "outlinewidth": 0,
              "ticks": ""
             }
            },
            "type": "scatter3d"
           }
          ],
          "scattercarpet": [
           {
            "marker": {
             "colorbar": {
              "outlinewidth": 0,
              "ticks": ""
             }
            },
            "type": "scattercarpet"
           }
          ],
          "scattergeo": [
           {
            "marker": {
             "colorbar": {
              "outlinewidth": 0,
              "ticks": ""
             }
            },
            "type": "scattergeo"
           }
          ],
          "scattergl": [
           {
            "marker": {
             "colorbar": {
              "outlinewidth": 0,
              "ticks": ""
             }
            },
            "type": "scattergl"
           }
          ],
          "scattermapbox": [
           {
            "marker": {
             "colorbar": {
              "outlinewidth": 0,
              "ticks": ""
             }
            },
            "type": "scattermapbox"
           }
          ],
          "scatterpolar": [
           {
            "marker": {
             "colorbar": {
              "outlinewidth": 0,
              "ticks": ""
             }
            },
            "type": "scatterpolar"
           }
          ],
          "scatterpolargl": [
           {
            "marker": {
             "colorbar": {
              "outlinewidth": 0,
              "ticks": ""
             }
            },
            "type": "scatterpolargl"
           }
          ],
          "scatterternary": [
           {
            "marker": {
             "colorbar": {
              "outlinewidth": 0,
              "ticks": ""
             }
            },
            "type": "scatterternary"
           }
          ],
          "surface": [
           {
            "colorbar": {
             "outlinewidth": 0,
             "ticks": ""
            },
            "colorscale": [
             [
              0,
              "#0d0887"
             ],
             [
              0.1111111111111111,
              "#46039f"
             ],
             [
              0.2222222222222222,
              "#7201a8"
             ],
             [
              0.3333333333333333,
              "#9c179e"
             ],
             [
              0.4444444444444444,
              "#bd3786"
             ],
             [
              0.5555555555555556,
              "#d8576b"
             ],
             [
              0.6666666666666666,
              "#ed7953"
             ],
             [
              0.7777777777777778,
              "#fb9f3a"
             ],
             [
              0.8888888888888888,
              "#fdca26"
             ],
             [
              1,
              "#f0f921"
             ]
            ],
            "type": "surface"
           }
          ],
          "table": [
           {
            "cells": {
             "fill": {
              "color": "#EBF0F8"
             },
             "line": {
              "color": "white"
             }
            },
            "header": {
             "fill": {
              "color": "#C8D4E3"
             },
             "line": {
              "color": "white"
             }
            },
            "type": "table"
           }
          ]
         },
         "layout": {
          "annotationdefaults": {
           "arrowcolor": "#2a3f5f",
           "arrowhead": 0,
           "arrowwidth": 1
          },
          "autotypenumbers": "strict",
          "coloraxis": {
           "colorbar": {
            "outlinewidth": 0,
            "ticks": ""
           }
          },
          "colorscale": {
           "diverging": [
            [
             0,
             "#8e0152"
            ],
            [
             0.1,
             "#c51b7d"
            ],
            [
             0.2,
             "#de77ae"
            ],
            [
             0.3,
             "#f1b6da"
            ],
            [
             0.4,
             "#fde0ef"
            ],
            [
             0.5,
             "#f7f7f7"
            ],
            [
             0.6,
             "#e6f5d0"
            ],
            [
             0.7,
             "#b8e186"
            ],
            [
             0.8,
             "#7fbc41"
            ],
            [
             0.9,
             "#4d9221"
            ],
            [
             1,
             "#276419"
            ]
           ],
           "sequential": [
            [
             0,
             "#0d0887"
            ],
            [
             0.1111111111111111,
             "#46039f"
            ],
            [
             0.2222222222222222,
             "#7201a8"
            ],
            [
             0.3333333333333333,
             "#9c179e"
            ],
            [
             0.4444444444444444,
             "#bd3786"
            ],
            [
             0.5555555555555556,
             "#d8576b"
            ],
            [
             0.6666666666666666,
             "#ed7953"
            ],
            [
             0.7777777777777778,
             "#fb9f3a"
            ],
            [
             0.8888888888888888,
             "#fdca26"
            ],
            [
             1,
             "#f0f921"
            ]
           ],
           "sequentialminus": [
            [
             0,
             "#0d0887"
            ],
            [
             0.1111111111111111,
             "#46039f"
            ],
            [
             0.2222222222222222,
             "#7201a8"
            ],
            [
             0.3333333333333333,
             "#9c179e"
            ],
            [
             0.4444444444444444,
             "#bd3786"
            ],
            [
             0.5555555555555556,
             "#d8576b"
            ],
            [
             0.6666666666666666,
             "#ed7953"
            ],
            [
             0.7777777777777778,
             "#fb9f3a"
            ],
            [
             0.8888888888888888,
             "#fdca26"
            ],
            [
             1,
             "#f0f921"
            ]
           ]
          },
          "colorway": [
           "#636efa",
           "#EF553B",
           "#00cc96",
           "#ab63fa",
           "#FFA15A",
           "#19d3f3",
           "#FF6692",
           "#B6E880",
           "#FF97FF",
           "#FECB52"
          ],
          "font": {
           "color": "#2a3f5f"
          },
          "geo": {
           "bgcolor": "white",
           "lakecolor": "white",
           "landcolor": "#E5ECF6",
           "showlakes": true,
           "showland": true,
           "subunitcolor": "white"
          },
          "hoverlabel": {
           "align": "left"
          },
          "hovermode": "closest",
          "mapbox": {
           "style": "light"
          },
          "paper_bgcolor": "white",
          "plot_bgcolor": "#E5ECF6",
          "polar": {
           "angularaxis": {
            "gridcolor": "white",
            "linecolor": "white",
            "ticks": ""
           },
           "bgcolor": "#E5ECF6",
           "radialaxis": {
            "gridcolor": "white",
            "linecolor": "white",
            "ticks": ""
           }
          },
          "scene": {
           "xaxis": {
            "backgroundcolor": "#E5ECF6",
            "gridcolor": "white",
            "gridwidth": 2,
            "linecolor": "white",
            "showbackground": true,
            "ticks": "",
            "zerolinecolor": "white"
           },
           "yaxis": {
            "backgroundcolor": "#E5ECF6",
            "gridcolor": "white",
            "gridwidth": 2,
            "linecolor": "white",
            "showbackground": true,
            "ticks": "",
            "zerolinecolor": "white"
           },
           "zaxis": {
            "backgroundcolor": "#E5ECF6",
            "gridcolor": "white",
            "gridwidth": 2,
            "linecolor": "white",
            "showbackground": true,
            "ticks": "",
            "zerolinecolor": "white"
           }
          },
          "shapedefaults": {
           "line": {
            "color": "#2a3f5f"
           }
          },
          "ternary": {
           "aaxis": {
            "gridcolor": "white",
            "linecolor": "white",
            "ticks": ""
           },
           "baxis": {
            "gridcolor": "white",
            "linecolor": "white",
            "ticks": ""
           },
           "bgcolor": "#E5ECF6",
           "caxis": {
            "gridcolor": "white",
            "linecolor": "white",
            "ticks": ""
           }
          },
          "title": {
           "x": 0.05
          },
          "xaxis": {
           "automargin": true,
           "gridcolor": "white",
           "linecolor": "white",
           "ticks": "",
           "title": {
            "standoff": 15
           },
           "zerolinecolor": "white",
           "zerolinewidth": 2
          },
          "yaxis": {
           "automargin": true,
           "gridcolor": "white",
           "linecolor": "white",
           "ticks": "",
           "title": {
            "standoff": 15
           },
           "zerolinecolor": "white",
           "zerolinewidth": 2
          }
         }
        },
        "title": {
         "text": "Topic 3: ['light', 'source', 'wavelength', 'lead', 'point', 'white', 'find', 'fringe', 'tungsten', 'peak']"
        }
       }
      }
     },
     "metadata": {},
     "output_type": "display_data"
    }
   ],
   "source": [
    "num_docs = 10\n",
    "try:\n",
    "    #Show tables in plotly if plotly is intalled\n",
    "    import plotly.graph_objects as go\n",
    "    for t in range(num_topics):\n",
    "        #print(\"Topic {}: {}\".format(t,lda_model.print_topics(num_words=6)[t][1]))\n",
    "        formattedlist = [word[0] for word in lda_model.show_topics(num_topics = 4, formatted=False)[t][1]]\n",
    "        content = df.sort_values(by=t, ascending=False)[['Content','ReasoningLevel','ArgumentLevel',t]][:num_docs]\n",
    "        fig = go.Figure(data=[ go.Table(\n",
    "            #columnwidth = [60, 40, 40, 300, 220],\n",
    "            columnwidth = [ 300, 40, 40],\n",
    "            header=dict(\n",
    "                #values=['<b>Document number</b>', '<b>Weight</b>', '<b>Year</b>', '<b>Title</b>', '<b>Authors</b>'],\n",
    "                values = ['<b>Document Identification</b>', '<b>Epistemology</b>', '<b> Argument Level </b>'],\n",
    "                height=48,\n",
    "                font_size=14,\n",
    "                line_color='black',\n",
    "                fill_color='lightgrey'),\n",
    "            cells=dict(\n",
    "                #values=[list(content.index), list(round(content[t],2)), list(content.Content), list(content.ReasoningLevel), list(content.ArgumentLevel)],\n",
    "                values = [list(content.Content), list(content.ReasoningLevel), list(content.ArgumentLevel)],\n",
    "                align=['center', 'center', 'center', 'left', 'left'],\n",
    "                height=48,\n",
    "                font_size=12,\n",
    "                line_color='black',\n",
    "                fill_color='white')) ])\n",
    "        fig.update_layout( title_text=\"Topic {}: {}\".format(t,formattedlist) )\n",
    "        #fig.show() \n",
    "    del content\n",
    "except: \n",
    "    pd.set_option('display.max_colwidth', 150)\n",
    "    for t in range(num_topics):\n",
    "        print(\"Topic {}: {}\".format(t,lda_model.print_topics(num_words=6)[t][1]))\n",
    "        df.sort_values(by=t, ascending=False)[['StudentID','ReasoningLevel','ArgumentLevel',t]][:num_docs]\n",
    "        # sort in terms of studentID then Reasoning level and then Argument levell\n",
    "        print('\\n\\n')"
   ]
  },
  {
   "cell_type": "markdown",
   "metadata": {},
   "source": [
    "### E. Time plot of topic weights\n",
    "\n",
    "Finally, we can plot the \"prevalence\" of each topic as a function of time. That is, for each year we can add up the percentage of each topic in each document from that year's Science Education articles (normalized by the number of documents) and plot that as a function of time. Intuitively, we can think of this \"prevalence\" as being a measure of the percentage of papers published on that topic in that year, found by adding up the fractional topic contributions from each paper each year.\n",
    "\n",
    "It can, however, be tricky to see overall trends with so much year-to-year variation. So, in the next plots we have implemented a smoothing function in the form of a average across a 3-year rolling window. This effectively serves to dampen out small variations, while leaving larger trends intact. However, it also neglects the first and last years.\n",
    "\n",
    "Note that when you run this notebook (if you have plotly) these figures are interactive, so you can display or remove plots from the graph by clicking on the legend."
   ]
  },
  {
   "cell_type": "code",
   "execution_count": 31,
   "metadata": {},
   "outputs": [
    {
     "name": "stdout",
     "output_type": "stream",
     "text": [
      "['extended' 'prediction' 'superficial']\n",
      "Topic 0: run, emission, datum, first, clearly\n",
      "Topic 1: light, source, wavelength, lead, point\n",
      "Topic 2: value, line, wavelength, constant, error\n"
     ]
    },
    {
     "ename": "IndexError",
     "evalue": "list index out of range",
     "output_type": "error",
     "traceback": [
      "\u001b[1;31m---------------------------------------------------------------------------\u001b[0m",
      "\u001b[1;31mIndexError\u001b[0m                                Traceback (most recent call last)",
      "Cell \u001b[1;32mIn[31], line 18\u001b[0m\n\u001b[0;32m     16\u001b[0m tidy_df[\u001b[39m'\u001b[39m\u001b[39mwords\u001b[39m\u001b[39m'\u001b[39m] \u001b[39m=\u001b[39m \u001b[39m'\u001b[39m\u001b[39m'\u001b[39m\n\u001b[0;32m     17\u001b[0m \u001b[39mfor\u001b[39;00m t \u001b[39min\u001b[39;00m \u001b[39mrange\u001b[39m(num_topics):\n\u001b[1;32m---> 18\u001b[0m     formattedlist \u001b[39m=\u001b[39m [topic[\u001b[39m0\u001b[39m] \u001b[39mfor\u001b[39;00m topic \u001b[39min\u001b[39;00m lda_model\u001b[39m.\u001b[39;49mshow_topics(num_topics \u001b[39m=\u001b[39;49m \u001b[39m3\u001b[39;49m, formatted\u001b[39m=\u001b[39;49m\u001b[39mFalse\u001b[39;49;00m, num_words \u001b[39m=\u001b[39;49m \u001b[39m5\u001b[39;49m)[t][\u001b[39m1\u001b[39m]]\n\u001b[0;32m     19\u001b[0m     \u001b[39mprint\u001b[39m(\u001b[39m'\u001b[39m\u001b[39mTopic \u001b[39m\u001b[39m{}\u001b[39;00m\u001b[39m:\u001b[39m\u001b[39m'\u001b[39m\u001b[39m.\u001b[39mformat(t), \u001b[39m'\u001b[39m\u001b[39m, \u001b[39m\u001b[39m'\u001b[39m\u001b[39m.\u001b[39mjoin(formattedlist))\n\u001b[0;32m     20\u001b[0m     tidy_df\u001b[39m.\u001b[39mloc[tidy_df[\u001b[39m'\u001b[39m\u001b[39mTopic\u001b[39m\u001b[39m'\u001b[39m] \u001b[39m==\u001b[39m t, \u001b[39m'\u001b[39m\u001b[39mwords\u001b[39m\u001b[39m'\u001b[39m] \u001b[39m=\u001b[39m \u001b[39m'\u001b[39m\u001b[39m, \u001b[39m\u001b[39m'\u001b[39m\u001b[39m.\u001b[39mjoin(formattedlist)\n",
      "\u001b[1;31mIndexError\u001b[0m: list index out of range"
     ]
    }
   ],
   "source": [
    "# Prevalence for argument level\n",
    "import plotly\n",
    "import plotly.express as px\n",
    "\n",
    "#plotlydata = df.groupby('year').agg('mean').rolling(3, min_periods=3, win_type='triang').mean().dropna()\n",
    "plotlydata = df.groupby('ArgumentLevel').agg('mean').rolling(3, min_periods=3, win_type='triang').mean().dropna()\n",
    "#plotlydata = df.groupby('ArgumentLevel')\n",
    "#plotlydata['Years'] = plotlydata.index.values\n",
    "plotlydata['ArgumentLevel'] = plotlydata.index.values\n",
    "print(  plotlydata.index.values)\n",
    "#plotlydata = plotlydata[plotlydata['Years']<2020]\n",
    "#plotlydata = plotlydata[plotlydata['ArgumentLevel']]\n",
    "\n",
    "#tidy_df = plotlydata.melt(id_vars=\"Years\", var_name = \"Topic\", value_name = \"Prevalence (percent)\") \n",
    "tidy_df = plotlydata.melt(id_vars=\"ArgumentLevel\", var_name = \"Topic\", value_name = \"Prevalence (percent)\") \n",
    "tidy_df['words'] = ''\n",
    "for t in range(num_topics):\n",
    "    formattedlist = [topic[0] for topic in lda_model.show_topics(num_topics = 3, formatted=False, num_words = 5)[t][1]]\n",
    "    print('Topic {}:'.format(t), ', '.join(formattedlist))\n",
    "    tidy_df.loc[tidy_df['Topic'] == t, 'words'] = ', '.join(formattedlist)\n",
    "\n",
    "# fig = px.line(tidy_df, x=\"Years\", y=\"Prevalence (percent)\", color='Topic', line_dash = \"Topic\", \n",
    "#               hover_data = ['words'], title = 'Average Topic Prevalence over Time', width=1200, height=800)\n",
    "# fig.show()\n",
    "\n",
    "fig = px.line(tidy_df, x=\"ArgumentLevel\", y=\"Prevalence (percent)\", color='Topic', line_dash = \"Topic\", \n",
    "              hover_data = ['words'], title = 'Average Topic Prevalence over ArgumentLevel', width=1200, height=800)\n",
    "fig.show()\n"
   ]
  },
  {
   "cell_type": "code",
   "execution_count": 34,
   "metadata": {},
   "outputs": [
    {
     "name": "stdout",
     "output_type": "stream",
     "text": [
      "Topic 0: value, line, wavelength, constant, error\n",
      "Topic 1: run, emission, datum, first, clearly\n",
      "Topic 2: source, light, figure, wavelength, interference\n",
      "Topic 3: light, source, wavelength, lead, point\n"
     ]
    },
    {
     "data": {
      "application/vnd.plotly.v1+json": {
       "config": {
        "plotlyServerURL": "https://plot.ly"
       },
       "data": [
        {
         "customdata": [
          [
           "value, line, wavelength, constant, error"
          ],
          [
           "value, line, wavelength, constant, error"
          ]
         ],
         "hovertemplate": "Topic=0<br>ReasoningLevel=%{x}<br>Prevalence (percent)=%{y}<br>words=%{customdata[0]}<extra></extra>",
         "legendgroup": "0",
         "line": {
          "color": "#636efa",
          "dash": "solid"
         },
         "marker": {
          "symbol": "circle"
         },
         "mode": "lines",
         "name": "0",
         "orientation": "v",
         "showlegend": true,
         "type": "scatter",
         "x": [
          "none",
          "the"
         ],
         "xaxis": "x",
         "y": [
          0.42305612090685135,
          0.3539596434955183
         ],
         "yaxis": "y"
        },
        {
         "customdata": [
          [
           "run, emission, datum, first, clearly"
          ],
          [
           "run, emission, datum, first, clearly"
          ]
         ],
         "hovertemplate": "Topic=1<br>ReasoningLevel=%{x}<br>Prevalence (percent)=%{y}<br>words=%{customdata[0]}<extra></extra>",
         "legendgroup": "1",
         "line": {
          "color": "#EF553B",
          "dash": "dot"
         },
         "marker": {
          "symbol": "circle"
         },
         "mode": "lines",
         "name": "1",
         "orientation": "v",
         "showlegend": true,
         "type": "scatter",
         "x": [
          "none",
          "the"
         ],
         "xaxis": "x",
         "y": [
          0.01176831855913345,
          0.018445320065111476
         ],
         "yaxis": "y"
        },
        {
         "customdata": [
          [
           "source, light, figure, wavelength, interference"
          ],
          [
           "source, light, figure, wavelength, interference"
          ]
         ],
         "hovertemplate": "Topic=2<br>ReasoningLevel=%{x}<br>Prevalence (percent)=%{y}<br>words=%{customdata[0]}<extra></extra>",
         "legendgroup": "2",
         "line": {
          "color": "#00cc96",
          "dash": "dash"
         },
         "marker": {
          "symbol": "circle"
         },
         "mode": "lines",
         "name": "2",
         "orientation": "v",
         "showlegend": true,
         "type": "scatter",
         "x": [
          "none",
          "the"
         ],
         "xaxis": "x",
         "y": [
          0.08374540286224477,
          0.10510455382110936
         ],
         "yaxis": "y"
        },
        {
         "customdata": [
          [
           "light, source, wavelength, lead, point"
          ],
          [
           "light, source, wavelength, lead, point"
          ]
         ],
         "hovertemplate": "Topic=3<br>ReasoningLevel=%{x}<br>Prevalence (percent)=%{y}<br>words=%{customdata[0]}<extra></extra>",
         "legendgroup": "3",
         "line": {
          "color": "#ab63fa",
          "dash": "longdash"
         },
         "marker": {
          "symbol": "circle"
         },
         "mode": "lines",
         "name": "3",
         "orientation": "v",
         "showlegend": true,
         "type": "scatter",
         "x": [
          "none",
          "the"
         ],
         "xaxis": "x",
         "y": [
          0.4783600366717891,
          0.519684403180032
         ],
         "yaxis": "y"
        }
       ],
       "layout": {
        "height": 800,
        "legend": {
         "title": {
          "text": "Topic"
         },
         "tracegroupgap": 0
        },
        "template": {
         "data": {
          "bar": [
           {
            "error_x": {
             "color": "#2a3f5f"
            },
            "error_y": {
             "color": "#2a3f5f"
            },
            "marker": {
             "line": {
              "color": "#E5ECF6",
              "width": 0.5
             },
             "pattern": {
              "fillmode": "overlay",
              "size": 10,
              "solidity": 0.2
             }
            },
            "type": "bar"
           }
          ],
          "barpolar": [
           {
            "marker": {
             "line": {
              "color": "#E5ECF6",
              "width": 0.5
             },
             "pattern": {
              "fillmode": "overlay",
              "size": 10,
              "solidity": 0.2
             }
            },
            "type": "barpolar"
           }
          ],
          "carpet": [
           {
            "aaxis": {
             "endlinecolor": "#2a3f5f",
             "gridcolor": "white",
             "linecolor": "white",
             "minorgridcolor": "white",
             "startlinecolor": "#2a3f5f"
            },
            "baxis": {
             "endlinecolor": "#2a3f5f",
             "gridcolor": "white",
             "linecolor": "white",
             "minorgridcolor": "white",
             "startlinecolor": "#2a3f5f"
            },
            "type": "carpet"
           }
          ],
          "choropleth": [
           {
            "colorbar": {
             "outlinewidth": 0,
             "ticks": ""
            },
            "type": "choropleth"
           }
          ],
          "contour": [
           {
            "colorbar": {
             "outlinewidth": 0,
             "ticks": ""
            },
            "colorscale": [
             [
              0,
              "#0d0887"
             ],
             [
              0.1111111111111111,
              "#46039f"
             ],
             [
              0.2222222222222222,
              "#7201a8"
             ],
             [
              0.3333333333333333,
              "#9c179e"
             ],
             [
              0.4444444444444444,
              "#bd3786"
             ],
             [
              0.5555555555555556,
              "#d8576b"
             ],
             [
              0.6666666666666666,
              "#ed7953"
             ],
             [
              0.7777777777777778,
              "#fb9f3a"
             ],
             [
              0.8888888888888888,
              "#fdca26"
             ],
             [
              1,
              "#f0f921"
             ]
            ],
            "type": "contour"
           }
          ],
          "contourcarpet": [
           {
            "colorbar": {
             "outlinewidth": 0,
             "ticks": ""
            },
            "type": "contourcarpet"
           }
          ],
          "heatmap": [
           {
            "colorbar": {
             "outlinewidth": 0,
             "ticks": ""
            },
            "colorscale": [
             [
              0,
              "#0d0887"
             ],
             [
              0.1111111111111111,
              "#46039f"
             ],
             [
              0.2222222222222222,
              "#7201a8"
             ],
             [
              0.3333333333333333,
              "#9c179e"
             ],
             [
              0.4444444444444444,
              "#bd3786"
             ],
             [
              0.5555555555555556,
              "#d8576b"
             ],
             [
              0.6666666666666666,
              "#ed7953"
             ],
             [
              0.7777777777777778,
              "#fb9f3a"
             ],
             [
              0.8888888888888888,
              "#fdca26"
             ],
             [
              1,
              "#f0f921"
             ]
            ],
            "type": "heatmap"
           }
          ],
          "heatmapgl": [
           {
            "colorbar": {
             "outlinewidth": 0,
             "ticks": ""
            },
            "colorscale": [
             [
              0,
              "#0d0887"
             ],
             [
              0.1111111111111111,
              "#46039f"
             ],
             [
              0.2222222222222222,
              "#7201a8"
             ],
             [
              0.3333333333333333,
              "#9c179e"
             ],
             [
              0.4444444444444444,
              "#bd3786"
             ],
             [
              0.5555555555555556,
              "#d8576b"
             ],
             [
              0.6666666666666666,
              "#ed7953"
             ],
             [
              0.7777777777777778,
              "#fb9f3a"
             ],
             [
              0.8888888888888888,
              "#fdca26"
             ],
             [
              1,
              "#f0f921"
             ]
            ],
            "type": "heatmapgl"
           }
          ],
          "histogram": [
           {
            "marker": {
             "pattern": {
              "fillmode": "overlay",
              "size": 10,
              "solidity": 0.2
             }
            },
            "type": "histogram"
           }
          ],
          "histogram2d": [
           {
            "colorbar": {
             "outlinewidth": 0,
             "ticks": ""
            },
            "colorscale": [
             [
              0,
              "#0d0887"
             ],
             [
              0.1111111111111111,
              "#46039f"
             ],
             [
              0.2222222222222222,
              "#7201a8"
             ],
             [
              0.3333333333333333,
              "#9c179e"
             ],
             [
              0.4444444444444444,
              "#bd3786"
             ],
             [
              0.5555555555555556,
              "#d8576b"
             ],
             [
              0.6666666666666666,
              "#ed7953"
             ],
             [
              0.7777777777777778,
              "#fb9f3a"
             ],
             [
              0.8888888888888888,
              "#fdca26"
             ],
             [
              1,
              "#f0f921"
             ]
            ],
            "type": "histogram2d"
           }
          ],
          "histogram2dcontour": [
           {
            "colorbar": {
             "outlinewidth": 0,
             "ticks": ""
            },
            "colorscale": [
             [
              0,
              "#0d0887"
             ],
             [
              0.1111111111111111,
              "#46039f"
             ],
             [
              0.2222222222222222,
              "#7201a8"
             ],
             [
              0.3333333333333333,
              "#9c179e"
             ],
             [
              0.4444444444444444,
              "#bd3786"
             ],
             [
              0.5555555555555556,
              "#d8576b"
             ],
             [
              0.6666666666666666,
              "#ed7953"
             ],
             [
              0.7777777777777778,
              "#fb9f3a"
             ],
             [
              0.8888888888888888,
              "#fdca26"
             ],
             [
              1,
              "#f0f921"
             ]
            ],
            "type": "histogram2dcontour"
           }
          ],
          "mesh3d": [
           {
            "colorbar": {
             "outlinewidth": 0,
             "ticks": ""
            },
            "type": "mesh3d"
           }
          ],
          "parcoords": [
           {
            "line": {
             "colorbar": {
              "outlinewidth": 0,
              "ticks": ""
             }
            },
            "type": "parcoords"
           }
          ],
          "pie": [
           {
            "automargin": true,
            "type": "pie"
           }
          ],
          "scatter": [
           {
            "fillpattern": {
             "fillmode": "overlay",
             "size": 10,
             "solidity": 0.2
            },
            "type": "scatter"
           }
          ],
          "scatter3d": [
           {
            "line": {
             "colorbar": {
              "outlinewidth": 0,
              "ticks": ""
             }
            },
            "marker": {
             "colorbar": {
              "outlinewidth": 0,
              "ticks": ""
             }
            },
            "type": "scatter3d"
           }
          ],
          "scattercarpet": [
           {
            "marker": {
             "colorbar": {
              "outlinewidth": 0,
              "ticks": ""
             }
            },
            "type": "scattercarpet"
           }
          ],
          "scattergeo": [
           {
            "marker": {
             "colorbar": {
              "outlinewidth": 0,
              "ticks": ""
             }
            },
            "type": "scattergeo"
           }
          ],
          "scattergl": [
           {
            "marker": {
             "colorbar": {
              "outlinewidth": 0,
              "ticks": ""
             }
            },
            "type": "scattergl"
           }
          ],
          "scattermapbox": [
           {
            "marker": {
             "colorbar": {
              "outlinewidth": 0,
              "ticks": ""
             }
            },
            "type": "scattermapbox"
           }
          ],
          "scatterpolar": [
           {
            "marker": {
             "colorbar": {
              "outlinewidth": 0,
              "ticks": ""
             }
            },
            "type": "scatterpolar"
           }
          ],
          "scatterpolargl": [
           {
            "marker": {
             "colorbar": {
              "outlinewidth": 0,
              "ticks": ""
             }
            },
            "type": "scatterpolargl"
           }
          ],
          "scatterternary": [
           {
            "marker": {
             "colorbar": {
              "outlinewidth": 0,
              "ticks": ""
             }
            },
            "type": "scatterternary"
           }
          ],
          "surface": [
           {
            "colorbar": {
             "outlinewidth": 0,
             "ticks": ""
            },
            "colorscale": [
             [
              0,
              "#0d0887"
             ],
             [
              0.1111111111111111,
              "#46039f"
             ],
             [
              0.2222222222222222,
              "#7201a8"
             ],
             [
              0.3333333333333333,
              "#9c179e"
             ],
             [
              0.4444444444444444,
              "#bd3786"
             ],
             [
              0.5555555555555556,
              "#d8576b"
             ],
             [
              0.6666666666666666,
              "#ed7953"
             ],
             [
              0.7777777777777778,
              "#fb9f3a"
             ],
             [
              0.8888888888888888,
              "#fdca26"
             ],
             [
              1,
              "#f0f921"
             ]
            ],
            "type": "surface"
           }
          ],
          "table": [
           {
            "cells": {
             "fill": {
              "color": "#EBF0F8"
             },
             "line": {
              "color": "white"
             }
            },
            "header": {
             "fill": {
              "color": "#C8D4E3"
             },
             "line": {
              "color": "white"
             }
            },
            "type": "table"
           }
          ]
         },
         "layout": {
          "annotationdefaults": {
           "arrowcolor": "#2a3f5f",
           "arrowhead": 0,
           "arrowwidth": 1
          },
          "autotypenumbers": "strict",
          "coloraxis": {
           "colorbar": {
            "outlinewidth": 0,
            "ticks": ""
           }
          },
          "colorscale": {
           "diverging": [
            [
             0,
             "#8e0152"
            ],
            [
             0.1,
             "#c51b7d"
            ],
            [
             0.2,
             "#de77ae"
            ],
            [
             0.3,
             "#f1b6da"
            ],
            [
             0.4,
             "#fde0ef"
            ],
            [
             0.5,
             "#f7f7f7"
            ],
            [
             0.6,
             "#e6f5d0"
            ],
            [
             0.7,
             "#b8e186"
            ],
            [
             0.8,
             "#7fbc41"
            ],
            [
             0.9,
             "#4d9221"
            ],
            [
             1,
             "#276419"
            ]
           ],
           "sequential": [
            [
             0,
             "#0d0887"
            ],
            [
             0.1111111111111111,
             "#46039f"
            ],
            [
             0.2222222222222222,
             "#7201a8"
            ],
            [
             0.3333333333333333,
             "#9c179e"
            ],
            [
             0.4444444444444444,
             "#bd3786"
            ],
            [
             0.5555555555555556,
             "#d8576b"
            ],
            [
             0.6666666666666666,
             "#ed7953"
            ],
            [
             0.7777777777777778,
             "#fb9f3a"
            ],
            [
             0.8888888888888888,
             "#fdca26"
            ],
            [
             1,
             "#f0f921"
            ]
           ],
           "sequentialminus": [
            [
             0,
             "#0d0887"
            ],
            [
             0.1111111111111111,
             "#46039f"
            ],
            [
             0.2222222222222222,
             "#7201a8"
            ],
            [
             0.3333333333333333,
             "#9c179e"
            ],
            [
             0.4444444444444444,
             "#bd3786"
            ],
            [
             0.5555555555555556,
             "#d8576b"
            ],
            [
             0.6666666666666666,
             "#ed7953"
            ],
            [
             0.7777777777777778,
             "#fb9f3a"
            ],
            [
             0.8888888888888888,
             "#fdca26"
            ],
            [
             1,
             "#f0f921"
            ]
           ]
          },
          "colorway": [
           "#636efa",
           "#EF553B",
           "#00cc96",
           "#ab63fa",
           "#FFA15A",
           "#19d3f3",
           "#FF6692",
           "#B6E880",
           "#FF97FF",
           "#FECB52"
          ],
          "font": {
           "color": "#2a3f5f"
          },
          "geo": {
           "bgcolor": "white",
           "lakecolor": "white",
           "landcolor": "#E5ECF6",
           "showlakes": true,
           "showland": true,
           "subunitcolor": "white"
          },
          "hoverlabel": {
           "align": "left"
          },
          "hovermode": "closest",
          "mapbox": {
           "style": "light"
          },
          "paper_bgcolor": "white",
          "plot_bgcolor": "#E5ECF6",
          "polar": {
           "angularaxis": {
            "gridcolor": "white",
            "linecolor": "white",
            "ticks": ""
           },
           "bgcolor": "#E5ECF6",
           "radialaxis": {
            "gridcolor": "white",
            "linecolor": "white",
            "ticks": ""
           }
          },
          "scene": {
           "xaxis": {
            "backgroundcolor": "#E5ECF6",
            "gridcolor": "white",
            "gridwidth": 2,
            "linecolor": "white",
            "showbackground": true,
            "ticks": "",
            "zerolinecolor": "white"
           },
           "yaxis": {
            "backgroundcolor": "#E5ECF6",
            "gridcolor": "white",
            "gridwidth": 2,
            "linecolor": "white",
            "showbackground": true,
            "ticks": "",
            "zerolinecolor": "white"
           },
           "zaxis": {
            "backgroundcolor": "#E5ECF6",
            "gridcolor": "white",
            "gridwidth": 2,
            "linecolor": "white",
            "showbackground": true,
            "ticks": "",
            "zerolinecolor": "white"
           }
          },
          "shapedefaults": {
           "line": {
            "color": "#2a3f5f"
           }
          },
          "ternary": {
           "aaxis": {
            "gridcolor": "white",
            "linecolor": "white",
            "ticks": ""
           },
           "baxis": {
            "gridcolor": "white",
            "linecolor": "white",
            "ticks": ""
           },
           "bgcolor": "#E5ECF6",
           "caxis": {
            "gridcolor": "white",
            "linecolor": "white",
            "ticks": ""
           }
          },
          "title": {
           "x": 0.05
          },
          "xaxis": {
           "automargin": true,
           "gridcolor": "white",
           "linecolor": "white",
           "ticks": "",
           "title": {
            "standoff": 15
           },
           "zerolinecolor": "white",
           "zerolinewidth": 2
          },
          "yaxis": {
           "automargin": true,
           "gridcolor": "white",
           "linecolor": "white",
           "ticks": "",
           "title": {
            "standoff": 15
           },
           "zerolinecolor": "white",
           "zerolinewidth": 2
          }
         }
        },
        "title": {
         "text": "Average Topic Prevalence over Epistemology(Reasoning Level)"
        },
        "width": 1600,
        "xaxis": {
         "anchor": "y",
         "domain": [
          0,
          1
         ],
         "title": {
          "text": "ReasoningLevel"
         }
        },
        "yaxis": {
         "anchor": "x",
         "domain": [
          0,
          1
         ],
         "title": {
          "text": "Prevalence (percent)"
         }
        }
       }
      }
     },
     "metadata": {},
     "output_type": "display_data"
    }
   ],
   "source": [
    "# Prevelance for Epistemology\n",
    "\n",
    "#plotlydata = df.groupby('year').agg('mean').rolling(3, min_periods=3, win_type='triang').mean().dropna()\n",
    "plotlydata = df.groupby('ReasoningLevel').agg('mean').rolling(3, min_periods=3, win_type='triang').mean().dropna()\n",
    "#plotlydata['Years'] = plotlydata.index.values\n",
    "plotlydata['ReasoningLevel'] = plotlydata.index.values\n",
    "#plotlydata = plotlydata[plotlydata['Years']<2020]\n",
    "#plotlydata = plotlydata[plotlydata['ArgumentLevel']]\n",
    "\n",
    "#tidy_df = plotlydata.melt(id_vars=\"Years\", var_name = \"Topic\", value_name = \"Prevalence (percent)\") \n",
    "tidy_df = plotlydata.melt(id_vars=\"ReasoningLevel\", var_name = \"Topic\", value_name = \"Prevalence (percent)\") \n",
    "tidy_df['words'] = ''\n",
    "for t in range(num_topics):\n",
    "    formattedlist = [topic[0] for topic in lda_model.show_topics(num_topics = 25, formatted=False, num_words = 5)[t][1]]\n",
    "    print('Topic {}:'.format(t), ', '.join(formattedlist))\n",
    "    tidy_df.loc[tidy_df['Topic'] == t, 'words'] = ', '.join(formattedlist)\n",
    "\n",
    "# fig = px.line(tidy_df, x=\"Years\", y=\"Prevalence (percent)\", color='Topic', line_dash = \"Topic\", \n",
    "#               hover_data = ['words'], title = 'Average Topic Prevalence over Time', width=1200, height=800)\n",
    "# fig.show()\n",
    "\n",
    "fig = px.line(tidy_df, x=\"ReasoningLevel\", y=\"Prevalence (percent)\", color='Topic', line_dash = \"Topic\", \n",
    "              hover_data = ['words'], title = 'Average Topic Prevalence over Epistemology(Reasoning Level)', width=1600, height=800)\n",
    "fig.show()"
   ]
  },
  {
   "cell_type": "markdown",
   "metadata": {},
   "source": [
    "Here, we can see that there are definite trends over time. For example, there's an early focus on topic 18, which seems to be about \"natural philosophy. Prior to 1970 theres a big focus on topic 20, which seems to be about \n",
    "\n",
    "Another way to look at this is by just adding up the fractional contributions of papers, without averaging. This means that the graph will be more sentitive to year-to-year variations in numbers of articles published, but that provides some interesting information too. Here, the y-axis can be interpreted as a measure of the total number of papers published a topic each year."
   ]
  },
  {
   "attachments": {},
   "cell_type": "markdown",
   "metadata": {},
   "source": [
    "##### Efia - this could be useful for the analysis of year 1 and year 2 documents separately."
   ]
  },
  {
   "cell_type": "code",
   "execution_count": 80,
   "metadata": {},
   "outputs": [
    {
     "ename": "KeyError",
     "evalue": "'year'",
     "output_type": "error",
     "traceback": [
      "\u001b[1;31m---------------------------------------------------------------------------\u001b[0m",
      "\u001b[1;31mKeyError\u001b[0m                                  Traceback (most recent call last)",
      "Cell \u001b[1;32mIn[80], line 1\u001b[0m\n\u001b[1;32m----> 1\u001b[0m plotlydata \u001b[39m=\u001b[39m df\u001b[39m.\u001b[39;49mgroupby(\u001b[39m'\u001b[39;49m\u001b[39myear\u001b[39;49m\u001b[39m'\u001b[39;49m)\u001b[39m.\u001b[39magg(\u001b[39m'\u001b[39m\u001b[39msum\u001b[39m\u001b[39m'\u001b[39m)\u001b[39m.\u001b[39mrolling(\u001b[39m3\u001b[39m, min_periods\u001b[39m=\u001b[39m\u001b[39m3\u001b[39m, win_type\u001b[39m=\u001b[39m\u001b[39m'\u001b[39m\u001b[39mtriang\u001b[39m\u001b[39m'\u001b[39m)\u001b[39m.\u001b[39mmean()\u001b[39m.\u001b[39mdropna()\n\u001b[0;32m      2\u001b[0m plotlydata[\u001b[39m'\u001b[39m\u001b[39mYears\u001b[39m\u001b[39m'\u001b[39m] \u001b[39m=\u001b[39m plotlydata\u001b[39m.\u001b[39mindex\u001b[39m.\u001b[39mvalues\n\u001b[0;32m      3\u001b[0m plotlydata \u001b[39m=\u001b[39m plotlydata[plotlydata[\u001b[39m'\u001b[39m\u001b[39mYears\u001b[39m\u001b[39m'\u001b[39m]\u001b[39m<\u001b[39m\u001b[39m2020\u001b[39m]\n",
      "File \u001b[1;32mc:\\Users\\EfiaA\\Anaconda3\\lib\\site-packages\\pandas\\core\\frame.py:6717\u001b[0m, in \u001b[0;36mDataFrame.groupby\u001b[1;34m(self, by, axis, level, as_index, sort, group_keys, squeeze, observed, dropna)\u001b[0m\n\u001b[0;32m   6714\u001b[0m     \u001b[39mraise\u001b[39;00m \u001b[39mTypeError\u001b[39;00m(\u001b[39m\"\u001b[39m\u001b[39mYou have to supply one of \u001b[39m\u001b[39m'\u001b[39m\u001b[39mby\u001b[39m\u001b[39m'\u001b[39m\u001b[39m and \u001b[39m\u001b[39m'\u001b[39m\u001b[39mlevel\u001b[39m\u001b[39m'\u001b[39m\u001b[39m\"\u001b[39m)\n\u001b[0;32m   6715\u001b[0m axis \u001b[39m=\u001b[39m \u001b[39mself\u001b[39m\u001b[39m.\u001b[39m_get_axis_number(axis)\n\u001b[1;32m-> 6717\u001b[0m \u001b[39mreturn\u001b[39;00m DataFrameGroupBy(\n\u001b[0;32m   6718\u001b[0m     obj\u001b[39m=\u001b[39;49m\u001b[39mself\u001b[39;49m,\n\u001b[0;32m   6719\u001b[0m     keys\u001b[39m=\u001b[39;49mby,\n\u001b[0;32m   6720\u001b[0m     axis\u001b[39m=\u001b[39;49maxis,\n\u001b[0;32m   6721\u001b[0m     level\u001b[39m=\u001b[39;49mlevel,\n\u001b[0;32m   6722\u001b[0m     as_index\u001b[39m=\u001b[39;49mas_index,\n\u001b[0;32m   6723\u001b[0m     sort\u001b[39m=\u001b[39;49msort,\n\u001b[0;32m   6724\u001b[0m     group_keys\u001b[39m=\u001b[39;49mgroup_keys,\n\u001b[0;32m   6725\u001b[0m     squeeze\u001b[39m=\u001b[39;49msqueeze,\n\u001b[0;32m   6726\u001b[0m     observed\u001b[39m=\u001b[39;49mobserved,\n\u001b[0;32m   6727\u001b[0m     dropna\u001b[39m=\u001b[39;49mdropna,\n\u001b[0;32m   6728\u001b[0m )\n",
      "File \u001b[1;32mc:\\Users\\EfiaA\\Anaconda3\\lib\\site-packages\\pandas\\core\\groupby\\groupby.py:560\u001b[0m, in \u001b[0;36mBaseGroupBy.__init__\u001b[1;34m(self, obj, keys, axis, level, grouper, exclusions, selection, as_index, sort, group_keys, squeeze, observed, mutated, dropna)\u001b[0m\n\u001b[0;32m    557\u001b[0m \u001b[39mif\u001b[39;00m grouper \u001b[39mis\u001b[39;00m \u001b[39mNone\u001b[39;00m:\n\u001b[0;32m    558\u001b[0m     \u001b[39mfrom\u001b[39;00m \u001b[39mpandas\u001b[39;00m\u001b[39m.\u001b[39;00m\u001b[39mcore\u001b[39;00m\u001b[39m.\u001b[39;00m\u001b[39mgroupby\u001b[39;00m\u001b[39m.\u001b[39;00m\u001b[39mgrouper\u001b[39;00m \u001b[39mimport\u001b[39;00m get_grouper\n\u001b[1;32m--> 560\u001b[0m     grouper, exclusions, obj \u001b[39m=\u001b[39m get_grouper(\n\u001b[0;32m    561\u001b[0m         obj,\n\u001b[0;32m    562\u001b[0m         keys,\n\u001b[0;32m    563\u001b[0m         axis\u001b[39m=\u001b[39;49maxis,\n\u001b[0;32m    564\u001b[0m         level\u001b[39m=\u001b[39;49mlevel,\n\u001b[0;32m    565\u001b[0m         sort\u001b[39m=\u001b[39;49msort,\n\u001b[0;32m    566\u001b[0m         observed\u001b[39m=\u001b[39;49mobserved,\n\u001b[0;32m    567\u001b[0m         mutated\u001b[39m=\u001b[39;49m\u001b[39mself\u001b[39;49m\u001b[39m.\u001b[39;49mmutated,\n\u001b[0;32m    568\u001b[0m         dropna\u001b[39m=\u001b[39;49m\u001b[39mself\u001b[39;49m\u001b[39m.\u001b[39;49mdropna,\n\u001b[0;32m    569\u001b[0m     )\n\u001b[0;32m    571\u001b[0m \u001b[39mself\u001b[39m\u001b[39m.\u001b[39mobj \u001b[39m=\u001b[39m obj\n\u001b[0;32m    572\u001b[0m \u001b[39mself\u001b[39m\u001b[39m.\u001b[39maxis \u001b[39m=\u001b[39m obj\u001b[39m.\u001b[39m_get_axis_number(axis)\n",
      "File \u001b[1;32mc:\\Users\\EfiaA\\Anaconda3\\lib\\site-packages\\pandas\\core\\groupby\\grouper.py:811\u001b[0m, in \u001b[0;36mget_grouper\u001b[1;34m(obj, key, axis, level, sort, observed, mutated, validate, dropna)\u001b[0m\n\u001b[0;32m    809\u001b[0m         in_axis, name, level, gpr \u001b[39m=\u001b[39m \u001b[39mFalse\u001b[39;00m, \u001b[39mNone\u001b[39;00m, gpr, \u001b[39mNone\u001b[39;00m\n\u001b[0;32m    810\u001b[0m     \u001b[39melse\u001b[39;00m:\n\u001b[1;32m--> 811\u001b[0m         \u001b[39mraise\u001b[39;00m \u001b[39mKeyError\u001b[39;00m(gpr)\n\u001b[0;32m    812\u001b[0m \u001b[39melif\u001b[39;00m \u001b[39misinstance\u001b[39m(gpr, Grouper) \u001b[39mand\u001b[39;00m gpr\u001b[39m.\u001b[39mkey \u001b[39mis\u001b[39;00m \u001b[39mnot\u001b[39;00m \u001b[39mNone\u001b[39;00m:\n\u001b[0;32m    813\u001b[0m     \u001b[39m# Add key to exclusions\u001b[39;00m\n\u001b[0;32m    814\u001b[0m     exclusions\u001b[39m.\u001b[39madd(gpr\u001b[39m.\u001b[39mkey)\n",
      "\u001b[1;31mKeyError\u001b[0m: 'year'"
     ]
    }
   ],
   "source": [
    "# plotlydata = df.groupby('year').agg('sum').rolling(3, min_periods=3, win_type='triang').mean().dropna()\n",
    "# plotlydata['Years'] = plotlydata.index.values\n",
    "# plotlydata = plotlydata[plotlydata['Years']<2020]\n",
    "\n",
    "# tidy_df = plotlydata.melt(id_vars=\"Years\", var_name = \"Topic\", value_name = \"Cumulative Documents\") \n",
    "\n",
    "# tidy_df['words'] = ''\n",
    "# for t in range(num_topics):\n",
    "#     formattedlist = [topic[0] for topic in lda_model.show_topics(num_topics = 25, formatted=False, num_words = 5)[t][1]]\n",
    "#     print('Topic {}:'.format(t), ', '.join(formattedlist))\n",
    "#     tidy_df.loc[tidy_df['Topic'] == t, 'words'] = ', '.join(formattedlist)\n",
    "\n",
    "# fig = px.line(tidy_df, x=\"Years\", y=\"Cumulative Documents\", color='Topic', line_dash = 'Topic', \n",
    "#               hover_data = ['words'],title = 'Cumulative Topic Prevalence over Time', width=1200, height=800)\n",
    "# fig.show()"
   ]
  },
  {
   "cell_type": "markdown",
   "metadata": {},
   "source": [
    "Although the plot is somewhat crowded, there are..."
   ]
  },
  {
   "cell_type": "markdown",
   "metadata": {},
   "source": [
    "## V. Conclusions\n",
    "\n",
    "In conclusion, we are able to see some interesting trends over time here. We are still working on understanding where these trends might come from. More to come on this soon!"
   ]
  },
  {
   "cell_type": "markdown",
   "metadata": {},
   "source": [
    "# References\n",
    "\n",
    "1. Hoffman, M. D., Blei, D. M. & Bach, F. Online Learning for Latent Dirichlet Allocation (Supplementary Material). Nature 0, 1–9 (2010).\n",
    "2. Newman, D., Lau, J. H., Grieser, K. & Baldwin, T. Automatic evaluation of topic coherence. in NAACL HLT 2010 - Human Language Technologies: The 2010 Annual Conference of the North American Chapter of the Association for Computational Linguistics, Proceedings of the Main Conference 100–108 (2010).\n",
    "3. Röder, M., Both, A. & Hinneburg, A. Exploring the space of topic coherence measures. WSDM 2015 - Proc. 8th ACM Int. Conf. Web Search Data Min. 399–408 (2015). doi:10.1145/2684822.2685324"
   ]
  }
 ],
 "metadata": {
  "kernelspec": {
   "display_name": "base",
   "language": "python",
   "name": "python3"
  },
  "language_info": {
   "codemirror_mode": {
    "name": "ipython",
    "version": 3
   },
   "file_extension": ".py",
   "mimetype": "text/x-python",
   "name": "python",
   "nbconvert_exporter": "python",
   "pygments_lexer": "ipython3",
   "version": "3.8.8"
  },
  "vscode": {
   "interpreter": {
    "hash": "7bf9169aea3bf43030d2045b9506020b24091b3061df9b5cfee19d2eac11c6ed"
   }
  }
 },
 "nbformat": 4,
 "nbformat_minor": 2
}
