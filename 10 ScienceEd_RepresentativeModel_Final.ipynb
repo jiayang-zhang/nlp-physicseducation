{
 "cells": [
  {
   "cell_type": "markdown",
   "metadata": {},
   "source": [
    "# Modeling Science Education topics over time using Latent Dirichlet Allocation\n",
    "\n",
    "### Tor Ole B. Odden and Alessandro Marin\n",
    "\n",
    "\n",
    "## I. Introduction: Topic modeling of Science Education papers\n",
    "In this notebook, we perform a topic analysis of papers from the journal Science Education (formerly General Science Quarterly), which has been publishing articles since 1916.\n",
    "\n",
    "To do this, we will be using a technique called Latent Dirichlet Allocation, or LDA. LDA is one of a family of machine learning techniques, within the subfield of natural language processing, that analyze text to pull out topics and essential features. Notably, it's a mixed-membership model, which means that it assumes each document will be a mixture of several different topics (the exact number being specified beforehand). Given certain hyperparameters (such as the number of topics and the expected distributions of topics in the different documents), it then attempts to derive the topics from word co-occurrences.\n",
    "\n",
    "This notebook guides you through the main aspects of the modeling process. To begin with, we have downloaded all articles from Science Education/General Science Quarterly, starting in 1922 (papers were missing from 1919-1921, and the text of papers prior to 1919 was heavily corrupted).\n",
    "\n",
    "We scraped the text from these PDFs into a dataframe, and done some basic cleaning on the text: \n",
    "* Removing references\n",
    "* Removing symbols, numbers, and stopwords (such as \"and\", \"is\", and \"but\") \n",
    "* Lowercasing all text\n",
    "* Lemmatizing the text, reducing words to their more basic forms (for example, \"testing\", \"tested\", and \"tests\" to the base word \"test\")\n",
    "* Creating bi-grams by uniting words that are commonly used together and which carry a specialized meaning when put together, such as \"high_school\"\n",
    "* Turning the text into a series of single words, called \"tokens\"\n",
    "\n",
    "In this notebook, we will start by taking our cleaned data and do some filtering, which will improve the quality of our eventual model. This results in the final set of data (a so-called \"bag of words\") that we use to train the model. We then train a few example models, and compute various measures of quality including coherence, perplexity, and a visual inspection of the most representative papers in each topic. Finally, we use this model to look at the prevalence of topics over time."
   ]
  },
  {
   "cell_type": "markdown",
   "metadata": {},
   "source": [
    "### A. Importing Packages\n",
    "\n",
    "We need a lot of packages for this analysis. The primary packages we use are Gensim, which is a library used to do this kind of LDA topic modeling. We will also import PyLDAvis, a visualiation package for LDA, and our usual data analysis tools (pandas, matplotlib, numpy) and pickle to store our data for later analysis."
   ]
  },
  {
   "cell_type": "code",
   "execution_count": 35,
   "metadata": {},
   "outputs": [
    {
     "data": {
      "text/html": [
       "<style>.container { width:95% !important; }</style>"
      ],
      "text/plain": [
       "<IPython.core.display.HTML object>"
      ]
     },
     "metadata": {},
     "output_type": "display_data"
    }
   ],
   "source": [
    "# Print out  all expressions\n",
    "from IPython.core.interactiveshell import InteractiveShell\n",
    "InteractiveShell.ast_node_interactivity = \"all\" #default 'last_expr'\n",
    "from IPython.core.display import display, HTML\n",
    "display(HTML(\"<style>.container { width:95% !important; }</style>\")) "
   ]
  },
  {
   "cell_type": "code",
   "execution_count": 36,
   "metadata": {},
   "outputs": [],
   "source": [
    "#Import gensim, our library for text analysis\n",
    "import gensim\n",
    "from gensim.parsing.preprocessing import STOPWORDS\n",
    "from gensim.corpora.dictionary import Dictionary\n",
    "from sklearn.feature_extraction.text import CountVectorizer\n",
    "\n",
    "# Plotting tools\n",
    "import pyLDAvis\n",
    "import pyLDAvis.gensim  # don't skip this\n",
    "\n",
    "# Import usual data analysis tools\n",
    "import pandas as pd\n",
    "import matplotlib.pyplot as plt\n",
    "%matplotlib inline\n",
    "import numpy as np\n",
    "#np.random.seed(2018)\n",
    "\n",
    "import pickle\n",
    "\n",
    "import warnings\n",
    "warnings.filterwarnings(\"ignore\", category=DeprecationWarning);\n",
    "\n",
    "import os"
   ]
  },
  {
   "cell_type": "markdown",
   "metadata": {},
   "source": [
    "We have also defines some helper scripts for commonly-used functions like paths to pdfs and stored data files."
   ]
  },
  {
   "cell_type": "code",
   "execution_count": 38,
   "metadata": {},
   "outputs": [
    {
     "name": "stdout",
     "output_type": "stream",
     "text": [
      "     Unnamed: 0               StudentID  \\\n",
      "0             0  2ndINT_MHH822_Redacted   \n",
      "1             1  2ndINT_GYI981_Redacted   \n",
      "2             2  2ndINT_MFR246_Redacted   \n",
      "3             3  2ndINT_CTW087_Redacted   \n",
      "4             4  2ndINT_HBQ145_Redacted   \n",
      "..          ...                     ...   \n",
      "173         173      GS_LSK572_Redacted   \n",
      "174         174      GS_YZI659_Redacted   \n",
      "175         175      GS_CTW087_Redacted   \n",
      "176         176      GS_MFR246_Redacted   \n",
      "177         177      GS_KGR276_Redacted   \n",
      "\n",
      "                                               Content ArgumentLevel  \\\n",
      "0    a michelson interferometer be built and use to...    prediction   \n",
      "1    in this experiment a series of light spectl 3 ...          deep   \n",
      "2    in this experiment we explore the spectral com...   superficial   \n",
      "3    the purpose of this experiment be to calculate...        expert   \n",
      "4    michelson interferometer with a movable mirror...          deep   \n",
      "..                                                 ...           ...   \n",
      "173  the rydberg constant be calculate by use a gra...          deep   \n",
      "174  the same set up be use a that in figure 1. bef...   superficial   \n",
      "175  the purpose of this report be to display the r...   superficial   \n",
      "176  spectroscopy be commonly use a a non-invasive ...          deep   \n",
      "177  the rydberg constant allows one to predict how...   superficial   \n",
      "\n",
      "    ReasoningLevel  \n",
      "0              the  \n",
      "1              bal  \n",
      "2              bal  \n",
      "3              bal  \n",
      "4             none  \n",
      "..             ...  \n",
      "173            bal  \n",
      "174            the  \n",
      "175            bal  \n",
      "176            exp  \n",
      "177            bal  \n",
      "\n",
      "[178 rows x 5 columns]\n"
     ]
    }
   ],
   "source": [
    "\n",
    "dir_name_e = r'C:\\Users\\EfiaA\\OneDrive - Imperial College London\\Imperial academic work\\University life\\Y4\\MSci project\\Project_Coding\\nlp-physicseducation\\Pickledfiles'\n",
    "dir_csv3 = 'outputs/labels_cleaned_y1y2.csv'\n",
    "df = pd.read_csv(dir_csv3, encoding='utf-8')\n",
    "print(df)"
   ]
  },
  {
   "cell_type": "markdown",
   "metadata": {},
   "source": [
    "## II. Loading in and filtering the data\n",
    "\n",
    "The datafile we use for this analysis is a pickle file containing processed versions of Science Education papers from 1922 to 2019. There are 5577 articles in this dataset, after some preliminary filtering to remove advertisements and articles with no author. This processed data was then stored in a datafile, which we now load in:"
   ]
  },
  {
   "cell_type": "code",
   "execution_count": 39,
   "metadata": {
    "scrolled": false
   },
   "outputs": [],
   "source": [
    "data_words_bigrams = df['Content']\n",
    "#pd.read_pickle(path_pkl+'scied_words_bigrams_V5.pkl')\n",
    "#print(data_words_bigrams)\n",
    "\n",
    "data_words_bigrams2 = []\n",
    "for i in range(len(data_words_bigrams)):\n",
    "    data_words_bigrams2.append([data_words_bigrams.iloc[i]])\n",
    "\n",
    "\n"
   ]
  },
  {
   "cell_type": "markdown",
   "metadata": {},
   "source": [
    "### A. Plotting top words in all documents\n",
    "\n",
    "Now, we will do some investigation and filtering based on word frequency. Our goal is to filter out the words that occur in a large number of documents, which are less likely to carry any distinct meaning for any specific theories, methods, or research traditions in science education. For example, most people in the science education research community talk about \"science\", \"education\", and \"students\" in one form or another. Those words do not carry a very specialized meaning within the subfield, and so should be removed from our dataset in order to make sure that the more interesting, distinct, and meaningful words are prioritized in the analysis.\n",
    "\n",
    "We start by defining and importing some more helper functions to plot the word frequency distribution in the dataset."
   ]
  },
  {
   "cell_type": "code",
   "execution_count": 29,
   "metadata": {},
   "outputs": [],
   "source": [
    "# from helpers import plot_freq_dist,get_top_n_words,plot_words_freq"
   ]
  },
  {
   "cell_type": "code",
   "execution_count": 40,
   "metadata": {
    "scrolled": false
   },
   "outputs": [
    {
     "name": "stdout",
     "output_type": "stream",
     "text": [
      "Total words: \u001b[1m178\u001b[0m, unique words: \u001b[1m177\u001b[0m\n"
     ]
    }
   ],
   "source": [
    "corpus = [ w for doc in data_words_bigrams2 for w in doc]\n",
    "print('Total words: \\033[1m%d\\033[0m, unique words: \\033[1m%d\\033[0m' % (len(corpus), len(set(corpus))))\n",
    "\n",
    "# [words, freq, ids] = get_top_n_words(corpus, n_top_words=None)\n",
    "# fig = plot_freq_dist(freq, range=[0,8000])\n",
    "# fig, ax = plot_words_freq(words, freq, 15)\n",
    "\n"
   ]
  },
  {
   "cell_type": "markdown",
   "metadata": {},
   "source": [
    "As we can see, the top words in the dataset include \"science\", \"student\", \"teacher\", \"study\", \"teach\", \"learn\", and \"education\". Because these words are so overrepresented, they need to be filtered out. This is an essential step, since topic models like LDA are based on word co-occurrences, which means that word that are over-represented in the data can wash out the more interesting trends in our data (i.e., words that are theoretically relevant to particular subgroups or research paradgims within science education). "
   ]
  },
  {
   "cell_type": "markdown",
   "metadata": {},
   "source": [
    "### B. Creating a Bag of Words to filter the dataset\n",
    "\n",
    "Thankfully, Gensim already has a built-in function to do this kind of filtering, \"filter_extremes\", which allows us to filter out words that appear too many or too few times. The parameters are:\n",
    "* **no_below**: an integer. Keep tokens which are contained in at least no_below documents.  \n",
    "* **no_above**: a float number between 0 and 1. It filters out tokens which are contained in more than no_above percentage of documents. E.g. with no_above=0.5, tokens in in more than 50% of the documents get cut out.  \n",
    "* **keep_n**: an integer. It specifies how many tokens should be kept, starting with the most frequent.\n",
    "\n",
    "However, to use this function we must first create a [Gensim Dictionary](https://radimrehurek.com/gensim/corpora/dictionary.html#gensim.corpora.dictionary.Dictionary), which is a mapping between each of the entries (i.e. normalized words) and its integer id in the corpus. \n",
    "\n",
    "Based on repeated runs with different filtering values, we've set the no_above parameter to 0.50, which filters out 133 words (displayed below). We set our no_below value to 15; this is somewhat arbitrary, but considering the size of the dataset (5577 documents) any words that appear in less than 15 documents are probably not worth keeping—oftentimes they are scanning errors, typos, or names.\n",
    "\n",
    "After the filtering we convert the remaining tokens into a \"bag of words\" (BoW). We also display the resulting distribution for the most common words after filtering."
   ]
  },
  {
   "cell_type": "code",
   "execution_count": 41,
   "metadata": {},
   "outputs": [
    {
     "name": "stdout",
     "output_type": "stream",
     "text": [
      "Dictionary with \u001b[1mno_above=1\u001b[0m contains \u001b[1m177\u001b[0m unique words\n",
      "\n",
      "Dictionary filtered with \u001b[1mno_above=0.50\u001b[0m contains \u001b[1m177\u001b[0m unique words. \u001b[1m0 words\u001b[0m removed:\n",
      " [] \n",
      "\n"
     ]
    }
   ],
   "source": [
    "no_below = 1\n",
    "no_above = 0.5\n",
    "import copy\n",
    "id2word_unfiltered_above = gensim.corpora.Dictionary(data_words_bigrams2) #Needed for a bug\n",
    "id2word_unfiltered_above.filter_extremes(no_below=no_below, no_above=1, keep_n=10000)\n",
    "#id2word_unfiltered_above.filter_extremes(no_below=no_below, no_above=1, keep_n=100000)\n",
    "print(\"Dictionary with \\033[1mno_above=1\\033[0m contains \\033[1m%d\\033[0m unique words\\n\" % (len(id2word_unfiltered_above)))\n",
    "\n",
    "id2word = gensim.corpora.Dictionary(data_words_bigrams2)\n",
    "#id2word.filter_extremes(no_below=no_below, no_above=no_above, keep_n=100000)\n",
    "\n",
    "#Effect of using no_above\n",
    "diff_set = set(list(id2word_unfiltered_above.values())) - set(list(id2word.values()))\n",
    "print(\"Dictionary filtered with \\033[1mno_above=%.2f\\033[0m contains \\033[1m%d\\033[0m unique words. \\033[1m%d words\\033[0m removed:\\n %s \\n\" % \n",
    "      (no_above, len(id2word), len(diff_set), sorted(diff_set)))"
   ]
  },
  {
   "cell_type": "code",
   "execution_count": 42,
   "metadata": {},
   "outputs": [],
   "source": [
    "# from tools import ml_tools\n",
    "# no_below = 1\n",
    "# no_above = 5\n",
    "\n",
    "# id2word_unfiltered_above = gensim.corpora.Dictionary(data_words_bigrams2) #Needed for a bug\n",
    "# print(\"Unfiltered Dictionary contains \\033[1m%d\\033[0m unique words\" % len(id2word_unfiltered_above)) #209780\n",
    "\n",
    "# id2word = gensim.corpora.Dictionary(data_words_bigrams2)\n",
    "# id2word.filter_extremes(no_below=no_below, no_above=no_above, keep_n=100000)\n",
    "# #print(id2word)\n",
    "\n",
    "# #Create BoW\n",
    "# bow_corpus = ml_tools.BoW(df['Content'].tolist())\n",
    "# #bow_corpus = [id2word.doc2bow(doc) for doc in data_words_bigrams2]\n",
    "# print(bow_corpus)\n",
    "# #Get most frequent words from id2word Dictionary\n",
    "# #There is a bug with csf: https://github.com/RaRe-Technologies/gensim/issues/2574\n",
    "# [ids, freq] = zip(*sorted(id2word.cfs.items(), key=lambda x: x[1], reverse=True))\n",
    "# words = [id2word_unfiltered_above[id] for id in ids]  #have to use id2word_unfiltered to retrieve words from ids!!\n",
    "# # Plot distribution\n",
    "# #plt.hist(freq, range=[0,200])\n",
    "# #plt.plot(words, freq, 20)"
   ]
  },
  {
   "cell_type": "code",
   "execution_count": 43,
   "metadata": {},
   "outputs": [
    {
     "name": "stdout",
     "output_type": "stream",
     "text": [
      "     Unnamed: 0               StudentID  \\\n",
      "0             0  2ndINT_MHH822_Redacted   \n",
      "1             1  2ndINT_GYI981_Redacted   \n",
      "2             2  2ndINT_MFR246_Redacted   \n",
      "3             3  2ndINT_CTW087_Redacted   \n",
      "4             4  2ndINT_HBQ145_Redacted   \n",
      "..          ...                     ...   \n",
      "173         173      GS_LSK572_Redacted   \n",
      "174         174      GS_YZI659_Redacted   \n",
      "175         175      GS_CTW087_Redacted   \n",
      "176         176      GS_MFR246_Redacted   \n",
      "177         177      GS_KGR276_Redacted   \n",
      "\n",
      "                                               Content ArgumentLevel  \\\n",
      "0    a michelson interferometer be built and use to...    prediction   \n",
      "1    in this experiment a series of light spectl 3 ...          deep   \n",
      "2    in this experiment we explore the spectral com...   superficial   \n",
      "3    the purpose of this experiment be to calculate...        expert   \n",
      "4    michelson interferometer with a movable mirror...          deep   \n",
      "..                                                 ...           ...   \n",
      "173  the rydberg constant be calculate by use a gra...          deep   \n",
      "174  the same set up be use a that in figure 1. bef...   superficial   \n",
      "175  the purpose of this report be to display the r...   superficial   \n",
      "176  spectroscopy be commonly use a a non-invasive ...          deep   \n",
      "177  the rydberg constant allows one to predict how...   superficial   \n",
      "\n",
      "    ReasoningLevel  \n",
      "0              the  \n",
      "1              bal  \n",
      "2              bal  \n",
      "3              bal  \n",
      "4             none  \n",
      "..             ...  \n",
      "173            bal  \n",
      "174            the  \n",
      "175            bal  \n",
      "176            exp  \n",
      "177            bal  \n",
      "\n",
      "[178 rows x 5 columns]\n"
     ]
    }
   ],
   "source": [
    "print(df)"
   ]
  },
  {
   "cell_type": "code",
   "execution_count": 44,
   "metadata": {},
   "outputs": [
    {
     "name": "stderr",
     "output_type": "stream",
     "text": [
      "Traceback (most recent call last):\n",
      "  File \"c:\\Users\\EfiaA\\Anaconda3\\lib\\site-packages\\urllib3\\connection.py\", line 169, in _new_conn\n",
      "    conn = connection.create_connection(\n",
      "  File \"c:\\Users\\EfiaA\\Anaconda3\\lib\\site-packages\\urllib3\\util\\connection.py\", line 73, in create_connection\n",
      "    for res in socket.getaddrinfo(host, port, family, socket.SOCK_STREAM):\n",
      "  File \"c:\\Users\\EfiaA\\Anaconda3\\lib\\socket.py\", line 918, in getaddrinfo\n",
      "    for res in _socket.getaddrinfo(host, port, family, type, proto, flags):\n",
      "socket.gaierror: [Errno 11001] getaddrinfo failed\n",
      "\n",
      "During handling of the above exception, another exception occurred:\n",
      "\n",
      "Traceback (most recent call last):\n",
      "  File \"c:\\Users\\EfiaA\\Anaconda3\\lib\\site-packages\\urllib3\\connectionpool.py\", line 699, in urlopen\n",
      "    httplib_response = self._make_request(\n",
      "  File \"c:\\Users\\EfiaA\\Anaconda3\\lib\\site-packages\\urllib3\\connectionpool.py\", line 382, in _make_request\n",
      "    self._validate_conn(conn)\n",
      "  File \"c:\\Users\\EfiaA\\Anaconda3\\lib\\site-packages\\urllib3\\connectionpool.py\", line 1010, in _validate_conn\n",
      "    conn.connect()\n",
      "  File \"c:\\Users\\EfiaA\\Anaconda3\\lib\\site-packages\\urllib3\\connection.py\", line 353, in connect\n",
      "    conn = self._new_conn()\n",
      "  File \"c:\\Users\\EfiaA\\Anaconda3\\lib\\site-packages\\urllib3\\connection.py\", line 181, in _new_conn\n",
      "    raise NewConnectionError(\n",
      "urllib3.exceptions.NewConnectionError: <urllib3.connection.HTTPSConnection object at 0x000001DCE2C610D0>: Failed to establish a new connection: [Errno 11001] getaddrinfo failed\n",
      "\n",
      "During handling of the above exception, another exception occurred:\n",
      "\n",
      "Traceback (most recent call last):\n",
      "  File \"c:\\Users\\EfiaA\\Anaconda3\\lib\\site-packages\\requests\\adapters.py\", line 439, in send\n",
      "    resp = conn.urlopen(\n",
      "  File \"c:\\Users\\EfiaA\\Anaconda3\\lib\\site-packages\\urllib3\\connectionpool.py\", line 755, in urlopen\n",
      "    retries = retries.increment(\n",
      "  File \"c:\\Users\\EfiaA\\Anaconda3\\lib\\site-packages\\urllib3\\util\\retry.py\", line 574, in increment\n",
      "    raise MaxRetryError(_pool, url, error or ResponseError(cause))\n",
      "urllib3.exceptions.MaxRetryError: HTTPSConnectionPool(host='raw.githubusercontent.com', port=443): Max retries exceeded with url: /explosion/spacy-models/master/shortcuts-v2.json (Caused by NewConnectionError('<urllib3.connection.HTTPSConnection object at 0x000001DCE2C610D0>: Failed to establish a new connection: [Errno 11001] getaddrinfo failed'))\n",
      "\n",
      "During handling of the above exception, another exception occurred:\n",
      "\n",
      "Traceback (most recent call last):\n",
      "  File \"c:\\Users\\EfiaA\\Anaconda3\\lib\\runpy.py\", line 194, in _run_module_as_main\n",
      "    return _run_code(code, main_globals, None,\n",
      "  File \"c:\\Users\\EfiaA\\Anaconda3\\lib\\runpy.py\", line 87, in _run_code\n",
      "    exec(code, run_globals)\n",
      "  File \"c:\\Users\\EfiaA\\Anaconda3\\lib\\site-packages\\spacy\\__main__.py\", line 33, in <module>\n",
      "    plac.call(commands[command], sys.argv[1:])\n",
      "  File \"c:\\Users\\EfiaA\\Anaconda3\\lib\\site-packages\\plac_core.py\", line 367, in call\n",
      "    cmd, result = parser.consume(arglist)\n",
      "  File \"c:\\Users\\EfiaA\\Anaconda3\\lib\\site-packages\\plac_core.py\", line 232, in consume\n",
      "    return cmd, self.func(*(args + varargs + extraopts), **kwargs)\n",
      "  File \"c:\\Users\\EfiaA\\Anaconda3\\lib\\site-packages\\spacy\\cli\\download.py\", line 44, in download\n",
      "    shortcuts = get_json(about.__shortcuts__, \"available shortcuts\")\n",
      "  File \"c:\\Users\\EfiaA\\Anaconda3\\lib\\site-packages\\spacy\\cli\\download.py\", line 95, in get_json\n",
      "    r = requests.get(url)\n",
      "  File \"c:\\Users\\EfiaA\\Anaconda3\\lib\\site-packages\\requests\\api.py\", line 76, in get\n",
      "    return request('get', url, params=params, **kwargs)\n",
      "  File \"c:\\Users\\EfiaA\\Anaconda3\\lib\\site-packages\\requests\\api.py\", line 61, in request\n",
      "    return session.request(method=method, url=url, **kwargs)\n",
      "  File \"c:\\Users\\EfiaA\\Anaconda3\\lib\\site-packages\\requests\\sessions.py\", line 542, in request\n",
      "    resp = self.send(prep, **send_kwargs)\n",
      "  File \"c:\\Users\\EfiaA\\Anaconda3\\lib\\site-packages\\requests\\sessions.py\", line 655, in send\n",
      "    r = adapter.send(request, **kwargs)\n",
      "  File \"c:\\Users\\EfiaA\\Anaconda3\\lib\\site-packages\\requests\\adapters.py\", line 516, in send\n",
      "    raise ConnectionError(e, request=request)\n",
      "requests.exceptions.ConnectionError: HTTPSConnectionPool(host='raw.githubusercontent.com', port=443): Max retries exceeded with url: /explosion/spacy-models/master/shortcuts-v2.json (Caused by NewConnectionError('<urllib3.connection.HTTPSConnection object at 0x000001DCE2C610D0>: Failed to establish a new connection: [Errno 11001] getaddrinfo failed'))\n",
      "[nltk_data] Error loading stopwords: <urlopen error [Errno 11001]\n",
      "[nltk_data]     getaddrinfo failed>\n"
     ]
    },
    {
     "data": {
      "text/plain": [
       "False"
      ]
     },
     "execution_count": 44,
     "metadata": {},
     "output_type": "execute_result"
    },
    {
     "name": "stdout",
     "output_type": "stream",
     "text": [
      "178\n"
     ]
    }
   ],
   "source": [
    "# import \n",
    "# importing tool functions\n",
    "import numpy as np\n",
    "import matplotlib.pyplot as plt\n",
    "from tools import utils, ml_tools\n",
    "import pandas as pd\n",
    "import numpy as np\n",
    "from sklearn.preprocessing import LabelBinarizer\n",
    "!python -m spacy download en_core_web_sm\n",
    "import spacy\n",
    "\n",
    "import gensim\n",
    "from gensim.utils import simple_preprocess\n",
    "import nltk\n",
    "nltk.download('stopwords')\n",
    "from nltk.corpus import stopwords\n",
    "import gensim.corpora as corpora\n",
    "\n",
    "\n",
    "\n",
    "# remove stopwords\n",
    "stop_words = stopwords.words('english')\n",
    "stop_words.extend(['from', 'subject', 're', 'edu', 'use'])\n",
    "def sent_to_words(sentences):\n",
    "    for sentence in sentences:\n",
    "        # deacc=True removes punctuations\n",
    "        yield(gensim.utils.simple_preprocess(str(sentence), deacc=True))\n",
    "\n",
    "\n",
    "def remove_stopwords(texts):\n",
    "    return [[word for word in simple_preprocess(str(doc)) \n",
    "             if word not in stop_words] for doc in texts]\n",
    "\n",
    "data = df['Content'].tolist()\n",
    "data_words_send = list(sent_to_words(data))\n",
    "\n",
    "\n",
    "# remove stop words\n",
    "data_words_nostopwords = remove_stopwords(data_words_send)\n",
    "# print(data_words_nostopwords[:1][0][:30])\n",
    "\n",
    "# functions\n",
    "def make_bigrams(texts):\n",
    "    return [bigram_mod[doc] for doc in texts]\n",
    "\n",
    "def make_trigrams(texts):\n",
    "    return [trigram_mod[bigram_mod[doc]] for doc in texts]\n",
    "\n",
    "def lemmatization(texts, allowed_postags=['NOUN', 'ADJ', 'VERB', 'ADV']):\n",
    "    \"\"\"https://spacy.io/api/annotation\"\"\"\n",
    "    texts_out = []\n",
    "    for sent in texts:\n",
    "        doc = nlp(\" \".join(sent)) \n",
    "        texts_out.append([token.lemma_ for token in doc if token.pos_ in allowed_postags])\n",
    "    return texts_out\n",
    "\n",
    "# Build the bigram and trigram models\n",
    "bigram = gensim.models.Phrases(data_words_nostopwords, min_count=5, threshold=100) # higher threshold fewer phrases.\n",
    "trigram = gensim.models.Phrases(bigram[data_words_nostopwords], threshold=100)  \n",
    "\n",
    "# Faster way to get a sentence clubbed as a trigram/bigram\n",
    "bigram_mod = gensim.models.phrases.Phraser(bigram)\n",
    "trigram_mod = gensim.models.phrases.Phraser(trigram)\n",
    "\n",
    "# Form Bigrams\n",
    "data_words_bigrams = make_bigrams(data_words_nostopwords)\n",
    "\n",
    "# Initialize spacy 'en' model, keeping only tagger component (for efficiency)\n",
    "nlp = spacy.load(\"en_core_web_sm\", disable=['parser', 'ner'])\n",
    "\n",
    "# Do lemmatization keeping only noun, adj, vb, adv\n",
    "data_lemmatized = lemmatization(data_words_bigrams, allowed_postags=['NOUN', 'ADJ', 'VERB', 'ADV'])\n",
    "\n",
    "#print(data_lemmatized[:1][0][:30])\n",
    "\n",
    "#create \n",
    "\n",
    "id2word = corpora.Dictionary(data_lemmatized)\n",
    "\n",
    "#create corpus\n",
    "texts = data_lemmatized\n",
    "\n",
    "#Term Document Frequency\n",
    "corpus = [id2word.doc2bow(text) for text in texts]\n",
    "\n",
    "#View \n",
    "print(len(corpus))"
   ]
  },
  {
   "cell_type": "markdown",
   "metadata": {},
   "source": [
    "## III. Running LDA using Bag of Words"
   ]
  },
  {
   "cell_type": "markdown",
   "metadata": {},
   "source": [
    "### A. Explanation of LDA\n",
    "\n",
    "Now, the good part, the topic modeling. To do the modeling, we are using a technique known as Latent Dirichlet Allocation, or LDA. LDA assumes the following generative process for documents: for each document, pick a particular topic according to a certain distribution. Within each topic, pick words based on a particular distribution. The algorithm tries to determine (estimate, fit) these distributions through a stochastic sampling process, based on the co-occurrence of words in the document. It ends up with two things that it estimates: a distribution of topics within each document, and a distribution of words within each topic. In practice, these end up being matrices: one is a document-topic matrix, which has rows corresponding to documents and columns corresponding to the amount of each topic the model predicts is present in each document (dimensions Num_docs x Num_topics). The other is a topic-term matrix, where each row is a topic and each column is a single word from the corpus (dimensions Num_topics x Num_words). Thus, this technique can also be thought of as a kind of probabilistic matrix factorization (see [Hoffman](https://www.researchgate.net/publication/221618332_Online_Learning_for_Latent_Dirichlet_Allocation) for more on this).\n",
    "\n",
    "The particular distributions depend on parameters that are fed to the model: $\\alpha$ tells the model whether is should expect a small number of topics per document (small $\\alpha$), vs a larger number in a more even mixture (large $\\alpha$). Similarly, $\\beta$ is a parameter that controls whether topics have a few central words, or a larger number of more evenly distributed words. Both are based on the [Dirichlet distribution](https://towardsdatascience.com/dirichlet-distribution-a82ab942a879), which essentially is a function that allows you to specify a distribution across a probability simplex (a kind of generalized shape with several “corners”) where the parameter you feed it specifies how likely points are to fall into a specific corner vs. be distributed evenly across the shape. Note, however, that in both of these matrices, each row is a probability distribution across different discrete outcomes (choice of topics or choice of words) and so each row will add up to 1. And, their values will vary considerably. For example, in the topic-word matrix if you had a corpus of 4000 words and every word was equally likely to be chosen for a particular topic, the values in the that row of the (topics x words) matrix would all be 1/4000 = .00025 = 2.5e-4. However, in practice, for particular topics a large number of words will be rated very low, on the order of 1e-6 or 1e-7, while certain other words will be rated highly, on the order of 1e-2 or even higher. It is therefore common when presenting topics to pick the 5-10 most likely words for a particular topic\n",
    "\n",
    "### B. Training our LDA model\n",
    "\n",
    "We call the LdaModel function (which does the actual LDA modeling). We pass the following arguments:  \n",
    "* bow_corpus - our data corpus, in a \"bag of words\" format  \n",
    "* num_topics - the number of topics we intend the algorithm to identify. We set this to 10.  \n",
    "* id2word - the dictionary that maps words to IDs  \n",
    "* passes - the number of passes the algorithm should take through the data while training\n",
    "* iterations - the number of iterations the algorithm will use to try to make the results converge\n",
    "\n",
    "In addition, we pass three other arguments that are particular to the specific model that we are trying to replicate:\n",
    "* random_state - a random seed value that determines the initialization of the model, which will affect the specific topics it eventually settles on\n",
    "* alpha - a parameter that determines how mixed the topics are in each document. Gensim has a built-in fuction that can learn alpha values from the corpus as it runs the model, and we'll use this function here.\n",
    "\n",
    "The output here is a set of topics, each of which contains a set of words with their corresponding weights."
   ]
  },
  {
   "cell_type": "code",
   "execution_count": null,
   "metadata": {},
   "outputs": [],
   "source": [
    "#Load the \"best\" model to skip the following cell\n",
    "#lda_model = pd.read_pickle(path_pkl+'SciEd_NoRefs_RepLDAModel.pkl')"
   ]
  },
  {
   "cell_type": "code",
   "execution_count": 45,
   "metadata": {},
   "outputs": [],
   "source": [
    "num_topics = 3\n",
    "#alphatot = 12.5\n",
    "lda_model = gensim.models.LdaModel(corpus=corpus, \n",
    "                                   id2word=id2word, \n",
    "                                   num_topics=num_topics,\n",
    "                                   alpha='auto',\n",
    "                                   random_state=29, #29 current best, as of 5/6/2020\n",
    "                                   iterations=15, passes=50)\n",
    "\n"
   ]
  },
  {
   "cell_type": "code",
   "execution_count": 46,
   "metadata": {},
   "outputs": [
    {
     "data": {
      "text/plain": [
       "[(0,\n",
       "  '0.024*\"value\" + 0.024*\"line\" + 0.020*\"wavelength\" + 0.020*\"constant\" + 0.020*\"error\" + 0.017*\"light\" + 0.015*\"grate\" + 0.013*\"energy\" + 0.012*\"order\" + 0.011*\"calculate\"'),\n",
       " (1,\n",
       "  '0.020*\"wavelength\" + 0.017*\"datum\" + 0.011*\"source\" + 0.011*\"stage\" + 0.010*\"position\" + 0.008*\"point\" + 0.008*\"range\" + 0.008*\"value\" + 0.007*\"move\" + 0.007*\"set\"'),\n",
       " (2,\n",
       "  '0.030*\"light\" + 0.029*\"source\" + 0.025*\"wavelength\" + 0.018*\"lead\" + 0.014*\"point\" + 0.012*\"white\" + 0.010*\"tungsten\" + 0.010*\"find\" + 0.010*\"spectral\" + 0.010*\"fringe\"')]"
      ]
     },
     "execution_count": 46,
     "metadata": {},
     "output_type": "execute_result"
    }
   ],
   "source": [
    "lda_model.show_topics(num_words=10, num_topics = num_topics)"
   ]
  },
  {
   "cell_type": "markdown",
   "metadata": {},
   "source": [
    "Save LDAmodel"
   ]
  },
  {
   "cell_type": "code",
   "execution_count": 47,
   "metadata": {},
   "outputs": [],
   "source": [
    "with open(dir_name_e+'SciEd_NoRefs_RepLDAModel.pkl', 'wb') as output: pickle.dump(lda_model, output)"
   ]
  },
  {
   "cell_type": "markdown",
   "metadata": {},
   "source": [
    "As one can see, the output of the LDA model is a set of \"topics\" (we specified the exact number with the num_topics parameter) each of which is composed of words with specific weights. For the purposes of illustration, we have sorted these topics by their most weighted words: For example, Topic 0 includes the words \"tutorial, ta, lecture, section, force, and semester\" (more words are visible if we increase the num_words parameter in the show_topics method). It's helpful here to remember that from a statistical perspective, each of these topics is essentially a distribution over all of the words in the data corpus, which tells us how likely one would be to draw a particular word, given a particular topic, in the generative process for documents that LDA assumes (described above).\n",
    "\n",
    "One can get the entire distribution using the \"get_topics()\" method. For example, here is the vector for topic 8, along with the lowest and highest values."
   ]
  },
  {
   "cell_type": "code",
   "execution_count": 48,
   "metadata": {},
   "outputs": [
    {
     "name": "stdout",
     "output_type": "stream",
     "text": [
      "Distribution vector for topic 3:  [2.4888871e-04 1.2018589e-03 5.8074447e-04 ... 4.9602431e-06 4.9607006e-06\n",
      " 4.9607006e-06] \n",
      "\n",
      "Maximum value: 0.02999766170978546 corresponding to the word: light\n",
      "Minimum value: 4.954827090841718e-06 corresponding to the word: hyperphysic\n"
     ]
    }
   ],
   "source": [
    "print(\"Distribution vector for topic 3: \", lda_model.get_topics()[2], \"\\n\")\n",
    "\n",
    "print(\"Maximum value: {} corresponding to the word: {}\".format(np.amax(lda_model.get_topics()[2]), id2word[np.argmax(lda_model.get_topics()[2])]))\n",
    "print(\"Minimum value: {} corresponding to the word: {}\".format(np.amin(lda_model.get_topics()[2]), id2word[np.argmin(lda_model.get_topics()[2])]))"
   ]
  },
  {
   "cell_type": "markdown",
   "metadata": {},
   "source": [
    "The maximum value was around 0.015, which corresponds to the word \"social\". The lowest value is 7.96e-8, corresponding to the word \"ab\". Thus, in the \"draw a topic/draw a word\" process described above, one would be 1,880,000 times more likely to draw the word social than to draw the word ab.\n",
    "\n",
    "One can also start to associate specific themes with each set of topics. For example, Topic 0 focuses on gender and the STEM pipeline; Topic 1 focuses on textbooks; Topic 2 focuses on observation and experiments; and Topic 3 focuses on discourse analysis and identity."
   ]
  },
  {
   "cell_type": "markdown",
   "metadata": {},
   "source": [
    "### C. Evaluating models with perplexity and coherence scores\n",
    "We can evaluate the \"goodness\" of our topic models using two measures, perplexity and coherence score. Perplexity is essentially a statistical measure of the log probability of unseen test documents fitting into the model (based on the geometric mean of the per-word likelihood). It’s useful for selecting a model but not so useful for topic evaluation since it has been shown to be uncorrelated with human interpretability (Newman et al., 2010). For this reason, coherence is more often used. Coherence measures the degree of semantic similarity between high scoring words in the topic—in other words, are these words roughly being used the same, based on the other words they appear with? These measurements help distinguish between topics that are semantically interpretable (\"hang together\") and topics that are artifacts of the statistical process LDA uses (Röder, Both, and Hinneburg, 2015).\n",
    "\n",
    "For the purposes of illustration, we compute both the perplexity and the coherence on the topics we've found. Perplexity is a score in the range from -14 to 14, with lower perplexity being better. Coherence ranges from 0-1, with higher scores being better. We have typically found coherence scores between 0.4-0.53, which stackexchange informs us is okay but not great. We suspect this is because our data is relatively homogeneous—that is, all documents are on variations of topics related to science education, so it's hard to get extremely distinct topics. If, instead, we were analyzing a mixture of documents about 3 distinct subjects (say, sports, religion, and technology companies) we might expect more distinct topics with less overlap and a higher overall coherence."
   ]
  },
  {
   "cell_type": "code",
   "execution_count": 51,
   "metadata": {},
   "outputs": [
    {
     "name": "stdout",
     "output_type": "stream",
     "text": [
      "\n",
      "Perplexity:  -6.337066529802183\n"
     ]
    },
    {
     "name": "stderr",
     "output_type": "stream",
     "text": [
      "c:\\Users\\EfiaA\\Anaconda3\\lib\\site-packages\\gensim\\topic_coherence\\direct_confirmation_measure.py:204: RuntimeWarning: divide by zero encountered in double_scalars\n",
      "  m_lr_i = np.log(numerator / denominator)\n",
      "c:\\Users\\EfiaA\\Anaconda3\\lib\\site-packages\\gensim\\topic_coherence\\indirect_confirmation_measure.py:323: RuntimeWarning: invalid value encountered in double_scalars\n",
      "  return cv1.T.dot(cv2)[0, 0] / (_magnitude(cv1) * _magnitude(cv2))\n"
     ]
    },
    {
     "name": "stdout",
     "output_type": "stream",
     "text": [
      "\n",
      "Complexity:  nan\n"
     ]
    }
   ],
   "source": [
    "from gensim.models import CoherenceModel\n",
    "coherence_model_lda = CoherenceModel(model=lda_model, texts= data_words_send, dictionary=id2word, coherence='c_v')\n",
    "#Compute Perplexity\n",
    "print('\\nPerplexity: ', lda_model.log_perplexity(corpus))  # a measure of how good the model is. lower the better\n",
    "print('\\nComplexity: ', coherence_model_lda.get_coherence())"
   ]
  },
  {
   "cell_type": "markdown",
   "metadata": {},
   "source": [
    "Of these two measures, both we and the literature (e.g., Röder, Both, and Hinneburg, 2015) have found coherence to be more useful for predicting interpretable topics so we have used it in making decisions about our model. As one can see, this particular model is on the high end of our observed coherence score range (0.522). "
   ]
  },
  {
   "cell_type": "markdown",
   "metadata": {},
   "source": [
    "## IV. Results of the model: Visualization, representative papers, and prevalence of topics over time"
   ]
  },
  {
   "cell_type": "markdown",
   "metadata": {},
   "source": [
    "### A. Visualizing the model\n",
    "\n",
    "With this model trained, we can use it to explore a variety of different aspects of the resulting topics and their relation to the literature. First, we can use the pyLDAvis package to visualize the topics and see how distinct they are from one another in a 2D space created by principle component analysis on the word space. By mousing over the resulting visual, you can see the different topics, their prevalence (indicated by the size of the circles), the most salient terms in each, and their rough inter-topic \"distance.\""
   ]
  },
  {
   "cell_type": "code",
   "execution_count": 52,
   "metadata": {
    "scrolled": false
   },
   "outputs": [
    {
     "data": {
      "text/html": [
       "\n",
       "<link rel=\"stylesheet\" type=\"text/css\" href=\"https://cdn.rawgit.com/bmabey/pyLDAvis/files/ldavis.v1.0.0.css\">\n",
       "\n",
       "\n",
       "<div id=\"ldavis_el12043221373282232808590850802\"></div>\n",
       "<script type=\"text/javascript\">\n",
       "\n",
       "var ldavis_el12043221373282232808590850802_data = {\"mdsDat\": {\"x\": [-0.13038772203539808, 0.028287950037253415, 0.10209977199814461], \"y\": [0.02887841573498018, -0.09095928440083327, 0.06208086866585308], \"topics\": [1, 2, 3], \"cluster\": [1, 1, 1], \"Freq\": [49.080466056470215, 46.55250167290178, 4.367032270628005]}, \"tinfo\": {\"Term\": [\"source\", \"wavelength\", \"datum\", \"grate\", \"value\", \"point\", \"line\", \"lead\", \"constant\", \"error\", \"position\", \"range\", \"stage\", \"filter\", \"null\", \"white\", \"move\", \"diffraction\", \"set\", \"peak\", \"mirror\", \"green\", \"tungsten\", \"spectrum\", \"laser\", \"intensity\", \"energy\", \"slit\", \"fig\", \"path\", \"grate\", \"diffraction\", \"slit\", \"hydrogen\", \"telescope\", \"balmer_serie\", \"collimator\", \"atom\", \"rydberg\", \"diffract\", \"sodium\", \"transition\", \"purple\", \"gradient\", \"camera\", \"arcminute\", \"sin\", \"orbit\", \"rotate\", \"crosshair\", \"eyepiece\", \"parallax\", \"balmer\", \"sin\\u03b8\", \"quantum\", \"angular_displacement\", \"holder\", \"humidity\", \"orbital\", \"mass\", \"level\", \"constant\", \"bar\", \"focus\", \"angle\", \"line\", \"energy\", \"spectromet\", \"read\", \"final\", \"error\", \"value\", \"order\", \"accept\", \"uncertainty\", \"red\", \"calculate\", \"colour\", \"measurement\", \"spectrometer\", \"emission\", \"measure\", \"experiment\", \"equation\", \"wavelength\", \"light\", \"maximum\", \"would\", \"could\", \"take\", \"result\", \"give\", \"spectral\", \"find\", \"white\", \"splitter\", \"profile\", \"broad\", \"haidinger\", \"tungsten\", \"fourier\", \"yellow\", \"domain\", \"movable\", \"oscillation\", \"scan\", \"fouri\", \"coherence\", \"fizeau\", \"pattem\", \"beat\", \"sensitivity\", \"interferometer\", \"coat\", \"blackbody\", \"phosphor\", \"photodetector\", \"interferometry\", \"moveable\", \"gaussian\", \"bandwidth\", \"detector\", \"simulation\", \"spike\", \"lead\", \"null\", \"interferogram\", \"filter\", \"peak\", \"distribution\", \"fourier_transform\", \"curve\", \"recombine\", \"shape\", \"source\", \"mirror\", \"frequency\", \"interference\", \"signal\", \"noise\", \"amplitude\", \"green\", \"point\", \"width\", \"wave\", \"fringe\", \"temperature\", \"beam\", \"light\", \"laser\", \"distance\", \"range\", \"wavelength\", \"figure\", \"spectrum\", \"find\", \"show\", \"spectral\", \"blue\", \"move\", \"path\", \"see\", \"different\", \"take\", \"experiment\", \"operational\", \"automate\", \"pimag\", \"unfitted\", \"finetune\", \"coefficient\", \"newly\", \"dichroic\", \"absorptive\", \"carrier\", \"regularly\", \"nanometre\", \"cluster\", \"systematical\", \"physically\", \"radiative\", \"instability\", \"proportion\", \"action\", \"resolvable\", \"itte\", \"flux\", \"price\", \"alleviate\", \"reclaim\", \"damp\", \"fork\", \"neon\", \"unsupported\", \"spur\", \"necessarily\", \"correction\", \"millimetre\", \"artificial\", \"binary\", \"run\", \"modulation\", \"facilitate\", \"map\", \"alternative\", \"irregularity\", \"appearance\", \"correct\", \"stage\", \"card\", \"datum\", \"transmission\", \"thorlab\", \"parameter\", \"unknown\", \"utilise\", \"alignment\", \"present\", \"quality\", \"position\", \"directly\", \"laser\", \"spread\", \"beamsplitter\", \"wavelength\", \"range\", \"set\", \"move\", \"collect\", \"source\", \"point\", \"intensity\", \"green\", \"method\", \"produce\", \"spectrum\", \"fig\", \"value\", \"error\", \"path\", \"determine\", \"give\", \"mirror\", \"take\", \"light\", \"experiment\", \"filter\", \"emission\", \"due\"], \"Freq\": [2242.0, 3241.0, 702.0, 1069.0, 2094.0, 1198.0, 1850.0, 1240.0, 1492.0, 1662.0, 631.0, 650.0, 293.0, 620.0, 636.0, 765.0, 558.0, 708.0, 519.0, 623.0, 572.0, 513.0, 666.0, 831.0, 243.0, 475.0, 1021.0, 521.0, 604.0, 494.0, 1069.2212138045363, 708.3056507377574, 521.0205985203767, 438.6836424043187, 425.9352340707186, 253.3339282503787, 239.5383166672179, 217.96330410351223, 137.61364471460806, 145.36584476461985, 140.4193962671266, 395.96202378881287, 90.53462433949237, 240.31878791773042, 84.65367728634499, 83.67417503544355, 159.6169334863605, 76.733849465925, 180.77428960651503, 56.215902525096034, 54.253717794738314, 49.351454521379026, 48.35738674225648, 40.52515569094258, 39.536092394398665, 32.68048265710713, 44.151968146002666, 28.754042586634792, 27.776887841190298, 30.60732586696587, 591.5935919563807, 1413.2974137374622, 52.52976109430726, 239.74222591832225, 693.668292514464, 1689.2308197777395, 932.2238411903184, 168.49728805823815, 280.6463988866739, 221.62472852107703, 1378.0214227680792, 1705.0312050931211, 858.6301111226899, 222.54553702756164, 578.7553391121095, 366.59834238260214, 776.4700750709737, 354.1975195924613, 444.7594833103368, 308.3483151810812, 376.017519698771, 624.422541608653, 692.6736831599281, 420.47009477512506, 1433.6622129241966, 1216.1680027125133, 358.6236159176541, 494.75648758038926, 495.1856759154479, 524.6183532149151, 479.8206032164904, 451.224313810961, 496.18722395046706, 386.3484982671821, 763.3022721063423, 151.75003602327084, 71.31735664094607, 92.69499575177511, 125.76875145948524, 660.6120996057024, 63.369309663660374, 262.9659802612918, 48.62632856123223, 41.69372799661955, 37.75271525475462, 56.937258155139666, 30.853011500213416, 31.80103248737157, 28.911224903826472, 29.847421578212828, 56.69273067181177, 110.26526408400228, 154.1940285858197, 26.883136080137255, 53.621105209485364, 22.9806474629636, 61.100837562948705, 22.95380474737842, 22.955762913824707, 403.5698702385401, 20.03007492340388, 403.3107897548777, 61.74838814391659, 31.418197429208384, 1190.2932961507743, 613.2042333567143, 294.9817776469122, 594.7372483844478, 596.8651380384565, 202.36676160079722, 248.6441285371746, 119.6759802891775, 77.22942033257763, 121.17125472641523, 1930.2605274277264, 514.9440435948479, 361.61703086016826, 597.486745810707, 116.34145070456574, 88.40824110865059, 96.51090985222939, 437.6476825505404, 930.6717251383342, 573.183111659689, 350.31732130743114, 632.4947142205218, 288.720835897898, 628.7420176119665, 1990.4391303906543, 209.6078062099204, 310.0468829231462, 466.16578526340356, 1684.818707824035, 525.2877353485393, 554.4918065548776, 644.6303097988426, 544.7992611473642, 634.2065301961766, 492.4787221994624, 378.8916894419698, 339.18158791769895, 389.93098989317957, 373.64605892648535, 392.6346963502334, 388.8169592624761, 9.122965277635755, 6.286900881315722, 4.0314028786254035, 4.0314017916836375, 4.025435930646804, 4.650048103125408, 3.2657161720903796, 3.2475823603028457, 3.240913972571586, 3.2268398882781444, 3.2138237606364433, 2.5159274381312837, 2.506558543583673, 6.253327424063373, 2.4960633962100562, 2.495093119527399, 3.0977115688522656, 3.051903857401523, 2.9949921300315303, 2.3934428690899807, 1.7629092190299667, 1.7629072263033967, 1.762906682832514, 1.7612251839213062, 1.7579768584551496, 1.7579620035843546, 1.7579542138350355, 1.7579524022654263, 1.757925228721289, 1.7579239606225627, 4.605179871673967, 18.601321382682052, 7.7030686120340075, 3.392721694248263, 2.850098444925113, 41.471352929567196, 5.392107594190129, 2.8306662811987056, 4.375200747479186, 4.80538512471462, 5.6086825525329305, 5.469735163511569, 28.38821170488445, 66.84059982262535, 15.838264690866218, 106.91066452961593, 12.26463929313489, 7.485965037679257, 12.924360771580474, 5.8607881879338, 8.263834912149697, 29.96063963306477, 31.411886597694522, 11.47614709910427, 60.39632788936327, 17.635306961000797, 32.886141945616096, 22.857831712509327, 19.426953652211502, 123.15399183731974, 51.24962887596419, 44.682320931871786, 44.89388037859471, 14.873344457228885, 68.72655103066535, 51.787494037708925, 32.42116854792058, 31.398875180133803, 24.103149588761376, 30.728113271862252, 35.82780345908099, 31.149107556470497, 47.390431992814435, 42.60741866583098, 28.304589651726353, 27.21975510400917, 30.80083402374036, 27.064997784694885, 28.693013364017872, 34.61566339327865, 27.56404318359919, 25.44273575045054, 24.914024087626892, 25.294143564830094], \"Total\": [2242.0, 3241.0, 702.0, 1069.0, 2094.0, 1198.0, 1850.0, 1240.0, 1492.0, 1662.0, 631.0, 650.0, 293.0, 620.0, 636.0, 765.0, 558.0, 708.0, 519.0, 623.0, 572.0, 513.0, 666.0, 831.0, 243.0, 475.0, 1021.0, 521.0, 604.0, 494.0, 1069.8460472587342, 708.9457624352522, 521.6376486438788, 439.26808901941354, 426.5191575153453, 253.91742852514975, 240.17895893558494, 218.60822696516382, 138.1959819088048, 146.03718020233978, 141.1243819164918, 398.07209224959615, 91.12132229602403, 241.88069655672933, 85.23798780297571, 84.25757756458965, 160.74614013495906, 77.38757534354073, 182.32293432131056, 56.79844582292695, 54.836860802273584, 49.93367104576719, 48.95101246371202, 41.10740167326591, 40.125426272485925, 33.26202464045339, 44.96719760121024, 29.33840231126387, 28.3585554238471, 31.29399799199857, 614.8310383897542, 1492.3243742825325, 53.72500699095566, 249.98543789452756, 745.493175287435, 1850.8535333129394, 1021.559480490857, 176.4744473858428, 305.69552041791934, 240.83448903833485, 1662.7484520663302, 2094.380963284046, 1014.7694442677823, 243.18202060558832, 690.7761285304074, 420.90870374301585, 1004.2801565567767, 421.95769529857847, 559.8905565719549, 365.75177938175744, 489.3172447384794, 955.9531498876103, 1109.0546856060032, 572.7730769957227, 3241.6349125855513, 3241.2227964964463, 470.3647179211617, 821.246793643158, 838.5015349977698, 945.9460629291664, 862.9243999151433, 776.0809097278433, 1131.1570391647695, 1041.1428323987143, 765.7552516282717, 152.68193289300513, 71.90926573563928, 93.55241085532593, 126.95920262545681, 666.8899168184507, 64.00519141088073, 265.68312253473596, 49.22282735725603, 42.3167386029922, 38.36774374340186, 57.9700276918506, 31.464700995408702, 32.44197779430488, 29.49951656138475, 30.47385188903482, 57.90999393458225, 112.76464224992642, 157.78878138653263, 27.522602631514044, 54.924723740538106, 23.578703620882173, 62.719469445311894, 23.57218013633011, 23.578251989321497, 414.8469059552522, 20.62168172179726, 415.5476008368768, 63.626572119225145, 32.4268566283079, 1240.477586551375, 636.922541167576, 304.81961037184817, 620.5156019878847, 623.9711500108026, 209.86245612151663, 258.46788747913155, 123.85881723530856, 80.09559737168475, 127.25778083274385, 2242.2135318342366, 572.4999936845767, 401.855292429539, 687.1552281586801, 123.24697765037834, 92.53369697681943, 101.98436105195033, 513.893749899538, 1198.1063070367213, 728.1575984136106, 422.73550613007393, 815.3841464841205, 342.14073497969486, 839.9999069540102, 3241.2227964964463, 243.44674244187075, 388.11355810799273, 650.3616234942265, 3241.6349125855513, 765.2584385429282, 831.9673995639764, 1041.1428323987143, 901.5829790382784, 1131.1570391647695, 782.2339559258713, 558.587126957518, 494.6391343681369, 768.7754671896773, 682.6076379488525, 945.9460629291664, 1109.0546856060032, 10.022969809005748, 6.957823101820337, 4.6877384818328975, 4.68773889446813, 4.688485186781106, 5.469942459560201, 3.932614007235145, 3.936557269215461, 3.9385609737383342, 3.939303193505336, 3.9424473013157284, 3.17576556640789, 3.1772252185401912, 7.933739562752944, 3.1787026930997735, 3.1785876151317938, 3.9793564534330206, 3.982148624384733, 4.007457137675032, 3.2037743693028524, 2.419223152573208, 2.4192234258889247, 2.419223678688208, 2.4194047540600625, 2.4198049353909, 2.419809179248825, 2.419811460074691, 2.4198122263963304, 2.4198201027926, 2.4198204745966523, 6.46389496320835, 27.82702868980086, 11.446425893787243, 4.861113642644275, 4.047755286180668, 74.09075694250615, 8.210181953150272, 4.055191140779847, 6.546385961815329, 7.386035867471195, 9.130565978611807, 9.148675406113716, 85.82842330793486, 293.2736401436176, 42.437733554089945, 702.63134060861, 30.739599901280556, 15.463506584529648, 36.44872106854257, 10.99904907985399, 19.112999670166637, 157.32618689842707, 181.4564384216813, 33.940198848197255, 631.7543068217269, 77.27690834353425, 243.44674244187075, 127.97490201832461, 97.63746707465819, 3241.6349125855513, 650.3616234942265, 519.2621288411799, 558.587126957518, 69.22724869828208, 2242.2135318342366, 1198.1063070367213, 475.66152761891476, 513.893749899538, 276.8840465084647, 519.1146310176524, 831.9673995639764, 604.6587435279371, 2094.380963284046, 1662.7484520663302, 494.6391343681369, 473.1821721661093, 776.0809097278433, 572.4999936845767, 945.9460629291664, 3241.2227964964463, 1109.0546856060032, 620.5156019878847, 489.3172447384794, 668.1242829278149], \"Category\": [\"Default\", \"Default\", \"Default\", \"Default\", \"Default\", \"Default\", \"Default\", \"Default\", \"Default\", \"Default\", \"Default\", \"Default\", \"Default\", \"Default\", \"Default\", \"Default\", \"Default\", \"Default\", \"Default\", \"Default\", \"Default\", \"Default\", \"Default\", \"Default\", \"Default\", \"Default\", \"Default\", \"Default\", \"Default\", \"Default\", \"Topic1\", \"Topic1\", \"Topic1\", \"Topic1\", \"Topic1\", \"Topic1\", \"Topic1\", \"Topic1\", \"Topic1\", \"Topic1\", \"Topic1\", \"Topic1\", \"Topic1\", \"Topic1\", \"Topic1\", \"Topic1\", \"Topic1\", \"Topic1\", \"Topic1\", \"Topic1\", \"Topic1\", \"Topic1\", \"Topic1\", \"Topic1\", \"Topic1\", \"Topic1\", \"Topic1\", \"Topic1\", \"Topic1\", \"Topic1\", \"Topic1\", \"Topic1\", \"Topic1\", \"Topic1\", \"Topic1\", \"Topic1\", \"Topic1\", \"Topic1\", \"Topic1\", \"Topic1\", \"Topic1\", \"Topic1\", \"Topic1\", \"Topic1\", \"Topic1\", \"Topic1\", \"Topic1\", \"Topic1\", \"Topic1\", \"Topic1\", \"Topic1\", \"Topic1\", \"Topic1\", \"Topic1\", \"Topic1\", \"Topic1\", \"Topic1\", \"Topic1\", \"Topic1\", \"Topic1\", \"Topic1\", \"Topic1\", \"Topic1\", \"Topic1\", \"Topic2\", \"Topic2\", \"Topic2\", \"Topic2\", \"Topic2\", \"Topic2\", \"Topic2\", \"Topic2\", \"Topic2\", \"Topic2\", \"Topic2\", \"Topic2\", \"Topic2\", \"Topic2\", \"Topic2\", \"Topic2\", \"Topic2\", \"Topic2\", \"Topic2\", \"Topic2\", \"Topic2\", \"Topic2\", \"Topic2\", \"Topic2\", \"Topic2\", \"Topic2\", \"Topic2\", \"Topic2\", \"Topic2\", \"Topic2\", \"Topic2\", \"Topic2\", \"Topic2\", \"Topic2\", \"Topic2\", \"Topic2\", \"Topic2\", \"Topic2\", \"Topic2\", \"Topic2\", \"Topic2\", \"Topic2\", \"Topic2\", \"Topic2\", \"Topic2\", \"Topic2\", \"Topic2\", \"Topic2\", \"Topic2\", \"Topic2\", \"Topic2\", \"Topic2\", \"Topic2\", \"Topic2\", \"Topic2\", \"Topic2\", \"Topic2\", \"Topic2\", \"Topic2\", \"Topic2\", \"Topic2\", \"Topic2\", \"Topic2\", \"Topic2\", \"Topic2\", \"Topic2\", \"Topic2\", \"Topic2\", \"Topic2\", \"Topic2\", \"Topic2\", \"Topic3\", \"Topic3\", \"Topic3\", \"Topic3\", \"Topic3\", \"Topic3\", \"Topic3\", \"Topic3\", \"Topic3\", \"Topic3\", \"Topic3\", \"Topic3\", \"Topic3\", \"Topic3\", \"Topic3\", \"Topic3\", \"Topic3\", \"Topic3\", \"Topic3\", \"Topic3\", \"Topic3\", \"Topic3\", \"Topic3\", \"Topic3\", \"Topic3\", \"Topic3\", \"Topic3\", \"Topic3\", \"Topic3\", \"Topic3\", \"Topic3\", \"Topic3\", \"Topic3\", \"Topic3\", \"Topic3\", \"Topic3\", \"Topic3\", \"Topic3\", \"Topic3\", \"Topic3\", \"Topic3\", \"Topic3\", \"Topic3\", \"Topic3\", \"Topic3\", \"Topic3\", \"Topic3\", \"Topic3\", \"Topic3\", \"Topic3\", \"Topic3\", \"Topic3\", \"Topic3\", \"Topic3\", \"Topic3\", \"Topic3\", \"Topic3\", \"Topic3\", \"Topic3\", \"Topic3\", \"Topic3\", \"Topic3\", \"Topic3\", \"Topic3\", \"Topic3\", \"Topic3\", \"Topic3\", \"Topic3\", \"Topic3\", \"Topic3\", \"Topic3\", \"Topic3\", \"Topic3\", \"Topic3\", \"Topic3\", \"Topic3\", \"Topic3\", \"Topic3\", \"Topic3\", \"Topic3\", \"Topic3\", \"Topic3\", \"Topic3\", \"Topic3\"], \"logprob\": [30.0, 29.0, 28.0, 27.0, 26.0, 25.0, 24.0, 23.0, 22.0, 21.0, 20.0, 19.0, 18.0, 17.0, 16.0, 15.0, 14.0, 13.0, 12.0, 11.0, 10.0, 9.0, 8.0, 7.0, 6.0, 5.0, 4.0, 3.0, 2.0, 1.0, -4.1809000968933105, -4.592800140380859, -4.899799823760986, -5.071800231933594, -5.10129976272583, -5.6209001541137695, -5.6768999099731445, -5.771299839019775, -6.231200218200684, -6.176400184631348, -6.210999965667725, -5.174300193786621, -6.649899959564209, -5.673699855804443, -6.717100143432617, -6.728700160980225, -6.082799911499023, -6.815299987792969, -5.958399772644043, -7.126399993896484, -7.1620001792907715, -7.256700038909912, -7.2769999504089355, -7.453700065612793, -7.478400230407715, -7.668799877166748, -7.368000030517578, -7.796800136566162, -7.831399917602539, -7.734399795532227, -4.772799968719482, -3.901900053024292, -7.194200038909912, -5.67609977722168, -4.61359977722168, -3.723599910736084, -4.3180999755859375, -6.02869987487793, -5.518499851226807, -5.7546000480651855, -3.9272000789642334, -3.7142999172210693, -4.400300025939941, -5.750500202178955, -4.7947001457214355, -5.251399993896484, -4.500899791717529, -5.285799980163574, -5.05810022354126, -5.4243998527526855, -5.22599983215332, -4.718800067901611, -4.615099906921387, -5.114299774169922, -3.8875999450683594, -4.052199840545654, -5.273399829864502, -4.951600074768066, -4.950699806213379, -4.89300012588501, -4.9822001457214355, -5.043700218200684, -4.948699951171875, -5.19890022277832, -4.465099811553955, -6.08050012588501, -6.835599899291992, -6.573400020599365, -6.2683000564575195, -4.609600067138672, -6.953800201416016, -5.530700206756592, -7.218599796295166, -7.372399806976318, -7.471700191497803, -7.060800075531006, -7.673500061035156, -7.643199920654297, -7.738500118255615, -7.706600189208984, -7.065100193023682, -6.399899959564209, -6.064499855041504, -7.811200141906738, -7.120800018310547, -7.968100070953369, -6.990200042724609, -7.969299793243408, -7.969200134277344, -5.102399826049805, -8.105500221252441, -5.103000164031982, -6.979700088500977, -7.655399799346924, -4.0208001136779785, -4.684000015258789, -5.415800094604492, -4.714600086212158, -4.711100101470947, -5.792699813842773, -5.586699962615967, -6.317999839782715, -6.75600004196167, -6.305500030517578, -3.5373001098632812, -4.858699798583984, -5.212200164794922, -4.710000038146973, -6.346199989318848, -6.620800018310547, -6.533100128173828, -5.021299839019775, -4.2667999267578125, -4.751500129699707, -5.243899822235107, -4.65310001373291, -5.437300205230713, -4.658999919891357, -3.5065999031066895, -5.757500171661377, -5.366000175476074, -4.958199977874756, -3.67330002784729, -4.838799953460693, -4.7846999168396, -4.634099960327148, -4.802299976348877, -4.650400161743164, -4.903299808502197, -5.165500164031982, -5.276199817657471, -5.1367998123168945, -5.1793999671936035, -5.129899978637695, -5.139599800109863, -6.5254998207092285, -6.897799968719482, -7.342100143432617, -7.342100143432617, -7.343599796295166, -7.199399948120117, -7.552800178527832, -7.558300018310547, -7.560400009155273, -7.564700126647949, -7.56879997253418, -7.813600063323975, -7.817299842834473, -6.90310001373291, -7.821499824523926, -7.821899890899658, -7.605599880218506, -7.620500087738037, -7.6392998695373535, -7.863500118255615, -8.169300079345703, -8.169300079345703, -8.169300079345703, -8.17020034790039, -8.172100067138672, -8.172100067138672, -8.172100067138672, -8.172100067138672, -8.172100067138672, -8.172100067138672, -7.209099769592285, -5.813000202178955, -6.6946001052856445, -7.514599800109863, -7.688899993896484, -5.011199951171875, -7.051300048828125, -7.695700168609619, -7.260300159454346, -7.166500091552734, -7.011899948120117, -7.0370001792907715, -5.3902997970581055, -4.533899784088135, -5.973800182342529, -4.064300060272217, -6.229499816894531, -6.723199844360352, -6.17710018157959, -6.9679999351501465, -6.6244001388549805, -5.336400032043457, -5.289100170135498, -6.296000003814697, -4.635300159454346, -5.866300106048584, -5.243199825286865, -5.60699987411499, -5.769599914550781, -3.922800064086914, -4.799499988555908, -4.936699867248535, -4.9319000244140625, -6.0366997718811035, -4.506100177764893, -4.789100170135498, -5.257400035858154, -5.2895002365112305, -5.553899765014648, -5.311100006103516, -5.15749979019165, -5.297500133514404, -4.877799987792969, -4.9842000007629395, -5.393199920654297, -5.432300090789795, -5.308700084686279, -5.438000202178955, -5.3796000480651855, -5.19189977645874, -5.4197001457214355, -5.499800205230713, -5.5208001136779785, -5.50570011138916], \"loglift\": [30.0, 29.0, 28.0, 27.0, 26.0, 25.0, 24.0, 23.0, 22.0, 21.0, 20.0, 19.0, 18.0, 17.0, 16.0, 15.0, 14.0, 13.0, 12.0, 11.0, 10.0, 9.0, 8.0, 7.0, 6.0, 5.0, 4.0, 3.0, 2.0, 1.0, 0.7111, 0.7108, 0.7105, 0.7104, 0.7103, 0.7094, 0.709, 0.7088, 0.7075, 0.7071, 0.7067, 0.7064, 0.7052, 0.7052, 0.7048, 0.7048, 0.7047, 0.7032, 0.7032, 0.7014, 0.701, 0.7, 0.6995, 0.6974, 0.6969, 0.6941, 0.6934, 0.6916, 0.691, 0.6895, 0.6732, 0.6573, 0.6892, 0.6699, 0.6397, 0.6203, 0.6202, 0.6655, 0.6262, 0.6286, 0.5239, 0.506, 0.5446, 0.623, 0.5348, 0.5736, 0.4544, 0.5367, 0.4815, 0.541, 0.4483, 0.2858, 0.241, 0.4026, -0.1041, -0.2685, 0.4405, 0.205, 0.185, 0.1222, 0.1248, 0.1694, -0.1123, -0.2796, 0.7614, 0.7585, 0.7563, 0.7554, 0.7552, 0.7551, 0.7546, 0.7543, 0.7524, 0.7498, 0.7484, 0.7466, 0.745, 0.7446, 0.7444, 0.7438, 0.7433, 0.7422, 0.7415, 0.7411, 0.7406, 0.7389, 0.7384, 0.738, 0.7378, 0.737, 0.7355, 0.7347, 0.7346, 0.733, 0.7233, 0.7266, 0.7318, 0.7222, 0.7202, 0.7282, 0.7258, 0.7302, 0.7281, 0.7156, 0.6148, 0.6586, 0.6591, 0.6248, 0.7069, 0.719, 0.7094, 0.604, 0.512, 0.5253, 0.5767, 0.5106, 0.5948, 0.4749, 0.277, 0.6149, 0.54, 0.4316, 0.1102, 0.3883, 0.3588, 0.2852, 0.2609, 0.186, 0.3019, 0.3764, 0.3873, 0.0858, 0.162, -0.1147, -0.2836, 3.037, 3.0297, 2.9803, 2.9803, 2.9786, 2.9687, 2.9453, 2.9387, 2.9361, 2.9316, 2.9267, 2.8982, 2.894, 2.8931, 2.8893, 2.889, 2.8806, 2.865, 2.8399, 2.8395, 2.8146, 2.8146, 2.8146, 2.8136, 2.8116, 2.8116, 2.8115, 2.8115, 2.8115, 2.8115, 2.792, 2.7283, 2.735, 2.7715, 2.7803, 2.5508, 2.7106, 2.7716, 2.7281, 2.7012, 2.6438, 2.6167, 2.0247, 1.6523, 2.1455, 1.2482, 2.2123, 2.4056, 2.0943, 2.5016, 2.2926, 1.4726, 1.3773, 2.0468, 0.7835, 1.6536, 1.1292, 1.4085, 1.5165, -0.1393, 0.5903, 0.6783, 0.61, 1.5933, -0.354, -0.0103, 0.4452, 0.3358, 0.6898, 0.3041, -0.014, 0.1652, -0.6575, -0.5331, 0.2703, 0.2755, -0.0956, 0.0793, -0.3644, -1.4083, -0.5637, -0.063, 0.1535, -0.1428]}, \"token.table\": {\"Topic\": [3, 1, 2, 3, 2, 3, 1, 2, 3, 3, 1, 3, 2, 3, 1, 2, 1, 1, 3, 1, 2, 3, 1, 3, 1, 1, 2, 1, 2, 3, 1, 2, 3, 2, 3, 2, 3, 2, 3, 2, 3, 1, 2, 3, 2, 1, 2, 3, 1, 1, 2, 3, 3, 3, 2, 3, 2, 1, 2, 3, 1, 1, 2, 1, 2, 3, 1, 2, 3, 1, 2, 3, 1, 2, 3, 1, 1, 2, 3, 3, 1, 2, 3, 2, 3, 1, 2, 3, 3, 1, 2, 3, 1, 1, 1, 2, 3, 1, 2, 3, 2, 3, 2, 1, 2, 3, 1, 2, 3, 1, 2, 3, 1, 2, 3, 1, 2, 3, 1, 2, 3, 1, 2, 3, 1, 2, 3, 1, 2, 3, 2, 3, 1, 2, 3, 1, 2, 3, 3, 2, 3, 1, 2, 3, 2, 2, 2, 3, 1, 2, 3, 1, 2, 3, 2, 3, 1, 2, 3, 1, 3, 1, 1, 2, 3, 2, 3, 1, 1, 1, 2, 3, 1, 2, 3, 1, 2, 3, 2, 3, 2, 3, 2, 2, 3, 3, 1, 2, 3, 1, 2, 3, 1, 2, 3, 1, 2, 3, 1, 2, 3, 2, 3, 1, 1, 2, 3, 1, 2, 3, 1, 2, 3, 1, 2, 3, 2, 3, 1, 2, 3, 2, 3, 2, 1, 2, 3, 2, 3, 1, 3, 3, 3, 2, 3, 2, 3, 3, 1, 1, 1, 2, 3, 2, 1, 1, 2, 3, 1, 2, 3, 2, 1, 2, 3, 2, 2, 3, 3, 3, 1, 2, 3, 1, 2, 3, 1, 2, 3, 3, 1, 2, 3, 2, 2, 3, 1, 1, 2, 3, 1, 3, 1, 2, 3, 1, 2, 3, 3, 2, 3, 1, 2, 3, 3, 1, 2, 3, 1, 2, 1, 2, 3, 1, 2, 3, 1, 2, 3, 2, 3, 1, 2, 3, 1, 2, 3, 1, 2, 3, 2, 3, 2, 3, 1, 2, 1, 1, 1, 1, 2, 3, 1, 2, 3, 1, 2, 1, 2, 3, 1, 2, 3, 1, 2, 2, 3, 1, 2, 3, 3, 1, 2, 3, 1, 3, 1, 2, 3, 1, 1, 2, 3, 2, 3, 1, 2, 1, 2, 3, 2, 3, 1, 2, 3, 3, 1, 2, 3, 3, 1, 2, 3, 1, 2, 3, 1, 2, 3, 1, 2, 3, 1, 2, 3, 1, 2, 3, 1, 2, 3, 1, 2, 3], \"Freq\": [0.7616995191907648, 0.9170085824793721, 0.06990648386614047, 0.016448584439091876, 0.24953479616756685, 0.7486043885027006, 0.24789261577399813, 0.5657036616380983, 0.1906866275184601, 0.8266496114979318, 0.2707812466506141, 0.6769531166265352, 0.9511262217016654, 0.049027124829982754, 0.9309273686273773, 0.06841108904898595, 0.9921224085639478, 0.32791632305538054, 0.5465272050923009, 0.9969429744833075, 0.20571417858399113, 0.6171425357519733, 0.9972177306700322, 0.8623386815382318, 0.9805721594743926, 0.9963869021103493, 0.969853005677023, 0.9865052229573891, 0.01861330609353564, 0.01861330609353564, 0.23095240653475627, 0.7488096067544417, 0.020238097479849778, 0.7988736530860385, 0.1945974283158299, 0.9842860640667616, 0.017268176562574764, 0.24705050807149162, 0.7411515242144748, 0.9831637980573839, 0.018206737001062664, 0.3694546852775427, 0.6289678379119412, 0.001278389914455165, 0.9940951724250034, 0.7726927540424116, 0.2130879502127269, 0.013940333191486807, 0.9972079608035116, 0.2827672214093417, 0.3534590267616771, 0.3770229618791222, 0.7615560043578393, 0.9442201272021821, 0.9810118745486791, 0.9140863979768471, 0.9863763609880014, 0.5055812654427873, 0.2744584012403702, 0.21667768518976596, 0.9992548933662714, 0.8389466620569832, 0.15878369027632167, 0.9468450856599663, 0.0489169789477548, 0.004020573612144231, 0.4077903176017477, 0.2679764944240056, 0.32623225408139817, 0.1796814189447613, 0.14374513515580903, 0.6827893919900929, 0.5903388119633157, 0.3864035860123521, 0.022659469550107066, 0.98594247058421, 0.024221125850899753, 0.9688450340359901, 0.008073708616966584, 0.8265114527009335, 0.39280912200832435, 0.45543086609660793, 0.15228469585105328, 0.969804660617443, 0.02887755813252932, 0.6657055538631327, 0.2768489763684774, 0.057060476045411375, 0.7620872236409473, 0.4380261564292721, 0.5478989381423003, 0.01464970422840375, 0.9928978346411322, 0.9986659593929959, 0.427035717491422, 0.3493928597657089, 0.23292857317713928, 0.14171110194685915, 0.798735301882297, 0.05926100626868655, 0.9625351943991162, 0.03335518000392977, 0.9954730890276017, 0.4579986206444478, 0.5043971737162709, 0.037418187961147695, 0.7684176350681388, 0.17984242522871333, 0.05109159807633901, 0.912330625674558, 0.08516391033657354, 0.002936686563330122, 0.7332746891717755, 0.2618838175613484, 0.005237676351226968, 0.8287483282799225, 0.14554215924799802, 0.0258607968911732, 0.6248564737106133, 0.350749160567718, 0.02524672621052983, 0.9847390826165073, 0.24659750065632952, 0.7397925019689886, 0.37376454474367177, 0.5738774204692659, 0.05126858799581339, 0.29793856364931814, 0.6860427452451404, 0.015680977034174638, 0.9588799993003514, 0.0402890756008551, 0.9217948844721452, 0.07474012576801177, 0.008304458418667974, 0.3707464413030489, 0.6195115405193433, 0.009604830085571215, 0.8531540232392655, 0.9830669577128385, 0.8267115714064797, 0.9600559217423674, 0.04000233007259864, 0.8265106736614377, 0.9852310372987014, 0.9842951581157237, 0.9633691923144767, 0.0348205732161859, 0.08211911258027339, 0.9008217804260293, 0.019907663655823853, 0.21584918073143772, 0.775094785353799, 0.00858491059727309, 0.9738532316390899, 0.02651580581195542, 0.5811249759489086, 0.37882648099551913, 0.0399442888124527, 0.9922246934811176, 0.004134269556171324, 0.9992091878444548, 0.08756673925066637, 0.8523162620398194, 0.060323753706014616, 0.9924447963942672, 0.007876546003129105, 0.9784910411854484, 0.9884655507933386, 0.9993896915662324, 0.25129691489117356, 0.7538907446735207, 0.25648490137664154, 0.6748496175565731, 0.06727472822993875, 0.10769036888257755, 0.8687993273364703, 0.023284404082719472, 0.9677855031706482, 0.03280628824307282, 0.9759882714522566, 0.01901275853478422, 0.9757264651372551, 0.32856670736813554, 0.6571334147362711, 0.8267116648055798, 0.004107674598434095, 0.86261166567116, 0.13555326174832513, 0.03788863298261091, 0.9593079414746165, 0.0024184233818687812, 0.9628661584009343, 0.030902799002732687, 0.006505852421627934, 0.3751670515567205, 0.6139658162811462, 0.0107983937536885, 0.912551949465591, 0.07726165113888663, 0.009725242800699016, 0.3055120812713883, 0.6110241625427766, 0.9906052914020849, 0.7632375182956906, 0.2232310290279875, 0.012756058801599286, 0.6527516542765329, 0.3357905144595626, 0.010460763690329052, 0.7947981882827316, 0.19646696789011342, 0.01071638006673346, 0.5056268201993358, 0.40450145615946864, 0.08667888346274327, 0.2620905449296889, 0.6989081198125038, 0.0524017473029506, 0.8995633287006519, 0.04716157257265554, 0.2435999605627003, 0.6089999014067508, 0.9925150516450763, 0.2416811872040637, 0.6784975551877048, 0.0805603957346879, 0.9754751968219109, 0.9446541116677266, 0.15470548418436098, 0.7735274209218049, 0.8265104119167421, 0.7628513742972638, 0.9510049082124628, 0.04322749582783921, 0.9624404230948989, 0.03611114148643177, 0.8979374548163761, 0.9949917626722352, 0.9873563579495453, 0.8464976994058198, 0.14683138208552637, 0.006898118621467682, 0.9904152887941162, 0.9813017744096678, 0.19205063428251312, 0.4664086832575319, 0.3566654636675244, 0.2567528348969651, 0.6853481183470171, 0.05660692422925215, 0.984450541705057, 0.011218467392088259, 0.9567750047252415, 0.032052763977395024, 0.9754565123601769, 0.9725847578029788, 0.015944012422999653, 0.6291874997751555, 0.853289921249192, 0.18028450291212741, 0.777059593570327, 0.04340182477514178, 0.49544577159222225, 0.40838661044981894, 0.0949736303371672, 0.2975920858454798, 0.5290525970586307, 0.1708399011335162, 0.826711485018398, 0.3910504306188531, 0.5509380451083349, 0.05971706083342091, 0.9873553744939905, 0.2511207125410861, 0.7533621376232583, 0.9986685630435663, 0.14731793477001318, 0.5303445651720475, 0.324099456494029, 0.996874144797013, 0.629210278955005, 0.2045016114041678, 0.716524442964979, 0.07841791113994405, 0.9192153016041653, 0.06542457662663098, 0.016356144156657745, 0.8265129022380956, 0.9613512168800042, 0.03745524221610406, 0.8719230482439023, 0.12829385451000197, 0.7609486622684337, 0.6242636869696926, 0.5562480329067081, 0.4241391250913649, 0.01970045116544591, 0.9927440048821333, 0.0054847735076360956, 0.14846656255025056, 0.2834361648686602, 0.5533753695054794, 0.9985818552312603, 0.9832667374767018, 0.017250293639942137, 0.4864879486427788, 0.5073002673012934, 0.00520307966462865, 0.9754830752373692, 0.017736055913406712, 0.5700396457961866, 0.3427941113233825, 0.08666143263793377, 0.023574197038237918, 0.9508259472089293, 0.023574197038237918, 0.3815511250744174, 0.6044923347835973, 0.014419083215021588, 0.9411995507838232, 0.0567965246162652, 0.9744356474810991, 0.03143340798326126, 0.9953582702867227, 0.0062209891892920175, 0.9973872911229084, 0.9987776023346157, 0.9920326884608986, 0.10837504838409147, 0.860756557124677, 0.030773161886840785, 0.4384890716555497, 0.5604880472371341, 0.0008840505476926404, 0.9519791816244404, 0.045332341982116206, 0.8421011663172843, 0.14490701887927296, 0.010936378783341355, 0.2908767821032761, 0.6658914763851858, 0.04327092626329727, 0.030838635130826183, 0.9559976890556117, 0.9955336372805615, 0.006549563403161589, 0.2344209647896767, 0.5860524119741918, 0.17972273967208546, 0.826507594673266, 0.0034097847986279805, 0.7672015796912955, 0.22845558150807468, 0.1260439660377518, 0.7562637962265109, 0.5549999313642818, 0.4154570914784053, 0.030657139065836524, 0.9987828037587583, 0.14029314575140744, 0.8446816483782656, 0.01753664321892593, 0.5173470814183596, 0.45267869624106466, 0.9947946809386051, 0.005024215560295985, 0.1626566388650917, 0.4229072610492384, 0.3903759332762201, 0.9911680823627534, 0.008996987131885811, 0.8381876212656543, 0.14621234844184988, 0.015924117157033155, 0.8532898461388898, 0.3636678017308292, 0.0909169504327073, 0.5455017025962438, 0.8265077216657117, 0.4708836998541911, 0.10464082218982024, 0.41856328875928095, 0.8140830297304239, 0.1632940739987126, 0.022440998473507286, 0.16322262738623378, 0.8279408635533597, 0.007096635973314512, 0.4423693718353469, 0.5197994362221475, 0.037943816412655276, 0.0013059002832479954, 0.9964019161182205, 0.002611800566495991, 0.2087460191738059, 0.7869175591223078, 0.004119987220535642, 0.6027420792769436, 0.37991015905940684, 0.017047250727024666, 0.0037638822912782425, 0.9899010426061777, 0.007527764582556485], \"Term\": [\"absorptive\", \"accept\", \"accept\", \"accept\", \"action\", \"action\", \"alignment\", \"alignment\", \"alignment\", \"alleviate\", \"alternative\", \"alternative\", \"amplitude\", \"amplitude\", \"angle\", \"angle\", \"angular_displacement\", \"appearance\", \"appearance\", \"arcminute\", \"artificial\", \"artificial\", \"atom\", \"automate\", \"balmer\", \"balmer_serie\", \"bandwidth\", \"bar\", \"bar\", \"bar\", \"beam\", \"beam\", \"beam\", \"beamsplitter\", \"beamsplitter\", \"beat\", \"beat\", \"binary\", \"binary\", \"blackbody\", \"blackbody\", \"blue\", \"blue\", \"blue\", \"broad\", \"calculate\", \"calculate\", \"calculate\", \"camera\", \"card\", \"card\", \"card\", \"carrier\", \"cluster\", \"coat\", \"coefficient\", \"coherence\", \"collect\", \"collect\", \"collect\", \"collimator\", \"colour\", \"colour\", \"constant\", \"constant\", \"constant\", \"correct\", \"correct\", \"correct\", \"correction\", \"correction\", \"correction\", \"could\", \"could\", \"could\", \"crosshair\", \"curve\", \"curve\", \"curve\", \"damp\", \"datum\", \"datum\", \"datum\", \"detector\", \"detector\", \"determine\", \"determine\", \"determine\", \"dichroic\", \"different\", \"different\", \"different\", \"diffract\", \"diffraction\", \"directly\", \"directly\", \"directly\", \"distance\", \"distance\", \"distance\", \"distribution\", \"distribution\", \"domain\", \"due\", \"due\", \"due\", \"emission\", \"emission\", \"emission\", \"energy\", \"energy\", \"energy\", \"equation\", \"equation\", \"equation\", \"error\", \"error\", \"error\", \"experiment\", \"experiment\", \"experiment\", \"eyepiece\", \"facilitate\", \"facilitate\", \"fig\", \"fig\", \"fig\", \"figure\", \"figure\", \"figure\", \"filter\", \"filter\", \"final\", \"final\", \"final\", \"find\", \"find\", \"find\", \"finetune\", \"fizeau\", \"flux\", \"focus\", \"focus\", \"fork\", \"fouri\", \"fourier\", \"fourier_transform\", \"fourier_transform\", \"frequency\", \"frequency\", \"frequency\", \"fringe\", \"fringe\", \"fringe\", \"gaussian\", \"gaussian\", \"give\", \"give\", \"give\", \"gradient\", \"gradient\", \"grate\", \"green\", \"green\", \"green\", \"haidinger\", \"haidinger\", \"holder\", \"humidity\", \"hydrogen\", \"instability\", \"instability\", \"intensity\", \"intensity\", \"intensity\", \"interference\", \"interference\", \"interference\", \"interferogram\", \"interferogram\", \"interferometer\", \"interferometer\", \"interferometry\", \"irregularity\", \"irregularity\", \"itte\", \"laser\", \"laser\", \"laser\", \"lead\", \"lead\", \"lead\", \"level\", \"level\", \"level\", \"light\", \"light\", \"light\", \"line\", \"line\", \"line\", \"map\", \"map\", \"mass\", \"maximum\", \"maximum\", \"maximum\", \"measure\", \"measure\", \"measure\", \"measurement\", \"measurement\", \"measurement\", \"method\", \"method\", \"method\", \"millimetre\", \"millimetre\", \"mirror\", \"mirror\", \"mirror\", \"modulation\", \"modulation\", \"movable\", \"move\", \"move\", \"move\", \"moveable\", \"nanometre\", \"necessarily\", \"necessarily\", \"neon\", \"newly\", \"noise\", \"noise\", \"null\", \"null\", \"operational\", \"orbit\", \"orbital\", \"order\", \"order\", \"order\", \"oscillation\", \"parallax\", \"parameter\", \"parameter\", \"parameter\", \"path\", \"path\", \"path\", \"pattem\", \"peak\", \"peak\", \"peak\", \"phosphor\", \"photodetector\", \"photodetector\", \"physically\", \"pimag\", \"point\", \"point\", \"point\", \"position\", \"position\", \"position\", \"present\", \"present\", \"present\", \"price\", \"produce\", \"produce\", \"produce\", \"profile\", \"proportion\", \"proportion\", \"purple\", \"quality\", \"quality\", \"quality\", \"quantum\", \"radiative\", \"range\", \"range\", \"range\", \"read\", \"read\", \"read\", \"reclaim\", \"recombine\", \"recombine\", \"red\", \"red\", \"regularly\", \"resolvable\", \"result\", \"result\", \"result\", \"rotate\", \"rotate\", \"run\", \"run\", \"run\", \"rydberg\", \"scan\", \"scan\", \"see\", \"see\", \"see\", \"sensitivity\", \"sensitivity\", \"set\", \"set\", \"set\", \"shape\", \"shape\", \"shape\", \"show\", \"show\", \"show\", \"signal\", \"signal\", \"simulation\", \"simulation\", \"sin\", \"sin\", \"sin\\u03b8\", \"slit\", \"sodium\", \"source\", \"source\", \"source\", \"spectral\", \"spectral\", \"spectral\", \"spectromet\", \"spectromet\", \"spectrometer\", \"spectrometer\", \"spectrometer\", \"spectrum\", \"spectrum\", \"spectrum\", \"spike\", \"spike\", \"splitter\", \"splitter\", \"spread\", \"spread\", \"spread\", \"spur\", \"stage\", \"stage\", \"stage\", \"systematical\", \"systematical\", \"take\", \"take\", \"take\", \"telescope\", \"temperature\", \"temperature\", \"temperature\", \"thorlab\", \"thorlab\", \"transition\", \"transition\", \"transmission\", \"transmission\", \"transmission\", \"tungsten\", \"tungsten\", \"uncertainty\", \"uncertainty\", \"uncertainty\", \"unfitted\", \"unknown\", \"unknown\", \"unknown\", \"unsupported\", \"utilise\", \"utilise\", \"utilise\", \"value\", \"value\", \"value\", \"wave\", \"wave\", \"wave\", \"wavelength\", \"wavelength\", \"wavelength\", \"white\", \"white\", \"white\", \"width\", \"width\", \"width\", \"would\", \"would\", \"would\", \"yellow\", \"yellow\", \"yellow\"]}, \"R\": 30, \"lambda.step\": 0.01, \"plot.opts\": {\"xlab\": \"PC1\", \"ylab\": \"PC2\"}, \"topic.order\": [1, 3, 2]};\n",
       "\n",
       "function LDAvis_load_lib(url, callback){\n",
       "  var s = document.createElement('script');\n",
       "  s.src = url;\n",
       "  s.async = true;\n",
       "  s.onreadystatechange = s.onload = callback;\n",
       "  s.onerror = function(){console.warn(\"failed to load library \" + url);};\n",
       "  document.getElementsByTagName(\"head\")[0].appendChild(s);\n",
       "}\n",
       "\n",
       "if(typeof(LDAvis) !== \"undefined\"){\n",
       "   // already loaded: just create the visualization\n",
       "   !function(LDAvis){\n",
       "       new LDAvis(\"#\" + \"ldavis_el12043221373282232808590850802\", ldavis_el12043221373282232808590850802_data);\n",
       "   }(LDAvis);\n",
       "}else if(typeof define === \"function\" && define.amd){\n",
       "   // require.js is available: use it to load d3/LDAvis\n",
       "   require.config({paths: {d3: \"https://cdnjs.cloudflare.com/ajax/libs/d3/3.5.5/d3.min\"}});\n",
       "   require([\"d3\"], function(d3){\n",
       "      window.d3 = d3;\n",
       "      LDAvis_load_lib(\"https://cdn.rawgit.com/bmabey/pyLDAvis/files/ldavis.v1.0.0.js\", function(){\n",
       "        new LDAvis(\"#\" + \"ldavis_el12043221373282232808590850802\", ldavis_el12043221373282232808590850802_data);\n",
       "      });\n",
       "    });\n",
       "}else{\n",
       "    // require.js not available: dynamically load d3 & LDAvis\n",
       "    LDAvis_load_lib(\"https://cdnjs.cloudflare.com/ajax/libs/d3/3.5.5/d3.min.js\", function(){\n",
       "         LDAvis_load_lib(\"https://cdn.rawgit.com/bmabey/pyLDAvis/files/ldavis.v1.0.0.js\", function(){\n",
       "                 new LDAvis(\"#\" + \"ldavis_el12043221373282232808590850802\", ldavis_el12043221373282232808590850802_data);\n",
       "            })\n",
       "         });\n",
       "}\n",
       "</script>"
      ],
      "text/plain": [
       "<IPython.core.display.HTML object>"
      ]
     },
     "execution_count": 52,
     "metadata": {},
     "output_type": "execute_result"
    }
   ],
   "source": [
    "pyLDAvis.enable_notebook()\n",
    "vis = pyLDAvis.gensim.prepare(lda_model, corpus, id2word, n_jobs=1) \n",
    "pyLDAvis.display(vis)"
   ]
  },
  {
   "cell_type": "markdown",
   "metadata": {},
   "source": [
    "Sometimes it's possible to see a structure in this 2D space, but it's hard to tell if there's anything here. This may be because this is a 2D slice of an inherently higher-dimensional space, and so this slice may not encompass all that much of the variance in that space. However, we can use this to check if there are any outlying topics that seem to be skewing our model—these will show up as major outliers in the plot. No such outliers are visible here, so that's a good sign."
   ]
  },
  {
   "cell_type": "markdown",
   "metadata": {},
   "source": [
    "### B. Explaining the PCA variance of pyLDAvis\n",
    "\n",
    "One interesting question (relevant if we are to take these interpretations seriously) is how much of the variance is encapsulated by the principle component analysis (PCA) used in pyLDAvis. Although there isn't a direct way to make the function output this number, by looking over the [pyLDAvis pcoa documentation](https://pyldavis.readthedocs.io/en/latest/_modules/pyLDAvis/_prepare.html#js_PCoA) and another [script referenced in that documentation](https://github.com/biocore/scikit-bio/blob/0.5.0/skbio/stats/ordination/_principal_coordinate_analysis.py) we've been able to re-create the functions used for the PCA."
   ]
  },
  {
   "cell_type": "code",
   "execution_count": 53,
   "metadata": {},
   "outputs": [],
   "source": [
    "from scipy.stats import entropy\n",
    "from scipy.spatial.distance import pdist, squareform\n",
    "\n",
    "def jensen_shannon(P, Q):\n",
    "    M = 0.5 * (P + Q)\n",
    "    return 0.5 * (entropy(P, M) + entropy(Q, M))\n",
    "\n",
    "def pcoa(pair_dists, n_components=2):\n",
    "    \"\"\"Principal Coordinate Analysis,\n",
    "    aka Classical Multidimensional Scaling\n",
    "    \"\"\"\n",
    "    # code referenced from skbio.stats.ordination.pcoa\n",
    "    # https://github.com/biocore/scikit-bio/blob/0.5.0/skbio/stats/ordination/_principal_coordinate_analysis.py\n",
    "\n",
    "    # pairwise distance matrix is assumed symmetric\n",
    "    pair_dists = np.asarray(pair_dists, np.float64)\n",
    "\n",
    "    # perform SVD on double centred distance matrix\n",
    "    n = pair_dists.shape[0]\n",
    "    H = np.eye(n) - np.ones((n, n)) / n\n",
    "    B = - H.dot(pair_dists ** 2).dot(H) / 2\n",
    "    eigvals, eigvecs = np.linalg.eig(B)\n",
    "\n",
    "    # Take first n_components of eigenvalues and eigenvectors\n",
    "    # sorted in decreasing order\n",
    "    ix = eigvals.argsort()[::-1]\n",
    "    eigvals = eigvals[ix]\n",
    "    eigvecs = eigvecs[:, ix]\n",
    "\n",
    "    # replace any remaining negative eigenvalues and associated eigenvectors with zeroes\n",
    "    # at least 1 eigenvalue must be zero\n",
    "    eigvals[np.isclose(eigvals, 0)] = 0\n",
    "    if np.any(eigvals < 0):\n",
    "        ix_neg = eigvals < 0\n",
    "        eigvals[ix_neg] = np.zeros(eigvals[ix_neg].shape)\n",
    "        eigvecs[:, ix_neg] = np.zeros(eigvecs[:, ix_neg].shape)\n",
    "        \n",
    "    proportion_explained = eigvals / eigvals.sum()\n",
    "\n",
    "    return np.sqrt(eigvals) * eigvecs, proportion_explained\n",
    "\n",
    "def js_PCoA(distributions):\n",
    "    \"\"\"Dimension reduction via Jensen-Shannon Divergence & Principal Coordinate Analysis\n",
    "    (aka Classical Multidimensional Scaling)\n",
    "\n",
    "    Parameters\n",
    "    ----------\n",
    "    distributions : array-like, shape (`n_dists`, `k`)\n",
    "        Matrix of distributions probabilities.\n",
    "\n",
    "    Returns\n",
    "    -------\n",
    "    pcoa : array, shape (`n_dists`, 2)\n",
    "    \"\"\"\n",
    "    dist_matrix = squareform(pdist(distributions, metric=jensen_shannon))\n",
    "    return pcoa(dist_matrix)"
   ]
  },
  {
   "cell_type": "code",
   "execution_count": 54,
   "metadata": {},
   "outputs": [
    {
     "name": "stdout",
     "output_type": "stream",
     "text": [
      "Variance explained by PC1: 68.53 percent\n",
      "Variance explained by PC2: 31.47 percent\n",
      "Total variance explained: 100.00 percent\n"
     ]
    }
   ],
   "source": [
    "jspcoa, explained = js_PCoA(lda_model.get_topics()) #run PCoA on the normalized topic vectors\n",
    "print('Variance explained by PC1: {0:.2f} percent'.format(explained[0]*100))\n",
    "print('Variance explained by PC2: {0:.2f} percent'.format(explained[1]*100))\n",
    "print('Total variance explained: {0:.2f} percent'.format((explained[0]+explained[1])*100))"
   ]
  },
  {
   "cell_type": "markdown",
   "metadata": {},
   "source": [
    "### C. Dominant topic in each document\n",
    "\n",
    "We can also use this model to make an estimation of the document-topic distribution; that is, for a particular document, find out how much the model associates it with each topic."
   ]
  },
  {
   "cell_type": "code",
   "execution_count": 55,
   "metadata": {},
   "outputs": [],
   "source": [
    "def get_weight_in_doc(ldamodel, corpus, doc_num, fill=0):\n",
    "    \"\"\" Get the weigth for each topic in a document\n",
    "    Inputs: ldamodel, corpus, doc_num, fill (value when topic was not found)\n",
    "    Output: list of tuples [(<topic number>, <topic weight>)]\n",
    "    \"\"\"\n",
    "    num_topics = ldamodel.num_topics\n",
    "    weights = [fill] * num_topics\n",
    "    # Get a list of tuples with the detected topics and weights\n",
    "    row = ldamodel[corpus][doc_num]\n",
    "    # Process the output to return a list of weights\n",
    "    tw = list(zip(*row))\n",
    "    for topic in range(num_topics):\n",
    "        if topic in tw[0]:\n",
    "            ind = tw[0].index(topic)\n",
    "            weights[topic] = tw[1][ind]\n",
    "    return weights\n",
    "\n",
    "def get_weight_per_doc(ldamodel, corpus):\n",
    "    \"\"\" Get a document by topic weight Dataframe \n",
    "    Inputs: ldamodel, corpus\n",
    "    \"\"\"\n",
    "    num_topics = ldamodel.num_topics\n",
    "    dataframe = pd.DataFrame(np.zeros((len(corpus),num_topics)), columns=list(range(num_topics)))\n",
    "    dataframe.index.name = 'Topic weights'\n",
    "    for i, row in dataframe.iterrows():\n",
    "        dataframe.iloc[i] = pd.Series(get_weight_in_doc(ldamodel, corpus, i))\n",
    "    return dataframe\n",
    "\n",
    "weights = get_weight_per_doc(lda_model, corpus)"
   ]
  },
  {
   "cell_type": "markdown",
   "metadata": {},
   "source": [
    "Now, we can associate each weight with its respective document, and see how the  model classifies them:"
   ]
  },
  {
   "cell_type": "code",
   "execution_count": 56,
   "metadata": {},
   "outputs": [
    {
     "data": {
      "text/html": [
       "<div>\n",
       "<style scoped>\n",
       "    .dataframe tbody tr th:only-of-type {\n",
       "        vertical-align: middle;\n",
       "    }\n",
       "\n",
       "    .dataframe tbody tr th {\n",
       "        vertical-align: top;\n",
       "    }\n",
       "\n",
       "    .dataframe thead th {\n",
       "        text-align: right;\n",
       "    }\n",
       "</style>\n",
       "<table border=\"1\" class=\"dataframe\">\n",
       "  <thead>\n",
       "    <tr style=\"text-align: right;\">\n",
       "      <th></th>\n",
       "      <th>Content</th>\n",
       "      <th>ReasoningLevel</th>\n",
       "      <th>ArgumentLevel</th>\n",
       "      <th>0</th>\n",
       "      <th>1</th>\n",
       "      <th>2</th>\n",
       "    </tr>\n",
       "  </thead>\n",
       "  <tbody>\n",
       "    <tr>\n",
       "      <th>173</th>\n",
       "      <td>the rydberg constant be calculate by use a gra...</td>\n",
       "      <td>bal</td>\n",
       "      <td>deep</td>\n",
       "      <td>0.95</td>\n",
       "      <td>0.0</td>\n",
       "      <td>0.05</td>\n",
       "    </tr>\n",
       "    <tr>\n",
       "      <th>174</th>\n",
       "      <td>the same set up be use a that in figure before...</td>\n",
       "      <td>the</td>\n",
       "      <td>superficial</td>\n",
       "      <td>1.00</td>\n",
       "      <td>0.0</td>\n",
       "      <td>0.00</td>\n",
       "    </tr>\n",
       "    <tr>\n",
       "      <th>175</th>\n",
       "      <td>the purpose of this report be to display the r...</td>\n",
       "      <td>bal</td>\n",
       "      <td>superficial</td>\n",
       "      <td>0.99</td>\n",
       "      <td>0.0</td>\n",
       "      <td>0.00</td>\n",
       "    </tr>\n",
       "    <tr>\n",
       "      <th>176</th>\n",
       "      <td>spectroscopy be commonly use a a non invasive ...</td>\n",
       "      <td>exp</td>\n",
       "      <td>deep</td>\n",
       "      <td>0.96</td>\n",
       "      <td>0.0</td>\n",
       "      <td>0.04</td>\n",
       "    </tr>\n",
       "    <tr>\n",
       "      <th>177</th>\n",
       "      <td>the rydberg constant allows one to predict how...</td>\n",
       "      <td>bal</td>\n",
       "      <td>superficial</td>\n",
       "      <td>0.99</td>\n",
       "      <td>0.0</td>\n",
       "      <td>0.00</td>\n",
       "    </tr>\n",
       "  </tbody>\n",
       "</table>\n",
       "</div>"
      ],
      "text/plain": [
       "                                               Content ReasoningLevel  \\\n",
       "173  the rydberg constant be calculate by use a gra...            bal   \n",
       "174  the same set up be use a that in figure before...            the   \n",
       "175  the purpose of this report be to display the r...            bal   \n",
       "176  spectroscopy be commonly use a a non invasive ...            exp   \n",
       "177  the rydberg constant allows one to predict how...            bal   \n",
       "\n",
       "    ArgumentLevel     0    1     2  \n",
       "173          deep  0.95  0.0  0.05  \n",
       "174   superficial  1.00  0.0  0.00  \n",
       "175   superficial  0.99  0.0  0.00  \n",
       "176          deep  0.96  0.0  0.04  \n",
       "177   superficial  0.99  0.0  0.00  "
      ]
     },
     "execution_count": 56,
     "metadata": {},
     "output_type": "execute_result"
    }
   ],
   "source": [
    "# Load the DataFrame with processed text\n",
    "df = pd.read_pickle(dir_name_e+'texts_norefs_clean.pkl')\n",
    "\n",
    "# Concatenate the topic weights\n",
    "df = df.loc[:, ['Content','ReasoningLevel','ArgumentLevel']] #drop all columns except the date\n",
    "df = pd.concat([df, weights], axis = 1) #append the weights\n",
    "\n",
    "#Display examples\n",
    "pd.set_option('display.max_columns', None)\n",
    "df.tail().round(decimals=2)"
   ]
  },
  {
   "cell_type": "markdown",
   "metadata": {},
   "source": [
    "This analysis, for example, associates the 2020 paper \"The effect of first high school science teacher's gender and gender matching on students' science identity in college\" primarily with Topic 0, (words: achievement, stem, variable, girl, model, mathematics, gender, female, grade, woman, career). This makes sense, since topic 0 seems to be about gender and the STEM pipeline, and this paper fits well with that topic.\n",
    "\n",
    "We can also search for individual authors. For example, here's the classification for all papers authored by Rudolph, JL since 1995:"
   ]
  },
  {
   "cell_type": "code",
   "execution_count": 32,
   "metadata": {
    "scrolled": true
   },
   "outputs": [
    {
     "ename": "KeyError",
     "evalue": "'authors'",
     "output_type": "error",
     "traceback": [
      "\u001b[1;31m---------------------------------------------------------------------------\u001b[0m",
      "\u001b[1;31mKeyError\u001b[0m                                  Traceback (most recent call last)",
      "File \u001b[1;32mc:\\Users\\EfiaA\\Anaconda3\\lib\\site-packages\\pandas\\core\\indexes\\base.py:3080\u001b[0m, in \u001b[0;36mIndex.get_loc\u001b[1;34m(self, key, method, tolerance)\u001b[0m\n\u001b[0;32m   3079\u001b[0m \u001b[39mtry\u001b[39;00m:\n\u001b[1;32m-> 3080\u001b[0m     \u001b[39mreturn\u001b[39;00m \u001b[39mself\u001b[39;49m\u001b[39m.\u001b[39;49m_engine\u001b[39m.\u001b[39;49mget_loc(casted_key)\n\u001b[0;32m   3081\u001b[0m \u001b[39mexcept\u001b[39;00m \u001b[39mKeyError\u001b[39;00m \u001b[39mas\u001b[39;00m err:\n",
      "File \u001b[1;32mpandas\\_libs\\index.pyx:70\u001b[0m, in \u001b[0;36mpandas._libs.index.IndexEngine.get_loc\u001b[1;34m()\u001b[0m\n",
      "File \u001b[1;32mpandas\\_libs\\index.pyx:101\u001b[0m, in \u001b[0;36mpandas._libs.index.IndexEngine.get_loc\u001b[1;34m()\u001b[0m\n",
      "File \u001b[1;32mpandas\\_libs\\hashtable_class_helper.pxi:4554\u001b[0m, in \u001b[0;36mpandas._libs.hashtable.PyObjectHashTable.get_item\u001b[1;34m()\u001b[0m\n",
      "File \u001b[1;32mpandas\\_libs\\hashtable_class_helper.pxi:4562\u001b[0m, in \u001b[0;36mpandas._libs.hashtable.PyObjectHashTable.get_item\u001b[1;34m()\u001b[0m\n",
      "\u001b[1;31mKeyError\u001b[0m: 'authors'",
      "\nThe above exception was the direct cause of the following exception:\n",
      "\u001b[1;31mKeyError\u001b[0m                                  Traceback (most recent call last)",
      "Cell \u001b[1;32mIn[32], line 4\u001b[0m\n\u001b[0;32m      1\u001b[0m name \u001b[39m=\u001b[39m \u001b[39m'\u001b[39m\u001b[39mRudolph\u001b[39m\u001b[39m'\u001b[39m\n\u001b[0;32m      2\u001b[0m date \u001b[39m=\u001b[39m \u001b[39m1995\u001b[39m\n\u001b[1;32m----> 4\u001b[0m df[df[\u001b[39m'\u001b[39;49m\u001b[39mauthors\u001b[39;49m\u001b[39m'\u001b[39;49m]\u001b[39m.\u001b[39mstr\u001b[39m.\u001b[39mcontains(name) \u001b[39m&\u001b[39m (df[\u001b[39m'\u001b[39m\u001b[39myear\u001b[39m\u001b[39m'\u001b[39m] \u001b[39m>\u001b[39m date)]\u001b[39m.\u001b[39mround(decimals\u001b[39m=\u001b[39m\u001b[39m2\u001b[39m)\n",
      "File \u001b[1;32mc:\\Users\\EfiaA\\Anaconda3\\lib\\site-packages\\pandas\\core\\frame.py:3024\u001b[0m, in \u001b[0;36mDataFrame.__getitem__\u001b[1;34m(self, key)\u001b[0m\n\u001b[0;32m   3022\u001b[0m \u001b[39mif\u001b[39;00m \u001b[39mself\u001b[39m\u001b[39m.\u001b[39mcolumns\u001b[39m.\u001b[39mnlevels \u001b[39m>\u001b[39m \u001b[39m1\u001b[39m:\n\u001b[0;32m   3023\u001b[0m     \u001b[39mreturn\u001b[39;00m \u001b[39mself\u001b[39m\u001b[39m.\u001b[39m_getitem_multilevel(key)\n\u001b[1;32m-> 3024\u001b[0m indexer \u001b[39m=\u001b[39m \u001b[39mself\u001b[39;49m\u001b[39m.\u001b[39;49mcolumns\u001b[39m.\u001b[39;49mget_loc(key)\n\u001b[0;32m   3025\u001b[0m \u001b[39mif\u001b[39;00m is_integer(indexer):\n\u001b[0;32m   3026\u001b[0m     indexer \u001b[39m=\u001b[39m [indexer]\n",
      "File \u001b[1;32mc:\\Users\\EfiaA\\Anaconda3\\lib\\site-packages\\pandas\\core\\indexes\\base.py:3082\u001b[0m, in \u001b[0;36mIndex.get_loc\u001b[1;34m(self, key, method, tolerance)\u001b[0m\n\u001b[0;32m   3080\u001b[0m         \u001b[39mreturn\u001b[39;00m \u001b[39mself\u001b[39m\u001b[39m.\u001b[39m_engine\u001b[39m.\u001b[39mget_loc(casted_key)\n\u001b[0;32m   3081\u001b[0m     \u001b[39mexcept\u001b[39;00m \u001b[39mKeyError\u001b[39;00m \u001b[39mas\u001b[39;00m err:\n\u001b[1;32m-> 3082\u001b[0m         \u001b[39mraise\u001b[39;00m \u001b[39mKeyError\u001b[39;00m(key) \u001b[39mfrom\u001b[39;00m \u001b[39merr\u001b[39;00m\n\u001b[0;32m   3084\u001b[0m \u001b[39mif\u001b[39;00m tolerance \u001b[39mis\u001b[39;00m \u001b[39mnot\u001b[39;00m \u001b[39mNone\u001b[39;00m:\n\u001b[0;32m   3085\u001b[0m     tolerance \u001b[39m=\u001b[39m \u001b[39mself\u001b[39m\u001b[39m.\u001b[39m_convert_tolerance(tolerance, np\u001b[39m.\u001b[39masarray(key))\n",
      "\u001b[1;31mKeyError\u001b[0m: 'authors'"
     ]
    }
   ],
   "source": [
    "name = 'Rudolph'\n",
    "date = 1995\n",
    "\n",
    "df[df['StudentID'].str.contains(name) & (df['ArgumentLevel'] > date)].round(decimals=2)"
   ]
  },
  {
   "cell_type": "markdown",
   "metadata": {},
   "source": [
    "There's a definite tendency towards topic 8 (which seems to be about STS/science education policy), topic 9 (history and philosophy of science), and a smaller association with topic 22 (argumentation).\n",
    "\n",
    "Using this set of weights, we can make a plot of the topic weight (in a percent) by document number. Although this plot is quite messy, the dots above 0.5 on the y-axis show that there are lots of documents that fall more than 50% into a particular topic, and the color shifts show definite rise and fall of different topics over time."
   ]
  },
  {
   "cell_type": "code",
   "execution_count": 57,
   "metadata": {},
   "outputs": [
    {
     "data": {
      "image/png": "[encoded data removed]",
      "text/plain": [
       "<Figure size 1800x800 with 1 Axes>"
      ]
     },
     "metadata": {},
     "output_type": "display_data"
    }
   ],
   "source": [
    "plt.figure(figsize=(18, 8))\n",
    "for t in range(num_topics):\n",
    "    plt.scatter(weights.index, weights.iloc[:,t], label='Topic '+str(t))\n",
    "plt.xlabel(\"Document number\")\n",
    "plt.ylabel(\"Topic weight\")\n",
    "plt.legend(loc='upper left')\n",
    "plt.title('Weights of %d in all documents' % num_topics)\n",
    "plt.show();"
   ]
  },
  {
   "cell_type": "markdown",
   "metadata": {},
   "source": [
    "### D. Most representative documents for each topic\n",
    "\n",
    "We can also go through, topic-by-topic, and find the most representative documents for each topic, which can be useful both for verifying that these topic groupings make sense and to characterize each topic:"
   ]
  },
  {
   "cell_type": "code",
   "execution_count": 82,
   "metadata": {
    "scrolled": true
   },
   "outputs": [
    {
     "data": {
      "application/vnd.plotly.v1+json": {
       "config": {
        "plotlyServerURL": "https://plot.ly"
       },
       "data": [
        {
         "cells": {
          "align": [
           "center",
           "center",
           "center",
           "left",
           "left"
          ],
          "fill": {
           "color": "white"
          },
          "font": {
           "size": 12
          },
          "height": 48,
          "line": {
           "color": "black"
          },
          "values": [
           [
            "the rydberg constant have connection with many fundamental constant like planck s constant make it one of the most fundamental constant in atomic physic it first appear in a an empirical number when johannes rydberg a swedish physicist publish his result use his model of hydrogen atom niels bohr prove that the rydberg constant be not just a number but a fundamental constant since the rydberg constant can be measure very precisely and accurately it offer invaluable help in determine other basic constant the hydrogen bright red ha line be the first and most important spectral line in balmer series the balmer series be a series of emission spectral line of hydrogen result from electron transition from high energy level down to the energy level with principal quantum number equal to two the ha spectral line enable scientist over century by measure it wavelength to finally determine the rydberg constant the experiment for determine the rydberg constant involves the photoelectric effect described by albert einstein in and bohr s model of the hydrogen atom introduce in bohr state that the electron move around the nucleus of an atom under the influence of the electrostatic force between the electron and the nucleus act a the centripetal force accord to bohr the electron can only move in an allow orbit a oppose to infinity of orbit in classical mechanic with total energy at the nth quantum state equal to the sum of kinetic energy and potential energy the total energy at the nth quantum state be define by where be the electron s mass be the permittivity of free space be the radius at nth orbit be the electron charge and be the electron s velocity the theory of the photoelectric effect state that light consists of small packet of energy call photon and the energy of each photon be proportional to it frequency the photoelectric effect be described by the follow equation the energy of a photon be give by where be the planck s constant be the frequency of the photon c be the speed of light be the wavelength of the photon and and be the energy of the initial and final state of the atom respectively when an atom gain energy the electron move from a low energy level to a high one during excitation this excite state be not stable and the electron drop from a high energy level to a low one result in the emission of a photon whose energy be equal to the energy difference between the final and initial state of the atom therefore the colour of the light emit can be determine by calculate the frequency of the photon emit use formula hence the balmer series in hydrogen can be give by equation with and the idea of bohr s model of the atom be involve when the atom drop from the nth energy level to the second result in photon emission with specific wavelength depend on n use equation the wavelength value can be calculate and through the use of the standard colour spectrum chart the colour of the light emit can be deduce an example of a balmer series transition be show in figure the main aim of the experiment carry out be to measure the hydrogen spectrum and use the data obtain to determine the rydberg constant which represent the wavenumber of the photon with the least energy that cause the ionisation of the hydrogen atom from it ground state the rydberg constant name after johannes rydberg can be express by the follow formula where be the fine structure constant be the planck s constant be the speed of light be the mass of the electron the fine structure constant indicates how strong the electromagnetic interaction between elementary charge particle be and be give by a where be the electron charge be the permittivity of free space be the planck s constant and be the speed of light the transition wavelength in hydrogen be give by determine the rydberg constant use the grate spectrometer where and be the energy level of the initial and final state of the atom respectively and be the rydberg constant the spectrometer can be use to help u determine the transition wavelength use the follow formula know a the grate equation the wavelength be give by where be the path difference between neighbour ray be the average diffraction angle in a certain order number and be the average angle at zeroth order and be the order number during this experiment the diffraction grate of line per mm be use for the diffraction grate space to be determine the follow equation be use where represent the number of line equal to the calculate value of be equal to for our experiment a straight line of best fit graph of against can be drawn use python with gradient equal to therefore can be determine use the gradient and through formula the rydberg constant can be deduce fig h alpha be produce when the electron move from n to n this be the first line of the balmer series and for hydrogen this transition result in the emission of a photon of wavelength nm red source http hyperphysics phy astr gsu edu hbase hyde html another aim of this experiment be to understand how to use the spectrometer a very useful instrument for physicist study star flame plasma and semiconductor the spectrometer be an instrument use so that the spectrum of light can be study it u a lens or mirror to produce a beam of light that be collimate and with a grate or a prism dispersion of the light occurs the eyepiece be use to focus and view the disperse spectrum the grate be a large number of very narrow slit equally space with separation a principal maximum occurs for light of wavelength when the phase difference between neighbour ray be an integer multiple of denote by this idea be outline by the follow equation where be the path difference be the order number and be the wavelength simplify this formula will give equation know a the grate equation the experimental procedure begin by set up the grate spectrometer our primary aim be to take measurement of the diffraction angle at each order number for the red and blue hydrogen spectral line and determine the average diffraction angle for each order number in order to determine the value of wavelength a straight line graph of against have to be drawn whose gradient would be equal to therefore enable u to calculate the value of sin at each diffraction order have to be determine by subtract the average diffraction angle at each specific order by the average angle at zeroth order and then take the sine of the difference between the two angle finally use formula the rydberg constant for each spectral line could be determine the diffraction angle be measure use the vernier scale that read at sixtieth of a degree there be a risk of random error appear when use the vernier scale due to parallax error through the use of the magnify glass the effect of parallax error be minimise the angle at zeroth order be determine for the red and blue spectral line the diffraction angle measurement be repeat three time at each order number and the average be take so that the reliability of our measurement could be enhance and so that random error could be encounter possible source of systematic error be humidity and background light permittivity of free space varies with humidity therefore this affect our value of the rydberg constant because the rydberg constant a show by formula and depends on the value of the permittivity of free space therefore systematic error be introduce in the experiment background light make our eye less sensitive therefore we can not see well hence we could end up miss line for the effect of background light on our measurement to be minimise a black card be take a hole be punch in it and the card be then stuck around the collimator another method we use to minimise the effect of background light be to cover the apparatus with a black cloth because it prevent the external light from go into the collimator and show up on the image after determine the average diffraction angle in each order number the follow formula have to be use to determine the value of sin which be the y coordinates for plot the sin against graph y coordinate where be the average diffraction angle at a specific order number and be the average angle at zeroth order a show by formula use python to carry out our calculation the average diffraction angle determine for each diffraction order be subtract with the average angle measure at zeroth order and then the sine of the difference between the angle be take after determine the value of sin for each order number a straight line graph of against be drawn use python with gradient equal to both the slope of the straight line for the two spectral line together with their associate uncertainty be determine use python thereby enable u to determine the wavelength use formula the rydberg constant for the red and blue spectral line be deduce to calculate the rydberg constant use formula for the two spectral line the balmer series transition be consider therefore use n and p for the calculation of the rydberg constant of the blue spectral line and n p for the rydberg constant determination of the red spectral line a sample calculation for the determination of the wavelength of the red spectral line be show where be the slope of the graph equal to and be the diffraction grate space use formula the calculate value of the rydberg constant for the red spectral line be the same method be use for the blue spectral line the slope of the straight line of best fit for the blue spectral line be where again both the slope together with it associate uncertainty be determine use python therefore for the blue spectral line be found to be and the calculate value of the rydberg constant be deduce a a representation of the data obtain for the blue and red spectral line be show by figure the uncertainty in our value be determine use python to calculate the standard error of the mean for each average value at each order number for each spectral line before calculate the standard error of the mean the standard deviation have to be calculate use the follow equation the sample standard deviation be define by where be the sample size equal to in our experiment since we repeat our diffraction angle measurement time for each order number be the sample mean in our case the average diffraction angle in each order number represent each of the value of the data in our case the diffraction angle in each order number use the standard deviation to estimate the uncertainty of each diffraction angle measure use the vernier scale the standard error of the mean could then be calculate the standard error of the mean be calculate use the follow formula the standard error of the mean be define by where be the standard deviation of the sample calculate use python be the sample size equal to in our case since diffraction angle measurement for each order number be repeat three time when the uncertainty in our average diffraction angle value at each order number for each spectral line be determine the uncertainty in our sin value could be determine by calculate the difference between the maximum and the minimum value of sin and then divide the result by this enable u to plot the vertical error bar represent the uncertainty in sin in python the uncertainty in sin can be calculate use where and be the maximum and minimum average diffraction angle respectively and and be the maximum and minimum average angle at zeroth order for each spectral line the maximum and minimum average diffraction angle at each order number be determine use the standard error of the mean of those angle which be equal to the uncertainty in those angle the calculation be carry out in python use the uncertainty in the value of sin the vertical error bar in the graph of sin against m correspond to those uncertainty be plot in python a show in figure this enable u use python to determine the uncertainty in the slope of each straight line so that it could be use to determine the overall uncertainty of the rydberg constant value of the red and blue spectral line in this experiment the line per mm grate be chosen instead of the and line per mm grate since although the narrower the slit the great the resolution of the line the line become much dimmer a the slit be close therefore to balance out these two consideration the line per mm grate be the most appropriate in this experiment enable u to take more measurement of the diffraction angle hence increase the reliability of our result by encounter random error the number of line per unit length of our slit in the begin be suppose to be line per mm but they be line per mm because it use an old definition of line per inch which be in imperial unit the line per inch approximate to line per mm to calculate the uncertainty in the follow method be use where and be the number of line and line respectively the uncertainty in be found to be m therefore our value of could be state a m m to determine the uncertainty in the be determine by where be the uncertainty in the slit separation value be the slit separation value be the uncertainty in the slope of the straight line of best fit of sin against and be the slope of this straight line it be possible to use quadrature to calculate the uncertainty in when the rydberg constant of the red and blue spectral line together with their correspond uncertainty be determine then the overall rydberg constant value could be calculate together with it uncertainty this can be do by calculate the weight average of the rydberg constant of the two spectral line and then find the uncertainty on the weight average the follow formula be use to calculate the weight average the weight average value of the rydberg constant of the two line be define by where be the rydberg constant of the red spectral line and it associate uncertainty be the rydberg constant of the blue spectral line and be it uncertainty to determine the uncertainty in the overall value of the rydberg constant deduce from the weight average of the rydberg constant of the two spectral line the follow equation be use where be the uncertainty in the rydberg constant of the red spectral line and be the uncertainty in the rydberg constant of the blue spectral line the overall value of the rydberg constant determine in the experiment use formula and formula be by observe the spectral line of hydrogen the value of the rydberg constant we obtain for the blue and red spectral line be and respectively the overall value of the rydberg constant determine from the weight average of the rydberg constant of the two spectral line be it uncertainty brings the measurement into the range cover the true value of rydberg constant of show that our measure value be compatible there could have be improvement on the method carry out to determine the rydberg constant even though we repeat our diffraction angle measurement time for each order number use the vernier scale to take measurement we could have repeat the angle measurement more time to encounter random error and make result more reliable the use of the magnify glass while take the diffraction angle measurement reduce the effect of parallax error therefore make our measurement more accurate during the experiment we try to reduce the effect of background light either by cover the apparatus use a black cloth or punch a hole in the middle of a black card and stick it around the collimator so that external light be prevent from enter the collimator and show up on the image background light could have be a source of systematic error by make our eye less sensitive make u not see properly and we could have widen the slit reduce uncertainty if i repeat the experiment i would take into account humidity and try to determine how much it affect our rydberg constant value because it varies with the value of the permittivity of free space that be include in the rydberg constant equation thereby introduce systematic error by affect the rydberg constant value by use the level i would ensure that the diffraction grate holder be level in all direction i would reduce any misalignment and use a sharper telescope in conclusion our overall value of the rydberg constant be highly precis show that this fundamental constant can be measure at a high precision a the rydberg constant be one of the best determine constant show by the extremely low uncertainty of it true value appendix table the data obtain from the blue hydrogen spectral line be show on the first column the order number be show on the second column the average diffraction angle measurement at each order number can be see the table be produce in microsoft excel table the data obtain from the red hydrogen spectral line be show on the first column the order number be show on the second column the average diffraction angle measurement at each order number can be see the table be construct in microsoft excel",
            "the experiment cover in this report be carry out to calculate the rydberg constant to a high degree of accuracy and precision the method apply involve use a diffraction grate to separate the wavelength of light from a hydrogen discharge tube and then observe the diffraction angle of the different wavelength use a spectrometer the spectral line in the visible light spectrum make up part of the balmer series for which the electron energy level transition be know therefore use the diffraction grate formula and rydberg formula the wavelength of the spectral line can be calculate and the rydberg constant can be determine the value we obtain for the rydberg constant be m give a percentage error of which show the high precision of our value this result be within of the correct value of m which show that it be also very accurate ohann balmer first discover an equation that could accurately predict the position of the visible spectral line for atomic hydrogen in he derive this equation empirically use measurement of hydrogen line in the solar spectrum just five year later johannes rydberg generalize this into a formula that could predict the wavelength of any of the line in the hydrogen emission spectrum and later it be extend for other hydrogen like ion that have a nucleus with one electron the spectral line described by balmer s equation be know a the balmer series five other spectral series for the emission spectrum of atomic hydrogen be later discover name after their correspond discoverer there be more series beyond this but these be unnamed all of these series have similar closely link equation which describe the position of the spectral line a outline by rydberg s general formula for all wavelength in the hydrogen emission spectrum however a theoretical understand of why these formula work do not arrive until niels bohr offer his model of the atom in in this model the electron in the hydrogen atom be say to occupy a discrete quantum energy level brought about by the electrostatic force between the electron and proton these energy state can be visualize a distinct orbit of the electron around the central nucleus the electron be capable of transition through energy state but since the energy of each state be fix only distinct jump correspond to specific energy can be make when hydrogen gas be heat to high temperature the electron will jump up from it original energy level to a high one this leaf the electron in an unstable state so it jump back down to it original position release a photon which have energy equivalent to the difference between the energy of the energy level each transition will always produce a photon of the same energy and wavelength so specific colour in the electromagnetic light spectrum can be observe and these line make up the hydrogen spectral series many model have be propose before this but bohr s model be rapidly accepted because it be the first one to account for the structure of the empirical rydberg formula his theory demonstrate how the rydberg formula reflect the discrete energy state transition of the electron in a hydrogen atom bohr be also able to define a constant within the rydberg formula know a the rydberg constant in term of more fundamental quantity be able to determine the rydberg constant accurately by experimental procedure be significant because hydrogen be the most abundant element in the universe and it spectral emission line from stellar object be observe and analyse frequently in optical astronomy the aim in this investigation be to determine an experimental value for the rydberg constant which be both accurate and precise have a low percentage error the spectrometry apparatus use in this experiment should have a high accuracy which should theoretically allow for the measurement for the value to a few part in a thousand each energy level of the hydrogen atom have a define associate energy for an electron occupy that level these level be represent by integer know a the principal quantum number the far the electron from the nucleus the large the number at it ground state n the electron be at it low possible energy level and be consider stable the electron can be raise to an excite state if energy be supply to it when the electron transition back down to the determine the rydberg constant use grate spectrometry j the intensity of maximum decrease with increase and through preliminary observation it can be quickly determine that the order of maximum can not be detect clearly above m therefore for each wavelength order of maximum will be measure on either side of the central maximum even though the balmer series consists of spectral line in the visible spectrum the shortest wavelength line be difficult to resolve due to background light and so be exclude the reference angle at which the diffraction angle be zero and the purple mixture of all the wavelength could be see be measure to be where represent one arcminute and be equivalent to of a degree the reading for be make when the crosshair be center in the middle of the spectral line each line have a measure thickness of which contributes an error of to another source of uncertainty arose from the difficulty in reading the vernier scale and the error for be approximate from the variation in repeat measurement which turn out to be therefore the standard error in the diffraction angle be estimate to be or and this error be propagate to give a standard error in sin and hence the error in the gradient and wavelength could be determine a potential source of systematic error in this experiment would be due to the refractive index of air since the rydberg formula calculates wavelength for light in a vacuum however since we have no method for measure the temperature or humidity of the laboratory environment it be difficult to estimate the refractive index of the air other factor that give rise to numerous possibility for systematic error include background light slit separation error and defocusing or misalignment of the spectrometer apparatus during experiment however it have be attempt to minimize or eliminate the effect of these factor a much a possible so we can therefore assume that their overall effect be negligible in our analysis the standard error for the rydberg constant for each wavelength be determine a follow the standard error of the mean for the rydberg constant could be found from the standard deviation of the value a rearrangement of show that the gradient of the line in fig can be use to calculate the wavelength of the spectral line a follow the diffraction grate have line per mm so the slit separation d can be calculate to be m table show the gradient of each straight line fit for the three wavelength of spectral line obtain from fig their correspond calculate wavelength and rydberg constant value with all associate error the final value of the rydberg constant be take a the mean average of these three value give r m the purpose of this experiment be to calculate the rydberg constant r to a high degree of accuracy and precision by reduce and eliminate the effect of systematic and random error through the experimental procedure and use of apparatus the value of the rydberg constant obtain have a percentage error of and be within of the correct value of the rydberg constant of m this show that our value be both accurate and precise and therefore our experiment successfully achieves the initial aim set out for the investigation our final outcome be significant because it show empirically that the experiment do match and reflect the underlie theory propose by bohr in his model for the atom it have also show that the experimental method we use be reliable and reproducible and that we be able to carry out the experiment to a high caliber with more time and resource available the experiment could have be improve far by make more measurement to reduce statistical uncertainty and more careful control or consideration of variable that could have add systematic error to our result",
            "a grate spectrometer be use to measure the wavelength of the most prominent spectral line produce by a hydrogen lamp the value obtain for the wavelength of h h and h be then use to calculate a value for the rydberg constant r this experiment result in a value for the rydberg constant a m a oppose to the literature value of m because it be expressible a a product of many of the fundamental constant of physic a a result many experiment have be devise and carry out to make it one of the most precisely know physical constant a this place constraint on the ratio of the quantity that define it in this experiment light emit by a hydrogen lamp be pas through a slit and then collimate before be diffract the angle through which each wavelength of light get diffract be measure for a many order a they remain visible fro m this data the wavelength of the light present in the spectrum can be calculate which in turn can be use to obtain a value for the rydberg constant r if a gas be electrically excite it emits radiation at a few specific well defined wavelength the wavelength that be present depend on the energy level within the atom of the substance produce the spectrum this be because a an electron transition from a high energy level to a low one it loses energy by emit a photon the energy of the photon be equal to the difference in energy between the two level if only one atom be present then only one emission lin e would be visible at any one time however a there be a copious amount of hydrogen all the emission line be present with differ intensity dictate by the relative abundance of atom in each initial state this ratio of the spectral line intensity be mostly dependent on the temperature of the gas emit the light for hydrogen the wavelength that comprise it emission spectrum be give by the remarkably simple rydberg formula be the wavelength of the emit light in m r be the rydberg constant in m n be the initial state of the hydrogen atom and p be the final state of the hydrogen atom both n and p be unitless integer a previously mention the rydberg constant can be express in term of many physical constant where be the fine structure constant which be unitless me be the mass of the electron in kg and h be planck s constant in j be also expressible a a product of several physical constant where e be the magnitude of the charge on an electron measure in c be the permittivity of free space in be the reduce planck s constant in j and c be the speed of light in free space in the balmer series be the spectral line in hydrogen emission spectrum that correspond to an electron transition from a high energy level n down to p the balmer series be use for this experiment because the wavelength of the first six spectral line be visible to the naked eyehowever h and h be consider ultraviolet a their wavelength be less than nm b spectrometer theory fu order for constmctive inte ference to occur v iith light p assing through adjacent slit the phase difference mst be an integer llllltiple n of n nn phase di f f erence path difference x equate nn to the path difference x v iith the path difference be give by d sin lead to where d be the slit separation of the diffraction grate in m be the angle at which the rmxiimm occurs and n be the order of the imxiimm ill method fu order to take reliable data v iith a grate spectrorreter all of the optic have to be align this involves focussng the telescope thecorrbination of the carrera and eyepiece a show in fig adjust the colli i mtor and ensure that the light be at nonml incidence to the diffraction grate firstly the eyepiece be focus on the cross hair so that the iimge be at a distance that didn t strain our eye when look through the telescope for long period of tiire tue carrera lens of the telescope then have to be focus so that there be no parallax between a distant iimge and the cross hair tue hydrogen ian be position close to the slit and the focus of the colli i mtor be then change to fonn a shaip iimge of the slit which be then align v iith the cross hair tue size of the slit be also adjust so that it be a thin a possible whilst still allow u see when the cross hair be align v iith it use the scale on the turntable the telescope be then rotate through so that it be then point pe pendicular to the colli i mtor a min or be then place on the diffraction grate m mnt and rotate until the iimge of the slit be centre on the cross hair tue diffraction grate m mnt be then rotate through so that the light from the colfumtor be now at nonml incidence to it tue miiror be replace on the stand by a diffraction grate the orientation of the diffraction grate then have to be adjust so that the iimge of the slit be ve t ical when view through the telescope tue telescope be then position so that the central rmxiimm be align v iith the cross hair and the reading on the vernier scale p be record tue grate spectrorreter be then use to reasure the angle at which each order appear for each wavelength until the spectral line be no longer visible tue angle p be then subtract from these value to obtain the angle through which each order have be diffract by the grate during the ei periirent three dis tinct colour of light be visib le red aqua and blue these equate to the first three hydrogen balrrer line ha and hy for the red and aqua light reading of the angle be take for the first order either side of the central rmximu m however v iith the blue light the thii d order be miss upon the analysis it becarre clear that this be because the angle that it should have be diffract by be ve y close to the angle obtain for the second order of the red lightv iithin approxirmtely therefore we could deduce that it have be drowned out by the red a the red light be by far the brighter of the two from eq it becorres apparent that there be a linear relationship between the order and the sine of the diffraction angle llllhiplied by the slit separation of the diffraction grate therefore plot a graph of d sin against order should give a straight line through the origin v iith the gradient be equal to the wavelength of the light use this method with our data result in value of h h and h a nm nm and nm respectively these value be all great than their literature value by a similar amount nm nm and nm this show that there be an error of a systematic nature that be affect our result there be many possible source of error in this experiment with two of the most influential be a misalignment of the spectrometer and the human error involve in reading the vernier scale other small source of error include the grate period and the fact that the refractive index of air be n t calculate a value for the rydberg constant with the value of each wavelength in turn result in r m r m and r m to obtain a final value for the rydberg constant the mean of the value obtain be take to find the uncertainty in this value the follow formula be use where m be the best estimate of the random error on the mean s be the sample standard deviation and n be the number of measurement this result in a value of the rydberg constant of m a percentage uncertainty of the accepted value of the rydberg constant be m with a relative standard uncertainty of the aim of the experiment be to obtain a value for the rydberg constant by measure the wavelength of the hydrogen balmer line use a grate spectrometer this result in a value for r of m a oppose to the literature value of m with a relative standard uncertainty of our value disagrees with the accepted value by which be outside our experimental uncertainty in a future similar experiment more preliminary data should be take and analyse a this would allow for systematic error to be low a the equipment could be reset if they be notice also more wavelength of light should be include a this will reduce the uncertainty in the final result",
            "the rydberg constant symbol r be measure use a grate spectrometer with a hydrogen lamp use a a source the wavelength of visible light emit by the hydrogen lamp be determine use simple diffraction grate theory which allow the value for r to be determine use the rydberg formula for hydrogen specifically the formula pertain to the balmer series in hydrogen this result in a value of m which corresponds to a fractional uncertainty of about part per thousand i n this experiment a grate spectrometer and a hydrogen lamp be use to study the emission spectrum of hydrogen the emission spectrum of hydrogen be due to atom transition between atomic energy level and can be broken down into distinct spectral series one of which be the balmer series the balmer series pertains to transition to the nd energy level from high energy level and be of interest since it also involves emission of wavelength within the visible spectrum the wavelength in the balmer series be determine by examine the diffraction of the wavelength due to the grate then by use the rydberg formula which relates the wavelength of photon emit and the energy level involve in the transition a value for the rydberg constant can therefore be obtain for a diffraction grate where m be an integer call the order number be the wavelength of the light passing through the grate d be the slit separation and be the angle between the diffract ray and the grate s normal vector in the bohr model of the atom electron orbit a positively charge nucleus where the electron can transition between stable circular orbit of different energy call energy level an atom can radiate energy in the form of a photon by an electron transition down from one energy level with energy to another with a low energy p for hydrogen like atom which only have one electron the transition wavelength of the photon emit be give by the rydberg formula in the case of hydrogen and the balmer series z and n so equation becomes the balmer formula where n have be replace with n the rydberg constant can be express a where be the fine structure constant m e be the mass of an electron c be the speed of light and h be planck s constant use this result in a predict value for r of about m this value can be insert into equation along with select value of n where n and be an integer to predict what wavelength be emit in the balmer series and their colour table above show these iii experimental method the grate spectrometer be set up a show in fig and calibrate with a sodium lamp a the light source and a grate with a space of line per inch a sodium lamp be use for calibration instead of a hydrogen lamp since the calibration require that the light source be switch on continuously for a period of time which would cause the hydrogen lamp to overheat have it be use after calibration the sodium lamp be switch with a hydrogen lamp when first view the emission spectrum it be observe that the visible spectral line be red aqua and blue correspond to n and respectively in the balmer series violet line correspond to n be visible but extremely faint therefore it be decide to collect data on only red aqua and blue line since it be thought that attempt to collect data on the violet line would be too time consume angle measurement be take one colour at a time begin with red then aqua and lastly blue since keep the hydrogen lamp for too long would cause it to overheat we take reading in time period minute long and allow it to cool for minute before take more reading the grate spectrometer be mount on a vernier scale which measure angle to the near arcminute or one sixtieth of a degree the scale be very difficult to read so a magnify glass be use to assist in this the angle at the zeroth order central maximum be measure for red line after which the telescope the camera and eyepiece would be turn until the next red line be encounter which then would be the angle at the first order maximum this would continue until no more red line would be visible at which point the telescope would be move back to the central maximum and the same process would be carry out in the other direction this time with the angle correspond a negative order this process would also be carry out for the aqua and blue line base on equation it can be see that by plot sin against m for line of a certain colour where would be the difference between the angle at central maximum and the angle at a certain order m a linear graph would be obtain where it gradient would be equal to d this mean that the wavelength of the light can be determine by multiply the gradient by the slit separation d figure be a plot of sin against order m for red aqua and blue line the gradient with their associate error of these line be and respectively multiply by slit separation d of about m we obtain the wavelength red nm aqua nm blue nm compare these wavelength to the predict value in table indicate that the red line in the balmer series very likely represent the transition of an electron from n the aqua line from n and the violet line from n would result in a linear graph with a gradient of r the rydberg constant fig and it gradient be equal to m therefore we have obtain the final value with uncertainty for the rydberg constant this represent a fractional uncertainty of part per thousand in comparison with the codata recommend value of m our obtain value be within percent but the recommend value do not fall within the experimental error bound this likely indicates that some source of error have not be take into account it take a long time for the grate spectrometer to be calibrate which be hamper by the spectral line gradually move below or above the line of sight of the telescope a increase this implies that there be a slant in some part of the grate spectrometer a a result only six reading be able to be take for each colour if more reading be take the error obtain could have be less moreover some systematic error be likely to have be introduce a a result of this misalignment another potential source for error from within the apparatus be if the grate and collimator or the camera and eyepiece be not perfectly parallel to the other this would result in deviation of the angle measure thereby contribute to the error the absolute error use for in the error analysis be arcminute since the vernier scale have an absolute error of arcminute and represent the difference between two reading despite this when take a reading from the vernier scale it be often difficult to decide which point on the vernier scale aligns with the main scale so the absolute error be probably underestimated the air density may be important since air can cause light to refract although over a short distance a in the spectrometer any error it contributes should be negligible in this report we examine the balmer series for hydrogen and present an experimentally obtain value for the rydberg constant which be reasonably close to the accepted value despited that the fractional uncertainty of three part per thousand be ten time the theoretical precision of three part per ten thousand for a grate spectrometer which be partly due to misalignment of the spectrometer moreover the accepted value be n t within the error bound obtain far indication that there be source of error not take into account or otherwise underestimated this experiment could be improve if the alignment of the spectrometer be improve a well a by take more reading",
            "through the use of a grate spectrometer with a grate of line per mm the diffraction angle of emission line from hydrogen lamp light where measure which allow the calculation of the rydberg constant the experimental value of be found to be m which have a difference from the accepted value the accepted value be not within the calculate error range for the experiment which be believe to be due to other source of error not account for the rydberg constant be a fundamental constant of physic and be formulate by physicist johannes rydberg in a part of the rydberg formula the rydberg formula be use to find the wavelength of a photon travel between energy level in an atom this be very significant a it allows for the calculation of the wavelength of an emit photon without know the value for the energy difference between these energy level in the atom in this experiment a grate spectrometer and a hydrogen lamp be use in order to measure the diffraction angle of emission line which be in turn use to find the wavelength of emit photon which could be use with the rydberg formula to calculate a value of the rydberg constant photon will be emit from a gas when it be hot a electron that have become excite to high energy level be prone to spontaneous emission in which the electron fall from a high energy level to a low energy level and emits a photon with energy equal to the difference in energy level when the difference in energy level be not know the rydberg formula can be employ to find the wavelength and in turn energy of the photon for a hydrogen atom this formula be where be the wavelength be the rydberg constant and n and p be initial and final state respectively of the electron this mean that be the final and initial state of the electron be know a value for the wavelength of an emit photon can be found each value of p have it own emission series and in this experiment a value of p be use a it be the balmer series in hydrogen in which the transition wavelength be in the visible part of the spectrum and so can be observe by eye a diffraction grate consist of n equally space slit be use to separate different wavelength of light and repeat principle maximum be produce due to constructive interference of the diffract light the follow equation hold for principal maximum of light through a diffraction grate where n be an integer now use we obtain measurement of the rydberg constant use the grate spectrometer where d be the slit separation which can be use to calculate the wavelength of the emit photon if the wavelength initial and final state be know then equation can be use to calculate the rydberg constant the grate spectrometer that be use for the data collection first require to be calibrate precisely this be do by first focus the eyepiece on the crosshair and then to focus the camera lens on an object approximately metre away next the crosshair be to be align with the image of the slit and the focus of the collimator adjust until a sharp image of the slit be focus at the crosshair the angle which the telescope be currently at be the initial angle and all record will be from this the telescope be then rotate degree clamped into position and a grate be put in the holder next the grate table be move until a reflect image of the entrance slit could be slit which meant that the grate surface be at a degree angle to the light from the collimator and the grate drive be use to adjust the slit image until it be at the crosshair the grate table and telescope be then move back and degree respectively to their original position so that the grate be now perpendicular to the light and the telescope be parallel to the collimator axis data be collect for different wavelength correspond to the colour red blue and violet with initial state n respectively the angle of each successive maximum on either side of the central maximum be measure use the vernier scale in the grate spectrometer for m for red emission line and m for violet and blue a the rd order be too faint to be accurately record repeat record be conduct with a different person to minimise systematic error the repeat record be use to calculate a mean diffract angle at each order of n from equation it be suggest that a graph of sin against n for each colour would yield straight line with gradient equal to where be the mean diffract angle with these value of an experimental value for the rydberg constant can be calculate use equation the grate use have line per mm which mean that the slit separation d m sin be plot a a function of n for all three colour use the data collect and a expect there be a linear correlation between the two variable and line of best fit be plot which be able to incorporate the majority of data point within their respective uncertainty for the red light the gradient of the line be calculate to be and the covariance matrix in be obtain begin to overheat also result in dimmer line and high error the aim of this experiment be to use the grate spectrometer to find value of the wavelength of blue red and violet light which in turn could be use in the rydberg formula to determine an experimental value for the rydberg constant the accepted value of the rydberg constant be and the final experimental value for the constant be avg m which be slightly low than the true value and there be a difference between avg and the accepted value it be likely that the reason for this be due to unaccounted error such a one described above and also the failure to set up the grate spectrometer adequately which would have lead to a systematic error in the record in addition to this despite the vernier scale be very precise it be often the case that there be a disagreement a to what value the vernier scale be display this be due to it be slightly ambiguous to know which mark be most line up between the vernier scale and the main scale and so incorporate this reading error would improve the credibility of the experimental result",
            "a hydrogen lamp be use to determine the rydberg constant which be have a commonly accepted value of x m this be do use a grate spectrometer where the diffraction grate which be use have line per millimetre the calibration of the spectrometer be do use a sodium lamp but a hydrogen lamp be use when collect data i calculate the rydberg constant to be x x m when an excite electron in an atom transition from a high energy level to a low energy level the change in energy be emit a a photon of specific wavelength which be give by e hf where h be planck s constant f be the frequency of the photon and e be the energy of the photon a diffraction grate diffracts light when it pas through and the relationship between the wavelength distance between the slit d and the angle of diffraction be give by dsin n when electron in hydrogen transition they wavelength be give by where r be the rydberg constant and n and p be the initial and final energy level respectively when a hydrogen lamp be use three colour be visible red purple and blue and these represent transition from n to p measurement of multiple order be take on both side of the zero order and this be use to find a wavelength for each colour use equation before take any measurement use the grate spectrometer it first have to be align and focus this be do use a sodium lamp when a lamp be require we first ensure that there be no parallax between the image and cross hair by focus the eyepiece and camera lens then the telescope be align to the normal by first find the reflect image of the entrance slit after place the diffraction in the holder then the telescope be move by degree and the angle be note a this be normal incidence and where the zero order should be finally the height of the image be adjust use the grate screw to ensure the image be at the right height for measurement and be not tilt which would affect the reading the setup can be see in figure below figure the figure above show the basic setup of the grate spectrometer where light come in from the source to the left the hydrogen lamp in this experiment the light pas through the collimator and then through the diffraction grate where it diffracts and the spectral line can be see through the telescope rotate the telescope clockwise show the negative order spectral line and the positive order line can be see by rotate the telescope anti clockwise collimator telescope positive order after note down the zero order angle the hydrogen lamp be use to obtain the first set of reading we decide that reading on both side of the zero order would be take to reduce the uncertainty in the experiment one set of positive and negative order measurement for one colour would be take by me and then the lamp would be allow to cool the second set of reading for the same colour would be take by my partner after the lamp be consider cool enough for use this process be use to obtain measurement for all three colour this ensure that any systematic error or bias when reading the scale due to a single person reading the scale would not carry over in the analysis of the result and into the final conclusion if the hydrogen lamp be switch on for long period of time it produce very blurry line to prevent this from affect measurement the lamp be switch off periodically and allow to cool when take measurement of the different colour and their respective order the centre of these band be difficult to determine and can easily produce large uncertainty this meant that our method of determine the angle have to be change and so we chose to select the edge of the band closest to zero order and use this a our reference point for each colour and order the angle that be collect in the measurement for each order and colour be then subtract from the zero order angle for each respective measurement and this angle be for each different order which be then substitute into equation where d be the diffraction grate have line per mm so d be lines per m this result in multiple wavelength for each colour red purple and blue so the average be take for each colour and this be the wavelength use to produce the final graph use equation a graph of wavelength be plot against n p and this be show in figure the graph have a gradient of x x and the intercept be x x from this we can deduce the rydberg constant r to be x m this be different from the commonly accepted value of x m and it could be due to multiple reason one reason could be that the measurement of the angle be not perfect and that there be inaccurate reading due to human error another possible cause could be the wrong alignment and focus of the grate spectrometer which could result in reading that be far from accurate a final cause for the discrepancy could be that due to the slightly blur line in the purple spectral line the edge be not a definitive a it be for the other colour and this could likely affect our reading and the error could propagate when calculate the line of best fit the aim of this experiment be to find the rydberg constant use a hydrogen lamp this be do by allow the light from the hydrogen lamp to pa through a grate spectrometer and the spectral line be observe and the figure the above graph show the correlation between wavelength and energy level transition the gradient of this graph represent the rydberg constant which be found to be x x and the intercept be x x angle measure so that a graph can be drawn and this can enable u to calculate the rydberg constant this experiment have many error which be not account for or prevent which produce some rather inaccurate result however our result calculate the rydberg constant to be x m ",
            "he rydberg constant be one of the most important constant of atomic physic because of it connection with the fundamental atomic constant e h me c and because of the high accuracy with which it can be determine the aim of this experiment be to produce a measurement for the rydberg constant use a pasco precision spectrometer this involve diffract light from a hydrogen discharge lamp connect to a power supply through a diffract grate the light produce by the lamp consists of photon with quantize wavelength correspond to the difference in the energy between the initial and final energy state of the atom the diffraction grate with a fix grate space cause these wavelength to spread out at angle with wavelength dependence to produce emission line spectrum which be visible through a telescope this set up enable u to determine the quantize wavelength from which we could then determine the rydberg constant the constant appear most notably in the bohr model of the atom to put it simply niels bohr postulate that the energy of an atom can take only certain value for which he won the nobel prize in when a photon of a particular energy be eject from an atom he found that the energy of the atom decrease by the same amount he reason that this be an atom make a transition to a low energy level with the energy of the photon equate the energy difference in the internal energy state of the initial and final state from the emission line spectrum he be able to deduce that many different wavelength be emit which correspond to the different transition between energy level in an atom and that the wavelength produce be unique to different element these transition be best described by electron transfer from a specific stable energy orbit about the nucleus of an atom to a low one because the same element produce the same emission line he be able to also determine that it be not possible for there to exist an atom in an energy state that be intermediate to two adjacent energy level the constant appear in the rydberg formula which calculates the theoretical wavelength that will be emit by an atom when it transition to a low energy level the hydrogen wavelength in the bohr model be give by where be the wavelength of the emit photon s be the initial energy state of the atom be the final energy state of the atom and be the rydberg constant this relationship know a the rydberg formula satisfies the wavelength emit by many different hydrogen series such a the lyman and brackett series which considers ultraviolet light not just the balmer series but for this experiment we only consider the visible spectrum produce in the balmer series for which use classical concept such a the approximate circular orbit of an electron around the atomic nucleus einstein s photoelectric effect and coulomb s law it can be show that the rydberg constant be also give by where be the mass of an electron be the charge on an electron be the permittivity of free space be plank s constant and be the speed of light use the know constant this yield a value of m a the colour produce in the balmer series be know by observation we can determine the initial energy state the atom be in prior to the emission of the photon for because the centre of the fringe be judged by the person look through the telescope there be an error in the angle of the angular width of the fringe the gradient of this linear graph be e m e m where the error in the gradient be obtain from the covariance matrix in jupyter notebook use we can calculate the value of by multiply the gradient by e m this yield a value for the wavelength of red light of nm nm red light be produce when the atom move from the rd energy state to the nd energy state therefore by use the rydberg constant be calculate to be e m e m where the percentage error in the rydberg constant be equal to the percentage error in the gradient similar data be produce for the blue emission line which be tabulate in table a graph of sin against order number for blue emission line be plot to obtain the follow linear fit the linear fit in fig have gradient e m e m where the error in the gradient be calculate use the covariance matrix in jupyter notebook the error in the ydirection corresponds to the value in the fourth column of table which be the error in the value of the angular displacement of the emission line from the central maximum use we calculate the wavelength of blue light to be nm nm the blue emission line of the blamer spectrum of hydrogen be produce when hydrogen atom transition from the th energy state to the nd energy state by substitute and the measure value of wavelength into the rydberg constant be measure to be e m e m where the percentage error in the rydberg constant be equal to the percentage error in the gradient similarly for violet light measurement for the angular displacement from central maximum and order number be take and tabulate in table table this display the angular displacement of each order of blue emission line in the balmer series from central maximum table this display the angular displacement of each order of violet emission line in the balmer series from central maximum",
            "the same set up be use a that in figure before the experiment could be carry out the spectrometer have to be accurately set up and calibrate with a sodium lamp before the hydrogen lamp be use to do this first the eye piece be focus onto the crosshair then use an object that be five to ten meter away the camera lens be focus so that there be no parallax between the image and the crosshair once this be do the spectrometer be set up in a straight configuration without any grate in the middle and the sodium lamp source be turn on then without adjust the camera the collimator be focus until a sharp image of the slit appear once this be do the grate then have to be accurately put in place the telescope the combination of camera and eyepiece be rotate through exactly degree and a grate be put in the holder the grate table be then turn until a reflect image of the entrance slit be see in the eye piece this show that the grate be at exactly degree use adjustment screw under the grate table the height of the grate be adjust so that the image of the slit be precisely at the cross hair a note be make of the reading on the scale and the grate be rotate through exactly degree to be align accurately with the incident ray from the collimator once this be do the spectrometer be set up and preliminary reading can be take on the sodium lamp to determine the accuracy the first order maximum on either side of the central maximum be measure at this be then use to calculate the wavelength of the spectral line which be nm when compare with the accepted value of this sodium spectral line an error of be found after this measurement of the rydberg constant could be take use the hydrogen lamp the hydrogen lamp be not a bright a the sodium lamp so the size of the slit be adjust until the best image of the spectral line be achieve a grate of line per mm be use first a note be take of what order the spectral line occur in and also how many of each line could be see then one specific colour be chosen and the spectrometer telescope be swung from left to right positive to negative order to measure the angle at which each occur it be ensure that the crosshair be in the center of the spectral line before a measurement of the angle be take this be then repeat for each colour of spectral line and for each a graph be plot of the sine of the angle against the order number make sure that the angle have be convert to radian this yield a straight line a can be see from equation that will have a gradient of the wavelength divide by the space of the slit the negative of the angle be use for the negative order so that it creates a straight line these value of wavelength that be achieve can then be use to numerically determine the rydberg constant through calculation these can then be average to obtain a since value and it error use equation displayed below in table be the data for the angle and order of the red spectral line since the scale on the spectrometer do n t start at for the central maximum the angle that be displayed be measure and from this the true angle subtend from the central maximum be determine this be the same for all the different spectral line displayed below in table be the data for the angle and order of the blue spectral line all these measurement be take use a vernier scale on the spectrometer this give them a reading error of or radian give the large percentage error of this value be negligible compare to the error that arises from the graph the data from these table be then use to plot three separate graph to calculate the wavelength these value be then use to calculate the rydberg constant in each case use equation where for each colour p red compound the error form these three value to obtain a total error for the final value be do by the aim of this experiment be to determine a value for the rydberg constant it be do by use a spectrometer to analyse the balmer series of hydrogen this allows for accurate value for the wavelength of the spectral line and these can then be use to calculate the rydberg constant numerically use the specific energy transition associate with the colour the value obtain for this be which be relatively accurate a it lie close to the accepted value of m although it could only be measure to three significant figure which therefore decrease the accuracy it be also precise with an error of this error could have be reduce with more accurate calibration of the equipment use the lithium lamp this would allow a more precise value to be obtain systematic error of the equipment be most likely the large source of error in this experiment along with make sure that the crosshair be in the spectrometer be directly in the middle of the spectral line",
            "he rydberg constant be deduce by the relationship between the transition wavelength and the energy level of the initial and final state of atom when there be an atom drop down from an energy level to another a photon with a specific wavelength will be give off the wavelength be observable hence they be in the visible spectrum to determine the wavelength a diffraction grate can be use the relationship between path difference order number and diffraction angle then can be use to deduce the wavelength with the use of a standard color spectrum chart the rydberg constant can then be calculate the diffraction grate can be consider a a large number n of narrow slit with width d equally space from fig it can be show that the path difference be dsin where be the angle of diffraction combine this with fig it be show that the principal maximum only occurs when the phase difference between neighbour ray of light be a whole number multiple m of determine the rydberg constant with the grate spectrometer t for hydrogen the relationship between the transition wavelength and energy level of the initial and final state n and p of the atom be give by where be the rydberg constant express the rydberg constant with more fundamental constant where be the fine structure constant the mass of the electron c the speed of light and h plank s constant note that be give by where be the of vacuum to measure the transition wavelength of hydrogen consider only the balmer series which be in the visible spectrum with p a show on fig a the final state be always on the second energy level and n a the initial state can be either of those energy level electron drop between energy level will give off a photon with exact wavelength correspond to the n and p value suppose an electron drop from n to p it can be say that the electron will give off a photon with specific wavelength of nm fig a representation of the energy level of electron in hydrogen with only the balmer series lay in the range of the visible spectrum and hence observable to human eye note that the balmer series be give by p and n this be say that electron drop from nth energy to the second p energy level be give off a photon with the wavelength correspond to the n value iii method first be to set up the grate spectrometer simply focus the telescope to a distance object make sure the x see through the telescope be very clear set up the hydrogen lamp and adjust the collimator so the x be on focus to the center of the strip of light through the slit adjust the angular scale and record the zero point for future reference place a total reflective mirror on the grate plate rotate the telescope degree from the zero point and rotate the grate plate so that the reflection of light from the mirror show the x at the center of the strip of light lock the grate plate and rotate degree back in the direction so that the collimator be parallel to the telescope and perpendicular to the grate plate with the diagram on the top show single strip from the continuous visible spectrum below so through the spectrometer there will be brighter strip of color visible in the continuous spectrum form by the grate define the center with no diffraction a order number move to the left or right with increase integer number i e m etc in order to calculate the transition wavelength measure the diffraction angle through the telescope relate to fig rotate the telescope until the x be at the center of the brighter strip of light to record the angle repeat the process for different order number plot a graph of the sine of the diffraction angle against order number relate to equation the transition wavelength can be found relate to the balmer series value of n can be determine and hence the value of the rydberg constant result i have plot graph of sine of the diffraction angle against order number in python a the error be relatively small it can not be see on the graph the gradient include the error calculate by python be show below the error in gradient be convert into the error in the wavelength by use the relationship the error in the constant be calculate by combine the two result i get there can be improvement in determine the error in the diffraction angle by consider the width of the strip of light a it be difficult to get the x in the telescope exactly at the center it be worth measure the angle of diffraction of the width at both the left and right boundary of the strip the resolution of the spectrometer can contribute greatly to a systematic error the error in the measure instrument can be determine by do a test when the maximum of one diffraction pattern occurs at the same position a the maximum of another pattern the grate spectrometer be an extremely accurate measure apparatus allow angle measurement precise a arcminute by use the principle of the diffraction grate and the energy level of hydrogen a quite accurate value of the rydberg constant be calculate the hydrogen lamp be quite easily over heated result in the use of multiple different hydrogen lamp within the measure process this potentially introduce more uncertainty and could be avoid with more care on the time of usage of the lamp the experiment could also be repeat several time in order to reduce the potential error in the process of observe the diffraction pattern there be many external light source come from the background result in extra light strip be introduce this increase the chance of measure the wrong light strip and could be reduce by cover the light source and block all the light come into the telescope",
            "the rydberg constant be calculate by observe the balmer series of hydrogen a hydrogen lamp be observe through a grate spectrometer upon which the wavelength of the colour observe be measure use which the rydberg constant could be calculate only the first balmer line h and h be intense enough to be observe and the rydberg constant be separately calculate for each with the h line the rydberg constant be calculate to be m the theoretical value of refer to theory section for derivation of theoretical value do not lie in the error range although the calculate value be off only by with the h the rydberg constant be calculate to be m the theoretical value of m do not lie in the error range although the calculate value be off only by this aim of this experiment be to determine the rydberg constant use a grate spectrometer the rydberg constant be an important constant in bohr s model of the atom the constant can be use to calculate produce when an electron transit from a high orbital to a low one in a hydrogen or a hydrogen like atom the rydberg constant be calculate theoretically use simultaneous equation of electrostatic attraction and the quantisation of the angular momentum of an electron the grate spectrometer be use in this experiment a grate spectrometer u a lens or mirror to form a collimate beam of light from a source and then disperse it with a grate it be use for produce spectral line from a light source and measure their intensity and wavelength hot or electrically excite gas emit spectrum concentrate at a few wavelength in this experiment a grate spectrometer be use to observe a hydrogen lamp and calculate the wavelength of the spectral line observe for simplicity only the balmer series be analyse a they lie in the visible spectrum only two spectral line be observe the two line be red and blue with the red line be more intense hence we deduce that the red line be h to and the blue line be h to a the former be more probable than the other and the remain balmer line be not intense enough to be observe a their transition be very improbable use this data the rydberg constant can be calculate for each balmer line observe a grate be a large number of slit equally space separate by a distance d light passing through a grate hence undergoes diffraction for a light of wavelength a principal maximum occurs when phase difference between two ray be an integral multiple n of in the case of neighbour beam from the figure one see that the path difference be dsin hence the spectrometer be use to measure different value sin correspond to their respective value of n the value of d depends on the grate use hence use the data from the spectrometer and equation a the wavelength of light can be calculate the grate constant n implies that there be n number of slit per unit length hence the distance between each slit be the inverse of the grate constant the wavelength can then be substitute into the rydberg formula state in the theory section and the rydberg constant can be calculate one must deduce the value of n and p for the various balmer line observe base on their relative intensity the improbability of a transition be proportional to how large the transition be hence reduce the intensity of light observe a the transition get high upon my lab partner and i take two individual reading for every fringe the maximum difference between our reading be minute degree hence error in the angle measurement be degree the value of angle in degree be know to significant digit hence all value will be write upto significant digit with the error in angle be know we can calculate the error associate with sin use the error propagation hence wavelength slope substitute into rydberg s formula with n and p explain in theory section r m although the theoretical value of do not lie within the error range of the calculate value it closely match the calculate value and be off only by the graph below illustrates the data obtain for the h line value of slope obtain in this graph be hence wavelength slope substitute into rydberg s formula with n and p explain in theory section r m although the theoretical value of do not lie within the error range of the calculate value it closely match the calculate value and be off only by in this report we have present the calculation of rydberg s constant by the method of spectrometry a hydrogen lamp be observe through a grate spectrometer upon which the wavelength of the balmer line observe be measure use which the rydberg constant could be estimate the experiment be a success in that the calculate value of rydberg constant be inaccurate only by but the theoretical value do not lie in the error range of the calculate value this experiment be very useful and important because it taught u to use a spectrometer which be a very important instrument and have a wide number of u in various field it be also one of the most accurate instrument in the laboratory this experiment could be improve if the telescope have a high resolve power so the crosshair can be place more accurately by reduce ambient light the slit can be small in size thereby make measurement more accurate"
           ],
           [
            "bal",
            "bal",
            "the",
            "bal",
            "the",
            "the",
            "bal",
            "the",
            "bal",
            "bal"
           ],
           [
            "extended",
            "deep",
            "superficial",
            "deep",
            "extended",
            "superficial",
            "superficial",
            "superficial",
            "superficial",
            "extended"
           ]
          ]
         },
         "columnwidth": [
          300,
          40,
          40
         ],
         "header": {
          "fill": {
           "color": "lightgrey"
          },
          "font": {
           "size": 14
          },
          "height": 48,
          "line": {
           "color": "black"
          },
          "values": [
           "<b>Document Identification</b>",
           "<b>Epistemology</b>",
           "<b> Argument Level </b>"
          ]
         },
         "type": "table"
        }
       ],
       "layout": {
        "template": {
         "data": {
          "bar": [
           {
            "error_x": {
             "color": "#2a3f5f"
            },
            "error_y": {
             "color": "#2a3f5f"
            },
            "marker": {
             "line": {
              "color": "#E5ECF6",
              "width": 0.5
             },
             "pattern": {
              "fillmode": "overlay",
              "size": 10,
              "solidity": 0.2
             }
            },
            "type": "bar"
           }
          ],
          "barpolar": [
           {
            "marker": {
             "line": {
              "color": "#E5ECF6",
              "width": 0.5
             },
             "pattern": {
              "fillmode": "overlay",
              "size": 10,
              "solidity": 0.2
             }
            },
            "type": "barpolar"
           }
          ],
          "carpet": [
           {
            "aaxis": {
             "endlinecolor": "#2a3f5f",
             "gridcolor": "white",
             "linecolor": "white",
             "minorgridcolor": "white",
             "startlinecolor": "#2a3f5f"
            },
            "baxis": {
             "endlinecolor": "#2a3f5f",
             "gridcolor": "white",
             "linecolor": "white",
             "minorgridcolor": "white",
             "startlinecolor": "#2a3f5f"
            },
            "type": "carpet"
           }
          ],
          "choropleth": [
           {
            "colorbar": {
             "outlinewidth": 0,
             "ticks": ""
            },
            "type": "choropleth"
           }
          ],
          "contour": [
           {
            "colorbar": {
             "outlinewidth": 0,
             "ticks": ""
            },
            "colorscale": [
             [
              0,
              "#0d0887"
             ],
             [
              0.1111111111111111,
              "#46039f"
             ],
             [
              0.2222222222222222,
              "#7201a8"
             ],
             [
              0.3333333333333333,
              "#9c179e"
             ],
             [
              0.4444444444444444,
              "#bd3786"
             ],
             [
              0.5555555555555556,
              "#d8576b"
             ],
             [
              0.6666666666666666,
              "#ed7953"
             ],
             [
              0.7777777777777778,
              "#fb9f3a"
             ],
             [
              0.8888888888888888,
              "#fdca26"
             ],
             [
              1,
              "#f0f921"
             ]
            ],
            "type": "contour"
           }
          ],
          "contourcarpet": [
           {
            "colorbar": {
             "outlinewidth": 0,
             "ticks": ""
            },
            "type": "contourcarpet"
           }
          ],
          "heatmap": [
           {
            "colorbar": {
             "outlinewidth": 0,
             "ticks": ""
            },
            "colorscale": [
             [
              0,
              "#0d0887"
             ],
             [
              0.1111111111111111,
              "#46039f"
             ],
             [
              0.2222222222222222,
              "#7201a8"
             ],
             [
              0.3333333333333333,
              "#9c179e"
             ],
             [
              0.4444444444444444,
              "#bd3786"
             ],
             [
              0.5555555555555556,
              "#d8576b"
             ],
             [
              0.6666666666666666,
              "#ed7953"
             ],
             [
              0.7777777777777778,
              "#fb9f3a"
             ],
             [
              0.8888888888888888,
              "#fdca26"
             ],
             [
              1,
              "#f0f921"
             ]
            ],
            "type": "heatmap"
           }
          ],
          "heatmapgl": [
           {
            "colorbar": {
             "outlinewidth": 0,
             "ticks": ""
            },
            "colorscale": [
             [
              0,
              "#0d0887"
             ],
             [
              0.1111111111111111,
              "#46039f"
             ],
             [
              0.2222222222222222,
              "#7201a8"
             ],
             [
              0.3333333333333333,
              "#9c179e"
             ],
             [
              0.4444444444444444,
              "#bd3786"
             ],
             [
              0.5555555555555556,
              "#d8576b"
             ],
             [
              0.6666666666666666,
              "#ed7953"
             ],
             [
              0.7777777777777778,
              "#fb9f3a"
             ],
             [
              0.8888888888888888,
              "#fdca26"
             ],
             [
              1,
              "#f0f921"
             ]
            ],
            "type": "heatmapgl"
           }
          ],
          "histogram": [
           {
            "marker": {
             "pattern": {
              "fillmode": "overlay",
              "size": 10,
              "solidity": 0.2
             }
            },
            "type": "histogram"
           }
          ],
          "histogram2d": [
           {
            "colorbar": {
             "outlinewidth": 0,
             "ticks": ""
            },
            "colorscale": [
             [
              0,
              "#0d0887"
             ],
             [
              0.1111111111111111,
              "#46039f"
             ],
             [
              0.2222222222222222,
              "#7201a8"
             ],
             [
              0.3333333333333333,
              "#9c179e"
             ],
             [
              0.4444444444444444,
              "#bd3786"
             ],
             [
              0.5555555555555556,
              "#d8576b"
             ],
             [
              0.6666666666666666,
              "#ed7953"
             ],
             [
              0.7777777777777778,
              "#fb9f3a"
             ],
             [
              0.8888888888888888,
              "#fdca26"
             ],
             [
              1,
              "#f0f921"
             ]
            ],
            "type": "histogram2d"
           }
          ],
          "histogram2dcontour": [
           {
            "colorbar": {
             "outlinewidth": 0,
             "ticks": ""
            },
            "colorscale": [
             [
              0,
              "#0d0887"
             ],
             [
              0.1111111111111111,
              "#46039f"
             ],
             [
              0.2222222222222222,
              "#7201a8"
             ],
             [
              0.3333333333333333,
              "#9c179e"
             ],
             [
              0.4444444444444444,
              "#bd3786"
             ],
             [
              0.5555555555555556,
              "#d8576b"
             ],
             [
              0.6666666666666666,
              "#ed7953"
             ],
             [
              0.7777777777777778,
              "#fb9f3a"
             ],
             [
              0.8888888888888888,
              "#fdca26"
             ],
             [
              1,
              "#f0f921"
             ]
            ],
            "type": "histogram2dcontour"
           }
          ],
          "mesh3d": [
           {
            "colorbar": {
             "outlinewidth": 0,
             "ticks": ""
            },
            "type": "mesh3d"
           }
          ],
          "parcoords": [
           {
            "line": {
             "colorbar": {
              "outlinewidth": 0,
              "ticks": ""
             }
            },
            "type": "parcoords"
           }
          ],
          "pie": [
           {
            "automargin": true,
            "type": "pie"
           }
          ],
          "scatter": [
           {
            "fillpattern": {
             "fillmode": "overlay",
             "size": 10,
             "solidity": 0.2
            },
            "type": "scatter"
           }
          ],
          "scatter3d": [
           {
            "line": {
             "colorbar": {
              "outlinewidth": 0,
              "ticks": ""
             }
            },
            "marker": {
             "colorbar": {
              "outlinewidth": 0,
              "ticks": ""
             }
            },
            "type": "scatter3d"
           }
          ],
          "scattercarpet": [
           {
            "marker": {
             "colorbar": {
              "outlinewidth": 0,
              "ticks": ""
             }
            },
            "type": "scattercarpet"
           }
          ],
          "scattergeo": [
           {
            "marker": {
             "colorbar": {
              "outlinewidth": 0,
              "ticks": ""
             }
            },
            "type": "scattergeo"
           }
          ],
          "scattergl": [
           {
            "marker": {
             "colorbar": {
              "outlinewidth": 0,
              "ticks": ""
             }
            },
            "type": "scattergl"
           }
          ],
          "scattermapbox": [
           {
            "marker": {
             "colorbar": {
              "outlinewidth": 0,
              "ticks": ""
             }
            },
            "type": "scattermapbox"
           }
          ],
          "scatterpolar": [
           {
            "marker": {
             "colorbar": {
              "outlinewidth": 0,
              "ticks": ""
             }
            },
            "type": "scatterpolar"
           }
          ],
          "scatterpolargl": [
           {
            "marker": {
             "colorbar": {
              "outlinewidth": 0,
              "ticks": ""
             }
            },
            "type": "scatterpolargl"
           }
          ],
          "scatterternary": [
           {
            "marker": {
             "colorbar": {
              "outlinewidth": 0,
              "ticks": ""
             }
            },
            "type": "scatterternary"
           }
          ],
          "surface": [
           {
            "colorbar": {
             "outlinewidth": 0,
             "ticks": ""
            },
            "colorscale": [
             [
              0,
              "#0d0887"
             ],
             [
              0.1111111111111111,
              "#46039f"
             ],
             [
              0.2222222222222222,
              "#7201a8"
             ],
             [
              0.3333333333333333,
              "#9c179e"
             ],
             [
              0.4444444444444444,
              "#bd3786"
             ],
             [
              0.5555555555555556,
              "#d8576b"
             ],
             [
              0.6666666666666666,
              "#ed7953"
             ],
             [
              0.7777777777777778,
              "#fb9f3a"
             ],
             [
              0.8888888888888888,
              "#fdca26"
             ],
             [
              1,
              "#f0f921"
             ]
            ],
            "type": "surface"
           }
          ],
          "table": [
           {
            "cells": {
             "fill": {
              "color": "#EBF0F8"
             },
             "line": {
              "color": "white"
             }
            },
            "header": {
             "fill": {
              "color": "#C8D4E3"
             },
             "line": {
              "color": "white"
             }
            },
            "type": "table"
           }
          ]
         },
         "layout": {
          "annotationdefaults": {
           "arrowcolor": "#2a3f5f",
           "arrowhead": 0,
           "arrowwidth": 1
          },
          "autotypenumbers": "strict",
          "coloraxis": {
           "colorbar": {
            "outlinewidth": 0,
            "ticks": ""
           }
          },
          "colorscale": {
           "diverging": [
            [
             0,
             "#8e0152"
            ],
            [
             0.1,
             "#c51b7d"
            ],
            [
             0.2,
             "#de77ae"
            ],
            [
             0.3,
             "#f1b6da"
            ],
            [
             0.4,
             "#fde0ef"
            ],
            [
             0.5,
             "#f7f7f7"
            ],
            [
             0.6,
             "#e6f5d0"
            ],
            [
             0.7,
             "#b8e186"
            ],
            [
             0.8,
             "#7fbc41"
            ],
            [
             0.9,
             "#4d9221"
            ],
            [
             1,
             "#276419"
            ]
           ],
           "sequential": [
            [
             0,
             "#0d0887"
            ],
            [
             0.1111111111111111,
             "#46039f"
            ],
            [
             0.2222222222222222,
             "#7201a8"
            ],
            [
             0.3333333333333333,
             "#9c179e"
            ],
            [
             0.4444444444444444,
             "#bd3786"
            ],
            [
             0.5555555555555556,
             "#d8576b"
            ],
            [
             0.6666666666666666,
             "#ed7953"
            ],
            [
             0.7777777777777778,
             "#fb9f3a"
            ],
            [
             0.8888888888888888,
             "#fdca26"
            ],
            [
             1,
             "#f0f921"
            ]
           ],
           "sequentialminus": [
            [
             0,
             "#0d0887"
            ],
            [
             0.1111111111111111,
             "#46039f"
            ],
            [
             0.2222222222222222,
             "#7201a8"
            ],
            [
             0.3333333333333333,
             "#9c179e"
            ],
            [
             0.4444444444444444,
             "#bd3786"
            ],
            [
             0.5555555555555556,
             "#d8576b"
            ],
            [
             0.6666666666666666,
             "#ed7953"
            ],
            [
             0.7777777777777778,
             "#fb9f3a"
            ],
            [
             0.8888888888888888,
             "#fdca26"
            ],
            [
             1,
             "#f0f921"
            ]
           ]
          },
          "colorway": [
           "#636efa",
           "#EF553B",
           "#00cc96",
           "#ab63fa",
           "#FFA15A",
           "#19d3f3",
           "#FF6692",
           "#B6E880",
           "#FF97FF",
           "#FECB52"
          ],
          "font": {
           "color": "#2a3f5f"
          },
          "geo": {
           "bgcolor": "white",
           "lakecolor": "white",
           "landcolor": "#E5ECF6",
           "showlakes": true,
           "showland": true,
           "subunitcolor": "white"
          },
          "hoverlabel": {
           "align": "left"
          },
          "hovermode": "closest",
          "mapbox": {
           "style": "light"
          },
          "paper_bgcolor": "white",
          "plot_bgcolor": "#E5ECF6",
          "polar": {
           "angularaxis": {
            "gridcolor": "white",
            "linecolor": "white",
            "ticks": ""
           },
           "bgcolor": "#E5ECF6",
           "radialaxis": {
            "gridcolor": "white",
            "linecolor": "white",
            "ticks": ""
           }
          },
          "scene": {
           "xaxis": {
            "backgroundcolor": "#E5ECF6",
            "gridcolor": "white",
            "gridwidth": 2,
            "linecolor": "white",
            "showbackground": true,
            "ticks": "",
            "zerolinecolor": "white"
           },
           "yaxis": {
            "backgroundcolor": "#E5ECF6",
            "gridcolor": "white",
            "gridwidth": 2,
            "linecolor": "white",
            "showbackground": true,
            "ticks": "",
            "zerolinecolor": "white"
           },
           "zaxis": {
            "backgroundcolor": "#E5ECF6",
            "gridcolor": "white",
            "gridwidth": 2,
            "linecolor": "white",
            "showbackground": true,
            "ticks": "",
            "zerolinecolor": "white"
           }
          },
          "shapedefaults": {
           "line": {
            "color": "#2a3f5f"
           }
          },
          "ternary": {
           "aaxis": {
            "gridcolor": "white",
            "linecolor": "white",
            "ticks": ""
           },
           "baxis": {
            "gridcolor": "white",
            "linecolor": "white",
            "ticks": ""
           },
           "bgcolor": "#E5ECF6",
           "caxis": {
            "gridcolor": "white",
            "linecolor": "white",
            "ticks": ""
           }
          },
          "title": {
           "x": 0.05
          },
          "xaxis": {
           "automargin": true,
           "gridcolor": "white",
           "linecolor": "white",
           "ticks": "",
           "title": {
            "standoff": 15
           },
           "zerolinecolor": "white",
           "zerolinewidth": 2
          },
          "yaxis": {
           "automargin": true,
           "gridcolor": "white",
           "linecolor": "white",
           "ticks": "",
           "title": {
            "standoff": 15
           },
           "zerolinecolor": "white",
           "zerolinewidth": 2
          }
         }
        },
        "title": {
         "text": "Topic 0: ['value', 'line', 'wavelength', 'constant', 'error', 'light', 'grate', 'energy', 'order', 'calculate']"
        }
       }
      }
     },
     "metadata": {},
     "output_type": "display_data"
    },
    {
     "data": {
      "application/vnd.plotly.v1+json": {
       "config": {
        "plotlyServerURL": "https://plot.ly"
       },
       "data": [
        {
         "cells": {
          "align": [
           "center",
           "center",
           "center",
           "left",
           "left"
          ],
          "fill": {
           "color": "white"
          },
          "font": {
           "size": 12
          },
          "height": 48,
          "line": {
           "color": "black"
          },
          "values": [
           [
            "correction of the systematic error due to a slow move v pimag linear stage in the scope of interferometry abstract this paper present the correction of the systematical error cause by a v pimag linear stage use at speed between nm s and nm s in an interferometry experiment the presence of a position dependent pattern in the value of the wavelength be highlight an estimation of the correction require be make from a reference data set do with a green laser of know wavelength this correction be apply to set of data perform over the same range with different source and the stage move at different speed correct set of data present standard deviation on the mean wavelength between nm and nm with an average of nm the average error on the wavelength due to the wrong position of the stage be calculate a nm more specifically the correct data set for the mercury light display two clear peak at nm and nm the expect ray in the yellow region of mercury s spectrum have value nm nm and nm the correction be not precise enough to distinguish the doublet in the second ray of the spectrum but the observe peak do include both theoretical value within it margin of error the correction present be highly relevant since these line be not distinguishable from the original data set which present a single estimate of the wavelength at nm i nterferometry be one of the most powerful technique available to modern physicist with a standard apparatus this technique allows distance measurement of the order of a few nanometre when use with monochromatic high frequency laser and appropriate optical element the resolution achieve by an interferometer exceeds any other technique in a shrink in the space time fabric of m due to the collision of two black hole be make by the laser interferometer gravitational wave observatory ligo this detection lead to the discovery of gravitational wave however any apparatus be only a good a it weak component whose quality be often limited by it price in a teach laboratory for example resource be limited and obviously ligo s level of precision be completely out of reach for any laboratory with a university sized budget yet it be possible within a certain limit to correct for systematical error induced by faulty equipment this paper will investigate how to increase the precision of an interferometer without increase the price by consider how the accuracy of it less reliable component a v pimag linear stage can be increase the experiment relies on the interference of two coherent beam of light the analysis of the interference of the beam be make by vary the path difference between the beam by slowly move one of the mirror from which the light reflect the intensity of the result beam a a function of the path difference of the beam be then collect and analyse if the path difference be an integer multiple of the wavelength then the interference be constructive and the intensity observe be maximal for a path difference equal to an half integer multiple of the wavelength the interference be destructive and the light have minimal intensity for a give setup it be very useful to define the null point this corresponds to the position of the move mirror such that the path difference be zero between the two beam ideally the null point should lie at the centre of the stage to allow the large range of motion and hence data collection around the null point when the move mirror be at the null point all wavelength present in the source interfere constructively with one another example of interference pattern can be see in fig it be possible to extract the different frequency present in a light source from it interferogram assume the law of superposition and that the electric field be a real quantity it can be show that this process involves a fourier transform of the form where b be the flux density correspond to the wave number i r be the flux of light a a function of the path difference between the two beams and i r be the flux of light measure when the move mirror be at the null point apply equ to an interferogram reveals the wavelength correspond to wavenumbers present in the light source upon collect data it be very important tomake the interference pattern visible a few data point have to be record within a period of the wave to insure fidelity to the analog signal and to minimize sample effect for a stage travel at speed s and a detector collect data at a frequency f the distance travel by the stage between two record point be accord to the nyquist theorem a discrete signal contains all the information of an analog signal if the sample frequency f s be great than half of the high frequency present in the analog signal the correspond equation be be f max be the high frequency present in the source s light note that for a monochromatic electromagnetic wave the only frequency f max present in the signal be related to the wavelength by f max c rearrange eq one can find the maximal distance between consecutive point in the sample such that the discrete signal complies with nyquist s sample theorem combine this with eq we find the high speed s max at which the stage can travel so that the record signal be akin to the analogous signal use the follow equation be f be the sample frequency and be the light s wavelength the set up use corresponds to a michelson interferometer and be base on thorlab s edu mint kit the source use in this experiment be a green laser of wavelength nm experimentally verify and a mercury lamp with a yellow filter the light be divide by the beamsplitter and reflect by two mirror one fix and the another attach to a computer control move stage before be re combined and measure by the detector a picture of the set up can be see in fig when use the green laser the yellow filter be remove and the mercury lamp exchange for the green laser fix to a convex lens the laser be directly fix to the arm of the beamsplitter to ensure that the alignment and the amount of light receive be optimal the mirror be carefully align face the appropriate side of the beamsplitter so that the two path be perpendicular the set up be construct so that the light hit each mirror a close to it centre a possible to reduce any error due to potential curvature of these mirror the move stage use be the v pimag linear stage accord to the data sheet it minimum incremental motion be nm the detector use be a silicon pin photodiode model sfh which be most efficient between wavelength of nm and nm the sample frequency of the detector use be hz which implies by eq that all measurement have to be do with a stage move slow than m s for high accuracy the speed of the stage be set between m s and m s because of the sample frequency this corresponds distance between consecutive point of nm to nm this low bound be chosen to investigate how much the stage movement be affected by it speed be slow than the recommend limit a second factor for choose this range of speed be the time constraint one of the aim of this set up be to estimate the spectrum of light emit by various source an easy way to estimate the mean wavelength of a signal be to manually measure the distance between the node in the interferogram the mean distance between the node be equal to half of the mean wavelength measure the mean distance between node in the interferogram for mercury light with a yellow filter yield wavelength of nm for accuracy the period measure be take roughly uniformly along the interferogram this method be quite inaccurate due to subjectivity in the location of the node and it be expect that the compute calculation of the wavelength present in fig should be more precise and more accurate the spread in estimate wavelength for this preliminary data be approximately nm and it mean value be nm this value be well in agreement with the manually measure value and be much more precise however the error on this measurement be large for a high precision interferometer and a good proportion of line in atomic spectrum can not be correctly discern with such a high error the pattern that arises in fig c could imply a error due to the position of the stage theoretically the value of the calculate wavelength should be indeed independent of the stage s position if the latter move uniformly and return correctly the value of it position the estimate wavelength should also be independent of the stage s speed assume this obeys eq compare result with other group and other set of data indicate that this pattern arose in any set of data and that this error could potentially affect all the motor stage it be therefore decide to investigate this phenomenon and the green laser be chosen over the other source for quantitative analysis because it light be close to monochromatic and have a know wavelength a mention in the previous section a recognizable pattern appear when fitting the wavelength a show in fig c the estimation of the wavelength seem to be dependant on position of the stage figure show the superposition of these pattern for run do over the same range but at different speed with the green laser qualitatively it be quite straightforward to see that the pattern be independent of the speed of the stage it be important to note that run do at m s correspond to a distance between sample of nm displayed the same pattern a set of data do with sample distance of nm nm and nm the hypothesis that the stage s limit distance between sample be nm a state on it data sheet can therefore be seriously doubt for reference the wavelength of this pattern be measure a m secondly it be important to ensure that the observe pattern be only due to the stage and not the source use figure present the estimation of the source s mean wavelength a a function of the stage s position for the green laser and the mercury lamp with a yellow filter it should be notice that the be present in both data set but only shift vertically this be completely expect since the green laser have a mean wavelength of nm whereas the yellow filter use with the mercury lamp only transmits light of wavelength between nm and nm figure hint that the fault in the stage affect the precision of the result but not their accuracy calculate the mean wavelength and standard deviation of each set of wavelength give nm for the green laser and nm for the mercury lamp finally the data set present in fig and be collect over the period of a few day during which the stage have be remove and put back into the system the stage s error can not therefore be explain by a faulty fix of the stage to it support to account for the error cause by the stage it be chosen to base the correction on a single set of reference data collect with the green laser the position be then adjust for the calculate wavelength to match the accepted value a accurately and a precisely a possible the parameter of this correction be then use for correct any set of overlap data a the error be dependent only on the position of the stage the hypothesis chosen for the fitting be that the record position lag behind the true position by a scale factor this hypothesis be in line with the data take but it physical explanation be still unclear to correct this the program function with a small section of the sample correspond to a few period of the interferogram a sinusoidal function be then fit to this data and the optimization parameter be save because the position be record after the correspond data the wavelength of the signal be modify the correction of the position follow a scale equation where x the correct position of the signal be give by where x be the uncorrected position laser be the know value of wavelength of the test run f itted be the wavelength calculate for this small section of data point x p corr be the first uncorrected point of this section of data and x be the last correct point of the previous section of point a the parameter x p corr f itted and x be save it be then simple to correct any point by apply the correction give in eq with the fitting parameter correspond to the region of space in which this specific point lie result of these fit be present in the next section multiple test be undertaken to verify the validity of the calculate correction test with the green laser firstly set of data take with the green laser a the source over the same range of distance but at different speed be correct use the fitting parameter calculate from another set of data take again over the same range and in the same direction plot show the calculate wavelength for the same set of data correct and uncorrected set be present in fig from this plot it be clear that the beating in the plot of wavelength against the position be remove the mean error in wavelength be nm which be low than the mean error for the unfitted data set which be nm in average the mean of the wavelength be approximately equal to that in the unfitted case from these observation we can infer that the fit be efficient a it improves precision but conserve the accuracy it be useful to mention that the team suspect the quality of the sample take a reference influence the quality of the correct data test with the mercury lamp it be verify that the systematic error be independent of the source in section iii it be therefore acceptable to infer that the correction calculate from the green laser s data should be applicable to any set of data acquire over the same range it be especially useful to increase the resolution of the spectrum when work with source have emission ray separate by only a few nanometre for example mercury have a singlet line at nm and a doublet at nm and nm since it be show that the wavelength could vary by more than nm for the unfitted data set and since it be expect that the periodicity in the stage s error alters the signal it seem impossible to resolve the line of mention above without a proper correction of the systematical error figure present the distribution of the wavelength of the mercury light with a yellow filter in the fit and unfitted case it be very straightforward to see that the fit data be not only more precise but also more accurate than the unfitted data fig comparison of the distribution of the calculate wavelength for the mercury light with a yellow filter the set of data use a reference for fit be a run make at m s with the green laser over the same range the two line in the fit data have a wavelength of nm and nm and have a standard deviation of nm and nm respectively figure show that the correction greatly improves the accuracy and precision of the signal the unfitted data spread from nm to nm the fit data on the other hand present two clear peak in the wavelength at nm and nm it should be mention that both the original and correct data set present wavelength small than nm which should not be the case if the yellow filter be properly use this anomaly be outside the scope of this study but could be investigate to estimate the overall accuracy of the set up and analysis method use if the first line in the correct data be quite far from the expect value at nm the second line corresponds nearly exactly to the mean between the wavelenghs of mercury s doublet at nm and nm this second line contains both wavelength within it margin of error this experiment be affected by many source of error we have already mention the fault in the stage s position record which be the big source of systematic error however this experiment be also affected by random error and other systematical error table i summarises the different source of error their magnitude and the mean by which the latter can be reduce unless state otherwise the magnitude of the error be give a their contribution to the wavelength s standard deviation for the green laser correct the position use a test run with a laser of know wavelength a present above vibration more data be require but assume small because of large number of measurement do the experiment in an empty laboratory screw the optical component more tightly to the optical bench align each mirror so that light reflect upon their exact centre line broadening by doppler effect nm switch off the mercury lamp regularly to allow cool down curvature of the mirror modify the path difference in path difference systematical error only shift the null point line broadening by doppler effect nm switch off the mercury lamp regularly to allow it to cool down this study be quite limited in time and there be room for many adjustment and far precision the follow be consider of interest by the team and order by importance write the code that would permit computation of the fourier transform of the correct signal attempt be make use a non uniform fourier transform program but remain unsatisfactory the construction of a uniform set of data with the proper wavelength be also attempt but the difference in fitting parameter between the different section of data introduce discontinuity in the signal check the range of speed over which the pattern arises and the data can be correct compare with nyquist s limit frequency to determine the quality of the stage check if the correction can be apply to any stage of the same model or if it stage dependent check if the correction be dependant of the direction of the motor or only on it position on the stage modify the code create for this study to be self explanatory and for it to automatically perform correction on any set of data if provide with a set of reference data investigate the relationship between the size of the section take for fitting the quality of the correct data optimize the current code accordingly use a laser whose wavelength be unique and experimentally verify to construct the data of reference investigate the relationship between the quality of the data use a reference and the quality of the correct data this paper prof the presence of a systematical error due to an inaccurate record of the move stage position in an interferometry experiment it present a method to correct for this error by compute a periodic scale of the position for a set of data take over a long range with a laser of know wavelength the validity of this approach be then investigate by correct various set of data with different test run this correction be very efficient a it reduces the broadening of the spectral line from ten of nanometre to a few namometres whilst keep the accuracy of the initial set of data more precisely in the case of the mercury lamp the correction make it possible to distinguish two separate peak at nm and nm when the non corrected data present a band of wavelength between nm and nm approximately if this first correct wavelength be shift significantly from the accepted value of nm the second ray be close to the middle of the two wavelength that compose the expect doublet at nm and nm the correction present in this paper negate the v pimag linear stage s physical limitation allow confident use of this set up at low speed however this work be ongoing and the code to perform the fourier transform of the correct signal be still to be complete",
            "interferometry be a vital experimental technique with application across various field include but not limited to optic astronomy particle physic and general and special relativity this technique produce very precise interferograms of an emit source which be use in analysis to determine essential property of the source here a standard michelson interferometer setup be utilised in conjunction with a fast fourier transform fft algorithm to determine the wavelength of the green emission line of a mercury hg discharge lamp an accurate value of nm be determine the coherence length be calculate inaccurately to be m which be a good indicator that misalignment be a considerable issue in conjunction with other issue of uncertainty brought about by the source and the move arm of the interferometer this experiment reproduces the classic michelson interferometry setup this procedure be first use by michelson in s when investigate the archaic ether theory provide a good alignment of component be achieve an extremely precise interferogram of a source can be produce from which accurate and precise value of wavelength and coherence length and other property of the source can be determine here it be use for the purpose of determine the wavelength of a mercury discharge lamp green emission line move mirror apparatus be use to vary the path difference in the interferometer and thus the intensity of the interferogram be measure a a function of position of the mirror for computational speed a fast fourier transform algorithm be utilised to retrieve wavelength spectrum from the measure interferogram we be successful in use this technique to determine a very accurate wavelength for the green emission line of a mercury discharge lamp a nm despite this the determine coherence length of this source be greatly inaccurate at m the michelson interferometer be base on the principle of interfere a light source with itself by splitting it along two separate path figure one from this diagram by consider the additional distance travel by the light ray between the beamsplitter and m it can be show that constructive interference be satisfied by where be the angle between the incident light ray on the mirror and the normal to the face of that mirror the null point of an interferometer be define a the point of maximum interference i e zero path difference or t at this point the fringe be at a maximum space so for this reason the null point be use a the data take range the physical interference pattern be continuous however data be take in discretely with sample rate t to produce an interferogram the data set x n be define by where a n x signifies the amplitude of the signal at a point x x be an arbitrary start position and be the velocity of the move platform t be therefore the distance move between data point therefore it be appropriate to utilise a fast fourier transform algorithm which utilises the discrete fourier transform f d define by this convert the data into frequency space from which wavelength can be directly calculate the coherence length l of a source be give by where be mean wavelength be the spread in wavelength of the source and directly corresponds to the fwhm of the gaussian wavelength spectrum produce the apparatus be setup accord to figure and show in figure a thorlabs nexus damped optical breadboard be utilised to reduce the possibility of external vibration invade the experiment for the alignment process a thorlabs cps green laser with an ac a ml collimation package be employ it intensity facilitates relatively easy observation of the light path through the spectrometer the high intensity also greatly increase the clarity of the interference pattern thorlabs sm l lens tube be use to avoid light escape subsequently the light be direct along two orthogonal path one at to the incident beam towards move mirror m where it have be reflect by the beamsplitter and the other at towards a thorlabs km stationary mirror m the design facilitates the adjustment of the azimuthal projection where the light have be transmit by the beamsplitter m be attach to a thorlabs remotely operate move platform the two light beam be recombine at the beamsplitter and be direct at from the source beam towards an osram sfh photodetector with adjustable gain opaque screen be place along the perimeter of the breadboard in conjunction with a lid to eradicate background light interference black polystyrene screen be position inside the experiment to block light escape from the source which would be detect a noise see figure two the breadboard construction allows these component to be fix securely in place to eliminate any chance of suffuse mechanical misalignment within the interferometer due to vibration and accidental impact when change light source upon complete a satisfactory alignment when the null point have be found detailed in section iii b the light source be subsequently change to a penray mercury hg discharge lamp to investigate the green light emission line of this source a thorlabs fl green filter be place a show in figure two uv protective glass be worn because the hg lamp be a strong short wave uv emitter a green laser be again utilised a the source it intensity make plain sight analysis of the null point easy a trial and error method be employ here to confirm it position by seek region where the haidinger fringe appear to move in certain direction and by observe the width of the fringe the direction in which they appear to move revers a m pas through t and the fringe become considerably i mechanical misalignment be one of the large hindrance in our experiment despite effort to optimise the alignment no confinnation can be make to detennine the quality of this alignment that be to say that the component can not be align mechanically to each other or to some numerical scale therefore there be a random error associate with mechanical alignment and crucially could not be remove or quantify the quality of experimentally produce interferograms be highly sensitive to this alignment so mechanical misalignment of component propagate strongly through into detennined property of a source the experimental method require the use of different source for various stage of the alignment process and also when determine the position of the null point despite our best effort to reduce the physical impact of change light source on the experiment component design especially that of the laser where it have to be screw in meant that some component would be force out of alignment thus it be found that component movement change the position of the null point on the order of several micron therefore it be often necessary to perfonn alignment check between measurement the null point subsequently move and a such it position have be determine frequently during the course of the experiment furthermore it be a necessity iii to remove and replace the move mirror between laboratory session which contribute towards a detrimental effect on the alignment on one occasion the null point move by mm hence any discrepancy in position of the null point in figure four and five in addition to this the level of intensity of the utilised source directly affect the clarity of the interference pattern a it becomes less clear with diminish intensity in the instance of the white source and the mercury lamp these source be considerably less intense than the green laser and their design cause some background light to escape in the experiment in spite of our best effort to limit this figure four be an interferogram of the null point use a white lead this demonstrates the aforementioned sensitivity the interference pattern be not symmetrical about the null point equation one suggests this should be exactly symmetrical about the null point another explanation for this asymmetric pattern be that the stage do not move in regular interval relative to it data take rate of j h z this problem be discover during data analysis when it be found that the position record in the data file be not chronological for sequential data thus lead to the conclusion that at small programmed move velocity typically mm s the motion of the stage be in fact not uniform and could be consider a design fault or the progressive effect of compone nt wear these error be unquantifiable and so their influence on the experiment be undeterminable however reference to figure four and five qualitatively it can be say that it would be significant if present figure five be an interferogram around the null point note the discrepancy in null point position between figure two and three use the mercury discharge lamp asymmetry be again a factor in judging the quality of this interferogram this problem be very clear and despite our attempt at realignment this could not be alleviate figure six the envelope of the wavelength spectral function this gaussian produce a value of nm which when compare to the true value of nm show that we be successful in determine a very accurate value use the standard deviation retrieve from this gaussian the full width at half maximum fwhm wavelength spread be calculate a nm thus the coherence length be determine use equation four and a value of m be determine the value of m be two order of magnitude small than the expect value of m consider figure six the fwhm of the gaussian fit be of the order ten of nanometre which when use with in equation four give a result on order micro metres not hundred of micro metres a expect therefore consider the accuracy of the measure it be the spread that be contribute to this greatly inaccurate value this issue therefore be a a result of the quality of the interferogram refer back to figure five there be considerable noise and asymmetry in the interferogram thus it be conclude that despite effort to achieve a satisfactory alignment ultimately it be not achieve and directly affected moreover it be assume that this have propagate through the fast fourier transform into the wavelength spectrum and have cause it larger than expected width far still the irregularity in stage movement could have contribute to this assume it move with a mean velocity i e the same a that programmed the random statistical deviation from this mean could have cause the large but the statistic deviation average and cause the spectrum to average to the expect despite determine an accurate value of nm for the wavelength of the green line emission from a mercury discharge the greatly inaccurate value of m for the coherence length be testament to the imprecision of the alignment intensity of the source and background noise and the irregularity of the stage movement apparatus use to fix the component relative to each other would result in a more precise alignment alternatively some mean of align component relative to angular scale on the optical breadboard would help alleviate this uncertainty a more intense source would act to reduce background noise in the interferogram provide the necessary step be take to ensure minimal background light escape the source into the experiment something we could ultimately not achieve a well quality stage or some other mean of adjust the path length such a implement the mach zender design could decrease the observe noise in the interferograms",
            "michelson interferometer with motorise mirror be use to produce interferograms of a tungsten white light source both with and without filter the interferograms be fourier transform to recreate the input spectrum render the whole process an alternative method of optical spectroscopy the tungsten source be intend to resemble a blackbody spectrum and the data collect exhibit sign of this relationship though the evaluation be limited by poor detector sensitivity the filter act to permit only a small range of wavelength to be transmit around a specify central wavelength the experimental data produce value of nm and nm for the yellow and green filter respectively the standard error on these wavelength be nm which be significantly wider than the simulated nm this be thought to be due to variation in the detector sample step however the determine central wavelength match specification value which support this method of spectroscopy use an interferometer t he spectrometer be an instrument central to numerous field of science use to disperse light into a spectrum of it constituent wavelength the spectrometer provide a mechanism for determine property of light source this have far reaching impact for a material heat to the point of incandescence it spectrum be characteristic of it elemental composition spectroscopy have historically aid the discovery of new element such a caesium and rubidium and the development of new technology such a neon light the development of spectroscopy be far influential in physic the emission spectrum of white light be unusual in that the total energy be not equally distribute among all frequency spur the development of quantum mechanic in this experiment a michelson interferometer be use a a spectrometer this possibility arises from the mathematics of fourier transforms where position space be convert to frequency or wavelength space transform the interferogram a plot of amplitude against position therefore provide a method of recreate the original spectrum of light go into the interferometer a tungsten white light source have a spectrum that be often model a that of a blackbody so study it interferogram and fourier transform to wavelength space can evaluate the extent to which this be correct since the star and planet be often model a blackbody where the elemental composition of the body influence the emission spectrum the action of filter on the tungsten spectrum have significance and can be explore the success of the result can therefore be interpret a a test for the efficacy of this method of spectroscopy a michelson interferometer consists of a light source beamsplitter two mirror and a detector a show in fig the beamsplitter which be make up of two adjacent prism allows the light beam from the source to be split into two beam of approximately equal intensity one beam a travel to the mirror m and the other b travel to the mirror m upon which they be both reflect the two beam return to the beamsplitter and undergo a partial reflection and recombination interfere a they recombine the recombine beam can be image on white card the difference in distance between each mirror and the beamsplitter be represent by t for a plane monochromatic wave with wavelength if t be equal to zero which be know a the null point or t be an integer multiple of then the two beam will constructively interfere if t be equal to an odd integer multiple of then destructively interference will occur this produce an interference pattern a series of dark and light fringe if mirror m be exactly perpendicular to beam b cylindrical symmetry allows haidinger fringe to form which appear a concentric cylindrical circle a show in fig mirror m can be motorise in order to slowly alter the distance t the detector can then scan over a range of t value and measure the intensity at that point to produce an interferogram for a monochromatic source this interferogram will appear a a sine wave however if the light source be not monochromatic but contains two distinct frequency the resultant interferogram will be modulate wave of both frequency leave the source with the same phase but will only have the same phase upon reach the detector if t be equal to zero or an integer multiple of both wavelength if use a source with many wavelength such a a white light emit diode the modulation will increase in number until the interferogram have a gaussian appearance all of these interferograms in position space be related to the spectrum of the light source in frequency space by a fourier transform by fourier transform the output interferogram of any source it be possible to reclaim the original spectrum the michelson interferometer can thus be use a a spectrometer when the distance between the two mirror and the beamsplitter be unequal the two light beam recombine at the beamsplitter with a path difference the coherence length of the light source be define a follow for a difference in path length between the two beam great than the coherence length phase relation between two different ray become random a a result for distance from the null point great than the coherence length no interference be detect the peak on the resultant interferogram therefore have a width approximately equal to the coherence length if the light contains a very limited range of frequency such a that from a green laser the coherence length be very large which produce a wide interferogram for a light source contain many different wavelength such a a white lightemitting diode the resultant interferogram have a narrow peak a tungsten white light source have an output that approximates to a blackbody radiation spectrum the tungsten source use in this experiment provide a constant intensity spectrum from to nanometre reference thorlabs it spectrum be claimed to most closely resemble a blackbody at k the temperature t be inversely proportional to the peak wavelength peak and be give by where b be stefan s constant which be equal to km to s f a filter act to restrict the wavelength allow through it two filter be available a green filter with a central wavelength of nanometre and a yellow filter with a central wavelength of nanometre both have a full width at half maximum of nanometre and have a characteristic gaussian transmission spectrum since few wavelength be present the coherence length increase so the interference pattern appear over a wider range of mirror position the predict spectrum of a tungsten source with filter be assume to be give by the convolution of the tungsten spectrum and the filter transmission spectrum since the transmission range of each filter be so narrow approximately ten nanometre compare to the overall range of the tungsten lamp there be little noticeable difference between the convolute output and original gaussian input however the simulation be able to be later compare to the data collect simulation for the tungsten source both with and without filter be show in fig the michelson interferometer be assemble accord to fig care be take to ensure that all component be the same height by use of a magnetic beam ruler the distance between each mirror and the beamsplitter be make approximately equal component be secure by screw them into a vibration damping board which reduces fluctuation in the interference pattern due to external vibration clamp fork be use to far secure component correct alignment of the interferometer be essential for produce clear interference pattern a green laser of wavelength nanometre be use for alignment the collimation package be screw into the lens tube which itself be screw into the beamsplitter so that the light beam be exactly perpendicular to the beamsplitter prism surface first the angle of the beamsplitter be adjust so that the laser beam reflect off the centre of the move mirror the angle of the fix mirror be also adjust so that the laser beam also reflect off of it centre the detector be replace with a sheet of white card on which to image the laser beam for alignment the angle of the fix mirror be adjust in small increment until the two beam overlap on the card this card be initially held close to the beamsplitter then held at a great distance to finetune the beam overlap so that they be coincident insert a planoconvex lens expand the laser beam to a broaden source so that interference fringe be visible the angle of the fix mirror be once again finetuned so that the centre of the haidinger fringe laid at the centre of the field of view the white card be then replace with the detector which be position so that the centre of the haidinger fringe laid on the detector itself the detector be once again secure with a clamp fork and the laser replace with the tungsten white light source due to the nature of the white light tungsten source which have a wide spectrum contain numerous wavelength it be only around the null point at which there be visible interference a discus in coherence length although it be possible to scan over the whole range of the motorise mirror the slow rate at which the mirror must move to detect the interference peak make this extremely unpractical require ten of thousand of reading therefore it be useful to first find the approximate region within the mirror s range of the null point in order to find this region the green laser be use due to it clear interference fringe at all mirror position the white card be place in front of the detector to more clearly image the fringe a the mirror move towards the null point the haidinger fringe will move towards the central bright fringe conversely fringe will move out of the centre a the mirror travel away from the null point therefore the approximate location of the null point can be determine by the direction of fringe travel in this way the null point be determine to be between and millimetre due to fluctuation in the position of the central fringe a the mirror approach the null point it be difficult to limit the null point to a small range however this range be deem sufficiently small over which to scan slowly with the tungsten light source in place the range of to millimetre be scan through at a speed of millimetre per second and more precise location of the null point determine to then more precisely view the interference pattern the detector be scan through the new small range of to millimetre at a slow speed of millimetre per second each of the two filter be place into the tungsten light source box before the light beam reach the collimation package the detector be scan initially over the same two millimetre range a previously use but this range be make large if necessary so that the whole interference pattern be in view the tungsten source with no filter produce an interferogram with gaussian shape the relevant interferograms be show in fig unexpected modulation be present for both the yellow and green filter since the filter both have a gaussian shape wavelength transmission distribution a gaussian interferogram be expect possible reason for this discrepancy be explore in far discussion the coherence length for the tungsten source with no filter be much small than that of the tungsten source with either a green or yellow filter a see on the x axis scale this be due to the large range of wavelength present a previously explain in coherence length a discus in theory the fourier transform of each interferogram for the tungsten source both with and without filter can recreate the spectrum of light go into the interferometer for the tungsten source with no filter fig show both the simulated and experimental spectrum which be vertically scale for easy comparison the experimental spectrum appear to have a peak wavelength of approximately nanometre which corresponds to a blackbody temperature of k accord to however the detector use have a lack of sensitivity in the infrared region correspond to wavelength between nanometre and millimetre it can be see by comparison with the simulation that the experimental curve would extend and peak at a high wavelength therefore the actual peak wavelength can not be determine without extreme and unsupported extrapolation the experimental spectrum for the green and yellow filter be show in fig the simulated spectrum for the yellow and green filter be two narrow approximate gaussians centre on and nanometre with a standard error of nanometre the experimental data do indeed lie centre on the expect wavelength but it be clear from fig that there be a much great wavelength spread in the transform spectrum a discus in the effect of filter the convolution of the blackbody spectrum from the tungsten source and the narrow gaussian transmission spectrum of the filter give another approximate gaussian the experimental result show peak and trough in the exact same position for both filter which suggests that their shape be due to systematic error or irregularity of the filter therefore to determine an estimate spread on the wavelength from the filter spectrum they be fit to gaussians with a mean of the central filter wavelength the optimise fit be show in fig the standard error on these gaussians be nanometre this increase in spread of wavelength compare with the simulated nanometre be likely due to the data collection method by examine the raw data it be found that the motorise mirror do not necessarily move in equal distance step although the whole range be cover data step varied by up to millimetre from the set value give that the average data step for precise scan be approximately millimetre assume a constant data step for the fourier transform result in a wider spread of wavelength than the true spread it be possible that fitting a gaussian to these spectrum be not appropriate the modulation present in fig and fig suggest that the filter have irregularity and do not have a gaussian transmission spectrum the interferograms have the appearance of a sinc function which be give by fig amplitude against wavelength for experimental tungsten light source with green and yellow filter fig amplitude against wavelength for experimental tungsten light source with green and yellow filter both experimental result and gaussian fit the fourier transform of this function be a step function which have an approximately constant intensity at all wavelength in a range drop off steeply at either end the spectrum from the two filter do not match either the step function or gaussian particularly well but suggest that perhaps the filter transmission spectrum do not match their specification the interferograms of a tungsten light source be successfully experimentally test for both no filter and a green or yellow filter with a michelson interferometer the interferograms be fourier transform to attempt to recreate the spectrum of the light source the interferometer be therefore use a a spectrometer and these spectrum be then compare to the previously simulated spectrum which be base on data value for the light source and filter the main source of error with any optical experiment of this sort be misalignment small degree of misalignment can introduce large discrepancy and asymmetry of the interferogram dust and residue collect on the mirror over time a well a accidental smudge on assembly these irregularity would equally introduce anomaly into the interferograms and therefore the resultant spectrum practical improvement to the experiment would generally involve take more measurement over the null point this be especially the case for the tungsten source with no filter a the coherence length be very small due to the large range of wavelength present since the same mirror speed be use for all data collect few data point be collect over the null point for the tungsten source with no filter produce a disjoint spectrum despite the lack of valid data for the infrared region a smoother curve for the visible region could allow the tungsten spectrum to be fit to a blackbody spectrum and therefore well compare with the simulation",
            "michelson interferometer with motorise mirror be use to produce interferograms of a tungsten white light source both with and without filter the interferograms be fourier transform to recreate the input spectrum render the whole process an alternative method of optical spectroscopy the tungsten source be intend to resemble a blackbody spectrum and the data collect exhibit sign of this relationship though the evaluation be limited by poor detector sensitivity the filter act to permit only a small range of wavelength to be transmit around a specify central wavelength the experimental data produce value of nm and nm for the yellow and green filter respectively the standard error on these wavelength be nm which be significantly wider than the simulated nm this be thought to be due to variation in the detector sample step however the determine central wavelength match specification value which support this method of spectroscopy use an interferometer t he spectrometer be an instrument central to numerous field of science use to disperse light into a spectrum of it constituent wavelength the spectrometer provide a mechanism for determine property of light source this have far reaching impact for a material heat to the point of incandescence it spectrum be characteristic of it elemental composition spectroscopy have historically aid the discovery of new element such a caesium and rubidium and the development of new technology such a neon light the development of spectroscopy be far influential in physic the emission spectrum of white light be unusual in that the total energy be not equally distribute among all frequency spur the development of quantum mechanic in this experiment a michelson interferometer be use a a spectrometer this possibility arises from the mathematics of fourier transforms where position space be convert to frequency or wavelength space transform the interferogram a plot of amplitude against position therefore provide a method of recreate the original spectrum of light go into the interferometer a tungsten white light source have a spectrum that be often model a that of a blackbody so study it interferogram and fourier transform to wavelength space can evaluate the extent to which this be correct since the star and planet be often model a blackbody where the elemental composition of the body influence the emission spectrum the action of filter on the tungsten spectrum have significance and can be explore the success of the result can therefore be interpret a a test for the efficacy of this method of spectroscopy a michelson interferometer consists of a light source beamsplitter two mirror and a detector a show in fig the beamsplitter which be make up of two adjacent prism allows the light beam from the source to be split into two beam of approximately equal intensity one beam a travel to the mirror m and the other b travel to the mirror m upon which they be both reflect the two beam return to the beamsplitter and undergo a partial reflection and recombination interfere a they recombine the recombine beam can be image on white card the difference in distance between each mirror and the beamsplitter be represent by t for a plane monochromatic wave with wavelength if t be equal to zero which be know a the null point or t be an integer multiple of then the two beam will constructively interfere if t be equal to an odd integer multiple of then destructively interference will occur this produce an interference pattern a series of dark and light fringe if mirror m be exactly perpendicular to beam b cylindrical symmetry allows haidinger fringe to form which appear a concentric cylindrical circle a show in fig mirror m can be motorise in order to slowly alter the distance t the detector can then scan over a range of t value and measure the intensity at that point to produce an interferogram for a monochromatic source this interferogram will appear a a sine wave however if the light source be not monochromatic but contains two distinct frequency the resultant interferogram will be modulate wave of both frequency leave the source with the same phase but will only have the same phase upon reach the detector if t be equal to zero or an integer multiple of both wavelength if use a source with many wavelength such a a white light emit diode the modulation will increase in number until the interferogram have a gaussian appearance all of these interferograms in position space be related to the spectrum of the light source in frequency space by a fourier transform by fourier transform the output interferogram of any source it be possible to reclaim the original spectrum the michelson interferometer can thus be use a a spectrometer when the distance between the two mirror and the beamsplitter be unequal the two light beam recombine at the beamsplitter with a path difference the coherence length of the light source be define a follow for a difference in path length between the two beam great than the coherence length phase relation between two different ray become random a a result for distance from the null point great than the coherence length no interference be detect the peak on the resultant interferogram therefore have a width approximately equal to the coherence length if the light contains a very limited range of frequency such a that from a green laser the coherence length be very large which produce a wide interferogram for a light source contain many different wavelength such a a white lightemitting diode the resultant interferogram have a narrow peak a tungsten white light source have an output that approximates to a blackbody radiation spectrum the tungsten source use in this experiment provide a constant intensity spectrum from to nanometre reference thorlabs it spectrum be claimed to most closely resemble a blackbody at k the temperature t be inversely proportional to the peak wavelength peak and be give by where b be stefan s constant which be equal to km to s f a filter act to restrict the wavelength allow through it two filter be available a green filter with a central wavelength of nanometre and a yellow filter with a central wavelength of nanometre both have a full width at half maximum of nanometre and have a characteristic gaussian transmission spectrum since few wavelength be present the coherence length increase so the interference pattern appear over a wider range of mirror position the predict spectrum of a tungsten source with filter be assume to be give by the convolution of the tungsten spectrum and the filter transmission spectrum since the transmission range of each filter be so narrow approximately ten nanometre compare to the overall range of the tungsten lamp there be little noticeable difference between the convolute output and original gaussian input however the simulation be able to be later compare to the data collect simulation for the tungsten source both with and without filter be show in fig the michelson interferometer be assemble accord to fig care be take to ensure that all component be the same height by use of a magnetic beam ruler the distance between each mirror and the beamsplitter be make approximately equal component be secure by screw them into a vibration damping board which reduces fluctuation in the interference pattern due to external vibration clamp fork be use to far secure component correct alignment of the interferometer be essential for produce clear interference pattern a green laser of wavelength nanometre be use for alignment the collimation package be screw into the lens tube which itself be screw into the beamsplitter so that the light beam be exactly perpendicular to the beamsplitter prism surface first the angle of the beamsplitter be adjust so that the laser beam reflect off the centre of the move mirror the angle of the fix mirror be also adjust so that the laser beam also reflect off of it centre the detector be replace with a sheet of white card on which to image the laser beam for alignment the angle of the fix mirror be adjust in small increment until the two beam overlap on the card this card be initially held close to the beamsplitter then held at a great distance to finetune the beam overlap so that they be coincident insert a planoconvex lens expand the laser beam to a broaden source so that interference fringe be visible the angle of the fix mirror be once again finetuned so that the centre of the haidinger fringe laid at the centre of the field of view the white card be then replace with the detector which be position so that the centre of the haidinger fringe laid on the detector itself the detector be once again secure with a clamp fork and the laser replace with the tungsten white light source due to the nature of the white light tungsten source which have a wide spectrum contain numerous wavelength it be only around the null point at which there be visible interference a discus in coherence length although it be possible to scan over the whole range of the motorise mirror the slow rate at which the mirror must move to detect the interference peak make this extremely unpractical require ten of thousand of reading therefore it be useful to first find the approximate region within the mirror s range of the null point in order to find this region the green laser be use due to it clear interference fringe at all mirror position the white card be place in front of the detector to more clearly image the fringe a the mirror move towards the null point the haidinger fringe will move towards the central bright fringe conversely fringe will move out of the centre a the mirror travel away from the null point therefore the approximate location of the null point can be determine by the direction of fringe travel in this way the null point be determine to be between and millimetre due to fluctuation in the position of the central fringe a the mirror approach the null point it be difficult to limit the null point to a small range however this range be deem sufficiently small over which to scan slowly with the tungsten light source in place the range of to millimetre be scan through at a speed of millimetre per second and more precise location of the null point determine to then more precisely view the interference pattern the detector be scan through the new small range of to millimetre at a slow speed of millimetre per second each of the two filter be place into the tungsten light source box before the light beam reach the collimation package the detector be scan initially over the same two millimetre range a previously use but this range be make large if necessary so that the whole interference pattern be in view the tungsten source with no filter produce an interferogram with gaussian shape the relevant interferograms be show in fig unexpected modulation be present for both the yellow and green filter since the filter both have a gaussian shape wavelength transmission distribution a gaussian interferogram be expect possible reason for this discrepancy be explore in far discussion the coherence length for the tungsten source with no filter be much small than that of the tungsten source with either a green or yellow filter a see on the x axis scale this be due to the large range of wavelength present a previously explain in coherence length a discus in theory the fourier transform of each interferogram for the tungsten source both with and without filter can recreate the spectrum of light go into the interferometer for the tungsten source with no filter fig show both the simulated and experimental spectrum which be vertically scale for easy comparison the experimental spectrum appear to have a peak wavelength of approximately nanometre which corresponds to a blackbody temperature of k accord to however the detector use have a lack of sensitivity in the infrared region correspond to wavelength between nanometre and millimetre it can be see by comparison with the simulation that the experimental curve would extend and peak at a high wavelength therefore the actual peak wavelength can not be determine without extreme and unsupported extrapolation the experimental spectrum for the green and yellow filter be show in fig the simulated spectrum for the yellow and green filter be two narrow approximate gaussians centre on and nanometre with a standard error of nanometre the experimental data do indeed lie centre on the expect wavelength but it be clear from fig that there be a much great wavelength spread in the transform spectrum a discus in the effect of filter the convolution of the blackbody spectrum from the tungsten source and the narrow gaussian transmission spectrum of the filter give another approximate gaussian the experimental result show peak and trough in the exact same position for both filter which suggests that their shape be due to systematic error or irregularity of the filter therefore to determine an estimate spread on the wavelength from the filter spectrum they be fit to gaussians with a mean of the central filter wavelength the optimise fit be show in fig the standard error on these gaussians be nanometre this increase in spread of wavelength compare with the simulated nanometre be likely due to the data collection method by examine the raw data it be found that the motorise mirror do not necessarily move in equal distance step although the whole range be cover data step varied by up to millimetre from the set value give that the average data step for precise scan be approximately millimetre assume a constant data step for the fourier transform result in a wider spread of wavelength than the true spread it be possible that fitting a gaussian to these spectrum be not appropriate the modulation present in fig and fig suggest that the filter have irregularity and do not have a gaussian transmission spectrum the interferograms have the appearance of a sinc function which be give by fig amplitude against wavelength for experimental tungsten light source with green and yellow filter fig amplitude against wavelength for experimental tungsten light source with green and yellow filter both experimental result and gaussian fit the fourier transform of this function be a step function which have an approximately constant intensity at all wavelength in a range drop off steeply at either end the spectrum from the two filter do not match either the step function or gaussian particularly well but suggest that perhaps the filter transmission spectrum do not match their specification the interferograms of a tungsten light source be successfully experimentally test for both no filter and a green or yellow filter with a michelson interferometer the interferograms be fourier transform to attempt to recreate the spectrum of the light source the interferometer be therefore use a a spectrometer and these spectrum be then compare to the previously simulated spectrum which be base on data value for the light source and filter the main source of error with any optical experiment of this sort be misalignment small degree of misalignment can introduce large discrepancy and asymmetry of the interferogram dust and residue collect on the mirror over time a well a accidental smudge on assembly these irregularity would equally introduce anomaly into the interferograms and therefore the resultant spectrum practical improvement to the experiment would generally involve take more measurement over the null point this be especially the case for the tungsten source with no filter a the coherence length be very small due to the large range of wavelength present since the same mirror speed be use for all data collect few data point be collect over the null point for the tungsten source with no filter produce a disjoint spectrum despite the lack of valid data for the infrared region a smoother curve for the visible region could allow the tungsten spectrum to be fit to a blackbody spectrum and therefore well compare with the simulation",
            "run purple purple fit purple data fig graph result from first data run purple emission line clearly a strong correlation between the variable the in out method be not use for these measurement these data give a wavelength of nm and hence n a value for the rydberg constant r be calculate a m the accepted value of r do not lie within the range give by the estimate uncertainty thus the combine uncertainty be calculate a the uncertainty due to the vernier scale and the uncertainty give by the width of the emission line add in quadrature the second run of data collection utilised the new in out method of measurement in an attempt to well estimate the uncertainty in the measurement of run red preliminary data red fit red data fig graph result from first data run red emission line this be the preliminary data record use the newly developed in out method a before there be clearly a strong correlation between the two variable the uncertainty for m be due to the fact that two central emission line be visible a cyan and a red at the centre they merge but it be difficult to determine whether these emission line should be treat a one or a two slightly separate emission line for this point they be treat a one thus increase the emission line width and therefore the uncertainty in the measurement of these data give a wavelength of nm and hence n a value for the rydberg constant r be calculate a m the accepted value of r do not lie within the range give by the estimate uncertainty this new method have successfully reduce the uncertainty in the measurement however the value calculate for r do not agree with the accepted value run red definitive data red fit red data fig graph result from first data run red emission line this be the definitive data record use the newly developed in out method here the uncertainty be increase a the slit be widen in an attempt to increase the intensity of the emission line however at large m the emission line be much harder to see for m this issue prevent a measurement be take these data give a wavelength of nm and hence n a value for the rydberg constant r be calculate a m the accepted value of r do not lie within the range give by the estimate uncertainty during the second run of the experiment an orange emission line be see along with the red and cyan run cyan definitive data cyan fit cyan data fig graph result from first data run cyan emission line this be the definitive data record use the newly developed in out method here the uncertainty be increase a the slit be again widen in an attempt to increase the intensity of the emission line again however at large m the emission line be much harder to see and for m this issue prevent a measurement be take these data give a wavelength of nm and hence n a value for the rydberg constant r be calculate a m the accepted value of r do not lie within the range give by the estimate uncertainty line since hydrogen do not have an orange colour emission line this line be measure and a wavelength of nm be record the data for this line be outline in figure the origin of this orange emission line be unknown perhaps it originate from some out gassing from the wall of the hydrogen vapour lamp due to the high temperature inside although this do seem very unlikely an experiment study the emission spectrum of nacl solution flame test have be carry out with the equipment before this data run have be carry out although this do not seem to have affected the equipment in any way two final value for the rydberg constant be calculate one for each run of the experiment but take the mean of both the calculate value and their uncertainty for the first run of the experiment a final value of m be calculate and can be see plot in figure a average run for the second run of the experiment a final value of m be calculate and can also be see plot in figure a average run a can be see in figure the accepted value for r do not fall within any of the range define by the calculate value and their respective uncertainty however the data collect from each run be clearly quite different run orange definitive data orange fit orange data fig graph result from first data run orange emission line this be the definitive data record use the newly developed in out method interestingly an orange emission line be observe in the hydrogen emission spectrum there do not exist an orange emission line hence this be measure in order to record a wavelength such that this emission line could later be look up this emission line be the brightest and clearest of the three observe during the definitive data run these data give a wavelength of nm from a previous experiment in which the emission line of sodium be measure a nm use a sodium vapour lamp and nm use a nacl flame test both of these measurement use the in out method this emission line be clearly identify a sodium j sansonetti give this emission line of sodium a nm data from the first run be less precise and also less accurate than data from the second run furthermore the uncertainty for the measurement take in the first run be clearly large in magnitude than the uncertainty for the measurement take in the second run the reason for this be unknown however it be hypothesise that the stark difference in each data set s accuracy be due to the alignment of the spectrometer before the data be collect during the alignment process for the first run of the experiment explain in section iii when the grate be turn by precisely such that it be meant to be at to the centre line it be clearly not this perplexed u and the alignment process be attempt again upon repeat the alignment process the grate be still not perfectly align however we attempt to continue with the experiment for the second run the same issue occur again however this time the effect be much less pronounce although the grate do not seem to be at exactly to the centre line of the collimator the hypothesis be the data from the first run be less accurate more spread out because the spectrometer be more misalign whereas the data from the second run be more accurate less spread out because the spectrometer be less misalign in this experiment the rydberg constant for hydrogen be calculate a m use angle measurement take with a grate spectrometer a hydrogen vapour lamp be use a the light source in order to observe fig all of the calculate value for the rydberg constant value from run have a large spread than those from run also the value from run have much wider uncertainty than from run run use the in out method whereas run do not average mean be take of the calculate value for run run and for all of the value these value be also plot alongside the individual emission line calculation for reference the accepted value for r have be plot m the accepted value for r do not lie within any of the range define by the calculate value uncertainty the emission spectrum of hydrogen use the equipment the experiment be run twice since a novel method for determine the centre of the emission line observe be developed after the first run of the experiment be complete the data from the first run be much less accurate and precise than those of the second run and this be clearly visible in figure hence a the mean of the second data run be much more precise and accurate than that of the first this be select a the final value for the rydberg constant a calculate in this experiment unusually during data collection for the second repeat of the experiment an orange emission line be observe in the emission spectrum of hydrogen there do not exist an orange colour emission line the wavelength of this emission line be measure a nm confirm it a originate from sodium in a previous experiment use the same equipment the wavelength of the emission line from a sodium vapour lamp be record a nm and the wavelength of the emission line from a flame test of a nacl solution be record a nm the origin of this emission line be unknown a possible explanation could be out gassing from the wall of the hydrogen vapour lamp although this do seem to be an unlikely scenario for this experiment a visual grate spectrometer be use to make the measurement other spectrometer design exist such a a computer aided grate spectrometer in which the eyepiece be replace with a detector array usually a ccd or cmos sensor the benefit of use a computer aided spectrometer over a visual grate spectrometer have already be investigate in this investigation it be found that there be no significant improvement or reduction in the uncertainty of the measurement when use a computer aided spectrometer thus this experiment would not be improve through this suggestion however if the experiment be to be repeat again much more care should be take in align the spectrometer when carry out this experiment the spectrometer do not appear perfectly align before the first data set be record before the second data set be record the spectrometer be align much more carefully however the alignment be still not perfect it be hypothesise that the misalignment of the spectrometer explains the difference in accuracy between the two separate run of the experiment in order to far reduce the error in measure the angle of the maximum in the spectrum a diffraction grate with a high number of lines mm could have be use such that the angle separate the order of the spectrum would be large thus the uncertainty in determine the small change in the angle on the vernier scale would have be far reduce combine with the in out method of measurement developed the uncertainty could be reduce to an even well range more repetition of the experiment could improve the final mean value take for r a long a the spectrometer be correctly align when carry out the experiment it be important to make detailed note on the alignment procedure so that during data analysis it be possible to notice any issue that may have arisen",
            "we begin by review the basic concept behind implement a michelson interferometer a a fourier transform spectrometer along with the associate theory behind this and the coherence length of a source we then detail the standard experimental setup procedure in which interferometer alignment be achieve by use of a monochromatic laser and the null point be found use a full spectrum lead by take the noise filter fft of interferograms to form spectrogram for a green laser white lead and blue lead a similar process be then carry out for a tungsten lamp and lowpressure mercury discharge tube both with and without the addition of green and yellow filter for all configuration the coherence length be approximate use a gaussian method for the tallest peak and by use a more sophisticated method involve autocorrelation function we then conduct a deeper analysis to determine the extent to which factor such a system misalignment and noise may have affected our result the michelson interferometer be perhaps the most well known amplitude splitting interferometer with it name hail from it be a variant of the apparatus use in the now famous michelson morley experiment it have since remain a tremendously useful piece of apparatus with it see use in application range from the ligo interferometer to fourier transform spectroscopy we will be use the latter of these application to measure the wavelength spectrogram for various source from which we can find the approximate coherence length of the source the interferometer consists of two mirror which be initially an equal distance from a central beam splitter along with a light source and detector arrange a show in figure a the path difference between the two beam be varied by move the mirror opposite the detector the intensity at the detector will cycle between destructive and constructive interference for monochromatic light of wavelength this will happen every time be some multiple of note that be twice the stage offset from the null point since move the mirror by some increment have the effect of change the path difference by twice that increment we can then note the intensity be the complex modulus of the amplitude and use the complex exponential form of cosine to find if we then define along with the wavenumber we can write note that this be only for a monochromatic source if we consider a source which instead be compose of a vary spectral distribution give by we need only sum over all the contribution from the differ spectral component by replace with and integrate to yield from this it becomes clear that the rh be simply the cosine form of the fourier transform of the wavenumber distribution since this establishes and a a fourier pair we can assert that we need only take the fourier transform of our measure interferogram to obtain the wavenumber and by extension the wavelength spectrum of a source the coherence length of a source be the distance travel by a light wave over which it maintains a certain degree of coherence the formula for the coherence length of a gaussian spectrum with peak wavelength be give by where be the refractive index and be the spectral width of the source which we define a the range of wavelength over which the magnitude of the spectral component be great than the full width at halfmaximum fwhm in the case of the michelson interferometer the coherence length be especially important a system misalignment will differ the phase difference between the two beam a the travel mirror be move which can have drastic affect on the quality of measure interferograms we can extend the definition of coherence length to apply to an arbitrary spectrum to do this we define the coherence factor a the autocorrelation between the two interfere wave a a function of time and use the wiener kolmogorov theorem to obtain we can then convert this into a function of shift displacement by use by use we can also note which allows u to express directly in term of the wavelength spectrum since we be deal with a discrete signal our integral becomes a sum over the discrete and the space between each wavelength we then obtain our final expression for the coherence factor a the coherence length can then be define a the value of for which a before the choice of varies on the definition we wish to use to be consistent with the gaussian method s use of the fwhm we will use to define unless state otherwise we begin the experiment by construct the michelson interferometer on an optical breadboard with arm length of for all data collection run the entire setup be enclose within a black enclosure to reduce background interference for the alignment procedure a collimate monochromatic nm green laser be secure directly to the beam splitter this be then adjust until it be align with the breadboard grid with the beam centre on the travel mirror the travel mirror be secure directly to the breadboard and be interfaced directly with a computer for control and data collection the stationary mirror be then move and fine adjust until the beam fell on it centre and the final image form fizeau fringe on a screen place at the detector the presence of such fringe be also checked with the screen approximately a metre behind the detector position to give great confidence that correct alignment have be achieve a diverge lens be then insert between the laser and beam splitter which lead to the formation of concentric circular hadinger fringe a final check of alignment be do by carry out a scan over the stage position range of mm to mm a small gradient of the mean intensity corresponds to well alignment we repeat the realignment process until the gradient appear negligible over the full range with the system align the next step be to determine the position of the null point to do this we replace the green laser with a white tungsten source before a scan between to mm be carry out this allow u to determine the approximate position of the null point in the first few scan we attempt to use a stage step of approximately nm which lead to erratic bunching in data point we later found this be because the stage have a minimum travel of approximately nm thus the nm travel command result in a breakdown of the stage s ability to resolve it own position from this point only step value large than nm be use to avoid this undesirable effect a high resolution scan be then make between from the approximate null point which give u a detailed interferogram for tungsten around the null point the peak of the envelope of the interferogram show in figure a corresponds to the null point position this process be repeat with and without the presence of ground glass between the source and the beam splitter the use of ground glass be qualitatively see to reduce the asymmetry of the interferogram about the null point with the unfiltered tungsten scan complete we next take scan for tungsten with green and yellow filter apply separately in both case a longer scan range be use to accommodate the introduction of the envelope beating now occur on either side of the central maximum the tungsten source be then replace with a lowpressure mercury lamp which be not secure directly to the beam splitter the same process of take a scan for both the green and yellow filter be then do at the end of the experiment we begin to investigate the zeeman effect in the mercury green line although due to time constraint this could not be peruse in depth the green laser interferogram show a clear sinusoidal shape show in figure the fft before and after a noise filter of this signal show in figure suggests the source be not exactly monochromatic with multiple different peak within the green range alternatively we can split the interferogram up into section over which we assume there be only a single wavelength active figure show how the fit wavelength for each section varies with the stage position the fit wavelength varies in a roughly periodic fashion suggest the spread in wavelength be in part due to some form of misalignment broad spectrum source such a the lead s and unfiltered tungtsen lamp be comprise of many spectral component meaning they have a very localise interferogram hence their utility in find the null point from the interferogram in figure we obtain an approximate peak wavelength of nm use wein s displacement law we can calculate the temperature correspond to this peak wavelength to be approximately k this result must be incorrect a this surpasses the melt point of tungsten which be approximately k a possible explanation for this be that the detector be less sensitive in the ir range meaning the spectrogram peak at a low high energy wavelength under ideal condition the wavelength spectrum of the filter source should depend only on the raw spectrum and the spectral width of the filter under normal condition the mercury green line be stable with a wavelength of nm and can thus be use to quantify the variation in the stage s movement in theory we could have use this to then improve our spectrogram by alter the distance between our fft sample in accordance with the stage variation this be decide against a from figure we can see there be some amplitude modulation indicate poor alignment thus use this data would have likely decrease the quality of our spectrogram another way of investigate stage movement be to consider how stable it speed be to do this we can plot distance against time for the stage travel in figure a and b show how the average speed and linear regression coefficient vary for the green mercury scan here the mean value of r be the fact that the stage speed be not stable will decrease the quality of our spectrogram table i a summary of the full spectral width at half maximum and the coherence length obtain by approximate the large peak of the spectrum a a gaussian and apply the uncertainty here be derive use show in the appendix the value for the refractive index of air be take a all value be assume to have an uncertainty of nm the coherence length obtain by consider the full spectrum and use be show in the rightmost column from table i it be clear that the presence of multiple peak within a spectrogram can have a significant impact on the validity of the gaussian spectrum assumption source such a the colour filter tungsten lamp which have multiple large peak appear to be particularly affected in this way by employ the michelson interferometer a a fourier transform spectrometer we have be able to determine the approximate coherence length of several source when align correctly such a setup can produce exquisitely accurate measurement a feat which be found to be surprisingly challenge over the course of the experiment if the experiment be to be repeat great emphasis should be place achieve correct alignment particularly for the mercury lamp with the green filter this would not only allow u to quantify stage movement variation bus also enable u to investigate the how zeeman splitting affect the coherence length of mercury lamp",
            "a michelson interferometer be create use two plane mirror and beam splitter interferograms around the null point of the interferometer be then record for a white lead and a tungsten filament lamp the fourier transforms of the interference pattern be then take to give the amplitude a a function of wavelength for each source the result wavelength spectrum be then compare for their efficiency in radiate energy in the visible spectrum this experiment result in the tungsten filament emit of it energy in the visible whereas the lead emit of it power in the same range he wave theory of light be first propose in by christian huygens evidence support this theory be found in around by thomas young in his famous double slit experiment it be this wave theory of light that be central to understand interferometry as it relies on the superposition principle interferometry be famously use in the michelson morley experiment in which they search for the presence of the luminiferous aether a no variation in the speed of light be detect a new theory be require this lead to the development of special relativity by albert einstein the technique of interferometry be still very much at the fore front of scientific research a very precise measure device can be design upon it principle currently interferometer be be use to measure the tiny change in length cause by gravitational wave in this experiment interferograms of a tungsten filament lamp and a white lead be record the fourier transform of the data be then take to provide the wavelength spectrum of the light source the efficiency of the source in emit visible light be then compare interference occurs when two or more wave interact the result pattern produce depends on the amplitude of each wave at that position there be an alternate pattern of bright and dark fringe a the wave oscillate from interfere constructively to destructively for monochromatic light of equal amplitude the pattern be a function of the phase difference between the wave in the case of an interferometer this phase difference be cause by the fact that one wave have travel a different distance relative to the other fourier analysis be require to consider light with an arbitrary frequency spectrum this result in the follow relation between j the interferogram and s the power spectrum of the source where be the distance from the null point and be frequency j be the fourier cosine transform of the spectral power density s a hot filament will glow with a characteristic frequency spectrum the wavelength at which the peak of this spectrum occurs be give by the follow equation the spectrum will be approximately gaussian in it distribution a there be slight random variation in temperature within the filament which be normally distribute about a mean value lead s work on the phenomenon of electroluminescence where electron recombine with hole in a semiconductor release light a they do so if there be some element of randomness in the energy release when the electron recombine then it can also be expect that the lead s spectrum will have some sort of gaussian distribution a michelson interferometer consists of a beam splitter and two plane mirror arrange a show in fig the system be very sensitive to vibration and therefore must be isolated from the surroundings to reduce erroneous noise in the data this be achieve by place the component on an optical breadboard the whole system be position within a blacked out box and the light in the laboratory be turn off so that the effect of variation in the ambient light be minimise the detector be also shield from the light source use tube and piece of black card in order for reliable data to be take the interferometer have to be carefully align initially the translational mi rnr be fix in place on it translation stage the beam splitter be then position a sho t distance away and it orientation be adjust until it be at degree to the translational minor this be achieve use a laser and adjudge to be when the laser beam reflect by the beam splitter and it reflection from the translational minor fonned one spot on the beam splitter the rotatable minor be then position approximately the same distance away from the beam splitter as measure by a piece of string a piece of white card be then put in the position of the detector and move a far away from the beam splitter a feasibly possible the position of the beam from the translational mirror on the card be then marked the orientation of the rotatable miitor be then adjust so that the beam from each arm form one spot on the piece of card this be adj udged to be when there be no discemible change in shape when one of the beam be block there may also be some additional spot on the card however these can be minimise with careful alignment a magnetic rnler be then use to verify that the laser beam be the same height above the optical breadboard in all place meaning that the system be in an optical plane a planoconvex lens of focal length mm be then position between the laser and the beam splitter to make the laser an extend source the interference pattem on the card be then clearly visible with the naked eye the orientation of the rotatable miirnr be then finetuned so that the centre of the circular fringe be in the same position a the mark on the card a michelson interferometer can produce fringe in concentric circle or straight line which be visible depends on whether the two mirror be a rnnged so that they be perpendicular or not a the miitors be move fuither away from be pe pendicular the fringe become straighter and closer together for this experiment it be not a requirement to have the miirnrs perpendicular a the fringe move at the same rate irrespective of their shape finally the detector a photodiode connect to an amplifier with variable gain be position so that the centre of the circular fringe be at it centre the detector use responds linearly to light intensity meaning that the data it record can be directly plot a the intensity of the light in arbitrary unit the interferometer be now align however the null point still need to be found to do this the translate mirror be put at approximately the same distance from the beam splitter a the rotational mirror again use the piece of string a quick interferogram be take with white light in a range a couple of mm either side of this position with the maximum in intensity of the interferogram correspond to the null point of the interferometer white light should be use in find the null point a once the interferogram have retwned to a constant value either side of the pa ttem you can be sure that the maximum of the interferogram corresponds to the null point of the interferometer provided there be no asymmetrical phase shift cause by the optic use once the interferometer have be align and the null point found data be take in a small range either side use the light source of interest a tungsten lamp with fibre couple be use a the first white light source producing the interferogram show in fig fibre couple be necessary to make the sow ce small enough to fit in the interferometer it be a graph of signal strength to in arbitra y unit against position to in mm when the fourier transform of this data be take a graph of intensity agairlst wavelength can be plot a shov il in wavelength m le fig a graph of amplitude arbitnuy unit against wavelength m for the tungsten filament lamp a expect the wavelength spectmm be well approximate by a gaussian distribution the peak occurs at nm with a spread in the wavelength of nm this corresponds to a black body temperature of k a the energy of a photon be inversely propo t ional to it wavelength the sum of the amplitude divide by the wavelength they correspond to be a representation of the total energy in the spectmm the propo tion of that energy that fall in the visible range run can then be calculate this result in an efficiency of at first glance the interferogram of the lead fig look remarkably similar to that of the tungsten filament lamp i an inte ferogram for the white lead it be a graph of signal strength to in arbitrary unit against position to in mm however when the fourier transform be take and plot fig the two wavelength spectrum be distinctly different the spectmm be fairly well approximate by the sum of t gaussian distribution the main p eak be at a wavelength of nm with a spread of run and the subsidiaiy peak be at run with a spread of nm if the temperature that the p eaks correspond to be weight accord to the amplitude of the peak then it give a black body temperature of k the efficiency in radiate light in the visible region be this experiment aim to compai e the efficiency of two white light source in emit radiation in the visible region of the spectrum this be achieve by record an interferogram for each source use a michelson interferometer and then compute the wavelength spectmm of the sow ces this result in the tungsten filament lamp be vastly less efficient than the white lead in a futw e experiment the efficiency of a great airny of source should be compare the efficiency in produce light should also be compare to get an overall efficiency for the light in convert the power supply to visible light",
            "abstract the objective be to verify tungsten a a black body radiator by use a spectrum to determine it operational temperature a michelson interferometer be use to obtain a spectrum for a tungsten filament the peak wavelength of the spectrum corresponds to a false peak due to the detector be unable to measure infrared wavelength a projection be make use a curve fit of the valid data to planck s law the fitting error be too large and so the experiment be determine to be inconclusive improvement to the experiment can be make by use a more sensitive photodetector our aim be to determine if tungsten filament radiates a blackbody base on it wavelength spectrum this be do by look at the continuity of the spectrum and determine the operational temperature by use wein s displacement law we hope to produce a spectrum for white tungsten light by use a michelson interferometer to obtain an interferogram and perform a fast fourier transform fft produce a spectrum fig show the schematic for a michelson interferometer light from the source travel to the beam splitter which sends the ray along perpendicular path the perpendicular light ray reflect off the mirror and recombine back at the beam splitter the recombine light be sent towards the photodetector the recombination result in an interference pattern be produce at the detector depend on the path difference of the ray consider the simplify model for the interferometer in fig an equation for constructive interference can be obtain where be the difference in the distance between the beam splitter and the mirror in the interferometer be the angle of incident and reflection in the model be the order number of the maximum intensity fringe of the interference pattern and be the wavelength of the light see appendix for the derivation it be clear to see that the path difference be proportional to the arm length difference for monochromatic light interference pattern can be observe for a large range of a the coherence length of the light be large however for observe white light which consist of many wavelength result in a much shorter coherence length interference pattern will only be see around the null point null point be observe when m by move the automate mirror within a small range through the null point an interferogram can be obtain by plot the detector reading against the position of the automate mirror a spectrum be obtain by use python to perform fft to convert the position space data into wavelength space data black body radiation be thermal electromagnetic em radiation release by an object in thermal equilibrium the specific spectrum of the emit radiation be dependent on the temperature of the object the spectral density of the black body radiation at a give temperature be described by planck s law where be the planck s constant be the boltzmann constant be the speed of light and be the absolute surface temperature in the case of a thin tungsten filament be the operational temperature a it be assume that the temperature investigate tungsten a a black body radiator opaque tube be the same throughout the filament the filament be also assume to be at thennal equilibrium wien s displacement law state that the peak wavelength for a black body be inversely proportional to it temperature where bi the wein s displacement constant and amax be the peak wavelength of the spectium by examine the spectium use planck s law and wien s law one can calculate the operational temperature for a tungsten filament typical temperature for tungsten filament be approximately k during usage a detail on the set up fig show the set up for the michelson interferometer that be use to conduct the experiment the arm of the interferometer be initially set such that they be approximately the same length and perpendicular this be do by use a magnetic ruler everything be align in the plane of the incident light the sensitivity of the set up mean that poor alignment can lead to a non horizontal interferogram and large error in the spectium for high wavelength the distance of the light sow ce and the detector from the beam splitter be not important for a bright focus sow ce of light like a laser however with ow tungsten sow ce which be relatively dim we chose to reduce the beam splitter to detector distance and put an opaque tube on the path from light sow ce to beam splitter this be to reduce sti ay light and increase the intensity on the detector cm and cm convex lens be also use to initially refract and then focus light at the detector dense black foam cards and a large black box be also use to isolate the detector from any extemal and stray light the automate mittor can ti avel unidirectionally along the path by command sent from a computer also the detector gain be adjust to a reasonable level such that the detector be not fully satw ated at maximum light intensity the null point be observe when t m to detennine the prelimina y range for the automate mittor in which the null point be locate a green laser be use and an interference pattem be observe by eye green laser because of it more limited number of wavelength have a much large coherence length compare to white light therefore an interference pattem can be observe throughout the maximum range of motion for the automate niitor by staiting at one of the end of the maximum range for the mi r and move it towards the other end at mm s we note weather the fringe be travel into or out of the central maximum of the haidinger fringe haidinger fringe be circular to make determine this motion more obvious we adjust the tilt of the fix mit ror until the centi al maximum be visible next we move mm in the original direction and repeat eventually within a mm range the fringe will move in the opposite direction we continued to nanow down the range until it be unclear to tell which direction the fringe be travel use this method we be able to detennine a mm range in which the null point be position next we carefully switch the green laser to a white tungsten source the white light have a significantly small coherence length approximately m than the green light there be many more wavelength present meaning they can correctly superpose to produce an interference pattem for a very limited distance by move the automate miitor through the narrow range at mm s we can observe an interferogram within a mm range a computer be use to collect the reading from the detector for a give position of the automate rnittor the interferograms and the spectmms for white tungsten light be shov il in fig there be a noticeable yet abnonnal peak in the spectrum which be on average at nm the average be found by find the peak wavelength of multiple tungsten white light spectmms use eqn the operational temperature of the tungsten filament be found to be k the uncertainty in the temperature be determine by consider the propagation of e rnr from the average peak wavelength the datasheet for the detector sfh claim the spectral range of sensitivity to be from nm to nm from our test a more accurate range be from nm to nm this show that the peak a see in the spectrum be false and likely due to the detector s inability to detect em radiation in the infrared a more computational approach be take to determine the operational temperature of the tungsten filament the valid data from within the correct sensitivity range for the detector be use to cwve fit to planck s law eqn in python do so allow u to project an approximate spectrum for tungsten and obtain the operational temperatw e a a parameter the fit and project spectrwn can be see in fig the calculate operational temperature of tungsten be x k even though the value of the temperature be closer to the expect value the uncertainty be large enough to invalidate this result this tr eatrnent on other tungsten white light spectrum result in similar result consider fig b the uncertainty be quite large due to the natw e of the cwve fitting and projection the data use for the cwve fit be only a very small section of the potential spectmm which make the behavior of the rest of the spectrwn unclear additionally ow initial assumption be incorrect could also lead to such a large uncertainty we assume that the tungsten filament emits light a a black body at thermal equilibrium potentially enough time be not give for the tungsten source to reach equilibrium temperatw e or tungsten may not behave a a black body if the latter be true then the treatment of cwve fitting to planck s law be invalid however this be unlikely due to the overwhelm amount of research show tungsten filament be a black body radiator other source of en or we face be minor the stability of the automate mitrnr can be determine by look at the separation in distance between consecutive measurement the standard e rnr of these separation be x s lllll at m s speed this be relatively ve y small and such show the motion of the automate miitor to be stable the noise level of the detector be determine to be negligible the reading from the detector when the light source be off be compare to when the light sow ce be on at a give gain the comparison show the noise level to be insignificant especially when reading be do near the null point give the negligible errnrs in the measw ements of the detector and motion of the automate mirror the interferogram for light with wavelength in the correct sensitivity range be accw ate therefore in the correct sensitivity range the spectmm data be valid unfortunately due to the large errnr in the value for the operational temperatw e the experiment must be deem inconclusive the large errnr be primarily due to the detector s inability to measure significantly outside the visible range for em radiation far experiment need to be conduct with a photodetector with a sensitivity range extend much far into the infrared this will allow for a much more accurate curve fit and low uncertainty in the parameter of the fit ideally a sensitive infrared the mometer will also be use to verify the temperature of the filament t the path difference for the reflect light ray to produce constmctive interference be where additionally substitute eqn and into eqn and simplify produce eqn ",
            "we use a michelson interferometer to conduct a spectral analysis of light source use a fourier transform method for the monochromatic laser diode the interferogram be use to directly calculate the wavelength a nm a similar analysis be apply to a white lead source whereby the fourier transform method produce a wavelength spectrum with two peak correspond to nm and nm an adjustment due to the photodiode sensitivity be apply and the result wavelength spectrum closely match the expect spectrum for the white lead i nterferometry be a powerful technique in which a beam of light be split and then superimpose with a phase difference to produce an interference pattern the pattern can be analyse to deduce the property of light i e wavelength in the initial beam interferometry have be responsible for fundamental scientific breakthrough such a disprove the luminiferous aether theory with the michelson morley experiment and the discovery of gravitational wave with sensitive laser interferometer the technique be also use with spectroscopy to analyse the composition of light wave from unknown source this method be prefer over spectroscopy with diffraction grate because the property of all wavelength of light be encode within the interferogram a fourier transform technique be use to decompose the interferogram into the frequency of light which produce the observe interference pattern we aim to use a fourier transform method with a michelson interferometer to conduct spectral analysis of the light emit by different source the technique can be extend to analyse emission spectrum of other atom similarly analysis of the solar spectrum can be use to resolve the element present in the photosphere a michelson interferometer fig involves the use of a beam splitter to divide a ray of light into two orthogonal ray one ray be direct towards a fix mirror while the other travel towards a mirror on a stage whose movement be control by powerful magnet the ray be reflect by the mirror to the beam splitter where they be recombine use the superposition principle and direct towards the photodetector consider monochromatic light of wave vector k and amplitude a k incident on the beam splitter if the mirror be align at the zero path difference point zpd the ray will fig a michelson interferometer split a beam of light into two orthogonal ray one ray be reflect by a fix mirror while the other ray be reflect by a mirror on a move stage the beam be recombine at the beam splitter and direct to the photodetector constructively interfere then if the mirror be move a distance x the path difference be x and the recombine wave be a k e i kx t e i kx k x t the resultant intensity at the photodetector can be write a where this expression consists of a constant term i k and an oscillatory term i k co k x if the light source consists of light of vary wave vector k where be the wavenumber then the resultant intensity at each path difference i x be an integral over the intensity of each of these wavenumbers which can be write a the fourier cosine transform of i see appendix a hence the intensity a a function of path difference i x be a fourier transform pair of the intensity a a function of wavenumber i then by measure the intensity with respect to path difference the intensity with respect to wavenumber can be deduce by take a fourier transform of the interferogram in our experiment we use a magnet controlled stage to accurately move the mirror and measure the intensity of the resultant beam use an osram sfh photodiode fig the beam splitter be align perpendicular to the mirror by verify a single point be visible on the screen in a an incorrectly tilt mirror produce two spot in b a correctly tilt mirror produce a single spot detector the alignment of the apparatus be conduct use a thorlabs collimate laser diode the motorise mirror be reset to it centre position and the beam splitter be align perpendicular to the normal of the mirror by ensure the reflect beam produce a single point see fig similarly the stage be move through it complete range to verify that there be no vertical tilt in the mirror or beam splitter the distance from the beam splitter to the mirror be measure and the fix mirror be position at the same distance exactly opposite the beam splitter see fig each mirror be individually align accord to the above procedure once the mirror be align a lens be use to enlarge the point on the screen and observe the fizeau interference pattern by vary the tilt of the fix mirror the angle of the mirror be fine tuned until circular fringe haidinger fringe be observe indicate the tilt alignment be such that circular symmetry be achieve after alignment be complete the laser be replace by a white lead which have a coherence length of m give that the detector operates at hz the maximum distance that the stage can move per second to detect the interference peak at zpd be approximately where l c be the coherence length and d mm for the white lead to ensure the peak be capture the initial scan be take at v mm s within a range of mm to mm which be sufficient to find the zpd we use a computer model to simulate the interferograms we expect to collect firstly for a source with a wavelength of nm and line width nm the observe intensity against path difference be plot in fig note that the wavelength of the plot in fig b be nm which corresponds to the simulated wavelength similar analysis can be extend to a source of white light which will contain multiple wavelength of visible light we can simulate this a a source with wavelength nm and a spectral width of nm the plot of intensity against path difference be show in fig we use the green collimate laser diode to produce an interferogram a show in fig the interferogram be conduct over a short range so the modulate gaussian shape be not completely developed and therefore the width of the envelope can not be calculate however the individual cosine oscillation can be resolve if the axis be scale appropriately fig b note that this be a plot of intensity against the fig a plot of the intensity in arbitrary unit against path difference for white light show a cosinusoid function which be modulate by a gaussian of width m position of the mirror x rather than the path difference x so we account for the factor of two in the fourier transform analysis when the fourier transform of fig be take and the unit be convert from wavenumber to wavelength a plot of amplitude in arbitrary unit against wavelength be produce in fig this appear to show an almost rectangular function in the range nm to nm with some strong noise the shape of the modulate gaussian be not clear so the fourier transform be not able to deduce the width of the correspond gaussian pair in wavenumber space the standard approach would be to take a long interferogram to resolve the width of the modulate gaussian but since the light from the laser be monochromatic it be possible to deduce the wavelength directly from the interferogram a with the simulated data in fig to determine the wavelength of the sinusoid in the interferogram we take an average of the separation between peak the interferogram be noisy and some data point be cluster due to instability in the move stage so analyse this data directly cause some point to be incorrectly identify a peak which can skew the result instead we calculate a linear move average of the data in a fix window of five data point this smooth the curve and behaves a a noise filter we can verify that apply the filter have improve the quality of the data by consider the histogram of the distance the mirror must move between peak in fig note that the wavelength be twice the distance move by the mirror between peak thus use the filter interferogram we calculate the wavelength of the light source a nm the expect value from the data sheet be nm there be a large error in the calculate wavelength due to the spread in the value for peak separation which arises from inaccuracy in the move stage we repeat the step for the white lead source produce a wide interferogram about the zpd see fig unlike the fig a plot of the intensity in arbitrary unit against position of the mirror in millimetre for a green laser show a an interferogram which we anticipate would take the shape of a modulate gaussian if the range of the mirror be extend in b the axis be scale to show the individual sinusoid that compose the interferogram fig the laser interferogram be fourier transform to wavenumber space and then the axis be scale to produce an amplitude against wavelength plot the plot appear to show a rectangular function between from nm to nm with noise in the centre which be likely due to the shape of the gaussian not develop in the correspond interferogram simulated interferogram in fig the actual interferogram have many more oscillation this indicates that the white lead do not output a symmetric gaussian distribution of wavelength a assume in the simulation the asymmetry in the interferogram be an indication that there be some misalignment of apparatus but the general shape of the interferogram be unaffected in fig we fourier transform the interferogram to wavenumber space and scale the axis to produce a graph of amplitude in arbitrary unit against wavelength the plot show two distinct gaussians overlap a gaussian with mean nm and standard deviation nm and another gaussian with mean nm and standard deviation nm one critical source of error in the experiment be the sensitivity of the photodiode detector to certain wavelength of light from the technical datasheet the photodiode be most suit to detect wavelength in the region nm to nm see fig for a give in nanometre we can model the fig a plot of intensity in arbitrary unit against the distance move by the mirror produce an interferogram which appear to show cosinusoid function modulate by some decay function note that the left side of the interferogram appear to be asymmetrical but the general shape of the interferogram should provide sufficient information for fourier analysis fig a fourier transform of the white lead interferogram can be use to resolve the wavelength in this light source the lead contains two distinct gaussian function the gaussian at nm be approximately of the amplitude of the gaussian at nm which be significantly wider sensitivity of the photodiode use a piecewise linear function then we divide the amplitude of the observe wavelength in fig by the correspond relative sensitivity of the photodiode for each give wavelength the result be a plot of the adjust amplitude of each wavelength in the interferogram a show in fig a note that this be almost identical to the resultant wavelength characteristic graph show with the black line in fig b fig the relative sensitivity of the photodiode a a function of the wavelength of incident light the photodiode be optimise for detect wavelength in the range nm to nm so be not ideal for analysis of visible spectrum a persistent source of error in this experiment be the motorise stage there be a systematic error in the way that the motorise stage move when specify to move at a constant velocity if the velocity be too low the stage do not move linearly but instead jumped between position and then cluster it data point until it move onto the next position this be apparent when the interferogram be analyse at a high resolution a fig there be also a random error in the value measure a the current position by the stage a histogram of the distance move by the stage between measurement reveals that in the above case the stage move an average distance of x nm per sample but with a standard deviation of nm with oscillation a far backwards a x nm between measurement the combine random and systematic error in the movement of the stage contributes the large error in the measure interferograms and hence in the observe wavelength the inadequacy of the photodetector in detect visible light have already be discus but the correspond effect have not be explore the sensitivity of the photodiode increase proportionally to for the range nm to nm fig in a the adjust amplitude for each wavelength show that the wavelength correspond to blue light be the most prevalent in the white lead follow by a wider mix of wavelength in the nm to nm range in b a white lead operating at temperature c consists of four gaussian peak with light emission at nm nm nm and nm correspond to blue cyan green and red respectively the resultant characteristic show in black have peak emission around nm and a small peak at nm thus if a light source have a characteristic emission spectrum such that the amplitude of light emit decrease a in the same range then the combine effect can result in the photodiode detect an interferogram which be the fourier transform of a rectangular function i e a sinc function it s possible that this effect contributes to the modulate envelope in fig a photodiode which be exclusively sensitive to wavelength in the visible spectrum would be more suitable for this experiment we have use the michelson interferometer with a fourier transform technique to conduct a spectral analysis of light from different source use simulated interferograms we fig the movement of the stage be not linear so the sample point be not linearly space and can be cluster between some measurement the stage appear to move in the wrong direction the error bar represent an error of x nm equivalent to time the average distance move per sample a move average filter be apply to this data in fig to reduce the effect of the stage instability predict a monochromatic source would produce a cosinusoidal function modulate by a wide gaussian envelope while a white light source would yield a cosinusoid modulate by a narrow gaussian we measure the wavelength of the green laser directly from the interferogram a nm which include the expect value of nm a fourier transform method could not be use directly on the interferogram a the shape of the modulate gaussian be not developed on the small range use spectral analysis of a white lead show two distinct wavelength peak at nm and nm the characteristic wavelength spectrum closely match the expect spectrum from the technical data sheet once the photodiode adjustment be apply the fourier cosine transform of a function f x be define a the equation we have derive in be this can be write a the first integral yield a constant say i while the second integral can be simplify by first note that i be not define for so suppose i i then the integrand of the second integral be even and we may write now use the substitution which give d d and the integral becomes a require hence i x and i be fourier transform pair",
            "michelson interferometer be use in conjunction with the fast fourier transform analysis technique to create a fourier transform spectrometer light from a white tungsten source be pas into the interferometer through the thorlabs green fl and yellow fb filter separately and analyse spectrum be produce which yield central wavelength value of nm and nm for green and yellow carry and error on manufacturer value respectively the full width half maximum fwhm value obtain be nm and nm for green and yellow respectively carry much large error of and this broadening be conclude to occur a a result of unreliable stage movement interfere with the fourier transform f ourier transform spectroscopy ft be a technique that utilizes the characteristic interference pattern generate by light source pas through an interferometer in order to obtain an emission spectrum for the source in this spectroscopy a michelson interferometer be use to interfere light from a source with itself over a vary path difference create an interferogram the interferograms be then analyse to produce an emission spectrum of the source by fourier transform the spatial interferogram into wavelength space this technique differs from dispersion spectroscopy where the fourier transform be effectively perform physically by the diffraction element ft be valuable in physic astronomy and chemistry a an accurate spectroscopy technique with a high resolve power the michelson interferometer make famous from the michelson morley experiment which first provide evidence for the nonexistence of the so called luminiferous ether u a coherent source and a path difference to create an interference pattern a illustrate in an incident beam can be pas through a beam splitter into two beam travel separate path these beam be then reflect and recombine in the splitter to create a new beam by vary the length of one of the path or arms with a mobile mirror label in figure you can create a path difference and hence phase difference between the two beam this phase difference cause an interference pattern which can be observe on a screen or by a detector a motorise stage be use to control the velocity of the mirror the range over which it move and the number of data sample take the fringe show in be the result of a monochromatic laser beam in a well aligned michelson interferometer the concentric circular fringe occur a the path difference of the light varies radially within the cross section of the light beam perpendicular to the direction of travel the interferograms produce by the michelson interferometer depend on the frequency of light present in the source use a computer to perform a fourier transform on the interferograms produce a spectrum in frequency space a fast fourier transform fft be use from the python scipy fftpack package to perform quick discrete fourier transforms on our bulk set of data the discrete fourier transform dft be give by where x n x x x n be a signal in configuration space compose of n number and x x k k n be the transform signal in wavelength space in the context of our data x n be the detect interferogram and corresponds to a sequence of value of intensity over a range of position x k be therefore the power spectrum in frequency space which can be convert to wavelength space a a continuous fourier transform change the domain of a function over a continuous interval a dft performs the same function for discrete datasets with small evenly spaced separation this make it easy to be perform by a computer and the fft employ an algorithm which reduces the processing time of a dft such that execution time scale a n log n a oppose to n for a regular dft calculation give that the mirror move at a fix speed and sample rate for all data set the assumption that the separation between data point take be small compare to the total range of movement and even be take to be true in iv the fourier transforms perform be on wavepackets that follow a gaussian form or similar by take the transform into wavelength space of a gaussian you create another gaussian with related property where be wavelength the transform domain be the width of the configuration space gaussian and be the width of the wavelength space gaussian and it can be show that this implies that a wide interferogram wavepacket will produce a narrow spectral distribution and vice versa this effect will be observable on the spectrum present in later section the first objective of the investigation be to locate the null point of the apparatus the null point be the point of zero path difference between the beam and occurs when the length of the arm of the interferometer be identical because of this it be around the null point where the interence pattern intensity be great and so it be essential to know this point in order to produce interferograms quickly and easily a per the instruction in the interferometer be construct such that the distance between the splitter and each mirror be measurably similar within a few millimeter a green laser with an expand lens be then use a the light source such that clear haidinger fringe be produce such a those in the stage be translate to an arbitrary start location and then move through a small displacement in the positive direction such that the fringe could be observe to be travel radially outwards or inwards a property of the null point be that the direction of movement of the fringe switch around it furthermore the closer the stage be to the nullpoint the wider the observe fringe be so few be visible in a fix area hence by move the stage to different location and note the direction of motion of the fringe a well a the fringe size a quick binary style search can be perform to find the range that contains the null point an example of this search be give in table i the table show a convergence on the null point to a mm interval between mm and mm at this interval the expand laser be no longer appropriate for find the source a the fringe become too big to tell what direction they be move in a white lead be use instead a our simulation show that it interferogram would be null everywhere expect at distance very close to the null point see a the width of the distribution of wavelength in the light from the white lead be very large and cover the visible spectrum which a mention in ii b corresponds to a narrow interferogram hence the null point could be localise quickly use this source the interval determine in i be scan through through iterative narrow down of the interval contain the null point eventually a detailed interferogram could be take the number of sample to be take and the distance move by the mirror be configure so that the distance between sample be nm which be the small resolvable distance the stage be capable of move in prior experimentation with the apparatus it be found that if the distance between sample be less than this then the data become erratic furthermore if the small distance move be less than the small resolvable distance of the stage then one can not consider the individual measurement of distance reliable use the interferogram obtain it be possible to analytically determine the null point the interferogram have a non zero background signal which be determine use numpy mean and subtract from the signal data this be to make the code to fit the data easy the background adjust interferogram for the white lead be show in the interferogram be symmetrical in the distance axis so only one half of the data need to be fit in order to find the position of the peak therefore the absolute value of signal be plot against position and be found to fit a gaussian distribution sufficiently well use the scipy optimize curve fit function the parameter for the mean and standard deviation be optimise and the result fit be show in the parameter return determine the null point to be at mm the same process be repeat for three more datasets include two of the blue lead to include the effect of the distribution type on the fit parameter the mean value of the null point with standard deviation be then determine a mm this value be not consistent with the result of the binary search from table i this be because a fine alignment alteration be make between the green laser and the white lead that change the null point very slightly such that it be easy to find without repeat the binary search by extend the scan interval this null point value be use to centre all the interferograms produce from other light source the thorlabs sls l be use a a light source for this investigation without a filter apply the lamp act a a white light source a it be approximately a black body radiator and compare to the white lead be less intense and visibly more orange in light our spectrum in support this observation a it show a large bandwidth fwhm nm that cover most of the visible light spectrum imply white light but have very low intensity at the blue wavelength of light nm the graph also show high intensity outside of visible light and the central wavelength nm be in infrared from the gaussian be not a perfect fit due to the shape of the distribution and this make our cite an estimate the uncertainty give be produce by the fit package but be an underestimate a black body emission would be a well fit and be provide in the documentation for the lamp the tungsten lamp be use in conjunction with the fl green filter in the setup from ii a the interferogram obtain however have the feature of an uneven background level this shift in background intensity could have be due to a slight misalignment in the apparatus such a the adjustable fix mirror be slightly realign this would change the centre of the interference pattern on the detector and could cause a gradient in intensity a the path difference change in order to counter this a linear fit be make in python to characterise the vary background slope and this be then subtract from the data to rectify it result in the improve interferogram in it be worth note that the background do not affect the fourier transform of the data a the spectrum only depends on the frequency of the light and not their absolute position the result interferogram be then fourier transform use the package delineate in ii b to produce an emission spectrum figure which be analyse figure show that the gaussian do not perfectly fit the data but give a good approximation of the mean and width of the spectral distribution the mean wavelength obtain from the fit parameter be nm with an fwhm of nm the fwhm full width half maximum be a width measurement calculate from the standard deviation parameter sigma optimise during the gaussian fit use the formula f w hm log from the thorlabs specification for the filter the central wavelength nm with an fwhm of nm be quote which do not include the obtain value of either central wavelength or width in it tolerance the estimate wavelength carry an error of which be small but not negligible give the precision of the apparatus use and the magnitude of the distance the experiment operate over it be likely that the error on the central wavelength give by the fit parameter of the gaussian be an underestimate a there be a large spread around the peak of the curve if a well fit function be found that yield a more representative uncertainty then the experimental value for could include the manufacturer s wavelength the fwhm found from the fit have error compare to the value quote in which be a significant spectral broadening this spectral broadening could be due to the unreliability in the movement of the stage at small distance which would cause it to move by large amount than the calculate distance between sample thus cause a spread in the signal pattern when look directly at the signal and distance data generate from the detector the distance interval between measurement be not regular and can vary by up to an order of magnitude some consecutive measurement have position difference of only a few nanometre whereas some have difference great than the nm calculate separation this give credit to the idea that the stage s movement at small distance be not reliable even though the data look smoother when compare to data take from run where the number of sample lead to a calculate measurement separation of less than nm this creates problem a an even separation between data point be one of the assumption that validate the use of a dft and hence the fft use to calculate the spectrum since this condition have be violate it be reasonable to suggest that the broadening of the spectral peak could be due to effect create by the fft by use a calculate data point separation in the fft when the actual separation of value be irregular the spectrum could easily have be broaden by cast value for signal to incorrect wavelength value the interferogram produce by the tungstgen lamp with a yellow filter do not require an alteration for linear background intensity which support the idea that the change in intensity type be due to a misalignment before take the data for the green filter a the green filter be the last experiment to be execute the spectrum from the yellow filter interferogram be show in the value nm and fwhm nm be obtain from the fit in the central wavelength have an error of on the manufacturer s value also found in and the fwhm have a error these discrepancy be consistent with those in iv a which corroborate the explanation make a it give evidence that the data set for the green filter be not unique compare figure and the distribution be similar also show a large spread of data nearer the peak which would imply a large uncertainty on the peak wavelength than give by the fit parameter at the base of the distribution it be also visible that the gaussian overshoot the data which implies the fwhm might be overestimate by the fit parameter albeit not by an amount that would reduce it to the value give by the manufacturer look closely at the data point the spread at the top of the distribution look like a double peak this be not mention anywhere in the manufacturer s documentation and there be no physical reason that could be determine for their to be two peak wavelength let through by the filter and so only one peak be fit it be possible that the appearance of this double peak be due to the stage movement and fft issue discus in iv a this experiment have demonstrate the power of fourier transform spectroscopy to utilise simple interferometry principle and computational method to analyse light source in detail with good result for the wavelength of spectrum yield error of and on wavelength of the green and yellow light source respectively however there be a clear spectral broadening effect apparent in the result see in the experiment with the monochromatic distribution appear time a wide a expect this have be attribute to the motorise stage use in the experiment after inspection of the raw data and consideration of the analysis technique use this do not discredit the technique a a whole which could produce precise and accurate result with the correct equipment an interest comparison would be to test a different stage and see if the broadening be reduce but this be beyond the scope of the experiment the interferogram of a white light source be simulated and produce at large scale this distribution look simply like a vertical spike in a zero signal which make it easy to locate when scan though large range hence why the white lead be use the null point itself be locate at the origin on the diagram which corresponds to the point at the peak of the signal envelope by model the signal a a gaussian packet the mean position can be found and the null point determine"
           ],
           [
            "exp",
            "the",
            "exp",
            "bal",
            "none",
            "the",
            "exp",
            "the",
            "bal",
            "exp"
           ],
           [
            "expert",
            "deep",
            "extended",
            "extended",
            "superficial",
            "expert",
            "superficial",
            "prediction",
            "expert",
            "deep"
           ]
          ]
         },
         "columnwidth": [
          300,
          40,
          40
         ],
         "header": {
          "fill": {
           "color": "lightgrey"
          },
          "font": {
           "size": 14
          },
          "height": 48,
          "line": {
           "color": "black"
          },
          "values": [
           "<b>Document Identification</b>",
           "<b>Epistemology</b>",
           "<b> Argument Level </b>"
          ]
         },
         "type": "table"
        }
       ],
       "layout": {
        "template": {
         "data": {
          "bar": [
           {
            "error_x": {
             "color": "#2a3f5f"
            },
            "error_y": {
             "color": "#2a3f5f"
            },
            "marker": {
             "line": {
              "color": "#E5ECF6",
              "width": 0.5
             },
             "pattern": {
              "fillmode": "overlay",
              "size": 10,
              "solidity": 0.2
             }
            },
            "type": "bar"
           }
          ],
          "barpolar": [
           {
            "marker": {
             "line": {
              "color": "#E5ECF6",
              "width": 0.5
             },
             "pattern": {
              "fillmode": "overlay",
              "size": 10,
              "solidity": 0.2
             }
            },
            "type": "barpolar"
           }
          ],
          "carpet": [
           {
            "aaxis": {
             "endlinecolor": "#2a3f5f",
             "gridcolor": "white",
             "linecolor": "white",
             "minorgridcolor": "white",
             "startlinecolor": "#2a3f5f"
            },
            "baxis": {
             "endlinecolor": "#2a3f5f",
             "gridcolor": "white",
             "linecolor": "white",
             "minorgridcolor": "white",
             "startlinecolor": "#2a3f5f"
            },
            "type": "carpet"
           }
          ],
          "choropleth": [
           {
            "colorbar": {
             "outlinewidth": 0,
             "ticks": ""
            },
            "type": "choropleth"
           }
          ],
          "contour": [
           {
            "colorbar": {
             "outlinewidth": 0,
             "ticks": ""
            },
            "colorscale": [
             [
              0,
              "#0d0887"
             ],
             [
              0.1111111111111111,
              "#46039f"
             ],
             [
              0.2222222222222222,
              "#7201a8"
             ],
             [
              0.3333333333333333,
              "#9c179e"
             ],
             [
              0.4444444444444444,
              "#bd3786"
             ],
             [
              0.5555555555555556,
              "#d8576b"
             ],
             [
              0.6666666666666666,
              "#ed7953"
             ],
             [
              0.7777777777777778,
              "#fb9f3a"
             ],
             [
              0.8888888888888888,
              "#fdca26"
             ],
             [
              1,
              "#f0f921"
             ]
            ],
            "type": "contour"
           }
          ],
          "contourcarpet": [
           {
            "colorbar": {
             "outlinewidth": 0,
             "ticks": ""
            },
            "type": "contourcarpet"
           }
          ],
          "heatmap": [
           {
            "colorbar": {
             "outlinewidth": 0,
             "ticks": ""
            },
            "colorscale": [
             [
              0,
              "#0d0887"
             ],
             [
              0.1111111111111111,
              "#46039f"
             ],
             [
              0.2222222222222222,
              "#7201a8"
             ],
             [
              0.3333333333333333,
              "#9c179e"
             ],
             [
              0.4444444444444444,
              "#bd3786"
             ],
             [
              0.5555555555555556,
              "#d8576b"
             ],
             [
              0.6666666666666666,
              "#ed7953"
             ],
             [
              0.7777777777777778,
              "#fb9f3a"
             ],
             [
              0.8888888888888888,
              "#fdca26"
             ],
             [
              1,
              "#f0f921"
             ]
            ],
            "type": "heatmap"
           }
          ],
          "heatmapgl": [
           {
            "colorbar": {
             "outlinewidth": 0,
             "ticks": ""
            },
            "colorscale": [
             [
              0,
              "#0d0887"
             ],
             [
              0.1111111111111111,
              "#46039f"
             ],
             [
              0.2222222222222222,
              "#7201a8"
             ],
             [
              0.3333333333333333,
              "#9c179e"
             ],
             [
              0.4444444444444444,
              "#bd3786"
             ],
             [
              0.5555555555555556,
              "#d8576b"
             ],
             [
              0.6666666666666666,
              "#ed7953"
             ],
             [
              0.7777777777777778,
              "#fb9f3a"
             ],
             [
              0.8888888888888888,
              "#fdca26"
             ],
             [
              1,
              "#f0f921"
             ]
            ],
            "type": "heatmapgl"
           }
          ],
          "histogram": [
           {
            "marker": {
             "pattern": {
              "fillmode": "overlay",
              "size": 10,
              "solidity": 0.2
             }
            },
            "type": "histogram"
           }
          ],
          "histogram2d": [
           {
            "colorbar": {
             "outlinewidth": 0,
             "ticks": ""
            },
            "colorscale": [
             [
              0,
              "#0d0887"
             ],
             [
              0.1111111111111111,
              "#46039f"
             ],
             [
              0.2222222222222222,
              "#7201a8"
             ],
             [
              0.3333333333333333,
              "#9c179e"
             ],
             [
              0.4444444444444444,
              "#bd3786"
             ],
             [
              0.5555555555555556,
              "#d8576b"
             ],
             [
              0.6666666666666666,
              "#ed7953"
             ],
             [
              0.7777777777777778,
              "#fb9f3a"
             ],
             [
              0.8888888888888888,
              "#fdca26"
             ],
             [
              1,
              "#f0f921"
             ]
            ],
            "type": "histogram2d"
           }
          ],
          "histogram2dcontour": [
           {
            "colorbar": {
             "outlinewidth": 0,
             "ticks": ""
            },
            "colorscale": [
             [
              0,
              "#0d0887"
             ],
             [
              0.1111111111111111,
              "#46039f"
             ],
             [
              0.2222222222222222,
              "#7201a8"
             ],
             [
              0.3333333333333333,
              "#9c179e"
             ],
             [
              0.4444444444444444,
              "#bd3786"
             ],
             [
              0.5555555555555556,
              "#d8576b"
             ],
             [
              0.6666666666666666,
              "#ed7953"
             ],
             [
              0.7777777777777778,
              "#fb9f3a"
             ],
             [
              0.8888888888888888,
              "#fdca26"
             ],
             [
              1,
              "#f0f921"
             ]
            ],
            "type": "histogram2dcontour"
           }
          ],
          "mesh3d": [
           {
            "colorbar": {
             "outlinewidth": 0,
             "ticks": ""
            },
            "type": "mesh3d"
           }
          ],
          "parcoords": [
           {
            "line": {
             "colorbar": {
              "outlinewidth": 0,
              "ticks": ""
             }
            },
            "type": "parcoords"
           }
          ],
          "pie": [
           {
            "automargin": true,
            "type": "pie"
           }
          ],
          "scatter": [
           {
            "fillpattern": {
             "fillmode": "overlay",
             "size": 10,
             "solidity": 0.2
            },
            "type": "scatter"
           }
          ],
          "scatter3d": [
           {
            "line": {
             "colorbar": {
              "outlinewidth": 0,
              "ticks": ""
             }
            },
            "marker": {
             "colorbar": {
              "outlinewidth": 0,
              "ticks": ""
             }
            },
            "type": "scatter3d"
           }
          ],
          "scattercarpet": [
           {
            "marker": {
             "colorbar": {
              "outlinewidth": 0,
              "ticks": ""
             }
            },
            "type": "scattercarpet"
           }
          ],
          "scattergeo": [
           {
            "marker": {
             "colorbar": {
              "outlinewidth": 0,
              "ticks": ""
             }
            },
            "type": "scattergeo"
           }
          ],
          "scattergl": [
           {
            "marker": {
             "colorbar": {
              "outlinewidth": 0,
              "ticks": ""
             }
            },
            "type": "scattergl"
           }
          ],
          "scattermapbox": [
           {
            "marker": {
             "colorbar": {
              "outlinewidth": 0,
              "ticks": ""
             }
            },
            "type": "scattermapbox"
           }
          ],
          "scatterpolar": [
           {
            "marker": {
             "colorbar": {
              "outlinewidth": 0,
              "ticks": ""
             }
            },
            "type": "scatterpolar"
           }
          ],
          "scatterpolargl": [
           {
            "marker": {
             "colorbar": {
              "outlinewidth": 0,
              "ticks": ""
             }
            },
            "type": "scatterpolargl"
           }
          ],
          "scatterternary": [
           {
            "marker": {
             "colorbar": {
              "outlinewidth": 0,
              "ticks": ""
             }
            },
            "type": "scatterternary"
           }
          ],
          "surface": [
           {
            "colorbar": {
             "outlinewidth": 0,
             "ticks": ""
            },
            "colorscale": [
             [
              0,
              "#0d0887"
             ],
             [
              0.1111111111111111,
              "#46039f"
             ],
             [
              0.2222222222222222,
              "#7201a8"
             ],
             [
              0.3333333333333333,
              "#9c179e"
             ],
             [
              0.4444444444444444,
              "#bd3786"
             ],
             [
              0.5555555555555556,
              "#d8576b"
             ],
             [
              0.6666666666666666,
              "#ed7953"
             ],
             [
              0.7777777777777778,
              "#fb9f3a"
             ],
             [
              0.8888888888888888,
              "#fdca26"
             ],
             [
              1,
              "#f0f921"
             ]
            ],
            "type": "surface"
           }
          ],
          "table": [
           {
            "cells": {
             "fill": {
              "color": "#EBF0F8"
             },
             "line": {
              "color": "white"
             }
            },
            "header": {
             "fill": {
              "color": "#C8D4E3"
             },
             "line": {
              "color": "white"
             }
            },
            "type": "table"
           }
          ]
         },
         "layout": {
          "annotationdefaults": {
           "arrowcolor": "#2a3f5f",
           "arrowhead": 0,
           "arrowwidth": 1
          },
          "autotypenumbers": "strict",
          "coloraxis": {
           "colorbar": {
            "outlinewidth": 0,
            "ticks": ""
           }
          },
          "colorscale": {
           "diverging": [
            [
             0,
             "#8e0152"
            ],
            [
             0.1,
             "#c51b7d"
            ],
            [
             0.2,
             "#de77ae"
            ],
            [
             0.3,
             "#f1b6da"
            ],
            [
             0.4,
             "#fde0ef"
            ],
            [
             0.5,
             "#f7f7f7"
            ],
            [
             0.6,
             "#e6f5d0"
            ],
            [
             0.7,
             "#b8e186"
            ],
            [
             0.8,
             "#7fbc41"
            ],
            [
             0.9,
             "#4d9221"
            ],
            [
             1,
             "#276419"
            ]
           ],
           "sequential": [
            [
             0,
             "#0d0887"
            ],
            [
             0.1111111111111111,
             "#46039f"
            ],
            [
             0.2222222222222222,
             "#7201a8"
            ],
            [
             0.3333333333333333,
             "#9c179e"
            ],
            [
             0.4444444444444444,
             "#bd3786"
            ],
            [
             0.5555555555555556,
             "#d8576b"
            ],
            [
             0.6666666666666666,
             "#ed7953"
            ],
            [
             0.7777777777777778,
             "#fb9f3a"
            ],
            [
             0.8888888888888888,
             "#fdca26"
            ],
            [
             1,
             "#f0f921"
            ]
           ],
           "sequentialminus": [
            [
             0,
             "#0d0887"
            ],
            [
             0.1111111111111111,
             "#46039f"
            ],
            [
             0.2222222222222222,
             "#7201a8"
            ],
            [
             0.3333333333333333,
             "#9c179e"
            ],
            [
             0.4444444444444444,
             "#bd3786"
            ],
            [
             0.5555555555555556,
             "#d8576b"
            ],
            [
             0.6666666666666666,
             "#ed7953"
            ],
            [
             0.7777777777777778,
             "#fb9f3a"
            ],
            [
             0.8888888888888888,
             "#fdca26"
            ],
            [
             1,
             "#f0f921"
            ]
           ]
          },
          "colorway": [
           "#636efa",
           "#EF553B",
           "#00cc96",
           "#ab63fa",
           "#FFA15A",
           "#19d3f3",
           "#FF6692",
           "#B6E880",
           "#FF97FF",
           "#FECB52"
          ],
          "font": {
           "color": "#2a3f5f"
          },
          "geo": {
           "bgcolor": "white",
           "lakecolor": "white",
           "landcolor": "#E5ECF6",
           "showlakes": true,
           "showland": true,
           "subunitcolor": "white"
          },
          "hoverlabel": {
           "align": "left"
          },
          "hovermode": "closest",
          "mapbox": {
           "style": "light"
          },
          "paper_bgcolor": "white",
          "plot_bgcolor": "#E5ECF6",
          "polar": {
           "angularaxis": {
            "gridcolor": "white",
            "linecolor": "white",
            "ticks": ""
           },
           "bgcolor": "#E5ECF6",
           "radialaxis": {
            "gridcolor": "white",
            "linecolor": "white",
            "ticks": ""
           }
          },
          "scene": {
           "xaxis": {
            "backgroundcolor": "#E5ECF6",
            "gridcolor": "white",
            "gridwidth": 2,
            "linecolor": "white",
            "showbackground": true,
            "ticks": "",
            "zerolinecolor": "white"
           },
           "yaxis": {
            "backgroundcolor": "#E5ECF6",
            "gridcolor": "white",
            "gridwidth": 2,
            "linecolor": "white",
            "showbackground": true,
            "ticks": "",
            "zerolinecolor": "white"
           },
           "zaxis": {
            "backgroundcolor": "#E5ECF6",
            "gridcolor": "white",
            "gridwidth": 2,
            "linecolor": "white",
            "showbackground": true,
            "ticks": "",
            "zerolinecolor": "white"
           }
          },
          "shapedefaults": {
           "line": {
            "color": "#2a3f5f"
           }
          },
          "ternary": {
           "aaxis": {
            "gridcolor": "white",
            "linecolor": "white",
            "ticks": ""
           },
           "baxis": {
            "gridcolor": "white",
            "linecolor": "white",
            "ticks": ""
           },
           "bgcolor": "#E5ECF6",
           "caxis": {
            "gridcolor": "white",
            "linecolor": "white",
            "ticks": ""
           }
          },
          "title": {
           "x": 0.05
          },
          "xaxis": {
           "automargin": true,
           "gridcolor": "white",
           "linecolor": "white",
           "ticks": "",
           "title": {
            "standoff": 15
           },
           "zerolinecolor": "white",
           "zerolinewidth": 2
          },
          "yaxis": {
           "automargin": true,
           "gridcolor": "white",
           "linecolor": "white",
           "ticks": "",
           "title": {
            "standoff": 15
           },
           "zerolinecolor": "white",
           "zerolinewidth": 2
          }
         }
        },
        "title": {
         "text": "Topic 1: ['wavelength', 'datum', 'source', 'stage', 'position', 'point', 'range', 'value', 'move', 'set']"
        }
       }
      }
     },
     "metadata": {},
     "output_type": "display_data"
    },
    {
     "data": {
      "application/vnd.plotly.v1+json": {
       "config": {
        "plotlyServerURL": "https://plot.ly"
       },
       "data": [
        {
         "cells": {
          "align": [
           "center",
           "center",
           "center",
           "left",
           "left"
          ],
          "fill": {
           "color": "white"
          },
          "font": {
           "size": 12
          },
          "height": 48,
          "line": {
           "color": "black"
          },
          "values": [
           [
            "all the light emit source have their own unique wavelength and some of them consist of more than one wavelength by use the same set up a the michelson morley experiment we investigate the radiation property of blue and white lead and tungsten and mercury lamp it be found that the blue lead tungsten and mercury lamp emit a mean wavelength of nm nm and nm respectively on the other hand the white lead emits light with two wavelength nm and nm also for the tungsten and me cm y lamp their mean temperature be calculate by wien s displacement law w hen two or more coherent wave su erpose they fo m a great or low wave and this knov rn a wave interference the amplitude of the resultant wave depends on their phase difference and therefore their frequency which mean it be possible to analyse the component wave by investigate the resultant wave this technique be widely use in many different branch of science and be particularly well known a be use in the michelson morley experiment in albeit michelson and edward morley use white light and a half silvered mitrnr which split the light into two pe pendicular beam a show in fig and try to see the path difference from these two beam so that they could prove the existence of the aether which be assume to be a medium of light even though they repeat the experiment with increase sensitivity the result be always negative this experiment have be know a the most famous fail experiment and michelson won the nobel prize in physic the two split beam be completely in phase then it would produce a constmctive interference pattem however if the sjpeed of the beam change after be reflect at the splitter then they be not in phase cause the interference pattem to differ from the original and a destmctive interference pattem would occur depend on the degree of the change in speed the change in speed of the beam mean the time take for the light to re enter the half silvered mi rnr would chan e likewise the same result can also be obtain if fhe separation of the two min or change which result in a change in time take for the light to go back to the halfsilvered min or and therefore the phase difference in the experiment we change the position of the rniitor to investigate an interference pattem of several light source michelson morley interferometer layout a monochromatic point source in the michelson morley experiment cause localise interference fringe if the mirtors be perfectly perpendicular then the fringe be an equal inclirration or haidirrger frirrges these frirrges have a shape of a circle a the perfectly perpendicular or perfectly parallel lens produce two virtual image result irr a formation of concentric spherical fringespl a the angle of the irrclirration change the spherical fringe become laterally move and a a result they tum into a hyperbolic and linear shape the haidinger fringe do not appear when a chromatic source be use so we initially use a green light source to find the null point in the experiment we use a photodetector to analyse the change in the intensity of the superpose wave the photodetector we use have a sample rate of hz which mean the detector only can measure sample per second the nyquist theorem can be simply state a the sample frequency should be twice great than the high frequency contain in the signal this mean that for one full oscillation of a sinusoidal wave sample the detector should be able to measure at least two point of the wave therefore accord to the nyquist theorem for a wave of a wavelength of nm one oscillation of wave should at least take second so that the detector can measure at least two point of this wave therefore in the experiment the motor should move at most uns when two or more wavelength with different frequency interfere there exists a constructive interference and destructive interference a show in fig this give a new shape which can be perceive a a periodic wave and the distance from a crest to an adjacent crest be call a coherence length of this new wave the coherence length can be use to evaluate the spectral width of this periodic wave a t v x l n where t v be the spectral width in hertz li the coherence length in metre and c be the speed oflight x ms to conve t the spectral width into the range of wavelength c v x a f where a be the range of the wavelength and a be the peak frequency in the range by combine and we can relate the spectral width and the range of the wavelength a j a x n l the wien s displacement law state that for black body object they emit blackbody radiation with a peak wavelength give by b amax t where b be call wien s displacement constant equal to x mk and t be the absolute temperature of the blackbody in kelvin we set up the michelson morley interferometer a show in fig yet the screen be replace to a photodetector and one of the miitors be built on a motor so that we could finely change it position and va y the light intensity detect at the detector the detector be connect to a computer which we could analyse the change in the light intensity where the change be cause by constructive and destructive interference of the split beam the maximum constructive interference occurs when the two min ors be at the same level and at the same distance away from the beam splitter a discus in theo y pa t when the light be monochromatic and coherent and the separation be equal there should be haidinger fringe on ha jun yoon n s n j j na j i the position of the null point the maximum peak be at mm away from the centre of the motor the screen at this null point therefore we use a green laser with a piano convex lens and sa w the haidinger fringe to ensure that the beam be perfectly align then we replace the laser and lens to white lead in order to find a preliminary null point we then use the computer to move the motor sensitively to find the null point the motor moved mm around the preliminary null point with a speed of m per second where the speed be chosen after a number of simulation cod work which ensure that the value be sufficiently time efficient and follow the nyquist theorem by analyse the variation of the light intensity and find the peak in this region we found the null point which be show in fig then we replace the light source to a blue lead a tungsten source and a mercury discharge lamp and investigate the variation of the light intensity around the null point we be give a code which perfonns fast fourier transfonns on the inte ferogram which i do not understand by hea t this turn the interferogram back to a wavelength sjpectmm which lead u to analyse the component wavelength of each source a white lead blue lead white light tungsten and mercury lamp be use and we observe that they overall have some similar pattems a show in fig we expect and saw the increment of the intensity of the incident compound light a the motor and the second rnittor approach towards the null point also they be all emit light with one or two wavelength band yet with different width first of all for the blue lead the interferogram and the fft of the interferogram a re show in fig the interferogram graph show that the blue lead the coherence length be about x m which allows u to find the spectral width of the blue lead source by use the spectral width be found to be x hz and therefore the range of the wavelength be run the fft graph show that most of the light be emit with a wavelength of nm on the other hand for the white lead we observe that it contains more than one peak but two a show in fig the interferogram show that the coherence length for the white lead be about x m although the interferogram seem to be the same a the blue lead with a great coherence length the fft frankly tell that the white lead and we found that the wavelength of the tv o peak be run and nm this result can be explain with the structure of lead most of the white lead consist of a driver lead and a blue lead with a layer which encloses it a a wave emit from the blue lead travel through the layer it interferes with the layer and turn into white ish light due to an imperfection of the manufacturing process and age of lead some of the wave emit from the white lead have a blue wave wavelength thirdly the tungsten lamp show in fig seem to have a genuinely similar pattem with the white lead but a broader width the coherence length and the spectral width a re found to be x l m and x hz respectively this give the wavelength of the light emit from the tungsten source be in the range of nm lastly for the mercury lamp it be found that the wavelength be in the range of nm for the tungsten and mercwy lamp their ffts show that the tail be more spread than of the lead this be because the tungsten and mercury lamp radiate light in the form of the thermal radiation which in theory should contain almost all wavelength a show in fig we found out that the movement of the motor be not consistent but the distance between sample varies we measure the distance it move per sample and make a histogram a show in fig with a gaussian fit even though the sample size be not big enough the histogram and the gaussian fit show that the mean distance between sample be m with a standard deviation of which arises an uncertainty of we can approximate the tungsten source and the mercury lamp a blackbody whereas not the lead since lead be pn junction which emit light depend on the band gap of the lead which depends on the material that they be make of whereas blackbody radiate light only depend on their temperature by use the wein s displacement law give in we can approximate the temperature of the tungsten and mercury lamp a k and k respectively however the melt point of the tungsten be k so i highly doubt our tungsten measurement the accepted temperature range of mercury be between k and k and therefore we agree that our measurement for mercury be reliably do the major error source throughout the experiment be the inconsistency in the motor movement since this be a systematic error we could not remove this fundamental error of the experiment to make it reliable also a discus in result a wavelength of each source the blackbody object should emit wave with a continuous hill shape of wavelength but our experiment give a bell like shape graph just like lead we could not figure out why this happen throughout the experiment we investigate the light emitting property of white blue lead tungsten and mercury lamp by use the michelson morley experiment set up and found the wavelength spectrum of the source and calculate their peak wavelength however we arrive at a disappoint result in find the colour temperature of the tungsten apart from this all the other value seem to be in an acceptable range so the tungsten measurement should be repeat",
            "we use a michelson interferometer to investigate the spectral composition of blue and while lead and a tungsten white light source with green and yellow filter we fast fourier transform the interferograms and gaussian fit the wavelength spectrum to measure the mean wavelength and coherence length of the source for the blue lead source and green and yellow filter tungsten source we fit gaussian curve to the wavelength spectrum from which we be able to determine the mean wavelength and coherence length to be and and and respectively for the white lead source we fit two gaussian curve obtain a mean wavelength of and a coherence length of since a tungsten source act a a black body we use wien s displacement law to estimate it operating temperature a the michelson interferometer have be a useful tool in uncover the physic underpin many physical phenomenon it be use famously in in the michelson morley experiment to disprove the theory of the luminiferous ether since it have be greatly refine and in be use in the ligo experiment to observe the first gravitational wave in this experiment we use the michelson interferometer to investigate the characteristic of different light source we use a green lead source to align the interferometer and locate the null point the position at which light observes the mirror a be equidistant from the source we observe that at this point haidinger fringe appear to stop move inwards and start move outwards from the central maximum we use a detector to measure the amplitude of the signal produce when mirror m be move across a small region surround the null point for each of the light source use the fourier transform of these interferograms we be able to measure the mean wavelength and spectral width of the emission spectrum of the light source and be far able to measure their coherence length for the white light tungsten source we be also able to determine it operating temperature ii theory a michelson interferometer consists of a light source a beam splitter two mirror and a detector in a set up illustrate in fig the beam splitter divide the light from the source into two beam direct to either mirror one side of the mirror have a dielectric plate which change the phase of one of these beam in such a way that when there be zero path difference between the mirror destructive interference occurs the wave interfere at the beam splitter and pa towards the detector where the signal amplitude be measure m be set in motion and the signal amplitude change a the path difference change the detector be connect to a computer which plot the interferogram if the mirror be at right angle to one another and the beam splitter be align correctly then the parallel light ray appear to be come from infinity and circular fringe know a haidinger fringe be visible if the mirror be slightly tilt relative to one another the ray appear to come from an extend source reflect by two mirror separate by a fix distance and fizeau fringe be visible the location of the maximum of the signal be govern by where be the separation of m and m be the angle of incidence of the ray at the mirror and be the order of the maximum see vii appendix for derivation a filter have an associate bandwidth which be transmit when a light source be project through it ideally this would have a square form where each wavelength within the bandwidth be completely transmit however this be unrealistic and the filter we use have a gaussian transmission form the green filter transmits a mean wavelength of with s the yellow filter transmits a mean wavelength of coherence length be a of the distance over which one arm of a michelson interferometer can be scan before the interferogram contrast becomes poor theoretically speak for path difference great than the coherence length the phase difference become random the coherence length be related to the spectral width by where be the spectral width a measure of the range of frequency emit by the source since we fourier investigate the characteristic of different light source and filter transform the interferogram into wavelength space we must convert the wavelength width to spectral width use the follow relation where be the wavelength width and be the mean wavelength prior to construct the interferometer we simulated the interferogram and wavelength spectrum that we would expect for a white light source and a blue lead these be displayed in fig and fig respectively the wavelength spectrum of the white light source be a gaussian encompass all wavelength in the visible spectrum the relatively wide spectral width give rise to the narrow interferogram on the other hand the blue lead have a very narrow spectral width and so have a much wider interferogram this follow directly from during the construction of the interferometer we make sure that the mirror be roughly equidistant from beam splitter so that the null point laid within the movable range of m we connect a green lead source and the beam splitter via a convex lens with a focal length of to widen the light from the lead and a matte black lens tube of length to reduce interference from the reflect light precaution to avoid interference from reflect ray with the ray directly leave the source be take by place dark card diagonally between the component the detector be temporarily substitute for a screen on which the interference fringe be align by tile m the narrow spectral width of an lead mean that the interference fringe can be observe over the entire moveable range of the green lead when haidinger fringe be visible throughout the entire range of movement the mirror be sufficiently well align to locate the null point we low the mirror speed sufficiently so that we could observe the movement of the fringe if the detector be move in the direction of the null point the fringe appear to converge into the central maximum a govern by when move towards the null point and so co get large and so result in the ray appear to come from infinity by observe the motion of the fringe in a give direction about particular point along the range of m we be able to locate the null point within a range of then use the interferogram and white lead we be able to locate the null point at due to the relatively large spectral width of a white lead the interference fringe only appear very close the null point use the method described in iii method we measure the interferogram and wavelength spectrum of the white lead see in the fig an rgb lead that generates white light have contribution from three component of light red green and blue thus correspond to a sum of three gaussians since the red and green curve be not distinguishable we have only fit two gaussian curve the blue gaussian with low amplitude have an average wavelength of nm and the red green have an average wavelength of nm where the unce tainty be obtain through evaluate the covariance matrix by weigh the wavelength of the spectrum by the standard deviation and amplitude of the gaussians we can measure the average wavelength a nm the spectral width be equal to the full width at half maximum fwhm and be calculate use the standard deviation of the wavelength we obtain a value for il of nm and nm respectively thus give u a total of nm fmthe more use we obtain a v measurement of thz and by a measurement for l of m the fonn of the interferogram and simulation differ slightly a a result of the difference in the number of gaussian te ms sum to create the signal they do however both exhibit a spectral width and coherence length the interferogram and wavelength spectrum for the blue lead be show in fig the average wavelength of the blue lead be nm and the standard deviation be nm from this we can obtain a v measurement for the blue lead of thz use we measure la m finally we measm ed the inteiferograms and wavelength spectrum of the white light tungsten source with green and yellow filter and without a filter these be displayed in fig total word count first we will discus the result for the filter tungsten light source for the green filter we fit a gaussian to the wavelength spectrum since the expect transmission spectrum of the filter be a gaussian the mean wavelength be nm nm and the standard deviation be nm nm we obtain a v measurement of thz and use we show l be m for the yellow filter tungsten light we conduct a similar analysis and measure the mean wavelength of the source a nm nm and the standard deviation a nm nm we measure v a thz and use show that l be m for the white light tungsten source we do not fit a gaussian since tungsten source such a incandescent lamp emit a continuous spectmm so we would expect a black body spectrum we can estimate the average temperature of the tungsten filament by apply wien s displacement law for black body where t be the temperature of the filament a peak be the wavelength at which the peak of the curve be locate and b be wien s displacement constant from fig aii we can show that ii peak be nm which corresponds to a temperature of k however the curve do not exactly replicate the black body spectrum this be because the curve be the product of a combination of two curve a black body spectium and figure ai show the interferogramfor the white light tungsten source with no filter figure aii show the wavelength spectrum for the white light tungsten source with no filter figure bi show the interferogramfor the white light tungsten source with a green filter figure bii show the wavelength spectrum for the white light tungsten source with a green filter with a gaussian fit the mean be nm nm and the standard deviation be nm nm figure ci show the interferogramfor the white light tungsten source with no filter figure cii show the wavelength spectrum or the white light tungsten source with a yellow filter with a gaussian fit the mean be nm nm and the standard deviation be nm nm the detector s detectable spectnun which lie only around the white lead since white light be sum of all of all wavelength visible wave spectmm therefore it would not be sufficient in the visible spectnun this result in the blue lead have to fit a black body spectmm to fig aii without know a significantly large coherence length than the white lead the fo m of the detection spectmm of the detector which be a direct consequence of both source also have the aim of this experiment be to use a michelson interferometer to investigate the characteristic spectrum of a blue and white lead and a white light tungsten source with a green filter a yellow filter and with no filter we simulated the interferogram and wavelength spectmm for the lead source prior to conduct the experiment we measure the signal for each source sunounding the null point and use a fast fomier transfonn to deduce the wavelength spectmm that produce the signal through the analysis of the wavelength spectnun we measure the spectral width and coherence length of each source a expect the spectral width of the blue lead be significantly small than that of the total word count similar wavefo ms to their simulation the wavelength spectmm of the tungsten source do not replicate the expect black body curve due to the limited range of wavelength that the detector be able to register the green and yellow filter source do take their expect gaussian fonn under an envelope gaussian since the filter be clean before use and we observe similar fonns in both the green and yellow spectrum i assume that the oscillate shape arises due to a defect in the source the e rnrs in the measure value can be attribute to a va iety of source m be move sufficiently slowly that the vibration of the minor cause significant e rnrs in the position of m moreover random e rnrs exist in the result due to the readjustment of equipment and realignment of murnr between laborato y session which be impossible to quantify the path difference becomes x r x x sin x co for constructive interference it be require that x co ml where m be some integer therefore c co ml",
            "c haracterising the spectrum of a light source give insight into it property here a fourier transform spectrometer be built with a michelson interferometer and the spectrum of several different light source investigate the layout of the michelson interferometer be a show in fig the difference in length t of each arm of the interferometer result in constructive and destructive interference visible at and around the detector the dielectric plate on the beamsplitter cause a phase change for one of the beam meaning destructive interference occurs at zero path difference for light of wavelength when the mirror be properly align i e perpendicular to the beam the m th fringe occur where be the angle between the normal and the beam with a monochromatic light source project onto a flat screen this appear a a pattern of concentric circular fringe slowly move one of the mirror near the null point t will output an interferogram the fourier transform of which will be the spectrum of the light source the interferometer be built a discus previously and the null point of the system be found first establish a rough range by eye use a laser which provide clearly visible fringe then to a great precision use a white lead colourful fringe be visible near the null point note this be do twice with slightly different setup in both case the precise null point be close to but slightly outside of the range expect once the null point be know interferograms of various light source be take over an appropriate range of movement the data take have be present in the figure to follow noteworthy point fig show that the spectrum of the white lead use here be form of one narrow peak about nm and a broader peak around nm this be characteristic of a phosphor based white lead with the narrow peak correspond to the light emit by the lead package itself and the broader peak correspond to the output of the phosphor from fig and it can be see that place the filter at different point in the system have yield different result in particular the filter be inside the filter holder of the light source cause unexpected behaviour the cause of this warrant far investigation from fig it can be see that the yellow filter be imperfect block some wavelength that it should not this be problematic for the later investigation of the mercury discharge lamp fig and both show the output of the mercury discharge lamp increase in amplitude over time this can be explain by the temperature pressure dependent nature of the mercury lamp a the temperature and pressure inside the lamp increase it output increase this be not properly account for in this investigation and in fact the lamp be frequently turn off and allow to cool due to concern about the ozone it generates fig fourier transform of the white lead interferogram sharp peak centre around nm nm violet blue and a broader peak centre around nm nm green red white light be produce from lead in one of two way by a combination of different colour lead usually red green and blue or more commonly by combine a blue lead with shorter wavelength emit phosphor this spectrum suggests that this lead be the latter with a broad emitting yellow red phosphor be use in combination with a blue lead package the filter be cause some wavelength to be block a such this be not useful to determine the characteristic of the lamp",
            "michelson interferometer with a movable mirror be use to find the null point of three different light source blue lead white lead and tungsten broadband light source the interferograms obtain be fourier transform to show the spectrum of wavelength present for the blue lead a peak wavelength at nm be found a expect in the blue region of the visible for the white lead the spectrum cover the entirety of the visible with two peak at nm and nm indicate that the white light be primarily make of two colour for the tungsten source a gaussian like peak be observe rather than a black body spectrum protrude far into infrared this be explain by the drop in spectral sensitivity of the detector at wavelength great than red c onverting interference pattern from lead and black body source into a spectrum of their constituent wavelength be useful when understand the physic of semiconductor and the quantum nature of light for an lead the spectrum can give some indication of the band gap size in the semiconductor a for a black body source the temperature of the source can be determine from it spectrum this experiment will make use of a michelson interferometer to combine beam of light from a source to produce an interference pattern on a detector fig schematic of a michelson interferometer light be split into two beam which reflect off mirror and recombine the distribution of these fringe contains information about the source s spectrum the objective of this experiment be to produce interferograms of a blue lead white lead and a heat tungsten source then use fourier transforms to convert the interferograms into a spectrum reveal the structure of the light emit from the source in reference to fig the beam splitter separate incoming light into two beam with reduce amplitude via partial reflection the two light beam travel along different arm of the interferometer and be reflect by the plane mirror m and m let the image of m be label m a distance t away from the plane mirror m after reflect off the mirror the beam recombine at the beam splitter for two monochromatic beam of wavelength the result of this recombination will either be destructive or constructive interference depend on the path difference between them if m and m be parallel beam inclined at angle to the normal of the mirror appear to be come from infinity and thus exhibit cylindrical symmetry produce circular fringe the path difference between two inclined beam incident not parallel and hence m be tilt vertical fringe will be observe call fizeau fringe in this experiment we will be use haidinger fringe if m can be translate along the axis of it surface normal we can change the arm length of the michelson interfeormeter and therefore we can also change the path difference of the beam incident on the detector a the intensity of the recombine beam be dependent on the path difference we can use fourier analysis to transform the intensity spectrum i to yield a distribution i dependent on wavenumber wavenumber be inverse wavelength and can be use to infer the wavelength present in the light for a monochromatic light source and two beam of equal amplitude we can write the electric field amplitude of the combine beam in complex form a e c e exp i t e exp i t therefore the intensity of the combine beam be where i be a constant now consider an incoherent light source that be not monochromatic let u also attribute some spectral distribution i to this source the total intensity be now the sum of all the intensity contribution of each of the different wavenumbers present this result be to within a constant the fourier cosine transform and thus we have show i f i if we have a light source with a gaussian wavenumber distribution the fourier transform will also be a gaussian distribution in fig a gaussian line be simulated the fourier transform show in fig have a gaussian envelope and be maximum at the nullpoint the position of zero path difference hidden due to the resolution of the image be the high frequency oscillation correspond to the passing of light and dark fringe on the detector a would be observe by a michelson interferometer the michelson interferometer set up be show in fig to observe haidinger fringe with a green laser optical device be at the same height and the beam be align by adjust m such that the spot of green light at the detector be perfectly superpose and that the beam be incident at the centre of both mirror when use the laser source a lens be insert to produce a sharper fringe pattern on the detector the arm distance be suitably large to ensure that the fringe be large than the detector if the fringe be small than the detector measurement of average light intensity would be make which be undesirable when try to discern between light and dark fringe when use the lead a ground glass diffuser be use instead of lens to reduce the anisotropy of light emit the whole system sits on an optical bench however it be still susceptible to external vibration so any human contact with the table whilst take measurement be avoid mirror m be situate on a movable stage to vary the path difference the detector be connect to a computer and measurement of relative amplitude be measure a a motor move m the null point be the position of zero path difference which corresponds to t the intensity profile of which be fourier transform to examine the spectrum of the source to find it the green laser s haidinger fringe be first obtain and then m be move in such a direction a to decrease the number of fringe this be do by eye the reason for reduce the number of fringe be because a separation t be reduce for a give fringe order m the radius of the circular fringe decrease to increase the value of co at the centre co and thus we can write t m we can see that fringe order decrease by when d change by and hence the fringe vanish at the centre a the null point be approach once a region of minimal fringe be determine the green laser be switch for an lead or tungsten source depend on the source under investigation the motor be then programmed to scan slowly through this region at mm s such a speed in conjunction with the high detector sample rate of hz be suitable when find the null point which be highly localise and easily miss the null point be found and the signal see fig have an approximately gaussian envelope therefore a gaussian be fit to the fourier transform see fig the peak wavelength occurs at nm this lie within the range of nm for blue light the null point for white lead be show in fig there be an asymmetry in this signal a if there be two null point we postulate this be due to two peak of different amplitude in the white lead s spectrum the fourier transform see fig reveals the spectrum occupy the entire visible spectrum spectrum a expect from a white light source however there be two primary peak situate in the region of approximately nm and nm or violet and green yellow light respectively this indicates that the white lead primarily consists of two colour which we still perceive a white light the tungsten null point fig be more localise and symmetric than the white light s suggest a broader and smoother spectrum of wavelength the correspond fourier transform be show in fig this should be a black body spectrum but it be not a the tungsten heat up thermal motion of bound electron emit a continuous spectrum of electromagnetic radiation we have not detect most of this black body spectrum due to the spectral sensitivity distribution of the silicon pin photodiode detector see fig the spectral sensitivity cutoff in the infrared in no or little light be detect at wavelength great than that of visible and this be what we observe a cut off of wavelength great than and around nm the aim of the experiment be to set up and use a michelson interferometer to obtain interferograms of null point of various light source and use fourier transforms to show the constituent wavelength of light emit from the source the blue lead have a very symmetrical null point signal the gaussian fit to the fourier transform data place the peak wavelength at nm within the blue regime of the visible spectrum the white light have a more asymmetric null point the spectrum of which span the visible spectrum with two large peak the two peak of light be thought to give rise to the asymmetry of the null point the tungsten source spectrum be expect to be that reminiscent of a black body however due to the spectral sensitivity of the detector infrared light be lose cut the spectrum short this experiment could be improve in the follow way firstly far analysis of null point could be do for example the coherence length of the source can be estimate by measure the width of the null point envelope from this spectral width of the gaussians could be found to far characterise the light source secondly the spectral sensitivity function could be approximate a a triangle and use to deconvolute our measure signal to recover the original black body spectrum this would allow one to make a meaningful estimation of the temperature of the tungsten source use wein s law furthermore an error not account for in this experiment be that of the motor speed this could be investigate by move the stage through large distance several time with the green laser and try to reproduce the same distance travel",
            "in this experiment a michelson interferometer be construct and implement a a fourier transform spectrometer to characterize and investigate several different light source the spectrum of white light from an lead and tungsten source be generate a well a for a blue lead the interferometer could be use to characterize general feature of the the source such a the peak wavelength and spectral width however accurate numerical value be unable to be determine due to some unquantifiable uncertainty with the experimental set up and procedure interferometry be a technique use to provide information on electromagnetic wave by analyze superposition phenomenon such a interference the michelson interferometer be invent by a michelson in the late th century and use in the renowned michelson morley experiment of which disprove the theory of the luminifeorus aether which be believe to be the medium for the propagation of light the michelson interferometer induces interference by splitting a light beam into two part which travel along the two arm of the interferometer when they be recombine the path difference between the two component of the beam lead to interference effect which be use to provide information about the source the michelson interferometer be an extremely precise instrument a it be able to measure distance of the same order of magnitude a the wavelength of the light source in this experiment the michelson interferometer be assemble in such a way that it can be use a a spectrometer a device that determines the constituent wavelength of light source when a michelson interferometer be use in such a way it be know a a fourier transform spectrometer the michelson interferometer set up be show in figure light from the source can travel along one of two orthogonal arm of the interferometer the first path label a be where light reflect by the beamsplitter travel to the movable mirror m the second path label b be the path of the transmit beam which travel to the fix mirror m when the two beam be reflect back to the beam splitter they recombine and be direct towards the detector which pick up the interference pattern the interference pattern observe be dependent on the path difference the difference in path length along the arm be label t in the diagram so the overall path difference be t the dielectric plate cause a phase change for one of the split beam of light which result in the production of a dark fringe due to destructive interference when there be no path difference the null point be when the distance travel by the two beam be equal i e t when use the interferometer a a spectrometer collimate plane wave from the source be scan by the detector after produce an interference pattern due to the movement of the mirror m the series of bright and dark fringe produce around the null point be able to be record electronically by the detector it be possible by processing the interference pattern use a fast fourier transform fft to recover the original waveform of the source and obtain the spectrum show the constituent wavelength due to the nondispersive nature of air a monochromatic wave such a light from a laser will produce a continuous series of bright and dark fringe which appear a a delta function when an fft be perform on it monochromatic light have a high coherence length a it be make up of one wavelength of light most light source consist of multiple wavelength of light meaning that the interference pattern be modulate furthermore white light consists of all wavelength in the visible spectrum so have a small coherence length practically this mean that only a few fringe of white light will be observe at the null point which be why it be important to accurately determine it location this be because only at the null point be the fringe pattern for each wavelength component in phase the spectral feature of light source can be approximate a gaussian meaning that the temporal feature be also gaussian therefore a gaussian can be fit to the interferograms obtain in order to approximate the coherence length the standard deviation of the gaussian be the coehrence length l the relation between the frequency spectral width and l be give by the spectral width have unit of frequency but this can be convert into a wavelength the interferometer be construct consist of mirror a beam splitter detector and source one of the mirror be fix whilst the second one be mount on a stage which be control by a computer the detector be also plug into the computer to record data a schematic diagram of the experimental setup be show in figure the two mirror be set up with roughly equal space a green laser be use to align the mirror such that haidinger fringe be observe on a screen place in front of the detector this only occur when the two mirror be exactly perpendicular to each other only the fix mirror could be adjust finely so this be adjust such that the two laser spot from the interferometer be directly on top of each other in order to find the null point the movable mirror on top of the stage have to be translate to the point where the separation from beam splitter to both mirror be equal the movable mirror could be move through a position range of mm to mm and be initially maintain at the end of the stage s range i e mm the stage be then move in the positive translation direction mm at a time at a fast speed with the haidinger fringe observe manually on a screen place in front of the detector the fringe be observe to get big when it be close to the null point and small when far away the fix mirror be finely adjust after every mm increment to have the interference pattern center on the detector a best a could be do when the null point be pas the fringe change direction i e they start appear out of the centre when they have be disappear into it this meant that the approximate location of the null point be identify such that the movable mirror could be scan through a small range of around mm rather than the full mm the photodetector be able to operate at hz use the detector and scan through the reduce range slowly at a speed of mms the null point be able to be identify easily a a peak when a white lead source be use in place of the green laser subsequent data take use different source be center about this null point a blue lead and white tungsten source be use in addition to the white lead source an interferogram of the white lead source in the range of mm about the null point be take and a fast fourier transform fft of it be produce this be show in figure and represent the range of wavelength of electromagnetic radiation present in the source there be two characteristic peak present in the spectrum one in the blue regime at approximately nm and the other in the yellow regime at nm this be due to the internal structure of the white lead it be form of an individual blue lead with a phosphur coat that produce the yellow light through fluorescence it be expect that the amplitude of the first peak would be more than double the second from the datasheet of the lead however this be not observe here this be most likely due to the sensitivity to different wavelength of the detector use in the experiment the spectral sensitivity of the detector be great at wavelength around the second yellow peak the white lead emits light encompass the whole range of the visible spectrum for comparison the interferogram of a blue lead source be also take and a fast fourier transform implement the spectrum obtain be show in figure the peak wavelength be at around nm about mm large than the blue peak observe on the white lead spectrum this provide a rough insight into the uncertainty of the wavelength quote due to any misalignment and the set up of the equipment the spectral width of the blue lead source could be calculate either from the fourier transformed spectrum or directly from the interferogram after the interferogram have undergone a fourier transform it be difficult to estimate how the uncertainty propagate so a gaussian be fit directly to the interferogram despite this the uncertainty on both the sensitivity of the detector and the actual position of the stage be difficult to ascertain so error on the whole be hard to obtain from the gaussian fit to the interferogram the standard deviation and associate uncertainty be able to be obtain and use a an estimate for the coherence length of the source the coherence length be then use to determine the spectral width of the source the spectral width of the blue lead source be calculate to be nm which be consistent with the spectrum in figure the tungsten source could be consider a an approximate blackbody emit photon at a temperature give by wien s law the fft be show in figure and be a continuous spectrum the peak wavelength be take from the fourier transform and determine to be nm thus lead to a calculation of the temperature of the source k although figure spectrum of a white tungsten source a a result of apply a fast fourier transform to the measure interferogram this be approximately a blackbody emission spectrum this blackbody approximation be make the interferogram be also fit with a gaussian curve to estimate the spectral width of the source from the fitting this be calculate to be nm a substantial fraction of the source be make up of electromagnetic radiation in the infrared region despite appear similar to the white lead source by eye the tungsten source be fundamentally different consisting of a continuous spectrum of wavelength from the low end of the visible spectrum to infrared whilst the lead spectrum have two peak in the blue and green regime and do not emit radiation that be not visible to the human eye the difference can be explain by the efficiency of the source there be more heat waste in the tungsten source in the infrared regime of the electromagnetic spectrum the white lead source be a more efficient source of light in the visible spectrum a a large fraction of the tungsten spectrum can not be see by the human eye from the datasheet of the tungsten source it be expect that the peak wavelength would be at nm although this be not observe this be most likely due to the detector and it low sensitivity to wavelength of infrared light the specification manual for the detector indicates that sensitivity drop off rapidly for wavelength exceed nm a yellow filter be place on the tungsten source a a mean of isolate frequency of visible yellow radiation the interferogram obtain be show in figure the filter act a a sinc filter cut off frequency component above a certain cut off frequency such a filter would have lead to a top hat function after a fft a it be a rectangular low pass filter in frequency space however this be not observe but could have arisen due to unfiltered light be reflect off the side of the container into the detector or from uncertainty in position of the stage have be move a michelson interferometer be adapt to be use a a fourier transform spectrometer capable of analyse different light source the interference pattern of a blue lead source white lead source and white tungsten source be record and use fast fourier transforms the original waveform be recover the spectrum give an insight to the wavelength component of the source and allow for the white lead and tungsten source to be contrast the lead source be compose of constituent wavelength throughout the visible range whilst the tungsten source involve the near infrared spectrum in the white lead spectrum characteristic blue and yellow peak be observe at nm and nm respectively the peak wavelength of the tungsten source be determine to be the relative amplitude of the peak in the white lead spectrum and peak wavelength of the white tungsten source could not be reliably measure due to the spectral sensitivity of the detector use which be not constant however it could be conclude that the white lead be more efficient in the visible range of the electromagnetic spectrum a less energy be lose a infrared radiation if these uncertainty could be eliminate more accurate data could have be determine for the light source bibliography",
            "we investigate different light source by the mean of a michelson interferometer the interferometer be set up from scratch use the part give and align use a laser the null point of the interferometer be determine use white light interference we record the interferograms of a white lead a blue lead a white light tungsten source and the tungsten with a yellow filter the interferograms be study and we perform fast fourier transform which decompose the interferograms into their spectral distribution they all signify that the relationship between the width of the interferogram and the spectral width of the wavelength that make up the light be reciprocal i n scientist successfully detect the first direct evidence of gravitational wave use the laser interferometer gravitational wave observatory ligo a show in figure this work earn three researcher the nobel prize in physic in october an interferometer be a very powerful tool in experimental physic with application extend into other branch of science in our experiment we investigate the different light source by use a particular type of interferometer call the michelson interferometer the light source include white lead blue lead tungsten source and the tungsten source with a yellow filter our interest be in determine the spectral distribution of each source with the help of fast fourier transform routine in python fig ligo experiment which also use the michelson interferometer to detect gravitational wave ii theory in general there be number of type of optical instrument that form optical interference these instrument be classify under the generic name of interferometer the michelson interferometer be one of the simplest yet one of the most important of all interferometer the layout of a michelson interferometer be show in figure below the light emit from the source be split into two perpendicular beam by a beamsplitter which be a partially silvered mirror the reflect beam a travel to a mirror m and the transmit beam b travel to another mirror m both ray be reflect at their respective mirror and they undergo a partial reflection and recombination at the beamsplitter upon return fig a diagram of the michelson interferometer setup in order to understand how the interferometer produce intereference of light consider monochromatic plane wave of wavelength and uniform wavevector k emit from the source the recombine plane wave at the beamsplitter will interfere and the path difference of the two beam will determine the type of interference when the distance from the beamsplitter to m be exactly the same a the distance from the beamsplitter to the mirror m then the two beam will interfere constructively produce a bright plane wave output alternatively the two beam will interfere destructively if the path difference of the beam a and b be exactly this lead to no light be incident on the detector hence move mirror a or mirror b by a fraction of make the difference between a bright fringe appear on the detector or a dark fringe appear there this make the michelson interferometer an extraordinarily precise ruler there will be a phase change for one of the beam due to the presence of dielectric plate on one side of the beamsplitter so the destructive intereference occurs at zero path difference result in a dark fringe instead of the expect bright fringe it be important to think about what kind of fringe we be expect when look into a michelson interferometer the nature of the fringe depend mainly on the set up pf the instrument and how it be illuminate it be also possible that the two end mirror be not exactly at right angle to each other and we may send collimate light into it parallel ray come from infinity i e plane wave or use an extend source we consider use an extend source and set the mirror at right angle to each other figure show mirror m appear to be at position of m if the arm differ by length t the observer see the light originate from an extend source be reflect from two mirror separate by t a show in figure let u see what happens when we choose to tilt slightly one of the mirror or to leave it correctly alligned the angle of the incoming ray will vary in both case beam of wavelength will interfere constructively for specific vale of the cylindrical symmetry in the case in figure suggests the fringe will appear circular and call haindinger fringe this be broken when one mirror be tilt so that so called fizeau fringe form straight line c use the interferometer a a spectrometer an optical spectrometer be an instrument use to separate and measure component of light which be call a spectrum when a single monochromatic wave be sent into a michelson interferometer the output be just a series of bright and dark fringe which can be record electronically if the input light consists of two distinct frequency the sequence of bright and dark fringe interferogram be modulate and the separation between the null in the interferogram be related to the separation of the two frequency in frequency space over the course the wave rephase and the contrast be restore figure provide clear view on why the relationship be reciprocal let u imagine the interferometer be set up with exactly equal arm length the output be then monitor a the mirror be scan the actual output see be the sum of the two intensity distribution show the length of the fringe train show be such that a one move away from the zero path difference point the fringe form by the longer of the two wavelength be almost begin to catch up with the one form by shorter wavelength the overall fringe pattern be more or less the same a it be at zero point for light make up of two wavelength the mathematics of fourier transforms can be use to treat a source with arbitrary spectrum the basic idea of fourier transform be that it decomposes a function of time or space and represent it in frequency space show the constituent frequency that make it up in our experiment a computer will be use to perform these complicate calculation it should also be note that the spectral line shape of a light source be approximately gaussian due to fall intensity of the source over the distance figure show that a gaussian spectral feature lead to a gaussian spatial feature iii method before move on to build the michelson interferometer we developed a simulation of the interferometer and study what type of result we should expect among the variable we be manipulate be the speed at which the mirror move and hence how far the mirror move between the sample since the sample rate of the detector will be constant the number of sample could also be varied the skeleton program provide simulated the output that be expect from a light source with a gaussian profile and specify width the computer we use have the linux operating system therefore some time be use to familiarise ourselves the simulated output be deconstrusted use a fourier transform function built in the code call fast fourier transform fft in addition to that we also explore nyquist theorem on our simulation to get a well comprehension on how to obtain result with high resolution for instance the affect of sample distance and the total distance move by the mirror on the reconstruct spectrum be investigate by vary them and observe the fft result the entire experiment involve the michelson interferometer be carry in a dark room to prevent external bright light source from disrupt the measurement hence it should be note there be a trip hazard one of the mirror be connect to a linear motor stage which be fix to the base the mirror be front surface and we try to avoid touch them or clean them after touch figure show the set up of the interferometer firstly the beamsplitter be connect to a class r green laser and be position in front of the fix mirror stage this be follow by the other adjustable mirror perpendicular to the beamsplittermirror stage line the laser be switch on and the reflection of the beam on the beamsplitter be observe we handle it cautiously so there be no stray beam it be ensure there be no double points so both mirror be parallel to the beamsplitter to far align the interferometer the output of the interferometer be observe by place a white screen in front of the photodetector a show in the diagram the adjustable mirror be tilt in order to have the laser spot from the two arm directly on top of each other at the output the use of lens help observe the fringe more clearly specifically two lens one to expand the laser beam into a broaden source and another to image laser onto the screen figure show the fringe observe and the centre spot be chosen to be place on top of the opening of the detector so that it could detect the change in intensity more clearly now that interferometer be align the photodetector be connect to the pc the photodetector be a photodiode attach to an amplifier with variable gain and by default this sample the signal at a rate of hz to test if the photodetector a well a the software work the interferogram of the laser be take by move the mirror at a speed of mm this be not really a solid test a the laser wavelength may drift however this be to familiarise ourselves to handle and analyse the data after obtain result we expect we move on to find the null point of the interferometer the null point be define a the point at which t this be study use a white lead and observe it interference over the range of movement of the mirror white light be use a it contain a wide range of frequency therefore produce a narrow peak on the interferogram which be easy to notice the lens be remove for this source to be more efficient we measure the arm length use a ruler and narrow the range of the null point significantly we ran the motor at mm with sample the speed be chosen so that the detector can take at least reading between the expect width of the peak in accordance with nyquist theorem for well resolution a spike be observe and it indicate the null point at which the intensity be the high the interferogram be zoom in digitally and the exact position of the null point be determine by move the cursor now the interferometer have be set up properly to start investigate the different light source the procedure be repeat for the white lead with a small range of distance around the null point for a high resolution interferogram the range use be between mm and mm with a speed of mm the interferogram be save for far analysis by use the python code give we perform fft on the interferogram obtain and the offset involve with it be already rectify in the code the output associate with fft give the range of wavelength that make up the white light source with respect to it amplitude and be save the white lead be then replace with a blue lead and the result interferogram and the wavelength spectrum be study the same be carry out with a white light tungsten source and the tungsten source with a yellow filter the gain of the photodetector be varied depend on the intensity of the source from the inteferograms of each type of source the mean wavelength can be obtain when we observe two consecutive minimum on an interferogram the path difference x between the two beam be a multiple of a half of the wavelength give by where n be a positive integer we measure the distance between two consecutive minimum by zoom into the interferogram and record their coordinate so n in this case be equal to we assume the wavelength obtain from this be the mean wavelength of the source and that the sample distance be constant the coherence length l could also be obtain coherence length be the distance over which one arm of the michelson interferometer can be scan before the interferogram contrast becomes poor subsequently the spectral width which be give by where c be the speed of light be calculate to turn this into wavelength we use where be the mean wavelength of the source firstly we look at the output when the interferogram of the green laser be take a show in figure a the output be a expect series of area of low and high intensity in a sinusoidal pattern this corresponds to the destructive and constructive interference of the two beam at the photodetector the signal be not gaussian at first because the null point be not found yet a this be only to make u get use to the data handle next we consider the null point of the interferogram a show in figure b the spike occurs when the all the wavelength of the white light lead interfere constructively at the null point i b the spike signifies the null point a the wave interfere constructively fig the range of distance be narrow down close to the null point and the interferogram obtain for white lead be show in figure a a surprising result come out when the fft be perform on the white lead interferogram show on figure b the shape of the spectrum be accurate since it be wide and continuous compare to the real spectrum of white lead in figure c there be a small peak on the left of the spectrum which signifies the blue wavelength associate within the colour white however the surprising element be the horizontal shift of the spectrum the wavelength at the peak have be shift to twice the actual value originally in the python code for the fft we double the sample distance to take the path difference due to the mirror s movement into account and the spectrum look normal when we remove the double procedure this be weird a this give accurate result for the other source nonetheless we highly suspect the problem be within the code and the shape of the spectrum be still satisfy fig on the other hand the blue lead produce a much broader interferogram than the white lead a indicate by figure a not surprisingly this look more similar to the simulation in figure d a the range of frequency in the blue lead be very narrow the fft of the interferogram in figure b reveal that the spectrum be very narrow with the peak wavelength around nm compare to the real spectrum in figure c the result for the blue lead be a expect and also verifies the reciprocal relationship between the range of wavelength and width of the interferogram the blue lead be now replace with a white tungsten source the interferogram obtain be show in figure a the output look very similar to the white lead a both source consist of wide range of wavelength thus produce narrow interferograms after the fft procedure show in figure b the wavelength spectrum seem to be broad and continuous just like the white lead a closer inspection reveals that most of the spectrum lie on the infrared region and indicates that most of the energy be dissipate a heat rather than visible light similar to the real spectrum in figure e the tungsten source be then connect to a yellow filter figure c show the interferogram obtain and be similar to the blue lead s one a expect the fft see figure d indicates a very narrow spectrum centre around a wavelength of nm which be the wavelength that corresponds to the colour yellow the noise around the peak could be related to the very low intensity of the source couple with the large gain of the photodetector to improve this a brighter tungsten source should be use it be also interest to notice that in figure c there be small peak on the side of the middle peak and this be not in the case of blue lead it just could be noise from the aforementioned issue or an effect due to the very narrow spectrum of wavelength more experiment must be do before any real conclusion can be make now the interferograms of each type of source mention above be study to investigate a few feature without need to perform the fft method from the code the result be summarise in table i the mean wavelength be calculate by use equation subsequently equation and be use to calculate the spectral width in both and form the mean wavelength of all the source be similar to the result from fft except for the white lead this suggests the issue be with the code a mention before also overall the value of be significantly small than what we observe in fft this be probably due to the approximation and assumption involve in the equation yet they all show similar trend broad interferograms have small in the case of blue lead and the tungsten source with yellow filter we could also predict the temperature t in kelvin of the tungsten filament from the mean wavelength obtain use wien s displacement law which be give by the equation below t therefore we obtain a temperature of k which show the tungsten use follow a similar distribution a the red curve in figure e we investigate different light source by the mean of a michelson interferometer the interferometer be set up from the scratch use the part give and align use a laser the null point of the interferometer be determine use white light interference we record the interferograms of a white lead a blue lead a white light tungsten source and the tungsten with a yellow filter the interferograms be study and we perform fast fourier transform which decompose the interferograms into their spectral distribution they all signify that a broad spectrum of wavelength of light will produce broad interferograms overall this be not an easy experiment to carry out a the highly sensitive instrument be prone to even a small error we encounter a few problem during the experiment such a when we be take the measurement to find the null point the instrument kept give weird result and it take a considerable amount of time to figure it out apart from that the code and the software provide have a few issue for example the software have a limit for the number of sample it could record this might make u miss important point during the measurement since the motor be move even though the detector stop record to improve the more sophisticated method of handle data should be use besides more variety of source with different spectrum should be investigate to far study the reciprocal relationship",
            "the main object of this experiment be to analyse the spectrum of different light source by measure the interferogram which could be fourier transform to spectrum in this experiment the characteristic of the green laser white lead blue lead and tungsten lamp be investigate the spectrum of those different light source be plot a well a calculate the coherent length and spectral width for each of those light source by fitting a gaussian function to the fourier transformed interferogram some improvement be discus at the end of the lab report i nterferometry be a strong and precise technique by take advantage of the interference phenomenon of wave normally electromagnetic wave interferometer be usually use to measure small displacement refractive index and other precise measurement the most famous application of interferometry be the discovery of gravitational wave in ligo use a fabryprot interferometer which be basically a michelson interferometer the configuration of the interferometer use in this experiment be the michelson interferometer the light after reflection by the mirror travel the opposite direction compare to the light before but with the same path the path be separate in the diagram be for clear illustration this graph be reproduce from interference be a very common phenomenon when two wave of the same frequency superpose base on the principle of superposition the superposition principle will be discus in later section in this experiment we measure the interferogram of many different type of light source include green laser white lead blue lead white tungsten bulb itself and tungsten bulb with green and yellow filter the green laser be monochromatic since in theory it consists of only one frequency of light other light source investigate in this experiment generate light which consists of a range of frequency after fourier transformation the interferogram will be transform into a spectrum in this report the characteristic of the interferogram and spectrum of all the aforementioned light source be discus both quantitatively and qualitatively such a the mean wavelength coherent length spectral width and shape of interferogram around the null point in this section the theoretical and mathematical background of the interference michelson interferometer fourier transform be introduce when two wave of the same frequency meet they will superpose accord to the superposition principle in other word the net amplitude of the resultant wave form at one point be the sum of the amplitude of the two individual wave at that point when two wave be in phase constructive interference occurs result in bright fringe whereas destructive interference occurs when two wave be out of phase create dark fringe the type of fringe produce by a michelson interferometer be determine by the set up of the apparatus for example the position of the mirror to understand this imagine the two mirror be place a show in figure at exactly right angle to each other for convenient calculation and simple illustration the setup mention could be consider a the same in the diagram a of figure the relationship between the separation t and the wavelength of the incident could be described by the equation where m be the order of interference and refractive index be assume to be due to the cylindrical symmetry of the case in figure b haidinger fringe will be produce if the incident light be monochromatic when one of the mirror be tilt a show in figure b the cylindrical symmetry be broken create fizeau fringe identify the fringe form be of great importance in the alignment of the mirror and the beam splitter a michelson spectrometer consists of five main part a light source two mirror a beam splitter and a detector or screen a show in figure monochromatic wave be emit from the light source laser and split into two beam due to the beam splitter the reflect beam travel to mirror and reflect back superpose with the beam pas through the beam splitter and refle cted by mirror after superposition the resultant light beam be project on the screen or detector create interference fringe when the path distance l and l be of the same distance constructive interference occurs conversely if there be exactly path difference between l and l there be no light on the detector due to destructive interference therefore move either mirror one or mirror two by a fraction of the wavelength will influence the fringe produce on the screen however the dielectric plate on the beam splitter introduces a phase shift for one of the split beam which mean that the destructive interference occurs when two path be of the same length an interferogram can be plot by measure the intensity of the light project on the detector and the position of one the mirror the interferogram can be use to determine the coherent length of the light source and after fourier transform it becomes a spectrum which be useful in the analysis of the characteristic of the light source such a the spectral width and the mean wavelength normally the fourier transform of a function refers to the transformation of a function f t in the time domain to a new function g w in the frequency domain a define in equation conversely the inverse fourier transform can transform a function in the frequency domain to the time domain use equation the fourier transform of a gaussian function could be solve by integrate by part this give a form of the gaussian function in the frequency domain however fast fourier transform fft be use in this experiment which be more efficient and convenient for the computer to calculate the fft base on discrete fourier transform transforms a sample of equallyspaced sample of function delta function in this case to a same length sequence of equally spaced sample of complex function of frequency the fouriertransformed gaussian function can be use to describe the result from fft therefore it be possible to fourier transform the interferogram in time domain to retrieve a spectrum with it frequency composition a show in figure a gaussian function could be fit to the spectrum in figure b the spectral width could be consider a the in the gaussian function and can be calculate by the fwhm full width at half maximum of the fit gaussian use equation the spectral width calculate be in meter which could be convert to hertz with the equation where c be the speed of light and be the centre wavelength then the coherent length l could be found use the formula also it be possible to measure the coherent length from the interferogram and calculate the spectral width use equation for this experiment the apparatus setup be the same a the michelson interferometer in figure the position of the mirror be at a fix distance from the beam splitter and mirror be carry by an electric motor the mirror be adjust so that it be approximately perpendicular to mirror and parallel to the side of the cubic shaped beam splitter that it face the alignment could be checked by align two beam of a green laser to a screen use two plano convex lens to convert the light beam to an extend source if haidinger fringe be produce then the apparatus be correctly align the plano convex lens be only use for the green laser when try to align for other light source such a the white lead and blue lead a diffuser be use to acquire a more spread uniform light source what s more the interferometer and light source be place inside a black box to minimize the noise from other light source in the laboratory all of the measurement be take by a computer the data of the intensity of light be collect by a photodiode detector the parameter that be adjustable be the position of the mirror carry by the motor speed of the motor and the frequency to take the data point the default frequency be at hz during the lab cycle my partner and i obtain the interferograms for the green laser white lead blue lead tungsten bulb and tungsten bulb with green and yellow filter all of the interferograms be fourier transformed to spectrum to proceed far analysis there be a slight misalignment for all of the measurement which cause asymmetry in the interferogram plot this be solve by subtract the diagonal line from the original data the data use to proceed fft be the modify data the spectral width of the green laser spectrum be calculate to be hz which in term of meter be m the mean peak wavelength be found to be nm and the coherent length be m in theory the green laser beam be monochromatic which mean that it contains only one frequency of light and produce only one peak in the fourier transformed spectrum however in the spectrum show in figure there be several peak instead of one peak also in the interferogram of the green laser beating appear which mean that the laser provide be not a monochromatic a we think this be due to the limitation of the uncertainty principle a light source can never be perfectly monochromatic despite the laser be not perfectly monochromatic the fairly narrow spectral width compare to other light source make it a good source to generate sharp and clear interference pattern for the alignment a show in figure fig green laser interference pattern this figure be take after proper alignment a show in the figure the fringe form be concentric circle which agrees to our theory it could be see from the figure that the brightness of top right fringe be high than that of the bottom left fringe this be due to slightly misalignment of the mirror more detailed information will be discus in the error analysis section the mean peak measure for the blue lead be nm with a spectral width of nm and the coherent length be found to be nm this be within the range of the blue light which be from nm to nm the main mean peak for fit gaussian of the spectrum of the white lead be at nm with an uncertainty of nm moreover a see from figure there be also a peak on the white lead spectrum at nm with an uncertainty of nm which be also within the blue light range the cause of this unexpected peak on the white lead spectrum be the manufacture of the white lead blue red and green lead be the three most common lead use in our daily life the white lead use in the experiment be manufacture base on a blue lead cover with fluorescent material that illuminate a variety of light that combine together to form white light the peak in the blue light region be due to the blue lead inside the white lead the spectral width of the white lead be nm which in the frequency spectrum be hz the coherent length of the white lead be nm compare the gaussian function g in the time domain with the gaussian function g equation and equation it be clear that a wide spectral line in the spectrum result in a narrower interferogram the result from the experiment for blue and white lead be consistent with the theoretical prediction what s more the emission spectrum of both blue lead and white lead be within the visible optical range for human eye which mean that most of the energy be use to generate visible light this characteristic of the lead make them more efficient illuminate tool compare to the traditional incandescent light bulb a see from the spectrum of the white tungsten lamp the majority of the frequency be locate in the infrared region with some relatively small peak in the visible spectrum after fitting with a gaussian function around the main peak it be found that the mean peak wavelength be at nm with a spectral width of nm the coherent length be calculate to be nm the vast amount of emission of infrared make the tungsten bulb a much less efficient way of illumination most of the energy be transfer to the creation of infrared which could cause heating effect around the surroundings therefore tungsten bulb a well a other type of incandescent light bulb be good heating source moreover the tungsten bulb could be approximate to a black body with a peak emission at nm use wiens displacement law the temperature of the tungsten bulb be calculate to be k when place behind a green filter the spectral width be calculate to be nm with a peak at nm when replace by a yellow filter the peak shit to nm with a spectral width of nm the coherent length for the green and yellow filter be calculate to be m and m respectively this prof that the filter be good band pass filter with very small bandwidth it be clear from figure that the filter wave be in the visible spectrum but with relatively small intensity compare to the infrared emission from the white tungsten lamp the main error in the experiment be from misalignment which cause asymmetry in the interferogram when do fft to the asymmetric interferogram the mean wavelength of the light source may shift compare to the situation when the apparatus be perfectly align we found it difficult to make perfect alignment during the experiment after try for a multiple of time the mirror carry by the electric motor be fix in position and could not be adjust this mirror may not be perpendicular to the ground or it may tilt slightly which could be a source of misalignment there be speck of dust on the surface of the beam splitter which could also influence the alignment another source of error be the fast fourier transform the fft be base on the discrete fourier analysis which be only valid for equally spaced discrete value from the data collect by the computer we found that the electric motor do not move with a constant interval this could cause a shift of peak value and a change in spectral width for the spectrum transform by fft there be also an uncertainty in the function fitting what s more although place in a black box there could be a leak of noise from other light source in the laboratory however this effect be too small compare to the other two error source thus this effect could be neglect there be several improvement that we could make for this experiment the default sample frequency of the detector be hz this mean that to take data for a long range of distance it could take hour to proceed we could have change this frequency during the experiment to proceed the experiment more efficiently a long a the sample rate be within the nyquist frequency beyond the nyquist frequency aliasing effect could occur result in an incorrect interferogram moreover multiple interferograms of the same light source could have be take to get more accurate result during the measurement of the tungsten lamp the bulb wire be heat to a high temperature the tungsten lamp could have be switch off and cool between successive measurement my partner and i successfully construct a spectrometer use a michelson interferometer and a computer do fft after obtain proper interferograms for the green laser the white lead the blue lead the tungsten bulb and the same tungsten bulb with green and yellow filter we do fourier analysis to the interferograms to get their correspond spectrum by fitting gaussian function to the spectrum of those light source we calculate the spectral width the mean wavelength and the coherent length for each of those source then we analyze their function with the characteristic we get from their spectrum lead be energy saving and efficient light source which could be use for illumination tungsten bulb be good heating source due to the vast emission in the infrared spectrum the yellow and green filter be bandwidth filter that only allows a very narrow range of frequency of light pa through in the end the error source and improvement be discus",
            "the experiment be conduct to measure the spectrum of the white lead blue lead and tungsten lamp with yellow and green filter use michelson interferometer a a fourier transform spectrometer the interferometer be compose by a light source a beam splitter two mirror with one on a moveable stage and the detector after a proper installation and alignment the interferogram of each light source be create from the detector by set the stage to move forward and backward to change the distance light travel for each interferogram the fourier transform be perform to extract the power spectrum on wavelength and power spectrum be analyse information within electromagnetic wave or light normally be difficult to be observe due to their high speed small scale and high uncertainty but em wave posse a wave like property interference with this property the microscopic scale of em wave can be magnify into observable and stable fringe macroscopic interference pattern interferometer utilize interference can be use to measure observables in a microscopic preciseness for example distance wavelength and dielectric constant due to the disturbance of gravitation on the propagation of em wave interferometer can also be exploit a a gravitational wave detector one of the famous detector be know a ligo interferometer split a beam of em wave into several different beam usually two that travel different route and end up meeting and interfere with each other project an interference pattern the interferogram be the graph of interference amplitude a a function of the difference in distance that beam travel can be use to extract information about the difference in phase shift between beam that travel in different route therefore for a monochromatic wave from the phase shift the difference in distance give the wavelength of em wave use or the wavelength give the difference in distance em wave travel can be measure michelson interferometer design by albert abraham michelson be use in this experiment it be use a a solid prove that the speed of light be constant and invariant from different the direction the light travel the interferometer contains a beam splitter that split light beam toward to two vertical arm both beam be reflect by mirror to travel back to the beam splitter where they interfere this will be explain far in the method part spectrometer be equipment that decompose and measure the wavelength from an input light interferometer a mention previously can be use to measure the wavelength of a monochromatic wave for non ideal wave contain a spectrum of wave length can be decompose and measure by apply fourier transform on the interferogram which give the distribution of the wavelength of the light therefore interferometer can be use a a spectrometer this be call fourier transform spectrometer a monochromatic wave with wave number can be express a a function of distance the light travel or in complex form where be the amplitude normally a wave be the combination with infinite monochromatic wave with different amplitude and wavelength the wave function of the wave can be write in and accord to inverse fourier transform which give the in the interferometer the wave be split into two wave that travel the distance and interfere the interference of two monochromatic wave can be express a x where be the difference in distance two wave travel the intensity therefore give by the intensity of all wave combine can be express a be the interferogram intensity of interference a a function of the difference in distance light travel take inverse cosine fourier transform co the case of k be not consider hence the delta function can be ignore this give back the power spectrum compare use equation equation be easy to be act in interferometry the distance light travel be give by two time the difference between mirror t therefore normally the spectrum of a light source can be approximate a one or multiple gaussian function so the interferogram should look like where be the mean wave number and be the standard deviation of the distribution and obeys this describes the interferogram a a cosine wave with the two time the period equal the mean wavelength of the spectrum and have a envelop shape like gaussian function i k can be approximate a a gaussian distribution equation show the wave packet of be close to gaussian distribution a well and two distribution share a standard deviation relationship of described by equation the wave number and coherence length be take a full width half amplitude and l and their relation be consider to the propagation of error where be the uncertainty on wavelength therefore the relation between and coherence length can be express a since the more data mean the more processing on data sometimes the less data acquire the well however if data be not enough aliasing might occur a show in figure nyquist theorem describes the maximum separation between two data that could avoid data from be aliasing where t be the maximum sample distance a michelson interferometer a show in figure contains a beam splitter which be a semi transparent mirror that be capable of splitting a light beam into two vertical beam a mirror m on a stage the can be control by computer to move forward and backward a fix but adjustable mirror m and a light detector the light source be place at the in put of the light splitter the mirror m and the mirror m be place at the two outlet of the beam splitter with similar distance to the outlet and the detector be place on the other side of the splitter to m when the light source be turn on a half of the beam go through the semi transparent mirror and travel to m and the other half be reflect by the semi transparent mirror and travel toward m the beam travel toward m be reflect by m and travel back to the beam splitter where the beam be reflect by the semitransparent mirror to the detector the beam that travel to m be reflect back to the beam splitter where the beam passing through the semi transparent mirror and reach the detector when both beam reflect back to meet at the splitter they interfere with each other project an interference pattern on the detector when record the interferogram the stage be set to move therefore change the difference in distance two beam travel and the detector be adjust to a proper gain to record the plot of intensity record by the detector against the position of m be plot which be the interferogram to take data base on the interferometer the calibration be require since the mirror stage be fix the splitter be need to be adjust first to ensure the beam reflect aim at the centre of the mirror m and be vertical to the surface of the mirror the green laser be turn on and a black board be place between the splitter and the detector two light spot appear on it s and s a show in figure one have high intensity than the other the strong spot s be generate by the beam reflect from m the weaker spot s be due to the reflection with in the beam splitter the beam reflect with in the splitter be exactly vertical to the splitter therefore to align splitter with m splitter be move and turn to coincide s with s to align mirror m with the splitter m be move until the laser from the splitter aim at the centre of the mirror then m be tilt until the spot from m be approximately coincident with s the black board be remove and the detector be adjust so that the laser spot aim directly at the detector a mm focus lens be equip with the laser and the interference pattern show tilt m until the centre of the fringe be at the centre of the image the green laser be switch with the white lead the difference in distance between m and m to the splitter be measure and be within mm the stage be set to move from mm to mm to generate the interferogram from the detector to find the null point where the distance that two beam travel be the same and the interference be the strong at this point the null point be found to be around mm the stage be move to the null point far recalibration with the green laser be do by tilt m to have the centre of the fringe in the middle when m be at the null point to avoid the change in alignment while m be move be the beam reflect by m s be the beam reflect within the splitter the light source be replace with white lead blue lead and tungsten light for tungsten light the green and yellow filter be place in the front of the detector for each case set the stage to move from mm and mm from the null point the detector be default to take data per second accord to nyquist theorem the average maximum speed for the stage to move be mm s the interferograms be plot and the fourier transforms on interferograms be plot the interferograms and fourier transforms on interferograms of white lead blue lead and tungsten lamp with yellow and green filter be show below for fourier transforms the wave number have be turn into wavelength the scale interferograms and fourier transforms be displace in the appendix a a mention before em wave do not present to be monochromatic wave instead they be compose by wave with different wavelength and the power spectrum of wavelength be these fourier transforms of interferograms accord to equation in figure and figure it can be conclude that the wavelength distribution of the blue lead and the tungsten lamp be approximately gaussian the tungsten light have a broad range in spectrum where of the power distribute out of the visible range which be infer red this mean that if a tungsten lamp be use a an illumination source nearly of the power be waste and in visible range the spectrum skews to the large wave length therefore the overall color of a tungsten lamp present to be orange and since their spectrum be gaussian the shape of the interferogram be a described in equation a cosine wave with the two time the period equal the mean wavelength of the spectrum and have a envelop shape like gaussian function and the coherence length take by the fwhm in this experiment be show below from figure the shape of the wave packet of the interferogram be asymmetrical compare to blue lead and tungsten lamp this be because that the white lead have two peak a show in figure the broad peak be consider to be two gaussian function red and green in superposition and the thin peak be close to the blue spectrum this can be told from table that the large peak have a mean wavelength similar to the mean wavelength of red and green and small peak have a mean wavelength like blue this implies that the white lead be compose by three light source red green and blue in contrast with tungsten light the efficiency of white lead be much high due to it thin spectrum with most of the frequency in the visible range both interferograms and spectrum of the tungsten lamp with green and yellow filter be similar but different in width spectrum of both show a main peak in the middle and a few side peak with left side slightly high than right side accord to figure to the multiple peak could be the result of multiple band of filter that the filter do not just allow wave with one frequency range to go through but multiple of them generate small wave packet in the interferogram or this could be the result of noise or misalignment refer to the contrast to the tungsten lamp spectrum in figure and the asymmetrical amplitude of side peak from spectrum of green and yellow filter have a correlation to the slope of spectrum of tungsten lamp which be to say the side peak be from tungsten lamp a well instead of noise and misalignment this probably suggest that both filter use in the experiment be nonideal which do not just have one band the michelson interferometer can be use a a fourier transform interferometer to extract power spectrum on wavelength from interferogram light source be usually compose by one or more single light source for each single light source the power spectrum can be approximate a a gaussian function the wave packet of the interferogram generate by a light source in an interferometer be like gaussian function a well the period of the interferogram be the half of the mean wavelength and the width of both obeys uncertainty principle in the experiment it be notice that the intensity record from the detector shift up and down slightly from an experiment to another for the same light source with the same gain this be consider to be the fluctuation of the power of the light source also the null point be found to be shift from time to time a well in significant scale even with the identical experimental set up this could be due to various of factor like thermal expansion but these error do not disturb the experiment significantly interferograms of white and blue lead and tungsten lamp with green and yellow filter and it fourier transforms all interferograms and fourier transforms be in the same scale this can be use to compare the coherence length of the interferogram and fwhm of the spectrum",
            "abstra ct lnterferometer be very useful in many area of science and engineering and be use in michelson mol ley expeliment in this experiment we investigate the p inciples of michelson intel fe ometer and analyze the property of the int erferograms and spectrum of inte ference with laser white lead blue lead tungsten lamp with green and yellow filter a light source and found thefr mean wavelength and spectral width respectively the temperatm e of tungsten lamp be obtain a k in the expe iment i nterferometer be invent in late th century and first use in the well known experiment michelson morley experiment to find the present of ether today it cover from find the tiny variation of microscopic organism to detect gravitational wave in the universe the layout of the interferometer we use in the experiment be quite simple and be illustrate in figure beam splitter play a very important role in the interferometer that it split the light into two beam and allows beam to recombine and interfere the main principle of the interferometer be that we can get different pattern of interference by adjust the position of the move miffor to change the phase difference between two beam and use laser white lead tungsten lamp with yellow and green filter a resource the dielectric plate make sure that the phase difference between two beam of light be reduce and equivalent to the path difference then we can easily govern the phase difference between light beam by just adjust the position of the move miitor in this experiment we firstly simulated the interferograms of laser and white lead light and use interferometer to understand the interferograms of different light source then obtain the spectmms by apply fourier transform when two wave travel in the same or opposite direction they will interfere and the amplitude of the new wave be the sum of amplitude of each wave the pattem of the interference depends on the phase difference of two wave figure show the path of two beam in the interferometer ml and m be two murnrs where m can move t be the distance between miitor s the path difference of two beam be ab bd in the figure and we can simply show that the path difference be t co e by consider hence the equation which govems the angle e be tcose mil where m be integer and when m be odd dark fringe observe while m be even bright fringe observe from the equation we can see when t and remain constant beam with same incident angle form the correspond number of fringe so the interference pattem should be ring shaped from the equation we can derive the fonnula t sm tsin o for the same sm be small correspond to the large that mean the pattems get denser at the outer of the ring by consider these two we can predict the pattem on the detector should be same a figure and the interferogram be just the sinusoidal function interferogram be just a representation of the amplitude change with time and to detennine the spectmms oflight source we need to fourier transfo m the time domain interferograms to frequency domain spectmm the fourier transfo m g f of a time domain signal g t be obtain by g t f t e rift dt by just consider the light with single frequency t cosf t thus hence we get that the fourier transfo m of single frequency light be an impulse at show m fig a michelson interferometer have be construct a show in figurel light be emit from the source and be split into two beam by a beam splitter pa tially silver mi r one beam travel to the move miiror and be reflect the other transmit beam travel to the fix mirror and be reflect back both beam be pa tially reflect and recombine at the beam splitter two beam be from the same source therefore theii phases be highly correlate the move stage that use to construct the move miiror be connect to and conti olled by the computer after the apparatus be set up laser be use a light source to align the interferometer the laser beam create a small spot on the detector which be hard to see hence a lens be inse t ed betv een the laser and the beam splitter to make the spot large we adjust the position height and angle of the fix niiror first and make the spot of the laser strike at the centre of the mi r the beam reflect to the move miitor be not concentrate at right angle by consider movmg stage and the beam splitter be fix on the board we put a small piece of paper under the left half of the beam splitter we use a magnetic ruler to ensure all apparatus be in the same height and the fix mi r and the move miitor be perpendicular to each other an interference pattem of dark and bright frmges be see on card board screen and show in figure the pattem see be in line with our expectation show in figure so the inte ferometer be align because it be quite difficult to align the inte ferometer and keep the distance from beam splitter to fix moving mirror we measure these two distance after align the distance from beam splitter to fix miitor be mm and to move miiror at origin be mm so our null point should be around llllll instead of mm the photodetector be instal at the output of the interferometer and connect to pc the photodetector be a photodiode attach to a variable gain amplifier a the interferometer be align we use white lead to find the null point a mention before the null point should be around the position at mm so we choose to record the data from to mm figure be the graph obtain and it show that the null point be very close to mm the first set of data be take by use laser in the range from to mm and mittor move at speed lmm s the experitnent be repeat by use laser white lead blue lead and tungsten lamp with green and yellow filter with different range and move speed we get the interferogram and spectmm oflaser from our first set of data a figme and the inte ferogram of laser show a periodic sinusoidal function because it contains only one single frequency with bright and dark fringe altematively the wavelength show in graph be around nm but accord to equation the wavelength should be double of that which be nm the white lead have already be use to take one set of data so to make it more accurate we record the data in a small range from to mm with low speed mm s figme and be the interferogram and spectrum respectively of this measurement compare the spectmm in figurel that we simulated before the experiment the spectrum we plot from the data be quite accurate the spectrum illustrates that the light source use be warm white lead because the intensity of red light be high than blue light there be a peak at blue light because blue light have a relative high energy from the spectrum we deduce that the mean wavelength of white lead be nm and the coherence length be um the procedure of use blue lead a light source be quite sitnilar to the white lead and we chose the range from to l mm at move speed l mm s figure depicts the interferogram of blue light which be a sitnple beating pattern a it contains a ve y small range of wavelength from the spectrnm figure we can see the mean wavelength of blue lead be around nm which be ve y close to the theoretical value and the coherence length be um for the tungsten source with yellow and green filter the mi tor move from to mm with the speed mm s the interferograms of tungsten light with yellow and green filter be ve y similar to each other and highly symmetry show in figure the shape of spectnuns of these two light sow ces be similar a w ell but with different wavelength due to the colow of filter be different figure and present the spectrum of tungsten with yellow and green filter respectively accord to the wavelength of yellow light the yellow filter can only pa the light that wavelength within the range from mm to mm which can be prove by the spectrum the mean wavelength of yellow filter be nm and the coherence length be mm fig the spectrum of hmgsten light w ith yellow filter the wave in the range from mm could be so t out by the green filter so the range of wavelength in the spectrum should be in that range the mean wavelength of green filter be run and coherence length be mm figure be the spectrum of tungsten light with green filter fig the spectrum of tungsten light with g reen filter we use the fo mula to calculate the spectral v iidth of each light source where j v be the spectral width and l be the coherence length the spectral width of white lead blue lead tungsten light with yellow and green filter be x hz x hz x hz and x hz respectively by consider w iens displacement law ta peak x where a peak be mean wavelength and t be the temperature we find the temperature of tungsten filament be k the result of the experiment do not completely fit our expectation and simulation there be many factor affect the accuracy of the experiment like the two miirnr ml and m be not absolute parallel to each other so there may be a very small angle between them the detector be also very easy to be affected also the fix min or and the move mirror not perpendicular to each other may cause the uncertainty a well during the experiment we found that a very soft knock on table and cough can cause the amplitude in the interferogram change dramatically this experiment be design to investigate the principle of michelson interferometer analyze the property of the interferograms and spectrum of interference with laser white lead blue lead tungsten lamp with green and yellow filter a light source and also find their mean wavelength and spectral width respectively the interferometer be simply split the light emit from the source by beam splitter and use mirror to reflect these two beam to make them interfere when they back to the beam splitter by change the position of the move mirror the interference pattern will change and the interferogram can be obtain the result of the experiment nearly fit our expectation and the simulation before take the data the interferograms and spectrum of each light source we get be also similar to the theoretical shape from the graph we obtain we find the mean wavelength coherence length and hence calculate the spectral width of each light source which be show in table the temperature of tungsten lamp be be calculate a k by use the wiens displacement law this experiment help u to realise the interferograms and the spectrum of each light source and also the use of the michelson interferometer although the experiment be relative success there be still many source of uncertainty to improve the experiment the detector should be totally fix to avoid the effect of some vibration of the desk to make the experiment simple the distance between the beam splitter to the two mirror should be the same but we do not adjust properly for convenience",
            "detector the black rectangle be the beam splitter and the white rectangle be the compensator in the set up these be combine into one component and be the distance between m and m ii type of visible fringe when interference occurs two different kind of fringe be form haidinger fringes these be fringe of equal inclination and be form when m and m be perpendicular to each other these be form by monochromatic and coherent beam of light these fringe be extremely useful be determine the null point of the interferometer a will be discus later fizeau fringes these be fringe of equal thickness and be form due to the thin wedge of air between m and m when m and m be not perpendicular to each other to study a source and it spectrum we must convert the interferogram produce by the interferometer to a wavelength spectrum this do use a fast fourier transform fft an fft convert from spatial domain to frequency domain due to the nature of the delta function there be a reciprocal relationship between the separation of the null in the interferogram and the separation of the frequency a gaussian temporal feature lead to a gaussian spectral feature this property be use to analyse the data collect and be discus later iv coherence length the coherence length can be described a the distance over which one arm of the michelson interferometer can be scan before the interferogram contrast becomes poor the coherence length be give by where be the speed of light and be the spectral width hz to turn this into wavelength we can use the formula where be the spectral width m and be technically the standard deviation of the gaussian of the wavelength spectrum and be the mean wavelength and can be found use the peak of the gaussian the spectral width m can be found use the full width half maximum by use the formula for a black body radiator cdef and it be possible to compare the peak wavelength cdef and temperature of a black body radiator use cdef lm where t be temperature and be measure in kelvin k this be know a wein s displacement law the interferometer be set up a show below in figure the interferometer be align use the green laser a the light source a mm plano convex lens p n la a be place before the beam splitter to broaden the beam and a mm plano convex lens p n la a be screw in after the beam splitter before the detector to focus the beam a screen be place approximately m away so a to reduce uncertainty the screw on the kinematic mirror be adjust till the central circular haidinger fringe could be see on the screen if fizeau fringe be see then the mirror be n t properly align after the interferometer be align the null point d be found this be do a it be around the null point where maximum interference be observe the green laser be first use to find the range in which the nullpoint exists use eq it can be see that be a constant and therefore when d increase must increase therefore a we move towards the null point the fringe move inwards and a we move away from it the fringe move outwards by use this information and test different point on the move stage the range be narrow down to mm the green laser be then replace by the white lead and a ground glass diffuser p n dg md be place to remove effect of the conical structure of the lead from the beam the photodetector be place back in it original position the narrow range be then test at a speed of lq the coherence length of white light be approx test at this speed ensure we would see the interference pattern for approx the null point be found a it be the only point where a white light fringe be see on the interferogram the null point be see at approximately mm position of the stage after the null point be found it be make sure that the interferometer be not disturbed too much and extreme caution be take when change light source three different source be test around their null point and data be take the three source be a white lead p n ospw p a blue lead p n osub p and a stabilize tungsten halogen light source the tungsten source be use first with no filter then with a green filter p n fl and then with a yellow filter p n fb the data for each reading be take at a speed of lq to get enough data point around the nullpoint the data collect be the signal amplitude time and position of the stage mm this data be then analyse use a python script which output an interferogram and perform an fft on the interferogram to give a wavelength spectrum a gaussian be then fit to the spectrum to get the value of cdef be simply the central wavelength of the gaussian and these value be then use to find use eq note while inputting the data into the programme an offset be notice from the expect value of the wavelength this be because once the stage have stop move repeat measurement be take at the same point this change the value of dsamp average distance between sample to fix this the excess data point be remove a can be see above the wavelength spectrum be a gaussian for the blue lead the mean wavelength be nm the be nm be nm and the coherence length be the error for the mean wavelength be simply the standard deviation of the gaussian a the coherence length be a function of the mean wavelength the error for the mean wavelength be then propagate to the coherence length to give u the final error error arose from the uncertainty of the stage of it own position and because the lead could never be place exactly in the center of the light tube the stage can move minimum increment of the speed be set at lq and the detector have a frequency of hz this mean that the detector must move between each reading but a it can only move increment at a minimum there would be repeat measurement at one position lead to an error blue lead be make from indium gallium nitride ingan and the mean wavelength found be well within the range expect by a blue lead make of ingan nm it be also expect that the blue lead would have a large coherence length than white light a the blue lead be a monochromatic source this be the case a can be see in the next section ii white lead for the white lead there be two gaussian distribution the first gaussian distribution be similar to that of the blue lead and have a mean wavelength of nm a of nm a of nm and a coherence length of whereas the second gaussian distribution be wider and represent the colour from green to red this have a mean wavelength of nm a of nm a of nm and a coherence length of it can be see that the coherence length and mean wavelength of the first gaussian be comparable to that of the blue lead the coherence length of the second gaussian be much small a it consists of a wider spectrum of wavelength than the blue lead two distribution be see be because of how a white lead be construct it be very hard to make a white lead a it consists of a wide spectrum of light therefore white light be make from a blue ingan lead which be coat with yttrium aluminium garnet yag which be a phosphor the phosphor absorbs some of the blue light which it then re emits a white light due to a phenomenon call stoke s shift this be a good approximation for white light the blue peak see be therefore a direct contribution of the blue lead whereas the yellow peak see be due to the phosphor coat iii tungsten source no filter for the tungsten source the mean wavelength be nm the be nm be nm and the coherence length be the peak wavelength a state by the manufacturer be nm and this fall just outside the range of our measurement it be also notice that the tungsten source be closely emulates a black body radiator use eq it s temperature be calculate it be see that the tungsten source act like a black body radiator at k a maxwell boltzmann distribution be expect a tungsten behaves like a black body but a can be see the spectrum be like that of white light but with a wider spectrum compare part a b from figure it can be see that the measure data agrees with expect data up until approximately nm and after that there be an unexpected drop this can be attribute to the detector use a it be only senstive to wavelength upto nm this therefore prof that tungsten do behave like a black body radiator iv tungsten source green and yellow filter it can be see that there be a sudden drop in the amplitude at the central wavelength for both the spectrum this happens because bandpass filter be coat with material of broad block range although these material help block a large range of wavelength they also reduce the transmission of the central wavelength for this reason the central wavelength be n t the peak wavelength and we see a drop in amplitude at the central wavelength the mean wavelength for the green and yellow filter be nm and nm respectively which agrees with the manufacturer value of nm and nm the coherence length for the yellow and green filter be m and m respectively in conclusion a michelson interferometer be built and be use to analyse three different source of light a white lead a blue lead and a tungsten source no filter yellow filter and green filter on analyze their wavelength spectrum it be see that the white lead be construct use a blue lead with a phosphor coat this be evident from the two different distribution present it be also see that the tungsten source no filter act like a black body radiator of k it be determine that the sudden drop in the central wavelength of the tungsten source with the filter be due to the extra coat use to block a large range of wavelength on the filter to improve the experiment a photodetector which be sensitive to large wavelength should be use so that the tungsten source can be properly study this would also help u well determine it temperature a large range of source uv and infra red should also be look at"
           ],
           [
            "the",
            "the",
            "the",
            "none",
            "none",
            "the",
            "bal",
            "the",
            "the",
            "bal"
           ],
           [
            "superficial",
            "superficial",
            "superficial",
            "deep",
            "superficial",
            "extended",
            "extended",
            "deep",
            "superficial",
            "superficial"
           ]
          ]
         },
         "columnwidth": [
          300,
          40,
          40
         ],
         "header": {
          "fill": {
           "color": "lightgrey"
          },
          "font": {
           "size": 14
          },
          "height": 48,
          "line": {
           "color": "black"
          },
          "values": [
           "<b>Document Identification</b>",
           "<b>Epistemology</b>",
           "<b> Argument Level </b>"
          ]
         },
         "type": "table"
        }
       ],
       "layout": {
        "template": {
         "data": {
          "bar": [
           {
            "error_x": {
             "color": "#2a3f5f"
            },
            "error_y": {
             "color": "#2a3f5f"
            },
            "marker": {
             "line": {
              "color": "#E5ECF6",
              "width": 0.5
             },
             "pattern": {
              "fillmode": "overlay",
              "size": 10,
              "solidity": 0.2
             }
            },
            "type": "bar"
           }
          ],
          "barpolar": [
           {
            "marker": {
             "line": {
              "color": "#E5ECF6",
              "width": 0.5
             },
             "pattern": {
              "fillmode": "overlay",
              "size": 10,
              "solidity": 0.2
             }
            },
            "type": "barpolar"
           }
          ],
          "carpet": [
           {
            "aaxis": {
             "endlinecolor": "#2a3f5f",
             "gridcolor": "white",
             "linecolor": "white",
             "minorgridcolor": "white",
             "startlinecolor": "#2a3f5f"
            },
            "baxis": {
             "endlinecolor": "#2a3f5f",
             "gridcolor": "white",
             "linecolor": "white",
             "minorgridcolor": "white",
             "startlinecolor": "#2a3f5f"
            },
            "type": "carpet"
           }
          ],
          "choropleth": [
           {
            "colorbar": {
             "outlinewidth": 0,
             "ticks": ""
            },
            "type": "choropleth"
           }
          ],
          "contour": [
           {
            "colorbar": {
             "outlinewidth": 0,
             "ticks": ""
            },
            "colorscale": [
             [
              0,
              "#0d0887"
             ],
             [
              0.1111111111111111,
              "#46039f"
             ],
             [
              0.2222222222222222,
              "#7201a8"
             ],
             [
              0.3333333333333333,
              "#9c179e"
             ],
             [
              0.4444444444444444,
              "#bd3786"
             ],
             [
              0.5555555555555556,
              "#d8576b"
             ],
             [
              0.6666666666666666,
              "#ed7953"
             ],
             [
              0.7777777777777778,
              "#fb9f3a"
             ],
             [
              0.8888888888888888,
              "#fdca26"
             ],
             [
              1,
              "#f0f921"
             ]
            ],
            "type": "contour"
           }
          ],
          "contourcarpet": [
           {
            "colorbar": {
             "outlinewidth": 0,
             "ticks": ""
            },
            "type": "contourcarpet"
           }
          ],
          "heatmap": [
           {
            "colorbar": {
             "outlinewidth": 0,
             "ticks": ""
            },
            "colorscale": [
             [
              0,
              "#0d0887"
             ],
             [
              0.1111111111111111,
              "#46039f"
             ],
             [
              0.2222222222222222,
              "#7201a8"
             ],
             [
              0.3333333333333333,
              "#9c179e"
             ],
             [
              0.4444444444444444,
              "#bd3786"
             ],
             [
              0.5555555555555556,
              "#d8576b"
             ],
             [
              0.6666666666666666,
              "#ed7953"
             ],
             [
              0.7777777777777778,
              "#fb9f3a"
             ],
             [
              0.8888888888888888,
              "#fdca26"
             ],
             [
              1,
              "#f0f921"
             ]
            ],
            "type": "heatmap"
           }
          ],
          "heatmapgl": [
           {
            "colorbar": {
             "outlinewidth": 0,
             "ticks": ""
            },
            "colorscale": [
             [
              0,
              "#0d0887"
             ],
             [
              0.1111111111111111,
              "#46039f"
             ],
             [
              0.2222222222222222,
              "#7201a8"
             ],
             [
              0.3333333333333333,
              "#9c179e"
             ],
             [
              0.4444444444444444,
              "#bd3786"
             ],
             [
              0.5555555555555556,
              "#d8576b"
             ],
             [
              0.6666666666666666,
              "#ed7953"
             ],
             [
              0.7777777777777778,
              "#fb9f3a"
             ],
             [
              0.8888888888888888,
              "#fdca26"
             ],
             [
              1,
              "#f0f921"
             ]
            ],
            "type": "heatmapgl"
           }
          ],
          "histogram": [
           {
            "marker": {
             "pattern": {
              "fillmode": "overlay",
              "size": 10,
              "solidity": 0.2
             }
            },
            "type": "histogram"
           }
          ],
          "histogram2d": [
           {
            "colorbar": {
             "outlinewidth": 0,
             "ticks": ""
            },
            "colorscale": [
             [
              0,
              "#0d0887"
             ],
             [
              0.1111111111111111,
              "#46039f"
             ],
             [
              0.2222222222222222,
              "#7201a8"
             ],
             [
              0.3333333333333333,
              "#9c179e"
             ],
             [
              0.4444444444444444,
              "#bd3786"
             ],
             [
              0.5555555555555556,
              "#d8576b"
             ],
             [
              0.6666666666666666,
              "#ed7953"
             ],
             [
              0.7777777777777778,
              "#fb9f3a"
             ],
             [
              0.8888888888888888,
              "#fdca26"
             ],
             [
              1,
              "#f0f921"
             ]
            ],
            "type": "histogram2d"
           }
          ],
          "histogram2dcontour": [
           {
            "colorbar": {
             "outlinewidth": 0,
             "ticks": ""
            },
            "colorscale": [
             [
              0,
              "#0d0887"
             ],
             [
              0.1111111111111111,
              "#46039f"
             ],
             [
              0.2222222222222222,
              "#7201a8"
             ],
             [
              0.3333333333333333,
              "#9c179e"
             ],
             [
              0.4444444444444444,
              "#bd3786"
             ],
             [
              0.5555555555555556,
              "#d8576b"
             ],
             [
              0.6666666666666666,
              "#ed7953"
             ],
             [
              0.7777777777777778,
              "#fb9f3a"
             ],
             [
              0.8888888888888888,
              "#fdca26"
             ],
             [
              1,
              "#f0f921"
             ]
            ],
            "type": "histogram2dcontour"
           }
          ],
          "mesh3d": [
           {
            "colorbar": {
             "outlinewidth": 0,
             "ticks": ""
            },
            "type": "mesh3d"
           }
          ],
          "parcoords": [
           {
            "line": {
             "colorbar": {
              "outlinewidth": 0,
              "ticks": ""
             }
            },
            "type": "parcoords"
           }
          ],
          "pie": [
           {
            "automargin": true,
            "type": "pie"
           }
          ],
          "scatter": [
           {
            "fillpattern": {
             "fillmode": "overlay",
             "size": 10,
             "solidity": 0.2
            },
            "type": "scatter"
           }
          ],
          "scatter3d": [
           {
            "line": {
             "colorbar": {
              "outlinewidth": 0,
              "ticks": ""
             }
            },
            "marker": {
             "colorbar": {
              "outlinewidth": 0,
              "ticks": ""
             }
            },
            "type": "scatter3d"
           }
          ],
          "scattercarpet": [
           {
            "marker": {
             "colorbar": {
              "outlinewidth": 0,
              "ticks": ""
             }
            },
            "type": "scattercarpet"
           }
          ],
          "scattergeo": [
           {
            "marker": {
             "colorbar": {
              "outlinewidth": 0,
              "ticks": ""
             }
            },
            "type": "scattergeo"
           }
          ],
          "scattergl": [
           {
            "marker": {
             "colorbar": {
              "outlinewidth": 0,
              "ticks": ""
             }
            },
            "type": "scattergl"
           }
          ],
          "scattermapbox": [
           {
            "marker": {
             "colorbar": {
              "outlinewidth": 0,
              "ticks": ""
             }
            },
            "type": "scattermapbox"
           }
          ],
          "scatterpolar": [
           {
            "marker": {
             "colorbar": {
              "outlinewidth": 0,
              "ticks": ""
             }
            },
            "type": "scatterpolar"
           }
          ],
          "scatterpolargl": [
           {
            "marker": {
             "colorbar": {
              "outlinewidth": 0,
              "ticks": ""
             }
            },
            "type": "scatterpolargl"
           }
          ],
          "scatterternary": [
           {
            "marker": {
             "colorbar": {
              "outlinewidth": 0,
              "ticks": ""
             }
            },
            "type": "scatterternary"
           }
          ],
          "surface": [
           {
            "colorbar": {
             "outlinewidth": 0,
             "ticks": ""
            },
            "colorscale": [
             [
              0,
              "#0d0887"
             ],
             [
              0.1111111111111111,
              "#46039f"
             ],
             [
              0.2222222222222222,
              "#7201a8"
             ],
             [
              0.3333333333333333,
              "#9c179e"
             ],
             [
              0.4444444444444444,
              "#bd3786"
             ],
             [
              0.5555555555555556,
              "#d8576b"
             ],
             [
              0.6666666666666666,
              "#ed7953"
             ],
             [
              0.7777777777777778,
              "#fb9f3a"
             ],
             [
              0.8888888888888888,
              "#fdca26"
             ],
             [
              1,
              "#f0f921"
             ]
            ],
            "type": "surface"
           }
          ],
          "table": [
           {
            "cells": {
             "fill": {
              "color": "#EBF0F8"
             },
             "line": {
              "color": "white"
             }
            },
            "header": {
             "fill": {
              "color": "#C8D4E3"
             },
             "line": {
              "color": "white"
             }
            },
            "type": "table"
           }
          ]
         },
         "layout": {
          "annotationdefaults": {
           "arrowcolor": "#2a3f5f",
           "arrowhead": 0,
           "arrowwidth": 1
          },
          "autotypenumbers": "strict",
          "coloraxis": {
           "colorbar": {
            "outlinewidth": 0,
            "ticks": ""
           }
          },
          "colorscale": {
           "diverging": [
            [
             0,
             "#8e0152"
            ],
            [
             0.1,
             "#c51b7d"
            ],
            [
             0.2,
             "#de77ae"
            ],
            [
             0.3,
             "#f1b6da"
            ],
            [
             0.4,
             "#fde0ef"
            ],
            [
             0.5,
             "#f7f7f7"
            ],
            [
             0.6,
             "#e6f5d0"
            ],
            [
             0.7,
             "#b8e186"
            ],
            [
             0.8,
             "#7fbc41"
            ],
            [
             0.9,
             "#4d9221"
            ],
            [
             1,
             "#276419"
            ]
           ],
           "sequential": [
            [
             0,
             "#0d0887"
            ],
            [
             0.1111111111111111,
             "#46039f"
            ],
            [
             0.2222222222222222,
             "#7201a8"
            ],
            [
             0.3333333333333333,
             "#9c179e"
            ],
            [
             0.4444444444444444,
             "#bd3786"
            ],
            [
             0.5555555555555556,
             "#d8576b"
            ],
            [
             0.6666666666666666,
             "#ed7953"
            ],
            [
             0.7777777777777778,
             "#fb9f3a"
            ],
            [
             0.8888888888888888,
             "#fdca26"
            ],
            [
             1,
             "#f0f921"
            ]
           ],
           "sequentialminus": [
            [
             0,
             "#0d0887"
            ],
            [
             0.1111111111111111,
             "#46039f"
            ],
            [
             0.2222222222222222,
             "#7201a8"
            ],
            [
             0.3333333333333333,
             "#9c179e"
            ],
            [
             0.4444444444444444,
             "#bd3786"
            ],
            [
             0.5555555555555556,
             "#d8576b"
            ],
            [
             0.6666666666666666,
             "#ed7953"
            ],
            [
             0.7777777777777778,
             "#fb9f3a"
            ],
            [
             0.8888888888888888,
             "#fdca26"
            ],
            [
             1,
             "#f0f921"
            ]
           ]
          },
          "colorway": [
           "#636efa",
           "#EF553B",
           "#00cc96",
           "#ab63fa",
           "#FFA15A",
           "#19d3f3",
           "#FF6692",
           "#B6E880",
           "#FF97FF",
           "#FECB52"
          ],
          "font": {
           "color": "#2a3f5f"
          },
          "geo": {
           "bgcolor": "white",
           "lakecolor": "white",
           "landcolor": "#E5ECF6",
           "showlakes": true,
           "showland": true,
           "subunitcolor": "white"
          },
          "hoverlabel": {
           "align": "left"
          },
          "hovermode": "closest",
          "mapbox": {
           "style": "light"
          },
          "paper_bgcolor": "white",
          "plot_bgcolor": "#E5ECF6",
          "polar": {
           "angularaxis": {
            "gridcolor": "white",
            "linecolor": "white",
            "ticks": ""
           },
           "bgcolor": "#E5ECF6",
           "radialaxis": {
            "gridcolor": "white",
            "linecolor": "white",
            "ticks": ""
           }
          },
          "scene": {
           "xaxis": {
            "backgroundcolor": "#E5ECF6",
            "gridcolor": "white",
            "gridwidth": 2,
            "linecolor": "white",
            "showbackground": true,
            "ticks": "",
            "zerolinecolor": "white"
           },
           "yaxis": {
            "backgroundcolor": "#E5ECF6",
            "gridcolor": "white",
            "gridwidth": 2,
            "linecolor": "white",
            "showbackground": true,
            "ticks": "",
            "zerolinecolor": "white"
           },
           "zaxis": {
            "backgroundcolor": "#E5ECF6",
            "gridcolor": "white",
            "gridwidth": 2,
            "linecolor": "white",
            "showbackground": true,
            "ticks": "",
            "zerolinecolor": "white"
           }
          },
          "shapedefaults": {
           "line": {
            "color": "#2a3f5f"
           }
          },
          "ternary": {
           "aaxis": {
            "gridcolor": "white",
            "linecolor": "white",
            "ticks": ""
           },
           "baxis": {
            "gridcolor": "white",
            "linecolor": "white",
            "ticks": ""
           },
           "bgcolor": "#E5ECF6",
           "caxis": {
            "gridcolor": "white",
            "linecolor": "white",
            "ticks": ""
           }
          },
          "title": {
           "x": 0.05
          },
          "xaxis": {
           "automargin": true,
           "gridcolor": "white",
           "linecolor": "white",
           "ticks": "",
           "title": {
            "standoff": 15
           },
           "zerolinecolor": "white",
           "zerolinewidth": 2
          },
          "yaxis": {
           "automargin": true,
           "gridcolor": "white",
           "linecolor": "white",
           "ticks": "",
           "title": {
            "standoff": 15
           },
           "zerolinecolor": "white",
           "zerolinewidth": 2
          }
         }
        },
        "title": {
         "text": "Topic 2: ['light', 'source', 'wavelength', 'lead', 'point', 'white', 'tungsten', 'find', 'spectral', 'fringe']"
        }
       }
      }
     },
     "metadata": {},
     "output_type": "display_data"
    }
   ],
   "source": [
    "num_docs = 10\n",
    "try:\n",
    "    #Show tables in plotly if plotly is intalled\n",
    "    import plotly.graph_objects as go\n",
    "    for t in range(num_topics):\n",
    "        #print(\"Topic {}: {}\".format(t,lda_model.print_topics(num_words=6)[t][1]))\n",
    "        formattedlist = [word[0] for word in lda_model.show_topics(num_topics = 4, formatted=False)[t][1]]\n",
    "        content = df.sort_values(by=t, ascending=False)[['Content','ReasoningLevel','ArgumentLevel',t]][:num_docs]\n",
    "        fig = go.Figure(data=[ go.Table(\n",
    "            #columnwidth = [60, 40, 40, 300, 220],\n",
    "            columnwidth = [ 300, 40, 40],\n",
    "            header=dict(\n",
    "                #values=['<b>Document number</b>', '<b>Weight</b>', '<b>Year</b>', '<b>Title</b>', '<b>Authors</b>'],\n",
    "                values = ['<b>Document Identification</b>', '<b>Epistemology</b>', '<b> Argument Level </b>'],\n",
    "                height=48,\n",
    "                font_size=14,\n",
    "                line_color='black',\n",
    "                fill_color='lightgrey'),\n",
    "            cells=dict(\n",
    "                #values=[list(content.index), list(round(content[t],2)), list(content.Content), list(content.ReasoningLevel), list(content.ArgumentLevel)],\n",
    "                values = [list(content.Content), list(content.ReasoningLevel), list(content.ArgumentLevel)],\n",
    "                align=['center', 'center', 'center', 'left', 'left'],\n",
    "                height=48,\n",
    "                font_size=12,\n",
    "                line_color='black',\n",
    "                fill_color='white')) ])\n",
    "        fig.update_layout( title_text=\"Topic {}: {}\".format(t,formattedlist) )\n",
    "        #fig.show() \n",
    "    del content\n",
    "except: \n",
    "    pd.set_option('display.max_colwidth', 150)\n",
    "    for t in range(num_topics):\n",
    "        print(\"Topic {}: {}\".format(t,lda_model.print_topics(num_words=6)[t][1]))\n",
    "        df.sort_values(by=t, ascending=False)[['StudentID','ReasoningLevel','ArgumentLevel',t]][:num_docs]\n",
    "        # sort in terms of studentID then Reasoning level and then Argument levell\n",
    "        print('\\n\\n')"
   ]
  },
  {
   "cell_type": "markdown",
   "metadata": {},
   "source": [
    "### E. Time plot of topic weights\n",
    "\n",
    "Finally, we can plot the \"prevalence\" of each topic as a function of time. That is, for each year we can add up the percentage of each topic in each document from that year's Science Education articles (normalized by the number of documents) and plot that as a function of time. Intuitively, we can think of this \"prevalence\" as being a measure of the percentage of papers published on that topic in that year, found by adding up the fractional topic contributions from each paper each year.\n",
    "\n",
    "It can, however, be tricky to see overall trends with so much year-to-year variation. So, in the next plots we have implemented a smoothing function in the form of a average across a 3-year rolling window. This effectively serves to dampen out small variations, while leaving larger trends intact. However, it also neglects the first and last years.\n",
    "\n",
    "Note that when you run this notebook (if you have plotly) these figures are interactive, so you can display or remove plots from the graph by clicking on the legend."
   ]
  },
  {
   "cell_type": "code",
   "execution_count": 79,
   "metadata": {},
   "outputs": [
    {
     "name": "stdout",
     "output_type": "stream",
     "text": [
      "['extended' 'prediction' 'superficial']\n",
      "Topic 0: value, line, wavelength, constant, error\n",
      "Topic 1: wavelength, datum, source, stage, position\n",
      "Topic 2: light, source, wavelength, lead, point\n"
     ]
    },
    {
     "data": {
      "application/vnd.plotly.v1+json": {
       "config": {
        "plotlyServerURL": "https://plot.ly"
       },
       "data": [
        {
         "customdata": [
          [
           "value, line, wavelength, constant, error"
          ],
          [
           "value, line, wavelength, constant, error"
          ],
          [
           "value, line, wavelength, constant, error"
          ]
         ],
         "hovertemplate": "Topic=0<br>ArgumentLevel=%{x}<br>Prevalence (percent)=%{y}<br>words=%{customdata[0]}<extra></extra>",
         "legendgroup": "0",
         "line": {
          "color": "#636efa",
          "dash": "solid"
         },
         "marker": {
          "symbol": "circle"
         },
         "mode": "lines",
         "name": "0",
         "orientation": "v",
         "showlegend": true,
         "type": "scatter",
         "x": [
          "extended",
          "prediction",
          "superficial"
         ],
         "xaxis": "x",
         "y": [
          0.5247633052176551,
          0.4524329759654424,
          0.40634602054421387
         ],
         "yaxis": "y"
        },
        {
         "customdata": [
          [
           "wavelength, datum, source, stage, position"
          ],
          [
           "wavelength, datum, source, stage, position"
          ],
          [
           "wavelength, datum, source, stage, position"
          ]
         ],
         "hovertemplate": "Topic=1<br>ArgumentLevel=%{x}<br>Prevalence (percent)=%{y}<br>words=%{customdata[0]}<extra></extra>",
         "legendgroup": "1",
         "line": {
          "color": "#EF553B",
          "dash": "dot"
         },
         "marker": {
          "symbol": "circle"
         },
         "mode": "lines",
         "name": "1",
         "orientation": "v",
         "showlegend": true,
         "type": "scatter",
         "x": [
          "extended",
          "prediction",
          "superficial"
         ],
         "xaxis": "x",
         "y": [
          0.06704040944423532,
          0.058293815175591804,
          0.048345912640382134
         ],
         "yaxis": "y"
        },
        {
         "customdata": [
          [
           "light, source, wavelength, lead, point"
          ],
          [
           "light, source, wavelength, lead, point"
          ],
          [
           "light, source, wavelength, lead, point"
          ]
         ],
         "hovertemplate": "Topic=2<br>ArgumentLevel=%{x}<br>Prevalence (percent)=%{y}<br>words=%{customdata[0]}<extra></extra>",
         "legendgroup": "2",
         "line": {
          "color": "#00cc96",
          "dash": "dash"
         },
         "marker": {
          "symbol": "circle"
         },
         "mode": "lines",
         "name": "2",
         "orientation": "v",
         "showlegend": true,
         "type": "scatter",
         "x": [
          "extended",
          "prediction",
          "superficial"
         ],
         "xaxis": "x",
         "y": [
          0.4061201686307924,
          0.4873382301321801,
          0.5434154737115439
         ],
         "yaxis": "y"
        }
       ],
       "layout": {
        "height": 800,
        "legend": {
         "title": {
          "text": "Topic"
         },
         "tracegroupgap": 0
        },
        "template": {
         "data": {
          "bar": [
           {
            "error_x": {
             "color": "#2a3f5f"
            },
            "error_y": {
             "color": "#2a3f5f"
            },
            "marker": {
             "line": {
              "color": "#E5ECF6",
              "width": 0.5
             },
             "pattern": {
              "fillmode": "overlay",
              "size": 10,
              "solidity": 0.2
             }
            },
            "type": "bar"
           }
          ],
          "barpolar": [
           {
            "marker": {
             "line": {
              "color": "#E5ECF6",
              "width": 0.5
             },
             "pattern": {
              "fillmode": "overlay",
              "size": 10,
              "solidity": 0.2
             }
            },
            "type": "barpolar"
           }
          ],
          "carpet": [
           {
            "aaxis": {
             "endlinecolor": "#2a3f5f",
             "gridcolor": "white",
             "linecolor": "white",
             "minorgridcolor": "white",
             "startlinecolor": "#2a3f5f"
            },
            "baxis": {
             "endlinecolor": "#2a3f5f",
             "gridcolor": "white",
             "linecolor": "white",
             "minorgridcolor": "white",
             "startlinecolor": "#2a3f5f"
            },
            "type": "carpet"
           }
          ],
          "choropleth": [
           {
            "colorbar": {
             "outlinewidth": 0,
             "ticks": ""
            },
            "type": "choropleth"
           }
          ],
          "contour": [
           {
            "colorbar": {
             "outlinewidth": 0,
             "ticks": ""
            },
            "colorscale": [
             [
              0,
              "#0d0887"
             ],
             [
              0.1111111111111111,
              "#46039f"
             ],
             [
              0.2222222222222222,
              "#7201a8"
             ],
             [
              0.3333333333333333,
              "#9c179e"
             ],
             [
              0.4444444444444444,
              "#bd3786"
             ],
             [
              0.5555555555555556,
              "#d8576b"
             ],
             [
              0.6666666666666666,
              "#ed7953"
             ],
             [
              0.7777777777777778,
              "#fb9f3a"
             ],
             [
              0.8888888888888888,
              "#fdca26"
             ],
             [
              1,
              "#f0f921"
             ]
            ],
            "type": "contour"
           }
          ],
          "contourcarpet": [
           {
            "colorbar": {
             "outlinewidth": 0,
             "ticks": ""
            },
            "type": "contourcarpet"
           }
          ],
          "heatmap": [
           {
            "colorbar": {
             "outlinewidth": 0,
             "ticks": ""
            },
            "colorscale": [
             [
              0,
              "#0d0887"
             ],
             [
              0.1111111111111111,
              "#46039f"
             ],
             [
              0.2222222222222222,
              "#7201a8"
             ],
             [
              0.3333333333333333,
              "#9c179e"
             ],
             [
              0.4444444444444444,
              "#bd3786"
             ],
             [
              0.5555555555555556,
              "#d8576b"
             ],
             [
              0.6666666666666666,
              "#ed7953"
             ],
             [
              0.7777777777777778,
              "#fb9f3a"
             ],
             [
              0.8888888888888888,
              "#fdca26"
             ],
             [
              1,
              "#f0f921"
             ]
            ],
            "type": "heatmap"
           }
          ],
          "heatmapgl": [
           {
            "colorbar": {
             "outlinewidth": 0,
             "ticks": ""
            },
            "colorscale": [
             [
              0,
              "#0d0887"
             ],
             [
              0.1111111111111111,
              "#46039f"
             ],
             [
              0.2222222222222222,
              "#7201a8"
             ],
             [
              0.3333333333333333,
              "#9c179e"
             ],
             [
              0.4444444444444444,
              "#bd3786"
             ],
             [
              0.5555555555555556,
              "#d8576b"
             ],
             [
              0.6666666666666666,
              "#ed7953"
             ],
             [
              0.7777777777777778,
              "#fb9f3a"
             ],
             [
              0.8888888888888888,
              "#fdca26"
             ],
             [
              1,
              "#f0f921"
             ]
            ],
            "type": "heatmapgl"
           }
          ],
          "histogram": [
           {
            "marker": {
             "pattern": {
              "fillmode": "overlay",
              "size": 10,
              "solidity": 0.2
             }
            },
            "type": "histogram"
           }
          ],
          "histogram2d": [
           {
            "colorbar": {
             "outlinewidth": 0,
             "ticks": ""
            },
            "colorscale": [
             [
              0,
              "#0d0887"
             ],
             [
              0.1111111111111111,
              "#46039f"
             ],
             [
              0.2222222222222222,
              "#7201a8"
             ],
             [
              0.3333333333333333,
              "#9c179e"
             ],
             [
              0.4444444444444444,
              "#bd3786"
             ],
             [
              0.5555555555555556,
              "#d8576b"
             ],
             [
              0.6666666666666666,
              "#ed7953"
             ],
             [
              0.7777777777777778,
              "#fb9f3a"
             ],
             [
              0.8888888888888888,
              "#fdca26"
             ],
             [
              1,
              "#f0f921"
             ]
            ],
            "type": "histogram2d"
           }
          ],
          "histogram2dcontour": [
           {
            "colorbar": {
             "outlinewidth": 0,
             "ticks": ""
            },
            "colorscale": [
             [
              0,
              "#0d0887"
             ],
             [
              0.1111111111111111,
              "#46039f"
             ],
             [
              0.2222222222222222,
              "#7201a8"
             ],
             [
              0.3333333333333333,
              "#9c179e"
             ],
             [
              0.4444444444444444,
              "#bd3786"
             ],
             [
              0.5555555555555556,
              "#d8576b"
             ],
             [
              0.6666666666666666,
              "#ed7953"
             ],
             [
              0.7777777777777778,
              "#fb9f3a"
             ],
             [
              0.8888888888888888,
              "#fdca26"
             ],
             [
              1,
              "#f0f921"
             ]
            ],
            "type": "histogram2dcontour"
           }
          ],
          "mesh3d": [
           {
            "colorbar": {
             "outlinewidth": 0,
             "ticks": ""
            },
            "type": "mesh3d"
           }
          ],
          "parcoords": [
           {
            "line": {
             "colorbar": {
              "outlinewidth": 0,
              "ticks": ""
             }
            },
            "type": "parcoords"
           }
          ],
          "pie": [
           {
            "automargin": true,
            "type": "pie"
           }
          ],
          "scatter": [
           {
            "fillpattern": {
             "fillmode": "overlay",
             "size": 10,
             "solidity": 0.2
            },
            "type": "scatter"
           }
          ],
          "scatter3d": [
           {
            "line": {
             "colorbar": {
              "outlinewidth": 0,
              "ticks": ""
             }
            },
            "marker": {
             "colorbar": {
              "outlinewidth": 0,
              "ticks": ""
             }
            },
            "type": "scatter3d"
           }
          ],
          "scattercarpet": [
           {
            "marker": {
             "colorbar": {
              "outlinewidth": 0,
              "ticks": ""
             }
            },
            "type": "scattercarpet"
           }
          ],
          "scattergeo": [
           {
            "marker": {
             "colorbar": {
              "outlinewidth": 0,
              "ticks": ""
             }
            },
            "type": "scattergeo"
           }
          ],
          "scattergl": [
           {
            "marker": {
             "colorbar": {
              "outlinewidth": 0,
              "ticks": ""
             }
            },
            "type": "scattergl"
           }
          ],
          "scattermapbox": [
           {
            "marker": {
             "colorbar": {
              "outlinewidth": 0,
              "ticks": ""
             }
            },
            "type": "scattermapbox"
           }
          ],
          "scatterpolar": [
           {
            "marker": {
             "colorbar": {
              "outlinewidth": 0,
              "ticks": ""
             }
            },
            "type": "scatterpolar"
           }
          ],
          "scatterpolargl": [
           {
            "marker": {
             "colorbar": {
              "outlinewidth": 0,
              "ticks": ""
             }
            },
            "type": "scatterpolargl"
           }
          ],
          "scatterternary": [
           {
            "marker": {
             "colorbar": {
              "outlinewidth": 0,
              "ticks": ""
             }
            },
            "type": "scatterternary"
           }
          ],
          "surface": [
           {
            "colorbar": {
             "outlinewidth": 0,
             "ticks": ""
            },
            "colorscale": [
             [
              0,
              "#0d0887"
             ],
             [
              0.1111111111111111,
              "#46039f"
             ],
             [
              0.2222222222222222,
              "#7201a8"
             ],
             [
              0.3333333333333333,
              "#9c179e"
             ],
             [
              0.4444444444444444,
              "#bd3786"
             ],
             [
              0.5555555555555556,
              "#d8576b"
             ],
             [
              0.6666666666666666,
              "#ed7953"
             ],
             [
              0.7777777777777778,
              "#fb9f3a"
             ],
             [
              0.8888888888888888,
              "#fdca26"
             ],
             [
              1,
              "#f0f921"
             ]
            ],
            "type": "surface"
           }
          ],
          "table": [
           {
            "cells": {
             "fill": {
              "color": "#EBF0F8"
             },
             "line": {
              "color": "white"
             }
            },
            "header": {
             "fill": {
              "color": "#C8D4E3"
             },
             "line": {
              "color": "white"
             }
            },
            "type": "table"
           }
          ]
         },
         "layout": {
          "annotationdefaults": {
           "arrowcolor": "#2a3f5f",
           "arrowhead": 0,
           "arrowwidth": 1
          },
          "autotypenumbers": "strict",
          "coloraxis": {
           "colorbar": {
            "outlinewidth": 0,
            "ticks": ""
           }
          },
          "colorscale": {
           "diverging": [
            [
             0,
             "#8e0152"
            ],
            [
             0.1,
             "#c51b7d"
            ],
            [
             0.2,
             "#de77ae"
            ],
            [
             0.3,
             "#f1b6da"
            ],
            [
             0.4,
             "#fde0ef"
            ],
            [
             0.5,
             "#f7f7f7"
            ],
            [
             0.6,
             "#e6f5d0"
            ],
            [
             0.7,
             "#b8e186"
            ],
            [
             0.8,
             "#7fbc41"
            ],
            [
             0.9,
             "#4d9221"
            ],
            [
             1,
             "#276419"
            ]
           ],
           "sequential": [
            [
             0,
             "#0d0887"
            ],
            [
             0.1111111111111111,
             "#46039f"
            ],
            [
             0.2222222222222222,
             "#7201a8"
            ],
            [
             0.3333333333333333,
             "#9c179e"
            ],
            [
             0.4444444444444444,
             "#bd3786"
            ],
            [
             0.5555555555555556,
             "#d8576b"
            ],
            [
             0.6666666666666666,
             "#ed7953"
            ],
            [
             0.7777777777777778,
             "#fb9f3a"
            ],
            [
             0.8888888888888888,
             "#fdca26"
            ],
            [
             1,
             "#f0f921"
            ]
           ],
           "sequentialminus": [
            [
             0,
             "#0d0887"
            ],
            [
             0.1111111111111111,
             "#46039f"
            ],
            [
             0.2222222222222222,
             "#7201a8"
            ],
            [
             0.3333333333333333,
             "#9c179e"
            ],
            [
             0.4444444444444444,
             "#bd3786"
            ],
            [
             0.5555555555555556,
             "#d8576b"
            ],
            [
             0.6666666666666666,
             "#ed7953"
            ],
            [
             0.7777777777777778,
             "#fb9f3a"
            ],
            [
             0.8888888888888888,
             "#fdca26"
            ],
            [
             1,
             "#f0f921"
            ]
           ]
          },
          "colorway": [
           "#636efa",
           "#EF553B",
           "#00cc96",
           "#ab63fa",
           "#FFA15A",
           "#19d3f3",
           "#FF6692",
           "#B6E880",
           "#FF97FF",
           "#FECB52"
          ],
          "font": {
           "color": "#2a3f5f"
          },
          "geo": {
           "bgcolor": "white",
           "lakecolor": "white",
           "landcolor": "#E5ECF6",
           "showlakes": true,
           "showland": true,
           "subunitcolor": "white"
          },
          "hoverlabel": {
           "align": "left"
          },
          "hovermode": "closest",
          "mapbox": {
           "style": "light"
          },
          "paper_bgcolor": "white",
          "plot_bgcolor": "#E5ECF6",
          "polar": {
           "angularaxis": {
            "gridcolor": "white",
            "linecolor": "white",
            "ticks": ""
           },
           "bgcolor": "#E5ECF6",
           "radialaxis": {
            "gridcolor": "white",
            "linecolor": "white",
            "ticks": ""
           }
          },
          "scene": {
           "xaxis": {
            "backgroundcolor": "#E5ECF6",
            "gridcolor": "white",
            "gridwidth": 2,
            "linecolor": "white",
            "showbackground": true,
            "ticks": "",
            "zerolinecolor": "white"
           },
           "yaxis": {
            "backgroundcolor": "#E5ECF6",
            "gridcolor": "white",
            "gridwidth": 2,
            "linecolor": "white",
            "showbackground": true,
            "ticks": "",
            "zerolinecolor": "white"
           },
           "zaxis": {
            "backgroundcolor": "#E5ECF6",
            "gridcolor": "white",
            "gridwidth": 2,
            "linecolor": "white",
            "showbackground": true,
            "ticks": "",
            "zerolinecolor": "white"
           }
          },
          "shapedefaults": {
           "line": {
            "color": "#2a3f5f"
           }
          },
          "ternary": {
           "aaxis": {
            "gridcolor": "white",
            "linecolor": "white",
            "ticks": ""
           },
           "baxis": {
            "gridcolor": "white",
            "linecolor": "white",
            "ticks": ""
           },
           "bgcolor": "#E5ECF6",
           "caxis": {
            "gridcolor": "white",
            "linecolor": "white",
            "ticks": ""
           }
          },
          "title": {
           "x": 0.05
          },
          "xaxis": {
           "automargin": true,
           "gridcolor": "white",
           "linecolor": "white",
           "ticks": "",
           "title": {
            "standoff": 15
           },
           "zerolinecolor": "white",
           "zerolinewidth": 2
          },
          "yaxis": {
           "automargin": true,
           "gridcolor": "white",
           "linecolor": "white",
           "ticks": "",
           "title": {
            "standoff": 15
           },
           "zerolinecolor": "white",
           "zerolinewidth": 2
          }
         }
        },
        "title": {
         "text": "Average Topic Prevalence over ArgumentLevel"
        },
        "width": 1200,
        "xaxis": {
         "anchor": "y",
         "domain": [
          0,
          1
         ],
         "title": {
          "text": "ArgumentLevel"
         }
        },
        "yaxis": {
         "anchor": "x",
         "domain": [
          0,
          1
         ],
         "title": {
          "text": "Prevalence (percent)"
         }
        }
       }
      }
     },
     "metadata": {},
     "output_type": "display_data"
    }
   ],
   "source": [
    "# Prevalence for argument level\n",
    "import plotly\n",
    "import plotly.express as px\n",
    "\n",
    "#plotlydata = df.groupby('year').agg('mean').rolling(3, min_periods=3, win_type='triang').mean().dropna()\n",
    "plotlydata = df.groupby('ArgumentLevel').agg('mean').rolling(3, min_periods=3, win_type='triang').mean().dropna()\n",
    "#plotlydata = df.groupby('ArgumentLevel')\n",
    "#plotlydata['Years'] = plotlydata.index.values\n",
    "plotlydata['ArgumentLevel'] = plotlydata.index.values\n",
    "print(  plotlydata.index.values)\n",
    "#plotlydata = plotlydata[plotlydata['Years']<2020]\n",
    "#plotlydata = plotlydata[plotlydata['ArgumentLevel']]\n",
    "\n",
    "#tidy_df = plotlydata.melt(id_vars=\"Years\", var_name = \"Topic\", value_name = \"Prevalence (percent)\") \n",
    "tidy_df = plotlydata.melt(id_vars=\"ArgumentLevel\", var_name = \"Topic\", value_name = \"Prevalence (percent)\") \n",
    "tidy_df['words'] = ''\n",
    "for t in range(num_topics):\n",
    "    formattedlist = [topic[0] for topic in lda_model.show_topics(num_topics = 3, formatted=False, num_words = 5)[t][1]]\n",
    "    print('Topic {}:'.format(t), ', '.join(formattedlist))\n",
    "    tidy_df.loc[tidy_df['Topic'] == t, 'words'] = ', '.join(formattedlist)\n",
    "\n",
    "# fig = px.line(tidy_df, x=\"Years\", y=\"Prevalence (percent)\", color='Topic', line_dash = \"Topic\", \n",
    "#               hover_data = ['words'], title = 'Average Topic Prevalence over Time', width=1200, height=800)\n",
    "# fig.show()\n",
    "\n",
    "fig = px.line(tidy_df, x=\"ArgumentLevel\", y=\"Prevalence (percent)\", color='Topic', line_dash = \"Topic\", \n",
    "              hover_data = ['words'], title = 'Average Topic Prevalence over ArgumentLevel', width=1200, height=800)\n",
    "fig.show()\n"
   ]
  },
  {
   "cell_type": "code",
   "execution_count": 73,
   "metadata": {},
   "outputs": [
    {
     "name": "stdout",
     "output_type": "stream",
     "text": [
      "Topic 0: value, line, wavelength, constant, error\n",
      "Topic 1: wavelength, datum, source, stage, position\n",
      "Topic 2: light, source, wavelength, lead, point\n"
     ]
    },
    {
     "data": {
      "application/vnd.plotly.v1+json": {
       "config": {
        "plotlyServerURL": "https://plot.ly"
       },
       "data": [
        {
         "customdata": [
          [
           "value, line, wavelength, constant, error"
          ],
          [
           "value, line, wavelength, constant, error"
          ]
         ],
         "hovertemplate": "Topic=0<br>ReasoningLevel=%{x}<br>Prevalence (percent)=%{y}<br>words=%{customdata[0]}<extra></extra>",
         "legendgroup": "0",
         "line": {
          "color": "#636efa",
          "dash": "solid"
         },
         "marker": {
          "symbol": "circle"
         },
         "mode": "lines",
         "name": "0",
         "orientation": "v",
         "showlegend": true,
         "type": "scatter",
         "x": [
          "none",
          "the"
         ],
         "xaxis": "x",
         "y": [
          0.4239217529230015,
          0.35740343584316664
         ],
         "yaxis": "y"
        },
        {
         "customdata": [
          [
           "wavelength, datum, source, stage, position"
          ],
          [
           "wavelength, datum, source, stage, position"
          ]
         ],
         "hovertemplate": "Topic=1<br>ReasoningLevel=%{x}<br>Prevalence (percent)=%{y}<br>words=%{customdata[0]}<extra></extra>",
         "legendgroup": "1",
         "line": {
          "color": "#EF553B",
          "dash": "dot"
         },
         "marker": {
          "symbol": "circle"
         },
         "mode": "lines",
         "name": "1",
         "orientation": "v",
         "showlegend": true,
         "type": "scatter",
         "x": [
          "none",
          "the"
         ],
         "xaxis": "x",
         "y": [
          0.06708487680792066,
          0.055638707878116575
         ],
         "yaxis": "y"
        },
        {
         "customdata": [
          [
           "light, source, wavelength, lead, point"
          ],
          [
           "light, source, wavelength, lead, point"
          ]
         ],
         "hovertemplate": "Topic=2<br>ReasoningLevel=%{x}<br>Prevalence (percent)=%{y}<br>words=%{customdata[0]}<extra></extra>",
         "legendgroup": "2",
         "line": {
          "color": "#00cc96",
          "dash": "dash"
         },
         "marker": {
          "symbol": "circle"
         },
         "mode": "lines",
         "name": "2",
         "orientation": "v",
         "showlegend": true,
         "type": "scatter",
         "x": [
          "none",
          "the"
         ],
         "xaxis": "x",
         "y": [
          0.5067448220109999,
          0.5844933382895108
         ],
         "yaxis": "y"
        }
       ],
       "layout": {
        "height": 800,
        "legend": {
         "title": {
          "text": "Topic"
         },
         "tracegroupgap": 0
        },
        "template": {
         "data": {
          "bar": [
           {
            "error_x": {
             "color": "#2a3f5f"
            },
            "error_y": {
             "color": "#2a3f5f"
            },
            "marker": {
             "line": {
              "color": "#E5ECF6",
              "width": 0.5
             },
             "pattern": {
              "fillmode": "overlay",
              "size": 10,
              "solidity": 0.2
             }
            },
            "type": "bar"
           }
          ],
          "barpolar": [
           {
            "marker": {
             "line": {
              "color": "#E5ECF6",
              "width": 0.5
             },
             "pattern": {
              "fillmode": "overlay",
              "size": 10,
              "solidity": 0.2
             }
            },
            "type": "barpolar"
           }
          ],
          "carpet": [
           {
            "aaxis": {
             "endlinecolor": "#2a3f5f",
             "gridcolor": "white",
             "linecolor": "white",
             "minorgridcolor": "white",
             "startlinecolor": "#2a3f5f"
            },
            "baxis": {
             "endlinecolor": "#2a3f5f",
             "gridcolor": "white",
             "linecolor": "white",
             "minorgridcolor": "white",
             "startlinecolor": "#2a3f5f"
            },
            "type": "carpet"
           }
          ],
          "choropleth": [
           {
            "colorbar": {
             "outlinewidth": 0,
             "ticks": ""
            },
            "type": "choropleth"
           }
          ],
          "contour": [
           {
            "colorbar": {
             "outlinewidth": 0,
             "ticks": ""
            },
            "colorscale": [
             [
              0,
              "#0d0887"
             ],
             [
              0.1111111111111111,
              "#46039f"
             ],
             [
              0.2222222222222222,
              "#7201a8"
             ],
             [
              0.3333333333333333,
              "#9c179e"
             ],
             [
              0.4444444444444444,
              "#bd3786"
             ],
             [
              0.5555555555555556,
              "#d8576b"
             ],
             [
              0.6666666666666666,
              "#ed7953"
             ],
             [
              0.7777777777777778,
              "#fb9f3a"
             ],
             [
              0.8888888888888888,
              "#fdca26"
             ],
             [
              1,
              "#f0f921"
             ]
            ],
            "type": "contour"
           }
          ],
          "contourcarpet": [
           {
            "colorbar": {
             "outlinewidth": 0,
             "ticks": ""
            },
            "type": "contourcarpet"
           }
          ],
          "heatmap": [
           {
            "colorbar": {
             "outlinewidth": 0,
             "ticks": ""
            },
            "colorscale": [
             [
              0,
              "#0d0887"
             ],
             [
              0.1111111111111111,
              "#46039f"
             ],
             [
              0.2222222222222222,
              "#7201a8"
             ],
             [
              0.3333333333333333,
              "#9c179e"
             ],
             [
              0.4444444444444444,
              "#bd3786"
             ],
             [
              0.5555555555555556,
              "#d8576b"
             ],
             [
              0.6666666666666666,
              "#ed7953"
             ],
             [
              0.7777777777777778,
              "#fb9f3a"
             ],
             [
              0.8888888888888888,
              "#fdca26"
             ],
             [
              1,
              "#f0f921"
             ]
            ],
            "type": "heatmap"
           }
          ],
          "heatmapgl": [
           {
            "colorbar": {
             "outlinewidth": 0,
             "ticks": ""
            },
            "colorscale": [
             [
              0,
              "#0d0887"
             ],
             [
              0.1111111111111111,
              "#46039f"
             ],
             [
              0.2222222222222222,
              "#7201a8"
             ],
             [
              0.3333333333333333,
              "#9c179e"
             ],
             [
              0.4444444444444444,
              "#bd3786"
             ],
             [
              0.5555555555555556,
              "#d8576b"
             ],
             [
              0.6666666666666666,
              "#ed7953"
             ],
             [
              0.7777777777777778,
              "#fb9f3a"
             ],
             [
              0.8888888888888888,
              "#fdca26"
             ],
             [
              1,
              "#f0f921"
             ]
            ],
            "type": "heatmapgl"
           }
          ],
          "histogram": [
           {
            "marker": {
             "pattern": {
              "fillmode": "overlay",
              "size": 10,
              "solidity": 0.2
             }
            },
            "type": "histogram"
           }
          ],
          "histogram2d": [
           {
            "colorbar": {
             "outlinewidth": 0,
             "ticks": ""
            },
            "colorscale": [
             [
              0,
              "#0d0887"
             ],
             [
              0.1111111111111111,
              "#46039f"
             ],
             [
              0.2222222222222222,
              "#7201a8"
             ],
             [
              0.3333333333333333,
              "#9c179e"
             ],
             [
              0.4444444444444444,
              "#bd3786"
             ],
             [
              0.5555555555555556,
              "#d8576b"
             ],
             [
              0.6666666666666666,
              "#ed7953"
             ],
             [
              0.7777777777777778,
              "#fb9f3a"
             ],
             [
              0.8888888888888888,
              "#fdca26"
             ],
             [
              1,
              "#f0f921"
             ]
            ],
            "type": "histogram2d"
           }
          ],
          "histogram2dcontour": [
           {
            "colorbar": {
             "outlinewidth": 0,
             "ticks": ""
            },
            "colorscale": [
             [
              0,
              "#0d0887"
             ],
             [
              0.1111111111111111,
              "#46039f"
             ],
             [
              0.2222222222222222,
              "#7201a8"
             ],
             [
              0.3333333333333333,
              "#9c179e"
             ],
             [
              0.4444444444444444,
              "#bd3786"
             ],
             [
              0.5555555555555556,
              "#d8576b"
             ],
             [
              0.6666666666666666,
              "#ed7953"
             ],
             [
              0.7777777777777778,
              "#fb9f3a"
             ],
             [
              0.8888888888888888,
              "#fdca26"
             ],
             [
              1,
              "#f0f921"
             ]
            ],
            "type": "histogram2dcontour"
           }
          ],
          "mesh3d": [
           {
            "colorbar": {
             "outlinewidth": 0,
             "ticks": ""
            },
            "type": "mesh3d"
           }
          ],
          "parcoords": [
           {
            "line": {
             "colorbar": {
              "outlinewidth": 0,
              "ticks": ""
             }
            },
            "type": "parcoords"
           }
          ],
          "pie": [
           {
            "automargin": true,
            "type": "pie"
           }
          ],
          "scatter": [
           {
            "fillpattern": {
             "fillmode": "overlay",
             "size": 10,
             "solidity": 0.2
            },
            "type": "scatter"
           }
          ],
          "scatter3d": [
           {
            "line": {
             "colorbar": {
              "outlinewidth": 0,
              "ticks": ""
             }
            },
            "marker": {
             "colorbar": {
              "outlinewidth": 0,
              "ticks": ""
             }
            },
            "type": "scatter3d"
           }
          ],
          "scattercarpet": [
           {
            "marker": {
             "colorbar": {
              "outlinewidth": 0,
              "ticks": ""
             }
            },
            "type": "scattercarpet"
           }
          ],
          "scattergeo": [
           {
            "marker": {
             "colorbar": {
              "outlinewidth": 0,
              "ticks": ""
             }
            },
            "type": "scattergeo"
           }
          ],
          "scattergl": [
           {
            "marker": {
             "colorbar": {
              "outlinewidth": 0,
              "ticks": ""
             }
            },
            "type": "scattergl"
           }
          ],
          "scattermapbox": [
           {
            "marker": {
             "colorbar": {
              "outlinewidth": 0,
              "ticks": ""
             }
            },
            "type": "scattermapbox"
           }
          ],
          "scatterpolar": [
           {
            "marker": {
             "colorbar": {
              "outlinewidth": 0,
              "ticks": ""
             }
            },
            "type": "scatterpolar"
           }
          ],
          "scatterpolargl": [
           {
            "marker": {
             "colorbar": {
              "outlinewidth": 0,
              "ticks": ""
             }
            },
            "type": "scatterpolargl"
           }
          ],
          "scatterternary": [
           {
            "marker": {
             "colorbar": {
              "outlinewidth": 0,
              "ticks": ""
             }
            },
            "type": "scatterternary"
           }
          ],
          "surface": [
           {
            "colorbar": {
             "outlinewidth": 0,
             "ticks": ""
            },
            "colorscale": [
             [
              0,
              "#0d0887"
             ],
             [
              0.1111111111111111,
              "#46039f"
             ],
             [
              0.2222222222222222,
              "#7201a8"
             ],
             [
              0.3333333333333333,
              "#9c179e"
             ],
             [
              0.4444444444444444,
              "#bd3786"
             ],
             [
              0.5555555555555556,
              "#d8576b"
             ],
             [
              0.6666666666666666,
              "#ed7953"
             ],
             [
              0.7777777777777778,
              "#fb9f3a"
             ],
             [
              0.8888888888888888,
              "#fdca26"
             ],
             [
              1,
              "#f0f921"
             ]
            ],
            "type": "surface"
           }
          ],
          "table": [
           {
            "cells": {
             "fill": {
              "color": "#EBF0F8"
             },
             "line": {
              "color": "white"
             }
            },
            "header": {
             "fill": {
              "color": "#C8D4E3"
             },
             "line": {
              "color": "white"
             }
            },
            "type": "table"
           }
          ]
         },
         "layout": {
          "annotationdefaults": {
           "arrowcolor": "#2a3f5f",
           "arrowhead": 0,
           "arrowwidth": 1
          },
          "autotypenumbers": "strict",
          "coloraxis": {
           "colorbar": {
            "outlinewidth": 0,
            "ticks": ""
           }
          },
          "colorscale": {
           "diverging": [
            [
             0,
             "#8e0152"
            ],
            [
             0.1,
             "#c51b7d"
            ],
            [
             0.2,
             "#de77ae"
            ],
            [
             0.3,
             "#f1b6da"
            ],
            [
             0.4,
             "#fde0ef"
            ],
            [
             0.5,
             "#f7f7f7"
            ],
            [
             0.6,
             "#e6f5d0"
            ],
            [
             0.7,
             "#b8e186"
            ],
            [
             0.8,
             "#7fbc41"
            ],
            [
             0.9,
             "#4d9221"
            ],
            [
             1,
             "#276419"
            ]
           ],
           "sequential": [
            [
             0,
             "#0d0887"
            ],
            [
             0.1111111111111111,
             "#46039f"
            ],
            [
             0.2222222222222222,
             "#7201a8"
            ],
            [
             0.3333333333333333,
             "#9c179e"
            ],
            [
             0.4444444444444444,
             "#bd3786"
            ],
            [
             0.5555555555555556,
             "#d8576b"
            ],
            [
             0.6666666666666666,
             "#ed7953"
            ],
            [
             0.7777777777777778,
             "#fb9f3a"
            ],
            [
             0.8888888888888888,
             "#fdca26"
            ],
            [
             1,
             "#f0f921"
            ]
           ],
           "sequentialminus": [
            [
             0,
             "#0d0887"
            ],
            [
             0.1111111111111111,
             "#46039f"
            ],
            [
             0.2222222222222222,
             "#7201a8"
            ],
            [
             0.3333333333333333,
             "#9c179e"
            ],
            [
             0.4444444444444444,
             "#bd3786"
            ],
            [
             0.5555555555555556,
             "#d8576b"
            ],
            [
             0.6666666666666666,
             "#ed7953"
            ],
            [
             0.7777777777777778,
             "#fb9f3a"
            ],
            [
             0.8888888888888888,
             "#fdca26"
            ],
            [
             1,
             "#f0f921"
            ]
           ]
          },
          "colorway": [
           "#636efa",
           "#EF553B",
           "#00cc96",
           "#ab63fa",
           "#FFA15A",
           "#19d3f3",
           "#FF6692",
           "#B6E880",
           "#FF97FF",
           "#FECB52"
          ],
          "font": {
           "color": "#2a3f5f"
          },
          "geo": {
           "bgcolor": "white",
           "lakecolor": "white",
           "landcolor": "#E5ECF6",
           "showlakes": true,
           "showland": true,
           "subunitcolor": "white"
          },
          "hoverlabel": {
           "align": "left"
          },
          "hovermode": "closest",
          "mapbox": {
           "style": "light"
          },
          "paper_bgcolor": "white",
          "plot_bgcolor": "#E5ECF6",
          "polar": {
           "angularaxis": {
            "gridcolor": "white",
            "linecolor": "white",
            "ticks": ""
           },
           "bgcolor": "#E5ECF6",
           "radialaxis": {
            "gridcolor": "white",
            "linecolor": "white",
            "ticks": ""
           }
          },
          "scene": {
           "xaxis": {
            "backgroundcolor": "#E5ECF6",
            "gridcolor": "white",
            "gridwidth": 2,
            "linecolor": "white",
            "showbackground": true,
            "ticks": "",
            "zerolinecolor": "white"
           },
           "yaxis": {
            "backgroundcolor": "#E5ECF6",
            "gridcolor": "white",
            "gridwidth": 2,
            "linecolor": "white",
            "showbackground": true,
            "ticks": "",
            "zerolinecolor": "white"
           },
           "zaxis": {
            "backgroundcolor": "#E5ECF6",
            "gridcolor": "white",
            "gridwidth": 2,
            "linecolor": "white",
            "showbackground": true,
            "ticks": "",
            "zerolinecolor": "white"
           }
          },
          "shapedefaults": {
           "line": {
            "color": "#2a3f5f"
           }
          },
          "ternary": {
           "aaxis": {
            "gridcolor": "white",
            "linecolor": "white",
            "ticks": ""
           },
           "baxis": {
            "gridcolor": "white",
            "linecolor": "white",
            "ticks": ""
           },
           "bgcolor": "#E5ECF6",
           "caxis": {
            "gridcolor": "white",
            "linecolor": "white",
            "ticks": ""
           }
          },
          "title": {
           "x": 0.05
          },
          "xaxis": {
           "automargin": true,
           "gridcolor": "white",
           "linecolor": "white",
           "ticks": "",
           "title": {
            "standoff": 15
           },
           "zerolinecolor": "white",
           "zerolinewidth": 2
          },
          "yaxis": {
           "automargin": true,
           "gridcolor": "white",
           "linecolor": "white",
           "ticks": "",
           "title": {
            "standoff": 15
           },
           "zerolinecolor": "white",
           "zerolinewidth": 2
          }
         }
        },
        "title": {
         "text": "Average Topic Prevalence over Epistemology"
        },
        "width": 1600,
        "xaxis": {
         "anchor": "y",
         "domain": [
          0,
          1
         ],
         "title": {
          "text": "ReasoningLevel"
         }
        },
        "yaxis": {
         "anchor": "x",
         "domain": [
          0,
          1
         ],
         "title": {
          "text": "Prevalence (percent)"
         }
        }
       }
      }
     },
     "metadata": {},
     "output_type": "display_data"
    }
   ],
   "source": [
    "# Prevelance for Epistemology\n",
    "\n",
    "#plotlydata = df.groupby('year').agg('mean').rolling(3, min_periods=3, win_type='triang').mean().dropna()\n",
    "plotlydata = df.groupby('ReasoningLevel').agg('mean').rolling(3, min_periods=3, win_type='triang').mean().dropna()\n",
    "#plotlydata['Years'] = plotlydata.index.values\n",
    "plotlydata['ReasoningLevel'] = plotlydata.index.values\n",
    "#plotlydata = plotlydata[plotlydata['Years']<2020]\n",
    "#plotlydata = plotlydata[plotlydata['ArgumentLevel']]\n",
    "\n",
    "#tidy_df = plotlydata.melt(id_vars=\"Years\", var_name = \"Topic\", value_name = \"Prevalence (percent)\") \n",
    "tidy_df = plotlydata.melt(id_vars=\"ReasoningLevel\", var_name = \"Topic\", value_name = \"Prevalence (percent)\") \n",
    "tidy_df['words'] = ''\n",
    "for t in range(num_topics):\n",
    "    formattedlist = [topic[0] for topic in lda_model.show_topics(num_topics = 25, formatted=False, num_words = 5)[t][1]]\n",
    "    print('Topic {}:'.format(t), ', '.join(formattedlist))\n",
    "    tidy_df.loc[tidy_df['Topic'] == t, 'words'] = ', '.join(formattedlist)\n",
    "\n",
    "# fig = px.line(tidy_df, x=\"Years\", y=\"Prevalence (percent)\", color='Topic', line_dash = \"Topic\", \n",
    "#               hover_data = ['words'], title = 'Average Topic Prevalence over Time', width=1200, height=800)\n",
    "# fig.show()\n",
    "\n",
    "fig = px.line(tidy_df, x=\"ReasoningLevel\", y=\"Prevalence (percent)\", color='Topic', line_dash = \"Topic\", \n",
    "              hover_data = ['words'], title = 'Average Topic Prevalence over Epistemology', width=1600, height=800)\n",
    "fig.show()"
   ]
  },
  {
   "cell_type": "markdown",
   "metadata": {},
   "source": [
    "Here, we can see that there are definite trends over time. For example, there's an early focus on topic 18, which seems to be about \"natural philosophy. Prior to 1970 theres a big focus on topic 20, which seems to be about \n",
    "\n",
    "Another way to look at this is by just adding up the fractional contributions of papers, without averaging. This means that the graph will be more sentitive to year-to-year variations in numbers of articles published, but that provides some interesting information too. Here, the y-axis can be interpreted as a measure of the total number of papers published a topic each year."
   ]
  },
  {
   "attachments": {},
   "cell_type": "markdown",
   "metadata": {},
   "source": [
    "##### Efia - this could be useful for the analysis of year 1 and year 2 documents separately."
   ]
  },
  {
   "cell_type": "code",
   "execution_count": 80,
   "metadata": {},
   "outputs": [
    {
     "ename": "KeyError",
     "evalue": "'year'",
     "output_type": "error",
     "traceback": [
      "\u001b[1;31m---------------------------------------------------------------------------\u001b[0m",
      "\u001b[1;31mKeyError\u001b[0m                                  Traceback (most recent call last)",
      "Cell \u001b[1;32mIn[80], line 1\u001b[0m\n\u001b[1;32m----> 1\u001b[0m plotlydata \u001b[39m=\u001b[39m df\u001b[39m.\u001b[39;49mgroupby(\u001b[39m'\u001b[39;49m\u001b[39myear\u001b[39;49m\u001b[39m'\u001b[39;49m)\u001b[39m.\u001b[39magg(\u001b[39m'\u001b[39m\u001b[39msum\u001b[39m\u001b[39m'\u001b[39m)\u001b[39m.\u001b[39mrolling(\u001b[39m3\u001b[39m, min_periods\u001b[39m=\u001b[39m\u001b[39m3\u001b[39m, win_type\u001b[39m=\u001b[39m\u001b[39m'\u001b[39m\u001b[39mtriang\u001b[39m\u001b[39m'\u001b[39m)\u001b[39m.\u001b[39mmean()\u001b[39m.\u001b[39mdropna()\n\u001b[0;32m      2\u001b[0m plotlydata[\u001b[39m'\u001b[39m\u001b[39mYears\u001b[39m\u001b[39m'\u001b[39m] \u001b[39m=\u001b[39m plotlydata\u001b[39m.\u001b[39mindex\u001b[39m.\u001b[39mvalues\n\u001b[0;32m      3\u001b[0m plotlydata \u001b[39m=\u001b[39m plotlydata[plotlydata[\u001b[39m'\u001b[39m\u001b[39mYears\u001b[39m\u001b[39m'\u001b[39m]\u001b[39m<\u001b[39m\u001b[39m2020\u001b[39m]\n",
      "File \u001b[1;32mc:\\Users\\EfiaA\\Anaconda3\\lib\\site-packages\\pandas\\core\\frame.py:6717\u001b[0m, in \u001b[0;36mDataFrame.groupby\u001b[1;34m(self, by, axis, level, as_index, sort, group_keys, squeeze, observed, dropna)\u001b[0m\n\u001b[0;32m   6714\u001b[0m     \u001b[39mraise\u001b[39;00m \u001b[39mTypeError\u001b[39;00m(\u001b[39m\"\u001b[39m\u001b[39mYou have to supply one of \u001b[39m\u001b[39m'\u001b[39m\u001b[39mby\u001b[39m\u001b[39m'\u001b[39m\u001b[39m and \u001b[39m\u001b[39m'\u001b[39m\u001b[39mlevel\u001b[39m\u001b[39m'\u001b[39m\u001b[39m\"\u001b[39m)\n\u001b[0;32m   6715\u001b[0m axis \u001b[39m=\u001b[39m \u001b[39mself\u001b[39m\u001b[39m.\u001b[39m_get_axis_number(axis)\n\u001b[1;32m-> 6717\u001b[0m \u001b[39mreturn\u001b[39;00m DataFrameGroupBy(\n\u001b[0;32m   6718\u001b[0m     obj\u001b[39m=\u001b[39;49m\u001b[39mself\u001b[39;49m,\n\u001b[0;32m   6719\u001b[0m     keys\u001b[39m=\u001b[39;49mby,\n\u001b[0;32m   6720\u001b[0m     axis\u001b[39m=\u001b[39;49maxis,\n\u001b[0;32m   6721\u001b[0m     level\u001b[39m=\u001b[39;49mlevel,\n\u001b[0;32m   6722\u001b[0m     as_index\u001b[39m=\u001b[39;49mas_index,\n\u001b[0;32m   6723\u001b[0m     sort\u001b[39m=\u001b[39;49msort,\n\u001b[0;32m   6724\u001b[0m     group_keys\u001b[39m=\u001b[39;49mgroup_keys,\n\u001b[0;32m   6725\u001b[0m     squeeze\u001b[39m=\u001b[39;49msqueeze,\n\u001b[0;32m   6726\u001b[0m     observed\u001b[39m=\u001b[39;49mobserved,\n\u001b[0;32m   6727\u001b[0m     dropna\u001b[39m=\u001b[39;49mdropna,\n\u001b[0;32m   6728\u001b[0m )\n",
      "File \u001b[1;32mc:\\Users\\EfiaA\\Anaconda3\\lib\\site-packages\\pandas\\core\\groupby\\groupby.py:560\u001b[0m, in \u001b[0;36mBaseGroupBy.__init__\u001b[1;34m(self, obj, keys, axis, level, grouper, exclusions, selection, as_index, sort, group_keys, squeeze, observed, mutated, dropna)\u001b[0m\n\u001b[0;32m    557\u001b[0m \u001b[39mif\u001b[39;00m grouper \u001b[39mis\u001b[39;00m \u001b[39mNone\u001b[39;00m:\n\u001b[0;32m    558\u001b[0m     \u001b[39mfrom\u001b[39;00m \u001b[39mpandas\u001b[39;00m\u001b[39m.\u001b[39;00m\u001b[39mcore\u001b[39;00m\u001b[39m.\u001b[39;00m\u001b[39mgroupby\u001b[39;00m\u001b[39m.\u001b[39;00m\u001b[39mgrouper\u001b[39;00m \u001b[39mimport\u001b[39;00m get_grouper\n\u001b[1;32m--> 560\u001b[0m     grouper, exclusions, obj \u001b[39m=\u001b[39m get_grouper(\n\u001b[0;32m    561\u001b[0m         obj,\n\u001b[0;32m    562\u001b[0m         keys,\n\u001b[0;32m    563\u001b[0m         axis\u001b[39m=\u001b[39;49maxis,\n\u001b[0;32m    564\u001b[0m         level\u001b[39m=\u001b[39;49mlevel,\n\u001b[0;32m    565\u001b[0m         sort\u001b[39m=\u001b[39;49msort,\n\u001b[0;32m    566\u001b[0m         observed\u001b[39m=\u001b[39;49mobserved,\n\u001b[0;32m    567\u001b[0m         mutated\u001b[39m=\u001b[39;49m\u001b[39mself\u001b[39;49m\u001b[39m.\u001b[39;49mmutated,\n\u001b[0;32m    568\u001b[0m         dropna\u001b[39m=\u001b[39;49m\u001b[39mself\u001b[39;49m\u001b[39m.\u001b[39;49mdropna,\n\u001b[0;32m    569\u001b[0m     )\n\u001b[0;32m    571\u001b[0m \u001b[39mself\u001b[39m\u001b[39m.\u001b[39mobj \u001b[39m=\u001b[39m obj\n\u001b[0;32m    572\u001b[0m \u001b[39mself\u001b[39m\u001b[39m.\u001b[39maxis \u001b[39m=\u001b[39m obj\u001b[39m.\u001b[39m_get_axis_number(axis)\n",
      "File \u001b[1;32mc:\\Users\\EfiaA\\Anaconda3\\lib\\site-packages\\pandas\\core\\groupby\\grouper.py:811\u001b[0m, in \u001b[0;36mget_grouper\u001b[1;34m(obj, key, axis, level, sort, observed, mutated, validate, dropna)\u001b[0m\n\u001b[0;32m    809\u001b[0m         in_axis, name, level, gpr \u001b[39m=\u001b[39m \u001b[39mFalse\u001b[39;00m, \u001b[39mNone\u001b[39;00m, gpr, \u001b[39mNone\u001b[39;00m\n\u001b[0;32m    810\u001b[0m     \u001b[39melse\u001b[39;00m:\n\u001b[1;32m--> 811\u001b[0m         \u001b[39mraise\u001b[39;00m \u001b[39mKeyError\u001b[39;00m(gpr)\n\u001b[0;32m    812\u001b[0m \u001b[39melif\u001b[39;00m \u001b[39misinstance\u001b[39m(gpr, Grouper) \u001b[39mand\u001b[39;00m gpr\u001b[39m.\u001b[39mkey \u001b[39mis\u001b[39;00m \u001b[39mnot\u001b[39;00m \u001b[39mNone\u001b[39;00m:\n\u001b[0;32m    813\u001b[0m     \u001b[39m# Add key to exclusions\u001b[39;00m\n\u001b[0;32m    814\u001b[0m     exclusions\u001b[39m.\u001b[39madd(gpr\u001b[39m.\u001b[39mkey)\n",
      "\u001b[1;31mKeyError\u001b[0m: 'year'"
     ]
    }
   ],
   "source": [
    "# plotlydata = df.groupby('year').agg('sum').rolling(3, min_periods=3, win_type='triang').mean().dropna()\n",
    "# plotlydata['Years'] = plotlydata.index.values\n",
    "# plotlydata = plotlydata[plotlydata['Years']<2020]\n",
    "\n",
    "# tidy_df = plotlydata.melt(id_vars=\"Years\", var_name = \"Topic\", value_name = \"Cumulative Documents\") \n",
    "\n",
    "# tidy_df['words'] = ''\n",
    "# for t in range(num_topics):\n",
    "#     formattedlist = [topic[0] for topic in lda_model.show_topics(num_topics = 25, formatted=False, num_words = 5)[t][1]]\n",
    "#     print('Topic {}:'.format(t), ', '.join(formattedlist))\n",
    "#     tidy_df.loc[tidy_df['Topic'] == t, 'words'] = ', '.join(formattedlist)\n",
    "\n",
    "# fig = px.line(tidy_df, x=\"Years\", y=\"Cumulative Documents\", color='Topic', line_dash = 'Topic', \n",
    "#               hover_data = ['words'],title = 'Cumulative Topic Prevalence over Time', width=1200, height=800)\n",
    "# fig.show()"
   ]
  },
  {
   "cell_type": "markdown",
   "metadata": {},
   "source": [
    "Although the plot is somewhat crowded, there are..."
   ]
  },
  {
   "cell_type": "markdown",
   "metadata": {},
   "source": [
    "## V. Conclusions\n",
    "\n",
    "In conclusion, we are able to see some interesting trends over time here. We are still working on understanding where these trends might come from. More to come on this soon!"
   ]
  },
  {
   "cell_type": "markdown",
   "metadata": {},
   "source": [
    "# References\n",
    "\n",
    "1. Hoffman, M. D., Blei, D. M. & Bach, F. Online Learning for Latent Dirichlet Allocation (Supplementary Material). Nature 0, 1–9 (2010).\n",
    "2. Newman, D., Lau, J. H., Grieser, K. & Baldwin, T. Automatic evaluation of topic coherence. in NAACL HLT 2010 - Human Language Technologies: The 2010 Annual Conference of the North American Chapter of the Association for Computational Linguistics, Proceedings of the Main Conference 100–108 (2010).\n",
    "3. Röder, M., Both, A. & Hinneburg, A. Exploring the space of topic coherence measures. WSDM 2015 - Proc. 8th ACM Int. Conf. Web Search Data Min. 399–408 (2015). doi:10.1145/2684822.2685324"
   ]
  }
 ],
 "metadata": {
  "kernelspec": {
   "display_name": "base",
   "language": "python",
   "name": "python3"
  },
  "language_info": {
   "codemirror_mode": {
    "name": "ipython",
    "version": 3
   },
   "file_extension": ".py",
   "mimetype": "text/x-python",
   "name": "python",
   "nbconvert_exporter": "python",
   "pygments_lexer": "ipython3",
   "version": "3.8.8"
  },
  "vscode": {
   "interpreter": {
    "hash": "7bf9169aea3bf43030d2045b9506020b24091b3061df9b5cfee19d2eac11c6ed"
   }
  }
 },
 "nbformat": 4,
 "nbformat_minor": 2
}
